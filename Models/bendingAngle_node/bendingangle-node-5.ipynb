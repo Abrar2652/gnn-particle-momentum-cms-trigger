{
 "cells": [
  {
   "cell_type": "markdown",
   "id": "66ff85bd",
   "metadata": {
    "_cell_guid": "b1076dfc-b9ad-4769-8c92-a6c4dae69d19",
    "_uuid": "8f2839f25d086af736a60e9eeb907d3b93b6e0e5",
    "execution": {
     "iopub.execute_input": "2024-06-08T07:17:31.61566Z",
     "iopub.status.busy": "2024-06-08T07:17:31.615311Z",
     "iopub.status.idle": "2024-06-08T07:17:31.621747Z",
     "shell.execute_reply": "2024-06-08T07:17:31.620642Z",
     "shell.execute_reply.started": "2024-06-08T07:17:31.615631Z"
    },
    "papermill": {
     "duration": 0.021479,
     "end_time": "2025-05-06T19:51:08.076020",
     "exception": false,
     "start_time": "2025-05-06T19:51:08.054541",
     "status": "completed"
    },
    "tags": []
   },
   "source": [
    "# SETTING UP THE ENV"
   ]
  },
  {
   "cell_type": "markdown",
   "id": "e7c64476",
   "metadata": {
    "papermill": {
     "duration": 0.018768,
     "end_time": "2025-05-06T19:51:08.114923",
     "exception": false,
     "start_time": "2025-05-06T19:51:08.096155",
     "status": "completed"
    },
    "tags": []
   },
   "source": [
    "Lets impot Libraries"
   ]
  },
  {
   "cell_type": "code",
   "execution_count": 1,
   "id": "19510b8a",
   "metadata": {
    "execution": {
     "iopub.execute_input": "2025-05-06T19:51:08.153877Z",
     "iopub.status.busy": "2025-05-06T19:51:08.153583Z",
     "iopub.status.idle": "2025-05-06T19:51:12.941455Z",
     "shell.execute_reply": "2025-05-06T19:51:12.940741Z"
    },
    "papermill": {
     "duration": 4.808963,
     "end_time": "2025-05-06T19:51:12.942840",
     "exception": false,
     "start_time": "2025-05-06T19:51:08.133877",
     "status": "completed"
    },
    "scrolled": true,
    "tags": []
   },
   "outputs": [
    {
     "name": "stdout",
     "output_type": "stream",
     "text": [
      "Collecting torch-geometric\r\n",
      "  Downloading torch_geometric-2.6.1-py3-none-any.whl.metadata (63 kB)\r\n",
      "\u001b[2K     \u001b[90m━━━━━━━━━━━━━━━━━━━━━━━━━━━━━━━━━━━━━━━━\u001b[0m \u001b[32m63.1/63.1 kB\u001b[0m \u001b[31m3.4 MB/s\u001b[0m eta \u001b[36m0:00:00\u001b[0m\r\n",
      "\u001b[?25hRequirement already satisfied: aiohttp in /usr/local/lib/python3.11/dist-packages (from torch-geometric) (3.11.16)\r\n",
      "Requirement already satisfied: fsspec in /usr/local/lib/python3.11/dist-packages (from torch-geometric) (2025.3.2)\r\n",
      "Requirement already satisfied: jinja2 in /usr/local/lib/python3.11/dist-packages (from torch-geometric) (3.1.6)\r\n",
      "Requirement already satisfied: numpy in /usr/local/lib/python3.11/dist-packages (from torch-geometric) (1.26.4)\r\n",
      "Requirement already satisfied: psutil>=5.8.0 in /usr/local/lib/python3.11/dist-packages (from torch-geometric) (7.0.0)\r\n",
      "Requirement already satisfied: pyparsing in /usr/local/lib/python3.11/dist-packages (from torch-geometric) (3.2.1)\r\n",
      "Requirement already satisfied: requests in /usr/local/lib/python3.11/dist-packages (from torch-geometric) (2.32.3)\r\n",
      "Requirement already satisfied: tqdm in /usr/local/lib/python3.11/dist-packages (from torch-geometric) (4.67.1)\r\n",
      "Requirement already satisfied: aiohappyeyeballs>=2.3.0 in /usr/local/lib/python3.11/dist-packages (from aiohttp->torch-geometric) (2.6.1)\r\n",
      "Requirement already satisfied: aiosignal>=1.1.2 in /usr/local/lib/python3.11/dist-packages (from aiohttp->torch-geometric) (1.3.2)\r\n",
      "Requirement already satisfied: attrs>=17.3.0 in /usr/local/lib/python3.11/dist-packages (from aiohttp->torch-geometric) (25.3.0)\r\n",
      "Requirement already satisfied: frozenlist>=1.1.1 in /usr/local/lib/python3.11/dist-packages (from aiohttp->torch-geometric) (1.5.0)\r\n",
      "Requirement already satisfied: multidict<7.0,>=4.5 in /usr/local/lib/python3.11/dist-packages (from aiohttp->torch-geometric) (6.2.0)\r\n",
      "Requirement already satisfied: propcache>=0.2.0 in /usr/local/lib/python3.11/dist-packages (from aiohttp->torch-geometric) (0.3.1)\r\n",
      "Requirement already satisfied: yarl<2.0,>=1.17.0 in /usr/local/lib/python3.11/dist-packages (from aiohttp->torch-geometric) (1.19.0)\r\n",
      "Requirement already satisfied: MarkupSafe>=2.0 in /usr/local/lib/python3.11/dist-packages (from jinja2->torch-geometric) (3.0.2)\r\n",
      "Requirement already satisfied: mkl_fft in /usr/local/lib/python3.11/dist-packages (from numpy->torch-geometric) (1.3.8)\r\n",
      "Requirement already satisfied: mkl_random in /usr/local/lib/python3.11/dist-packages (from numpy->torch-geometric) (1.2.4)\r\n",
      "Requirement already satisfied: mkl_umath in /usr/local/lib/python3.11/dist-packages (from numpy->torch-geometric) (0.1.1)\r\n",
      "Requirement already satisfied: mkl in /usr/local/lib/python3.11/dist-packages (from numpy->torch-geometric) (2025.1.0)\r\n",
      "Requirement already satisfied: tbb4py in /usr/local/lib/python3.11/dist-packages (from numpy->torch-geometric) (2022.1.0)\r\n",
      "Requirement already satisfied: mkl-service in /usr/local/lib/python3.11/dist-packages (from numpy->torch-geometric) (2.4.1)\r\n",
      "Requirement already satisfied: charset-normalizer<4,>=2 in /usr/local/lib/python3.11/dist-packages (from requests->torch-geometric) (3.4.1)\r\n",
      "Requirement already satisfied: idna<4,>=2.5 in /usr/local/lib/python3.11/dist-packages (from requests->torch-geometric) (3.10)\r\n",
      "Requirement already satisfied: urllib3<3,>=1.21.1 in /usr/local/lib/python3.11/dist-packages (from requests->torch-geometric) (2.3.0)\r\n",
      "Requirement already satisfied: certifi>=2017.4.17 in /usr/local/lib/python3.11/dist-packages (from requests->torch-geometric) (2025.1.31)\r\n",
      "Requirement already satisfied: intel-openmp<2026,>=2024 in /usr/local/lib/python3.11/dist-packages (from mkl->numpy->torch-geometric) (2024.2.0)\r\n",
      "Requirement already satisfied: tbb==2022.* in /usr/local/lib/python3.11/dist-packages (from mkl->numpy->torch-geometric) (2022.1.0)\r\n",
      "Requirement already satisfied: tcmlib==1.* in /usr/local/lib/python3.11/dist-packages (from tbb==2022.*->mkl->numpy->torch-geometric) (1.2.0)\r\n",
      "Requirement already satisfied: intel-cmplr-lib-rt in /usr/local/lib/python3.11/dist-packages (from mkl_umath->numpy->torch-geometric) (2024.2.0)\r\n",
      "Requirement already satisfied: intel-cmplr-lib-ur==2024.2.0 in /usr/local/lib/python3.11/dist-packages (from intel-openmp<2026,>=2024->mkl->numpy->torch-geometric) (2024.2.0)\r\n",
      "Downloading torch_geometric-2.6.1-py3-none-any.whl (1.1 MB)\r\n",
      "\u001b[2K   \u001b[90m━━━━━━━━━━━━━━━━━━━━━━━━━━━━━━━━━━━━━━━━\u001b[0m \u001b[32m1.1/1.1 MB\u001b[0m \u001b[31m31.9 MB/s\u001b[0m eta \u001b[36m0:00:00\u001b[0m\r\n",
      "\u001b[?25hInstalling collected packages: torch-geometric\r\n",
      "Successfully installed torch-geometric-2.6.1\r\n"
     ]
    }
   ],
   "source": [
    "#download necessary libraries\n",
    "\n",
    "!pip install torch-geometric"
   ]
  },
  {
   "cell_type": "code",
   "execution_count": 2,
   "id": "ccfb5d2e",
   "metadata": {
    "execution": {
     "iopub.execute_input": "2025-05-06T19:51:12.983445Z",
     "iopub.status.busy": "2025-05-06T19:51:12.983199Z",
     "iopub.status.idle": "2025-05-06T19:51:17.005114Z",
     "shell.execute_reply": "2025-05-06T19:51:17.004194Z"
    },
    "papermill": {
     "duration": 4.043362,
     "end_time": "2025-05-06T19:51:17.006324",
     "exception": false,
     "start_time": "2025-05-06T19:51:12.962962",
     "status": "completed"
    },
    "tags": []
   },
   "outputs": [
    {
     "name": "stdout",
     "output_type": "stream",
     "text": [
      "2.5.1+cu124\n",
      "12.4\n"
     ]
    }
   ],
   "source": [
    "import sys\n",
    "sys.path.append('/kaggle/working')\n",
    "# !ls /kaggle/working\n",
    "import torch\n",
    "print(torch.__version__)\n",
    "print(torch.version.cuda)"
   ]
  },
  {
   "cell_type": "code",
   "execution_count": 3,
   "id": "55ba0e92",
   "metadata": {
    "execution": {
     "iopub.execute_input": "2025-05-06T19:51:17.046805Z",
     "iopub.status.busy": "2025-05-06T19:51:17.046490Z",
     "iopub.status.idle": "2025-05-06T19:51:23.338062Z",
     "shell.execute_reply": "2025-05-06T19:51:23.337492Z"
    },
    "papermill": {
     "duration": 6.312984,
     "end_time": "2025-05-06T19:51:23.339420",
     "exception": false,
     "start_time": "2025-05-06T19:51:17.026436",
     "status": "completed"
    },
    "tags": []
   },
   "outputs": [],
   "source": [
    "from typing import Union, Tuple\n",
    "from torch_geometric.typing import OptPairTensor, Adj, Size # Optional[Tensor], Union[Tensor, SparseTensor], Optional[Tuple[int, int]], all about data type\n",
    "\n",
    "from torch import Tensor\n",
    "from torch.nn import Linear\n",
    "import torch.nn.functional as F\n",
    "from torch_geometric.nn.conv import MessagePassing"
   ]
  },
  {
   "cell_type": "code",
   "execution_count": 4,
   "id": "d942ef9b",
   "metadata": {
    "execution": {
     "iopub.execute_input": "2025-05-06T19:51:23.422920Z",
     "iopub.status.busy": "2025-05-06T19:51:23.422488Z",
     "iopub.status.idle": "2025-05-06T19:51:26.223031Z",
     "shell.execute_reply": "2025-05-06T19:51:26.222208Z"
    },
    "papermill": {
     "duration": 2.822383,
     "end_time": "2025-05-06T19:51:26.224447",
     "exception": false,
     "start_time": "2025-05-06T19:51:23.402064",
     "status": "completed"
    },
    "tags": []
   },
   "outputs": [],
   "source": [
    "import warnings\n",
    "warnings.filterwarnings(\"ignore\")\n",
    "import os\n",
    "import time\n",
    "import random\n",
    "from tqdm.notebook import tqdm\n",
    "import pandas as pd\n",
    "import numpy as np\n",
    "import matplotlib.pyplot as plt\n",
    "\n",
    "from joblib import Parallel, delayed\n",
    "\n",
    "from sklearn.preprocessing import StandardScaler, MinMaxScaler\n",
    "from sklearn.model_selection import train_test_split\n",
    "\n",
    "import torch\n",
    "import torch.nn.functional as F\n",
    "import torch_geometric.nn as gnn\n",
    "from torch_geometric.nn import MessagePassing\n",
    "from torch_geometric.data import Dataset, Data, DataLoader\n",
    "from torch_geometric.nn import global_mean_pool as gap, global_max_pool as gmp\n",
    "from torch_geometric.utils import softmax\n",
    "from sklearn.metrics import r2_score\n",
    "from sklearn.neighbors import NearestNeighbors"
   ]
  },
  {
   "cell_type": "markdown",
   "id": "869c0f63",
   "metadata": {
    "papermill": {
     "duration": 0.020303,
     "end_time": "2025-05-06T19:51:26.264903",
     "exception": false,
     "start_time": "2025-05-06T19:51:26.244600",
     "status": "completed"
    },
    "tags": []
   },
   "source": [
    "# Pre Processing"
   ]
  },
  {
   "cell_type": "code",
   "execution_count": 5,
   "id": "c413ca99",
   "metadata": {
    "execution": {
     "iopub.execute_input": "2025-05-06T19:51:26.304968Z",
     "iopub.status.busy": "2025-05-06T19:51:26.304186Z",
     "iopub.status.idle": "2025-05-06T19:51:31.727304Z",
     "shell.execute_reply": "2025-05-06T19:51:31.726410Z"
    },
    "papermill": {
     "duration": 5.444294,
     "end_time": "2025-05-06T19:51:31.728509",
     "exception": false,
     "start_time": "2025-05-06T19:51:26.284215",
     "status": "completed"
    },
    "tags": []
   },
   "outputs": [
    {
     "name": "stdout",
     "output_type": "stream",
     "text": [
      "Index(['Unnamed: 0', 'Phi_0', 'Phi_2', 'Phi_3', 'Phi_4', 'Theta_0', 'Theta_2',\n",
      "       'Theta_3', 'Theta_4', 'BendingAngle_0', 'BendingAngle_2',\n",
      "       'BendingAngle_3', 'BendingAngle_4', 'TimeInfo_0', 'TimeInfo_2',\n",
      "       'TimeInfo_3', 'TimeInfo_4', 'RingNumber_0', 'RingNumber_2',\n",
      "       'RingNumber_3', 'RingNumber_4', 'Front_0', 'Front_2', 'Front_3',\n",
      "       'Front_4', 'Mask_0', 'Mask_2', 'Mask_3', 'Mask_4',\n",
      "       'PatternStraightness', 'Zone', 'MedianTheta', 'q/pt', 'PhiAngle',\n",
      "       'EtaAngle'],\n",
      "      dtype='object')\n"
     ]
    }
   ],
   "source": [
    "df = pd.read_csv('/kaggle/input/cms-dataset/CMS_trigger.csv')\n",
    "print(df.columns)"
   ]
  },
  {
   "cell_type": "code",
   "execution_count": 6,
   "id": "834efc40",
   "metadata": {
    "execution": {
     "iopub.execute_input": "2025-05-06T19:51:31.769160Z",
     "iopub.status.busy": "2025-05-06T19:51:31.768927Z",
     "iopub.status.idle": "2025-05-06T19:51:31.800044Z",
     "shell.execute_reply": "2025-05-06T19:51:31.799391Z"
    },
    "papermill": {
     "duration": 0.052424,
     "end_time": "2025-05-06T19:51:31.801050",
     "exception": false,
     "start_time": "2025-05-06T19:51:31.748626",
     "status": "completed"
    },
    "tags": []
   },
   "outputs": [
    {
     "data": {
      "text/html": [
       "<div>\n",
       "<style scoped>\n",
       "    .dataframe tbody tr th:only-of-type {\n",
       "        vertical-align: middle;\n",
       "    }\n",
       "\n",
       "    .dataframe tbody tr th {\n",
       "        vertical-align: top;\n",
       "    }\n",
       "\n",
       "    .dataframe thead th {\n",
       "        text-align: right;\n",
       "    }\n",
       "</style>\n",
       "<table border=\"1\" class=\"dataframe\">\n",
       "  <thead>\n",
       "    <tr style=\"text-align: right;\">\n",
       "      <th></th>\n",
       "      <th>Unnamed: 0</th>\n",
       "      <th>Phi_0</th>\n",
       "      <th>Phi_2</th>\n",
       "      <th>Phi_3</th>\n",
       "      <th>Phi_4</th>\n",
       "      <th>Theta_0</th>\n",
       "      <th>Theta_2</th>\n",
       "      <th>Theta_3</th>\n",
       "      <th>Theta_4</th>\n",
       "      <th>BendingAngle_0</th>\n",
       "      <th>...</th>\n",
       "      <th>Mask_0</th>\n",
       "      <th>Mask_2</th>\n",
       "      <th>Mask_3</th>\n",
       "      <th>Mask_4</th>\n",
       "      <th>PatternStraightness</th>\n",
       "      <th>Zone</th>\n",
       "      <th>MedianTheta</th>\n",
       "      <th>q/pt</th>\n",
       "      <th>PhiAngle</th>\n",
       "      <th>EtaAngle</th>\n",
       "    </tr>\n",
       "  </thead>\n",
       "  <tbody>\n",
       "    <tr>\n",
       "      <th>0</th>\n",
       "      <td>0</td>\n",
       "      <td>58.066666</td>\n",
       "      <td>55.466667</td>\n",
       "      <td>55.466667</td>\n",
       "      <td>56.000000</td>\n",
       "      <td>11.970</td>\n",
       "      <td>11.684999</td>\n",
       "      <td>11.400</td>\n",
       "      <td>11.400</td>\n",
       "      <td>-13.000000</td>\n",
       "      <td>...</td>\n",
       "      <td>0.0</td>\n",
       "      <td>0.0</td>\n",
       "      <td>0.0</td>\n",
       "      <td>0.0</td>\n",
       "      <td>5.0</td>\n",
       "      <td>3.0</td>\n",
       "      <td>105.0</td>\n",
       "      <td>0.181209</td>\n",
       "      <td>-3.075936</td>\n",
       "      <td>1.722345</td>\n",
       "    </tr>\n",
       "    <tr>\n",
       "      <th>1</th>\n",
       "      <td>1</td>\n",
       "      <td>64.583336</td>\n",
       "      <td>66.800000</td>\n",
       "      <td>67.066666</td>\n",
       "      <td>67.200000</td>\n",
       "      <td>6.555</td>\n",
       "      <td>6.840000</td>\n",
       "      <td>6.555</td>\n",
       "      <td>6.840</td>\n",
       "      <td>7.000000</td>\n",
       "      <td>...</td>\n",
       "      <td>0.0</td>\n",
       "      <td>0.0</td>\n",
       "      <td>0.0</td>\n",
       "      <td>0.0</td>\n",
       "      <td>3.0</td>\n",
       "      <td>1.0</td>\n",
       "      <td>124.0</td>\n",
       "      <td>-0.146131</td>\n",
       "      <td>-0.167139</td>\n",
       "      <td>2.012122</td>\n",
       "    </tr>\n",
       "    <tr>\n",
       "      <th>2</th>\n",
       "      <td>2</td>\n",
       "      <td>71.150000</td>\n",
       "      <td>67.033330</td>\n",
       "      <td>66.266670</td>\n",
       "      <td>65.466670</td>\n",
       "      <td>2.850</td>\n",
       "      <td>2.565000</td>\n",
       "      <td>2.280</td>\n",
       "      <td>2.280</td>\n",
       "      <td>-16.613783</td>\n",
       "      <td>...</td>\n",
       "      <td>0.0</td>\n",
       "      <td>0.0</td>\n",
       "      <td>0.0</td>\n",
       "      <td>0.0</td>\n",
       "      <td>7.0</td>\n",
       "      <td>0.0</td>\n",
       "      <td>127.0</td>\n",
       "      <td>0.367024</td>\n",
       "      <td>2.431823</td>\n",
       "      <td>2.321646</td>\n",
       "    </tr>\n",
       "    <tr>\n",
       "      <th>3</th>\n",
       "      <td>3</td>\n",
       "      <td>34.933334</td>\n",
       "      <td>31.200000</td>\n",
       "      <td>31.200000</td>\n",
       "      <td>31.833334</td>\n",
       "      <td>9.690</td>\n",
       "      <td>8.835000</td>\n",
       "      <td>8.835</td>\n",
       "      <td>9.120</td>\n",
       "      <td>-13.000000</td>\n",
       "      <td>...</td>\n",
       "      <td>0.0</td>\n",
       "      <td>0.0</td>\n",
       "      <td>0.0</td>\n",
       "      <td>0.0</td>\n",
       "      <td>6.0</td>\n",
       "      <td>2.0</td>\n",
       "      <td>60.0</td>\n",
       "      <td>0.267774</td>\n",
       "      <td>-1.343305</td>\n",
       "      <td>1.854506</td>\n",
       "    </tr>\n",
       "    <tr>\n",
       "      <th>4</th>\n",
       "      <td>4</td>\n",
       "      <td>68.150000</td>\n",
       "      <td>68.266670</td>\n",
       "      <td>68.300000</td>\n",
       "      <td>68.400000</td>\n",
       "      <td>2.565</td>\n",
       "      <td>2.565000</td>\n",
       "      <td>2.565</td>\n",
       "      <td>2.565</td>\n",
       "      <td>0.000000</td>\n",
       "      <td>...</td>\n",
       "      <td>0.0</td>\n",
       "      <td>0.0</td>\n",
       "      <td>0.0</td>\n",
       "      <td>0.0</td>\n",
       "      <td>4.0</td>\n",
       "      <td>0.0</td>\n",
       "      <td>128.0</td>\n",
       "      <td>-0.019179</td>\n",
       "      <td>-3.134433</td>\n",
       "      <td>2.333772</td>\n",
       "    </tr>\n",
       "  </tbody>\n",
       "</table>\n",
       "<p>5 rows × 35 columns</p>\n",
       "</div>"
      ],
      "text/plain": [
       "   Unnamed: 0      Phi_0      Phi_2      Phi_3      Phi_4  Theta_0    Theta_2  \\\n",
       "0           0  58.066666  55.466667  55.466667  56.000000   11.970  11.684999   \n",
       "1           1  64.583336  66.800000  67.066666  67.200000    6.555   6.840000   \n",
       "2           2  71.150000  67.033330  66.266670  65.466670    2.850   2.565000   \n",
       "3           3  34.933334  31.200000  31.200000  31.833334    9.690   8.835000   \n",
       "4           4  68.150000  68.266670  68.300000  68.400000    2.565   2.565000   \n",
       "\n",
       "   Theta_3  Theta_4  BendingAngle_0  ...  Mask_0  Mask_2  Mask_3  Mask_4  \\\n",
       "0   11.400   11.400      -13.000000  ...     0.0     0.0     0.0     0.0   \n",
       "1    6.555    6.840        7.000000  ...     0.0     0.0     0.0     0.0   \n",
       "2    2.280    2.280      -16.613783  ...     0.0     0.0     0.0     0.0   \n",
       "3    8.835    9.120      -13.000000  ...     0.0     0.0     0.0     0.0   \n",
       "4    2.565    2.565        0.000000  ...     0.0     0.0     0.0     0.0   \n",
       "\n",
       "   PatternStraightness  Zone  MedianTheta      q/pt  PhiAngle  EtaAngle  \n",
       "0                  5.0   3.0        105.0  0.181209 -3.075936  1.722345  \n",
       "1                  3.0   1.0        124.0 -0.146131 -0.167139  2.012122  \n",
       "2                  7.0   0.0        127.0  0.367024  2.431823  2.321646  \n",
       "3                  6.0   2.0         60.0  0.267774 -1.343305  1.854506  \n",
       "4                  4.0   0.0        128.0 -0.019179 -3.134433  2.333772  \n",
       "\n",
       "[5 rows x 35 columns]"
      ]
     },
     "execution_count": 6,
     "metadata": {},
     "output_type": "execute_result"
    }
   ],
   "source": [
    "df.head()"
   ]
  },
  {
   "cell_type": "code",
   "execution_count": 7,
   "id": "343801de",
   "metadata": {
    "execution": {
     "iopub.execute_input": "2025-05-06T19:51:31.842278Z",
     "iopub.status.busy": "2025-05-06T19:51:31.842072Z",
     "iopub.status.idle": "2025-05-06T19:51:33.220444Z",
     "shell.execute_reply": "2025-05-06T19:51:33.219727Z"
    },
    "papermill": {
     "duration": 1.400443,
     "end_time": "2025-05-06T19:51:33.221611",
     "exception": false,
     "start_time": "2025-05-06T19:51:31.821168",
     "status": "completed"
    },
    "tags": []
   },
   "outputs": [
    {
     "data": {
      "text/html": [
       "<div>\n",
       "<style scoped>\n",
       "    .dataframe tbody tr th:only-of-type {\n",
       "        vertical-align: middle;\n",
       "    }\n",
       "\n",
       "    .dataframe tbody tr th {\n",
       "        vertical-align: top;\n",
       "    }\n",
       "\n",
       "    .dataframe thead th {\n",
       "        text-align: right;\n",
       "    }\n",
       "</style>\n",
       "<table border=\"1\" class=\"dataframe\">\n",
       "  <thead>\n",
       "    <tr style=\"text-align: right;\">\n",
       "      <th></th>\n",
       "      <th>Unnamed: 0</th>\n",
       "      <th>Phi_0</th>\n",
       "      <th>Phi_2</th>\n",
       "      <th>Phi_3</th>\n",
       "      <th>Phi_4</th>\n",
       "      <th>Theta_0</th>\n",
       "      <th>Theta_2</th>\n",
       "      <th>Theta_3</th>\n",
       "      <th>Theta_4</th>\n",
       "      <th>BendingAngle_0</th>\n",
       "      <th>...</th>\n",
       "      <th>Mask_0</th>\n",
       "      <th>Mask_2</th>\n",
       "      <th>Mask_3</th>\n",
       "      <th>Mask_4</th>\n",
       "      <th>PatternStraightness</th>\n",
       "      <th>Zone</th>\n",
       "      <th>MedianTheta</th>\n",
       "      <th>q/pt</th>\n",
       "      <th>PhiAngle</th>\n",
       "      <th>EtaAngle</th>\n",
       "    </tr>\n",
       "  </thead>\n",
       "  <tbody>\n",
       "    <tr>\n",
       "      <th>count</th>\n",
       "      <td>1.179356e+06</td>\n",
       "      <td>1.179356e+06</td>\n",
       "      <td>1.179356e+06</td>\n",
       "      <td>1.179356e+06</td>\n",
       "      <td>1.179356e+06</td>\n",
       "      <td>1.179356e+06</td>\n",
       "      <td>1.179356e+06</td>\n",
       "      <td>1.179356e+06</td>\n",
       "      <td>1.179356e+06</td>\n",
       "      <td>1.179356e+06</td>\n",
       "      <td>...</td>\n",
       "      <td>1179356.0</td>\n",
       "      <td>1179356.0</td>\n",
       "      <td>1179356.0</td>\n",
       "      <td>1179356.0</td>\n",
       "      <td>1.179356e+06</td>\n",
       "      <td>1.179356e+06</td>\n",
       "      <td>1.179356e+06</td>\n",
       "      <td>1.179356e+06</td>\n",
       "      <td>1.179356e+06</td>\n",
       "      <td>1.179356e+06</td>\n",
       "    </tr>\n",
       "    <tr>\n",
       "      <th>mean</th>\n",
       "      <td>5.896775e+05</td>\n",
       "      <td>4.851559e+01</td>\n",
       "      <td>4.851127e+01</td>\n",
       "      <td>4.851076e+01</td>\n",
       "      <td>4.851331e+01</td>\n",
       "      <td>6.195453e+00</td>\n",
       "      <td>5.918753e+00</td>\n",
       "      <td>5.848332e+00</td>\n",
       "      <td>5.881490e+00</td>\n",
       "      <td>5.603115e-02</td>\n",
       "      <td>...</td>\n",
       "      <td>0.0</td>\n",
       "      <td>0.0</td>\n",
       "      <td>0.0</td>\n",
       "      <td>0.0</td>\n",
       "      <td>3.976490e+00</td>\n",
       "      <td>1.080514e+00</td>\n",
       "      <td>9.115961e+01</td>\n",
       "      <td>5.540485e-04</td>\n",
       "      <td>8.881380e-04</td>\n",
       "      <td>8.762006e-04</td>\n",
       "    </tr>\n",
       "    <tr>\n",
       "      <th>std</th>\n",
       "      <td>3.404509e+05</td>\n",
       "      <td>1.774647e+01</td>\n",
       "      <td>1.779697e+01</td>\n",
       "      <td>1.781670e+01</td>\n",
       "      <td>1.779750e+01</td>\n",
       "      <td>3.011983e+00</td>\n",
       "      <td>2.921076e+00</td>\n",
       "      <td>2.911875e+00</td>\n",
       "      <td>2.906416e+00</td>\n",
       "      <td>1.493805e+01</td>\n",
       "      <td>...</td>\n",
       "      <td>0.0</td>\n",
       "      <td>0.0</td>\n",
       "      <td>0.0</td>\n",
       "      <td>0.0</td>\n",
       "      <td>1.871622e+00</td>\n",
       "      <td>1.089190e+00</td>\n",
       "      <td>3.328909e+01</td>\n",
       "      <td>2.524173e-01</td>\n",
       "      <td>1.820920e+00</td>\n",
       "      <td>2.075298e+00</td>\n",
       "    </tr>\n",
       "    <tr>\n",
       "      <th>min</th>\n",
       "      <td>0.000000e+00</td>\n",
       "      <td>1.103333e+01</td>\n",
       "      <td>2.400000e+00</td>\n",
       "      <td>2.666667e+00</td>\n",
       "      <td>2.666667e+00</td>\n",
       "      <td>1.425000e+00</td>\n",
       "      <td>1.425000e+00</td>\n",
       "      <td>1.425000e+00</td>\n",
       "      <td>1.710000e+00</td>\n",
       "      <td>-1.329103e+02</td>\n",
       "      <td>...</td>\n",
       "      <td>0.0</td>\n",
       "      <td>0.0</td>\n",
       "      <td>0.0</td>\n",
       "      <td>0.0</td>\n",
       "      <td>0.000000e+00</td>\n",
       "      <td>0.000000e+00</td>\n",
       "      <td>8.000000e+00</td>\n",
       "      <td>-4.999928e-01</td>\n",
       "      <td>-3.141584e+00</td>\n",
       "      <td>-2.499009e+00</td>\n",
       "    </tr>\n",
       "    <tr>\n",
       "      <th>25%</th>\n",
       "      <td>2.948388e+05</td>\n",
       "      <td>3.371667e+01</td>\n",
       "      <td>3.360000e+01</td>\n",
       "      <td>3.360000e+01</td>\n",
       "      <td>3.360000e+01</td>\n",
       "      <td>3.705000e+00</td>\n",
       "      <td>3.420000e+00</td>\n",
       "      <td>3.420000e+00</td>\n",
       "      <td>3.420000e+00</td>\n",
       "      <td>-1.100000e+01</td>\n",
       "      <td>...</td>\n",
       "      <td>0.0</td>\n",
       "      <td>0.0</td>\n",
       "      <td>0.0</td>\n",
       "      <td>0.0</td>\n",
       "      <td>3.000000e+00</td>\n",
       "      <td>0.000000e+00</td>\n",
       "      <td>6.300000e+01</td>\n",
       "      <td>-2.055347e-01</td>\n",
       "      <td>-1.584667e+00</td>\n",
       "      <td>-2.074832e+00</td>\n",
       "    </tr>\n",
       "    <tr>\n",
       "      <th>50%</th>\n",
       "      <td>5.896775e+05</td>\n",
       "      <td>4.830000e+01</td>\n",
       "      <td>4.826667e+01</td>\n",
       "      <td>4.826667e+01</td>\n",
       "      <td>4.826667e+01</td>\n",
       "      <td>5.700000e+00</td>\n",
       "      <td>5.415000e+00</td>\n",
       "      <td>5.415000e+00</td>\n",
       "      <td>5.415000e+00</td>\n",
       "      <td>0.000000e+00</td>\n",
       "      <td>...</td>\n",
       "      <td>0.0</td>\n",
       "      <td>0.0</td>\n",
       "      <td>0.0</td>\n",
       "      <td>0.0</td>\n",
       "      <td>4.000000e+00</td>\n",
       "      <td>1.000000e+00</td>\n",
       "      <td>9.100000e+01</td>\n",
       "      <td>2.155910e-04</td>\n",
       "      <td>8.142424e-03</td>\n",
       "      <td>1.523139e+00</td>\n",
       "    </tr>\n",
       "    <tr>\n",
       "      <th>75%</th>\n",
       "      <td>8.845162e+05</td>\n",
       "      <td>6.326667e+01</td>\n",
       "      <td>6.303333e+01</td>\n",
       "      <td>6.293333e+01</td>\n",
       "      <td>6.296667e+01</td>\n",
       "      <td>8.265000e+00</td>\n",
       "      <td>7.980000e+00</td>\n",
       "      <td>7.695000e+00</td>\n",
       "      <td>7.980000e+00</td>\n",
       "      <td>1.100000e+01</td>\n",
       "      <td>...</td>\n",
       "      <td>0.0</td>\n",
       "      <td>0.0</td>\n",
       "      <td>0.0</td>\n",
       "      <td>0.0</td>\n",
       "      <td>5.000000e+00</td>\n",
       "      <td>2.000000e+00</td>\n",
       "      <td>1.180000e+02</td>\n",
       "      <td>2.069167e-01</td>\n",
       "      <td>1.581958e+00</td>\n",
       "      <td>2.074729e+00</td>\n",
       "    </tr>\n",
       "    <tr>\n",
       "      <th>max</th>\n",
       "      <td>1.179355e+06</td>\n",
       "      <td>8.311667e+01</td>\n",
       "      <td>8.256667e+01</td>\n",
       "      <td>8.253333e+01</td>\n",
       "      <td>8.253333e+01</td>\n",
       "      <td>1.510500e+01</td>\n",
       "      <td>1.396500e+01</td>\n",
       "      <td>1.539000e+01</td>\n",
       "      <td>1.510500e+01</td>\n",
       "      <td>1.421401e+02</td>\n",
       "      <td>...</td>\n",
       "      <td>0.0</td>\n",
       "      <td>0.0</td>\n",
       "      <td>0.0</td>\n",
       "      <td>0.0</td>\n",
       "      <td>8.000000e+00</td>\n",
       "      <td>4.000000e+00</td>\n",
       "      <td>1.540000e+02</td>\n",
       "      <td>4.999991e-01</td>\n",
       "      <td>3.141592e+00</td>\n",
       "      <td>2.493834e+00</td>\n",
       "    </tr>\n",
       "  </tbody>\n",
       "</table>\n",
       "<p>8 rows × 35 columns</p>\n",
       "</div>"
      ],
      "text/plain": [
       "         Unnamed: 0         Phi_0         Phi_2         Phi_3         Phi_4  \\\n",
       "count  1.179356e+06  1.179356e+06  1.179356e+06  1.179356e+06  1.179356e+06   \n",
       "mean   5.896775e+05  4.851559e+01  4.851127e+01  4.851076e+01  4.851331e+01   \n",
       "std    3.404509e+05  1.774647e+01  1.779697e+01  1.781670e+01  1.779750e+01   \n",
       "min    0.000000e+00  1.103333e+01  2.400000e+00  2.666667e+00  2.666667e+00   \n",
       "25%    2.948388e+05  3.371667e+01  3.360000e+01  3.360000e+01  3.360000e+01   \n",
       "50%    5.896775e+05  4.830000e+01  4.826667e+01  4.826667e+01  4.826667e+01   \n",
       "75%    8.845162e+05  6.326667e+01  6.303333e+01  6.293333e+01  6.296667e+01   \n",
       "max    1.179355e+06  8.311667e+01  8.256667e+01  8.253333e+01  8.253333e+01   \n",
       "\n",
       "            Theta_0       Theta_2       Theta_3       Theta_4  BendingAngle_0  \\\n",
       "count  1.179356e+06  1.179356e+06  1.179356e+06  1.179356e+06    1.179356e+06   \n",
       "mean   6.195453e+00  5.918753e+00  5.848332e+00  5.881490e+00    5.603115e-02   \n",
       "std    3.011983e+00  2.921076e+00  2.911875e+00  2.906416e+00    1.493805e+01   \n",
       "min    1.425000e+00  1.425000e+00  1.425000e+00  1.710000e+00   -1.329103e+02   \n",
       "25%    3.705000e+00  3.420000e+00  3.420000e+00  3.420000e+00   -1.100000e+01   \n",
       "50%    5.700000e+00  5.415000e+00  5.415000e+00  5.415000e+00    0.000000e+00   \n",
       "75%    8.265000e+00  7.980000e+00  7.695000e+00  7.980000e+00    1.100000e+01   \n",
       "max    1.510500e+01  1.396500e+01  1.539000e+01  1.510500e+01    1.421401e+02   \n",
       "\n",
       "       ...     Mask_0     Mask_2     Mask_3     Mask_4  PatternStraightness  \\\n",
       "count  ...  1179356.0  1179356.0  1179356.0  1179356.0         1.179356e+06   \n",
       "mean   ...        0.0        0.0        0.0        0.0         3.976490e+00   \n",
       "std    ...        0.0        0.0        0.0        0.0         1.871622e+00   \n",
       "min    ...        0.0        0.0        0.0        0.0         0.000000e+00   \n",
       "25%    ...        0.0        0.0        0.0        0.0         3.000000e+00   \n",
       "50%    ...        0.0        0.0        0.0        0.0         4.000000e+00   \n",
       "75%    ...        0.0        0.0        0.0        0.0         5.000000e+00   \n",
       "max    ...        0.0        0.0        0.0        0.0         8.000000e+00   \n",
       "\n",
       "               Zone   MedianTheta          q/pt      PhiAngle      EtaAngle  \n",
       "count  1.179356e+06  1.179356e+06  1.179356e+06  1.179356e+06  1.179356e+06  \n",
       "mean   1.080514e+00  9.115961e+01  5.540485e-04  8.881380e-04  8.762006e-04  \n",
       "std    1.089190e+00  3.328909e+01  2.524173e-01  1.820920e+00  2.075298e+00  \n",
       "min    0.000000e+00  8.000000e+00 -4.999928e-01 -3.141584e+00 -2.499009e+00  \n",
       "25%    0.000000e+00  6.300000e+01 -2.055347e-01 -1.584667e+00 -2.074832e+00  \n",
       "50%    1.000000e+00  9.100000e+01  2.155910e-04  8.142424e-03  1.523139e+00  \n",
       "75%    2.000000e+00  1.180000e+02  2.069167e-01  1.581958e+00  2.074729e+00  \n",
       "max    4.000000e+00  1.540000e+02  4.999991e-01  3.141592e+00  2.493834e+00  \n",
       "\n",
       "[8 rows x 35 columns]"
      ]
     },
     "execution_count": 7,
     "metadata": {},
     "output_type": "execute_result"
    }
   ],
   "source": [
    "df.describe()"
   ]
  },
  {
   "cell_type": "code",
   "execution_count": 8,
   "id": "308f7ebc",
   "metadata": {
    "execution": {
     "iopub.execute_input": "2025-05-06T19:51:33.265097Z",
     "iopub.status.busy": "2025-05-06T19:51:33.264358Z",
     "iopub.status.idle": "2025-05-06T19:51:33.267726Z",
     "shell.execute_reply": "2025-05-06T19:51:33.267085Z"
    },
    "papermill": {
     "duration": 0.025715,
     "end_time": "2025-05-06T19:51:33.268642",
     "exception": false,
     "start_time": "2025-05-06T19:51:33.242927",
     "status": "completed"
    },
    "tags": []
   },
   "outputs": [],
   "source": [
    "#HOW MOMENTUM NEGATIVE??"
   ]
  },
  {
   "cell_type": "markdown",
   "id": "8f5c5b55",
   "metadata": {
    "papermill": {
     "duration": 0.019949,
     "end_time": "2025-05-06T19:51:33.308667",
     "exception": false,
     "start_time": "2025-05-06T19:51:33.288718",
     "status": "completed"
    },
    "tags": []
   },
   "source": [
    "**The data is not scaled, so we would have to scale the data first before we proceed to train a model on the data**"
   ]
  },
  {
   "cell_type": "markdown",
   "id": "a8dfb564",
   "metadata": {
    "papermill": {
     "duration": 0.019701,
     "end_time": "2025-05-06T19:51:33.348527",
     "exception": false,
     "start_time": "2025-05-06T19:51:33.328826",
     "status": "completed"
    },
    "tags": []
   },
   "source": [
    "**To begin with lets  scale the data by using Standard Scalar**"
   ]
  },
  {
   "cell_type": "code",
   "execution_count": 9,
   "id": "84c3b0c3",
   "metadata": {
    "execution": {
     "iopub.execute_input": "2025-05-06T19:51:33.389595Z",
     "iopub.status.busy": "2025-05-06T19:51:33.389070Z",
     "iopub.status.idle": "2025-05-06T19:51:33.392165Z",
     "shell.execute_reply": "2025-05-06T19:51:33.391646Z"
    },
    "papermill": {
     "duration": 0.024608,
     "end_time": "2025-05-06T19:51:33.393110",
     "exception": false,
     "start_time": "2025-05-06T19:51:33.368502",
     "status": "completed"
    },
    "tags": []
   },
   "outputs": [],
   "source": [
    "scaler = StandardScaler()"
   ]
  },
  {
   "cell_type": "code",
   "execution_count": 10,
   "id": "47829a1b",
   "metadata": {
    "execution": {
     "iopub.execute_input": "2025-05-06T19:51:33.433947Z",
     "iopub.status.busy": "2025-05-06T19:51:33.433754Z",
     "iopub.status.idle": "2025-05-06T19:51:33.437864Z",
     "shell.execute_reply": "2025-05-06T19:51:33.437310Z"
    },
    "papermill": {
     "duration": 0.025528,
     "end_time": "2025-05-06T19:51:33.438921",
     "exception": false,
     "start_time": "2025-05-06T19:51:33.413393",
     "status": "completed"
    },
    "tags": []
   },
   "outputs": [
    {
     "data": {
      "text/plain": [
       "(1179356, 35)"
      ]
     },
     "execution_count": 10,
     "metadata": {},
     "output_type": "execute_result"
    }
   ],
   "source": [
    "df.shape"
   ]
  },
  {
   "cell_type": "code",
   "execution_count": 11,
   "id": "26a9438c",
   "metadata": {
    "execution": {
     "iopub.execute_input": "2025-05-06T19:51:33.480001Z",
     "iopub.status.busy": "2025-05-06T19:51:33.479801Z",
     "iopub.status.idle": "2025-05-06T19:51:33.498398Z",
     "shell.execute_reply": "2025-05-06T19:51:33.497883Z"
    },
    "papermill": {
     "duration": 0.040317,
     "end_time": "2025-05-06T19:51:33.499460",
     "exception": false,
     "start_time": "2025-05-06T19:51:33.459143",
     "status": "completed"
    },
    "tags": []
   },
   "outputs": [],
   "source": [
    "df.loc[:,\"pT\"] = abs(1/df.loc[:,\"q/pt\"])"
   ]
  },
  {
   "cell_type": "code",
   "execution_count": 12,
   "id": "442640e1",
   "metadata": {
    "execution": {
     "iopub.execute_input": "2025-05-06T19:51:33.540894Z",
     "iopub.status.busy": "2025-05-06T19:51:33.540668Z",
     "iopub.status.idle": "2025-05-06T19:51:33.547026Z",
     "shell.execute_reply": "2025-05-06T19:51:33.546506Z"
    },
    "papermill": {
     "duration": 0.028032,
     "end_time": "2025-05-06T19:51:33.548029",
     "exception": false,
     "start_time": "2025-05-06T19:51:33.519997",
     "status": "completed"
    },
    "tags": []
   },
   "outputs": [
    {
     "data": {
      "text/plain": [
       "(15.105, 1.425)"
      ]
     },
     "execution_count": 12,
     "metadata": {},
     "output_type": "execute_result"
    }
   ],
   "source": [
    "df['Theta_0'].max(), df['Theta_0'].min()"
   ]
  },
  {
   "cell_type": "markdown",
   "id": "2adb38b3",
   "metadata": {
    "papermill": {
     "duration": 0.02777,
     "end_time": "2025-05-06T19:51:33.596285",
     "exception": false,
     "start_time": "2025-05-06T19:51:33.568515",
     "status": "completed"
    },
    "tags": []
   },
   "source": [
    "We noticed and came up with these observations:\n",
    "\n",
    "1) Instead of taking eachStation as a node or each feature as a node, its better to take only the bendingAngle for each station to be the node feature.\n",
    "\n",
    "2) Talking about the Edge feature we introduced the 3 dimensional vector feature. Which includes sin(phi), cos(phi), and eta (-log(tan(theta/2)))\n",
    "\n",
    "3) Using these node and edge features we came up with a message passign layers with different number of hidden layers to fit the data and we see the results in the results section."
   ]
  },
  {
   "cell_type": "code",
   "execution_count": 13,
   "id": "0ec1cbbc",
   "metadata": {
    "execution": {
     "iopub.execute_input": "2025-05-06T19:51:33.637590Z",
     "iopub.status.busy": "2025-05-06T19:51:33.637397Z",
     "iopub.status.idle": "2025-05-06T19:51:33.746150Z",
     "shell.execute_reply": "2025-05-06T19:51:33.745514Z"
    },
    "papermill": {
     "duration": 0.131068,
     "end_time": "2025-05-06T19:51:33.747462",
     "exception": false,
     "start_time": "2025-05-06T19:51:33.616394",
     "status": "completed"
    },
    "tags": []
   },
   "outputs": [],
   "source": [
    "import pandas as pd\n",
    "import numpy as np\n",
    "\n",
    "# Sample DataFrame (replace with your actual DataFrame loading code)\n",
    "# df = pd.read_csv('your_file.csv')\n",
    "\n",
    "# Convert DataFrame columns to NumPy arrays for computations\n",
    "phi_0 = df['Phi_0'].values\n",
    "phi_2 = df['Phi_2'].values\n",
    "phi_3 = df['Phi_3'].values\n",
    "phi_4 = df['Phi_4'].values\n",
    "\n",
    "theta_0 = df['Theta_0'].values\n",
    "theta_2 = df['Theta_2'].values\n",
    "theta_3 = df['Theta_3'].values\n",
    "theta_4 = df['Theta_4'].values\n",
    "\n",
    "# Compute sine and cosine using NumPy\n",
    "df['cos_Phi_0'] = np.cos(np.radians(phi_0))\n",
    "df['cos_Phi_2'] = np.cos(np.radians(phi_2))\n",
    "df['cos_Phi_3'] = np.cos(np.radians(phi_3))\n",
    "df['cos_Phi_4'] = np.cos(np.radians(phi_4))\n",
    "\n",
    "df['sin_Phi_0'] = np.sin(np.radians(phi_0))\n",
    "df['sin_Phi_2'] = np.sin(np.radians(phi_2))\n",
    "df['sin_Phi_3'] = np.sin(np.radians(phi_3))\n",
    "df['sin_Phi_4'] = np.sin(np.radians(phi_4))\n",
    "\n",
    "# Compute eta using NumPy\n",
    "df['Eta_0'] = -np.log(np.tan(np.radians(theta_0 / 2)))\n",
    "df['Eta_2'] = -np.log(np.tan(np.radians(theta_2 / 2)))\n",
    "df['Eta_3'] = -np.log(np.tan(np.radians(theta_3 / 2)))\n",
    "df['Eta_4'] = -np.log(np.tan(np.radians(theta_4 / 2)))\n",
    "\n"
   ]
  },
  {
   "cell_type": "code",
   "execution_count": 14,
   "id": "1fb78e66",
   "metadata": {
    "execution": {
     "iopub.execute_input": "2025-05-06T19:51:33.789386Z",
     "iopub.status.busy": "2025-05-06T19:51:33.789151Z",
     "iopub.status.idle": "2025-05-06T19:51:33.793611Z",
     "shell.execute_reply": "2025-05-06T19:51:33.793098Z"
    },
    "papermill": {
     "duration": 0.026394,
     "end_time": "2025-05-06T19:51:33.794789",
     "exception": false,
     "start_time": "2025-05-06T19:51:33.768395",
     "status": "completed"
    },
    "tags": []
   },
   "outputs": [
    {
     "data": {
      "text/plain": [
       "Index(['Unnamed: 0', 'Phi_0', 'Phi_2', 'Phi_3', 'Phi_4', 'Theta_0', 'Theta_2',\n",
       "       'Theta_3', 'Theta_4', 'BendingAngle_0', 'BendingAngle_2',\n",
       "       'BendingAngle_3', 'BendingAngle_4', 'TimeInfo_0', 'TimeInfo_2',\n",
       "       'TimeInfo_3', 'TimeInfo_4', 'RingNumber_0', 'RingNumber_2',\n",
       "       'RingNumber_3', 'RingNumber_4', 'Front_0', 'Front_2', 'Front_3',\n",
       "       'Front_4', 'Mask_0', 'Mask_2', 'Mask_3', 'Mask_4',\n",
       "       'PatternStraightness', 'Zone', 'MedianTheta', 'q/pt', 'PhiAngle',\n",
       "       'EtaAngle', 'pT', 'cos_Phi_0', 'cos_Phi_2', 'cos_Phi_3', 'cos_Phi_4',\n",
       "       'sin_Phi_0', 'sin_Phi_2', 'sin_Phi_3', 'sin_Phi_4', 'Eta_0', 'Eta_2',\n",
       "       'Eta_3', 'Eta_4'],\n",
       "      dtype='object')"
      ]
     },
     "execution_count": 14,
     "metadata": {},
     "output_type": "execute_result"
    }
   ],
   "source": [
    "df.columns"
   ]
  },
  {
   "cell_type": "code",
   "execution_count": 15,
   "id": "e8ea54db",
   "metadata": {
    "execution": {
     "iopub.execute_input": "2025-05-06T19:51:33.836535Z",
     "iopub.status.busy": "2025-05-06T19:51:33.836329Z",
     "iopub.status.idle": "2025-05-06T19:51:33.841545Z",
     "shell.execute_reply": "2025-05-06T19:51:33.841025Z"
    },
    "papermill": {
     "duration": 0.027281,
     "end_time": "2025-05-06T19:51:33.842526",
     "exception": false,
     "start_time": "2025-05-06T19:51:33.815245",
     "status": "completed"
    },
    "tags": []
   },
   "outputs": [
    {
     "data": {
      "text/plain": [
       "2.00000380000722"
      ]
     },
     "execution_count": 15,
     "metadata": {},
     "output_type": "execute_result"
    }
   ],
   "source": [
    "df.loc[:,\"pT\"].min()"
   ]
  },
  {
   "cell_type": "code",
   "execution_count": 16,
   "id": "3445c7e6",
   "metadata": {
    "execution": {
     "iopub.execute_input": "2025-05-06T19:51:33.883898Z",
     "iopub.status.busy": "2025-05-06T19:51:33.883661Z",
     "iopub.status.idle": "2025-05-06T19:51:33.928806Z",
     "shell.execute_reply": "2025-05-06T19:51:33.928067Z"
    },
    "papermill": {
     "duration": 0.067084,
     "end_time": "2025-05-06T19:51:33.929985",
     "exception": false,
     "start_time": "2025-05-06T19:51:33.862901",
     "status": "completed"
    },
    "tags": []
   },
   "outputs": [],
   "source": [
    "label =df.loc[:,\"pT\"]\n",
    "\n",
    "# Calculate Q1 (25th percentile) and Q3 (75th percentile)\n",
    "Q1 = label.quantile(0.25)\n",
    "Q3 = label.quantile(0.75)\n",
    "\n",
    "# Calculate the IQR (Interquartile Range)\n",
    "IQR = Q3 - Q1"
   ]
  },
  {
   "cell_type": "code",
   "execution_count": 17,
   "id": "ad8fd19e",
   "metadata": {
    "execution": {
     "iopub.execute_input": "2025-05-06T19:51:33.971924Z",
     "iopub.status.busy": "2025-05-06T19:51:33.971704Z",
     "iopub.status.idle": "2025-05-06T19:51:34.630648Z",
     "shell.execute_reply": "2025-05-06T19:51:34.629974Z"
    },
    "papermill": {
     "duration": 0.681464,
     "end_time": "2025-05-06T19:51:34.632087",
     "exception": false,
     "start_time": "2025-05-06T19:51:33.950623",
     "status": "completed"
    },
    "tags": []
   },
   "outputs": [],
   "source": [
    "# Define the acceptable range (1.5 times the IQR below Q1 and above Q3)\n",
    "lower_bound = Q1 - 1.5 * IQR\n",
    "upper_bound = Q3 + 1.5 * IQR\n",
    "\n",
    "# Filter out the outliers\n",
    "filtered_df = df[(label >= lower_bound) & (label <= upper_bound)]\n",
    "filtered_df = filtered_df.reset_index(drop=True)\n",
    "# Extract the indices of the filtered dataset\n",
    "filtered_indices = filtered_df.index.to_numpy()\n",
    "\n",
    "# Split the filtered indices into training and test sets\n",
    "train_idx, test_idx = train_test_split(filtered_indices, test_size=0.2, random_state=1)"
   ]
  },
  {
   "cell_type": "code",
   "execution_count": 18,
   "id": "a1c7b690",
   "metadata": {
    "execution": {
     "iopub.execute_input": "2025-05-06T19:51:34.675553Z",
     "iopub.status.busy": "2025-05-06T19:51:34.674929Z",
     "iopub.status.idle": "2025-05-06T19:51:35.561227Z",
     "shell.execute_reply": "2025-05-06T19:51:35.560421Z"
    },
    "papermill": {
     "duration": 0.909,
     "end_time": "2025-05-06T19:51:35.562659",
     "exception": false,
     "start_time": "2025-05-06T19:51:34.653659",
     "status": "completed"
    },
    "tags": []
   },
   "outputs": [],
   "source": [
    "filtered_df.loc[:,\"Phi_0\":] = scaler.fit_transform(filtered_df.loc[:,\"Phi_0\":])"
   ]
  },
  {
   "cell_type": "code",
   "execution_count": 19,
   "id": "c42ea7fe",
   "metadata": {
    "execution": {
     "iopub.execute_input": "2025-05-06T19:51:35.606166Z",
     "iopub.status.busy": "2025-05-06T19:51:35.605907Z",
     "iopub.status.idle": "2025-05-06T19:51:35.614705Z",
     "shell.execute_reply": "2025-05-06T19:51:35.613994Z"
    },
    "papermill": {
     "duration": 0.031603,
     "end_time": "2025-05-06T19:51:35.615873",
     "exception": false,
     "start_time": "2025-05-06T19:51:35.584270",
     "status": "completed"
    },
    "tags": []
   },
   "outputs": [
    {
     "data": {
      "text/html": [
       "<style>#sk-container-id-1 {color: black;background-color: white;}#sk-container-id-1 pre{padding: 0;}#sk-container-id-1 div.sk-toggleable {background-color: white;}#sk-container-id-1 label.sk-toggleable__label {cursor: pointer;display: block;width: 100%;margin-bottom: 0;padding: 0.3em;box-sizing: border-box;text-align: center;}#sk-container-id-1 label.sk-toggleable__label-arrow:before {content: \"▸\";float: left;margin-right: 0.25em;color: #696969;}#sk-container-id-1 label.sk-toggleable__label-arrow:hover:before {color: black;}#sk-container-id-1 div.sk-estimator:hover label.sk-toggleable__label-arrow:before {color: black;}#sk-container-id-1 div.sk-toggleable__content {max-height: 0;max-width: 0;overflow: hidden;text-align: left;background-color: #f0f8ff;}#sk-container-id-1 div.sk-toggleable__content pre {margin: 0.2em;color: black;border-radius: 0.25em;background-color: #f0f8ff;}#sk-container-id-1 input.sk-toggleable__control:checked~div.sk-toggleable__content {max-height: 200px;max-width: 100%;overflow: auto;}#sk-container-id-1 input.sk-toggleable__control:checked~label.sk-toggleable__label-arrow:before {content: \"▾\";}#sk-container-id-1 div.sk-estimator input.sk-toggleable__control:checked~label.sk-toggleable__label {background-color: #d4ebff;}#sk-container-id-1 div.sk-label input.sk-toggleable__control:checked~label.sk-toggleable__label {background-color: #d4ebff;}#sk-container-id-1 input.sk-hidden--visually {border: 0;clip: rect(1px 1px 1px 1px);clip: rect(1px, 1px, 1px, 1px);height: 1px;margin: -1px;overflow: hidden;padding: 0;position: absolute;width: 1px;}#sk-container-id-1 div.sk-estimator {font-family: monospace;background-color: #f0f8ff;border: 1px dotted black;border-radius: 0.25em;box-sizing: border-box;margin-bottom: 0.5em;}#sk-container-id-1 div.sk-estimator:hover {background-color: #d4ebff;}#sk-container-id-1 div.sk-parallel-item::after {content: \"\";width: 100%;border-bottom: 1px solid gray;flex-grow: 1;}#sk-container-id-1 div.sk-label:hover label.sk-toggleable__label {background-color: #d4ebff;}#sk-container-id-1 div.sk-serial::before {content: \"\";position: absolute;border-left: 1px solid gray;box-sizing: border-box;top: 0;bottom: 0;left: 50%;z-index: 0;}#sk-container-id-1 div.sk-serial {display: flex;flex-direction: column;align-items: center;background-color: white;padding-right: 0.2em;padding-left: 0.2em;position: relative;}#sk-container-id-1 div.sk-item {position: relative;z-index: 1;}#sk-container-id-1 div.sk-parallel {display: flex;align-items: stretch;justify-content: center;background-color: white;position: relative;}#sk-container-id-1 div.sk-item::before, #sk-container-id-1 div.sk-parallel-item::before {content: \"\";position: absolute;border-left: 1px solid gray;box-sizing: border-box;top: 0;bottom: 0;left: 50%;z-index: -1;}#sk-container-id-1 div.sk-parallel-item {display: flex;flex-direction: column;z-index: 1;position: relative;background-color: white;}#sk-container-id-1 div.sk-parallel-item:first-child::after {align-self: flex-end;width: 50%;}#sk-container-id-1 div.sk-parallel-item:last-child::after {align-self: flex-start;width: 50%;}#sk-container-id-1 div.sk-parallel-item:only-child::after {width: 0;}#sk-container-id-1 div.sk-dashed-wrapped {border: 1px dashed gray;margin: 0 0.4em 0.5em 0.4em;box-sizing: border-box;padding-bottom: 0.4em;background-color: white;}#sk-container-id-1 div.sk-label label {font-family: monospace;font-weight: bold;display: inline-block;line-height: 1.2em;}#sk-container-id-1 div.sk-label-container {text-align: center;}#sk-container-id-1 div.sk-container {/* jupyter's `normalize.less` sets `[hidden] { display: none; }` but bootstrap.min.css set `[hidden] { display: none !important; }` so we also need the `!important` here to be able to override the default hidden behavior on the sphinx rendered scikit-learn.org. See: https://github.com/scikit-learn/scikit-learn/issues/21755 */display: inline-block !important;position: relative;}#sk-container-id-1 div.sk-text-repr-fallback {display: none;}</style><div id=\"sk-container-id-1\" class=\"sk-top-container\"><div class=\"sk-text-repr-fallback\"><pre>StandardScaler()</pre><b>In a Jupyter environment, please rerun this cell to show the HTML representation or trust the notebook. <br />On GitHub, the HTML representation is unable to render, please try loading this page with nbviewer.org.</b></div><div class=\"sk-container\" hidden><div class=\"sk-item\"><div class=\"sk-estimator sk-toggleable\"><input class=\"sk-toggleable__control sk-hidden--visually\" id=\"sk-estimator-id-1\" type=\"checkbox\" checked><label for=\"sk-estimator-id-1\" class=\"sk-toggleable__label sk-toggleable__label-arrow\">StandardScaler</label><div class=\"sk-toggleable__content\"><pre>StandardScaler()</pre></div></div></div></div></div>"
      ],
      "text/plain": [
       "StandardScaler()"
      ]
     },
     "execution_count": 19,
     "metadata": {},
     "output_type": "execute_result"
    }
   ],
   "source": [
    "scaler"
   ]
  },
  {
   "cell_type": "code",
   "execution_count": 20,
   "id": "5f6f8039",
   "metadata": {
    "execution": {
     "iopub.execute_input": "2025-05-06T19:51:35.658727Z",
     "iopub.status.busy": "2025-05-06T19:51:35.658155Z",
     "iopub.status.idle": "2025-05-06T19:51:35.663346Z",
     "shell.execute_reply": "2025-05-06T19:51:35.662824Z"
    },
    "papermill": {
     "duration": 0.027563,
     "end_time": "2025-05-06T19:51:35.664319",
     "exception": false,
     "start_time": "2025-05-06T19:51:35.636756",
     "status": "completed"
    },
    "tags": []
   },
   "outputs": [
    {
     "data": {
      "text/plain": [
       "142.14014"
      ]
     },
     "execution_count": 20,
     "metadata": {},
     "output_type": "execute_result"
    }
   ],
   "source": [
    "df[\"BendingAngle_0\"].max()"
   ]
  },
  {
   "cell_type": "code",
   "execution_count": 21,
   "id": "6e06b00d",
   "metadata": {
    "execution": {
     "iopub.execute_input": "2025-05-06T19:51:35.706443Z",
     "iopub.status.busy": "2025-05-06T19:51:35.706257Z",
     "iopub.status.idle": "2025-05-06T19:51:35.710715Z",
     "shell.execute_reply": "2025-05-06T19:51:35.710134Z"
    },
    "papermill": {
     "duration": 0.026719,
     "end_time": "2025-05-06T19:51:35.711737",
     "exception": false,
     "start_time": "2025-05-06T19:51:35.685018",
     "status": "completed"
    },
    "tags": []
   },
   "outputs": [
    {
     "data": {
      "text/plain": [
       "Index(['Unnamed: 0', 'Phi_0', 'Phi_2', 'Phi_3', 'Phi_4', 'Theta_0', 'Theta_2',\n",
       "       'Theta_3', 'Theta_4', 'BendingAngle_0', 'BendingAngle_2',\n",
       "       'BendingAngle_3', 'BendingAngle_4', 'TimeInfo_0', 'TimeInfo_2',\n",
       "       'TimeInfo_3', 'TimeInfo_4', 'RingNumber_0', 'RingNumber_2',\n",
       "       'RingNumber_3', 'RingNumber_4', 'Front_0', 'Front_2', 'Front_3',\n",
       "       'Front_4', 'Mask_0', 'Mask_2', 'Mask_3', 'Mask_4',\n",
       "       'PatternStraightness', 'Zone', 'MedianTheta', 'q/pt', 'PhiAngle',\n",
       "       'EtaAngle', 'pT', 'cos_Phi_0', 'cos_Phi_2', 'cos_Phi_3', 'cos_Phi_4',\n",
       "       'sin_Phi_0', 'sin_Phi_2', 'sin_Phi_3', 'sin_Phi_4', 'Eta_0', 'Eta_2',\n",
       "       'Eta_3', 'Eta_4'],\n",
       "      dtype='object')"
      ]
     },
     "execution_count": 21,
     "metadata": {},
     "output_type": "execute_result"
    }
   ],
   "source": [
    "df.columns"
   ]
  },
  {
   "cell_type": "code",
   "execution_count": 22,
   "id": "c02db6ed",
   "metadata": {
    "execution": {
     "iopub.execute_input": "2025-05-06T19:51:35.754355Z",
     "iopub.status.busy": "2025-05-06T19:51:35.754170Z",
     "iopub.status.idle": "2025-05-06T19:51:38.033568Z",
     "shell.execute_reply": "2025-05-06T19:51:38.032823Z"
    },
    "papermill": {
     "duration": 2.302073,
     "end_time": "2025-05-06T19:51:38.034802",
     "exception": false,
     "start_time": "2025-05-06T19:51:35.732729",
     "status": "completed"
    },
    "tags": []
   },
   "outputs": [
    {
     "data": {
      "text/html": [
       "<div>\n",
       "<style scoped>\n",
       "    .dataframe tbody tr th:only-of-type {\n",
       "        vertical-align: middle;\n",
       "    }\n",
       "\n",
       "    .dataframe tbody tr th {\n",
       "        vertical-align: top;\n",
       "    }\n",
       "\n",
       "    .dataframe thead th {\n",
       "        text-align: right;\n",
       "    }\n",
       "</style>\n",
       "<table border=\"1\" class=\"dataframe\">\n",
       "  <thead>\n",
       "    <tr style=\"text-align: right;\">\n",
       "      <th></th>\n",
       "      <th>Unnamed: 0</th>\n",
       "      <th>Phi_0</th>\n",
       "      <th>Phi_2</th>\n",
       "      <th>Phi_3</th>\n",
       "      <th>Phi_4</th>\n",
       "      <th>Theta_0</th>\n",
       "      <th>Theta_2</th>\n",
       "      <th>Theta_3</th>\n",
       "      <th>Theta_4</th>\n",
       "      <th>BendingAngle_0</th>\n",
       "      <th>...</th>\n",
       "      <th>cos_Phi_3</th>\n",
       "      <th>cos_Phi_4</th>\n",
       "      <th>sin_Phi_0</th>\n",
       "      <th>sin_Phi_2</th>\n",
       "      <th>sin_Phi_3</th>\n",
       "      <th>sin_Phi_4</th>\n",
       "      <th>Eta_0</th>\n",
       "      <th>Eta_2</th>\n",
       "      <th>Eta_3</th>\n",
       "      <th>Eta_4</th>\n",
       "    </tr>\n",
       "  </thead>\n",
       "  <tbody>\n",
       "    <tr>\n",
       "      <th>count</th>\n",
       "      <td>1.179356e+06</td>\n",
       "      <td>1.179356e+06</td>\n",
       "      <td>1.179356e+06</td>\n",
       "      <td>1.179356e+06</td>\n",
       "      <td>1.179356e+06</td>\n",
       "      <td>1.179356e+06</td>\n",
       "      <td>1.179356e+06</td>\n",
       "      <td>1.179356e+06</td>\n",
       "      <td>1.179356e+06</td>\n",
       "      <td>1.179356e+06</td>\n",
       "      <td>...</td>\n",
       "      <td>1.179356e+06</td>\n",
       "      <td>1.179356e+06</td>\n",
       "      <td>1.179356e+06</td>\n",
       "      <td>1.179356e+06</td>\n",
       "      <td>1.179356e+06</td>\n",
       "      <td>1.179356e+06</td>\n",
       "      <td>1.179356e+06</td>\n",
       "      <td>1.179356e+06</td>\n",
       "      <td>1.179356e+06</td>\n",
       "      <td>1.179356e+06</td>\n",
       "    </tr>\n",
       "    <tr>\n",
       "      <th>mean</th>\n",
       "      <td>5.896775e+05</td>\n",
       "      <td>4.851559e+01</td>\n",
       "      <td>4.851127e+01</td>\n",
       "      <td>4.851076e+01</td>\n",
       "      <td>4.851331e+01</td>\n",
       "      <td>6.195453e+00</td>\n",
       "      <td>5.918753e+00</td>\n",
       "      <td>5.848332e+00</td>\n",
       "      <td>5.881490e+00</td>\n",
       "      <td>5.603115e-02</td>\n",
       "      <td>...</td>\n",
       "      <td>6.309832e-01</td>\n",
       "      <td>6.310189e-01</td>\n",
       "      <td>7.136935e-01</td>\n",
       "      <td>7.134801e-01</td>\n",
       "      <td>7.134018e-01</td>\n",
       "      <td>7.135024e-01</td>\n",
       "      <td>3.040842e+00</td>\n",
       "      <td>3.088888e+00</td>\n",
       "      <td>3.101976e+00</td>\n",
       "      <td>3.094625e+00</td>\n",
       "    </tr>\n",
       "    <tr>\n",
       "      <th>std</th>\n",
       "      <td>3.404509e+05</td>\n",
       "      <td>1.774647e+01</td>\n",
       "      <td>1.779697e+01</td>\n",
       "      <td>1.781670e+01</td>\n",
       "      <td>1.779750e+01</td>\n",
       "      <td>3.011983e+00</td>\n",
       "      <td>2.921076e+00</td>\n",
       "      <td>2.911875e+00</td>\n",
       "      <td>2.906416e+00</td>\n",
       "      <td>1.493805e+01</td>\n",
       "      <td>...</td>\n",
       "      <td>2.280855e-01</td>\n",
       "      <td>2.278805e-01</td>\n",
       "      <td>2.011638e-01</td>\n",
       "      <td>2.019739e-01</td>\n",
       "      <td>2.022254e-01</td>\n",
       "      <td>2.019902e-01</td>\n",
       "      <td>5.143237e-01</td>\n",
       "      <td>5.165048e-01</td>\n",
       "      <td>5.179288e-01</td>\n",
       "      <td>5.145729e-01</td>\n",
       "    </tr>\n",
       "    <tr>\n",
       "      <th>min</th>\n",
       "      <td>0.000000e+00</td>\n",
       "      <td>1.103333e+01</td>\n",
       "      <td>2.400000e+00</td>\n",
       "      <td>2.666667e+00</td>\n",
       "      <td>2.666667e+00</td>\n",
       "      <td>1.425000e+00</td>\n",
       "      <td>1.425000e+00</td>\n",
       "      <td>1.425000e+00</td>\n",
       "      <td>1.710000e+00</td>\n",
       "      <td>-1.329103e+02</td>\n",
       "      <td>...</td>\n",
       "      <td>1.299494e-01</td>\n",
       "      <td>1.299494e-01</td>\n",
       "      <td>1.913801e-01</td>\n",
       "      <td>4.187565e-02</td>\n",
       "      <td>4.652531e-02</td>\n",
       "      <td>4.652531e-02</td>\n",
       "      <td>2.020533e+00</td>\n",
       "      <td>2.099852e+00</td>\n",
       "      <td>2.001618e+00</td>\n",
       "      <td>2.020533e+00</td>\n",
       "    </tr>\n",
       "    <tr>\n",
       "      <th>25%</th>\n",
       "      <td>2.948388e+05</td>\n",
       "      <td>3.371667e+01</td>\n",
       "      <td>3.360000e+01</td>\n",
       "      <td>3.360000e+01</td>\n",
       "      <td>3.360000e+01</td>\n",
       "      <td>3.705000e+00</td>\n",
       "      <td>3.420000e+00</td>\n",
       "      <td>3.420000e+00</td>\n",
       "      <td>3.420000e+00</td>\n",
       "      <td>-1.100000e+01</td>\n",
       "      <td>...</td>\n",
       "      <td>4.550269e-01</td>\n",
       "      <td>4.545088e-01</td>\n",
       "      <td>5.550864e-01</td>\n",
       "      <td>5.533915e-01</td>\n",
       "      <td>5.533915e-01</td>\n",
       "      <td>5.533915e-01</td>\n",
       "      <td>2.627608e+00</td>\n",
       "      <td>2.662817e+00</td>\n",
       "      <td>2.699299e+00</td>\n",
       "      <td>2.662817e+00</td>\n",
       "    </tr>\n",
       "    <tr>\n",
       "      <th>50%</th>\n",
       "      <td>5.896775e+05</td>\n",
       "      <td>4.830000e+01</td>\n",
       "      <td>4.826667e+01</td>\n",
       "      <td>4.826667e+01</td>\n",
       "      <td>4.826667e+01</td>\n",
       "      <td>5.700000e+00</td>\n",
       "      <td>5.415000e+00</td>\n",
       "      <td>5.415000e+00</td>\n",
       "      <td>5.415000e+00</td>\n",
       "      <td>0.000000e+00</td>\n",
       "      <td>...</td>\n",
       "      <td>6.656646e-01</td>\n",
       "      <td>6.656646e-01</td>\n",
       "      <td>7.466382e-01</td>\n",
       "      <td>7.462510e-01</td>\n",
       "      <td>7.462510e-01</td>\n",
       "      <td>7.462510e-01</td>\n",
       "      <td>3.000083e+00</td>\n",
       "      <td>3.051457e+00</td>\n",
       "      <td>3.051457e+00</td>\n",
       "      <td>3.051457e+00</td>\n",
       "    </tr>\n",
       "    <tr>\n",
       "      <th>75%</th>\n",
       "      <td>8.845162e+05</td>\n",
       "      <td>6.326667e+01</td>\n",
       "      <td>6.303333e+01</td>\n",
       "      <td>6.293333e+01</td>\n",
       "      <td>6.296667e+01</td>\n",
       "      <td>8.265000e+00</td>\n",
       "      <td>7.980000e+00</td>\n",
       "      <td>7.695000e+00</td>\n",
       "      <td>7.980000e+00</td>\n",
       "      <td>1.100000e+01</td>\n",
       "      <td>...</td>\n",
       "      <td>8.329212e-01</td>\n",
       "      <td>8.329212e-01</td>\n",
       "      <td>8.931098e-01</td>\n",
       "      <td>8.912705e-01</td>\n",
       "      <td>8.904777e-01</td>\n",
       "      <td>8.907423e-01</td>\n",
       "      <td>3.431342e+00</td>\n",
       "      <td>3.511437e+00</td>\n",
       "      <td>3.511437e+00</td>\n",
       "      <td>3.511437e+00</td>\n",
       "    </tr>\n",
       "    <tr>\n",
       "      <th>max</th>\n",
       "      <td>1.179355e+06</td>\n",
       "      <td>8.311667e+01</td>\n",
       "      <td>8.256667e+01</td>\n",
       "      <td>8.253333e+01</td>\n",
       "      <td>8.253333e+01</td>\n",
       "      <td>1.510500e+01</td>\n",
       "      <td>1.396500e+01</td>\n",
       "      <td>1.539000e+01</td>\n",
       "      <td>1.510500e+01</td>\n",
       "      <td>1.421401e+02</td>\n",
       "      <td>...</td>\n",
       "      <td>9.989171e-01</td>\n",
       "      <td>9.989171e-01</td>\n",
       "      <td>9.927923e-01</td>\n",
       "      <td>9.915961e-01</td>\n",
       "      <td>9.915206e-01</td>\n",
       "      <td>9.915206e-01</td>\n",
       "      <td>4.387151e+00</td>\n",
       "      <td>4.387151e+00</td>\n",
       "      <td>4.387151e+00</td>\n",
       "      <td>4.204807e+00</td>\n",
       "    </tr>\n",
       "  </tbody>\n",
       "</table>\n",
       "<p>8 rows × 48 columns</p>\n",
       "</div>"
      ],
      "text/plain": [
       "         Unnamed: 0         Phi_0         Phi_2         Phi_3         Phi_4  \\\n",
       "count  1.179356e+06  1.179356e+06  1.179356e+06  1.179356e+06  1.179356e+06   \n",
       "mean   5.896775e+05  4.851559e+01  4.851127e+01  4.851076e+01  4.851331e+01   \n",
       "std    3.404509e+05  1.774647e+01  1.779697e+01  1.781670e+01  1.779750e+01   \n",
       "min    0.000000e+00  1.103333e+01  2.400000e+00  2.666667e+00  2.666667e+00   \n",
       "25%    2.948388e+05  3.371667e+01  3.360000e+01  3.360000e+01  3.360000e+01   \n",
       "50%    5.896775e+05  4.830000e+01  4.826667e+01  4.826667e+01  4.826667e+01   \n",
       "75%    8.845162e+05  6.326667e+01  6.303333e+01  6.293333e+01  6.296667e+01   \n",
       "max    1.179355e+06  8.311667e+01  8.256667e+01  8.253333e+01  8.253333e+01   \n",
       "\n",
       "            Theta_0       Theta_2       Theta_3       Theta_4  BendingAngle_0  \\\n",
       "count  1.179356e+06  1.179356e+06  1.179356e+06  1.179356e+06    1.179356e+06   \n",
       "mean   6.195453e+00  5.918753e+00  5.848332e+00  5.881490e+00    5.603115e-02   \n",
       "std    3.011983e+00  2.921076e+00  2.911875e+00  2.906416e+00    1.493805e+01   \n",
       "min    1.425000e+00  1.425000e+00  1.425000e+00  1.710000e+00   -1.329103e+02   \n",
       "25%    3.705000e+00  3.420000e+00  3.420000e+00  3.420000e+00   -1.100000e+01   \n",
       "50%    5.700000e+00  5.415000e+00  5.415000e+00  5.415000e+00    0.000000e+00   \n",
       "75%    8.265000e+00  7.980000e+00  7.695000e+00  7.980000e+00    1.100000e+01   \n",
       "max    1.510500e+01  1.396500e+01  1.539000e+01  1.510500e+01    1.421401e+02   \n",
       "\n",
       "       ...     cos_Phi_3     cos_Phi_4     sin_Phi_0     sin_Phi_2  \\\n",
       "count  ...  1.179356e+06  1.179356e+06  1.179356e+06  1.179356e+06   \n",
       "mean   ...  6.309832e-01  6.310189e-01  7.136935e-01  7.134801e-01   \n",
       "std    ...  2.280855e-01  2.278805e-01  2.011638e-01  2.019739e-01   \n",
       "min    ...  1.299494e-01  1.299494e-01  1.913801e-01  4.187565e-02   \n",
       "25%    ...  4.550269e-01  4.545088e-01  5.550864e-01  5.533915e-01   \n",
       "50%    ...  6.656646e-01  6.656646e-01  7.466382e-01  7.462510e-01   \n",
       "75%    ...  8.329212e-01  8.329212e-01  8.931098e-01  8.912705e-01   \n",
       "max    ...  9.989171e-01  9.989171e-01  9.927923e-01  9.915961e-01   \n",
       "\n",
       "          sin_Phi_3     sin_Phi_4         Eta_0         Eta_2         Eta_3  \\\n",
       "count  1.179356e+06  1.179356e+06  1.179356e+06  1.179356e+06  1.179356e+06   \n",
       "mean   7.134018e-01  7.135024e-01  3.040842e+00  3.088888e+00  3.101976e+00   \n",
       "std    2.022254e-01  2.019902e-01  5.143237e-01  5.165048e-01  5.179288e-01   \n",
       "min    4.652531e-02  4.652531e-02  2.020533e+00  2.099852e+00  2.001618e+00   \n",
       "25%    5.533915e-01  5.533915e-01  2.627608e+00  2.662817e+00  2.699299e+00   \n",
       "50%    7.462510e-01  7.462510e-01  3.000083e+00  3.051457e+00  3.051457e+00   \n",
       "75%    8.904777e-01  8.907423e-01  3.431342e+00  3.511437e+00  3.511437e+00   \n",
       "max    9.915206e-01  9.915206e-01  4.387151e+00  4.387151e+00  4.387151e+00   \n",
       "\n",
       "              Eta_4  \n",
       "count  1.179356e+06  \n",
       "mean   3.094625e+00  \n",
       "std    5.145729e-01  \n",
       "min    2.020533e+00  \n",
       "25%    2.662817e+00  \n",
       "50%    3.051457e+00  \n",
       "75%    3.511437e+00  \n",
       "max    4.204807e+00  \n",
       "\n",
       "[8 rows x 48 columns]"
      ]
     },
     "execution_count": 22,
     "metadata": {},
     "output_type": "execute_result"
    }
   ],
   "source": [
    "df.describe()"
   ]
  },
  {
   "cell_type": "markdown",
   "id": "57b27661",
   "metadata": {
    "papermill": {
     "duration": 0.020877,
     "end_time": "2025-05-06T19:51:38.077346",
     "exception": false,
     "start_time": "2025-05-06T19:51:38.056469",
     "status": "completed"
    },
    "tags": []
   },
   "source": [
    "**We can see that the std dev and the mean has been transformed to 1 and 0 respectively**"
   ]
  },
  {
   "cell_type": "code",
   "execution_count": 23,
   "id": "94c1d5b3",
   "metadata": {
    "execution": {
     "iopub.execute_input": "2025-05-06T19:51:38.120464Z",
     "iopub.status.busy": "2025-05-06T19:51:38.120202Z",
     "iopub.status.idle": "2025-05-06T19:51:38.125421Z",
     "shell.execute_reply": "2025-05-06T19:51:38.124869Z"
    },
    "papermill": {
     "duration": 0.028152,
     "end_time": "2025-05-06T19:51:38.126519",
     "exception": false,
     "start_time": "2025-05-06T19:51:38.098367",
     "status": "completed"
    },
    "tags": []
   },
   "outputs": [
    {
     "data": {
      "text/plain": [
       "['Phi_0',\n",
       " 'Phi_2',\n",
       " 'Phi_3',\n",
       " 'Phi_4',\n",
       " 'Theta_0',\n",
       " 'Theta_2',\n",
       " 'Theta_3',\n",
       " 'Theta_4',\n",
       " 'BendingAngle_0',\n",
       " 'BendingAngle_2',\n",
       " 'BendingAngle_3',\n",
       " 'BendingAngle_4',\n",
       " 'TimeInfo_0',\n",
       " 'TimeInfo_2',\n",
       " 'TimeInfo_3',\n",
       " 'TimeInfo_4',\n",
       " 'RingNumber_0',\n",
       " 'RingNumber_2',\n",
       " 'RingNumber_3',\n",
       " 'RingNumber_4',\n",
       " 'Front_0',\n",
       " 'Front_2',\n",
       " 'Front_3',\n",
       " 'Front_4',\n",
       " 'Mask_0',\n",
       " 'Mask_2',\n",
       " 'Mask_3',\n",
       " 'Mask_4',\n",
       " 'PatternStraightness',\n",
       " 'Zone',\n",
       " 'MedianTheta',\n",
       " 'q/pt',\n",
       " 'PhiAngle',\n",
       " 'EtaAngle',\n",
       " 'pT',\n",
       " 'cos_Phi_0',\n",
       " 'cos_Phi_2',\n",
       " 'cos_Phi_3',\n",
       " 'cos_Phi_4',\n",
       " 'sin_Phi_0',\n",
       " 'sin_Phi_2',\n",
       " 'sin_Phi_3',\n",
       " 'sin_Phi_4',\n",
       " 'Eta_0',\n",
       " 'Eta_2',\n",
       " 'Eta_3',\n",
       " 'Eta_4']"
      ]
     },
     "execution_count": 23,
     "metadata": {},
     "output_type": "execute_result"
    }
   ],
   "source": [
    "features = list(df.columns)[1:50]\n",
    "features"
   ]
  },
  {
   "cell_type": "code",
   "execution_count": 24,
   "id": "9c1aaa12",
   "metadata": {
    "execution": {
     "iopub.execute_input": "2025-05-06T19:51:38.170215Z",
     "iopub.status.busy": "2025-05-06T19:51:38.169970Z",
     "iopub.status.idle": "2025-05-06T19:51:38.174845Z",
     "shell.execute_reply": "2025-05-06T19:51:38.174279Z"
    },
    "papermill": {
     "duration": 0.028132,
     "end_time": "2025-05-06T19:51:38.175856",
     "exception": false,
     "start_time": "2025-05-06T19:51:38.147724",
     "status": "completed"
    },
    "tags": []
   },
   "outputs": [
    {
     "data": {
      "text/plain": [
       "['BendingAngle_0',\n",
       " 'BendingAngle_2',\n",
       " 'BendingAngle_3',\n",
       " 'BendingAngle_4',\n",
       " 'cos_Phi_0',\n",
       " 'cos_Phi_2',\n",
       " 'cos_Phi_3',\n",
       " 'cos_Phi_4',\n",
       " 'sin_Phi_0',\n",
       " 'sin_Phi_2',\n",
       " 'sin_Phi_3',\n",
       " 'sin_Phi_4',\n",
       " 'Eta_0',\n",
       " 'Eta_2',\n",
       " 'Eta_3',\n",
       " 'Eta_4']"
      ]
     },
     "execution_count": 24,
     "metadata": {},
     "output_type": "execute_result"
    }
   ],
   "source": [
    "selected_features = [f for f in features if any(keyword in f for keyword in ['cos', 'sin', 'Eta_', 'BendingAngle'])]\n",
    "\n",
    "selected_features"
   ]
  },
  {
   "cell_type": "code",
   "execution_count": 25,
   "id": "7f7af2cd",
   "metadata": {
    "execution": {
     "iopub.execute_input": "2025-05-06T19:51:38.218626Z",
     "iopub.status.busy": "2025-05-06T19:51:38.218421Z",
     "iopub.status.idle": "2025-05-06T19:51:38.221491Z",
     "shell.execute_reply": "2025-05-06T19:51:38.220848Z"
    },
    "papermill": {
     "duration": 0.025693,
     "end_time": "2025-05-06T19:51:38.222578",
     "exception": false,
     "start_time": "2025-05-06T19:51:38.196885",
     "status": "completed"
    },
    "tags": []
   },
   "outputs": [],
   "source": [
    "# Lets split the data into train and the test splits"
   ]
  },
  {
   "cell_type": "code",
   "execution_count": 26,
   "id": "c3c0debb",
   "metadata": {
    "execution": {
     "iopub.execute_input": "2025-05-06T19:51:38.266267Z",
     "iopub.status.busy": "2025-05-06T19:51:38.266076Z",
     "iopub.status.idle": "2025-05-06T19:51:38.270317Z",
     "shell.execute_reply": "2025-05-06T19:51:38.269797Z"
    },
    "papermill": {
     "duration": 0.027511,
     "end_time": "2025-05-06T19:51:38.271253",
     "exception": false,
     "start_time": "2025-05-06T19:51:38.243742",
     "status": "completed"
    },
    "tags": []
   },
   "outputs": [
    {
     "data": {
      "text/plain": [
       "0.5114059620969259"
      ]
     },
     "execution_count": 26,
     "metadata": {},
     "output_type": "execute_result"
    }
   ],
   "source": [
    "scaler.scale_[46]"
   ]
  },
  {
   "cell_type": "code",
   "execution_count": 27,
   "id": "b3ddcb71",
   "metadata": {
    "execution": {
     "iopub.execute_input": "2025-05-06T19:51:38.314851Z",
     "iopub.status.busy": "2025-05-06T19:51:38.314203Z",
     "iopub.status.idle": "2025-05-06T19:51:38.318806Z",
     "shell.execute_reply": "2025-05-06T19:51:38.318116Z"
    },
    "papermill": {
     "duration": 0.027446,
     "end_time": "2025-05-06T19:51:38.319882",
     "exception": false,
     "start_time": "2025-05-06T19:51:38.292436",
     "status": "completed"
    },
    "tags": []
   },
   "outputs": [
    {
     "data": {
      "text/plain": [
       "3.9377537017281714"
      ]
     },
     "execution_count": 27,
     "metadata": {},
     "output_type": "execute_result"
    }
   ],
   "source": [
    "scaler.scale_[34]"
   ]
  },
  {
   "cell_type": "code",
   "execution_count": 28,
   "id": "1d6d1f12",
   "metadata": {
    "execution": {
     "iopub.execute_input": "2025-05-06T19:51:38.362775Z",
     "iopub.status.busy": "2025-05-06T19:51:38.362543Z",
     "iopub.status.idle": "2025-05-06T19:51:38.408632Z",
     "shell.execute_reply": "2025-05-06T19:51:38.407819Z"
    },
    "papermill": {
     "duration": 0.068998,
     "end_time": "2025-05-06T19:51:38.409905",
     "exception": false,
     "start_time": "2025-05-06T19:51:38.340907",
     "status": "completed"
    },
    "tags": []
   },
   "outputs": [
    {
     "name": "stdout",
     "output_type": "stream",
     "text": [
      "Data shape: (1029592, 16)\n",
      "(1029592,)\n",
      "Len train: 823673, Len test: 205919\n",
      "Num. features: 16\n"
     ]
    }
   ],
   "source": [
    "# Extract features and labels\n",
    "x_data = filtered_df[selected_features].to_numpy()\n",
    "label = filtered_df['pT'].to_numpy()\n",
    "\n",
    "# Ensure the shapes of x_data and label\n",
    "assert x_data.shape[0] == label.shape[0], \"Mismatch between x_data and label sizes\"\n",
    "\n",
    "# Print the new data shape and label shape\n",
    "print('Data shape: ' + str(x_data.shape))\n",
    "print(label.shape)\n",
    "print('Len train: ' + str(len(train_idx)) + ', Len test: ' + str(len(test_idx)))\n",
    "print('Num. features: ' + str(x_data.shape[-1]))"
   ]
  },
  {
   "cell_type": "markdown",
   "id": "4b020580",
   "metadata": {
    "papermill": {
     "duration": 0.021139,
     "end_time": "2025-05-06T19:51:38.453042",
     "exception": false,
     "start_time": "2025-05-06T19:51:38.431903",
     "status": "completed"
    },
    "tags": []
   },
   "source": [
    "# Dataset Class and Data Loaders"
   ]
  },
  {
   "cell_type": "code",
   "execution_count": 29,
   "id": "1bdfc610",
   "metadata": {
    "execution": {
     "iopub.execute_input": "2025-05-06T19:51:38.497292Z",
     "iopub.status.busy": "2025-05-06T19:51:38.496669Z",
     "iopub.status.idle": "2025-05-06T19:51:38.499699Z",
     "shell.execute_reply": "2025-05-06T19:51:38.499147Z"
    },
    "papermill": {
     "duration": 0.026229,
     "end_time": "2025-05-06T19:51:38.500715",
     "exception": false,
     "start_time": "2025-05-06T19:51:38.474486",
     "status": "completed"
    },
    "tags": []
   },
   "outputs": [],
   "source": [
    "# x_data.shape"
   ]
  },
  {
   "cell_type": "code",
   "execution_count": 30,
   "id": "b901cf31",
   "metadata": {
    "execution": {
     "iopub.execute_input": "2025-05-06T19:51:38.544014Z",
     "iopub.status.busy": "2025-05-06T19:51:38.543828Z",
     "iopub.status.idle": "2025-05-06T19:51:38.546653Z",
     "shell.execute_reply": "2025-05-06T19:51:38.546162Z"
    },
    "papermill": {
     "duration": 0.025688,
     "end_time": "2025-05-06T19:51:38.547783",
     "exception": false,
     "start_time": "2025-05-06T19:51:38.522095",
     "status": "completed"
    },
    "tags": []
   },
   "outputs": [],
   "source": [
    "import itertools"
   ]
  },
  {
   "cell_type": "code",
   "execution_count": 31,
   "id": "7abe42e7",
   "metadata": {
    "execution": {
     "iopub.execute_input": "2025-05-06T19:51:38.591153Z",
     "iopub.status.busy": "2025-05-06T19:51:38.590975Z",
     "iopub.status.idle": "2025-05-06T19:51:38.594278Z",
     "shell.execute_reply": "2025-05-06T19:51:38.593567Z"
    },
    "papermill": {
     "duration": 0.026179,
     "end_time": "2025-05-06T19:51:38.595296",
     "exception": false,
     "start_time": "2025-05-06T19:51:38.569117",
     "status": "completed"
    },
    "tags": []
   },
   "outputs": [],
   "source": [
    "import torch\n",
    "import itertools\n",
    "import numpy as np\n",
    "from torch_geometric.data import Data"
   ]
  },
  {
   "cell_type": "code",
   "execution_count": 32,
   "id": "a370e669",
   "metadata": {
    "execution": {
     "iopub.execute_input": "2025-05-06T19:51:38.638295Z",
     "iopub.status.busy": "2025-05-06T19:51:38.638099Z",
     "iopub.status.idle": "2025-05-06T19:51:38.641202Z",
     "shell.execute_reply": "2025-05-06T19:51:38.640707Z"
    },
    "papermill": {
     "duration": 0.025766,
     "end_time": "2025-05-06T19:51:38.642188",
     "exception": false,
     "start_time": "2025-05-06T19:51:38.616422",
     "status": "completed"
    },
    "tags": []
   },
   "outputs": [],
   "source": [
    "# Function to calculate eta from theta\n",
    "def eta_from_theta(theta):\n",
    "    return -np.log(np.tan(theta/2))"
   ]
  },
  {
   "cell_type": "code",
   "execution_count": 33,
   "id": "47f25a37",
   "metadata": {
    "execution": {
     "iopub.execute_input": "2025-05-06T19:51:38.685788Z",
     "iopub.status.busy": "2025-05-06T19:51:38.685342Z",
     "iopub.status.idle": "2025-05-06T19:51:38.688455Z",
     "shell.execute_reply": "2025-05-06T19:51:38.687981Z"
    },
    "papermill": {
     "duration": 0.025912,
     "end_time": "2025-05-06T19:51:38.689368",
     "exception": false,
     "start_time": "2025-05-06T19:51:38.663456",
     "status": "completed"
    },
    "tags": []
   },
   "outputs": [],
   "source": [
    "def connect_edges(sin_phi1, sin_phi2,  cos_phi1, cos_phi2, eta1, eta2):\n",
    "    \n",
    "    \n",
    "    return [sin_phi2 - sin_phi1, \n",
    "                         cos_phi2 - cos_phi1, \n",
    "                         eta2 - eta1]"
   ]
  },
  {
   "cell_type": "code",
   "execution_count": 34,
   "id": "8326afcc",
   "metadata": {
    "execution": {
     "iopub.execute_input": "2025-05-06T19:51:38.733267Z",
     "iopub.status.busy": "2025-05-06T19:51:38.733093Z",
     "iopub.status.idle": "2025-05-06T19:51:38.736621Z",
     "shell.execute_reply": "2025-05-06T19:51:38.736105Z"
    },
    "papermill": {
     "duration": 0.026919,
     "end_time": "2025-05-06T19:51:38.737550",
     "exception": false,
     "start_time": "2025-05-06T19:51:38.710631",
     "status": "completed"
    },
    "tags": []
   },
   "outputs": [],
   "source": [
    "edge_index = []\n",
    "\n",
    "# # Loop through each possible pair of nodes (i, j)\n",
    "# for i in range(7):  # Nodes 0 to 6\n",
    "#     for j in range(7):  # Nodes 0 to 6\n",
    "#         if i != j:  # Avoid self-loops unless you want them\n",
    "#             edge_index.append((i, j)) = []\n",
    "\n",
    "# Loop through each possible pair of nodes (i, j)\n",
    "for i in range(4):  # Nodes 0 to 6\n",
    "    for j in range(4):  # Nodes 0 to 6\n",
    "        if i != j:  # Avoid self-loops unless you want them\n",
    "            edge_index.append((i, j))"
   ]
  },
  {
   "cell_type": "code",
   "execution_count": 35,
   "id": "99883197",
   "metadata": {
    "execution": {
     "iopub.execute_input": "2025-05-06T19:51:38.781229Z",
     "iopub.status.busy": "2025-05-06T19:51:38.781060Z",
     "iopub.status.idle": "2025-05-06T19:51:38.785378Z",
     "shell.execute_reply": "2025-05-06T19:51:38.784730Z"
    },
    "papermill": {
     "duration": 0.027115,
     "end_time": "2025-05-06T19:51:38.786362",
     "exception": false,
     "start_time": "2025-05-06T19:51:38.759247",
     "status": "completed"
    },
    "tags": []
   },
   "outputs": [
    {
     "data": {
      "text/plain": [
       "[(0, 1),\n",
       " (0, 2),\n",
       " (0, 3),\n",
       " (1, 0),\n",
       " (1, 2),\n",
       " (1, 3),\n",
       " (2, 0),\n",
       " (2, 1),\n",
       " (2, 3),\n",
       " (3, 0),\n",
       " (3, 1),\n",
       " (3, 2)]"
      ]
     },
     "execution_count": 35,
     "metadata": {},
     "output_type": "execute_result"
    }
   ],
   "source": [
    "edge_index"
   ]
  },
  {
   "cell_type": "code",
   "execution_count": 36,
   "id": "a0fe3e96",
   "metadata": {
    "execution": {
     "iopub.execute_input": "2025-05-06T19:51:38.829611Z",
     "iopub.status.busy": "2025-05-06T19:51:38.829442Z",
     "iopub.status.idle": "2025-05-06T19:51:38.834907Z",
     "shell.execute_reply": "2025-05-06T19:51:38.834394Z"
    },
    "papermill": {
     "duration": 0.028314,
     "end_time": "2025-05-06T19:51:38.835963",
     "exception": false,
     "start_time": "2025-05-06T19:51:38.807649",
     "status": "completed"
    },
    "tags": []
   },
   "outputs": [
    {
     "data": {
      "text/plain": [
       "(-1.5903115460911603, 2.9912255322219155)"
      ]
     },
     "execution_count": 36,
     "metadata": {},
     "output_type": "execute_result"
    }
   ],
   "source": [
    "# for i, j in edge_index:\n",
    "#     print(i,j)\n",
    "\n",
    "filtered_df['Theta_0'].min(), filtered_df['Theta_0'].max()"
   ]
  },
  {
   "cell_type": "code",
   "execution_count": 37,
   "id": "3acf6fe9",
   "metadata": {
    "execution": {
     "iopub.execute_input": "2025-05-06T19:51:38.879265Z",
     "iopub.status.busy": "2025-05-06T19:51:38.879097Z",
     "iopub.status.idle": "2025-05-06T19:51:38.886920Z",
     "shell.execute_reply": "2025-05-06T19:51:38.886430Z"
    },
    "papermill": {
     "duration": 0.030815,
     "end_time": "2025-05-06T19:51:38.887975",
     "exception": false,
     "start_time": "2025-05-06T19:51:38.857160",
     "status": "completed"
    },
    "tags": []
   },
   "outputs": [],
   "source": [
    "import numpy as np\n",
    "import torch\n",
    "from torch.utils.data import Dataset\n",
    "from torch_geometric.data import Data\n",
    "import itertools\n",
    "\n",
    "class Graph_dataset(Dataset):\n",
    "    def __init__(self, dataset, label, edge_index, indices, transform=None):\n",
    "        self.transform = transform\n",
    "        self.data = dataset\n",
    "        self.edge_index = torch.tensor(edge_index, dtype=torch.long).t().contiguous()  # Ensure correct shape\n",
    "        self.indices = indices\n",
    "        self.label = label\n",
    "    \n",
    "    def __getitem__(self, idx):\n",
    "        return self.convert_to_graph(self.indices[idx])\n",
    "    \n",
    "    def __len__(self):\n",
    "        return len(self.indices)\n",
    "    \n",
    "    def convert_to_graph(self, i):\n",
    "        # Extract row data for the current index\n",
    "        row = self.data.iloc[i]\n",
    "        \n",
    "        # Extract features\n",
    "        sin_phi_values = torch.tensor(row[['sin_Phi_0', 'sin_Phi_2', 'sin_Phi_3', 'sin_Phi_4']].values, dtype=torch.float)\n",
    "        cos_phi_values = torch.tensor(row[['cos_Phi_0', 'cos_Phi_2', 'cos_Phi_3', 'cos_Phi_4']].values, dtype=torch.float)\n",
    "        eta_values = torch.tensor(row[['Eta_0', 'Eta_2', 'Eta_3', 'Eta_4']].values, dtype=torch.float)\n",
    "        bend_angles = torch.tensor(row[['BendingAngle_0', 'BendingAngle_2', 'BendingAngle_3', 'BendingAngle_4']].values, dtype=torch.float)\n",
    "\n",
    "        # Create node features (4 nodes, 1 feature per node)\n",
    "        node_features = bend_angles.unsqueeze(1)  # Add dimension for feature\n",
    "  \n",
    "        edge_features = []\n",
    "        num_nodes = len(bend_angles)\n",
    "        \n",
    "        for k, j in itertools.permutations(range(num_nodes), 2):\n",
    "            sin_phi1, cos_phi1, eta1 = sin_phi_values[k].item(), cos_phi_values[k].item() ,  eta_values[k].item()\n",
    "            sin_phi2, cos_phi2, eta2 = sin_phi_values[j].item(), cos_phi_values[j].item() ,  eta_values[j].item()\n",
    "            \n",
    "            edge_feat = connect_edges(sin_phi1, sin_phi2,  cos_phi1, cos_phi2, eta1, eta2)\n",
    "            edge_features.append(edge_feat)\n",
    "        \n",
    "        edge_features = torch.tensor(edge_features, dtype=torch.float)  # Ensure correct dtype and shape\n",
    "\n",
    "        # Ensure edge_index and edge_attr have correct dimensions\n",
    "        assert edge_features.size(1) == 3, \"Edge features should have 3 dimensions\"\n",
    "        assert edge_features.size(0) == self.edge_index.size(1), \"Number of edges should match edge features\"\n",
    "        \n",
    "        # Create the graph data object\n",
    "        data = Data(\n",
    "            x=node_features, \n",
    "            edge_index=self.edge_index, \n",
    "            edge_attr=edge_features,\n",
    "            y=torch.tensor(self.label[i], dtype=torch.float)\n",
    "        )\n",
    "        \n",
    "        return data\n"
   ]
  },
  {
   "cell_type": "code",
   "execution_count": 38,
   "id": "8053065a",
   "metadata": {
    "execution": {
     "iopub.execute_input": "2025-05-06T19:51:38.932662Z",
     "iopub.status.busy": "2025-05-06T19:51:38.932492Z",
     "iopub.status.idle": "2025-05-06T19:51:38.936644Z",
     "shell.execute_reply": "2025-05-06T19:51:38.935980Z"
    },
    "papermill": {
     "duration": 0.028714,
     "end_time": "2025-05-06T19:51:38.937785",
     "exception": false,
     "start_time": "2025-05-06T19:51:38.909071",
     "status": "completed"
    },
    "tags": []
   },
   "outputs": [
    {
     "data": {
      "text/plain": [
       "array([693515, 275177, 215047, ..., 470924, 491755, 128037])"
      ]
     },
     "execution_count": 38,
     "metadata": {},
     "output_type": "execute_result"
    }
   ],
   "source": [
    "train_idx"
   ]
  },
  {
   "cell_type": "code",
   "execution_count": 39,
   "id": "f2e51d57",
   "metadata": {
    "execution": {
     "iopub.execute_input": "2025-05-06T19:51:38.981204Z",
     "iopub.status.busy": "2025-05-06T19:51:38.981036Z",
     "iopub.status.idle": "2025-05-06T19:51:39.022875Z",
     "shell.execute_reply": "2025-05-06T19:51:39.022332Z"
    },
    "papermill": {
     "duration": 0.064967,
     "end_time": "2025-05-06T19:51:39.023864",
     "exception": false,
     "start_time": "2025-05-06T19:51:38.958897",
     "status": "completed"
    },
    "tags": []
   },
   "outputs": [
    {
     "data": {
      "text/plain": [
       "Data(x=[4, 1], edge_index=[2, 12], edge_attr=[12, 3], y=-0.6552883386611938)"
      ]
     },
     "execution_count": 39,
     "metadata": {},
     "output_type": "execute_result"
    }
   ],
   "source": [
    "train_dataset = Graph_dataset(filtered_df, label, edge_index, train_idx)\n",
    "next(iter(train_dataset))"
   ]
  },
  {
   "cell_type": "code",
   "execution_count": 40,
   "id": "1f4e559a",
   "metadata": {
    "execution": {
     "iopub.execute_input": "2025-05-06T19:51:39.067577Z",
     "iopub.status.busy": "2025-05-06T19:51:39.067201Z",
     "iopub.status.idle": "2025-05-06T19:51:39.743855Z",
     "shell.execute_reply": "2025-05-06T19:51:39.743062Z"
    },
    "papermill": {
     "duration": 0.700005,
     "end_time": "2025-05-06T19:51:39.745242",
     "exception": false,
     "start_time": "2025-05-06T19:51:39.045237",
     "status": "completed"
    },
    "tags": []
   },
   "outputs": [],
   "source": [
    "import networkx as nx\n",
    "import matplotlib.pyplot as plt\n",
    "import random"
   ]
  },
  {
   "cell_type": "code",
   "execution_count": 41,
   "id": "26611ae9",
   "metadata": {
    "execution": {
     "iopub.execute_input": "2025-05-06T19:51:39.790675Z",
     "iopub.status.busy": "2025-05-06T19:51:39.790225Z",
     "iopub.status.idle": "2025-05-06T19:51:39.980285Z",
     "shell.execute_reply": "2025-05-06T19:51:39.979326Z"
    },
    "papermill": {
     "duration": 0.214018,
     "end_time": "2025-05-06T19:51:39.982113",
     "exception": false,
     "start_time": "2025-05-06T19:51:39.768095",
     "status": "completed"
    },
    "tags": []
   },
   "outputs": [
    {
     "data": {
      "image/png": "[encoded data removed]",
      "text/plain": [
       "<Figure size 640x480 with 1 Axes>"
      ]
     },
     "metadata": {},
     "output_type": "display_data"
    }
   ],
   "source": [
    "def plot_graph(data):\n",
    "    G = nx.Graph()\n",
    "    num_nodes = data.x.shape[0]\n",
    "    G.add_nodes_from(range(num_nodes))\n",
    "    edge_index = data.edge_index.numpy()\n",
    "    edges = list(zip(edge_index[0], edge_index[1]))\n",
    "    G.add_edges_from(edges)\n",
    "    \n",
    "    pos = nx.spring_layout(G)\n",
    "    nx.draw(G, pos, with_labels=True, node_color='skyblue', node_size=700, edge_color='gray')\n",
    "    plt.show()\n",
    "\n",
    "\n",
    "for idx in [0]:\n",
    "    graph_data = train_dataset[idx]\n",
    "    plot_graph(graph_data)"
   ]
  },
  {
   "cell_type": "markdown",
   "id": "5e5c3430",
   "metadata": {
    "papermill": {
     "duration": 0.024801,
     "end_time": "2025-05-06T19:51:40.049269",
     "exception": false,
     "start_time": "2025-05-06T19:51:40.024468",
     "status": "completed"
    },
    "tags": []
   },
   "source": [
    "**Yes we wanted the fully connected graph**"
   ]
  },
  {
   "cell_type": "code",
   "execution_count": 42,
   "id": "648e5bea",
   "metadata": {
    "execution": {
     "iopub.execute_input": "2025-05-06T19:51:40.093935Z",
     "iopub.status.busy": "2025-05-06T19:51:40.093659Z",
     "iopub.status.idle": "2025-05-06T19:51:40.098174Z",
     "shell.execute_reply": "2025-05-06T19:51:40.097614Z"
    },
    "papermill": {
     "duration": 0.028096,
     "end_time": "2025-05-06T19:51:40.099187",
     "exception": false,
     "start_time": "2025-05-06T19:51:40.071091",
     "status": "completed"
    },
    "tags": []
   },
   "outputs": [],
   "source": [
    "train_loader = DataLoader(Graph_dataset(filtered_df, label, edge_index , train_idx), batch_size=1024)\n",
    "test_loader = DataLoader(Graph_dataset(filtered_df, label, edge_index , test_idx), batch_size=1024)"
   ]
  },
  {
   "cell_type": "code",
   "execution_count": 43,
   "id": "62455792",
   "metadata": {
    "execution": {
     "iopub.execute_input": "2025-05-06T19:51:40.143832Z",
     "iopub.status.busy": "2025-05-06T19:51:40.143194Z",
     "iopub.status.idle": "2025-05-06T19:51:41.721428Z",
     "shell.execute_reply": "2025-05-06T19:51:41.720693Z"
    },
    "papermill": {
     "duration": 1.601646,
     "end_time": "2025-05-06T19:51:41.722617",
     "exception": false,
     "start_time": "2025-05-06T19:51:40.120971",
     "status": "completed"
    },
    "tags": []
   },
   "outputs": [
    {
     "data": {
      "text/plain": [
       "DataBatch(x=[4096, 1], edge_index=[2, 12288], edge_attr=[12288, 3], y=[1024], batch=[4096], ptr=[1025])"
      ]
     },
     "execution_count": 43,
     "metadata": {},
     "output_type": "execute_result"
    }
   ],
   "source": [
    "next(iter(train_loader))"
   ]
  },
  {
   "cell_type": "markdown",
   "id": "18736460",
   "metadata": {
    "papermill": {
     "duration": 0.021941,
     "end_time": "2025-05-06T19:51:41.767258",
     "exception": false,
     "start_time": "2025-05-06T19:51:41.745317",
     "status": "completed"
    },
    "tags": []
   },
   "source": [
    "**We are all set with the dataset and the dataloader**"
   ]
  },
  {
   "cell_type": "markdown",
   "id": "704eab34",
   "metadata": {
    "papermill": {
     "duration": 0.021812,
     "end_time": "2025-05-06T19:51:41.810969",
     "exception": false,
     "start_time": "2025-05-06T19:51:41.789157",
     "status": "completed"
    },
    "tags": []
   },
   "source": [
    "# Lets set the Model"
   ]
  },
  {
   "cell_type": "code",
   "execution_count": 44,
   "id": "b1ea7337",
   "metadata": {
    "execution": {
     "iopub.execute_input": "2025-05-06T19:51:41.856134Z",
     "iopub.status.busy": "2025-05-06T19:51:41.855862Z",
     "iopub.status.idle": "2025-05-06T19:51:41.859631Z",
     "shell.execute_reply": "2025-05-06T19:51:41.858949Z"
    },
    "papermill": {
     "duration": 0.027713,
     "end_time": "2025-05-06T19:51:41.860700",
     "exception": false,
     "start_time": "2025-05-06T19:51:41.832987",
     "status": "completed"
    },
    "tags": []
   },
   "outputs": [],
   "source": [
    "from torch_geometric.nn import GCNConv, GATConv, SAGEConv\n",
    "from torch_geometric.utils import to_dense_batch\n",
    "import torch\n",
    "import torch.nn as nn\n",
    "import torch.nn.functional as F"
   ]
  },
  {
   "cell_type": "code",
   "execution_count": 45,
   "id": "b8669365",
   "metadata": {
    "execution": {
     "iopub.execute_input": "2025-05-06T19:51:41.906194Z",
     "iopub.status.busy": "2025-05-06T19:51:41.905923Z",
     "iopub.status.idle": "2025-05-06T19:51:41.909536Z",
     "shell.execute_reply": "2025-05-06T19:51:41.908842Z"
    },
    "papermill": {
     "duration": 0.027764,
     "end_time": "2025-05-06T19:51:41.910791",
     "exception": false,
     "start_time": "2025-05-06T19:51:41.883027",
     "status": "completed"
    },
    "tags": []
   },
   "outputs": [],
   "source": [
    "import torch\n",
    "import torch.nn.functional as F\n",
    "from torch_geometric.nn import MessagePassing, GlobalAttention"
   ]
  },
  {
   "cell_type": "code",
   "execution_count": 46,
   "id": "ac1b745e",
   "metadata": {
    "execution": {
     "iopub.execute_input": "2025-05-06T19:51:41.957810Z",
     "iopub.status.busy": "2025-05-06T19:51:41.957574Z",
     "iopub.status.idle": "2025-05-06T19:51:41.964894Z",
     "shell.execute_reply": "2025-05-06T19:51:41.964332Z"
    },
    "papermill": {
     "duration": 0.031646,
     "end_time": "2025-05-06T19:51:41.965952",
     "exception": false,
     "start_time": "2025-05-06T19:51:41.934306",
     "status": "completed"
    },
    "tags": []
   },
   "outputs": [],
   "source": [
    "class MPL(MessagePassing):\n",
    "    def __init__(self, in_channels, out_channels, edge_attr_dim=3, edge_hidden_dim = 16):\n",
    "        super(MPL, self).__init__(aggr='add')\n",
    "        self.mlp1 = torch.nn.Linear(in_channels*2 + edge_hidden_dim, out_channels)\n",
    "        self.mlp2 = torch.nn.Linear(in_channels, out_channels)\n",
    "        self.mlp3 = torch.nn.Linear(2*out_channels, 1)\n",
    "        self.mlp4 = torch.nn.Linear(2*out_channels, 1)\n",
    "        self.mlp5 = torch.nn.Linear(in_channels,16)\n",
    "        self.mlp6 = torch.nn.Linear(out_channels,16)\n",
    "        self.mlp7 = torch.nn.Linear(16,1)\n",
    "        \n",
    "        self.edge_mlp = torch.nn.Sequential(\n",
    "            torch.nn.Linear(edge_attr_dim, edge_hidden_dim),\n",
    "            torch.nn.ReLU(),\n",
    "            torch.nn.Linear(edge_hidden_dim, edge_hidden_dim)\n",
    "        )\n",
    "\n",
    "    def forward(self, x, edge_index, edge_attr):\n",
    "        edge_attr_transformed = self.edge_mlp(edge_attr)\n",
    "        msg = self.propagate(edge_index, x=x, edge_attr=edge_attr_transformed)\n",
    "        \n",
    "        x = F.relu(self.mlp2(x))\n",
    "        w1 = F.sigmoid(self.mlp3(torch.cat([x,msg], dim=1)))\n",
    "        w2 = F.sigmoid(self.mlp4(torch.cat([x,msg], dim=1)))\n",
    "        out = w1*msg + w2*x\n",
    "        \n",
    "        return out\n",
    "\n",
    "    def message(self, x_i, x_j, edge_index, edge_attr):\n",
    "        edge_input = torch.cat([x_i, x_j-x_i, edge_attr], dim=1)\n",
    "        \n",
    "        msg = F.relu(self.mlp1(edge_input))\n",
    "\n",
    "        w1 = F.tanh(self.mlp5(x_i))\n",
    "        w2 = F.tanh(self.mlp6(msg))\n",
    "        w = self.mlp7(w1*w2)\n",
    "        w = softmax(w, edge_index[0])\n",
    "        \n",
    "        return msg * w"
   ]
  },
  {
   "cell_type": "code",
   "execution_count": 47,
   "id": "f067db11",
   "metadata": {
    "execution": {
     "iopub.execute_input": "2025-05-06T19:51:42.010368Z",
     "iopub.status.busy": "2025-05-06T19:51:42.010156Z",
     "iopub.status.idle": "2025-05-06T19:51:42.016445Z",
     "shell.execute_reply": "2025-05-06T19:51:42.015961Z"
    },
    "papermill": {
     "duration": 0.029676,
     "end_time": "2025-05-06T19:51:42.017506",
     "exception": false,
     "start_time": "2025-05-06T19:51:41.987830",
     "status": "completed"
    },
    "tags": []
   },
   "outputs": [],
   "source": [
    "class MODEL_GNN(torch.nn.Module):\n",
    "    def __init__(self):\n",
    "        super(MODEL_GNN, self).__init__()\n",
    "        self.conv1 = MPL(1, 8)  \n",
    "        self.conv2 = MPL(8, 12)\n",
    "        self.conv3 = MPL(12, 12)\n",
    "        self.conv4 = MPL(12, 16)\n",
    "        \n",
    "        \n",
    "        # Adjusted Linear layers to match the dimensions after concatenation\n",
    "        self.lin1 = torch.nn.Linear(28 , 22)\n",
    "        self.lin2 = torch.nn.Linear(22, 16)\n",
    "        self.lin3 = torch.nn.Linear(16, 16)\n",
    "        self.lin4 = torch.nn.Linear(16, 1)\n",
    "\n",
    "        self.global_att_pool1 = GlobalAttention(torch.nn.Sequential(torch.nn.Linear(12, 1)))\n",
    "        self.global_att_pool2 = GlobalAttention(torch.nn.Sequential(torch.nn.Linear(16, 1)))\n",
    "\n",
    "    def forward(self, data):\n",
    "        x, edge_index, batch = data.x, data.edge_index, data.batch\n",
    "        \n",
    "        x = F.relu(self.conv1(x, edge_index, data.edge_attr))\n",
    "        x = F.relu(self.conv2(x, edge_index, data.edge_attr))\n",
    "        x1 = self.global_att_pool1(x, batch)\n",
    "        \n",
    "        x = F.relu(self.conv3(x, edge_index, data.edge_attr))\n",
    "        x = F.relu(self.conv4(x, edge_index, data.edge_attr))\n",
    "        x2 = self.global_att_pool2(x, batch)\n",
    "        \n",
    "        x_out = torch.cat([x1, x2], dim=1)  # Concatenate pooled outputs\n",
    "        x = F.relu(self.lin1(x_out))\n",
    "        x = F.relu(self.lin2(x))\n",
    "        x = F.relu(self.lin3(x))\n",
    "        x = self.lin4(x).squeeze(1)\n",
    "\n",
    "        return x\n"
   ]
  },
  {
   "cell_type": "code",
   "execution_count": 48,
   "id": "5f5aa59a",
   "metadata": {
    "execution": {
     "iopub.execute_input": "2025-05-06T19:51:42.062024Z",
     "iopub.status.busy": "2025-05-06T19:51:42.061613Z",
     "iopub.status.idle": "2025-05-06T19:51:42.223015Z",
     "shell.execute_reply": "2025-05-06T19:51:42.222399Z"
    },
    "papermill": {
     "duration": 0.185041,
     "end_time": "2025-05-06T19:51:42.224384",
     "exception": false,
     "start_time": "2025-05-06T19:51:42.039343",
     "status": "completed"
    },
    "tags": []
   },
   "outputs": [],
   "source": [
    "# Example usage:\n",
    "# Initialize your model\n",
    "device = torch.device('cuda' if torch.cuda.is_available() else 'cpu')\n",
    "model = MODEL_GNN().to(device)"
   ]
  },
  {
   "cell_type": "code",
   "execution_count": 49,
   "id": "14cf5e88",
   "metadata": {
    "execution": {
     "iopub.execute_input": "2025-05-06T19:51:42.271433Z",
     "iopub.status.busy": "2025-05-06T19:51:42.271184Z",
     "iopub.status.idle": "2025-05-06T19:51:42.275753Z",
     "shell.execute_reply": "2025-05-06T19:51:42.275060Z"
    },
    "papermill": {
     "duration": 0.029462,
     "end_time": "2025-05-06T19:51:42.276801",
     "exception": false,
     "start_time": "2025-05-06T19:51:42.247339",
     "status": "completed"
    },
    "tags": []
   },
   "outputs": [
    {
     "data": {
      "text/plain": [
       "MODEL_GNN(\n",
       "  (conv1): MPL()\n",
       "  (conv2): MPL()\n",
       "  (conv3): MPL()\n",
       "  (conv4): MPL()\n",
       "  (lin1): Linear(in_features=28, out_features=22, bias=True)\n",
       "  (lin2): Linear(in_features=22, out_features=16, bias=True)\n",
       "  (lin3): Linear(in_features=16, out_features=16, bias=True)\n",
       "  (lin4): Linear(in_features=16, out_features=1, bias=True)\n",
       "  (global_att_pool1): GlobalAttention(gate_nn=Sequential(\n",
       "    (0): Linear(in_features=12, out_features=1, bias=True)\n",
       "  ), nn=None)\n",
       "  (global_att_pool2): GlobalAttention(gate_nn=Sequential(\n",
       "    (0): Linear(in_features=16, out_features=1, bias=True)\n",
       "  ), nn=None)\n",
       ")"
      ]
     },
     "execution_count": 49,
     "metadata": {},
     "output_type": "execute_result"
    }
   ],
   "source": [
    "model"
   ]
  },
  {
   "cell_type": "code",
   "execution_count": 50,
   "id": "51176dce",
   "metadata": {
    "execution": {
     "iopub.execute_input": "2025-05-06T19:51:42.321667Z",
     "iopub.status.busy": "2025-05-06T19:51:42.321466Z",
     "iopub.status.idle": "2025-05-06T19:51:42.326070Z",
     "shell.execute_reply": "2025-05-06T19:51:42.325360Z"
    },
    "papermill": {
     "duration": 0.028397,
     "end_time": "2025-05-06T19:51:42.327121",
     "exception": false,
     "start_time": "2025-05-06T19:51:42.298724",
     "status": "completed"
    },
    "tags": []
   },
   "outputs": [
    {
     "name": "stdout",
     "output_type": "stream",
     "text": [
      "Total number of parameters: 6545\n",
      "Number of learnable parameters: 6545\n"
     ]
    }
   ],
   "source": [
    "total_params = sum(p.numel() for p in model.parameters())\n",
    "learnable_params = sum(p.numel() for p in model.parameters() if p.requires_grad)\n",
    "\n",
    "print(f\"Total number of parameters: {total_params}\")\n",
    "print(f\"Number of learnable parameters: {learnable_params}\")"
   ]
  },
  {
   "cell_type": "code",
   "execution_count": 51,
   "id": "9181ae51",
   "metadata": {
    "execution": {
     "iopub.execute_input": "2025-05-06T19:51:42.372357Z",
     "iopub.status.busy": "2025-05-06T19:51:42.371819Z",
     "iopub.status.idle": "2025-05-06T19:51:42.376037Z",
     "shell.execute_reply": "2025-05-06T19:51:42.375507Z"
    },
    "papermill": {
     "duration": 0.027944,
     "end_time": "2025-05-06T19:51:42.377096",
     "exception": false,
     "start_time": "2025-05-06T19:51:42.349152",
     "status": "completed"
    },
    "tags": []
   },
   "outputs": [
    {
     "data": {
      "text/plain": [
       "MODEL_GNN(\n",
       "  (conv1): MPL()\n",
       "  (conv2): MPL()\n",
       "  (conv3): MPL()\n",
       "  (conv4): MPL()\n",
       "  (lin1): Linear(in_features=28, out_features=22, bias=True)\n",
       "  (lin2): Linear(in_features=22, out_features=16, bias=True)\n",
       "  (lin3): Linear(in_features=16, out_features=16, bias=True)\n",
       "  (lin4): Linear(in_features=16, out_features=1, bias=True)\n",
       "  (global_att_pool1): GlobalAttention(gate_nn=Sequential(\n",
       "    (0): Linear(in_features=12, out_features=1, bias=True)\n",
       "  ), nn=None)\n",
       "  (global_att_pool2): GlobalAttention(gate_nn=Sequential(\n",
       "    (0): Linear(in_features=16, out_features=1, bias=True)\n",
       "  ), nn=None)\n",
       ")"
      ]
     },
     "execution_count": 51,
     "metadata": {},
     "output_type": "execute_result"
    }
   ],
   "source": [
    "model"
   ]
  },
  {
   "cell_type": "code",
   "execution_count": 52,
   "id": "81beeda8",
   "metadata": {
    "execution": {
     "iopub.execute_input": "2025-05-06T19:51:42.422612Z",
     "iopub.status.busy": "2025-05-06T19:51:42.422122Z",
     "iopub.status.idle": "2025-05-06T19:51:42.428385Z",
     "shell.execute_reply": "2025-05-06T19:51:42.427877Z"
    },
    "papermill": {
     "duration": 0.030263,
     "end_time": "2025-05-06T19:51:42.429371",
     "exception": false,
     "start_time": "2025-05-06T19:51:42.399108",
     "status": "completed"
    },
    "tags": []
   },
   "outputs": [
    {
     "data": {
      "text/plain": [
       "Data(x=[4, 1], edge_index=[2, 12], edge_attr=[12, 3], y=2.224287271499634)"
      ]
     },
     "execution_count": 52,
     "metadata": {},
     "output_type": "execute_result"
    }
   ],
   "source": [
    "train_dataset[20]"
   ]
  },
  {
   "cell_type": "code",
   "execution_count": 53,
   "id": "96908af9",
   "metadata": {
    "execution": {
     "iopub.execute_input": "2025-05-06T19:51:42.474471Z",
     "iopub.status.busy": "2025-05-06T19:51:42.474112Z",
     "iopub.status.idle": "2025-05-06T19:51:42.479858Z",
     "shell.execute_reply": "2025-05-06T19:51:42.479367Z"
    },
    "papermill": {
     "duration": 0.029559,
     "end_time": "2025-05-06T19:51:42.481046",
     "exception": false,
     "start_time": "2025-05-06T19:51:42.451487",
     "status": "completed"
    },
    "tags": []
   },
   "outputs": [],
   "source": [
    "data = train_dataset[20]  # Get the data instance\n",
    "x = data.x  # Node features: shape [4, 1]\n",
    "edge_index = data.edge_index  # Edge indices: shape [2, 12]\n",
    "edge_attr = data.edge_attr  # Edge attributes: shape [12, 3]\n",
    "batch = torch.zeros(x.size(0), dtype=torch.long) "
   ]
  },
  {
   "cell_type": "code",
   "execution_count": 54,
   "id": "35550ad4",
   "metadata": {
    "execution": {
     "iopub.execute_input": "2025-05-06T19:51:42.525659Z",
     "iopub.status.busy": "2025-05-06T19:51:42.525490Z",
     "iopub.status.idle": "2025-05-06T19:51:42.528195Z",
     "shell.execute_reply": "2025-05-06T19:51:42.527714Z"
    },
    "papermill": {
     "duration": 0.026091,
     "end_time": "2025-05-06T19:51:42.529127",
     "exception": false,
     "start_time": "2025-05-06T19:51:42.503036",
     "status": "completed"
    },
    "tags": []
   },
   "outputs": [],
   "source": [
    "# Forward pass with input data x and edge_index"
   ]
  },
  {
   "cell_type": "code",
   "execution_count": 55,
   "id": "0fff6149",
   "metadata": {
    "execution": {
     "iopub.execute_input": "2025-05-06T19:51:42.574159Z",
     "iopub.status.busy": "2025-05-06T19:51:42.573988Z",
     "iopub.status.idle": "2025-05-06T19:51:42.577111Z",
     "shell.execute_reply": "2025-05-06T19:51:42.576579Z"
    },
    "papermill": {
     "duration": 0.026727,
     "end_time": "2025-05-06T19:51:42.578066",
     "exception": false,
     "start_time": "2025-05-06T19:51:42.551339",
     "status": "completed"
    },
    "tags": []
   },
   "outputs": [],
   "source": [
    "# Define the MSE loss function\n",
    "import torch.nn as nn\n",
    "criterion = nn.MSELoss()"
   ]
  },
  {
   "cell_type": "code",
   "execution_count": 56,
   "id": "f67b2c40",
   "metadata": {
    "execution": {
     "iopub.execute_input": "2025-05-06T19:51:42.623592Z",
     "iopub.status.busy": "2025-05-06T19:51:42.623417Z",
     "iopub.status.idle": "2025-05-06T19:51:42.631345Z",
     "shell.execute_reply": "2025-05-06T19:51:42.630648Z"
    },
    "papermill": {
     "duration": 0.032196,
     "end_time": "2025-05-06T19:51:42.632449",
     "exception": false,
     "start_time": "2025-05-06T19:51:42.600253",
     "status": "completed"
    },
    "tags": []
   },
   "outputs": [],
   "source": [
    "def train(train_loader, test_loader, prog_bar = True):\n",
    "    \n",
    "    train_losses, test_losses = list(), list()\n",
    "    min_test_loss = float('inf')\n",
    "    criterion = nn.MSELoss()\n",
    "    for epoch in range(epochs):\n",
    "        train_loss = 0\n",
    "        test_loss = 0\n",
    "        if prog_bar:\n",
    "            pbar = tqdm(train_loader,position=0)\n",
    "        else:\n",
    "            pbar = train_loader\n",
    "            \n",
    "        # train\n",
    "        for data in pbar:\n",
    "            data = data.to(device)\n",
    "            optimizer.zero_grad()\n",
    "            out = model(data)\n",
    "            labels = data.y\n",
    "            loss = criterion(out, data.y)\n",
    "            loss.backward()\n",
    "            optimizer.step()\n",
    "            if prog_bar:\n",
    "                pbar.set_description('MSEError: '+str(loss.cpu().detach().numpy()))\n",
    "                train_loss += loss.cpu().detach().numpy()/len(train_loader)\n",
    "                \n",
    "        # test\n",
    "        for data in test_loader:\n",
    "            data = data.to(device)\n",
    "            optimizer.zero_grad()\n",
    "            out = model(data)\n",
    "            labels = data.y\n",
    "            loss = criterion(out, data.y)\n",
    "            test_loss += loss.cpu().detach().numpy()/len(test_loader)\n",
    "        if test_loss<min_test_loss:\n",
    "            print('Min loss changed from '+str(min_test_loss)+' to '+str(test_loss))\n",
    "            min_test_loss = test_loss\n",
    "            torch.save(model.state_dict(), model_name)\n",
    "        train_losses.append(train_loss)\n",
    "        test_losses.append(test_loss)\n",
    "        if epoch > 10 and min(test_losses[-7:])>min_test_loss+1e-9:\n",
    "            break\n",
    "        lr_scheduler.step(test_loss)\n",
    "        print('Epoch: ', str(epoch+1)+'/'+str(epochs),'| Training Loss: ', train_loss, '| Testing Loss: ', test_loss)\n",
    "        \n",
    "        if prog_bar and (epoch%5==0):\n",
    "            plt.plot(train_losses, label=\"Train Loss\")\n",
    "            plt.plot(test_losses, label=\"Validation Loss\")\n",
    "            plt.xlabel(\"# Epoch\")\n",
    "            plt.ylabel(\"Loss\")\n",
    "            plt.legend(loc='upper right')\n",
    "            plt.show()\n",
    "    return train_losses, test_losses"
   ]
  },
  {
   "cell_type": "code",
   "execution_count": 57,
   "id": "1f157992",
   "metadata": {
    "execution": {
     "iopub.execute_input": "2025-05-06T19:51:42.677938Z",
     "iopub.status.busy": "2025-05-06T19:51:42.677520Z",
     "iopub.status.idle": "2025-05-06T19:51:42.683249Z",
     "shell.execute_reply": "2025-05-06T19:51:42.682573Z"
    },
    "papermill": {
     "duration": 0.029553,
     "end_time": "2025-05-06T19:51:42.684332",
     "exception": false,
     "start_time": "2025-05-06T19:51:42.654779",
     "status": "completed"
    },
    "tags": []
   },
   "outputs": [],
   "source": [
    "def pTLossTorch(y_pred,y_true):\n",
    "#     if not inv:\n",
    "#         y_pred = torch.pow(y_pred,-1)\n",
    "#         y_true = torch.pow(y_true,-1)\n",
    "    y_t = (y_true<80).type(torch.FloatTensor)*y_true.type(torch.FloatTensor) + (y_true>=80).type(torch.FloatTensor)*(y_true<250).type(torch.FloatTensor)*y_true.type(torch.FloatTensor)**2.4 + (y_true>=160).type(torch.FloatTensor)*10 \n",
    "    return torch.mean(y_t.type(torch.FloatTensor)*torch.pow((y_pred-y_true)/y_true,2).type(torch.FloatTensor))/250\n",
    "\n",
    "def CustompTLoss(output, target, lower_pt_limit):\n",
    "    \n",
    "    if not isinstance(lower_pt_limit, torch.Tensor):\n",
    "        lower_pt_limit = torch.tensor(lower_pt_limit)\n",
    "    \n",
    "    lower_pt_limit = lower_pt_limit.to(output.dtype)\n",
    "    output =torch.clip(output, min=lower_pt_limit.to(device))\n",
    "    loss = torch.mean((target - output)**2 + torch.gt(output, lower_pt_limit.long() * \\\n",
    "        (1 / (1 + torch.exp(-(output - lower_pt_limit) * 3)) - 1) + \\\n",
    "            torch.le(output, lower_pt_limit).long()*(-1/2)))\n",
    "    return loss\n",
    "\n"
   ]
  },
  {
   "cell_type": "code",
   "execution_count": 58,
   "id": "f698d92c",
   "metadata": {
    "execution": {
     "iopub.execute_input": "2025-05-06T19:51:42.729439Z",
     "iopub.status.busy": "2025-05-06T19:51:42.728949Z",
     "iopub.status.idle": "2025-05-06T19:51:42.731830Z",
     "shell.execute_reply": "2025-05-06T19:51:42.731310Z"
    },
    "papermill": {
     "duration": 0.02648,
     "end_time": "2025-05-06T19:51:42.732856",
     "exception": false,
     "start_time": "2025-05-06T19:51:42.706376",
     "status": "completed"
    },
    "tags": []
   },
   "outputs": [],
   "source": [
    "name =  f\"CONVERTED_graph\""
   ]
  },
  {
   "cell_type": "code",
   "execution_count": 59,
   "id": "1d5bdce5",
   "metadata": {
    "execution": {
     "iopub.execute_input": "2025-05-06T19:51:42.778203Z",
     "iopub.status.busy": "2025-05-06T19:51:42.778033Z",
     "iopub.status.idle": "2025-05-06T19:51:42.781851Z",
     "shell.execute_reply": "2025-05-06T19:51:42.781349Z"
    },
    "papermill": {
     "duration": 0.027656,
     "end_time": "2025-05-06T19:51:42.782949",
     "exception": false,
     "start_time": "2025-05-06T19:51:42.755293",
     "status": "completed"
    },
    "tags": []
   },
   "outputs": [],
   "source": [
    "min_PT = label.min()"
   ]
  },
  {
   "cell_type": "code",
   "execution_count": 60,
   "id": "dd7b8a78",
   "metadata": {
    "execution": {
     "iopub.execute_input": "2025-05-06T19:51:42.828250Z",
     "iopub.status.busy": "2025-05-06T19:51:42.828052Z",
     "iopub.status.idle": "2025-05-06T19:51:42.831966Z",
     "shell.execute_reply": "2025-05-06T19:51:42.831289Z"
    },
    "papermill": {
     "duration": 0.027932,
     "end_time": "2025-05-06T19:51:42.833095",
     "exception": false,
     "start_time": "2025-05-06T19:51:42.805163",
     "status": "completed"
    },
    "tags": []
   },
   "outputs": [],
   "source": [
    "max_pT = label.max()"
   ]
  },
  {
   "cell_type": "code",
   "execution_count": 61,
   "id": "51e669de",
   "metadata": {
    "execution": {
     "iopub.execute_input": "2025-05-06T19:51:42.878306Z",
     "iopub.status.busy": "2025-05-06T19:51:42.878114Z",
     "iopub.status.idle": "2025-05-07T00:16:35.140820Z",
     "shell.execute_reply": "2025-05-07T00:16:35.140048Z"
    },
    "papermill": {
     "duration": 15892.311332,
     "end_time": "2025-05-07T00:16:35.166679",
     "exception": false,
     "start_time": "2025-05-06T19:51:42.855347",
     "status": "completed"
    },
    "tags": []
   },
   "outputs": [
    {
     "data": {
      "application/vnd.jupyter.widget-view+json": {
       "model_id": "1ad1a2f6436543a1b119ff4e9b9ee9c1",
       "version_major": 2,
       "version_minor": 0
      },
      "text/plain": [
       "  0%|          | 0/805 [00:00<?, ?it/s]"
      ]
     },
     "metadata": {},
     "output_type": "display_data"
    },
    {
     "name": "stdout",
     "output_type": "stream",
     "text": [
      "Min loss changed from inf to 0.2731902875965184\n",
      "Epoch:  1/10 | Training Loss:  0.40110707466276585 | Testing Loss:  0.2731902875965184\n"
     ]
    },
    {
     "data": {
      "image/png": "[encoded data removed]",
      "text/plain": [
       "<Figure size 640x480 with 1 Axes>"
      ]
     },
     "metadata": {},
     "output_type": "display_data"
    },
    {
     "data": {
      "application/vnd.jupyter.widget-view+json": {
       "model_id": "ec38243c1b274e7185500209086a5fc6",
       "version_major": 2,
       "version_minor": 0
      },
      "text/plain": [
       "  0%|          | 0/805 [00:00<?, ?it/s]"
      ]
     },
     "metadata": {},
     "output_type": "display_data"
    },
    {
     "name": "stdout",
     "output_type": "stream",
     "text": [
      "Min loss changed from 0.2731902875965184 to 0.268169422698493\n",
      "Epoch:  2/10 | Training Loss:  0.2626792308151354 | Testing Loss:  0.268169422698493\n"
     ]
    },
    {
     "data": {
      "application/vnd.jupyter.widget-view+json": {
       "model_id": "aace97f6c2d546c9a4302ea3fac0df8e",
       "version_major": 2,
       "version_minor": 0
      },
      "text/plain": [
       "  0%|          | 0/805 [00:00<?, ?it/s]"
      ]
     },
     "metadata": {},
     "output_type": "display_data"
    },
    {
     "name": "stdout",
     "output_type": "stream",
     "text": [
      "Min loss changed from 0.268169422698493 to 0.263948059834466\n",
      "Epoch:  3/10 | Training Loss:  0.25680808828484186 | Testing Loss:  0.263948059834466\n"
     ]
    },
    {
     "data": {
      "application/vnd.jupyter.widget-view+json": {
       "model_id": "6d37d2b83f154d6ca0a46ec746020180",
       "version_major": 2,
       "version_minor": 0
      },
      "text/plain": [
       "  0%|          | 0/805 [00:00<?, ?it/s]"
      ]
     },
     "metadata": {},
     "output_type": "display_data"
    },
    {
     "name": "stdout",
     "output_type": "stream",
     "text": [
      "Min loss changed from 0.263948059834466 to 0.26084830516045626\n",
      "Epoch:  4/10 | Training Loss:  0.2537230445176172 | Testing Loss:  0.26084830516045626\n"
     ]
    },
    {
     "data": {
      "application/vnd.jupyter.widget-view+json": {
       "model_id": "4a937f8005e04a2cb01bea29911f541c",
       "version_major": 2,
       "version_minor": 0
      },
      "text/plain": [
       "  0%|          | 0/805 [00:00<?, ?it/s]"
      ]
     },
     "metadata": {},
     "output_type": "display_data"
    },
    {
     "name": "stdout",
     "output_type": "stream",
     "text": [
      "Min loss changed from 0.26084830516045626 to 0.25931001956214994\n",
      "Epoch:  5/10 | Training Loss:  0.2518136341564404 | Testing Loss:  0.25931001956214994\n"
     ]
    },
    {
     "data": {
      "application/vnd.jupyter.widget-view+json": {
       "model_id": "e6f36df35de24d72bf11fb1064a31351",
       "version_major": 2,
       "version_minor": 0
      },
      "text/plain": [
       "  0%|          | 0/805 [00:00<?, ?it/s]"
      ]
     },
     "metadata": {},
     "output_type": "display_data"
    },
    {
     "name": "stdout",
     "output_type": "stream",
     "text": [
      "Min loss changed from 0.25931001956214994 to 0.25703275941386095\n",
      "Epoch:  6/10 | Training Loss:  0.25051768797895174 | Testing Loss:  0.25703275941386095\n"
     ]
    },
    {
     "data": {
      "image/png": "[encoded data removed]",
      "text/plain": [
       "<Figure size 640x480 with 1 Axes>"
      ]
     },
     "metadata": {},
     "output_type": "display_data"
    },
    {
     "data": {
      "application/vnd.jupyter.widget-view+json": {
       "model_id": "e5b286dd72b04a509821f943e6fa0f1f",
       "version_major": 2,
       "version_minor": 0
      },
      "text/plain": [
       "  0%|          | 0/805 [00:00<?, ?it/s]"
      ]
     },
     "metadata": {},
     "output_type": "display_data"
    },
    {
     "name": "stdout",
     "output_type": "stream",
     "text": [
      "Min loss changed from 0.25703275941386095 to 0.25583569174355814\n",
      "Epoch:  7/10 | Training Loss:  0.24942287697184898 | Testing Loss:  0.25583569174355814\n"
     ]
    },
    {
     "data": {
      "application/vnd.jupyter.widget-view+json": {
       "model_id": "0cd151f38da949bbbe0853eb31fbb179",
       "version_major": 2,
       "version_minor": 0
      },
      "text/plain": [
       "  0%|          | 0/805 [00:00<?, ?it/s]"
      ]
     },
     "metadata": {},
     "output_type": "display_data"
    },
    {
     "name": "stdout",
     "output_type": "stream",
     "text": [
      "Min loss changed from 0.25583569174355814 to 0.2536350335225021\n",
      "Epoch:  8/10 | Training Loss:  0.24835158475437524 | Testing Loss:  0.2536350335225021\n"
     ]
    },
    {
     "data": {
      "application/vnd.jupyter.widget-view+json": {
       "model_id": "00cc2ef204e94853b9243e3038644718",
       "version_major": 2,
       "version_minor": 0
      },
      "text/plain": [
       "  0%|          | 0/805 [00:00<?, ?it/s]"
      ]
     },
     "metadata": {},
     "output_type": "display_data"
    },
    {
     "name": "stdout",
     "output_type": "stream",
     "text": [
      "Min loss changed from 0.2536350335225021 to 0.2507553031981581\n",
      "Epoch:  9/10 | Training Loss:  0.24737153303178963 | Testing Loss:  0.2507553031981581\n"
     ]
    },
    {
     "data": {
      "application/vnd.jupyter.widget-view+json": {
       "model_id": "b3f87d3677bd42f8840f7e5d0f9189af",
       "version_major": 2,
       "version_minor": 0
      },
      "text/plain": [
       "  0%|          | 0/805 [00:00<?, ?it/s]"
      ]
     },
     "metadata": {},
     "output_type": "display_data"
    },
    {
     "name": "stdout",
     "output_type": "stream",
     "text": [
      "Min loss changed from 0.2507553031981581 to 0.2475207189079559\n",
      "Epoch:  10/10 | Training Loss:  0.24616602629608259 | Testing Loss:  0.2475207189079559\n"
     ]
    }
   ],
   "source": [
    "epochs = 50\n",
    "model = MODEL_GNN().to(device)\n",
    "# model.load_state_dict(torch.load(\"/kaggle/input/eachstation-node-v4-4ddf6b/model_trained/CONVERTED_graph_lossno_inv_A2.pth\"))\n",
    "optimizer = torch.optim.Adam(model.parameters(), lr=0.001, weight_decay=5e-4)\n",
    "# optimizer = torch.optim.Adam(model.parameters(), lr=0.002, weight_decay=5e-4)\n",
    "lr_scheduler = torch.optim.lr_scheduler.ReduceLROnPlateau(optimizer, verbose=True, patience=1, factor=0.5)\n",
    "\n",
    "model_name = f'/kaggle/working/model_trained/{name}_loss' + 'no_inv_A2' + '.pth'\n",
    "os.makedirs(\"/kaggle/working/model_trained\" , exist_ok =True)\n",
    "train_losses, test_losses = train(train_loader, test_loader, prog_bar=True)"
   ]
  },
  {
   "cell_type": "markdown",
   "id": "9c64a3a3",
   "metadata": {
    "papermill": {
     "duration": 0.02405,
     "end_time": "2025-05-07T00:16:35.215277",
     "exception": false,
     "start_time": "2025-05-07T00:16:35.191227",
     "status": "completed"
    },
    "tags": []
   },
   "source": [
    "# TESTING"
   ]
  },
  {
   "cell_type": "markdown",
   "id": "45ac8243",
   "metadata": {
    "papermill": {
     "duration": 0.024428,
     "end_time": "2025-05-07T00:16:35.334556",
     "exception": false,
     "start_time": "2025-05-07T00:16:35.310128",
     "status": "completed"
    },
    "tags": []
   },
   "source": [
    "## Metrics"
   ]
  },
  {
   "cell_type": "code",
   "execution_count": 62,
   "id": "a0010928",
   "metadata": {
    "execution": {
     "iopub.execute_input": "2025-05-07T00:16:35.383613Z",
     "iopub.status.busy": "2025-05-07T00:16:35.383070Z",
     "iopub.status.idle": "2025-05-07T00:16:35.388042Z",
     "shell.execute_reply": "2025-05-07T00:16:35.387334Z"
    },
    "papermill": {
     "duration": 0.030792,
     "end_time": "2025-05-07T00:16:35.389175",
     "exception": false,
     "start_time": "2025-05-07T00:16:35.358383",
     "status": "completed"
    },
    "tags": []
   },
   "outputs": [],
   "source": [
    "def f1_comp(y_true,y_pred):\n",
    "    f1 = []\n",
    "    for i in range(100): \n",
    "        grnd = y_true >= i\n",
    "        pred = y_pred >= i\n",
    "        f1.append(sklearn.metrics.f1_score(grnd,pred))\n",
    "    return f1\n",
    "\n",
    "def acc_comp(y_true,y_pred):\n",
    "    acc = []\n",
    "    for i in range(100):\n",
    "        grnd = y_true >= i\n",
    "        pred = y_pred >= i\n",
    "        cmp = np.sum(np.equal(grnd,np.squeeze(pred))) \n",
    "        acc.append(cmp/len(grnd)*100)\n",
    "    return acc"
   ]
  },
  {
   "cell_type": "code",
   "execution_count": 63,
   "id": "94b7169d",
   "metadata": {
    "execution": {
     "iopub.execute_input": "2025-05-07T00:16:35.438200Z",
     "iopub.status.busy": "2025-05-07T00:16:35.437787Z",
     "iopub.status.idle": "2025-05-07T00:16:35.462038Z",
     "shell.execute_reply": "2025-05-07T00:16:35.461369Z"
    },
    "papermill": {
     "duration": 0.049708,
     "end_time": "2025-05-07T00:16:35.463055",
     "exception": false,
     "start_time": "2025-05-07T00:16:35.413347",
     "status": "completed"
    },
    "tags": []
   },
   "outputs": [
    {
     "data": {
      "text/plain": [
       "<All keys matched successfully>"
      ]
     },
     "execution_count": 63,
     "metadata": {},
     "output_type": "execute_result"
    }
   ],
   "source": [
    "# model_name = f'/kaggle/working/model_trained/{name}_loss' + 'no_inv_' + '.pth'\n",
    "# model_name = \"/kaggle/input/eachstation-node-v2/model_trained/CONVERTED_graph_lossno_inv_A2.pth\"\n",
    "device = torch.device('cuda' if torch.cuda.is_available() else 'cpu')\n",
    "loaded_model = MODEL_GNN().to(device)\n",
    "loaded_model.load_state_dict(torch.load(model_name))"
   ]
  },
  {
   "cell_type": "code",
   "execution_count": 64,
   "id": "f3d7c76e",
   "metadata": {
    "execution": {
     "iopub.execute_input": "2025-05-07T00:16:35.513970Z",
     "iopub.status.busy": "2025-05-07T00:16:35.513758Z",
     "iopub.status.idle": "2025-05-07T00:16:35.516845Z",
     "shell.execute_reply": "2025-05-07T00:16:35.516341Z"
    },
    "papermill": {
     "duration": 0.028659,
     "end_time": "2025-05-07T00:16:35.517791",
     "exception": false,
     "start_time": "2025-05-07T00:16:35.489132",
     "status": "completed"
    },
    "tags": []
   },
   "outputs": [],
   "source": [
    "import numpy as np\n",
    "import sklearn.metrics\n",
    "import torch\n",
    "from torch.utils.data import DataLoader\n",
    "from tqdm import tqdm"
   ]
  },
  {
   "cell_type": "code",
   "execution_count": 65,
   "id": "b060df2e",
   "metadata": {
    "execution": {
     "iopub.execute_input": "2025-05-07T00:16:35.566526Z",
     "iopub.status.busy": "2025-05-07T00:16:35.566334Z",
     "iopub.status.idle": "2025-05-07T00:21:54.597871Z",
     "shell.execute_reply": "2025-05-07T00:21:54.597119Z"
    },
    "papermill": {
     "duration": 319.057302,
     "end_time": "2025-05-07T00:21:54.599069",
     "exception": false,
     "start_time": "2025-05-07T00:16:35.541767",
     "status": "completed"
    },
    "tags": []
   },
   "outputs": [
    {
     "name": "stderr",
     "output_type": "stream",
     "text": [
      "  0%|          | 1/202 [00:01<05:13,  1.56s/it]"
     ]
    },
    {
     "name": "stdout",
     "output_type": "stream",
     "text": [
      "DataBatch(x=[4096, 1], edge_index=[2, 12288], edge_attr=[12288, 3], y=[1024], batch=[4096], ptr=[1025])\n"
     ]
    },
    {
     "name": "stderr",
     "output_type": "stream",
     "text": [
      "  1%|          | 2/202 [00:03<05:09,  1.55s/it]"
     ]
    },
    {
     "name": "stdout",
     "output_type": "stream",
     "text": [
      "DataBatch(x=[4096, 1], edge_index=[2, 12288], edge_attr=[12288, 3], y=[1024], batch=[4096], ptr=[1025])\n"
     ]
    },
    {
     "name": "stderr",
     "output_type": "stream",
     "text": [
      "  1%|▏         | 3/202 [00:04<05:09,  1.56s/it]"
     ]
    },
    {
     "name": "stdout",
     "output_type": "stream",
     "text": [
      "DataBatch(x=[4096, 1], edge_index=[2, 12288], edge_attr=[12288, 3], y=[1024], batch=[4096], ptr=[1025])\n"
     ]
    },
    {
     "name": "stderr",
     "output_type": "stream",
     "text": [
      "  2%|▏         | 4/202 [00:06<05:05,  1.54s/it]"
     ]
    },
    {
     "name": "stdout",
     "output_type": "stream",
     "text": [
      "DataBatch(x=[4096, 1], edge_index=[2, 12288], edge_attr=[12288, 3], y=[1024], batch=[4096], ptr=[1025])\n"
     ]
    },
    {
     "name": "stderr",
     "output_type": "stream",
     "text": [
      "  2%|▏         | 5/202 [00:07<05:16,  1.61s/it]"
     ]
    },
    {
     "name": "stdout",
     "output_type": "stream",
     "text": [
      "DataBatch(x=[4096, 1], edge_index=[2, 12288], edge_attr=[12288, 3], y=[1024], batch=[4096], ptr=[1025])\n"
     ]
    },
    {
     "name": "stderr",
     "output_type": "stream",
     "text": [
      "  3%|▎         | 6/202 [00:09<05:09,  1.58s/it]"
     ]
    },
    {
     "name": "stdout",
     "output_type": "stream",
     "text": [
      "DataBatch(x=[4096, 1], edge_index=[2, 12288], edge_attr=[12288, 3], y=[1024], batch=[4096], ptr=[1025])\n"
     ]
    },
    {
     "name": "stderr",
     "output_type": "stream",
     "text": [
      "  3%|▎         | 7/202 [00:10<05:05,  1.57s/it]"
     ]
    },
    {
     "name": "stdout",
     "output_type": "stream",
     "text": [
      "DataBatch(x=[4096, 1], edge_index=[2, 12288], edge_attr=[12288, 3], y=[1024], batch=[4096], ptr=[1025])\n"
     ]
    },
    {
     "name": "stderr",
     "output_type": "stream",
     "text": [
      "  4%|▍         | 8/202 [00:12<05:02,  1.56s/it]"
     ]
    },
    {
     "name": "stdout",
     "output_type": "stream",
     "text": [
      "DataBatch(x=[4096, 1], edge_index=[2, 12288], edge_attr=[12288, 3], y=[1024], batch=[4096], ptr=[1025])\n"
     ]
    },
    {
     "name": "stderr",
     "output_type": "stream",
     "text": [
      "  4%|▍         | 9/202 [00:14<04:59,  1.55s/it]"
     ]
    },
    {
     "name": "stdout",
     "output_type": "stream",
     "text": [
      "DataBatch(x=[4096, 1], edge_index=[2, 12288], edge_attr=[12288, 3], y=[1024], batch=[4096], ptr=[1025])\n"
     ]
    },
    {
     "name": "stderr",
     "output_type": "stream",
     "text": [
      "  5%|▍         | 10/202 [00:15<05:02,  1.57s/it]"
     ]
    },
    {
     "name": "stdout",
     "output_type": "stream",
     "text": [
      "DataBatch(x=[4096, 1], edge_index=[2, 12288], edge_attr=[12288, 3], y=[1024], batch=[4096], ptr=[1025])\n"
     ]
    },
    {
     "name": "stderr",
     "output_type": "stream",
     "text": [
      "  5%|▌         | 11/202 [00:17<04:59,  1.57s/it]"
     ]
    },
    {
     "name": "stdout",
     "output_type": "stream",
     "text": [
      "DataBatch(x=[4096, 1], edge_index=[2, 12288], edge_attr=[12288, 3], y=[1024], batch=[4096], ptr=[1025])\n"
     ]
    },
    {
     "name": "stderr",
     "output_type": "stream",
     "text": [
      "  6%|▌         | 12/202 [00:18<04:56,  1.56s/it]"
     ]
    },
    {
     "name": "stdout",
     "output_type": "stream",
     "text": [
      "DataBatch(x=[4096, 1], edge_index=[2, 12288], edge_attr=[12288, 3], y=[1024], batch=[4096], ptr=[1025])\n"
     ]
    },
    {
     "name": "stderr",
     "output_type": "stream",
     "text": [
      "  6%|▋         | 13/202 [00:20<04:53,  1.55s/it]"
     ]
    },
    {
     "name": "stdout",
     "output_type": "stream",
     "text": [
      "DataBatch(x=[4096, 1], edge_index=[2, 12288], edge_attr=[12288, 3], y=[1024], batch=[4096], ptr=[1025])\n"
     ]
    },
    {
     "name": "stderr",
     "output_type": "stream",
     "text": [
      "  7%|▋         | 14/202 [00:21<04:50,  1.55s/it]"
     ]
    },
    {
     "name": "stdout",
     "output_type": "stream",
     "text": [
      "DataBatch(x=[4096, 1], edge_index=[2, 12288], edge_attr=[12288, 3], y=[1024], batch=[4096], ptr=[1025])\n"
     ]
    },
    {
     "name": "stderr",
     "output_type": "stream",
     "text": [
      "  7%|▋         | 15/202 [00:23<04:49,  1.55s/it]"
     ]
    },
    {
     "name": "stdout",
     "output_type": "stream",
     "text": [
      "DataBatch(x=[4096, 1], edge_index=[2, 12288], edge_attr=[12288, 3], y=[1024], batch=[4096], ptr=[1025])\n"
     ]
    },
    {
     "name": "stderr",
     "output_type": "stream",
     "text": [
      "  8%|▊         | 16/202 [00:24<04:49,  1.56s/it]"
     ]
    },
    {
     "name": "stdout",
     "output_type": "stream",
     "text": [
      "DataBatch(x=[4096, 1], edge_index=[2, 12288], edge_attr=[12288, 3], y=[1024], batch=[4096], ptr=[1025])\n"
     ]
    },
    {
     "name": "stderr",
     "output_type": "stream",
     "text": [
      "  8%|▊         | 17/202 [00:26<04:47,  1.55s/it]"
     ]
    },
    {
     "name": "stdout",
     "output_type": "stream",
     "text": [
      "DataBatch(x=[4096, 1], edge_index=[2, 12288], edge_attr=[12288, 3], y=[1024], batch=[4096], ptr=[1025])\n"
     ]
    },
    {
     "name": "stderr",
     "output_type": "stream",
     "text": [
      "  9%|▉         | 18/202 [00:28<04:44,  1.55s/it]"
     ]
    },
    {
     "name": "stdout",
     "output_type": "stream",
     "text": [
      "DataBatch(x=[4096, 1], edge_index=[2, 12288], edge_attr=[12288, 3], y=[1024], batch=[4096], ptr=[1025])\n"
     ]
    },
    {
     "name": "stderr",
     "output_type": "stream",
     "text": [
      "  9%|▉         | 19/202 [00:29<04:53,  1.60s/it]"
     ]
    },
    {
     "name": "stdout",
     "output_type": "stream",
     "text": [
      "DataBatch(x=[4096, 1], edge_index=[2, 12288], edge_attr=[12288, 3], y=[1024], batch=[4096], ptr=[1025])\n"
     ]
    },
    {
     "name": "stderr",
     "output_type": "stream",
     "text": [
      " 10%|▉         | 20/202 [00:31<04:47,  1.58s/it]"
     ]
    },
    {
     "name": "stdout",
     "output_type": "stream",
     "text": [
      "DataBatch(x=[4096, 1], edge_index=[2, 12288], edge_attr=[12288, 3], y=[1024], batch=[4096], ptr=[1025])\n"
     ]
    },
    {
     "name": "stderr",
     "output_type": "stream",
     "text": [
      " 10%|█         | 21/202 [00:32<04:43,  1.57s/it]"
     ]
    },
    {
     "name": "stdout",
     "output_type": "stream",
     "text": [
      "DataBatch(x=[4096, 1], edge_index=[2, 12288], edge_attr=[12288, 3], y=[1024], batch=[4096], ptr=[1025])\n"
     ]
    },
    {
     "name": "stderr",
     "output_type": "stream",
     "text": [
      " 11%|█         | 22/202 [00:34<04:40,  1.56s/it]"
     ]
    },
    {
     "name": "stdout",
     "output_type": "stream",
     "text": [
      "DataBatch(x=[4096, 1], edge_index=[2, 12288], edge_attr=[12288, 3], y=[1024], batch=[4096], ptr=[1025])\n"
     ]
    },
    {
     "name": "stderr",
     "output_type": "stream",
     "text": [
      " 11%|█▏        | 23/202 [00:35<04:40,  1.56s/it]"
     ]
    },
    {
     "name": "stdout",
     "output_type": "stream",
     "text": [
      "DataBatch(x=[4096, 1], edge_index=[2, 12288], edge_attr=[12288, 3], y=[1024], batch=[4096], ptr=[1025])\n"
     ]
    },
    {
     "name": "stderr",
     "output_type": "stream",
     "text": [
      " 12%|█▏        | 24/202 [00:37<04:37,  1.56s/it]"
     ]
    },
    {
     "name": "stdout",
     "output_type": "stream",
     "text": [
      "DataBatch(x=[4096, 1], edge_index=[2, 12288], edge_attr=[12288, 3], y=[1024], batch=[4096], ptr=[1025])\n"
     ]
    },
    {
     "name": "stderr",
     "output_type": "stream",
     "text": [
      " 12%|█▏        | 25/202 [00:39<04:34,  1.55s/it]"
     ]
    },
    {
     "name": "stdout",
     "output_type": "stream",
     "text": [
      "DataBatch(x=[4096, 1], edge_index=[2, 12288], edge_attr=[12288, 3], y=[1024], batch=[4096], ptr=[1025])\n"
     ]
    },
    {
     "name": "stderr",
     "output_type": "stream",
     "text": [
      " 13%|█▎        | 26/202 [00:40<04:32,  1.55s/it]"
     ]
    },
    {
     "name": "stdout",
     "output_type": "stream",
     "text": [
      "DataBatch(x=[4096, 1], edge_index=[2, 12288], edge_attr=[12288, 3], y=[1024], batch=[4096], ptr=[1025])\n"
     ]
    },
    {
     "name": "stderr",
     "output_type": "stream",
     "text": [
      " 13%|█▎        | 27/202 [00:42<04:30,  1.55s/it]"
     ]
    },
    {
     "name": "stdout",
     "output_type": "stream",
     "text": [
      "DataBatch(x=[4096, 1], edge_index=[2, 12288], edge_attr=[12288, 3], y=[1024], batch=[4096], ptr=[1025])\n"
     ]
    },
    {
     "name": "stderr",
     "output_type": "stream",
     "text": [
      " 14%|█▍        | 28/202 [00:43<04:28,  1.54s/it]"
     ]
    },
    {
     "name": "stdout",
     "output_type": "stream",
     "text": [
      "DataBatch(x=[4096, 1], edge_index=[2, 12288], edge_attr=[12288, 3], y=[1024], batch=[4096], ptr=[1025])\n"
     ]
    },
    {
     "name": "stderr",
     "output_type": "stream",
     "text": [
      " 14%|█▍        | 29/202 [00:45<04:28,  1.55s/it]"
     ]
    },
    {
     "name": "stdout",
     "output_type": "stream",
     "text": [
      "DataBatch(x=[4096, 1], edge_index=[2, 12288], edge_attr=[12288, 3], y=[1024], batch=[4096], ptr=[1025])\n"
     ]
    },
    {
     "name": "stderr",
     "output_type": "stream",
     "text": [
      " 15%|█▍        | 30/202 [00:46<04:27,  1.56s/it]"
     ]
    },
    {
     "name": "stdout",
     "output_type": "stream",
     "text": [
      "DataBatch(x=[4096, 1], edge_index=[2, 12288], edge_attr=[12288, 3], y=[1024], batch=[4096], ptr=[1025])\n"
     ]
    },
    {
     "name": "stderr",
     "output_type": "stream",
     "text": [
      " 15%|█▌        | 31/202 [00:48<04:26,  1.56s/it]"
     ]
    },
    {
     "name": "stdout",
     "output_type": "stream",
     "text": [
      "DataBatch(x=[4096, 1], edge_index=[2, 12288], edge_attr=[12288, 3], y=[1024], batch=[4096], ptr=[1025])\n"
     ]
    },
    {
     "name": "stderr",
     "output_type": "stream",
     "text": [
      " 16%|█▌        | 32/202 [00:49<04:23,  1.55s/it]"
     ]
    },
    {
     "name": "stdout",
     "output_type": "stream",
     "text": [
      "DataBatch(x=[4096, 1], edge_index=[2, 12288], edge_attr=[12288, 3], y=[1024], batch=[4096], ptr=[1025])\n"
     ]
    },
    {
     "name": "stderr",
     "output_type": "stream",
     "text": [
      " 16%|█▋        | 33/202 [00:51<04:31,  1.60s/it]"
     ]
    },
    {
     "name": "stdout",
     "output_type": "stream",
     "text": [
      "DataBatch(x=[4096, 1], edge_index=[2, 12288], edge_attr=[12288, 3], y=[1024], batch=[4096], ptr=[1025])\n"
     ]
    },
    {
     "name": "stderr",
     "output_type": "stream",
     "text": [
      " 17%|█▋        | 34/202 [00:53<04:26,  1.59s/it]"
     ]
    },
    {
     "name": "stdout",
     "output_type": "stream",
     "text": [
      "DataBatch(x=[4096, 1], edge_index=[2, 12288], edge_attr=[12288, 3], y=[1024], batch=[4096], ptr=[1025])\n"
     ]
    },
    {
     "name": "stderr",
     "output_type": "stream",
     "text": [
      " 17%|█▋        | 35/202 [00:54<04:23,  1.58s/it]"
     ]
    },
    {
     "name": "stdout",
     "output_type": "stream",
     "text": [
      "DataBatch(x=[4096, 1], edge_index=[2, 12288], edge_attr=[12288, 3], y=[1024], batch=[4096], ptr=[1025])\n"
     ]
    },
    {
     "name": "stderr",
     "output_type": "stream",
     "text": [
      " 18%|█▊        | 36/202 [00:56<04:20,  1.57s/it]"
     ]
    },
    {
     "name": "stdout",
     "output_type": "stream",
     "text": [
      "DataBatch(x=[4096, 1], edge_index=[2, 12288], edge_attr=[12288, 3], y=[1024], batch=[4096], ptr=[1025])\n"
     ]
    },
    {
     "name": "stderr",
     "output_type": "stream",
     "text": [
      " 18%|█▊        | 37/202 [00:57<04:17,  1.56s/it]"
     ]
    },
    {
     "name": "stdout",
     "output_type": "stream",
     "text": [
      "DataBatch(x=[4096, 1], edge_index=[2, 12288], edge_attr=[12288, 3], y=[1024], batch=[4096], ptr=[1025])\n"
     ]
    },
    {
     "name": "stderr",
     "output_type": "stream",
     "text": [
      " 19%|█▉        | 38/202 [00:59<04:15,  1.56s/it]"
     ]
    },
    {
     "name": "stdout",
     "output_type": "stream",
     "text": [
      "DataBatch(x=[4096, 1], edge_index=[2, 12288], edge_attr=[12288, 3], y=[1024], batch=[4096], ptr=[1025])\n"
     ]
    },
    {
     "name": "stderr",
     "output_type": "stream",
     "text": [
      " 19%|█▉        | 39/202 [01:00<04:13,  1.55s/it]"
     ]
    },
    {
     "name": "stdout",
     "output_type": "stream",
     "text": [
      "DataBatch(x=[4096, 1], edge_index=[2, 12288], edge_attr=[12288, 3], y=[1024], batch=[4096], ptr=[1025])\n"
     ]
    },
    {
     "name": "stderr",
     "output_type": "stream",
     "text": [
      " 20%|█▉        | 40/202 [01:02<04:10,  1.55s/it]"
     ]
    },
    {
     "name": "stdout",
     "output_type": "stream",
     "text": [
      "DataBatch(x=[4096, 1], edge_index=[2, 12288], edge_attr=[12288, 3], y=[1024], batch=[4096], ptr=[1025])\n"
     ]
    },
    {
     "name": "stderr",
     "output_type": "stream",
     "text": [
      " 20%|██        | 41/202 [01:03<04:08,  1.55s/it]"
     ]
    },
    {
     "name": "stdout",
     "output_type": "stream",
     "text": [
      "DataBatch(x=[4096, 1], edge_index=[2, 12288], edge_attr=[12288, 3], y=[1024], batch=[4096], ptr=[1025])\n"
     ]
    },
    {
     "name": "stderr",
     "output_type": "stream",
     "text": [
      " 21%|██        | 42/202 [01:05<04:08,  1.55s/it]"
     ]
    },
    {
     "name": "stdout",
     "output_type": "stream",
     "text": [
      "DataBatch(x=[4096, 1], edge_index=[2, 12288], edge_attr=[12288, 3], y=[1024], batch=[4096], ptr=[1025])\n"
     ]
    },
    {
     "name": "stderr",
     "output_type": "stream",
     "text": [
      " 21%|██▏       | 43/202 [01:07<04:05,  1.55s/it]"
     ]
    },
    {
     "name": "stdout",
     "output_type": "stream",
     "text": [
      "DataBatch(x=[4096, 1], edge_index=[2, 12288], edge_attr=[12288, 3], y=[1024], batch=[4096], ptr=[1025])\n"
     ]
    },
    {
     "name": "stderr",
     "output_type": "stream",
     "text": [
      " 22%|██▏       | 44/202 [01:08<04:03,  1.54s/it]"
     ]
    },
    {
     "name": "stdout",
     "output_type": "stream",
     "text": [
      "DataBatch(x=[4096, 1], edge_index=[2, 12288], edge_attr=[12288, 3], y=[1024], batch=[4096], ptr=[1025])\n"
     ]
    },
    {
     "name": "stderr",
     "output_type": "stream",
     "text": [
      " 22%|██▏       | 45/202 [01:10<04:02,  1.54s/it]"
     ]
    },
    {
     "name": "stdout",
     "output_type": "stream",
     "text": [
      "DataBatch(x=[4096, 1], edge_index=[2, 12288], edge_attr=[12288, 3], y=[1024], batch=[4096], ptr=[1025])\n"
     ]
    },
    {
     "name": "stderr",
     "output_type": "stream",
     "text": [
      " 23%|██▎       | 46/202 [01:11<04:00,  1.54s/it]"
     ]
    },
    {
     "name": "stdout",
     "output_type": "stream",
     "text": [
      "DataBatch(x=[4096, 1], edge_index=[2, 12288], edge_attr=[12288, 3], y=[1024], batch=[4096], ptr=[1025])\n"
     ]
    },
    {
     "name": "stderr",
     "output_type": "stream",
     "text": [
      " 23%|██▎       | 47/202 [01:13<03:59,  1.54s/it]"
     ]
    },
    {
     "name": "stdout",
     "output_type": "stream",
     "text": [
      "DataBatch(x=[4096, 1], edge_index=[2, 12288], edge_attr=[12288, 3], y=[1024], batch=[4096], ptr=[1025])\n"
     ]
    },
    {
     "name": "stderr",
     "output_type": "stream",
     "text": [
      " 24%|██▍       | 48/202 [01:14<04:07,  1.61s/it]"
     ]
    },
    {
     "name": "stdout",
     "output_type": "stream",
     "text": [
      "DataBatch(x=[4096, 1], edge_index=[2, 12288], edge_attr=[12288, 3], y=[1024], batch=[4096], ptr=[1025])\n"
     ]
    },
    {
     "name": "stderr",
     "output_type": "stream",
     "text": [
      " 24%|██▍       | 49/202 [01:16<04:02,  1.59s/it]"
     ]
    },
    {
     "name": "stdout",
     "output_type": "stream",
     "text": [
      "DataBatch(x=[4096, 1], edge_index=[2, 12288], edge_attr=[12288, 3], y=[1024], batch=[4096], ptr=[1025])\n"
     ]
    },
    {
     "name": "stderr",
     "output_type": "stream",
     "text": [
      " 25%|██▍       | 50/202 [01:18<04:00,  1.58s/it]"
     ]
    },
    {
     "name": "stdout",
     "output_type": "stream",
     "text": [
      "DataBatch(x=[4096, 1], edge_index=[2, 12288], edge_attr=[12288, 3], y=[1024], batch=[4096], ptr=[1025])\n"
     ]
    },
    {
     "name": "stderr",
     "output_type": "stream",
     "text": [
      " 25%|██▌       | 51/202 [01:19<03:57,  1.58s/it]"
     ]
    },
    {
     "name": "stdout",
     "output_type": "stream",
     "text": [
      "DataBatch(x=[4096, 1], edge_index=[2, 12288], edge_attr=[12288, 3], y=[1024], batch=[4096], ptr=[1025])\n"
     ]
    },
    {
     "name": "stderr",
     "output_type": "stream",
     "text": [
      " 26%|██▌       | 52/202 [01:21<03:55,  1.57s/it]"
     ]
    },
    {
     "name": "stdout",
     "output_type": "stream",
     "text": [
      "DataBatch(x=[4096, 1], edge_index=[2, 12288], edge_attr=[12288, 3], y=[1024], batch=[4096], ptr=[1025])\n"
     ]
    },
    {
     "name": "stderr",
     "output_type": "stream",
     "text": [
      " 26%|██▌       | 53/202 [01:22<03:52,  1.56s/it]"
     ]
    },
    {
     "name": "stdout",
     "output_type": "stream",
     "text": [
      "DataBatch(x=[4096, 1], edge_index=[2, 12288], edge_attr=[12288, 3], y=[1024], batch=[4096], ptr=[1025])\n"
     ]
    },
    {
     "name": "stderr",
     "output_type": "stream",
     "text": [
      " 27%|██▋       | 54/202 [01:24<03:50,  1.56s/it]"
     ]
    },
    {
     "name": "stdout",
     "output_type": "stream",
     "text": [
      "DataBatch(x=[4096, 1], edge_index=[2, 12288], edge_attr=[12288, 3], y=[1024], batch=[4096], ptr=[1025])\n"
     ]
    },
    {
     "name": "stderr",
     "output_type": "stream",
     "text": [
      " 27%|██▋       | 55/202 [01:25<03:49,  1.56s/it]"
     ]
    },
    {
     "name": "stdout",
     "output_type": "stream",
     "text": [
      "DataBatch(x=[4096, 1], edge_index=[2, 12288], edge_attr=[12288, 3], y=[1024], batch=[4096], ptr=[1025])\n"
     ]
    },
    {
     "name": "stderr",
     "output_type": "stream",
     "text": [
      " 28%|██▊       | 56/202 [01:27<03:47,  1.56s/it]"
     ]
    },
    {
     "name": "stdout",
     "output_type": "stream",
     "text": [
      "DataBatch(x=[4096, 1], edge_index=[2, 12288], edge_attr=[12288, 3], y=[1024], batch=[4096], ptr=[1025])\n"
     ]
    },
    {
     "name": "stderr",
     "output_type": "stream",
     "text": [
      " 28%|██▊       | 57/202 [01:28<03:45,  1.55s/it]"
     ]
    },
    {
     "name": "stdout",
     "output_type": "stream",
     "text": [
      "DataBatch(x=[4096, 1], edge_index=[2, 12288], edge_attr=[12288, 3], y=[1024], batch=[4096], ptr=[1025])\n"
     ]
    },
    {
     "name": "stderr",
     "output_type": "stream",
     "text": [
      " 29%|██▊       | 58/202 [01:30<03:43,  1.55s/it]"
     ]
    },
    {
     "name": "stdout",
     "output_type": "stream",
     "text": [
      "DataBatch(x=[4096, 1], edge_index=[2, 12288], edge_attr=[12288, 3], y=[1024], batch=[4096], ptr=[1025])\n"
     ]
    },
    {
     "name": "stderr",
     "output_type": "stream",
     "text": [
      " 29%|██▉       | 59/202 [01:32<03:41,  1.55s/it]"
     ]
    },
    {
     "name": "stdout",
     "output_type": "stream",
     "text": [
      "DataBatch(x=[4096, 1], edge_index=[2, 12288], edge_attr=[12288, 3], y=[1024], batch=[4096], ptr=[1025])\n"
     ]
    },
    {
     "name": "stderr",
     "output_type": "stream",
     "text": [
      " 30%|██▉       | 60/202 [01:33<03:39,  1.55s/it]"
     ]
    },
    {
     "name": "stdout",
     "output_type": "stream",
     "text": [
      "DataBatch(x=[4096, 1], edge_index=[2, 12288], edge_attr=[12288, 3], y=[1024], batch=[4096], ptr=[1025])\n"
     ]
    },
    {
     "name": "stderr",
     "output_type": "stream",
     "text": [
      " 30%|███       | 61/202 [01:35<03:38,  1.55s/it]"
     ]
    },
    {
     "name": "stdout",
     "output_type": "stream",
     "text": [
      "DataBatch(x=[4096, 1], edge_index=[2, 12288], edge_attr=[12288, 3], y=[1024], batch=[4096], ptr=[1025])\n"
     ]
    },
    {
     "name": "stderr",
     "output_type": "stream",
     "text": [
      " 31%|███       | 62/202 [01:36<03:45,  1.61s/it]"
     ]
    },
    {
     "name": "stdout",
     "output_type": "stream",
     "text": [
      "DataBatch(x=[4096, 1], edge_index=[2, 12288], edge_attr=[12288, 3], y=[1024], batch=[4096], ptr=[1025])\n"
     ]
    },
    {
     "name": "stderr",
     "output_type": "stream",
     "text": [
      " 31%|███       | 63/202 [01:38<03:40,  1.59s/it]"
     ]
    },
    {
     "name": "stdout",
     "output_type": "stream",
     "text": [
      "DataBatch(x=[4096, 1], edge_index=[2, 12288], edge_attr=[12288, 3], y=[1024], batch=[4096], ptr=[1025])\n"
     ]
    },
    {
     "name": "stderr",
     "output_type": "stream",
     "text": [
      " 32%|███▏      | 64/202 [01:39<03:36,  1.57s/it]"
     ]
    },
    {
     "name": "stdout",
     "output_type": "stream",
     "text": [
      "DataBatch(x=[4096, 1], edge_index=[2, 12288], edge_attr=[12288, 3], y=[1024], batch=[4096], ptr=[1025])\n"
     ]
    },
    {
     "name": "stderr",
     "output_type": "stream",
     "text": [
      " 32%|███▏      | 65/202 [01:41<03:33,  1.56s/it]"
     ]
    },
    {
     "name": "stdout",
     "output_type": "stream",
     "text": [
      "DataBatch(x=[4096, 1], edge_index=[2, 12288], edge_attr=[12288, 3], y=[1024], batch=[4096], ptr=[1025])\n"
     ]
    },
    {
     "name": "stderr",
     "output_type": "stream",
     "text": [
      " 33%|███▎      | 66/202 [01:43<03:31,  1.55s/it]"
     ]
    },
    {
     "name": "stdout",
     "output_type": "stream",
     "text": [
      "DataBatch(x=[4096, 1], edge_index=[2, 12288], edge_attr=[12288, 3], y=[1024], batch=[4096], ptr=[1025])\n"
     ]
    },
    {
     "name": "stderr",
     "output_type": "stream",
     "text": [
      " 33%|███▎      | 67/202 [01:44<03:30,  1.56s/it]"
     ]
    },
    {
     "name": "stdout",
     "output_type": "stream",
     "text": [
      "DataBatch(x=[4096, 1], edge_index=[2, 12288], edge_attr=[12288, 3], y=[1024], batch=[4096], ptr=[1025])\n"
     ]
    },
    {
     "name": "stderr",
     "output_type": "stream",
     "text": [
      " 34%|███▎      | 68/202 [01:46<03:27,  1.55s/it]"
     ]
    },
    {
     "name": "stdout",
     "output_type": "stream",
     "text": [
      "DataBatch(x=[4096, 1], edge_index=[2, 12288], edge_attr=[12288, 3], y=[1024], batch=[4096], ptr=[1025])\n"
     ]
    },
    {
     "name": "stderr",
     "output_type": "stream",
     "text": [
      " 34%|███▍      | 69/202 [01:47<03:25,  1.55s/it]"
     ]
    },
    {
     "name": "stdout",
     "output_type": "stream",
     "text": [
      "DataBatch(x=[4096, 1], edge_index=[2, 12288], edge_attr=[12288, 3], y=[1024], batch=[4096], ptr=[1025])\n"
     ]
    },
    {
     "name": "stderr",
     "output_type": "stream",
     "text": [
      " 35%|███▍      | 70/202 [01:49<03:23,  1.54s/it]"
     ]
    },
    {
     "name": "stdout",
     "output_type": "stream",
     "text": [
      "DataBatch(x=[4096, 1], edge_index=[2, 12288], edge_attr=[12288, 3], y=[1024], batch=[4096], ptr=[1025])\n"
     ]
    },
    {
     "name": "stderr",
     "output_type": "stream",
     "text": [
      " 35%|███▌      | 71/202 [01:50<03:24,  1.56s/it]"
     ]
    },
    {
     "name": "stdout",
     "output_type": "stream",
     "text": [
      "DataBatch(x=[4096, 1], edge_index=[2, 12288], edge_attr=[12288, 3], y=[1024], batch=[4096], ptr=[1025])\n"
     ]
    },
    {
     "name": "stderr",
     "output_type": "stream",
     "text": [
      " 36%|███▌      | 72/202 [01:52<03:21,  1.55s/it]"
     ]
    },
    {
     "name": "stdout",
     "output_type": "stream",
     "text": [
      "DataBatch(x=[4096, 1], edge_index=[2, 12288], edge_attr=[12288, 3], y=[1024], batch=[4096], ptr=[1025])\n"
     ]
    },
    {
     "name": "stderr",
     "output_type": "stream",
     "text": [
      " 36%|███▌      | 73/202 [01:53<03:19,  1.55s/it]"
     ]
    },
    {
     "name": "stdout",
     "output_type": "stream",
     "text": [
      "DataBatch(x=[4096, 1], edge_index=[2, 12288], edge_attr=[12288, 3], y=[1024], batch=[4096], ptr=[1025])\n"
     ]
    },
    {
     "name": "stderr",
     "output_type": "stream",
     "text": [
      " 37%|███▋      | 74/202 [01:55<03:18,  1.55s/it]"
     ]
    },
    {
     "name": "stdout",
     "output_type": "stream",
     "text": [
      "DataBatch(x=[4096, 1], edge_index=[2, 12288], edge_attr=[12288, 3], y=[1024], batch=[4096], ptr=[1025])\n"
     ]
    },
    {
     "name": "stderr",
     "output_type": "stream",
     "text": [
      " 37%|███▋      | 75/202 [01:56<03:16,  1.55s/it]"
     ]
    },
    {
     "name": "stdout",
     "output_type": "stream",
     "text": [
      "DataBatch(x=[4096, 1], edge_index=[2, 12288], edge_attr=[12288, 3], y=[1024], batch=[4096], ptr=[1025])\n"
     ]
    },
    {
     "name": "stderr",
     "output_type": "stream",
     "text": [
      " 38%|███▊      | 76/202 [01:58<03:14,  1.55s/it]"
     ]
    },
    {
     "name": "stdout",
     "output_type": "stream",
     "text": [
      "DataBatch(x=[4096, 1], edge_index=[2, 12288], edge_attr=[12288, 3], y=[1024], batch=[4096], ptr=[1025])\n"
     ]
    },
    {
     "name": "stderr",
     "output_type": "stream",
     "text": [
      " 38%|███▊      | 77/202 [02:00<03:19,  1.60s/it]"
     ]
    },
    {
     "name": "stdout",
     "output_type": "stream",
     "text": [
      "DataBatch(x=[4096, 1], edge_index=[2, 12288], edge_attr=[12288, 3], y=[1024], batch=[4096], ptr=[1025])\n"
     ]
    },
    {
     "name": "stderr",
     "output_type": "stream",
     "text": [
      " 39%|███▊      | 78/202 [02:01<03:15,  1.58s/it]"
     ]
    },
    {
     "name": "stdout",
     "output_type": "stream",
     "text": [
      "DataBatch(x=[4096, 1], edge_index=[2, 12288], edge_attr=[12288, 3], y=[1024], batch=[4096], ptr=[1025])\n"
     ]
    },
    {
     "name": "stderr",
     "output_type": "stream",
     "text": [
      " 39%|███▉      | 79/202 [02:03<03:12,  1.56s/it]"
     ]
    },
    {
     "name": "stdout",
     "output_type": "stream",
     "text": [
      "DataBatch(x=[4096, 1], edge_index=[2, 12288], edge_attr=[12288, 3], y=[1024], batch=[4096], ptr=[1025])\n"
     ]
    },
    {
     "name": "stderr",
     "output_type": "stream",
     "text": [
      " 40%|███▉      | 80/202 [02:04<03:10,  1.56s/it]"
     ]
    },
    {
     "name": "stdout",
     "output_type": "stream",
     "text": [
      "DataBatch(x=[4096, 1], edge_index=[2, 12288], edge_attr=[12288, 3], y=[1024], batch=[4096], ptr=[1025])\n"
     ]
    },
    {
     "name": "stderr",
     "output_type": "stream",
     "text": [
      " 40%|████      | 81/202 [02:06<03:08,  1.56s/it]"
     ]
    },
    {
     "name": "stdout",
     "output_type": "stream",
     "text": [
      "DataBatch(x=[4096, 1], edge_index=[2, 12288], edge_attr=[12288, 3], y=[1024], batch=[4096], ptr=[1025])\n"
     ]
    },
    {
     "name": "stderr",
     "output_type": "stream",
     "text": [
      " 41%|████      | 82/202 [02:07<03:06,  1.55s/it]"
     ]
    },
    {
     "name": "stdout",
     "output_type": "stream",
     "text": [
      "DataBatch(x=[4096, 1], edge_index=[2, 12288], edge_attr=[12288, 3], y=[1024], batch=[4096], ptr=[1025])\n"
     ]
    },
    {
     "name": "stderr",
     "output_type": "stream",
     "text": [
      " 41%|████      | 83/202 [02:09<03:03,  1.54s/it]"
     ]
    },
    {
     "name": "stdout",
     "output_type": "stream",
     "text": [
      "DataBatch(x=[4096, 1], edge_index=[2, 12288], edge_attr=[12288, 3], y=[1024], batch=[4096], ptr=[1025])\n"
     ]
    },
    {
     "name": "stderr",
     "output_type": "stream",
     "text": [
      " 42%|████▏     | 84/202 [02:11<03:01,  1.54s/it]"
     ]
    },
    {
     "name": "stdout",
     "output_type": "stream",
     "text": [
      "DataBatch(x=[4096, 1], edge_index=[2, 12288], edge_attr=[12288, 3], y=[1024], batch=[4096], ptr=[1025])\n"
     ]
    },
    {
     "name": "stderr",
     "output_type": "stream",
     "text": [
      " 42%|████▏     | 85/202 [02:12<03:00,  1.54s/it]"
     ]
    },
    {
     "name": "stdout",
     "output_type": "stream",
     "text": [
      "DataBatch(x=[4096, 1], edge_index=[2, 12288], edge_attr=[12288, 3], y=[1024], batch=[4096], ptr=[1025])\n"
     ]
    },
    {
     "name": "stderr",
     "output_type": "stream",
     "text": [
      " 43%|████▎     | 86/202 [02:14<02:58,  1.54s/it]"
     ]
    },
    {
     "name": "stdout",
     "output_type": "stream",
     "text": [
      "DataBatch(x=[4096, 1], edge_index=[2, 12288], edge_attr=[12288, 3], y=[1024], batch=[4096], ptr=[1025])\n"
     ]
    },
    {
     "name": "stderr",
     "output_type": "stream",
     "text": [
      " 43%|████▎     | 87/202 [02:15<02:58,  1.55s/it]"
     ]
    },
    {
     "name": "stdout",
     "output_type": "stream",
     "text": [
      "DataBatch(x=[4096, 1], edge_index=[2, 12288], edge_attr=[12288, 3], y=[1024], batch=[4096], ptr=[1025])\n"
     ]
    },
    {
     "name": "stderr",
     "output_type": "stream",
     "text": [
      " 44%|████▎     | 88/202 [02:17<02:56,  1.55s/it]"
     ]
    },
    {
     "name": "stdout",
     "output_type": "stream",
     "text": [
      "DataBatch(x=[4096, 1], edge_index=[2, 12288], edge_attr=[12288, 3], y=[1024], batch=[4096], ptr=[1025])\n"
     ]
    },
    {
     "name": "stderr",
     "output_type": "stream",
     "text": [
      " 44%|████▍     | 89/202 [02:18<02:54,  1.54s/it]"
     ]
    },
    {
     "name": "stdout",
     "output_type": "stream",
     "text": [
      "DataBatch(x=[4096, 1], edge_index=[2, 12288], edge_attr=[12288, 3], y=[1024], batch=[4096], ptr=[1025])\n"
     ]
    },
    {
     "name": "stderr",
     "output_type": "stream",
     "text": [
      " 45%|████▍     | 90/202 [02:20<02:59,  1.60s/it]"
     ]
    },
    {
     "name": "stdout",
     "output_type": "stream",
     "text": [
      "DataBatch(x=[4096, 1], edge_index=[2, 12288], edge_attr=[12288, 3], y=[1024], batch=[4096], ptr=[1025])\n"
     ]
    },
    {
     "name": "stderr",
     "output_type": "stream",
     "text": [
      " 45%|████▌     | 91/202 [02:22<02:58,  1.61s/it]"
     ]
    },
    {
     "name": "stdout",
     "output_type": "stream",
     "text": [
      "DataBatch(x=[4096, 1], edge_index=[2, 12288], edge_attr=[12288, 3], y=[1024], batch=[4096], ptr=[1025])\n"
     ]
    },
    {
     "name": "stderr",
     "output_type": "stream",
     "text": [
      " 46%|████▌     | 92/202 [02:23<02:54,  1.59s/it]"
     ]
    },
    {
     "name": "stdout",
     "output_type": "stream",
     "text": [
      "DataBatch(x=[4096, 1], edge_index=[2, 12288], edge_attr=[12288, 3], y=[1024], batch=[4096], ptr=[1025])\n"
     ]
    },
    {
     "name": "stderr",
     "output_type": "stream",
     "text": [
      " 46%|████▌     | 93/202 [02:25<02:52,  1.58s/it]"
     ]
    },
    {
     "name": "stdout",
     "output_type": "stream",
     "text": [
      "DataBatch(x=[4096, 1], edge_index=[2, 12288], edge_attr=[12288, 3], y=[1024], batch=[4096], ptr=[1025])\n"
     ]
    },
    {
     "name": "stderr",
     "output_type": "stream",
     "text": [
      " 47%|████▋     | 94/202 [02:26<02:49,  1.57s/it]"
     ]
    },
    {
     "name": "stdout",
     "output_type": "stream",
     "text": [
      "DataBatch(x=[4096, 1], edge_index=[2, 12288], edge_attr=[12288, 3], y=[1024], batch=[4096], ptr=[1025])\n"
     ]
    },
    {
     "name": "stderr",
     "output_type": "stream",
     "text": [
      " 47%|████▋     | 95/202 [02:28<02:46,  1.56s/it]"
     ]
    },
    {
     "name": "stdout",
     "output_type": "stream",
     "text": [
      "DataBatch(x=[4096, 1], edge_index=[2, 12288], edge_attr=[12288, 3], y=[1024], batch=[4096], ptr=[1025])\n"
     ]
    },
    {
     "name": "stderr",
     "output_type": "stream",
     "text": [
      " 48%|████▊     | 96/202 [02:29<02:44,  1.55s/it]"
     ]
    },
    {
     "name": "stdout",
     "output_type": "stream",
     "text": [
      "DataBatch(x=[4096, 1], edge_index=[2, 12288], edge_attr=[12288, 3], y=[1024], batch=[4096], ptr=[1025])\n"
     ]
    },
    {
     "name": "stderr",
     "output_type": "stream",
     "text": [
      " 48%|████▊     | 97/202 [02:31<02:42,  1.55s/it]"
     ]
    },
    {
     "name": "stdout",
     "output_type": "stream",
     "text": [
      "DataBatch(x=[4096, 1], edge_index=[2, 12288], edge_attr=[12288, 3], y=[1024], batch=[4096], ptr=[1025])\n"
     ]
    },
    {
     "name": "stderr",
     "output_type": "stream",
     "text": [
      " 49%|████▊     | 98/202 [02:32<02:41,  1.55s/it]"
     ]
    },
    {
     "name": "stdout",
     "output_type": "stream",
     "text": [
      "DataBatch(x=[4096, 1], edge_index=[2, 12288], edge_attr=[12288, 3], y=[1024], batch=[4096], ptr=[1025])\n"
     ]
    },
    {
     "name": "stderr",
     "output_type": "stream",
     "text": [
      " 49%|████▉     | 99/202 [02:34<02:40,  1.56s/it]"
     ]
    },
    {
     "name": "stdout",
     "output_type": "stream",
     "text": [
      "DataBatch(x=[4096, 1], edge_index=[2, 12288], edge_attr=[12288, 3], y=[1024], batch=[4096], ptr=[1025])\n"
     ]
    },
    {
     "name": "stderr",
     "output_type": "stream",
     "text": [
      " 50%|████▉     | 100/202 [02:36<02:39,  1.56s/it]"
     ]
    },
    {
     "name": "stdout",
     "output_type": "stream",
     "text": [
      "DataBatch(x=[4096, 1], edge_index=[2, 12288], edge_attr=[12288, 3], y=[1024], batch=[4096], ptr=[1025])\n"
     ]
    },
    {
     "name": "stderr",
     "output_type": "stream",
     "text": [
      " 50%|█████     | 101/202 [02:37<02:38,  1.57s/it]"
     ]
    },
    {
     "name": "stdout",
     "output_type": "stream",
     "text": [
      "DataBatch(x=[4096, 1], edge_index=[2, 12288], edge_attr=[12288, 3], y=[1024], batch=[4096], ptr=[1025])\n"
     ]
    },
    {
     "name": "stderr",
     "output_type": "stream",
     "text": [
      " 50%|█████     | 102/202 [02:39<02:36,  1.57s/it]"
     ]
    },
    {
     "name": "stdout",
     "output_type": "stream",
     "text": [
      "DataBatch(x=[4096, 1], edge_index=[2, 12288], edge_attr=[12288, 3], y=[1024], batch=[4096], ptr=[1025])\n"
     ]
    },
    {
     "name": "stderr",
     "output_type": "stream",
     "text": [
      " 51%|█████     | 103/202 [02:40<02:34,  1.56s/it]"
     ]
    },
    {
     "name": "stdout",
     "output_type": "stream",
     "text": [
      "DataBatch(x=[4096, 1], edge_index=[2, 12288], edge_attr=[12288, 3], y=[1024], batch=[4096], ptr=[1025])\n"
     ]
    },
    {
     "name": "stderr",
     "output_type": "stream",
     "text": [
      " 51%|█████▏    | 104/202 [02:42<02:40,  1.64s/it]"
     ]
    },
    {
     "name": "stdout",
     "output_type": "stream",
     "text": [
      "DataBatch(x=[4096, 1], edge_index=[2, 12288], edge_attr=[12288, 3], y=[1024], batch=[4096], ptr=[1025])\n"
     ]
    },
    {
     "name": "stderr",
     "output_type": "stream",
     "text": [
      " 52%|█████▏    | 105/202 [02:44<02:35,  1.61s/it]"
     ]
    },
    {
     "name": "stdout",
     "output_type": "stream",
     "text": [
      "DataBatch(x=[4096, 1], edge_index=[2, 12288], edge_attr=[12288, 3], y=[1024], batch=[4096], ptr=[1025])\n"
     ]
    },
    {
     "name": "stderr",
     "output_type": "stream",
     "text": [
      " 52%|█████▏    | 106/202 [02:45<02:33,  1.60s/it]"
     ]
    },
    {
     "name": "stdout",
     "output_type": "stream",
     "text": [
      "DataBatch(x=[4096, 1], edge_index=[2, 12288], edge_attr=[12288, 3], y=[1024], batch=[4096], ptr=[1025])\n"
     ]
    },
    {
     "name": "stderr",
     "output_type": "stream",
     "text": [
      " 53%|█████▎    | 107/202 [02:47<02:30,  1.58s/it]"
     ]
    },
    {
     "name": "stdout",
     "output_type": "stream",
     "text": [
      "DataBatch(x=[4096, 1], edge_index=[2, 12288], edge_attr=[12288, 3], y=[1024], batch=[4096], ptr=[1025])\n"
     ]
    },
    {
     "name": "stderr",
     "output_type": "stream",
     "text": [
      " 53%|█████▎    | 108/202 [02:48<02:27,  1.57s/it]"
     ]
    },
    {
     "name": "stdout",
     "output_type": "stream",
     "text": [
      "DataBatch(x=[4096, 1], edge_index=[2, 12288], edge_attr=[12288, 3], y=[1024], batch=[4096], ptr=[1025])\n"
     ]
    },
    {
     "name": "stderr",
     "output_type": "stream",
     "text": [
      " 54%|█████▍    | 109/202 [02:50<02:24,  1.56s/it]"
     ]
    },
    {
     "name": "stdout",
     "output_type": "stream",
     "text": [
      "DataBatch(x=[4096, 1], edge_index=[2, 12288], edge_attr=[12288, 3], y=[1024], batch=[4096], ptr=[1025])\n"
     ]
    },
    {
     "name": "stderr",
     "output_type": "stream",
     "text": [
      " 54%|█████▍    | 110/202 [02:51<02:22,  1.55s/it]"
     ]
    },
    {
     "name": "stdout",
     "output_type": "stream",
     "text": [
      "DataBatch(x=[4096, 1], edge_index=[2, 12288], edge_attr=[12288, 3], y=[1024], batch=[4096], ptr=[1025])\n"
     ]
    },
    {
     "name": "stderr",
     "output_type": "stream",
     "text": [
      " 55%|█████▍    | 111/202 [02:53<02:22,  1.56s/it]"
     ]
    },
    {
     "name": "stdout",
     "output_type": "stream",
     "text": [
      "DataBatch(x=[4096, 1], edge_index=[2, 12288], edge_attr=[12288, 3], y=[1024], batch=[4096], ptr=[1025])\n"
     ]
    },
    {
     "name": "stderr",
     "output_type": "stream",
     "text": [
      " 55%|█████▌    | 112/202 [02:55<02:20,  1.57s/it]"
     ]
    },
    {
     "name": "stdout",
     "output_type": "stream",
     "text": [
      "DataBatch(x=[4096, 1], edge_index=[2, 12288], edge_attr=[12288, 3], y=[1024], batch=[4096], ptr=[1025])\n"
     ]
    },
    {
     "name": "stderr",
     "output_type": "stream",
     "text": [
      " 56%|█████▌    | 113/202 [02:56<02:18,  1.56s/it]"
     ]
    },
    {
     "name": "stdout",
     "output_type": "stream",
     "text": [
      "DataBatch(x=[4096, 1], edge_index=[2, 12288], edge_attr=[12288, 3], y=[1024], batch=[4096], ptr=[1025])\n"
     ]
    },
    {
     "name": "stderr",
     "output_type": "stream",
     "text": [
      " 56%|█████▋    | 114/202 [02:58<02:16,  1.55s/it]"
     ]
    },
    {
     "name": "stdout",
     "output_type": "stream",
     "text": [
      "DataBatch(x=[4096, 1], edge_index=[2, 12288], edge_attr=[12288, 3], y=[1024], batch=[4096], ptr=[1025])\n"
     ]
    },
    {
     "name": "stderr",
     "output_type": "stream",
     "text": [
      " 57%|█████▋    | 115/202 [02:59<02:14,  1.54s/it]"
     ]
    },
    {
     "name": "stdout",
     "output_type": "stream",
     "text": [
      "DataBatch(x=[4096, 1], edge_index=[2, 12288], edge_attr=[12288, 3], y=[1024], batch=[4096], ptr=[1025])\n"
     ]
    },
    {
     "name": "stderr",
     "output_type": "stream",
     "text": [
      " 57%|█████▋    | 116/202 [03:01<02:12,  1.54s/it]"
     ]
    },
    {
     "name": "stdout",
     "output_type": "stream",
     "text": [
      "DataBatch(x=[4096, 1], edge_index=[2, 12288], edge_attr=[12288, 3], y=[1024], batch=[4096], ptr=[1025])\n"
     ]
    },
    {
     "name": "stderr",
     "output_type": "stream",
     "text": [
      " 58%|█████▊    | 117/202 [03:02<02:10,  1.54s/it]"
     ]
    },
    {
     "name": "stdout",
     "output_type": "stream",
     "text": [
      "DataBatch(x=[4096, 1], edge_index=[2, 12288], edge_attr=[12288, 3], y=[1024], batch=[4096], ptr=[1025])\n"
     ]
    },
    {
     "name": "stderr",
     "output_type": "stream",
     "text": [
      " 58%|█████▊    | 118/202 [03:04<02:14,  1.60s/it]"
     ]
    },
    {
     "name": "stdout",
     "output_type": "stream",
     "text": [
      "DataBatch(x=[4096, 1], edge_index=[2, 12288], edge_attr=[12288, 3], y=[1024], batch=[4096], ptr=[1025])\n"
     ]
    },
    {
     "name": "stderr",
     "output_type": "stream",
     "text": [
      " 59%|█████▉    | 119/202 [03:05<02:11,  1.58s/it]"
     ]
    },
    {
     "name": "stdout",
     "output_type": "stream",
     "text": [
      "DataBatch(x=[4096, 1], edge_index=[2, 12288], edge_attr=[12288, 3], y=[1024], batch=[4096], ptr=[1025])\n"
     ]
    },
    {
     "name": "stderr",
     "output_type": "stream",
     "text": [
      " 59%|█████▉    | 120/202 [03:07<02:08,  1.57s/it]"
     ]
    },
    {
     "name": "stdout",
     "output_type": "stream",
     "text": [
      "DataBatch(x=[4096, 1], edge_index=[2, 12288], edge_attr=[12288, 3], y=[1024], batch=[4096], ptr=[1025])\n"
     ]
    },
    {
     "name": "stderr",
     "output_type": "stream",
     "text": [
      " 60%|█████▉    | 121/202 [03:09<02:06,  1.56s/it]"
     ]
    },
    {
     "name": "stdout",
     "output_type": "stream",
     "text": [
      "DataBatch(x=[4096, 1], edge_index=[2, 12288], edge_attr=[12288, 3], y=[1024], batch=[4096], ptr=[1025])\n"
     ]
    },
    {
     "name": "stderr",
     "output_type": "stream",
     "text": [
      " 60%|██████    | 122/202 [03:10<02:04,  1.56s/it]"
     ]
    },
    {
     "name": "stdout",
     "output_type": "stream",
     "text": [
      "DataBatch(x=[4096, 1], edge_index=[2, 12288], edge_attr=[12288, 3], y=[1024], batch=[4096], ptr=[1025])\n"
     ]
    },
    {
     "name": "stderr",
     "output_type": "stream",
     "text": [
      " 61%|██████    | 123/202 [03:12<02:02,  1.55s/it]"
     ]
    },
    {
     "name": "stdout",
     "output_type": "stream",
     "text": [
      "DataBatch(x=[4096, 1], edge_index=[2, 12288], edge_attr=[12288, 3], y=[1024], batch=[4096], ptr=[1025])\n"
     ]
    },
    {
     "name": "stderr",
     "output_type": "stream",
     "text": [
      " 61%|██████▏   | 124/202 [03:13<02:01,  1.55s/it]"
     ]
    },
    {
     "name": "stdout",
     "output_type": "stream",
     "text": [
      "DataBatch(x=[4096, 1], edge_index=[2, 12288], edge_attr=[12288, 3], y=[1024], batch=[4096], ptr=[1025])\n"
     ]
    },
    {
     "name": "stderr",
     "output_type": "stream",
     "text": [
      " 62%|██████▏   | 125/202 [03:15<01:59,  1.56s/it]"
     ]
    },
    {
     "name": "stdout",
     "output_type": "stream",
     "text": [
      "DataBatch(x=[4096, 1], edge_index=[2, 12288], edge_attr=[12288, 3], y=[1024], batch=[4096], ptr=[1025])\n"
     ]
    },
    {
     "name": "stderr",
     "output_type": "stream",
     "text": [
      " 62%|██████▏   | 126/202 [03:16<01:58,  1.55s/it]"
     ]
    },
    {
     "name": "stdout",
     "output_type": "stream",
     "text": [
      "DataBatch(x=[4096, 1], edge_index=[2, 12288], edge_attr=[12288, 3], y=[1024], batch=[4096], ptr=[1025])\n"
     ]
    },
    {
     "name": "stderr",
     "output_type": "stream",
     "text": [
      " 63%|██████▎   | 127/202 [03:18<01:56,  1.55s/it]"
     ]
    },
    {
     "name": "stdout",
     "output_type": "stream",
     "text": [
      "DataBatch(x=[4096, 1], edge_index=[2, 12288], edge_attr=[12288, 3], y=[1024], batch=[4096], ptr=[1025])\n"
     ]
    },
    {
     "name": "stderr",
     "output_type": "stream",
     "text": [
      " 63%|██████▎   | 128/202 [03:19<01:54,  1.55s/it]"
     ]
    },
    {
     "name": "stdout",
     "output_type": "stream",
     "text": [
      "DataBatch(x=[4096, 1], edge_index=[2, 12288], edge_attr=[12288, 3], y=[1024], batch=[4096], ptr=[1025])\n"
     ]
    },
    {
     "name": "stderr",
     "output_type": "stream",
     "text": [
      " 64%|██████▍   | 129/202 [03:21<01:53,  1.55s/it]"
     ]
    },
    {
     "name": "stdout",
     "output_type": "stream",
     "text": [
      "DataBatch(x=[4096, 1], edge_index=[2, 12288], edge_attr=[12288, 3], y=[1024], batch=[4096], ptr=[1025])\n"
     ]
    },
    {
     "name": "stderr",
     "output_type": "stream",
     "text": [
      " 64%|██████▍   | 130/202 [03:22<01:51,  1.55s/it]"
     ]
    },
    {
     "name": "stdout",
     "output_type": "stream",
     "text": [
      "DataBatch(x=[4096, 1], edge_index=[2, 12288], edge_attr=[12288, 3], y=[1024], batch=[4096], ptr=[1025])\n"
     ]
    },
    {
     "name": "stderr",
     "output_type": "stream",
     "text": [
      " 65%|██████▍   | 131/202 [03:24<01:52,  1.58s/it]"
     ]
    },
    {
     "name": "stdout",
     "output_type": "stream",
     "text": [
      "DataBatch(x=[4096, 1], edge_index=[2, 12288], edge_attr=[12288, 3], y=[1024], batch=[4096], ptr=[1025])\n"
     ]
    },
    {
     "name": "stderr",
     "output_type": "stream",
     "text": [
      " 65%|██████▌   | 132/202 [03:26<01:50,  1.58s/it]"
     ]
    },
    {
     "name": "stdout",
     "output_type": "stream",
     "text": [
      "DataBatch(x=[4096, 1], edge_index=[2, 12288], edge_attr=[12288, 3], y=[1024], batch=[4096], ptr=[1025])\n"
     ]
    },
    {
     "name": "stderr",
     "output_type": "stream",
     "text": [
      " 66%|██████▌   | 133/202 [03:27<01:52,  1.63s/it]"
     ]
    },
    {
     "name": "stdout",
     "output_type": "stream",
     "text": [
      "DataBatch(x=[4096, 1], edge_index=[2, 12288], edge_attr=[12288, 3], y=[1024], batch=[4096], ptr=[1025])\n"
     ]
    },
    {
     "name": "stderr",
     "output_type": "stream",
     "text": [
      " 66%|██████▋   | 134/202 [03:29<01:48,  1.60s/it]"
     ]
    },
    {
     "name": "stdout",
     "output_type": "stream",
     "text": [
      "DataBatch(x=[4096, 1], edge_index=[2, 12288], edge_attr=[12288, 3], y=[1024], batch=[4096], ptr=[1025])\n"
     ]
    },
    {
     "name": "stderr",
     "output_type": "stream",
     "text": [
      " 67%|██████▋   | 135/202 [03:31<01:46,  1.58s/it]"
     ]
    },
    {
     "name": "stdout",
     "output_type": "stream",
     "text": [
      "DataBatch(x=[4096, 1], edge_index=[2, 12288], edge_attr=[12288, 3], y=[1024], batch=[4096], ptr=[1025])\n"
     ]
    },
    {
     "name": "stderr",
     "output_type": "stream",
     "text": [
      " 67%|██████▋   | 136/202 [03:32<01:43,  1.57s/it]"
     ]
    },
    {
     "name": "stdout",
     "output_type": "stream",
     "text": [
      "DataBatch(x=[4096, 1], edge_index=[2, 12288], edge_attr=[12288, 3], y=[1024], batch=[4096], ptr=[1025])\n"
     ]
    },
    {
     "name": "stderr",
     "output_type": "stream",
     "text": [
      " 68%|██████▊   | 137/202 [03:34<01:41,  1.56s/it]"
     ]
    },
    {
     "name": "stdout",
     "output_type": "stream",
     "text": [
      "DataBatch(x=[4096, 1], edge_index=[2, 12288], edge_attr=[12288, 3], y=[1024], batch=[4096], ptr=[1025])\n"
     ]
    },
    {
     "name": "stderr",
     "output_type": "stream",
     "text": [
      " 68%|██████▊   | 138/202 [03:35<01:39,  1.56s/it]"
     ]
    },
    {
     "name": "stdout",
     "output_type": "stream",
     "text": [
      "DataBatch(x=[4096, 1], edge_index=[2, 12288], edge_attr=[12288, 3], y=[1024], batch=[4096], ptr=[1025])\n"
     ]
    },
    {
     "name": "stderr",
     "output_type": "stream",
     "text": [
      " 69%|██████▉   | 139/202 [03:37<01:38,  1.56s/it]"
     ]
    },
    {
     "name": "stdout",
     "output_type": "stream",
     "text": [
      "DataBatch(x=[4096, 1], edge_index=[2, 12288], edge_attr=[12288, 3], y=[1024], batch=[4096], ptr=[1025])\n"
     ]
    },
    {
     "name": "stderr",
     "output_type": "stream",
     "text": [
      " 69%|██████▉   | 140/202 [03:38<01:36,  1.56s/it]"
     ]
    },
    {
     "name": "stdout",
     "output_type": "stream",
     "text": [
      "DataBatch(x=[4096, 1], edge_index=[2, 12288], edge_attr=[12288, 3], y=[1024], batch=[4096], ptr=[1025])\n"
     ]
    },
    {
     "name": "stderr",
     "output_type": "stream",
     "text": [
      " 70%|██████▉   | 141/202 [03:40<01:34,  1.55s/it]"
     ]
    },
    {
     "name": "stdout",
     "output_type": "stream",
     "text": [
      "DataBatch(x=[4096, 1], edge_index=[2, 12288], edge_attr=[12288, 3], y=[1024], batch=[4096], ptr=[1025])\n"
     ]
    },
    {
     "name": "stderr",
     "output_type": "stream",
     "text": [
      " 70%|███████   | 142/202 [03:41<01:33,  1.55s/it]"
     ]
    },
    {
     "name": "stdout",
     "output_type": "stream",
     "text": [
      "DataBatch(x=[4096, 1], edge_index=[2, 12288], edge_attr=[12288, 3], y=[1024], batch=[4096], ptr=[1025])\n"
     ]
    },
    {
     "name": "stderr",
     "output_type": "stream",
     "text": [
      " 71%|███████   | 143/202 [03:43<01:30,  1.54s/it]"
     ]
    },
    {
     "name": "stdout",
     "output_type": "stream",
     "text": [
      "DataBatch(x=[4096, 1], edge_index=[2, 12288], edge_attr=[12288, 3], y=[1024], batch=[4096], ptr=[1025])\n"
     ]
    },
    {
     "name": "stderr",
     "output_type": "stream",
     "text": [
      " 71%|███████▏  | 144/202 [03:44<01:30,  1.55s/it]"
     ]
    },
    {
     "name": "stdout",
     "output_type": "stream",
     "text": [
      "DataBatch(x=[4096, 1], edge_index=[2, 12288], edge_attr=[12288, 3], y=[1024], batch=[4096], ptr=[1025])\n"
     ]
    },
    {
     "name": "stderr",
     "output_type": "stream",
     "text": [
      " 72%|███████▏  | 145/202 [03:46<01:28,  1.55s/it]"
     ]
    },
    {
     "name": "stdout",
     "output_type": "stream",
     "text": [
      "DataBatch(x=[4096, 1], edge_index=[2, 12288], edge_attr=[12288, 3], y=[1024], batch=[4096], ptr=[1025])\n"
     ]
    },
    {
     "name": "stderr",
     "output_type": "stream",
     "text": [
      " 72%|███████▏  | 146/202 [03:48<01:26,  1.55s/it]"
     ]
    },
    {
     "name": "stdout",
     "output_type": "stream",
     "text": [
      "DataBatch(x=[4096, 1], edge_index=[2, 12288], edge_attr=[12288, 3], y=[1024], batch=[4096], ptr=[1025])\n"
     ]
    },
    {
     "name": "stderr",
     "output_type": "stream",
     "text": [
      " 73%|███████▎  | 147/202 [03:49<01:28,  1.60s/it]"
     ]
    },
    {
     "name": "stdout",
     "output_type": "stream",
     "text": [
      "DataBatch(x=[4096, 1], edge_index=[2, 12288], edge_attr=[12288, 3], y=[1024], batch=[4096], ptr=[1025])\n"
     ]
    },
    {
     "name": "stderr",
     "output_type": "stream",
     "text": [
      " 73%|███████▎  | 148/202 [03:51<01:25,  1.58s/it]"
     ]
    },
    {
     "name": "stdout",
     "output_type": "stream",
     "text": [
      "DataBatch(x=[4096, 1], edge_index=[2, 12288], edge_attr=[12288, 3], y=[1024], batch=[4096], ptr=[1025])\n"
     ]
    },
    {
     "name": "stderr",
     "output_type": "stream",
     "text": [
      " 74%|███████▍  | 149/202 [03:52<01:23,  1.58s/it]"
     ]
    },
    {
     "name": "stdout",
     "output_type": "stream",
     "text": [
      "DataBatch(x=[4096, 1], edge_index=[2, 12288], edge_attr=[12288, 3], y=[1024], batch=[4096], ptr=[1025])\n"
     ]
    },
    {
     "name": "stderr",
     "output_type": "stream",
     "text": [
      " 74%|███████▍  | 150/202 [03:54<01:21,  1.57s/it]"
     ]
    },
    {
     "name": "stdout",
     "output_type": "stream",
     "text": [
      "DataBatch(x=[4096, 1], edge_index=[2, 12288], edge_attr=[12288, 3], y=[1024], batch=[4096], ptr=[1025])\n"
     ]
    },
    {
     "name": "stderr",
     "output_type": "stream",
     "text": [
      " 75%|███████▍  | 151/202 [03:56<01:20,  1.57s/it]"
     ]
    },
    {
     "name": "stdout",
     "output_type": "stream",
     "text": [
      "DataBatch(x=[4096, 1], edge_index=[2, 12288], edge_attr=[12288, 3], y=[1024], batch=[4096], ptr=[1025])\n"
     ]
    },
    {
     "name": "stderr",
     "output_type": "stream",
     "text": [
      " 75%|███████▌  | 152/202 [03:57<01:18,  1.57s/it]"
     ]
    },
    {
     "name": "stdout",
     "output_type": "stream",
     "text": [
      "DataBatch(x=[4096, 1], edge_index=[2, 12288], edge_attr=[12288, 3], y=[1024], batch=[4096], ptr=[1025])\n"
     ]
    },
    {
     "name": "stderr",
     "output_type": "stream",
     "text": [
      " 76%|███████▌  | 153/202 [03:59<01:16,  1.56s/it]"
     ]
    },
    {
     "name": "stdout",
     "output_type": "stream",
     "text": [
      "DataBatch(x=[4096, 1], edge_index=[2, 12288], edge_attr=[12288, 3], y=[1024], batch=[4096], ptr=[1025])\n"
     ]
    },
    {
     "name": "stderr",
     "output_type": "stream",
     "text": [
      " 76%|███████▌  | 154/202 [04:00<01:14,  1.55s/it]"
     ]
    },
    {
     "name": "stdout",
     "output_type": "stream",
     "text": [
      "DataBatch(x=[4096, 1], edge_index=[2, 12288], edge_attr=[12288, 3], y=[1024], batch=[4096], ptr=[1025])\n"
     ]
    },
    {
     "name": "stderr",
     "output_type": "stream",
     "text": [
      " 77%|███████▋  | 155/202 [04:02<01:12,  1.55s/it]"
     ]
    },
    {
     "name": "stdout",
     "output_type": "stream",
     "text": [
      "DataBatch(x=[4096, 1], edge_index=[2, 12288], edge_attr=[12288, 3], y=[1024], batch=[4096], ptr=[1025])\n"
     ]
    },
    {
     "name": "stderr",
     "output_type": "stream",
     "text": [
      " 77%|███████▋  | 156/202 [04:03<01:11,  1.55s/it]"
     ]
    },
    {
     "name": "stdout",
     "output_type": "stream",
     "text": [
      "DataBatch(x=[4096, 1], edge_index=[2, 12288], edge_attr=[12288, 3], y=[1024], batch=[4096], ptr=[1025])\n"
     ]
    },
    {
     "name": "stderr",
     "output_type": "stream",
     "text": [
      " 78%|███████▊  | 157/202 [04:05<01:09,  1.56s/it]"
     ]
    },
    {
     "name": "stdout",
     "output_type": "stream",
     "text": [
      "DataBatch(x=[4096, 1], edge_index=[2, 12288], edge_attr=[12288, 3], y=[1024], batch=[4096], ptr=[1025])\n"
     ]
    },
    {
     "name": "stderr",
     "output_type": "stream",
     "text": [
      " 78%|███████▊  | 158/202 [04:06<01:08,  1.55s/it]"
     ]
    },
    {
     "name": "stdout",
     "output_type": "stream",
     "text": [
      "DataBatch(x=[4096, 1], edge_index=[2, 12288], edge_attr=[12288, 3], y=[1024], batch=[4096], ptr=[1025])\n"
     ]
    },
    {
     "name": "stderr",
     "output_type": "stream",
     "text": [
      " 79%|███████▊  | 159/202 [04:08<01:06,  1.55s/it]"
     ]
    },
    {
     "name": "stdout",
     "output_type": "stream",
     "text": [
      "DataBatch(x=[4096, 1], edge_index=[2, 12288], edge_attr=[12288, 3], y=[1024], batch=[4096], ptr=[1025])\n"
     ]
    },
    {
     "name": "stderr",
     "output_type": "stream",
     "text": [
      " 79%|███████▉  | 160/202 [04:09<01:04,  1.55s/it]"
     ]
    },
    {
     "name": "stdout",
     "output_type": "stream",
     "text": [
      "DataBatch(x=[4096, 1], edge_index=[2, 12288], edge_attr=[12288, 3], y=[1024], batch=[4096], ptr=[1025])\n"
     ]
    },
    {
     "name": "stderr",
     "output_type": "stream",
     "text": [
      " 80%|███████▉  | 161/202 [04:11<01:03,  1.55s/it]"
     ]
    },
    {
     "name": "stdout",
     "output_type": "stream",
     "text": [
      "DataBatch(x=[4096, 1], edge_index=[2, 12288], edge_attr=[12288, 3], y=[1024], batch=[4096], ptr=[1025])\n"
     ]
    },
    {
     "name": "stderr",
     "output_type": "stream",
     "text": [
      " 80%|████████  | 162/202 [04:13<01:04,  1.61s/it]"
     ]
    },
    {
     "name": "stdout",
     "output_type": "stream",
     "text": [
      "DataBatch(x=[4096, 1], edge_index=[2, 12288], edge_attr=[12288, 3], y=[1024], batch=[4096], ptr=[1025])\n"
     ]
    },
    {
     "name": "stderr",
     "output_type": "stream",
     "text": [
      " 81%|████████  | 163/202 [04:14<01:02,  1.60s/it]"
     ]
    },
    {
     "name": "stdout",
     "output_type": "stream",
     "text": [
      "DataBatch(x=[4096, 1], edge_index=[2, 12288], edge_attr=[12288, 3], y=[1024], batch=[4096], ptr=[1025])\n"
     ]
    },
    {
     "name": "stderr",
     "output_type": "stream",
     "text": [
      " 81%|████████  | 164/202 [04:16<01:00,  1.58s/it]"
     ]
    },
    {
     "name": "stdout",
     "output_type": "stream",
     "text": [
      "DataBatch(x=[4096, 1], edge_index=[2, 12288], edge_attr=[12288, 3], y=[1024], batch=[4096], ptr=[1025])\n"
     ]
    },
    {
     "name": "stderr",
     "output_type": "stream",
     "text": [
      " 82%|████████▏ | 165/202 [04:17<00:58,  1.57s/it]"
     ]
    },
    {
     "name": "stdout",
     "output_type": "stream",
     "text": [
      "DataBatch(x=[4096, 1], edge_index=[2, 12288], edge_attr=[12288, 3], y=[1024], batch=[4096], ptr=[1025])\n"
     ]
    },
    {
     "name": "stderr",
     "output_type": "stream",
     "text": [
      " 82%|████████▏ | 166/202 [04:19<00:56,  1.56s/it]"
     ]
    },
    {
     "name": "stdout",
     "output_type": "stream",
     "text": [
      "DataBatch(x=[4096, 1], edge_index=[2, 12288], edge_attr=[12288, 3], y=[1024], batch=[4096], ptr=[1025])\n"
     ]
    },
    {
     "name": "stderr",
     "output_type": "stream",
     "text": [
      " 83%|████████▎ | 167/202 [04:21<00:54,  1.55s/it]"
     ]
    },
    {
     "name": "stdout",
     "output_type": "stream",
     "text": [
      "DataBatch(x=[4096, 1], edge_index=[2, 12288], edge_attr=[12288, 3], y=[1024], batch=[4096], ptr=[1025])\n"
     ]
    },
    {
     "name": "stderr",
     "output_type": "stream",
     "text": [
      " 83%|████████▎ | 168/202 [04:22<00:52,  1.55s/it]"
     ]
    },
    {
     "name": "stdout",
     "output_type": "stream",
     "text": [
      "DataBatch(x=[4096, 1], edge_index=[2, 12288], edge_attr=[12288, 3], y=[1024], batch=[4096], ptr=[1025])\n"
     ]
    },
    {
     "name": "stderr",
     "output_type": "stream",
     "text": [
      " 84%|████████▎ | 169/202 [04:24<00:51,  1.55s/it]"
     ]
    },
    {
     "name": "stdout",
     "output_type": "stream",
     "text": [
      "DataBatch(x=[4096, 1], edge_index=[2, 12288], edge_attr=[12288, 3], y=[1024], batch=[4096], ptr=[1025])\n"
     ]
    },
    {
     "name": "stderr",
     "output_type": "stream",
     "text": [
      " 84%|████████▍ | 170/202 [04:25<00:49,  1.56s/it]"
     ]
    },
    {
     "name": "stdout",
     "output_type": "stream",
     "text": [
      "DataBatch(x=[4096, 1], edge_index=[2, 12288], edge_attr=[12288, 3], y=[1024], batch=[4096], ptr=[1025])\n"
     ]
    },
    {
     "name": "stderr",
     "output_type": "stream",
     "text": [
      " 85%|████████▍ | 171/202 [04:27<00:48,  1.56s/it]"
     ]
    },
    {
     "name": "stdout",
     "output_type": "stream",
     "text": [
      "DataBatch(x=[4096, 1], edge_index=[2, 12288], edge_attr=[12288, 3], y=[1024], batch=[4096], ptr=[1025])\n"
     ]
    },
    {
     "name": "stderr",
     "output_type": "stream",
     "text": [
      " 85%|████████▌ | 172/202 [04:28<00:47,  1.58s/it]"
     ]
    },
    {
     "name": "stdout",
     "output_type": "stream",
     "text": [
      "DataBatch(x=[4096, 1], edge_index=[2, 12288], edge_attr=[12288, 3], y=[1024], batch=[4096], ptr=[1025])\n"
     ]
    },
    {
     "name": "stderr",
     "output_type": "stream",
     "text": [
      " 86%|████████▌ | 173/202 [04:30<00:45,  1.57s/it]"
     ]
    },
    {
     "name": "stdout",
     "output_type": "stream",
     "text": [
      "DataBatch(x=[4096, 1], edge_index=[2, 12288], edge_attr=[12288, 3], y=[1024], batch=[4096], ptr=[1025])\n"
     ]
    },
    {
     "name": "stderr",
     "output_type": "stream",
     "text": [
      " 86%|████████▌ | 174/202 [04:31<00:43,  1.56s/it]"
     ]
    },
    {
     "name": "stdout",
     "output_type": "stream",
     "text": [
      "DataBatch(x=[4096, 1], edge_index=[2, 12288], edge_attr=[12288, 3], y=[1024], batch=[4096], ptr=[1025])\n"
     ]
    },
    {
     "name": "stderr",
     "output_type": "stream",
     "text": [
      " 87%|████████▋ | 175/202 [04:33<00:43,  1.61s/it]"
     ]
    },
    {
     "name": "stdout",
     "output_type": "stream",
     "text": [
      "DataBatch(x=[4096, 1], edge_index=[2, 12288], edge_attr=[12288, 3], y=[1024], batch=[4096], ptr=[1025])\n"
     ]
    },
    {
     "name": "stderr",
     "output_type": "stream",
     "text": [
      " 87%|████████▋ | 176/202 [04:35<00:41,  1.60s/it]"
     ]
    },
    {
     "name": "stdout",
     "output_type": "stream",
     "text": [
      "DataBatch(x=[4096, 1], edge_index=[2, 12288], edge_attr=[12288, 3], y=[1024], batch=[4096], ptr=[1025])\n"
     ]
    },
    {
     "name": "stderr",
     "output_type": "stream",
     "text": [
      " 88%|████████▊ | 177/202 [04:36<00:39,  1.58s/it]"
     ]
    },
    {
     "name": "stdout",
     "output_type": "stream",
     "text": [
      "DataBatch(x=[4096, 1], edge_index=[2, 12288], edge_attr=[12288, 3], y=[1024], batch=[4096], ptr=[1025])\n"
     ]
    },
    {
     "name": "stderr",
     "output_type": "stream",
     "text": [
      " 88%|████████▊ | 178/202 [04:38<00:37,  1.57s/it]"
     ]
    },
    {
     "name": "stdout",
     "output_type": "stream",
     "text": [
      "DataBatch(x=[4096, 1], edge_index=[2, 12288], edge_attr=[12288, 3], y=[1024], batch=[4096], ptr=[1025])\n"
     ]
    },
    {
     "name": "stderr",
     "output_type": "stream",
     "text": [
      " 89%|████████▊ | 179/202 [04:39<00:35,  1.56s/it]"
     ]
    },
    {
     "name": "stdout",
     "output_type": "stream",
     "text": [
      "DataBatch(x=[4096, 1], edge_index=[2, 12288], edge_attr=[12288, 3], y=[1024], batch=[4096], ptr=[1025])\n"
     ]
    },
    {
     "name": "stderr",
     "output_type": "stream",
     "text": [
      " 89%|████████▉ | 180/202 [04:41<00:34,  1.56s/it]"
     ]
    },
    {
     "name": "stdout",
     "output_type": "stream",
     "text": [
      "DataBatch(x=[4096, 1], edge_index=[2, 12288], edge_attr=[12288, 3], y=[1024], batch=[4096], ptr=[1025])\n"
     ]
    },
    {
     "name": "stderr",
     "output_type": "stream",
     "text": [
      " 90%|████████▉ | 181/202 [04:42<00:32,  1.55s/it]"
     ]
    },
    {
     "name": "stdout",
     "output_type": "stream",
     "text": [
      "DataBatch(x=[4096, 1], edge_index=[2, 12288], edge_attr=[12288, 3], y=[1024], batch=[4096], ptr=[1025])\n"
     ]
    },
    {
     "name": "stderr",
     "output_type": "stream",
     "text": [
      " 90%|█████████ | 182/202 [04:44<00:31,  1.56s/it]"
     ]
    },
    {
     "name": "stdout",
     "output_type": "stream",
     "text": [
      "DataBatch(x=[4096, 1], edge_index=[2, 12288], edge_attr=[12288, 3], y=[1024], batch=[4096], ptr=[1025])\n"
     ]
    },
    {
     "name": "stderr",
     "output_type": "stream",
     "text": [
      " 91%|█████████ | 183/202 [04:46<00:29,  1.56s/it]"
     ]
    },
    {
     "name": "stdout",
     "output_type": "stream",
     "text": [
      "DataBatch(x=[4096, 1], edge_index=[2, 12288], edge_attr=[12288, 3], y=[1024], batch=[4096], ptr=[1025])\n"
     ]
    },
    {
     "name": "stderr",
     "output_type": "stream",
     "text": [
      " 91%|█████████ | 184/202 [04:47<00:27,  1.55s/it]"
     ]
    },
    {
     "name": "stdout",
     "output_type": "stream",
     "text": [
      "DataBatch(x=[4096, 1], edge_index=[2, 12288], edge_attr=[12288, 3], y=[1024], batch=[4096], ptr=[1025])\n"
     ]
    },
    {
     "name": "stderr",
     "output_type": "stream",
     "text": [
      " 92%|█████████▏| 185/202 [04:49<00:26,  1.55s/it]"
     ]
    },
    {
     "name": "stdout",
     "output_type": "stream",
     "text": [
      "DataBatch(x=[4096, 1], edge_index=[2, 12288], edge_attr=[12288, 3], y=[1024], batch=[4096], ptr=[1025])\n"
     ]
    },
    {
     "name": "stderr",
     "output_type": "stream",
     "text": [
      " 92%|█████████▏| 186/202 [04:50<00:24,  1.55s/it]"
     ]
    },
    {
     "name": "stdout",
     "output_type": "stream",
     "text": [
      "DataBatch(x=[4096, 1], edge_index=[2, 12288], edge_attr=[12288, 3], y=[1024], batch=[4096], ptr=[1025])\n"
     ]
    },
    {
     "name": "stderr",
     "output_type": "stream",
     "text": [
      " 93%|█████████▎| 187/202 [04:52<00:23,  1.55s/it]"
     ]
    },
    {
     "name": "stdout",
     "output_type": "stream",
     "text": [
      "DataBatch(x=[4096, 1], edge_index=[2, 12288], edge_attr=[12288, 3], y=[1024], batch=[4096], ptr=[1025])\n"
     ]
    },
    {
     "name": "stderr",
     "output_type": "stream",
     "text": [
      " 93%|█████████▎| 188/202 [04:53<00:21,  1.55s/it]"
     ]
    },
    {
     "name": "stdout",
     "output_type": "stream",
     "text": [
      "DataBatch(x=[4096, 1], edge_index=[2, 12288], edge_attr=[12288, 3], y=[1024], batch=[4096], ptr=[1025])\n"
     ]
    },
    {
     "name": "stderr",
     "output_type": "stream",
     "text": [
      " 94%|█████████▎| 189/202 [04:55<00:20,  1.61s/it]"
     ]
    },
    {
     "name": "stdout",
     "output_type": "stream",
     "text": [
      "DataBatch(x=[4096, 1], edge_index=[2, 12288], edge_attr=[12288, 3], y=[1024], batch=[4096], ptr=[1025])\n"
     ]
    },
    {
     "name": "stderr",
     "output_type": "stream",
     "text": [
      " 94%|█████████▍| 190/202 [04:57<00:19,  1.59s/it]"
     ]
    },
    {
     "name": "stdout",
     "output_type": "stream",
     "text": [
      "DataBatch(x=[4096, 1], edge_index=[2, 12288], edge_attr=[12288, 3], y=[1024], batch=[4096], ptr=[1025])\n"
     ]
    },
    {
     "name": "stderr",
     "output_type": "stream",
     "text": [
      " 95%|█████████▍| 191/202 [04:58<00:17,  1.58s/it]"
     ]
    },
    {
     "name": "stdout",
     "output_type": "stream",
     "text": [
      "DataBatch(x=[4096, 1], edge_index=[2, 12288], edge_attr=[12288, 3], y=[1024], batch=[4096], ptr=[1025])\n"
     ]
    },
    {
     "name": "stderr",
     "output_type": "stream",
     "text": [
      " 95%|█████████▌| 192/202 [05:00<00:15,  1.59s/it]"
     ]
    },
    {
     "name": "stdout",
     "output_type": "stream",
     "text": [
      "DataBatch(x=[4096, 1], edge_index=[2, 12288], edge_attr=[12288, 3], y=[1024], batch=[4096], ptr=[1025])\n"
     ]
    },
    {
     "name": "stderr",
     "output_type": "stream",
     "text": [
      " 96%|█████████▌| 193/202 [05:01<00:14,  1.58s/it]"
     ]
    },
    {
     "name": "stdout",
     "output_type": "stream",
     "text": [
      "DataBatch(x=[4096, 1], edge_index=[2, 12288], edge_attr=[12288, 3], y=[1024], batch=[4096], ptr=[1025])\n"
     ]
    },
    {
     "name": "stderr",
     "output_type": "stream",
     "text": [
      " 96%|█████████▌| 194/202 [05:03<00:12,  1.57s/it]"
     ]
    },
    {
     "name": "stdout",
     "output_type": "stream",
     "text": [
      "DataBatch(x=[4096, 1], edge_index=[2, 12288], edge_attr=[12288, 3], y=[1024], batch=[4096], ptr=[1025])\n"
     ]
    },
    {
     "name": "stderr",
     "output_type": "stream",
     "text": [
      " 97%|█████████▋| 195/202 [05:04<00:10,  1.57s/it]"
     ]
    },
    {
     "name": "stdout",
     "output_type": "stream",
     "text": [
      "DataBatch(x=[4096, 1], edge_index=[2, 12288], edge_attr=[12288, 3], y=[1024], batch=[4096], ptr=[1025])\n"
     ]
    },
    {
     "name": "stderr",
     "output_type": "stream",
     "text": [
      " 97%|█████████▋| 196/202 [05:06<00:09,  1.56s/it]"
     ]
    },
    {
     "name": "stdout",
     "output_type": "stream",
     "text": [
      "DataBatch(x=[4096, 1], edge_index=[2, 12288], edge_attr=[12288, 3], y=[1024], batch=[4096], ptr=[1025])\n"
     ]
    },
    {
     "name": "stderr",
     "output_type": "stream",
     "text": [
      " 98%|█████████▊| 197/202 [05:08<00:07,  1.56s/it]"
     ]
    },
    {
     "name": "stdout",
     "output_type": "stream",
     "text": [
      "DataBatch(x=[4096, 1], edge_index=[2, 12288], edge_attr=[12288, 3], y=[1024], batch=[4096], ptr=[1025])\n"
     ]
    },
    {
     "name": "stderr",
     "output_type": "stream",
     "text": [
      " 98%|█████████▊| 198/202 [05:09<00:06,  1.55s/it]"
     ]
    },
    {
     "name": "stdout",
     "output_type": "stream",
     "text": [
      "DataBatch(x=[4096, 1], edge_index=[2, 12288], edge_attr=[12288, 3], y=[1024], batch=[4096], ptr=[1025])\n"
     ]
    },
    {
     "name": "stderr",
     "output_type": "stream",
     "text": [
      " 99%|█████████▊| 199/202 [05:11<00:04,  1.55s/it]"
     ]
    },
    {
     "name": "stdout",
     "output_type": "stream",
     "text": [
      "DataBatch(x=[4096, 1], edge_index=[2, 12288], edge_attr=[12288, 3], y=[1024], batch=[4096], ptr=[1025])\n"
     ]
    },
    {
     "name": "stderr",
     "output_type": "stream",
     "text": [
      " 99%|█████████▉| 200/202 [05:12<00:03,  1.55s/it]"
     ]
    },
    {
     "name": "stdout",
     "output_type": "stream",
     "text": [
      "DataBatch(x=[4096, 1], edge_index=[2, 12288], edge_attr=[12288, 3], y=[1024], batch=[4096], ptr=[1025])\n"
     ]
    },
    {
     "name": "stderr",
     "output_type": "stream",
     "text": [
      "100%|██████████| 202/202 [05:14<00:00,  1.56s/it]"
     ]
    },
    {
     "name": "stdout",
     "output_type": "stream",
     "text": [
      "DataBatch(x=[4096, 1], edge_index=[2, 12288], edge_attr=[12288, 3], y=[1024], batch=[4096], ptr=[1025])\n",
      "DataBatch(x=[380, 1], edge_index=[2, 1140], edge_attr=[1140, 3], y=[95], batch=[380], ptr=[96])\n",
      "Total GPU inference time: 314.403594 seconds\n"
     ]
    },
    {
     "name": "stderr",
     "output_type": "stream",
     "text": [
      "\n"
     ]
    },
    {
     "name": "stdout",
     "output_type": "stream",
     "text": [
      "MAE: 1.250935\n",
      "MSE: 3.838344\n"
     ]
    }
   ],
   "source": [
    "import time\n",
    "import numpy as np\n",
    "import torch\n",
    "from tqdm import tqdm\n",
    "import sklearn.metrics\n",
    "\n",
    "\n",
    "\n",
    "y_true_all = []\n",
    "y_pred_all = []\n",
    "test_los = 0\n",
    "loaded_model.eval()\n",
    "\n",
    "# Start GPU timer\n",
    "start_gpu_time = torch.cuda.Event(enable_timing=True)\n",
    "end_gpu_time = torch.cuda.Event(enable_timing=True)\n",
    "\n",
    "start_gpu_time.record()\n",
    "\n",
    "with torch.no_grad():\n",
    "    for data in tqdm(test_loader, position=0):\n",
    "        print(data)\n",
    "        data = data.to(device)\n",
    "        out = loaded_model(data)\n",
    "\n",
    "        # Collect true labels and predictions\n",
    "        labels = data.y.cpu().numpy()\n",
    "        y_true_all.extend(labels)\n",
    "        y_pred_all.extend(out.cpu().detach().numpy())\n",
    "\n",
    "        loss = criterion(out, data.y)\n",
    "        test_los += loss.cpu().detach().numpy() / len(test_loader)\n",
    "\n",
    "# End GPU timer\n",
    "end_gpu_time.record()\n",
    "\n",
    "# Waits for everything to finish running on the GPU\n",
    "torch.cuda.synchronize()\n",
    "\n",
    "# Calculate total GPU inference time\n",
    "total_gpu_inference_time = start_gpu_time.elapsed_time(end_gpu_time) / 1000.0  # Convert to seconds\n",
    "print(f\"Total GPU inference time: {total_gpu_inference_time:.6f} seconds\")\n",
    "\n",
    "# Convert collected labels and predictions to numpy arrays\n",
    "y_true_all = np.array(y_true_all)\n",
    "y_pred_all = np.array(y_pred_all)\n",
    "\n",
    "# Apply scaling to the predictions\n",
    "y_true_all = y_true_all * scaler.scale_[34] + scaler.mean_[34]\n",
    "y_pred_all = y_pred_all * scaler.scale_[34] + scaler.mean_[34]\n",
    "\n",
    "# Calculate F1 scores and accuracy\n",
    "f1_scores = f1_comp(y_true_all, y_pred_all)\n",
    "accuracy_scores = acc_comp(y_true_all, y_pred_all)\n",
    "\n",
    "# Calculate MAE\n",
    "mae = sklearn.metrics.mean_absolute_error(y_true_all, y_pred_all)\n",
    "mse = sklearn.metrics.mean_squared_error(y_true_all, y_pred_all)\n",
    "\n",
    "print(f\"MAE: {mae:.6f}\")\n",
    "print(f\"MSE: {mse:.6f}\")"
   ]
  },
  {
   "cell_type": "code",
   "execution_count": 66,
   "id": "e5fe019c",
   "metadata": {
    "execution": {
     "iopub.execute_input": "2025-05-07T00:21:54.680744Z",
     "iopub.status.busy": "2025-05-07T00:21:54.680232Z",
     "iopub.status.idle": "2025-05-07T00:21:54.684406Z",
     "shell.execute_reply": "2025-05-07T00:21:54.683924Z"
    },
    "papermill": {
     "duration": 0.045404,
     "end_time": "2025-05-07T00:21:54.685349",
     "exception": false,
     "start_time": "2025-05-07T00:21:54.639945",
     "status": "completed"
    },
    "tags": []
   },
   "outputs": [
    {
     "data": {
      "text/plain": [
       "(3.9377537017281714, 5.766601620977637)"
      ]
     },
     "execution_count": 66,
     "metadata": {},
     "output_type": "execute_result"
    }
   ],
   "source": [
    "scaler.scale_[34], scaler.mean_[34]"
   ]
  },
  {
   "cell_type": "code",
   "execution_count": 67,
   "id": "5314a375",
   "metadata": {
    "execution": {
     "iopub.execute_input": "2025-05-07T00:21:54.764377Z",
     "iopub.status.busy": "2025-05-07T00:21:54.764198Z",
     "iopub.status.idle": "2025-05-07T00:21:54.767874Z",
     "shell.execute_reply": "2025-05-07T00:21:54.767245Z"
    },
    "papermill": {
     "duration": 0.044342,
     "end_time": "2025-05-07T00:21:54.768993",
     "exception": false,
     "start_time": "2025-05-07T00:21:54.724651",
     "status": "completed"
    },
    "tags": []
   },
   "outputs": [
    {
     "name": "stdout",
     "output_type": "stream",
     "text": [
      "Test_loss: 0.24752071986694138\n",
      "F1 Scores: 0.0\n",
      "Accuracy Scores: 100.0\n",
      "Mean Absolute Error (MAE): 1.2509351\n"
     ]
    }
   ],
   "source": [
    "# Print results\n",
    "print('Test_loss:', test_los)\n",
    "print(\"F1 Scores:\", f1_scores[-1])\n",
    "print(\"Accuracy Scores:\", accuracy_scores[-1])\n",
    "print(\"Mean Absolute Error (MAE):\", mae)"
   ]
  },
  {
   "cell_type": "code",
   "execution_count": 68,
   "id": "aa3e50a5",
   "metadata": {
    "execution": {
     "iopub.execute_input": "2025-05-07T00:21:54.847925Z",
     "iopub.status.busy": "2025-05-07T00:21:54.847454Z",
     "iopub.status.idle": "2025-05-07T00:21:54.852694Z",
     "shell.execute_reply": "2025-05-07T00:21:54.852047Z"
    },
    "papermill": {
     "duration": 0.045801,
     "end_time": "2025-05-07T00:21:54.853701",
     "exception": false,
     "start_time": "2025-05-07T00:21:54.807900",
     "status": "completed"
    },
    "tags": []
   },
   "outputs": [
    {
     "name": "stdout",
     "output_type": "stream",
     "text": [
      "Results saved to evaluation_results.csv\n"
     ]
    }
   ],
   "source": [
    "import csv\n",
    "\n",
    "# Data to be saved\n",
    "results = {\n",
    "    'Test_loss': test_los,\n",
    "    'F1_Score': f1_scores[-1],\n",
    "    'Accuracy_Score': accuracy_scores[-1],\n",
    "    'MAE': mae\n",
    "}\n",
    "\n",
    "# Save to CSV\n",
    "with open('evaluation_results.csv', mode='w', newline='') as file:\n",
    "    writer = csv.writer(file)\n",
    "    writer.writerow(['Metric', 'Value'])\n",
    "    for key, value in results.items():\n",
    "        writer.writerow([key, value])\n",
    "\n",
    "print('Results saved to evaluation_results.csv')"
   ]
  },
  {
   "cell_type": "code",
   "execution_count": 69,
   "id": "32dd5163",
   "metadata": {
    "execution": {
     "iopub.execute_input": "2025-05-07T00:21:54.932951Z",
     "iopub.status.busy": "2025-05-07T00:21:54.932776Z",
     "iopub.status.idle": "2025-05-07T00:21:55.618115Z",
     "shell.execute_reply": "2025-05-07T00:21:55.617464Z"
    },
    "papermill": {
     "duration": 0.728045,
     "end_time": "2025-05-07T00:21:55.620874",
     "exception": false,
     "start_time": "2025-05-07T00:21:54.892829",
     "status": "completed"
    },
    "tags": []
   },
   "outputs": [
    {
     "data": {
      "image/png": "[encoded data removed]",
      "text/plain": [
       "<Figure size 1000x600 with 1 Axes>"
      ]
     },
     "metadata": {},
     "output_type": "display_data"
    }
   ],
   "source": [
    "import matplotlib.pyplot as plt\n",
    "\n",
    "# Assuming y_true_all and y_pred_all are defined and properly inverted\n",
    "\n",
    "plt.figure(figsize=(10, 6))\n",
    "plt.scatter(y_true_all, y_pred_all, alpha=0.5)\n",
    "plt.xlabel('True Values')\n",
    "plt.ylabel('Predicted Values')\n",
    "plt.title('True vs Predicted Values')\n",
    "plt.plot([min(y_true_all), max(y_true_all)], [min(y_true_all), max(y_true_all)], color='red', linestyle='--') # Line of equality\n",
    "plt.grid(True)\n",
    "plt.show()\n"
   ]
  },
  {
   "cell_type": "code",
   "execution_count": 70,
   "id": "9b65c55d",
   "metadata": {
    "execution": {
     "iopub.execute_input": "2025-05-07T00:21:55.708396Z",
     "iopub.status.busy": "2025-05-07T00:21:55.707965Z",
     "iopub.status.idle": "2025-05-07T00:22:07.999081Z",
     "shell.execute_reply": "2025-05-07T00:22:07.998339Z"
    },
    "papermill": {
     "duration": 12.336051,
     "end_time": "2025-05-07T00:22:08.001262",
     "exception": false,
     "start_time": "2025-05-07T00:21:55.665211",
     "status": "completed"
    },
    "tags": []
   },
   "outputs": [
    {
     "data": {
      "image/png": "[encoded data removed]",
      "text/plain": [
       "<Figure size 1000x600 with 1 Axes>"
      ]
     },
     "metadata": {},
     "output_type": "display_data"
    }
   ],
   "source": [
    "import matplotlib.pyplot as plt\n",
    "\n",
    "# Example data for y_true_all and y_pred_all\n",
    "# y_true_all = [your data here]\n",
    "# y_pred_all = [your data here]\n",
    "\n",
    "plt.figure(figsize=(10, 6))\n",
    "\n",
    "# Plotting the true values\n",
    "plt.scatter(range(len(y_true_all)), y_true_all, color='blue', alpha=0.5, label='True Values')\n",
    "\n",
    "# Plotting the predicted values\n",
    "plt.scatter(range(len(y_pred_all)), y_pred_all, color='orange', alpha=0.5, label='Predicted Values')\n",
    "\n",
    "plt.xlabel('Index')\n",
    "plt.ylabel('Values')\n",
    "plt.title('True Values vs Predicted Values')\n",
    "plt.legend()\n",
    "plt.grid(True)\n",
    "plt.show()\n"
   ]
  },
  {
   "cell_type": "code",
   "execution_count": 71,
   "id": "10a71c8b",
   "metadata": {
    "execution": {
     "iopub.execute_input": "2025-05-07T00:22:08.091006Z",
     "iopub.status.busy": "2025-05-07T00:22:08.090771Z",
     "iopub.status.idle": "2025-05-07T00:22:08.102750Z",
     "shell.execute_reply": "2025-05-07T00:22:08.102227Z"
    },
    "papermill": {
     "duration": 0.057034,
     "end_time": "2025-05-07T00:22:08.103865",
     "exception": false,
     "start_time": "2025-05-07T00:22:08.046831",
     "status": "completed"
    },
    "tags": []
   },
   "outputs": [],
   "source": [
    "from scipy.stats import norm\n",
    "import numpy as np\n",
    "from scipy import stats\n",
    "import matplotlib.pyplot as plt\n",
    "from matplotlib.transforms import Bbox\n",
    "import plotly.graph_objects as go\n",
    "from scipy.optimize import curve_fit"
   ]
  },
  {
   "cell_type": "code",
   "execution_count": 72,
   "id": "08b0a82d",
   "metadata": {
    "execution": {
     "iopub.execute_input": "2025-05-07T00:22:08.192084Z",
     "iopub.status.busy": "2025-05-07T00:22:08.191870Z",
     "iopub.status.idle": "2025-05-07T00:22:08.195361Z",
     "shell.execute_reply": "2025-05-07T00:22:08.194670Z"
    },
    "papermill": {
     "duration": 0.048593,
     "end_time": "2025-05-07T00:22:08.196446",
     "exception": false,
     "start_time": "2025-05-07T00:22:08.147853",
     "status": "completed"
    },
    "tags": []
   },
   "outputs": [],
   "source": [
    "def cuts(datain,datacheck,minval,maxval):\n",
    "    dataout = datain[np.logical_and(datacheck > minval, datacheck < maxval)]\n",
    "    \n",
    "    return(dataout)"
   ]
  },
  {
   "cell_type": "code",
   "execution_count": 73,
   "id": "2eddd786",
   "metadata": {
    "execution": {
     "iopub.execute_input": "2025-05-07T00:22:08.284421Z",
     "iopub.status.busy": "2025-05-07T00:22:08.284212Z",
     "iopub.status.idle": "2025-05-07T00:22:08.292093Z",
     "shell.execute_reply": "2025-05-07T00:22:08.291394Z"
    },
    "papermill": {
     "duration": 0.05381,
     "end_time": "2025-05-07T00:22:08.293472",
     "exception": false,
     "start_time": "2025-05-07T00:22:08.239662",
     "status": "completed"
    },
    "tags": []
   },
   "outputs": [],
   "source": [
    "def plotgaussian(modelname, modelorreco, space, true, pred, varname, lower, upper, bins):\n",
    "    resmeans = []\n",
    "    stdevs = []\n",
    "    bincenters = []\n",
    "    samples = []\n",
    "    \n",
    "    #Compute residuals and bin width\n",
    "    width = (upper - lower) / bins\n",
    "    true = cuts(true, pred, lower, upper)\n",
    "    pred = cuts(pred, pred, lower, upper)\n",
    "    pred = cuts(pred, true, lower, upper)\n",
    "    true = cuts(true, true, lower, upper)\n",
    "    \n",
    "    resids = true - pred\n",
    "    \n",
    "    #Create gaussian plot for each bin\n",
    "    for i in range(bins):\n",
    "        #Find bin dimensions\n",
    "        lowertemp = lower + width * i\n",
    "        uppertemp = lower + width * (i + 1)\n",
    "        bincentertemp = (uppertemp + lowertemp) / 2\n",
    "        \n",
    "        #Cut the residuals to within lower and upper range along true values\n",
    "        residscut = cuts(resids, \n",
    "                         true, \n",
    "                         lowertemp, \n",
    "                         uppertemp)\n",
    "        \n",
    "        varnametemp = '%s Residuals Distribution (%.2f to %.2f)' % (varname, \n",
    "                                                                    lowertemp, \n",
    "                                                                    uppertemp)\n",
    "        residscut.sort()\n",
    "        \n",
    "        #Computer statistics for residuals\n",
    "        resmeantemp, resstdtemp = norm.fit(residscut)\n",
    "        samplestemp = len(residscut)\n",
    "        pdf = stats.norm.pdf(residscut, resmeantemp, resstdtemp)\n",
    "        \n",
    "        #Plot histogram of residuals\n",
    "        plt.hist(residscut, \n",
    "                 bins=bins, \n",
    "                 histtype='step', \n",
    "                 color='blue', \n",
    "                 density=1, \n",
    "                 label='Residuals')\n",
    "        \n",
    "        #Plot the normal curve fitted to the residuals\n",
    "        plt.plot(residscut, \n",
    "                 pdf, \n",
    "                 label='Normal Curve', \n",
    "                 color='black')\n",
    "        plt.title(varnametemp)\n",
    "        \n",
    "        #Plot the residuals mean as a vertical line\n",
    "        plt.axvline(resmeantemp, \n",
    "                    label='Mean: %.2f' % resmeantemp, \n",
    "                    color='red')\n",
    "        plt.xlabel('Stdev: %.2f (samples: %.i)' % (resstdtemp, \n",
    "                                                   samplestemp))\n",
    "        \n",
    "        #Plot the full-width half maximum range\n",
    "        plt.axvspan(resmeantemp - resstdtemp / 2,\n",
    "                    resmeantemp + resstdtemp / 2,\n",
    "                    facecolor='g',\n",
    "                    alpha=.3,\n",
    "                    label='Stdev')        \n",
    "        plt.legend()\n",
    "        plt.savefig(f\"{space}_gaussian.png\", bbox_inches='tight')\n",
    "        plt.close()\n",
    "        \n",
    "        #Append values to lists to be used by scatter() function\n",
    "        resmeans.append(resmeantemp)\n",
    "        samples.append(samplestemp)\n",
    "        stdevs.append(resstdtemp)\n",
    "        bincenters.append(bincentertemp)\n",
    "    \n",
    "    resmean = np.mean(resids)\n",
    "    stddev = np.std(resids)    \n",
    "    \n",
    "    return resmeans, stdevs, bincenters, samples, resmean, stddev"
   ]
  },
  {
   "cell_type": "code",
   "execution_count": 74,
   "id": "02b67ce4",
   "metadata": {
    "execution": {
     "iopub.execute_input": "2025-05-07T00:22:08.382479Z",
     "iopub.status.busy": "2025-05-07T00:22:08.382263Z",
     "iopub.status.idle": "2025-05-07T00:22:28.452427Z",
     "shell.execute_reply": "2025-05-07T00:22:28.451884Z"
    },
    "papermill": {
     "duration": 20.115477,
     "end_time": "2025-05-07T00:22:28.453732",
     "exception": false,
     "start_time": "2025-05-07T00:22:08.338255",
     "status": "completed"
    },
    "tags": []
   },
   "outputs": [],
   "source": [
    "resmeans, fwhms, bincenters, samples, resmean, stddev = \\\n",
    "    plotgaussian(model_name, \n",
    "                 'Model', \n",
    "                 \"/kaggle/working/\", \n",
    "                 y_true_all, \n",
    "                 y_pred_all, \n",
    "                 'pT', \n",
    "                 min_PT, \n",
    "                 max_pT, \n",
    "                 100)"
   ]
  },
  {
   "cell_type": "code",
   "execution_count": 75,
   "id": "06789d55",
   "metadata": {
    "execution": {
     "iopub.execute_input": "2025-05-07T00:22:28.543816Z",
     "iopub.status.busy": "2025-05-07T00:22:28.543534Z",
     "iopub.status.idle": "2025-05-07T00:22:28.549361Z",
     "shell.execute_reply": "2025-05-07T00:22:28.548651Z"
    },
    "papermill": {
     "duration": 0.051443,
     "end_time": "2025-05-07T00:22:28.550411",
     "exception": false,
     "start_time": "2025-05-07T00:22:28.498968",
     "status": "completed"
    },
    "tags": []
   },
   "outputs": [],
   "source": [
    "def heatmap(modelname, modelorreco, space, true, pred, varname, lower, upper, bins):\n",
    "    #Get histogram dimensions and data using numpy\n",
    "    heatmap, xedges, yedges = np.histogram2d(true, \n",
    "                                             pred, \n",
    "                                             bins=bins, \n",
    "                                             range=[[lower, upper], [lower, upper]])\n",
    "    extent = [xedges[0], xedges[-1], yedges[0], yedges[-1]]\n",
    "    \n",
    "    #Plot heatmap\n",
    "    plt.imshow(heatmap.T, \n",
    "               extent=extent, \n",
    "               origin='lower')\n",
    "    plt.plot([lower, upper], \n",
    "             [lower, upper], \n",
    "             color='blue')\n",
    "    fig = plt.gcf()\n",
    "    plt.set_cmap('gist_heat_r')\n",
    "    plt.xlabel('%s True' % varname)\n",
    "    plt.ylabel('%s Pred' % varname)\n",
    "    plt.title('Frequency Heatmap')\n",
    "    plt.xlim(lower, upper)\n",
    "    plt.ylim(lower, upper)\n",
    "    plt.colorbar()\n",
    "    fig.savefig(f\"{space}_heatmap.png\")\n",
    "    plt.close()"
   ]
  },
  {
   "cell_type": "code",
   "execution_count": 76,
   "id": "7894937a",
   "metadata": {
    "execution": {
     "iopub.execute_input": "2025-05-07T00:22:28.637875Z",
     "iopub.status.busy": "2025-05-07T00:22:28.637317Z",
     "iopub.status.idle": "2025-05-07T00:22:28.762931Z",
     "shell.execute_reply": "2025-05-07T00:22:28.762394Z"
    },
    "papermill": {
     "duration": 0.170355,
     "end_time": "2025-05-07T00:22:28.764130",
     "exception": false,
     "start_time": "2025-05-07T00:22:28.593775",
     "status": "completed"
    },
    "tags": []
   },
   "outputs": [],
   "source": [
    "heatmap(model_name, \n",
    "            'Model', \n",
    "            \"/kaggle/working/\", \n",
    "            y_true_all, \n",
    "            y_pred_all, \n",
    "            'pT', \n",
    "            min_PT, \n",
    "            12, \n",
    "            50)"
   ]
  },
  {
   "cell_type": "code",
   "execution_count": 77,
   "id": "037ad922",
   "metadata": {
    "execution": {
     "iopub.execute_input": "2025-05-07T00:22:28.853743Z",
     "iopub.status.busy": "2025-05-07T00:22:28.853243Z",
     "iopub.status.idle": "2025-05-07T00:22:28.863510Z",
     "shell.execute_reply": "2025-05-07T00:22:28.862843Z"
    },
    "papermill": {
     "duration": 0.055192,
     "end_time": "2025-05-07T00:22:28.864499",
     "exception": false,
     "start_time": "2025-05-07T00:22:28.809307",
     "status": "completed"
    },
    "tags": []
   },
   "outputs": [],
   "source": [
    "def scatter(modelname, space, metrics, bincenters, samples, varname, prednames, metricname):\n",
    "    bincenters = np.array(bincenters)\n",
    "    #Check that the bin centers match between the two datasets\n",
    "    if (np.std(bincenters[:,0]) > .0001) or (np.std(bincenters[:,-1]) > .0001):\n",
    "        print('Scatter plot failed due to different bincenters')\n",
    "        print(bincenters)\n",
    "        return\n",
    "    else:\n",
    "        #Create subplots for scatter and ratio\n",
    "        fig,axs = plt.subplots(2, gridspec_kw={'height_ratios':[3,1]})\n",
    "        axs[0].set_ylabel(metricname)\n",
    "        axs[0].set_title('Residuals %s vs %s' % (metricname,\n",
    "                                                varname))\n",
    "        \n",
    "        for i in range(len(prednames)):\n",
    "            #Find the width and range of bins\n",
    "            width = (bincenters[i][-1] - bincenters[i][-2]) / 2\n",
    "            lower = min(bincenters[i]) - width\n",
    "            upper = max(bincenters[i]) + width        \n",
    "\n",
    "#             if i == 0:\n",
    "#                   dif1 = np.abs(metrics[i])\n",
    "#             elif i == 1:\n",
    "#                   dif2 = np.abs(metrics[i])\n",
    "                    \n",
    "            if i == 0:\n",
    "                  metric1 = np.array(metrics[i])\n",
    "            elif i == 1:\n",
    "                  metric2 = np.array(metrics[i])\n",
    "\n",
    "            print(np.shape(metrics))\n",
    "            #Create the scatterplot\n",
    "            axs[0].scatter(bincenters[i], \n",
    "                           metrics[i], \n",
    "                           label=prednames[i])\n",
    "            axs[0].axhline(y=0)\n",
    "\n",
    "\n",
    "            #Use standard error of the mean for y error and bin width for x error\n",
    "            axs[0].errorbar(bincenters[i],\n",
    "                            metrics[i],\n",
    "                            xerr=(bincenters[i][-1] - bincenters[i][-2]) / 2,\n",
    "                            yerr=metrics[i] / np.sqrt(samples[i]),\n",
    "                            linestyle='')\n",
    "        axs[0].legend()\n",
    "        axs[0].set_xlim([lower,upper])\n",
    "        \n",
    "#         dif = dif1 - dif2\n",
    "#         #Create ratio subplot\n",
    "#         axs[1].scatter(bincenters[0], dif)\n",
    "#         axs[1].axhline(y=0)\n",
    "#         axs[1].set_xlim([lower, upper])\n",
    "#         axs[1].set_ylabel('|%s| - |%s|' % (prednames[0], prednames[1]))\n",
    "#         axs[1].set_xlabel('%s' % varname)\n",
    "        \n",
    "        #Plot ratio subplot for first 2 data sets\n",
    "        axs[1].scatter(bincenters[i], metric1 / metric2)\n",
    "        axs[1].axhline(y=1)\n",
    "        axs[1].set_xlim([lower,upper])\n",
    "        axs[1].set_ylim([0.5,2.0])\n",
    "        axs[1].set_yscale('log', basey=2)\n",
    "        axs[1].set_ylabel('%s / %s' % (prednames[0],\n",
    "                                       prednames[1]))\n",
    "        axs[1].set_xlabel('%s' % varname)\n",
    "        \n",
    "        #Save plot\n",
    "        fig.savefig('./Plots/%s/Comparison/%s/%s_%s_scatter' % (modelname, \n",
    "                                                                space,\n",
    "                                                                varname,\n",
    "                                                                metricname), bbox_inches='tight')\n",
    "        plt.close()"
   ]
  },
  {
   "cell_type": "code",
   "execution_count": 78,
   "id": "c4102b48",
   "metadata": {
    "execution": {
     "iopub.execute_input": "2025-05-07T00:22:28.951882Z",
     "iopub.status.busy": "2025-05-07T00:22:28.951475Z",
     "iopub.status.idle": "2025-05-07T00:22:29.196275Z",
     "shell.execute_reply": "2025-05-07T00:22:29.195344Z"
    },
    "papermill": {
     "duration": 0.289928,
     "end_time": "2025-05-07T00:22:29.197288",
     "exception": true,
     "start_time": "2025-05-07T00:22:28.907360",
     "status": "failed"
    },
    "scrolled": true,
    "tags": []
   },
   "outputs": [
    {
     "ename": "AttributeError",
     "evalue": "'FunctionEventAvg' object has no attribute 'cuda_time_total'",
     "output_type": "error",
     "traceback": [
      "\u001b[0;31m---------------------------------------------------------------------------\u001b[0m",
      "\u001b[0;31mAttributeError\u001b[0m                            Traceback (most recent call last)",
      "\u001b[0;32m/tmp/ipykernel_19/1671083950.py\u001b[0m in \u001b[0;36m<cell line: 0>\u001b[0;34m()\u001b[0m\n\u001b[1;32m     21\u001b[0m \u001b[0minputs\u001b[0m \u001b[0;34m=\u001b[0m \u001b[0mtrain_dataset\u001b[0m\u001b[0;34m[\u001b[0m\u001b[0;36m20\u001b[0m\u001b[0;34m]\u001b[0m\u001b[0;34m.\u001b[0m\u001b[0mto\u001b[0m\u001b[0;34m(\u001b[0m\u001b[0mdevice\u001b[0m\u001b[0;34m)\u001b[0m\u001b[0;34m\u001b[0m\u001b[0;34m\u001b[0m\u001b[0m\n\u001b[1;32m     22\u001b[0m \u001b[0;31m# model = ...\u001b[0m\u001b[0;34m\u001b[0m\u001b[0;34m\u001b[0m\u001b[0m\n\u001b[0;32m---> 23\u001b[0;31m \u001b[0mprofile_model\u001b[0m\u001b[0;34m(\u001b[0m\u001b[0mloaded_model\u001b[0m\u001b[0;34m,\u001b[0m \u001b[0minputs\u001b[0m\u001b[0;34m,\u001b[0m \u001b[0;36m1000\u001b[0m\u001b[0;34m)\u001b[0m\u001b[0;34m\u001b[0m\u001b[0;34m\u001b[0m\u001b[0m\n\u001b[0m",
      "\u001b[0;32m/tmp/ipykernel_19/1671083950.py\u001b[0m in \u001b[0;36mprofile_model\u001b[0;34m(model, inputs, num_runs)\u001b[0m\n\u001b[1;32m     11\u001b[0m         \u001b[0;31m# Extract total CUDA time spent on 'model_inference'\u001b[0m\u001b[0;34m\u001b[0m\u001b[0;34m\u001b[0m\u001b[0m\n\u001b[1;32m     12\u001b[0m         \u001b[0;32mfor\u001b[0m \u001b[0mevent\u001b[0m \u001b[0;32min\u001b[0m \u001b[0mprof\u001b[0m\u001b[0;34m.\u001b[0m\u001b[0mkey_averages\u001b[0m\u001b[0;34m(\u001b[0m\u001b[0;34m)\u001b[0m\u001b[0;34m:\u001b[0m\u001b[0;34m\u001b[0m\u001b[0;34m\u001b[0m\u001b[0m\n\u001b[0;32m---> 13\u001b[0;31m             \u001b[0mtotal_time\u001b[0m \u001b[0;34m+=\u001b[0m \u001b[0mevent\u001b[0m\u001b[0;34m.\u001b[0m\u001b[0mcuda_time_total\u001b[0m\u001b[0;34m\u001b[0m\u001b[0;34m\u001b[0m\u001b[0m\n\u001b[0m\u001b[1;32m     14\u001b[0m \u001b[0;34m\u001b[0m\u001b[0m\n\u001b[1;32m     15\u001b[0m     \u001b[0maverage_time\u001b[0m \u001b[0;34m=\u001b[0m \u001b[0mtotal_time\u001b[0m \u001b[0;34m/\u001b[0m \u001b[0mnum_runs\u001b[0m\u001b[0;34m\u001b[0m\u001b[0;34m\u001b[0m\u001b[0m\n",
      "\u001b[0;31mAttributeError\u001b[0m: 'FunctionEventAvg' object has no attribute 'cuda_time_total'"
     ]
    }
   ],
   "source": [
    "from torch.profiler import profile, record_function, ProfilerActivity\n",
    "device = torch.device(\"cuda\" if torch.cuda.is_available() else \"cpu\")\n",
    "     \n",
    "\n",
    "def profile_model(model, inputs, num_runs=100):\n",
    "    total_time = 0\n",
    "    for _ in range(num_runs):\n",
    "        with profile(activities=[ProfilerActivity.CUDA], record_shapes=True) as prof:\n",
    "            model(inputs)\n",
    "\n",
    "        # Extract total CUDA time spent on 'model_inference'\n",
    "        for event in prof.key_averages():\n",
    "            total_time += event.cuda_time_total\n",
    "\n",
    "    average_time = total_time / num_runs\n",
    "    print(f\"Average inference time: {average_time} microseconds\")\n",
    "     \n",
    "# test_loader_2 = DataLoader(Graph_dataset(filtered_df, label, edge_index , test_idx), batch_size=1)\n",
    "# inputs = next(iter(test_loader_2))\n",
    "# inputs = inputs.to(device)\n",
    "inputs = train_dataset[20].to(device)\n",
    "# model = ...\n",
    "profile_model(loaded_model, inputs, 1000)"
   ]
  },
  {
   "cell_type": "code",
   "execution_count": null,
   "id": "3cab0c48",
   "metadata": {
    "papermill": {
     "duration": null,
     "end_time": null,
     "exception": null,
     "start_time": null,
     "status": "pending"
    },
    "tags": []
   },
   "outputs": [],
   "source": [
    "# next(iter(Graph_dataset))"
   ]
  },
  {
   "cell_type": "code",
   "execution_count": null,
   "id": "45f8d862",
   "metadata": {
    "execution": {
     "iopub.execute_input": "2024-09-03T22:39:39.143443Z",
     "iopub.status.busy": "2024-09-03T22:39:39.142805Z",
     "iopub.status.idle": "2024-09-03T22:39:39.146951Z",
     "shell.execute_reply": "2024-09-03T22:39:39.146164Z"
    },
    "papermill": {
     "duration": null,
     "end_time": null,
     "exception": null,
     "start_time": null,
     "status": "pending"
    },
    "tags": []
   },
   "outputs": [],
   "source": [
    "# test_loader_2 = DataLoader(Graph_dataset(filtered_df, label, edge_index , test_idx), batch_size=1)"
   ]
  },
  {
   "cell_type": "code",
   "execution_count": null,
   "id": "cb0eadce",
   "metadata": {
    "papermill": {
     "duration": null,
     "end_time": null,
     "exception": null,
     "start_time": null,
     "status": "pending"
    },
    "tags": []
   },
   "outputs": [],
   "source": []
  }
 ],
 "metadata": {
  "kaggle": {
   "accelerator": "gpu",
   "dataSources": [
    {
     "datasetId": 1424568,
     "sourceId": 2358933,
     "sourceType": "datasetVersion"
    },
    {
     "sourceId": 183753103,
     "sourceType": "kernelVersion"
    },
    {
     "sourceId": 187178090,
     "sourceType": "kernelVersion"
    },
    {
     "sourceId": 187708631,
     "sourceType": "kernelVersion"
    },
    {
     "sourceId": 194832577,
     "sourceType": "kernelVersion"
    },
    {
     "sourceId": 195107410,
     "sourceType": "kernelVersion"
    }
   ],
   "isGpuEnabled": true,
   "isInternetEnabled": true,
   "language": "python",
   "sourceType": "notebook"
  },
  "kernelspec": {
   "display_name": "Python 3",
   "language": "python",
   "name": "python3"
  },
  "language_info": {
   "codemirror_mode": {
    "name": "ipython",
    "version": 3
   },
   "file_extension": ".py",
   "mimetype": "text/x-python",
   "name": "python",
   "nbconvert_exporter": "python",
   "pygments_lexer": "ipython3",
   "version": "3.11.11"
  },
  "papermill": {
   "default_parameters": {},
   "duration": 16287.899277,
   "end_time": "2025-05-07T00:22:31.936727",
   "environment_variables": {},
   "exception": true,
   "input_path": "__notebook__.ipynb",
   "output_path": "__notebook__.ipynb",
   "parameters": {},
   "start_time": "2025-05-06T19:51:04.037450",
   "version": "2.5.0"
  },
  "widgets": {
   "application/vnd.jupyter.widget-state+json": {
    "state": {
     "00cc2ef204e94853b9243e3038644718": {
      "model_module": "@jupyter-widgets/controls",
      "model_module_version": "2.0.0",
      "model_name": "HBoxModel",
      "state": {
       "_dom_classes": [],
       "_model_module": "@jupyter-widgets/controls",
       "_model_module_version": "2.0.0",
       "_model_name": "HBoxModel",
       "_view_count": null,
       "_view_module": "@jupyter-widgets/controls",
       "_view_module_version": "2.0.0",
       "_view_name": "HBoxView",
       "box_style": "",
       "children": [
        "IPY_MODEL_4817a9b6018d45128f441c840778c26a",
        "IPY_MODEL_af5fb43430c148a09d431a20a63325fb",
        "IPY_MODEL_1348ef1f822b4df08cb6f1abcae83275"
       ],
       "layout": "IPY_MODEL_d55796f8317043bd848e69b62f997674",
       "tabbable": null,
       "tooltip": null
      }
     },
     "02f55aafaf564172950eb0b995eed265": {
      "model_module": "@jupyter-widgets/base",
      "model_module_version": "2.0.0",
      "model_name": "LayoutModel",
      "state": {
       "_model_module": "@jupyter-widgets/base",
       "_model_module_version": "2.0.0",
       "_model_name": "LayoutModel",
       "_view_count": null,
       "_view_module": "@jupyter-widgets/base",
       "_view_module_version": "2.0.0",
       "_view_name": "LayoutView",
       "align_content": null,
       "align_items": null,
       "align_self": null,
       "border_bottom": null,
       "border_left": null,
       "border_right": null,
       "border_top": null,
       "bottom": null,
       "display": null,
       "flex": null,
       "flex_flow": null,
       "grid_area": null,
       "grid_auto_columns": null,
       "grid_auto_flow": null,
       "grid_auto_rows": null,
       "grid_column": null,
       "grid_gap": null,
       "grid_row": null,
       "grid_template_areas": null,
       "grid_template_columns": null,
       "grid_template_rows": null,
       "height": null,
       "justify_content": null,
       "justify_items": null,
       "left": null,
       "margin": null,
       "max_height": null,
       "max_width": null,
       "min_height": null,
       "min_width": null,
       "object_fit": null,
       "object_position": null,
       "order": null,
       "overflow": null,
       "padding": null,
       "right": null,
       "top": null,
       "visibility": null,
       "width": null
      }
     },
     "06dda010a1bb41ef83a92891b6a33d2f": {
      "model_module": "@jupyter-widgets/base",
      "model_module_version": "2.0.0",
      "model_name": "LayoutModel",
      "state": {
       "_model_module": "@jupyter-widgets/base",
       "_model_module_version": "2.0.0",
       "_model_name": "LayoutModel",
       "_view_count": null,
       "_view_module": "@jupyter-widgets/base",
       "_view_module_version": "2.0.0",
       "_view_name": "LayoutView",
       "align_content": null,
       "align_items": null,
       "align_self": null,
       "border_bottom": null,
       "border_left": null,
       "border_right": null,
       "border_top": null,
       "bottom": null,
       "display": null,
       "flex": null,
       "flex_flow": null,
       "grid_area": null,
       "grid_auto_columns": null,
       "grid_auto_flow": null,
       "grid_auto_rows": null,
       "grid_column": null,
       "grid_gap": null,
       "grid_row": null,
       "grid_template_areas": null,
       "grid_template_columns": null,
       "grid_template_rows": null,
       "height": null,
       "justify_content": null,
       "justify_items": null,
       "left": null,
       "margin": null,
       "max_height": null,
       "max_width": null,
       "min_height": null,
       "min_width": null,
       "object_fit": null,
       "object_position": null,
       "order": null,
       "overflow": null,
       "padding": null,
       "right": null,
       "top": null,
       "visibility": null,
       "width": null
      }
     },
     "07b04cf4df9f4e2a8dcaa27be97e4be9": {
      "model_module": "@jupyter-widgets/base",
      "model_module_version": "2.0.0",
      "model_name": "LayoutModel",
      "state": {
       "_model_module": "@jupyter-widgets/base",
       "_model_module_version": "2.0.0",
       "_model_name": "LayoutModel",
       "_view_count": null,
       "_view_module": "@jupyter-widgets/base",
       "_view_module_version": "2.0.0",
       "_view_name": "LayoutView",
       "align_content": null,
       "align_items": null,
       "align_self": null,
       "border_bottom": null,
       "border_left": null,
       "border_right": null,
       "border_top": null,
       "bottom": null,
       "display": null,
       "flex": null,
       "flex_flow": null,
       "grid_area": null,
       "grid_auto_columns": null,
       "grid_auto_flow": null,
       "grid_auto_rows": null,
       "grid_column": null,
       "grid_gap": null,
       "grid_row": null,
       "grid_template_areas": null,
       "grid_template_columns": null,
       "grid_template_rows": null,
       "height": null,
       "justify_content": null,
       "justify_items": null,
       "left": null,
       "margin": null,
       "max_height": null,
       "max_width": null,
       "min_height": null,
       "min_width": null,
       "object_fit": null,
       "object_position": null,
       "order": null,
       "overflow": null,
       "padding": null,
       "right": null,
       "top": null,
       "visibility": null,
       "width": null
      }
     },
     "07f54d8c76a74c7b8d61254ff3feaab9": {
      "model_module": "@jupyter-widgets/controls",
      "model_module_version": "2.0.0",
      "model_name": "HTMLModel",
      "state": {
       "_dom_classes": [],
       "_model_module": "@jupyter-widgets/controls",
       "_model_module_version": "2.0.0",
       "_model_name": "HTMLModel",
       "_view_count": null,
       "_view_module": "@jupyter-widgets/controls",
       "_view_module_version": "2.0.0",
       "_view_name": "HTMLView",
       "description": "",
       "description_allow_html": false,
       "layout": "IPY_MODEL_773ddf3afab64de59a27addac90fcdbb",
       "placeholder": "​",
       "style": "IPY_MODEL_fd42a02b9d2440af8218f0f1bf127618",
       "tabbable": null,
       "tooltip": null,
       "value": " 805/805 [21:14&lt;00:00,  1.29s/it]"
      }
     },
     "0a2583477226479497663107d7f4061c": {
      "model_module": "@jupyter-widgets/controls",
      "model_module_version": "2.0.0",
      "model_name": "HTMLModel",
      "state": {
       "_dom_classes": [],
       "_model_module": "@jupyter-widgets/controls",
       "_model_module_version": "2.0.0",
       "_model_name": "HTMLModel",
       "_view_count": null,
       "_view_module": "@jupyter-widgets/controls",
       "_view_module_version": "2.0.0",
       "_view_name": "HTMLView",
       "description": "",
       "description_allow_html": false,
       "layout": "IPY_MODEL_717a3df3efd94481bdeeccb70bc907e0",
       "placeholder": "​",
       "style": "IPY_MODEL_c7e8da4d10134d548218520c4928fb8b",
       "tabbable": null,
       "tooltip": null,
       "value": "MSEError: 0.260428: 100%"
      }
     },
     "0a8c1f34915f4972ad2ecaf398577a3f": {
      "model_module": "@jupyter-widgets/controls",
      "model_module_version": "2.0.0",
      "model_name": "FloatProgressModel",
      "state": {
       "_dom_classes": [],
       "_model_module": "@jupyter-widgets/controls",
       "_model_module_version": "2.0.0",
       "_model_name": "FloatProgressModel",
       "_view_count": null,
       "_view_module": "@jupyter-widgets/controls",
       "_view_module_version": "2.0.0",
       "_view_name": "ProgressView",
       "bar_style": "success",
       "description": "",
       "description_allow_html": false,
       "layout": "IPY_MODEL_fd4f1f73c21f4ff1bc7df95cb3d5c451",
       "max": 805.0,
       "min": 0.0,
       "orientation": "horizontal",
       "style": "IPY_MODEL_3dbe355f62fc479db256c023b968bfc3",
       "tabbable": null,
       "tooltip": null,
       "value": 805.0
      }
     },
     "0ac9451d75f54b60bf7a3cc1212f5cf5": {
      "model_module": "@jupyter-widgets/controls",
      "model_module_version": "2.0.0",
      "model_name": "HTMLStyleModel",
      "state": {
       "_model_module": "@jupyter-widgets/controls",
       "_model_module_version": "2.0.0",
       "_model_name": "HTMLStyleModel",
       "_view_count": null,
       "_view_module": "@jupyter-widgets/base",
       "_view_module_version": "2.0.0",
       "_view_name": "StyleView",
       "background": null,
       "description_width": "",
       "font_size": null,
       "text_color": null
      }
     },
     "0be2d7a640f44171b4bf2963c796cdae": {
      "model_module": "@jupyter-widgets/base",
      "model_module_version": "2.0.0",
      "model_name": "LayoutModel",
      "state": {
       "_model_module": "@jupyter-widgets/base",
       "_model_module_version": "2.0.0",
       "_model_name": "LayoutModel",
       "_view_count": null,
       "_view_module": "@jupyter-widgets/base",
       "_view_module_version": "2.0.0",
       "_view_name": "LayoutView",
       "align_content": null,
       "align_items": null,
       "align_self": null,
       "border_bottom": null,
       "border_left": null,
       "border_right": null,
       "border_top": null,
       "bottom": null,
       "display": null,
       "flex": null,
       "flex_flow": null,
       "grid_area": null,
       "grid_auto_columns": null,
       "grid_auto_flow": null,
       "grid_auto_rows": null,
       "grid_column": null,
       "grid_gap": null,
       "grid_row": null,
       "grid_template_areas": null,
       "grid_template_columns": null,
       "grid_template_rows": null,
       "height": null,
       "justify_content": null,
       "justify_items": null,
       "left": null,
       "margin": null,
       "max_height": null,
       "max_width": null,
       "min_height": null,
       "min_width": null,
       "object_fit": null,
       "object_position": null,
       "order": null,
       "overflow": null,
       "padding": null,
       "right": null,
       "top": null,
       "visibility": null,
       "width": null
      }
     },
     "0cd151f38da949bbbe0853eb31fbb179": {
      "model_module": "@jupyter-widgets/controls",
      "model_module_version": "2.0.0",
      "model_name": "HBoxModel",
      "state": {
       "_dom_classes": [],
       "_model_module": "@jupyter-widgets/controls",
       "_model_module_version": "2.0.0",
       "_model_name": "HBoxModel",
       "_view_count": null,
       "_view_module": "@jupyter-widgets/controls",
       "_view_module_version": "2.0.0",
       "_view_name": "HBoxView",
       "box_style": "",
       "children": [
        "IPY_MODEL_cf51c47cc5404592a7ede35a9a3b0410",
        "IPY_MODEL_14da74f37bd844c08ad16e0453324cd3",
        "IPY_MODEL_892f38da06c74403b2862b63f7db7d29"
       ],
       "layout": "IPY_MODEL_b1f4d23ebdab4bcfb265132bd4da792d",
       "tabbable": null,
       "tooltip": null
      }
     },
     "1348ef1f822b4df08cb6f1abcae83275": {
      "model_module": "@jupyter-widgets/controls",
      "model_module_version": "2.0.0",
      "model_name": "HTMLModel",
      "state": {
       "_dom_classes": [],
       "_model_module": "@jupyter-widgets/controls",
       "_model_module_version": "2.0.0",
       "_model_name": "HTMLModel",
       "_view_count": null,
       "_view_module": "@jupyter-widgets/controls",
       "_view_module_version": "2.0.0",
       "_view_name": "HTMLView",
       "description": "",
       "description_allow_html": false,
       "layout": "IPY_MODEL_e6a2beb8e50a4abdbb6af44c55dc3609",
       "placeholder": "​",
       "style": "IPY_MODEL_b1b2aa99b4f74902afa79b808d29f4a4",
       "tabbable": null,
       "tooltip": null,
       "value": " 805/805 [21:11&lt;00:00,  1.29s/it]"
      }
     },
     "14b80ca9a6ed43e6811e44e81b8a2557": {
      "model_module": "@jupyter-widgets/controls",
      "model_module_version": "2.0.0",
      "model_name": "HTMLStyleModel",
      "state": {
       "_model_module": "@jupyter-widgets/controls",
       "_model_module_version": "2.0.0",
       "_model_name": "HTMLStyleModel",
       "_view_count": null,
       "_view_module": "@jupyter-widgets/base",
       "_view_module_version": "2.0.0",
       "_view_name": "StyleView",
       "background": null,
       "description_width": "",
       "font_size": null,
       "text_color": null
      }
     },
     "14da74f37bd844c08ad16e0453324cd3": {
      "model_module": "@jupyter-widgets/controls",
      "model_module_version": "2.0.0",
      "model_name": "FloatProgressModel",
      "state": {
       "_dom_classes": [],
       "_model_module": "@jupyter-widgets/controls",
       "_model_module_version": "2.0.0",
       "_model_name": "FloatProgressModel",
       "_view_count": null,
       "_view_module": "@jupyter-widgets/controls",
       "_view_module_version": "2.0.0",
       "_view_name": "ProgressView",
       "bar_style": "success",
       "description": "",
       "description_allow_html": false,
       "layout": "IPY_MODEL_504439604d0946569967caa974c2ad9e",
       "max": 805.0,
       "min": 0.0,
       "orientation": "horizontal",
       "style": "IPY_MODEL_809f8ef5aaba4ff5b6f4d7fbdd5a4b90",
       "tabbable": null,
       "tooltip": null,
       "value": 805.0
      }
     },
     "18fd8714a58343cc961663f72d2e118c": {
      "model_module": "@jupyter-widgets/controls",
      "model_module_version": "2.0.0",
      "model_name": "FloatProgressModel",
      "state": {
       "_dom_classes": [],
       "_model_module": "@jupyter-widgets/controls",
       "_model_module_version": "2.0.0",
       "_model_name": "FloatProgressModel",
       "_view_count": null,
       "_view_module": "@jupyter-widgets/controls",
       "_view_module_version": "2.0.0",
       "_view_name": "ProgressView",
       "bar_style": "success",
       "description": "",
       "description_allow_html": false,
       "layout": "IPY_MODEL_ab9120d711e3424aae49f1831b3f15dd",
       "max": 805.0,
       "min": 0.0,
       "orientation": "horizontal",
       "style": "IPY_MODEL_77756ff620f24e5fa4b291a7b35056a3",
       "tabbable": null,
       "tooltip": null,
       "value": 805.0
      }
     },
     "1ad1a2f6436543a1b119ff4e9b9ee9c1": {
      "model_module": "@jupyter-widgets/controls",
      "model_module_version": "2.0.0",
      "model_name": "HBoxModel",
      "state": {
       "_dom_classes": [],
       "_model_module": "@jupyter-widgets/controls",
       "_model_module_version": "2.0.0",
       "_model_name": "HBoxModel",
       "_view_count": null,
       "_view_module": "@jupyter-widgets/controls",
       "_view_module_version": "2.0.0",
       "_view_name": "HBoxView",
       "box_style": "",
       "children": [
        "IPY_MODEL_61c7b68607014f4183a350fdad680844",
        "IPY_MODEL_dea93590cf0a45c780cecaaf17f1f5b6",
        "IPY_MODEL_a36f95fd4f344eab81818b21625e931b"
       ],
       "layout": "IPY_MODEL_5fd3d161c176469b80bac3317375414b",
       "tabbable": null,
       "tooltip": null
      }
     },
     "1c9096a412c04ef8a485a3cd86b6ffa3": {
      "model_module": "@jupyter-widgets/base",
      "model_module_version": "2.0.0",
      "model_name": "LayoutModel",
      "state": {
       "_model_module": "@jupyter-widgets/base",
       "_model_module_version": "2.0.0",
       "_model_name": "LayoutModel",
       "_view_count": null,
       "_view_module": "@jupyter-widgets/base",
       "_view_module_version": "2.0.0",
       "_view_name": "LayoutView",
       "align_content": null,
       "align_items": null,
       "align_self": null,
       "border_bottom": null,
       "border_left": null,
       "border_right": null,
       "border_top": null,
       "bottom": null,
       "display": null,
       "flex": null,
       "flex_flow": null,
       "grid_area": null,
       "grid_auto_columns": null,
       "grid_auto_flow": null,
       "grid_auto_rows": null,
       "grid_column": null,
       "grid_gap": null,
       "grid_row": null,
       "grid_template_areas": null,
       "grid_template_columns": null,
       "grid_template_rows": null,
       "height": null,
       "justify_content": null,
       "justify_items": null,
       "left": null,
       "margin": null,
       "max_height": null,
       "max_width": null,
       "min_height": null,
       "min_width": null,
       "object_fit": null,
       "object_position": null,
       "order": null,
       "overflow": null,
       "padding": null,
       "right": null,
       "top": null,
       "visibility": null,
       "width": null
      }
     },
     "2028d50013da47b3a845513cd2a6b2b3": {
      "model_module": "@jupyter-widgets/base",
      "model_module_version": "2.0.0",
      "model_name": "LayoutModel",
      "state": {
       "_model_module": "@jupyter-widgets/base",
       "_model_module_version": "2.0.0",
       "_model_name": "LayoutModel",
       "_view_count": null,
       "_view_module": "@jupyter-widgets/base",
       "_view_module_version": "2.0.0",
       "_view_name": "LayoutView",
       "align_content": null,
       "align_items": null,
       "align_self": null,
       "border_bottom": null,
       "border_left": null,
       "border_right": null,
       "border_top": null,
       "bottom": null,
       "display": null,
       "flex": null,
       "flex_flow": null,
       "grid_area": null,
       "grid_auto_columns": null,
       "grid_auto_flow": null,
       "grid_auto_rows": null,
       "grid_column": null,
       "grid_gap": null,
       "grid_row": null,
       "grid_template_areas": null,
       "grid_template_columns": null,
       "grid_template_rows": null,
       "height": null,
       "justify_content": null,
       "justify_items": null,
       "left": null,
       "margin": null,
       "max_height": null,
       "max_width": null,
       "min_height": null,
       "min_width": null,
       "object_fit": null,
       "object_position": null,
       "order": null,
       "overflow": null,
       "padding": null,
       "right": null,
       "top": null,
       "visibility": null,
       "width": null
      }
     },
     "21987655ffde4d1bb00fa4c5566a425c": {
      "model_module": "@jupyter-widgets/controls",
      "model_module_version": "2.0.0",
      "model_name": "FloatProgressModel",
      "state": {
       "_dom_classes": [],
       "_model_module": "@jupyter-widgets/controls",
       "_model_module_version": "2.0.0",
       "_model_name": "FloatProgressModel",
       "_view_count": null,
       "_view_module": "@jupyter-widgets/controls",
       "_view_module_version": "2.0.0",
       "_view_name": "ProgressView",
       "bar_style": "success",
       "description": "",
       "description_allow_html": false,
       "layout": "IPY_MODEL_8e2700e8dd5a48878e7d0d82b60e2bf2",
       "max": 805.0,
       "min": 0.0,
       "orientation": "horizontal",
       "style": "IPY_MODEL_b663f4a82dea41be82eb92e31f332bbe",
       "tabbable": null,
       "tooltip": null,
       "value": 805.0
      }
     },
     "227ce2387fc84739917bf207a14bd700": {
      "model_module": "@jupyter-widgets/base",
      "model_module_version": "2.0.0",
      "model_name": "LayoutModel",
      "state": {
       "_model_module": "@jupyter-widgets/base",
       "_model_module_version": "2.0.0",
       "_model_name": "LayoutModel",
       "_view_count": null,
       "_view_module": "@jupyter-widgets/base",
       "_view_module_version": "2.0.0",
       "_view_name": "LayoutView",
       "align_content": null,
       "align_items": null,
       "align_self": null,
       "border_bottom": null,
       "border_left": null,
       "border_right": null,
       "border_top": null,
       "bottom": null,
       "display": null,
       "flex": null,
       "flex_flow": null,
       "grid_area": null,
       "grid_auto_columns": null,
       "grid_auto_flow": null,
       "grid_auto_rows": null,
       "grid_column": null,
       "grid_gap": null,
       "grid_row": null,
       "grid_template_areas": null,
       "grid_template_columns": null,
       "grid_template_rows": null,
       "height": null,
       "justify_content": null,
       "justify_items": null,
       "left": null,
       "margin": null,
       "max_height": null,
       "max_width": null,
       "min_height": null,
       "min_width": null,
       "object_fit": null,
       "object_position": null,
       "order": null,
       "overflow": null,
       "padding": null,
       "right": null,
       "top": null,
       "visibility": null,
       "width": null
      }
     },
     "277b559a889c42dea4a37008f13b91b7": {
      "model_module": "@jupyter-widgets/controls",
      "model_module_version": "2.0.0",
      "model_name": "HTMLModel",
      "state": {
       "_dom_classes": [],
       "_model_module": "@jupyter-widgets/controls",
       "_model_module_version": "2.0.0",
       "_model_name": "HTMLModel",
       "_view_count": null,
       "_view_module": "@jupyter-widgets/controls",
       "_view_module_version": "2.0.0",
       "_view_name": "HTMLView",
       "description": "",
       "description_allow_html": false,
       "layout": "IPY_MODEL_e023e3bd445e46078a38ed74d97276b1",
       "placeholder": "​",
       "style": "IPY_MODEL_14b80ca9a6ed43e6811e44e81b8a2557",
       "tabbable": null,
       "tooltip": null,
       "value": "MSEError: 0.25818214: 100%"
      }
     },
     "2db476851dd94318bef3b4943a1b276c": {
      "model_module": "@jupyter-widgets/base",
      "model_module_version": "2.0.0",
      "model_name": "LayoutModel",
      "state": {
       "_model_module": "@jupyter-widgets/base",
       "_model_module_version": "2.0.0",
       "_model_name": "LayoutModel",
       "_view_count": null,
       "_view_module": "@jupyter-widgets/base",
       "_view_module_version": "2.0.0",
       "_view_name": "LayoutView",
       "align_content": null,
       "align_items": null,
       "align_self": null,
       "border_bottom": null,
       "border_left": null,
       "border_right": null,
       "border_top": null,
       "bottom": null,
       "display": null,
       "flex": null,
       "flex_flow": null,
       "grid_area": null,
       "grid_auto_columns": null,
       "grid_auto_flow": null,
       "grid_auto_rows": null,
       "grid_column": null,
       "grid_gap": null,
       "grid_row": null,
       "grid_template_areas": null,
       "grid_template_columns": null,
       "grid_template_rows": null,
       "height": null,
       "justify_content": null,
       "justify_items": null,
       "left": null,
       "margin": null,
       "max_height": null,
       "max_width": null,
       "min_height": null,
       "min_width": null,
       "object_fit": null,
       "object_position": null,
       "order": null,
       "overflow": null,
       "padding": null,
       "right": null,
       "top": null,
       "visibility": null,
       "width": null
      }
     },
     "2e469add46a94f31b30220c4304dd0ea": {
      "model_module": "@jupyter-widgets/controls",
      "model_module_version": "2.0.0",
      "model_name": "FloatProgressModel",
      "state": {
       "_dom_classes": [],
       "_model_module": "@jupyter-widgets/controls",
       "_model_module_version": "2.0.0",
       "_model_name": "FloatProgressModel",
       "_view_count": null,
       "_view_module": "@jupyter-widgets/controls",
       "_view_module_version": "2.0.0",
       "_view_name": "ProgressView",
       "bar_style": "success",
       "description": "",
       "description_allow_html": false,
       "layout": "IPY_MODEL_9324fd65922448a39bb2a0a0a1904fec",
       "max": 805.0,
       "min": 0.0,
       "orientation": "horizontal",
       "style": "IPY_MODEL_37a74c364cef4bceaa8d93da704f4613",
       "tabbable": null,
       "tooltip": null,
       "value": 805.0
      }
     },
     "2ea2b3f2be524ed3ae408f90e74270bb": {
      "model_module": "@jupyter-widgets/controls",
      "model_module_version": "2.0.0",
      "model_name": "HTMLStyleModel",
      "state": {
       "_model_module": "@jupyter-widgets/controls",
       "_model_module_version": "2.0.0",
       "_model_name": "HTMLStyleModel",
       "_view_count": null,
       "_view_module": "@jupyter-widgets/base",
       "_view_module_version": "2.0.0",
       "_view_name": "StyleView",
       "background": null,
       "description_width": "",
       "font_size": null,
       "text_color": null
      }
     },
     "370ed7cf1ece4ecebf3c59054a1afb95": {
      "model_module": "@jupyter-widgets/controls",
      "model_module_version": "2.0.0",
      "model_name": "HTMLModel",
      "state": {
       "_dom_classes": [],
       "_model_module": "@jupyter-widgets/controls",
       "_model_module_version": "2.0.0",
       "_model_name": "HTMLModel",
       "_view_count": null,
       "_view_module": "@jupyter-widgets/controls",
       "_view_module_version": "2.0.0",
       "_view_name": "HTMLView",
       "description": "",
       "description_allow_html": false,
       "layout": "IPY_MODEL_6622cf8792b54556bea55f719130dde6",
       "placeholder": "​",
       "style": "IPY_MODEL_ec565c7207a448369820810cfb011143",
       "tabbable": null,
       "tooltip": null,
       "value": "MSEError: 0.26011825: 100%"
      }
     },
     "37a74c364cef4bceaa8d93da704f4613": {
      "model_module": "@jupyter-widgets/controls",
      "model_module_version": "2.0.0",
      "model_name": "ProgressStyleModel",
      "state": {
       "_model_module": "@jupyter-widgets/controls",
       "_model_module_version": "2.0.0",
       "_model_name": "ProgressStyleModel",
       "_view_count": null,
       "_view_module": "@jupyter-widgets/base",
       "_view_module_version": "2.0.0",
       "_view_name": "StyleView",
       "bar_color": null,
       "description_width": ""
      }
     },
     "3ac319ffc37e43da86c37c131d3ec47f": {
      "model_module": "@jupyter-widgets/base",
      "model_module_version": "2.0.0",
      "model_name": "LayoutModel",
      "state": {
       "_model_module": "@jupyter-widgets/base",
       "_model_module_version": "2.0.0",
       "_model_name": "LayoutModel",
       "_view_count": null,
       "_view_module": "@jupyter-widgets/base",
       "_view_module_version": "2.0.0",
       "_view_name": "LayoutView",
       "align_content": null,
       "align_items": null,
       "align_self": null,
       "border_bottom": null,
       "border_left": null,
       "border_right": null,
       "border_top": null,
       "bottom": null,
       "display": null,
       "flex": null,
       "flex_flow": null,
       "grid_area": null,
       "grid_auto_columns": null,
       "grid_auto_flow": null,
       "grid_auto_rows": null,
       "grid_column": null,
       "grid_gap": null,
       "grid_row": null,
       "grid_template_areas": null,
       "grid_template_columns": null,
       "grid_template_rows": null,
       "height": null,
       "justify_content": null,
       "justify_items": null,
       "left": null,
       "margin": null,
       "max_height": null,
       "max_width": null,
       "min_height": null,
       "min_width": null,
       "object_fit": null,
       "object_position": null,
       "order": null,
       "overflow": null,
       "padding": null,
       "right": null,
       "top": null,
       "visibility": null,
       "width": null
      }
     },
     "3ce21fa39a5e46928a65a53fe73e40fe": {
      "model_module": "@jupyter-widgets/controls",
      "model_module_version": "2.0.0",
      "model_name": "HTMLStyleModel",
      "state": {
       "_model_module": "@jupyter-widgets/controls",
       "_model_module_version": "2.0.0",
       "_model_name": "HTMLStyleModel",
       "_view_count": null,
       "_view_module": "@jupyter-widgets/base",
       "_view_module_version": "2.0.0",
       "_view_name": "StyleView",
       "background": null,
       "description_width": "",
       "font_size": null,
       "text_color": null
      }
     },
     "3dbe355f62fc479db256c023b968bfc3": {
      "model_module": "@jupyter-widgets/controls",
      "model_module_version": "2.0.0",
      "model_name": "ProgressStyleModel",
      "state": {
       "_model_module": "@jupyter-widgets/controls",
       "_model_module_version": "2.0.0",
       "_model_name": "ProgressStyleModel",
       "_view_count": null,
       "_view_module": "@jupyter-widgets/base",
       "_view_module_version": "2.0.0",
       "_view_name": "StyleView",
       "bar_color": null,
       "description_width": ""
      }
     },
     "3f26cc4a4b1f437ab590ef41b44e8142": {
      "model_module": "@jupyter-widgets/controls",
      "model_module_version": "2.0.0",
      "model_name": "FloatProgressModel",
      "state": {
       "_dom_classes": [],
       "_model_module": "@jupyter-widgets/controls",
       "_model_module_version": "2.0.0",
       "_model_name": "FloatProgressModel",
       "_view_count": null,
       "_view_module": "@jupyter-widgets/controls",
       "_view_module_version": "2.0.0",
       "_view_name": "ProgressView",
       "bar_style": "success",
       "description": "",
       "description_allow_html": false,
       "layout": "IPY_MODEL_f588bce21cf54a3bb29cfdaea435c6b9",
       "max": 805.0,
       "min": 0.0,
       "orientation": "horizontal",
       "style": "IPY_MODEL_c54ed84bdac045b1863add0b95a5e11f",
       "tabbable": null,
       "tooltip": null,
       "value": 805.0
      }
     },
     "474355be05ab413a9b76bf0ec0372c72": {
      "model_module": "@jupyter-widgets/base",
      "model_module_version": "2.0.0",
      "model_name": "LayoutModel",
      "state": {
       "_model_module": "@jupyter-widgets/base",
       "_model_module_version": "2.0.0",
       "_model_name": "LayoutModel",
       "_view_count": null,
       "_view_module": "@jupyter-widgets/base",
       "_view_module_version": "2.0.0",
       "_view_name": "LayoutView",
       "align_content": null,
       "align_items": null,
       "align_self": null,
       "border_bottom": null,
       "border_left": null,
       "border_right": null,
       "border_top": null,
       "bottom": null,
       "display": null,
       "flex": null,
       "flex_flow": null,
       "grid_area": null,
       "grid_auto_columns": null,
       "grid_auto_flow": null,
       "grid_auto_rows": null,
       "grid_column": null,
       "grid_gap": null,
       "grid_row": null,
       "grid_template_areas": null,
       "grid_template_columns": null,
       "grid_template_rows": null,
       "height": null,
       "justify_content": null,
       "justify_items": null,
       "left": null,
       "margin": null,
       "max_height": null,
       "max_width": null,
       "min_height": null,
       "min_width": null,
       "object_fit": null,
       "object_position": null,
       "order": null,
       "overflow": null,
       "padding": null,
       "right": null,
       "top": null,
       "visibility": null,
       "width": null
      }
     },
     "4817a9b6018d45128f441c840778c26a": {
      "model_module": "@jupyter-widgets/controls",
      "model_module_version": "2.0.0",
      "model_name": "HTMLModel",
      "state": {
       "_dom_classes": [],
       "_model_module": "@jupyter-widgets/controls",
       "_model_module_version": "2.0.0",
       "_model_name": "HTMLModel",
       "_view_count": null,
       "_view_module": "@jupyter-widgets/controls",
       "_view_module_version": "2.0.0",
       "_view_name": "HTMLView",
       "description": "",
       "description_allow_html": false,
       "layout": "IPY_MODEL_db16cac8493c446789f154c475d5f9ab",
       "placeholder": "​",
       "style": "IPY_MODEL_c4d755d6fcd6447d905bb434a3e59847",
       "tabbable": null,
       "tooltip": null,
       "value": "MSEError: 0.2548781: 100%"
      }
     },
     "4837fbb0566c42c083ed7a62fd5db6a4": {
      "model_module": "@jupyter-widgets/base",
      "model_module_version": "2.0.0",
      "model_name": "LayoutModel",
      "state": {
       "_model_module": "@jupyter-widgets/base",
       "_model_module_version": "2.0.0",
       "_model_name": "LayoutModel",
       "_view_count": null,
       "_view_module": "@jupyter-widgets/base",
       "_view_module_version": "2.0.0",
       "_view_name": "LayoutView",
       "align_content": null,
       "align_items": null,
       "align_self": null,
       "border_bottom": null,
       "border_left": null,
       "border_right": null,
       "border_top": null,
       "bottom": null,
       "display": null,
       "flex": null,
       "flex_flow": null,
       "grid_area": null,
       "grid_auto_columns": null,
       "grid_auto_flow": null,
       "grid_auto_rows": null,
       "grid_column": null,
       "grid_gap": null,
       "grid_row": null,
       "grid_template_areas": null,
       "grid_template_columns": null,
       "grid_template_rows": null,
       "height": null,
       "justify_content": null,
       "justify_items": null,
       "left": null,
       "margin": null,
       "max_height": null,
       "max_width": null,
       "min_height": null,
       "min_width": null,
       "object_fit": null,
       "object_position": null,
       "order": null,
       "overflow": null,
       "padding": null,
       "right": null,
       "top": null,
       "visibility": null,
       "width": null
      }
     },
     "483f916b40bd4a569e53b6505f8d9e95": {
      "model_module": "@jupyter-widgets/base",
      "model_module_version": "2.0.0",
      "model_name": "LayoutModel",
      "state": {
       "_model_module": "@jupyter-widgets/base",
       "_model_module_version": "2.0.0",
       "_model_name": "LayoutModel",
       "_view_count": null,
       "_view_module": "@jupyter-widgets/base",
       "_view_module_version": "2.0.0",
       "_view_name": "LayoutView",
       "align_content": null,
       "align_items": null,
       "align_self": null,
       "border_bottom": null,
       "border_left": null,
       "border_right": null,
       "border_top": null,
       "bottom": null,
       "display": null,
       "flex": null,
       "flex_flow": null,
       "grid_area": null,
       "grid_auto_columns": null,
       "grid_auto_flow": null,
       "grid_auto_rows": null,
       "grid_column": null,
       "grid_gap": null,
       "grid_row": null,
       "grid_template_areas": null,
       "grid_template_columns": null,
       "grid_template_rows": null,
       "height": null,
       "justify_content": null,
       "justify_items": null,
       "left": null,
       "margin": null,
       "max_height": null,
       "max_width": null,
       "min_height": null,
       "min_width": null,
       "object_fit": null,
       "object_position": null,
       "order": null,
       "overflow": null,
       "padding": null,
       "right": null,
       "top": null,
       "visibility": null,
       "width": null
      }
     },
     "48d16e16c9e242089eb0abfbc25705c6": {
      "model_module": "@jupyter-widgets/controls",
      "model_module_version": "2.0.0",
      "model_name": "HTMLModel",
      "state": {
       "_dom_classes": [],
       "_model_module": "@jupyter-widgets/controls",
       "_model_module_version": "2.0.0",
       "_model_name": "HTMLModel",
       "_view_count": null,
       "_view_module": "@jupyter-widgets/controls",
       "_view_module_version": "2.0.0",
       "_view_name": "HTMLView",
       "description": "",
       "description_allow_html": false,
       "layout": "IPY_MODEL_58a8b5548d2545168e1dad17af7ef8b1",
       "placeholder": "​",
       "style": "IPY_MODEL_bd17cba0e01f4daba12f17ceb8823ec7",
       "tabbable": null,
       "tooltip": null,
       "value": " 805/805 [21:10&lt;00:00,  1.32s/it]"
      }
     },
     "4a937f8005e04a2cb01bea29911f541c": {
      "model_module": "@jupyter-widgets/controls",
      "model_module_version": "2.0.0",
      "model_name": "HBoxModel",
      "state": {
       "_dom_classes": [],
       "_model_module": "@jupyter-widgets/controls",
       "_model_module_version": "2.0.0",
       "_model_name": "HBoxModel",
       "_view_count": null,
       "_view_module": "@jupyter-widgets/controls",
       "_view_module_version": "2.0.0",
       "_view_name": "HBoxView",
       "box_style": "",
       "children": [
        "IPY_MODEL_0a2583477226479497663107d7f4061c",
        "IPY_MODEL_2e469add46a94f31b30220c4304dd0ea",
        "IPY_MODEL_74dcc0b433854cd29350e52648182748"
       ],
       "layout": "IPY_MODEL_227ce2387fc84739917bf207a14bd700",
       "tabbable": null,
       "tooltip": null
      }
     },
     "4ba9b303333847269864cf4b98e355ae": {
      "model_module": "@jupyter-widgets/controls",
      "model_module_version": "2.0.0",
      "model_name": "HTMLStyleModel",
      "state": {
       "_model_module": "@jupyter-widgets/controls",
       "_model_module_version": "2.0.0",
       "_model_name": "HTMLStyleModel",
       "_view_count": null,
       "_view_module": "@jupyter-widgets/base",
       "_view_module_version": "2.0.0",
       "_view_name": "StyleView",
       "background": null,
       "description_width": "",
       "font_size": null,
       "text_color": null
      }
     },
     "504439604d0946569967caa974c2ad9e": {
      "model_module": "@jupyter-widgets/base",
      "model_module_version": "2.0.0",
      "model_name": "LayoutModel",
      "state": {
       "_model_module": "@jupyter-widgets/base",
       "_model_module_version": "2.0.0",
       "_model_name": "LayoutModel",
       "_view_count": null,
       "_view_module": "@jupyter-widgets/base",
       "_view_module_version": "2.0.0",
       "_view_name": "LayoutView",
       "align_content": null,
       "align_items": null,
       "align_self": null,
       "border_bottom": null,
       "border_left": null,
       "border_right": null,
       "border_top": null,
       "bottom": null,
       "display": null,
       "flex": null,
       "flex_flow": null,
       "grid_area": null,
       "grid_auto_columns": null,
       "grid_auto_flow": null,
       "grid_auto_rows": null,
       "grid_column": null,
       "grid_gap": null,
       "grid_row": null,
       "grid_template_areas": null,
       "grid_template_columns": null,
       "grid_template_rows": null,
       "height": null,
       "justify_content": null,
       "justify_items": null,
       "left": null,
       "margin": null,
       "max_height": null,
       "max_width": null,
       "min_height": null,
       "min_width": null,
       "object_fit": null,
       "object_position": null,
       "order": null,
       "overflow": null,
       "padding": null,
       "right": null,
       "top": null,
       "visibility": null,
       "width": null
      }
     },
     "5499a38a005c4eec90b4c8c7d7967310": {
      "model_module": "@jupyter-widgets/base",
      "model_module_version": "2.0.0",
      "model_name": "LayoutModel",
      "state": {
       "_model_module": "@jupyter-widgets/base",
       "_model_module_version": "2.0.0",
       "_model_name": "LayoutModel",
       "_view_count": null,
       "_view_module": "@jupyter-widgets/base",
       "_view_module_version": "2.0.0",
       "_view_name": "LayoutView",
       "align_content": null,
       "align_items": null,
       "align_self": null,
       "border_bottom": null,
       "border_left": null,
       "border_right": null,
       "border_top": null,
       "bottom": null,
       "display": null,
       "flex": null,
       "flex_flow": null,
       "grid_area": null,
       "grid_auto_columns": null,
       "grid_auto_flow": null,
       "grid_auto_rows": null,
       "grid_column": null,
       "grid_gap": null,
       "grid_row": null,
       "grid_template_areas": null,
       "grid_template_columns": null,
       "grid_template_rows": null,
       "height": null,
       "justify_content": null,
       "justify_items": null,
       "left": null,
       "margin": null,
       "max_height": null,
       "max_width": null,
       "min_height": null,
       "min_width": null,
       "object_fit": null,
       "object_position": null,
       "order": null,
       "overflow": null,
       "padding": null,
       "right": null,
       "top": null,
       "visibility": null,
       "width": null
      }
     },
     "555b54600635427ca03e1c88c32cd52c": {
      "model_module": "@jupyter-widgets/controls",
      "model_module_version": "2.0.0",
      "model_name": "HTMLStyleModel",
      "state": {
       "_model_module": "@jupyter-widgets/controls",
       "_model_module_version": "2.0.0",
       "_model_name": "HTMLStyleModel",
       "_view_count": null,
       "_view_module": "@jupyter-widgets/base",
       "_view_module_version": "2.0.0",
       "_view_name": "StyleView",
       "background": null,
       "description_width": "",
       "font_size": null,
       "text_color": null
      }
     },
     "5584eebd62f840f8b3a4cfd2a137d080": {
      "model_module": "@jupyter-widgets/base",
      "model_module_version": "2.0.0",
      "model_name": "LayoutModel",
      "state": {
       "_model_module": "@jupyter-widgets/base",
       "_model_module_version": "2.0.0",
       "_model_name": "LayoutModel",
       "_view_count": null,
       "_view_module": "@jupyter-widgets/base",
       "_view_module_version": "2.0.0",
       "_view_name": "LayoutView",
       "align_content": null,
       "align_items": null,
       "align_self": null,
       "border_bottom": null,
       "border_left": null,
       "border_right": null,
       "border_top": null,
       "bottom": null,
       "display": null,
       "flex": null,
       "flex_flow": null,
       "grid_area": null,
       "grid_auto_columns": null,
       "grid_auto_flow": null,
       "grid_auto_rows": null,
       "grid_column": null,
       "grid_gap": null,
       "grid_row": null,
       "grid_template_areas": null,
       "grid_template_columns": null,
       "grid_template_rows": null,
       "height": null,
       "justify_content": null,
       "justify_items": null,
       "left": null,
       "margin": null,
       "max_height": null,
       "max_width": null,
       "min_height": null,
       "min_width": null,
       "object_fit": null,
       "object_position": null,
       "order": null,
       "overflow": null,
       "padding": null,
       "right": null,
       "top": null,
       "visibility": null,
       "width": null
      }
     },
     "56c0285c452c430c90598987afea6c02": {
      "model_module": "@jupyter-widgets/controls",
      "model_module_version": "2.0.0",
      "model_name": "HTMLStyleModel",
      "state": {
       "_model_module": "@jupyter-widgets/controls",
       "_model_module_version": "2.0.0",
       "_model_name": "HTMLStyleModel",
       "_view_count": null,
       "_view_module": "@jupyter-widgets/base",
       "_view_module_version": "2.0.0",
       "_view_name": "StyleView",
       "background": null,
       "description_width": "",
       "font_size": null,
       "text_color": null
      }
     },
     "56e111fd58e54f77a16edad8f03a2040": {
      "model_module": "@jupyter-widgets/controls",
      "model_module_version": "2.0.0",
      "model_name": "ProgressStyleModel",
      "state": {
       "_model_module": "@jupyter-widgets/controls",
       "_model_module_version": "2.0.0",
       "_model_name": "ProgressStyleModel",
       "_view_count": null,
       "_view_module": "@jupyter-widgets/base",
       "_view_module_version": "2.0.0",
       "_view_name": "StyleView",
       "bar_color": null,
       "description_width": ""
      }
     },
     "58a8b5548d2545168e1dad17af7ef8b1": {
      "model_module": "@jupyter-widgets/base",
      "model_module_version": "2.0.0",
      "model_name": "LayoutModel",
      "state": {
       "_model_module": "@jupyter-widgets/base",
       "_model_module_version": "2.0.0",
       "_model_name": "LayoutModel",
       "_view_count": null,
       "_view_module": "@jupyter-widgets/base",
       "_view_module_version": "2.0.0",
       "_view_name": "LayoutView",
       "align_content": null,
       "align_items": null,
       "align_self": null,
       "border_bottom": null,
       "border_left": null,
       "border_right": null,
       "border_top": null,
       "bottom": null,
       "display": null,
       "flex": null,
       "flex_flow": null,
       "grid_area": null,
       "grid_auto_columns": null,
       "grid_auto_flow": null,
       "grid_auto_rows": null,
       "grid_column": null,
       "grid_gap": null,
       "grid_row": null,
       "grid_template_areas": null,
       "grid_template_columns": null,
       "grid_template_rows": null,
       "height": null,
       "justify_content": null,
       "justify_items": null,
       "left": null,
       "margin": null,
       "max_height": null,
       "max_width": null,
       "min_height": null,
       "min_width": null,
       "object_fit": null,
       "object_position": null,
       "order": null,
       "overflow": null,
       "padding": null,
       "right": null,
       "top": null,
       "visibility": null,
       "width": null
      }
     },
     "5fd3d161c176469b80bac3317375414b": {
      "model_module": "@jupyter-widgets/base",
      "model_module_version": "2.0.0",
      "model_name": "LayoutModel",
      "state": {
       "_model_module": "@jupyter-widgets/base",
       "_model_module_version": "2.0.0",
       "_model_name": "LayoutModel",
       "_view_count": null,
       "_view_module": "@jupyter-widgets/base",
       "_view_module_version": "2.0.0",
       "_view_name": "LayoutView",
       "align_content": null,
       "align_items": null,
       "align_self": null,
       "border_bottom": null,
       "border_left": null,
       "border_right": null,
       "border_top": null,
       "bottom": null,
       "display": null,
       "flex": null,
       "flex_flow": null,
       "grid_area": null,
       "grid_auto_columns": null,
       "grid_auto_flow": null,
       "grid_auto_rows": null,
       "grid_column": null,
       "grid_gap": null,
       "grid_row": null,
       "grid_template_areas": null,
       "grid_template_columns": null,
       "grid_template_rows": null,
       "height": null,
       "justify_content": null,
       "justify_items": null,
       "left": null,
       "margin": null,
       "max_height": null,
       "max_width": null,
       "min_height": null,
       "min_width": null,
       "object_fit": null,
       "object_position": null,
       "order": null,
       "overflow": null,
       "padding": null,
       "right": null,
       "top": null,
       "visibility": null,
       "width": null
      }
     },
     "60678645d4f74ec98992427b394c5f97": {
      "model_module": "@jupyter-widgets/controls",
      "model_module_version": "2.0.0",
      "model_name": "ProgressStyleModel",
      "state": {
       "_model_module": "@jupyter-widgets/controls",
       "_model_module_version": "2.0.0",
       "_model_name": "ProgressStyleModel",
       "_view_count": null,
       "_view_module": "@jupyter-widgets/base",
       "_view_module_version": "2.0.0",
       "_view_name": "StyleView",
       "bar_color": null,
       "description_width": ""
      }
     },
     "61c7b68607014f4183a350fdad680844": {
      "model_module": "@jupyter-widgets/controls",
      "model_module_version": "2.0.0",
      "model_name": "HTMLModel",
      "state": {
       "_dom_classes": [],
       "_model_module": "@jupyter-widgets/controls",
       "_model_module_version": "2.0.0",
       "_model_name": "HTMLModel",
       "_view_count": null,
       "_view_module": "@jupyter-widgets/controls",
       "_view_module_version": "2.0.0",
       "_view_name": "HTMLView",
       "description": "",
       "description_allow_html": false,
       "layout": "IPY_MODEL_fd1ae721bc9141648db0879e16c62801",
       "placeholder": "​",
       "style": "IPY_MODEL_0ac9451d75f54b60bf7a3cc1212f5cf5",
       "tabbable": null,
       "tooltip": null,
       "value": "MSEError: 0.26960012: 100%"
      }
     },
     "637b71f5495b4150b5511799c95a44a8": {
      "model_module": "@jupyter-widgets/base",
      "model_module_version": "2.0.0",
      "model_name": "LayoutModel",
      "state": {
       "_model_module": "@jupyter-widgets/base",
       "_model_module_version": "2.0.0",
       "_model_name": "LayoutModel",
       "_view_count": null,
       "_view_module": "@jupyter-widgets/base",
       "_view_module_version": "2.0.0",
       "_view_name": "LayoutView",
       "align_content": null,
       "align_items": null,
       "align_self": null,
       "border_bottom": null,
       "border_left": null,
       "border_right": null,
       "border_top": null,
       "bottom": null,
       "display": null,
       "flex": null,
       "flex_flow": null,
       "grid_area": null,
       "grid_auto_columns": null,
       "grid_auto_flow": null,
       "grid_auto_rows": null,
       "grid_column": null,
       "grid_gap": null,
       "grid_row": null,
       "grid_template_areas": null,
       "grid_template_columns": null,
       "grid_template_rows": null,
       "height": null,
       "justify_content": null,
       "justify_items": null,
       "left": null,
       "margin": null,
       "max_height": null,
       "max_width": null,
       "min_height": null,
       "min_width": null,
       "object_fit": null,
       "object_position": null,
       "order": null,
       "overflow": null,
       "padding": null,
       "right": null,
       "top": null,
       "visibility": null,
       "width": null
      }
     },
     "6622cf8792b54556bea55f719130dde6": {
      "model_module": "@jupyter-widgets/base",
      "model_module_version": "2.0.0",
      "model_name": "LayoutModel",
      "state": {
       "_model_module": "@jupyter-widgets/base",
       "_model_module_version": "2.0.0",
       "_model_name": "LayoutModel",
       "_view_count": null,
       "_view_module": "@jupyter-widgets/base",
       "_view_module_version": "2.0.0",
       "_view_name": "LayoutView",
       "align_content": null,
       "align_items": null,
       "align_self": null,
       "border_bottom": null,
       "border_left": null,
       "border_right": null,
       "border_top": null,
       "bottom": null,
       "display": null,
       "flex": null,
       "flex_flow": null,
       "grid_area": null,
       "grid_auto_columns": null,
       "grid_auto_flow": null,
       "grid_auto_rows": null,
       "grid_column": null,
       "grid_gap": null,
       "grid_row": null,
       "grid_template_areas": null,
       "grid_template_columns": null,
       "grid_template_rows": null,
       "height": null,
       "justify_content": null,
       "justify_items": null,
       "left": null,
       "margin": null,
       "max_height": null,
       "max_width": null,
       "min_height": null,
       "min_width": null,
       "object_fit": null,
       "object_position": null,
       "order": null,
       "overflow": null,
       "padding": null,
       "right": null,
       "top": null,
       "visibility": null,
       "width": null
      }
     },
     "6d37d2b83f154d6ca0a46ec746020180": {
      "model_module": "@jupyter-widgets/controls",
      "model_module_version": "2.0.0",
      "model_name": "HBoxModel",
      "state": {
       "_dom_classes": [],
       "_model_module": "@jupyter-widgets/controls",
       "_model_module_version": "2.0.0",
       "_model_name": "HBoxModel",
       "_view_count": null,
       "_view_module": "@jupyter-widgets/controls",
       "_view_module_version": "2.0.0",
       "_view_name": "HBoxView",
       "box_style": "",
       "children": [
        "IPY_MODEL_370ed7cf1ece4ecebf3c59054a1afb95",
        "IPY_MODEL_3f26cc4a4b1f437ab590ef41b44e8142",
        "IPY_MODEL_b8148605a1114451b8728b1bf6dd4399"
       ],
       "layout": "IPY_MODEL_b12b28b7f26d40979a5241b9e756f381",
       "tabbable": null,
       "tooltip": null
      }
     },
     "6de6602f68c04efa8709064f1ec93fe2": {
      "model_module": "@jupyter-widgets/controls",
      "model_module_version": "2.0.0",
      "model_name": "FloatProgressModel",
      "state": {
       "_dom_classes": [],
       "_model_module": "@jupyter-widgets/controls",
       "_model_module_version": "2.0.0",
       "_model_name": "FloatProgressModel",
       "_view_count": null,
       "_view_module": "@jupyter-widgets/controls",
       "_view_module_version": "2.0.0",
       "_view_name": "ProgressView",
       "bar_style": "success",
       "description": "",
       "description_allow_html": false,
       "layout": "IPY_MODEL_eb1161b39ea642f09e4842ca607119cd",
       "max": 805.0,
       "min": 0.0,
       "orientation": "horizontal",
       "style": "IPY_MODEL_fe92092f6e2a4bca84b80cab357c0095",
       "tabbable": null,
       "tooltip": null,
       "value": 805.0
      }
     },
     "717a3df3efd94481bdeeccb70bc907e0": {
      "model_module": "@jupyter-widgets/base",
      "model_module_version": "2.0.0",
      "model_name": "LayoutModel",
      "state": {
       "_model_module": "@jupyter-widgets/base",
       "_model_module_version": "2.0.0",
       "_model_name": "LayoutModel",
       "_view_count": null,
       "_view_module": "@jupyter-widgets/base",
       "_view_module_version": "2.0.0",
       "_view_name": "LayoutView",
       "align_content": null,
       "align_items": null,
       "align_self": null,
       "border_bottom": null,
       "border_left": null,
       "border_right": null,
       "border_top": null,
       "bottom": null,
       "display": null,
       "flex": null,
       "flex_flow": null,
       "grid_area": null,
       "grid_auto_columns": null,
       "grid_auto_flow": null,
       "grid_auto_rows": null,
       "grid_column": null,
       "grid_gap": null,
       "grid_row": null,
       "grid_template_areas": null,
       "grid_template_columns": null,
       "grid_template_rows": null,
       "height": null,
       "justify_content": null,
       "justify_items": null,
       "left": null,
       "margin": null,
       "max_height": null,
       "max_width": null,
       "min_height": null,
       "min_width": null,
       "object_fit": null,
       "object_position": null,
       "order": null,
       "overflow": null,
       "padding": null,
       "right": null,
       "top": null,
       "visibility": null,
       "width": null
      }
     },
     "71a5d4653392414db92c8737d6dfde91": {
      "model_module": "@jupyter-widgets/controls",
      "model_module_version": "2.0.0",
      "model_name": "HTMLStyleModel",
      "state": {
       "_model_module": "@jupyter-widgets/controls",
       "_model_module_version": "2.0.0",
       "_model_name": "HTMLStyleModel",
       "_view_count": null,
       "_view_module": "@jupyter-widgets/base",
       "_view_module_version": "2.0.0",
       "_view_name": "StyleView",
       "background": null,
       "description_width": "",
       "font_size": null,
       "text_color": null
      }
     },
     "73861b3217a34d9a9421f663aee0adb4": {
      "model_module": "@jupyter-widgets/base",
      "model_module_version": "2.0.0",
      "model_name": "LayoutModel",
      "state": {
       "_model_module": "@jupyter-widgets/base",
       "_model_module_version": "2.0.0",
       "_model_name": "LayoutModel",
       "_view_count": null,
       "_view_module": "@jupyter-widgets/base",
       "_view_module_version": "2.0.0",
       "_view_name": "LayoutView",
       "align_content": null,
       "align_items": null,
       "align_self": null,
       "border_bottom": null,
       "border_left": null,
       "border_right": null,
       "border_top": null,
       "bottom": null,
       "display": null,
       "flex": null,
       "flex_flow": null,
       "grid_area": null,
       "grid_auto_columns": null,
       "grid_auto_flow": null,
       "grid_auto_rows": null,
       "grid_column": null,
       "grid_gap": null,
       "grid_row": null,
       "grid_template_areas": null,
       "grid_template_columns": null,
       "grid_template_rows": null,
       "height": null,
       "justify_content": null,
       "justify_items": null,
       "left": null,
       "margin": null,
       "max_height": null,
       "max_width": null,
       "min_height": null,
       "min_width": null,
       "object_fit": null,
       "object_position": null,
       "order": null,
       "overflow": null,
       "padding": null,
       "right": null,
       "top": null,
       "visibility": null,
       "width": null
      }
     },
     "74dcc0b433854cd29350e52648182748": {
      "model_module": "@jupyter-widgets/controls",
      "model_module_version": "2.0.0",
      "model_name": "HTMLModel",
      "state": {
       "_dom_classes": [],
       "_model_module": "@jupyter-widgets/controls",
       "_model_module_version": "2.0.0",
       "_model_name": "HTMLModel",
       "_view_count": null,
       "_view_module": "@jupyter-widgets/controls",
       "_view_module_version": "2.0.0",
       "_view_name": "HTMLView",
       "description": "",
       "description_allow_html": false,
       "layout": "IPY_MODEL_b330b9eb5d304aa28cfb5651f2f64c1b",
       "placeholder": "​",
       "style": "IPY_MODEL_fb27b6e2c9ed43a0901ec12c965a1596",
       "tabbable": null,
       "tooltip": null,
       "value": " 805/805 [21:12&lt;00:00,  1.27s/it]"
      }
     },
     "7693752d7a174de38b5059a5c097ab70": {
      "model_module": "@jupyter-widgets/controls",
      "model_module_version": "2.0.0",
      "model_name": "HTMLModel",
      "state": {
       "_dom_classes": [],
       "_model_module": "@jupyter-widgets/controls",
       "_model_module_version": "2.0.0",
       "_model_name": "HTMLModel",
       "_view_count": null,
       "_view_module": "@jupyter-widgets/controls",
       "_view_module_version": "2.0.0",
       "_view_name": "HTMLView",
       "description": "",
       "description_allow_html": false,
       "layout": "IPY_MODEL_3ac319ffc37e43da86c37c131d3ec47f",
       "placeholder": "​",
       "style": "IPY_MODEL_3ce21fa39a5e46928a65a53fe73e40fe",
       "tabbable": null,
       "tooltip": null,
       "value": "MSEError: 0.26574984: 100%"
      }
     },
     "773ddf3afab64de59a27addac90fcdbb": {
      "model_module": "@jupyter-widgets/base",
      "model_module_version": "2.0.0",
      "model_name": "LayoutModel",
      "state": {
       "_model_module": "@jupyter-widgets/base",
       "_model_module_version": "2.0.0",
       "_model_name": "LayoutModel",
       "_view_count": null,
       "_view_module": "@jupyter-widgets/base",
       "_view_module_version": "2.0.0",
       "_view_name": "LayoutView",
       "align_content": null,
       "align_items": null,
       "align_self": null,
       "border_bottom": null,
       "border_left": null,
       "border_right": null,
       "border_top": null,
       "bottom": null,
       "display": null,
       "flex": null,
       "flex_flow": null,
       "grid_area": null,
       "grid_auto_columns": null,
       "grid_auto_flow": null,
       "grid_auto_rows": null,
       "grid_column": null,
       "grid_gap": null,
       "grid_row": null,
       "grid_template_areas": null,
       "grid_template_columns": null,
       "grid_template_rows": null,
       "height": null,
       "justify_content": null,
       "justify_items": null,
       "left": null,
       "margin": null,
       "max_height": null,
       "max_width": null,
       "min_height": null,
       "min_width": null,
       "object_fit": null,
       "object_position": null,
       "order": null,
       "overflow": null,
       "padding": null,
       "right": null,
       "top": null,
       "visibility": null,
       "width": null
      }
     },
     "77756ff620f24e5fa4b291a7b35056a3": {
      "model_module": "@jupyter-widgets/controls",
      "model_module_version": "2.0.0",
      "model_name": "ProgressStyleModel",
      "state": {
       "_model_module": "@jupyter-widgets/controls",
       "_model_module_version": "2.0.0",
       "_model_name": "ProgressStyleModel",
       "_view_count": null,
       "_view_module": "@jupyter-widgets/base",
       "_view_module_version": "2.0.0",
       "_view_name": "StyleView",
       "bar_color": null,
       "description_width": ""
      }
     },
     "809f8ef5aaba4ff5b6f4d7fbdd5a4b90": {
      "model_module": "@jupyter-widgets/controls",
      "model_module_version": "2.0.0",
      "model_name": "ProgressStyleModel",
      "state": {
       "_model_module": "@jupyter-widgets/controls",
       "_model_module_version": "2.0.0",
       "_model_name": "ProgressStyleModel",
       "_view_count": null,
       "_view_module": "@jupyter-widgets/base",
       "_view_module_version": "2.0.0",
       "_view_name": "StyleView",
       "bar_color": null,
       "description_width": ""
      }
     },
     "892f38da06c74403b2862b63f7db7d29": {
      "model_module": "@jupyter-widgets/controls",
      "model_module_version": "2.0.0",
      "model_name": "HTMLModel",
      "state": {
       "_dom_classes": [],
       "_model_module": "@jupyter-widgets/controls",
       "_model_module_version": "2.0.0",
       "_model_name": "HTMLModel",
       "_view_count": null,
       "_view_module": "@jupyter-widgets/controls",
       "_view_module_version": "2.0.0",
       "_view_name": "HTMLView",
       "description": "",
       "description_allow_html": false,
       "layout": "IPY_MODEL_5499a38a005c4eec90b4c8c7d7967310",
       "placeholder": "​",
       "style": "IPY_MODEL_71a5d4653392414db92c8737d6dfde91",
       "tabbable": null,
       "tooltip": null,
       "value": " 805/805 [21:15&lt;00:00,  1.27s/it]"
      }
     },
     "8e2700e8dd5a48878e7d0d82b60e2bf2": {
      "model_module": "@jupyter-widgets/base",
      "model_module_version": "2.0.0",
      "model_name": "LayoutModel",
      "state": {
       "_model_module": "@jupyter-widgets/base",
       "_model_module_version": "2.0.0",
       "_model_name": "LayoutModel",
       "_view_count": null,
       "_view_module": "@jupyter-widgets/base",
       "_view_module_version": "2.0.0",
       "_view_name": "LayoutView",
       "align_content": null,
       "align_items": null,
       "align_self": null,
       "border_bottom": null,
       "border_left": null,
       "border_right": null,
       "border_top": null,
       "bottom": null,
       "display": null,
       "flex": null,
       "flex_flow": null,
       "grid_area": null,
       "grid_auto_columns": null,
       "grid_auto_flow": null,
       "grid_auto_rows": null,
       "grid_column": null,
       "grid_gap": null,
       "grid_row": null,
       "grid_template_areas": null,
       "grid_template_columns": null,
       "grid_template_rows": null,
       "height": null,
       "justify_content": null,
       "justify_items": null,
       "left": null,
       "margin": null,
       "max_height": null,
       "max_width": null,
       "min_height": null,
       "min_width": null,
       "object_fit": null,
       "object_position": null,
       "order": null,
       "overflow": null,
       "padding": null,
       "right": null,
       "top": null,
       "visibility": null,
       "width": null
      }
     },
     "9324fd65922448a39bb2a0a0a1904fec": {
      "model_module": "@jupyter-widgets/base",
      "model_module_version": "2.0.0",
      "model_name": "LayoutModel",
      "state": {
       "_model_module": "@jupyter-widgets/base",
       "_model_module_version": "2.0.0",
       "_model_name": "LayoutModel",
       "_view_count": null,
       "_view_module": "@jupyter-widgets/base",
       "_view_module_version": "2.0.0",
       "_view_name": "LayoutView",
       "align_content": null,
       "align_items": null,
       "align_self": null,
       "border_bottom": null,
       "border_left": null,
       "border_right": null,
       "border_top": null,
       "bottom": null,
       "display": null,
       "flex": null,
       "flex_flow": null,
       "grid_area": null,
       "grid_auto_columns": null,
       "grid_auto_flow": null,
       "grid_auto_rows": null,
       "grid_column": null,
       "grid_gap": null,
       "grid_row": null,
       "grid_template_areas": null,
       "grid_template_columns": null,
       "grid_template_rows": null,
       "height": null,
       "justify_content": null,
       "justify_items": null,
       "left": null,
       "margin": null,
       "max_height": null,
       "max_width": null,
       "min_height": null,
       "min_width": null,
       "object_fit": null,
       "object_position": null,
       "order": null,
       "overflow": null,
       "padding": null,
       "right": null,
       "top": null,
       "visibility": null,
       "width": null
      }
     },
     "9530594b4e6148ea805f60f9ce14c29c": {
      "model_module": "@jupyter-widgets/controls",
      "model_module_version": "2.0.0",
      "model_name": "HTMLStyleModel",
      "state": {
       "_model_module": "@jupyter-widgets/controls",
       "_model_module_version": "2.0.0",
       "_model_name": "HTMLStyleModel",
       "_view_count": null,
       "_view_module": "@jupyter-widgets/base",
       "_view_module_version": "2.0.0",
       "_view_name": "StyleView",
       "background": null,
       "description_width": "",
       "font_size": null,
       "text_color": null
      }
     },
     "a36f95fd4f344eab81818b21625e931b": {
      "model_module": "@jupyter-widgets/controls",
      "model_module_version": "2.0.0",
      "model_name": "HTMLModel",
      "state": {
       "_dom_classes": [],
       "_model_module": "@jupyter-widgets/controls",
       "_model_module_version": "2.0.0",
       "_model_name": "HTMLModel",
       "_view_count": null,
       "_view_module": "@jupyter-widgets/controls",
       "_view_module_version": "2.0.0",
       "_view_name": "HTMLView",
       "description": "",
       "description_allow_html": false,
       "layout": "IPY_MODEL_d5d16e122fb04245bc53764a17440303",
       "placeholder": "​",
       "style": "IPY_MODEL_56c0285c452c430c90598987afea6c02",
       "tabbable": null,
       "tooltip": null,
       "value": " 805/805 [21:18&lt;00:00,  1.30s/it]"
      }
     },
     "a873682ec9734512a5d211c0f6a161b5": {
      "model_module": "@jupyter-widgets/controls",
      "model_module_version": "2.0.0",
      "model_name": "ProgressStyleModel",
      "state": {
       "_model_module": "@jupyter-widgets/controls",
       "_model_module_version": "2.0.0",
       "_model_name": "ProgressStyleModel",
       "_view_count": null,
       "_view_module": "@jupyter-widgets/base",
       "_view_module_version": "2.0.0",
       "_view_name": "StyleView",
       "bar_color": null,
       "description_width": ""
      }
     },
     "a977d60750f54c089e95271aed3c0293": {
      "model_module": "@jupyter-widgets/base",
      "model_module_version": "2.0.0",
      "model_name": "LayoutModel",
      "state": {
       "_model_module": "@jupyter-widgets/base",
       "_model_module_version": "2.0.0",
       "_model_name": "LayoutModel",
       "_view_count": null,
       "_view_module": "@jupyter-widgets/base",
       "_view_module_version": "2.0.0",
       "_view_name": "LayoutView",
       "align_content": null,
       "align_items": null,
       "align_self": null,
       "border_bottom": null,
       "border_left": null,
       "border_right": null,
       "border_top": null,
       "bottom": null,
       "display": null,
       "flex": null,
       "flex_flow": null,
       "grid_area": null,
       "grid_auto_columns": null,
       "grid_auto_flow": null,
       "grid_auto_rows": null,
       "grid_column": null,
       "grid_gap": null,
       "grid_row": null,
       "grid_template_areas": null,
       "grid_template_columns": null,
       "grid_template_rows": null,
       "height": null,
       "justify_content": null,
       "justify_items": null,
       "left": null,
       "margin": null,
       "max_height": null,
       "max_width": null,
       "min_height": null,
       "min_width": null,
       "object_fit": null,
       "object_position": null,
       "order": null,
       "overflow": null,
       "padding": null,
       "right": null,
       "top": null,
       "visibility": null,
       "width": null
      }
     },
     "aace97f6c2d546c9a4302ea3fac0df8e": {
      "model_module": "@jupyter-widgets/controls",
      "model_module_version": "2.0.0",
      "model_name": "HBoxModel",
      "state": {
       "_dom_classes": [],
       "_model_module": "@jupyter-widgets/controls",
       "_model_module_version": "2.0.0",
       "_model_name": "HBoxModel",
       "_view_count": null,
       "_view_module": "@jupyter-widgets/controls",
       "_view_module_version": "2.0.0",
       "_view_name": "HBoxView",
       "box_style": "",
       "children": [
        "IPY_MODEL_c0c55d71116f4561bc14deb92163ee81",
        "IPY_MODEL_6de6602f68c04efa8709064f1ec93fe2",
        "IPY_MODEL_07f54d8c76a74c7b8d61254ff3feaab9"
       ],
       "layout": "IPY_MODEL_02f55aafaf564172950eb0b995eed265",
       "tabbable": null,
       "tooltip": null
      }
     },
     "ab9120d711e3424aae49f1831b3f15dd": {
      "model_module": "@jupyter-widgets/base",
      "model_module_version": "2.0.0",
      "model_name": "LayoutModel",
      "state": {
       "_model_module": "@jupyter-widgets/base",
       "_model_module_version": "2.0.0",
       "_model_name": "LayoutModel",
       "_view_count": null,
       "_view_module": "@jupyter-widgets/base",
       "_view_module_version": "2.0.0",
       "_view_name": "LayoutView",
       "align_content": null,
       "align_items": null,
       "align_self": null,
       "border_bottom": null,
       "border_left": null,
       "border_right": null,
       "border_top": null,
       "bottom": null,
       "display": null,
       "flex": null,
       "flex_flow": null,
       "grid_area": null,
       "grid_auto_columns": null,
       "grid_auto_flow": null,
       "grid_auto_rows": null,
       "grid_column": null,
       "grid_gap": null,
       "grid_row": null,
       "grid_template_areas": null,
       "grid_template_columns": null,
       "grid_template_rows": null,
       "height": null,
       "justify_content": null,
       "justify_items": null,
       "left": null,
       "margin": null,
       "max_height": null,
       "max_width": null,
       "min_height": null,
       "min_width": null,
       "object_fit": null,
       "object_position": null,
       "order": null,
       "overflow": null,
       "padding": null,
       "right": null,
       "top": null,
       "visibility": null,
       "width": null
      }
     },
     "adc63015729f4be6aaf0f1c27f8f567e": {
      "model_module": "@jupyter-widgets/controls",
      "model_module_version": "2.0.0",
      "model_name": "HTMLModel",
      "state": {
       "_dom_classes": [],
       "_model_module": "@jupyter-widgets/controls",
       "_model_module_version": "2.0.0",
       "_model_name": "HTMLModel",
       "_view_count": null,
       "_view_module": "@jupyter-widgets/controls",
       "_view_module_version": "2.0.0",
       "_view_name": "HTMLView",
       "description": "",
       "description_allow_html": false,
       "layout": "IPY_MODEL_ee9d379e62724ba5a163e11d7df0fd17",
       "placeholder": "​",
       "style": "IPY_MODEL_2ea2b3f2be524ed3ae408f90e74270bb",
       "tabbable": null,
       "tooltip": null,
       "value": " 805/805 [21:16&lt;00:00,  1.27s/it]"
      }
     },
     "af5fb43430c148a09d431a20a63325fb": {
      "model_module": "@jupyter-widgets/controls",
      "model_module_version": "2.0.0",
      "model_name": "FloatProgressModel",
      "state": {
       "_dom_classes": [],
       "_model_module": "@jupyter-widgets/controls",
       "_model_module_version": "2.0.0",
       "_model_name": "FloatProgressModel",
       "_view_count": null,
       "_view_module": "@jupyter-widgets/controls",
       "_view_module_version": "2.0.0",
       "_view_name": "ProgressView",
       "bar_style": "success",
       "description": "",
       "description_allow_html": false,
       "layout": "IPY_MODEL_474355be05ab413a9b76bf0ec0372c72",
       "max": 805.0,
       "min": 0.0,
       "orientation": "horizontal",
       "style": "IPY_MODEL_56e111fd58e54f77a16edad8f03a2040",
       "tabbable": null,
       "tooltip": null,
       "value": 805.0
      }
     },
     "afcb93643deb42218a737a7b1a3173c5": {
      "model_module": "@jupyter-widgets/controls",
      "model_module_version": "2.0.0",
      "model_name": "HTMLStyleModel",
      "state": {
       "_model_module": "@jupyter-widgets/controls",
       "_model_module_version": "2.0.0",
       "_model_name": "HTMLStyleModel",
       "_view_count": null,
       "_view_module": "@jupyter-widgets/base",
       "_view_module_version": "2.0.0",
       "_view_name": "StyleView",
       "background": null,
       "description_width": "",
       "font_size": null,
       "text_color": null
      }
     },
     "b12b28b7f26d40979a5241b9e756f381": {
      "model_module": "@jupyter-widgets/base",
      "model_module_version": "2.0.0",
      "model_name": "LayoutModel",
      "state": {
       "_model_module": "@jupyter-widgets/base",
       "_model_module_version": "2.0.0",
       "_model_name": "LayoutModel",
       "_view_count": null,
       "_view_module": "@jupyter-widgets/base",
       "_view_module_version": "2.0.0",
       "_view_name": "LayoutView",
       "align_content": null,
       "align_items": null,
       "align_self": null,
       "border_bottom": null,
       "border_left": null,
       "border_right": null,
       "border_top": null,
       "bottom": null,
       "display": null,
       "flex": null,
       "flex_flow": null,
       "grid_area": null,
       "grid_auto_columns": null,
       "grid_auto_flow": null,
       "grid_auto_rows": null,
       "grid_column": null,
       "grid_gap": null,
       "grid_row": null,
       "grid_template_areas": null,
       "grid_template_columns": null,
       "grid_template_rows": null,
       "height": null,
       "justify_content": null,
       "justify_items": null,
       "left": null,
       "margin": null,
       "max_height": null,
       "max_width": null,
       "min_height": null,
       "min_width": null,
       "object_fit": null,
       "object_position": null,
       "order": null,
       "overflow": null,
       "padding": null,
       "right": null,
       "top": null,
       "visibility": null,
       "width": null
      }
     },
     "b1b2aa99b4f74902afa79b808d29f4a4": {
      "model_module": "@jupyter-widgets/controls",
      "model_module_version": "2.0.0",
      "model_name": "HTMLStyleModel",
      "state": {
       "_model_module": "@jupyter-widgets/controls",
       "_model_module_version": "2.0.0",
       "_model_name": "HTMLStyleModel",
       "_view_count": null,
       "_view_module": "@jupyter-widgets/base",
       "_view_module_version": "2.0.0",
       "_view_name": "StyleView",
       "background": null,
       "description_width": "",
       "font_size": null,
       "text_color": null
      }
     },
     "b1f4d23ebdab4bcfb265132bd4da792d": {
      "model_module": "@jupyter-widgets/base",
      "model_module_version": "2.0.0",
      "model_name": "LayoutModel",
      "state": {
       "_model_module": "@jupyter-widgets/base",
       "_model_module_version": "2.0.0",
       "_model_name": "LayoutModel",
       "_view_count": null,
       "_view_module": "@jupyter-widgets/base",
       "_view_module_version": "2.0.0",
       "_view_name": "LayoutView",
       "align_content": null,
       "align_items": null,
       "align_self": null,
       "border_bottom": null,
       "border_left": null,
       "border_right": null,
       "border_top": null,
       "bottom": null,
       "display": null,
       "flex": null,
       "flex_flow": null,
       "grid_area": null,
       "grid_auto_columns": null,
       "grid_auto_flow": null,
       "grid_auto_rows": null,
       "grid_column": null,
       "grid_gap": null,
       "grid_row": null,
       "grid_template_areas": null,
       "grid_template_columns": null,
       "grid_template_rows": null,
       "height": null,
       "justify_content": null,
       "justify_items": null,
       "left": null,
       "margin": null,
       "max_height": null,
       "max_width": null,
       "min_height": null,
       "min_width": null,
       "object_fit": null,
       "object_position": null,
       "order": null,
       "overflow": null,
       "padding": null,
       "right": null,
       "top": null,
       "visibility": null,
       "width": null
      }
     },
     "b330b9eb5d304aa28cfb5651f2f64c1b": {
      "model_module": "@jupyter-widgets/base",
      "model_module_version": "2.0.0",
      "model_name": "LayoutModel",
      "state": {
       "_model_module": "@jupyter-widgets/base",
       "_model_module_version": "2.0.0",
       "_model_name": "LayoutModel",
       "_view_count": null,
       "_view_module": "@jupyter-widgets/base",
       "_view_module_version": "2.0.0",
       "_view_name": "LayoutView",
       "align_content": null,
       "align_items": null,
       "align_self": null,
       "border_bottom": null,
       "border_left": null,
       "border_right": null,
       "border_top": null,
       "bottom": null,
       "display": null,
       "flex": null,
       "flex_flow": null,
       "grid_area": null,
       "grid_auto_columns": null,
       "grid_auto_flow": null,
       "grid_auto_rows": null,
       "grid_column": null,
       "grid_gap": null,
       "grid_row": null,
       "grid_template_areas": null,
       "grid_template_columns": null,
       "grid_template_rows": null,
       "height": null,
       "justify_content": null,
       "justify_items": null,
       "left": null,
       "margin": null,
       "max_height": null,
       "max_width": null,
       "min_height": null,
       "min_width": null,
       "object_fit": null,
       "object_position": null,
       "order": null,
       "overflow": null,
       "padding": null,
       "right": null,
       "top": null,
       "visibility": null,
       "width": null
      }
     },
     "b3f87d3677bd42f8840f7e5d0f9189af": {
      "model_module": "@jupyter-widgets/controls",
      "model_module_version": "2.0.0",
      "model_name": "HBoxModel",
      "state": {
       "_dom_classes": [],
       "_model_module": "@jupyter-widgets/controls",
       "_model_module_version": "2.0.0",
       "_model_name": "HBoxModel",
       "_view_count": null,
       "_view_module": "@jupyter-widgets/controls",
       "_view_module_version": "2.0.0",
       "_view_name": "HBoxView",
       "box_style": "",
       "children": [
        "IPY_MODEL_e8482a51643442b19714092ee7957c8c",
        "IPY_MODEL_18fd8714a58343cc961663f72d2e118c",
        "IPY_MODEL_b41abee6d13c4ef7980d07c643dd27f4"
       ],
       "layout": "IPY_MODEL_483f916b40bd4a569e53b6505f8d9e95",
       "tabbable": null,
       "tooltip": null
      }
     },
     "b41abee6d13c4ef7980d07c643dd27f4": {
      "model_module": "@jupyter-widgets/controls",
      "model_module_version": "2.0.0",
      "model_name": "HTMLModel",
      "state": {
       "_dom_classes": [],
       "_model_module": "@jupyter-widgets/controls",
       "_model_module_version": "2.0.0",
       "_model_name": "HTMLModel",
       "_view_count": null,
       "_view_module": "@jupyter-widgets/controls",
       "_view_module_version": "2.0.0",
       "_view_name": "HTMLView",
       "description": "",
       "description_allow_html": false,
       "layout": "IPY_MODEL_73861b3217a34d9a9421f663aee0adb4",
       "placeholder": "​",
       "style": "IPY_MODEL_4ba9b303333847269864cf4b98e355ae",
       "tabbable": null,
       "tooltip": null,
       "value": " 805/805 [21:08&lt;00:00,  1.27s/it]"
      }
     },
     "b663f4a82dea41be82eb92e31f332bbe": {
      "model_module": "@jupyter-widgets/controls",
      "model_module_version": "2.0.0",
      "model_name": "ProgressStyleModel",
      "state": {
       "_model_module": "@jupyter-widgets/controls",
       "_model_module_version": "2.0.0",
       "_model_name": "ProgressStyleModel",
       "_view_count": null,
       "_view_module": "@jupyter-widgets/base",
       "_view_module_version": "2.0.0",
       "_view_name": "StyleView",
       "bar_color": null,
       "description_width": ""
      }
     },
     "b784e9f195bb49ceb9e3f4f2bf2124e2": {
      "model_module": "@jupyter-widgets/controls",
      "model_module_version": "2.0.0",
      "model_name": "HTMLStyleModel",
      "state": {
       "_model_module": "@jupyter-widgets/controls",
       "_model_module_version": "2.0.0",
       "_model_name": "HTMLStyleModel",
       "_view_count": null,
       "_view_module": "@jupyter-widgets/base",
       "_view_module_version": "2.0.0",
       "_view_name": "StyleView",
       "background": null,
       "description_width": "",
       "font_size": null,
       "text_color": null
      }
     },
     "b8148605a1114451b8728b1bf6dd4399": {
      "model_module": "@jupyter-widgets/controls",
      "model_module_version": "2.0.0",
      "model_name": "HTMLModel",
      "state": {
       "_dom_classes": [],
       "_model_module": "@jupyter-widgets/controls",
       "_model_module_version": "2.0.0",
       "_model_name": "HTMLModel",
       "_view_count": null,
       "_view_module": "@jupyter-widgets/controls",
       "_view_module_version": "2.0.0",
       "_view_name": "HTMLView",
       "description": "",
       "description_allow_html": false,
       "layout": "IPY_MODEL_5584eebd62f840f8b3a4cfd2a137d080",
       "placeholder": "​",
       "style": "IPY_MODEL_9530594b4e6148ea805f60f9ce14c29c",
       "tabbable": null,
       "tooltip": null,
       "value": " 805/805 [21:19&lt;00:00,  1.30s/it]"
      }
     },
     "baa6f8168f7a46fc871d49590afdd8d5": {
      "model_module": "@jupyter-widgets/controls",
      "model_module_version": "2.0.0",
      "model_name": "HTMLModel",
      "state": {
       "_dom_classes": [],
       "_model_module": "@jupyter-widgets/controls",
       "_model_module_version": "2.0.0",
       "_model_name": "HTMLModel",
       "_view_count": null,
       "_view_module": "@jupyter-widgets/controls",
       "_view_module_version": "2.0.0",
       "_view_name": "HTMLView",
       "description": "",
       "description_allow_html": false,
       "layout": "IPY_MODEL_f5284c944f364ea183bd2ef8fea631f1",
       "placeholder": "​",
       "style": "IPY_MODEL_b784e9f195bb49ceb9e3f4f2bf2124e2",
       "tabbable": null,
       "tooltip": null,
       "value": " 805/805 [21:14&lt;00:00,  1.29s/it]"
      }
     },
     "bd17cba0e01f4daba12f17ceb8823ec7": {
      "model_module": "@jupyter-widgets/controls",
      "model_module_version": "2.0.0",
      "model_name": "HTMLStyleModel",
      "state": {
       "_model_module": "@jupyter-widgets/controls",
       "_model_module_version": "2.0.0",
       "_model_name": "HTMLStyleModel",
       "_view_count": null,
       "_view_module": "@jupyter-widgets/base",
       "_view_module_version": "2.0.0",
       "_view_name": "StyleView",
       "background": null,
       "description_width": "",
       "font_size": null,
       "text_color": null
      }
     },
     "c0c55d71116f4561bc14deb92163ee81": {
      "model_module": "@jupyter-widgets/controls",
      "model_module_version": "2.0.0",
      "model_name": "HTMLModel",
      "state": {
       "_dom_classes": [],
       "_model_module": "@jupyter-widgets/controls",
       "_model_module_version": "2.0.0",
       "_model_name": "HTMLModel",
       "_view_count": null,
       "_view_module": "@jupyter-widgets/controls",
       "_view_module_version": "2.0.0",
       "_view_name": "HTMLView",
       "description": "",
       "description_allow_html": false,
       "layout": "IPY_MODEL_2028d50013da47b3a845513cd2a6b2b3",
       "placeholder": "​",
       "style": "IPY_MODEL_e5e7f8410dfb47e9b8ed72cd60db7a12",
       "tabbable": null,
       "tooltip": null,
       "value": "MSEError: 0.26248226: 100%"
      }
     },
     "c4667fc46d534cc29b7f171403eed234": {
      "model_module": "@jupyter-widgets/controls",
      "model_module_version": "2.0.0",
      "model_name": "FloatProgressModel",
      "state": {
       "_dom_classes": [],
       "_model_module": "@jupyter-widgets/controls",
       "_model_module_version": "2.0.0",
       "_model_name": "FloatProgressModel",
       "_view_count": null,
       "_view_module": "@jupyter-widgets/controls",
       "_view_module_version": "2.0.0",
       "_view_name": "ProgressView",
       "bar_style": "success",
       "description": "",
       "description_allow_html": false,
       "layout": "IPY_MODEL_1c9096a412c04ef8a485a3cd86b6ffa3",
       "max": 805.0,
       "min": 0.0,
       "orientation": "horizontal",
       "style": "IPY_MODEL_a873682ec9734512a5d211c0f6a161b5",
       "tabbable": null,
       "tooltip": null,
       "value": 805.0
      }
     },
     "c4d755d6fcd6447d905bb434a3e59847": {
      "model_module": "@jupyter-widgets/controls",
      "model_module_version": "2.0.0",
      "model_name": "HTMLStyleModel",
      "state": {
       "_model_module": "@jupyter-widgets/controls",
       "_model_module_version": "2.0.0",
       "_model_name": "HTMLStyleModel",
       "_view_count": null,
       "_view_module": "@jupyter-widgets/base",
       "_view_module_version": "2.0.0",
       "_view_name": "StyleView",
       "background": null,
       "description_width": "",
       "font_size": null,
       "text_color": null
      }
     },
     "c54ed84bdac045b1863add0b95a5e11f": {
      "model_module": "@jupyter-widgets/controls",
      "model_module_version": "2.0.0",
      "model_name": "ProgressStyleModel",
      "state": {
       "_model_module": "@jupyter-widgets/controls",
       "_model_module_version": "2.0.0",
       "_model_name": "ProgressStyleModel",
       "_view_count": null,
       "_view_module": "@jupyter-widgets/base",
       "_view_module_version": "2.0.0",
       "_view_name": "StyleView",
       "bar_color": null,
       "description_width": ""
      }
     },
     "c7e8da4d10134d548218520c4928fb8b": {
      "model_module": "@jupyter-widgets/controls",
      "model_module_version": "2.0.0",
      "model_name": "HTMLStyleModel",
      "state": {
       "_model_module": "@jupyter-widgets/controls",
       "_model_module_version": "2.0.0",
       "_model_name": "HTMLStyleModel",
       "_view_count": null,
       "_view_module": "@jupyter-widgets/base",
       "_view_module_version": "2.0.0",
       "_view_name": "StyleView",
       "background": null,
       "description_width": "",
       "font_size": null,
       "text_color": null
      }
     },
     "cf51c47cc5404592a7ede35a9a3b0410": {
      "model_module": "@jupyter-widgets/controls",
      "model_module_version": "2.0.0",
      "model_name": "HTMLModel",
      "state": {
       "_dom_classes": [],
       "_model_module": "@jupyter-widgets/controls",
       "_model_module_version": "2.0.0",
       "_model_name": "HTMLModel",
       "_view_count": null,
       "_view_module": "@jupyter-widgets/controls",
       "_view_module_version": "2.0.0",
       "_view_name": "HTMLView",
       "description": "",
       "description_allow_html": false,
       "layout": "IPY_MODEL_4837fbb0566c42c083ed7a62fd5db6a4",
       "placeholder": "​",
       "style": "IPY_MODEL_f1693f5ec1424853bfd67139eb288d11",
       "tabbable": null,
       "tooltip": null,
       "value": "MSEError: 0.25711516: 100%"
      }
     },
     "d55796f8317043bd848e69b62f997674": {
      "model_module": "@jupyter-widgets/base",
      "model_module_version": "2.0.0",
      "model_name": "LayoutModel",
      "state": {
       "_model_module": "@jupyter-widgets/base",
       "_model_module_version": "2.0.0",
       "_model_name": "LayoutModel",
       "_view_count": null,
       "_view_module": "@jupyter-widgets/base",
       "_view_module_version": "2.0.0",
       "_view_name": "LayoutView",
       "align_content": null,
       "align_items": null,
       "align_self": null,
       "border_bottom": null,
       "border_left": null,
       "border_right": null,
       "border_top": null,
       "bottom": null,
       "display": null,
       "flex": null,
       "flex_flow": null,
       "grid_area": null,
       "grid_auto_columns": null,
       "grid_auto_flow": null,
       "grid_auto_rows": null,
       "grid_column": null,
       "grid_gap": null,
       "grid_row": null,
       "grid_template_areas": null,
       "grid_template_columns": null,
       "grid_template_rows": null,
       "height": null,
       "justify_content": null,
       "justify_items": null,
       "left": null,
       "margin": null,
       "max_height": null,
       "max_width": null,
       "min_height": null,
       "min_width": null,
       "object_fit": null,
       "object_position": null,
       "order": null,
       "overflow": null,
       "padding": null,
       "right": null,
       "top": null,
       "visibility": null,
       "width": null
      }
     },
     "d5d16e122fb04245bc53764a17440303": {
      "model_module": "@jupyter-widgets/base",
      "model_module_version": "2.0.0",
      "model_name": "LayoutModel",
      "state": {
       "_model_module": "@jupyter-widgets/base",
       "_model_module_version": "2.0.0",
       "_model_name": "LayoutModel",
       "_view_count": null,
       "_view_module": "@jupyter-widgets/base",
       "_view_module_version": "2.0.0",
       "_view_name": "LayoutView",
       "align_content": null,
       "align_items": null,
       "align_self": null,
       "border_bottom": null,
       "border_left": null,
       "border_right": null,
       "border_top": null,
       "bottom": null,
       "display": null,
       "flex": null,
       "flex_flow": null,
       "grid_area": null,
       "grid_auto_columns": null,
       "grid_auto_flow": null,
       "grid_auto_rows": null,
       "grid_column": null,
       "grid_gap": null,
       "grid_row": null,
       "grid_template_areas": null,
       "grid_template_columns": null,
       "grid_template_rows": null,
       "height": null,
       "justify_content": null,
       "justify_items": null,
       "left": null,
       "margin": null,
       "max_height": null,
       "max_width": null,
       "min_height": null,
       "min_width": null,
       "object_fit": null,
       "object_position": null,
       "order": null,
       "overflow": null,
       "padding": null,
       "right": null,
       "top": null,
       "visibility": null,
       "width": null
      }
     },
     "db16cac8493c446789f154c475d5f9ab": {
      "model_module": "@jupyter-widgets/base",
      "model_module_version": "2.0.0",
      "model_name": "LayoutModel",
      "state": {
       "_model_module": "@jupyter-widgets/base",
       "_model_module_version": "2.0.0",
       "_model_name": "LayoutModel",
       "_view_count": null,
       "_view_module": "@jupyter-widgets/base",
       "_view_module_version": "2.0.0",
       "_view_name": "LayoutView",
       "align_content": null,
       "align_items": null,
       "align_self": null,
       "border_bottom": null,
       "border_left": null,
       "border_right": null,
       "border_top": null,
       "bottom": null,
       "display": null,
       "flex": null,
       "flex_flow": null,
       "grid_area": null,
       "grid_auto_columns": null,
       "grid_auto_flow": null,
       "grid_auto_rows": null,
       "grid_column": null,
       "grid_gap": null,
       "grid_row": null,
       "grid_template_areas": null,
       "grid_template_columns": null,
       "grid_template_rows": null,
       "height": null,
       "justify_content": null,
       "justify_items": null,
       "left": null,
       "margin": null,
       "max_height": null,
       "max_width": null,
       "min_height": null,
       "min_width": null,
       "object_fit": null,
       "object_position": null,
       "order": null,
       "overflow": null,
       "padding": null,
       "right": null,
       "top": null,
       "visibility": null,
       "width": null
      }
     },
     "dea93590cf0a45c780cecaaf17f1f5b6": {
      "model_module": "@jupyter-widgets/controls",
      "model_module_version": "2.0.0",
      "model_name": "FloatProgressModel",
      "state": {
       "_dom_classes": [],
       "_model_module": "@jupyter-widgets/controls",
       "_model_module_version": "2.0.0",
       "_model_name": "FloatProgressModel",
       "_view_count": null,
       "_view_module": "@jupyter-widgets/controls",
       "_view_module_version": "2.0.0",
       "_view_name": "ProgressView",
       "bar_style": "success",
       "description": "",
       "description_allow_html": false,
       "layout": "IPY_MODEL_0be2d7a640f44171b4bf2963c796cdae",
       "max": 805.0,
       "min": 0.0,
       "orientation": "horizontal",
       "style": "IPY_MODEL_60678645d4f74ec98992427b394c5f97",
       "tabbable": null,
       "tooltip": null,
       "value": 805.0
      }
     },
     "e023e3bd445e46078a38ed74d97276b1": {
      "model_module": "@jupyter-widgets/base",
      "model_module_version": "2.0.0",
      "model_name": "LayoutModel",
      "state": {
       "_model_module": "@jupyter-widgets/base",
       "_model_module_version": "2.0.0",
       "_model_name": "LayoutModel",
       "_view_count": null,
       "_view_module": "@jupyter-widgets/base",
       "_view_module_version": "2.0.0",
       "_view_name": "LayoutView",
       "align_content": null,
       "align_items": null,
       "align_self": null,
       "border_bottom": null,
       "border_left": null,
       "border_right": null,
       "border_top": null,
       "bottom": null,
       "display": null,
       "flex": null,
       "flex_flow": null,
       "grid_area": null,
       "grid_auto_columns": null,
       "grid_auto_flow": null,
       "grid_auto_rows": null,
       "grid_column": null,
       "grid_gap": null,
       "grid_row": null,
       "grid_template_areas": null,
       "grid_template_columns": null,
       "grid_template_rows": null,
       "height": null,
       "justify_content": null,
       "justify_items": null,
       "left": null,
       "margin": null,
       "max_height": null,
       "max_width": null,
       "min_height": null,
       "min_width": null,
       "object_fit": null,
       "object_position": null,
       "order": null,
       "overflow": null,
       "padding": null,
       "right": null,
       "top": null,
       "visibility": null,
       "width": null
      }
     },
     "e5b286dd72b04a509821f943e6fa0f1f": {
      "model_module": "@jupyter-widgets/controls",
      "model_module_version": "2.0.0",
      "model_name": "HBoxModel",
      "state": {
       "_dom_classes": [],
       "_model_module": "@jupyter-widgets/controls",
       "_model_module_version": "2.0.0",
       "_model_name": "HBoxModel",
       "_view_count": null,
       "_view_module": "@jupyter-widgets/controls",
       "_view_module_version": "2.0.0",
       "_view_name": "HBoxView",
       "box_style": "",
       "children": [
        "IPY_MODEL_277b559a889c42dea4a37008f13b91b7",
        "IPY_MODEL_21987655ffde4d1bb00fa4c5566a425c",
        "IPY_MODEL_48d16e16c9e242089eb0abfbc25705c6"
       ],
       "layout": "IPY_MODEL_a977d60750f54c089e95271aed3c0293",
       "tabbable": null,
       "tooltip": null
      }
     },
     "e5e7f8410dfb47e9b8ed72cd60db7a12": {
      "model_module": "@jupyter-widgets/controls",
      "model_module_version": "2.0.0",
      "model_name": "HTMLStyleModel",
      "state": {
       "_model_module": "@jupyter-widgets/controls",
       "_model_module_version": "2.0.0",
       "_model_name": "HTMLStyleModel",
       "_view_count": null,
       "_view_module": "@jupyter-widgets/base",
       "_view_module_version": "2.0.0",
       "_view_name": "StyleView",
       "background": null,
       "description_width": "",
       "font_size": null,
       "text_color": null
      }
     },
     "e6a2beb8e50a4abdbb6af44c55dc3609": {
      "model_module": "@jupyter-widgets/base",
      "model_module_version": "2.0.0",
      "model_name": "LayoutModel",
      "state": {
       "_model_module": "@jupyter-widgets/base",
       "_model_module_version": "2.0.0",
       "_model_name": "LayoutModel",
       "_view_count": null,
       "_view_module": "@jupyter-widgets/base",
       "_view_module_version": "2.0.0",
       "_view_name": "LayoutView",
       "align_content": null,
       "align_items": null,
       "align_self": null,
       "border_bottom": null,
       "border_left": null,
       "border_right": null,
       "border_top": null,
       "bottom": null,
       "display": null,
       "flex": null,
       "flex_flow": null,
       "grid_area": null,
       "grid_auto_columns": null,
       "grid_auto_flow": null,
       "grid_auto_rows": null,
       "grid_column": null,
       "grid_gap": null,
       "grid_row": null,
       "grid_template_areas": null,
       "grid_template_columns": null,
       "grid_template_rows": null,
       "height": null,
       "justify_content": null,
       "justify_items": null,
       "left": null,
       "margin": null,
       "max_height": null,
       "max_width": null,
       "min_height": null,
       "min_width": null,
       "object_fit": null,
       "object_position": null,
       "order": null,
       "overflow": null,
       "padding": null,
       "right": null,
       "top": null,
       "visibility": null,
       "width": null
      }
     },
     "e6f36df35de24d72bf11fb1064a31351": {
      "model_module": "@jupyter-widgets/controls",
      "model_module_version": "2.0.0",
      "model_name": "HBoxModel",
      "state": {
       "_dom_classes": [],
       "_model_module": "@jupyter-widgets/controls",
       "_model_module_version": "2.0.0",
       "_model_name": "HBoxModel",
       "_view_count": null,
       "_view_module": "@jupyter-widgets/controls",
       "_view_module_version": "2.0.0",
       "_view_name": "HBoxView",
       "box_style": "",
       "children": [
        "IPY_MODEL_f522b7f3f14c4693937104bdcf15b7af",
        "IPY_MODEL_0a8c1f34915f4972ad2ecaf398577a3f",
        "IPY_MODEL_adc63015729f4be6aaf0f1c27f8f567e"
       ],
       "layout": "IPY_MODEL_06dda010a1bb41ef83a92891b6a33d2f",
       "tabbable": null,
       "tooltip": null
      }
     },
     "e8482a51643442b19714092ee7957c8c": {
      "model_module": "@jupyter-widgets/controls",
      "model_module_version": "2.0.0",
      "model_name": "HTMLModel",
      "state": {
       "_dom_classes": [],
       "_model_module": "@jupyter-widgets/controls",
       "_model_module_version": "2.0.0",
       "_model_name": "HTMLModel",
       "_view_count": null,
       "_view_module": "@jupyter-widgets/controls",
       "_view_module_version": "2.0.0",
       "_view_name": "HTMLView",
       "description": "",
       "description_allow_html": false,
       "layout": "IPY_MODEL_637b71f5495b4150b5511799c95a44a8",
       "placeholder": "​",
       "style": "IPY_MODEL_afcb93643deb42218a737a7b1a3173c5",
       "tabbable": null,
       "tooltip": null,
       "value": "MSEError: 0.25191683: 100%"
      }
     },
     "eb1161b39ea642f09e4842ca607119cd": {
      "model_module": "@jupyter-widgets/base",
      "model_module_version": "2.0.0",
      "model_name": "LayoutModel",
      "state": {
       "_model_module": "@jupyter-widgets/base",
       "_model_module_version": "2.0.0",
       "_model_name": "LayoutModel",
       "_view_count": null,
       "_view_module": "@jupyter-widgets/base",
       "_view_module_version": "2.0.0",
       "_view_name": "LayoutView",
       "align_content": null,
       "align_items": null,
       "align_self": null,
       "border_bottom": null,
       "border_left": null,
       "border_right": null,
       "border_top": null,
       "bottom": null,
       "display": null,
       "flex": null,
       "flex_flow": null,
       "grid_area": null,
       "grid_auto_columns": null,
       "grid_auto_flow": null,
       "grid_auto_rows": null,
       "grid_column": null,
       "grid_gap": null,
       "grid_row": null,
       "grid_template_areas": null,
       "grid_template_columns": null,
       "grid_template_rows": null,
       "height": null,
       "justify_content": null,
       "justify_items": null,
       "left": null,
       "margin": null,
       "max_height": null,
       "max_width": null,
       "min_height": null,
       "min_width": null,
       "object_fit": null,
       "object_position": null,
       "order": null,
       "overflow": null,
       "padding": null,
       "right": null,
       "top": null,
       "visibility": null,
       "width": null
      }
     },
     "ec38243c1b274e7185500209086a5fc6": {
      "model_module": "@jupyter-widgets/controls",
      "model_module_version": "2.0.0",
      "model_name": "HBoxModel",
      "state": {
       "_dom_classes": [],
       "_model_module": "@jupyter-widgets/controls",
       "_model_module_version": "2.0.0",
       "_model_name": "HBoxModel",
       "_view_count": null,
       "_view_module": "@jupyter-widgets/controls",
       "_view_module_version": "2.0.0",
       "_view_name": "HBoxView",
       "box_style": "",
       "children": [
        "IPY_MODEL_7693752d7a174de38b5059a5c097ab70",
        "IPY_MODEL_c4667fc46d534cc29b7f171403eed234",
        "IPY_MODEL_baa6f8168f7a46fc871d49590afdd8d5"
       ],
       "layout": "IPY_MODEL_07b04cf4df9f4e2a8dcaa27be97e4be9",
       "tabbable": null,
       "tooltip": null
      }
     },
     "ec565c7207a448369820810cfb011143": {
      "model_module": "@jupyter-widgets/controls",
      "model_module_version": "2.0.0",
      "model_name": "HTMLStyleModel",
      "state": {
       "_model_module": "@jupyter-widgets/controls",
       "_model_module_version": "2.0.0",
       "_model_name": "HTMLStyleModel",
       "_view_count": null,
       "_view_module": "@jupyter-widgets/base",
       "_view_module_version": "2.0.0",
       "_view_name": "StyleView",
       "background": null,
       "description_width": "",
       "font_size": null,
       "text_color": null
      }
     },
     "ee9d379e62724ba5a163e11d7df0fd17": {
      "model_module": "@jupyter-widgets/base",
      "model_module_version": "2.0.0",
      "model_name": "LayoutModel",
      "state": {
       "_model_module": "@jupyter-widgets/base",
       "_model_module_version": "2.0.0",
       "_model_name": "LayoutModel",
       "_view_count": null,
       "_view_module": "@jupyter-widgets/base",
       "_view_module_version": "2.0.0",
       "_view_name": "LayoutView",
       "align_content": null,
       "align_items": null,
       "align_self": null,
       "border_bottom": null,
       "border_left": null,
       "border_right": null,
       "border_top": null,
       "bottom": null,
       "display": null,
       "flex": null,
       "flex_flow": null,
       "grid_area": null,
       "grid_auto_columns": null,
       "grid_auto_flow": null,
       "grid_auto_rows": null,
       "grid_column": null,
       "grid_gap": null,
       "grid_row": null,
       "grid_template_areas": null,
       "grid_template_columns": null,
       "grid_template_rows": null,
       "height": null,
       "justify_content": null,
       "justify_items": null,
       "left": null,
       "margin": null,
       "max_height": null,
       "max_width": null,
       "min_height": null,
       "min_width": null,
       "object_fit": null,
       "object_position": null,
       "order": null,
       "overflow": null,
       "padding": null,
       "right": null,
       "top": null,
       "visibility": null,
       "width": null
      }
     },
     "f1693f5ec1424853bfd67139eb288d11": {
      "model_module": "@jupyter-widgets/controls",
      "model_module_version": "2.0.0",
      "model_name": "HTMLStyleModel",
      "state": {
       "_model_module": "@jupyter-widgets/controls",
       "_model_module_version": "2.0.0",
       "_model_name": "HTMLStyleModel",
       "_view_count": null,
       "_view_module": "@jupyter-widgets/base",
       "_view_module_version": "2.0.0",
       "_view_name": "StyleView",
       "background": null,
       "description_width": "",
       "font_size": null,
       "text_color": null
      }
     },
     "f522b7f3f14c4693937104bdcf15b7af": {
      "model_module": "@jupyter-widgets/controls",
      "model_module_version": "2.0.0",
      "model_name": "HTMLModel",
      "state": {
       "_dom_classes": [],
       "_model_module": "@jupyter-widgets/controls",
       "_model_module_version": "2.0.0",
       "_model_name": "HTMLModel",
       "_view_count": null,
       "_view_module": "@jupyter-widgets/controls",
       "_view_module_version": "2.0.0",
       "_view_name": "HTMLView",
       "description": "",
       "description_allow_html": false,
       "layout": "IPY_MODEL_2db476851dd94318bef3b4943a1b276c",
       "placeholder": "​",
       "style": "IPY_MODEL_555b54600635427ca03e1c88c32cd52c",
       "tabbable": null,
       "tooltip": null,
       "value": "MSEError: 0.2602785: 100%"
      }
     },
     "f5284c944f364ea183bd2ef8fea631f1": {
      "model_module": "@jupyter-widgets/base",
      "model_module_version": "2.0.0",
      "model_name": "LayoutModel",
      "state": {
       "_model_module": "@jupyter-widgets/base",
       "_model_module_version": "2.0.0",
       "_model_name": "LayoutModel",
       "_view_count": null,
       "_view_module": "@jupyter-widgets/base",
       "_view_module_version": "2.0.0",
       "_view_name": "LayoutView",
       "align_content": null,
       "align_items": null,
       "align_self": null,
       "border_bottom": null,
       "border_left": null,
       "border_right": null,
       "border_top": null,
       "bottom": null,
       "display": null,
       "flex": null,
       "flex_flow": null,
       "grid_area": null,
       "grid_auto_columns": null,
       "grid_auto_flow": null,
       "grid_auto_rows": null,
       "grid_column": null,
       "grid_gap": null,
       "grid_row": null,
       "grid_template_areas": null,
       "grid_template_columns": null,
       "grid_template_rows": null,
       "height": null,
       "justify_content": null,
       "justify_items": null,
       "left": null,
       "margin": null,
       "max_height": null,
       "max_width": null,
       "min_height": null,
       "min_width": null,
       "object_fit": null,
       "object_position": null,
       "order": null,
       "overflow": null,
       "padding": null,
       "right": null,
       "top": null,
       "visibility": null,
       "width": null
      }
     },
     "f588bce21cf54a3bb29cfdaea435c6b9": {
      "model_module": "@jupyter-widgets/base",
      "model_module_version": "2.0.0",
      "model_name": "LayoutModel",
      "state": {
       "_model_module": "@jupyter-widgets/base",
       "_model_module_version": "2.0.0",
       "_model_name": "LayoutModel",
       "_view_count": null,
       "_view_module": "@jupyter-widgets/base",
       "_view_module_version": "2.0.0",
       "_view_name": "LayoutView",
       "align_content": null,
       "align_items": null,
       "align_self": null,
       "border_bottom": null,
       "border_left": null,
       "border_right": null,
       "border_top": null,
       "bottom": null,
       "display": null,
       "flex": null,
       "flex_flow": null,
       "grid_area": null,
       "grid_auto_columns": null,
       "grid_auto_flow": null,
       "grid_auto_rows": null,
       "grid_column": null,
       "grid_gap": null,
       "grid_row": null,
       "grid_template_areas": null,
       "grid_template_columns": null,
       "grid_template_rows": null,
       "height": null,
       "justify_content": null,
       "justify_items": null,
       "left": null,
       "margin": null,
       "max_height": null,
       "max_width": null,
       "min_height": null,
       "min_width": null,
       "object_fit": null,
       "object_position": null,
       "order": null,
       "overflow": null,
       "padding": null,
       "right": null,
       "top": null,
       "visibility": null,
       "width": null
      }
     },
     "fb27b6e2c9ed43a0901ec12c965a1596": {
      "model_module": "@jupyter-widgets/controls",
      "model_module_version": "2.0.0",
      "model_name": "HTMLStyleModel",
      "state": {
       "_model_module": "@jupyter-widgets/controls",
       "_model_module_version": "2.0.0",
       "_model_name": "HTMLStyleModel",
       "_view_count": null,
       "_view_module": "@jupyter-widgets/base",
       "_view_module_version": "2.0.0",
       "_view_name": "StyleView",
       "background": null,
       "description_width": "",
       "font_size": null,
       "text_color": null
      }
     },
     "fd1ae721bc9141648db0879e16c62801": {
      "model_module": "@jupyter-widgets/base",
      "model_module_version": "2.0.0",
      "model_name": "LayoutModel",
      "state": {
       "_model_module": "@jupyter-widgets/base",
       "_model_module_version": "2.0.0",
       "_model_name": "LayoutModel",
       "_view_count": null,
       "_view_module": "@jupyter-widgets/base",
       "_view_module_version": "2.0.0",
       "_view_name": "LayoutView",
       "align_content": null,
       "align_items": null,
       "align_self": null,
       "border_bottom": null,
       "border_left": null,
       "border_right": null,
       "border_top": null,
       "bottom": null,
       "display": null,
       "flex": null,
       "flex_flow": null,
       "grid_area": null,
       "grid_auto_columns": null,
       "grid_auto_flow": null,
       "grid_auto_rows": null,
       "grid_column": null,
       "grid_gap": null,
       "grid_row": null,
       "grid_template_areas": null,
       "grid_template_columns": null,
       "grid_template_rows": null,
       "height": null,
       "justify_content": null,
       "justify_items": null,
       "left": null,
       "margin": null,
       "max_height": null,
       "max_width": null,
       "min_height": null,
       "min_width": null,
       "object_fit": null,
       "object_position": null,
       "order": null,
       "overflow": null,
       "padding": null,
       "right": null,
       "top": null,
       "visibility": null,
       "width": null
      }
     },
     "fd42a02b9d2440af8218f0f1bf127618": {
      "model_module": "@jupyter-widgets/controls",
      "model_module_version": "2.0.0",
      "model_name": "HTMLStyleModel",
      "state": {
       "_model_module": "@jupyter-widgets/controls",
       "_model_module_version": "2.0.0",
       "_model_name": "HTMLStyleModel",
       "_view_count": null,
       "_view_module": "@jupyter-widgets/base",
       "_view_module_version": "2.0.0",
       "_view_name": "StyleView",
       "background": null,
       "description_width": "",
       "font_size": null,
       "text_color": null
      }
     },
     "fd4f1f73c21f4ff1bc7df95cb3d5c451": {
      "model_module": "@jupyter-widgets/base",
      "model_module_version": "2.0.0",
      "model_name": "LayoutModel",
      "state": {
       "_model_module": "@jupyter-widgets/base",
       "_model_module_version": "2.0.0",
       "_model_name": "LayoutModel",
       "_view_count": null,
       "_view_module": "@jupyter-widgets/base",
       "_view_module_version": "2.0.0",
       "_view_name": "LayoutView",
       "align_content": null,
       "align_items": null,
       "align_self": null,
       "border_bottom": null,
       "border_left": null,
       "border_right": null,
       "border_top": null,
       "bottom": null,
       "display": null,
       "flex": null,
       "flex_flow": null,
       "grid_area": null,
       "grid_auto_columns": null,
       "grid_auto_flow": null,
       "grid_auto_rows": null,
       "grid_column": null,
       "grid_gap": null,
       "grid_row": null,
       "grid_template_areas": null,
       "grid_template_columns": null,
       "grid_template_rows": null,
       "height": null,
       "justify_content": null,
       "justify_items": null,
       "left": null,
       "margin": null,
       "max_height": null,
       "max_width": null,
       "min_height": null,
       "min_width": null,
       "object_fit": null,
       "object_position": null,
       "order": null,
       "overflow": null,
       "padding": null,
       "right": null,
       "top": null,
       "visibility": null,
       "width": null
      }
     },
     "fe92092f6e2a4bca84b80cab357c0095": {
      "model_module": "@jupyter-widgets/controls",
      "model_module_version": "2.0.0",
      "model_name": "ProgressStyleModel",
      "state": {
       "_model_module": "@jupyter-widgets/controls",
       "_model_module_version": "2.0.0",
       "_model_name": "ProgressStyleModel",
       "_view_count": null,
       "_view_module": "@jupyter-widgets/base",
       "_view_module_version": "2.0.0",
       "_view_name": "StyleView",
       "bar_color": null,
       "description_width": ""
      }
     }
    },
    "version_major": 2,
    "version_minor": 0
   }
  }
 },
 "nbformat": 4,
 "nbformat_minor": 5
}
