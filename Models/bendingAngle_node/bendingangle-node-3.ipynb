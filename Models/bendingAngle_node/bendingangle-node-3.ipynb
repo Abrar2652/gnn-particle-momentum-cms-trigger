{
 "cells": [
  {
   "cell_type": "markdown",
   "id": "73a9ee7c",
   "metadata": {
    "_cell_guid": "b1076dfc-b9ad-4769-8c92-a6c4dae69d19",
    "_uuid": "8f2839f25d086af736a60e9eeb907d3b93b6e0e5",
    "execution": {
     "iopub.execute_input": "2024-06-08T07:17:31.61566Z",
     "iopub.status.busy": "2024-06-08T07:17:31.615311Z",
     "iopub.status.idle": "2024-06-08T07:17:31.621747Z",
     "shell.execute_reply": "2024-06-08T07:17:31.620642Z",
     "shell.execute_reply.started": "2024-06-08T07:17:31.615631Z"
    },
    "papermill": {
     "duration": 0.022731,
     "end_time": "2025-05-06T19:36:12.711275",
     "exception": false,
     "start_time": "2025-05-06T19:36:12.688544",
     "status": "completed"
    },
    "tags": []
   },
   "source": [
    "# SETTING UP THE ENV"
   ]
  },
  {
   "cell_type": "markdown",
   "id": "268efd1e",
   "metadata": {
    "papermill": {
     "duration": 0.019073,
     "end_time": "2025-05-06T19:36:12.750725",
     "exception": false,
     "start_time": "2025-05-06T19:36:12.731652",
     "status": "completed"
    },
    "tags": []
   },
   "source": [
    "Lets impot Libraries"
   ]
  },
  {
   "cell_type": "code",
   "execution_count": 1,
   "id": "8271d4ec",
   "metadata": {
    "execution": {
     "iopub.execute_input": "2025-05-06T19:36:12.790850Z",
     "iopub.status.busy": "2025-05-06T19:36:12.790164Z",
     "iopub.status.idle": "2025-05-06T19:36:17.675251Z",
     "shell.execute_reply": "2025-05-06T19:36:17.674475Z"
    },
    "papermill": {
     "duration": 4.90677,
     "end_time": "2025-05-06T19:36:17.676763",
     "exception": false,
     "start_time": "2025-05-06T19:36:12.769993",
     "status": "completed"
    },
    "scrolled": true,
    "tags": []
   },
   "outputs": [
    {
     "name": "stdout",
     "output_type": "stream",
     "text": [
      "Collecting torch-geometric\r\n",
      "  Downloading torch_geometric-2.6.1-py3-none-any.whl.metadata (63 kB)\r\n",
      "\u001b[2K     \u001b[90m━━━━━━━━━━━━━━━━━━━━━━━━━━━━━━━━━━━━━━━━\u001b[0m \u001b[32m63.1/63.1 kB\u001b[0m \u001b[31m2.8 MB/s\u001b[0m eta \u001b[36m0:00:00\u001b[0m\r\n",
      "\u001b[?25hRequirement already satisfied: aiohttp in /usr/local/lib/python3.11/dist-packages (from torch-geometric) (3.11.16)\r\n",
      "Requirement already satisfied: fsspec in /usr/local/lib/python3.11/dist-packages (from torch-geometric) (2025.3.2)\r\n",
      "Requirement already satisfied: jinja2 in /usr/local/lib/python3.11/dist-packages (from torch-geometric) (3.1.6)\r\n",
      "Requirement already satisfied: numpy in /usr/local/lib/python3.11/dist-packages (from torch-geometric) (1.26.4)\r\n",
      "Requirement already satisfied: psutil>=5.8.0 in /usr/local/lib/python3.11/dist-packages (from torch-geometric) (7.0.0)\r\n",
      "Requirement already satisfied: pyparsing in /usr/local/lib/python3.11/dist-packages (from torch-geometric) (3.2.1)\r\n",
      "Requirement already satisfied: requests in /usr/local/lib/python3.11/dist-packages (from torch-geometric) (2.32.3)\r\n",
      "Requirement already satisfied: tqdm in /usr/local/lib/python3.11/dist-packages (from torch-geometric) (4.67.1)\r\n",
      "Requirement already satisfied: aiohappyeyeballs>=2.3.0 in /usr/local/lib/python3.11/dist-packages (from aiohttp->torch-geometric) (2.6.1)\r\n",
      "Requirement already satisfied: aiosignal>=1.1.2 in /usr/local/lib/python3.11/dist-packages (from aiohttp->torch-geometric) (1.3.2)\r\n",
      "Requirement already satisfied: attrs>=17.3.0 in /usr/local/lib/python3.11/dist-packages (from aiohttp->torch-geometric) (25.3.0)\r\n",
      "Requirement already satisfied: frozenlist>=1.1.1 in /usr/local/lib/python3.11/dist-packages (from aiohttp->torch-geometric) (1.5.0)\r\n",
      "Requirement already satisfied: multidict<7.0,>=4.5 in /usr/local/lib/python3.11/dist-packages (from aiohttp->torch-geometric) (6.2.0)\r\n",
      "Requirement already satisfied: propcache>=0.2.0 in /usr/local/lib/python3.11/dist-packages (from aiohttp->torch-geometric) (0.3.1)\r\n",
      "Requirement already satisfied: yarl<2.0,>=1.17.0 in /usr/local/lib/python3.11/dist-packages (from aiohttp->torch-geometric) (1.19.0)\r\n",
      "Requirement already satisfied: MarkupSafe>=2.0 in /usr/local/lib/python3.11/dist-packages (from jinja2->torch-geometric) (3.0.2)\r\n",
      "Requirement already satisfied: mkl_fft in /usr/local/lib/python3.11/dist-packages (from numpy->torch-geometric) (1.3.8)\r\n",
      "Requirement already satisfied: mkl_random in /usr/local/lib/python3.11/dist-packages (from numpy->torch-geometric) (1.2.4)\r\n",
      "Requirement already satisfied: mkl_umath in /usr/local/lib/python3.11/dist-packages (from numpy->torch-geometric) (0.1.1)\r\n",
      "Requirement already satisfied: mkl in /usr/local/lib/python3.11/dist-packages (from numpy->torch-geometric) (2025.1.0)\r\n",
      "Requirement already satisfied: tbb4py in /usr/local/lib/python3.11/dist-packages (from numpy->torch-geometric) (2022.1.0)\r\n",
      "Requirement already satisfied: mkl-service in /usr/local/lib/python3.11/dist-packages (from numpy->torch-geometric) (2.4.1)\r\n",
      "Requirement already satisfied: charset-normalizer<4,>=2 in /usr/local/lib/python3.11/dist-packages (from requests->torch-geometric) (3.4.1)\r\n",
      "Requirement already satisfied: idna<4,>=2.5 in /usr/local/lib/python3.11/dist-packages (from requests->torch-geometric) (3.10)\r\n",
      "Requirement already satisfied: urllib3<3,>=1.21.1 in /usr/local/lib/python3.11/dist-packages (from requests->torch-geometric) (2.3.0)\r\n",
      "Requirement already satisfied: certifi>=2017.4.17 in /usr/local/lib/python3.11/dist-packages (from requests->torch-geometric) (2025.1.31)\r\n",
      "Requirement already satisfied: intel-openmp<2026,>=2024 in /usr/local/lib/python3.11/dist-packages (from mkl->numpy->torch-geometric) (2024.2.0)\r\n",
      "Requirement already satisfied: tbb==2022.* in /usr/local/lib/python3.11/dist-packages (from mkl->numpy->torch-geometric) (2022.1.0)\r\n",
      "Requirement already satisfied: tcmlib==1.* in /usr/local/lib/python3.11/dist-packages (from tbb==2022.*->mkl->numpy->torch-geometric) (1.2.0)\r\n",
      "Requirement already satisfied: intel-cmplr-lib-rt in /usr/local/lib/python3.11/dist-packages (from mkl_umath->numpy->torch-geometric) (2024.2.0)\r\n",
      "Requirement already satisfied: intel-cmplr-lib-ur==2024.2.0 in /usr/local/lib/python3.11/dist-packages (from intel-openmp<2026,>=2024->mkl->numpy->torch-geometric) (2024.2.0)\r\n",
      "Downloading torch_geometric-2.6.1-py3-none-any.whl (1.1 MB)\r\n",
      "\u001b[2K   \u001b[90m━━━━━━━━━━━━━━━━━━━━━━━━━━━━━━━━━━━━━━━━\u001b[0m \u001b[32m1.1/1.1 MB\u001b[0m \u001b[31m28.9 MB/s\u001b[0m eta \u001b[36m0:00:00\u001b[0m\r\n",
      "\u001b[?25hInstalling collected packages: torch-geometric\r\n",
      "Successfully installed torch-geometric-2.6.1\r\n"
     ]
    }
   ],
   "source": [
    "#download necessary libraries\n",
    "\n",
    "!pip install torch-geometric"
   ]
  },
  {
   "cell_type": "code",
   "execution_count": 2,
   "id": "97fca089",
   "metadata": {
    "execution": {
     "iopub.execute_input": "2025-05-06T19:36:17.718848Z",
     "iopub.status.busy": "2025-05-06T19:36:17.718621Z",
     "iopub.status.idle": "2025-05-06T19:36:21.644705Z",
     "shell.execute_reply": "2025-05-06T19:36:21.643816Z"
    },
    "papermill": {
     "duration": 3.94854,
     "end_time": "2025-05-06T19:36:21.646023",
     "exception": false,
     "start_time": "2025-05-06T19:36:17.697483",
     "status": "completed"
    },
    "tags": []
   },
   "outputs": [
    {
     "name": "stdout",
     "output_type": "stream",
     "text": [
      "2.5.1+cu124\n",
      "12.4\n"
     ]
    }
   ],
   "source": [
    "import sys\n",
    "sys.path.append('/kaggle/working')\n",
    "# !ls /kaggle/working\n",
    "import torch\n",
    "print(torch.__version__)\n",
    "print(torch.version.cuda)"
   ]
  },
  {
   "cell_type": "code",
   "execution_count": 3,
   "id": "725faaf2",
   "metadata": {
    "execution": {
     "iopub.execute_input": "2025-05-06T19:36:21.687148Z",
     "iopub.status.busy": "2025-05-06T19:36:21.686827Z",
     "iopub.status.idle": "2025-05-06T19:36:28.046279Z",
     "shell.execute_reply": "2025-05-06T19:36:28.045667Z"
    },
    "papermill": {
     "duration": 6.381235,
     "end_time": "2025-05-06T19:36:28.047698",
     "exception": false,
     "start_time": "2025-05-06T19:36:21.666463",
     "status": "completed"
    },
    "tags": []
   },
   "outputs": [],
   "source": [
    "from typing import Union, Tuple\n",
    "from torch_geometric.typing import OptPairTensor, Adj, Size # Optional[Tensor], Union[Tensor, SparseTensor], Optional[Tuple[int, int]], all about data type\n",
    "\n",
    "from torch import Tensor\n",
    "from torch.nn import Linear\n",
    "import torch.nn.functional as F\n",
    "from torch_geometric.nn.conv import MessagePassing"
   ]
  },
  {
   "cell_type": "code",
   "execution_count": 4,
   "id": "847c8c7a",
   "metadata": {
    "execution": {
     "iopub.execute_input": "2025-05-06T19:36:28.132356Z",
     "iopub.status.busy": "2025-05-06T19:36:28.131929Z",
     "iopub.status.idle": "2025-05-06T19:36:30.952336Z",
     "shell.execute_reply": "2025-05-06T19:36:30.951710Z"
    },
    "papermill": {
     "duration": 2.842353,
     "end_time": "2025-05-06T19:36:30.953723",
     "exception": false,
     "start_time": "2025-05-06T19:36:28.111370",
     "status": "completed"
    },
    "tags": []
   },
   "outputs": [],
   "source": [
    "import warnings\n",
    "warnings.filterwarnings(\"ignore\")\n",
    "import os\n",
    "import time\n",
    "import random\n",
    "from tqdm.notebook import tqdm\n",
    "import pandas as pd\n",
    "import numpy as np\n",
    "import matplotlib.pyplot as plt\n",
    "\n",
    "from joblib import Parallel, delayed\n",
    "\n",
    "from sklearn.preprocessing import StandardScaler, MinMaxScaler\n",
    "from sklearn.model_selection import train_test_split\n",
    "\n",
    "import torch\n",
    "import torch.nn.functional as F\n",
    "import torch_geometric.nn as gnn\n",
    "from torch_geometric.nn import MessagePassing\n",
    "from torch_geometric.data import Dataset, Data, DataLoader\n",
    "from torch_geometric.nn import global_mean_pool as gap, global_max_pool as gmp\n",
    "from torch_geometric.utils import softmax\n",
    "from sklearn.metrics import r2_score\n",
    "from sklearn.neighbors import NearestNeighbors"
   ]
  },
  {
   "cell_type": "markdown",
   "id": "270f854b",
   "metadata": {
    "papermill": {
     "duration": 0.019688,
     "end_time": "2025-05-06T19:36:30.993726",
     "exception": false,
     "start_time": "2025-05-06T19:36:30.974038",
     "status": "completed"
    },
    "tags": []
   },
   "source": [
    "# Pre Processing"
   ]
  },
  {
   "cell_type": "code",
   "execution_count": 5,
   "id": "8d00d765",
   "metadata": {
    "execution": {
     "iopub.execute_input": "2025-05-06T19:36:31.035022Z",
     "iopub.status.busy": "2025-05-06T19:36:31.034172Z",
     "iopub.status.idle": "2025-05-06T19:36:36.552626Z",
     "shell.execute_reply": "2025-05-06T19:36:36.551618Z"
    },
    "papermill": {
     "duration": 5.540655,
     "end_time": "2025-05-06T19:36:36.554015",
     "exception": false,
     "start_time": "2025-05-06T19:36:31.013360",
     "status": "completed"
    },
    "tags": []
   },
   "outputs": [
    {
     "name": "stdout",
     "output_type": "stream",
     "text": [
      "Index(['Unnamed: 0', 'Phi_0', 'Phi_2', 'Phi_3', 'Phi_4', 'Theta_0', 'Theta_2',\n",
      "       'Theta_3', 'Theta_4', 'BendingAngle_0', 'BendingAngle_2',\n",
      "       'BendingAngle_3', 'BendingAngle_4', 'TimeInfo_0', 'TimeInfo_2',\n",
      "       'TimeInfo_3', 'TimeInfo_4', 'RingNumber_0', 'RingNumber_2',\n",
      "       'RingNumber_3', 'RingNumber_4', 'Front_0', 'Front_2', 'Front_3',\n",
      "       'Front_4', 'Mask_0', 'Mask_2', 'Mask_3', 'Mask_4',\n",
      "       'PatternStraightness', 'Zone', 'MedianTheta', 'q/pt', 'PhiAngle',\n",
      "       'EtaAngle'],\n",
      "      dtype='object')\n"
     ]
    }
   ],
   "source": [
    "df = pd.read_csv('/kaggle/input/cms-dataset/CMS_trigger.csv')\n",
    "print(df.columns)"
   ]
  },
  {
   "cell_type": "code",
   "execution_count": 6,
   "id": "11b3c891",
   "metadata": {
    "execution": {
     "iopub.execute_input": "2025-05-06T19:36:36.598042Z",
     "iopub.status.busy": "2025-05-06T19:36:36.597796Z",
     "iopub.status.idle": "2025-05-06T19:36:36.631983Z",
     "shell.execute_reply": "2025-05-06T19:36:36.631280Z"
    },
    "papermill": {
     "duration": 0.056809,
     "end_time": "2025-05-06T19:36:36.633017",
     "exception": false,
     "start_time": "2025-05-06T19:36:36.576208",
     "status": "completed"
    },
    "tags": []
   },
   "outputs": [
    {
     "data": {
      "text/html": [
       "<div>\n",
       "<style scoped>\n",
       "    .dataframe tbody tr th:only-of-type {\n",
       "        vertical-align: middle;\n",
       "    }\n",
       "\n",
       "    .dataframe tbody tr th {\n",
       "        vertical-align: top;\n",
       "    }\n",
       "\n",
       "    .dataframe thead th {\n",
       "        text-align: right;\n",
       "    }\n",
       "</style>\n",
       "<table border=\"1\" class=\"dataframe\">\n",
       "  <thead>\n",
       "    <tr style=\"text-align: right;\">\n",
       "      <th></th>\n",
       "      <th>Unnamed: 0</th>\n",
       "      <th>Phi_0</th>\n",
       "      <th>Phi_2</th>\n",
       "      <th>Phi_3</th>\n",
       "      <th>Phi_4</th>\n",
       "      <th>Theta_0</th>\n",
       "      <th>Theta_2</th>\n",
       "      <th>Theta_3</th>\n",
       "      <th>Theta_4</th>\n",
       "      <th>BendingAngle_0</th>\n",
       "      <th>...</th>\n",
       "      <th>Mask_0</th>\n",
       "      <th>Mask_2</th>\n",
       "      <th>Mask_3</th>\n",
       "      <th>Mask_4</th>\n",
       "      <th>PatternStraightness</th>\n",
       "      <th>Zone</th>\n",
       "      <th>MedianTheta</th>\n",
       "      <th>q/pt</th>\n",
       "      <th>PhiAngle</th>\n",
       "      <th>EtaAngle</th>\n",
       "    </tr>\n",
       "  </thead>\n",
       "  <tbody>\n",
       "    <tr>\n",
       "      <th>0</th>\n",
       "      <td>0</td>\n",
       "      <td>58.066666</td>\n",
       "      <td>55.466667</td>\n",
       "      <td>55.466667</td>\n",
       "      <td>56.000000</td>\n",
       "      <td>11.970</td>\n",
       "      <td>11.684999</td>\n",
       "      <td>11.400</td>\n",
       "      <td>11.400</td>\n",
       "      <td>-13.000000</td>\n",
       "      <td>...</td>\n",
       "      <td>0.0</td>\n",
       "      <td>0.0</td>\n",
       "      <td>0.0</td>\n",
       "      <td>0.0</td>\n",
       "      <td>5.0</td>\n",
       "      <td>3.0</td>\n",
       "      <td>105.0</td>\n",
       "      <td>0.181209</td>\n",
       "      <td>-3.075936</td>\n",
       "      <td>1.722345</td>\n",
       "    </tr>\n",
       "    <tr>\n",
       "      <th>1</th>\n",
       "      <td>1</td>\n",
       "      <td>64.583336</td>\n",
       "      <td>66.800000</td>\n",
       "      <td>67.066666</td>\n",
       "      <td>67.200000</td>\n",
       "      <td>6.555</td>\n",
       "      <td>6.840000</td>\n",
       "      <td>6.555</td>\n",
       "      <td>6.840</td>\n",
       "      <td>7.000000</td>\n",
       "      <td>...</td>\n",
       "      <td>0.0</td>\n",
       "      <td>0.0</td>\n",
       "      <td>0.0</td>\n",
       "      <td>0.0</td>\n",
       "      <td>3.0</td>\n",
       "      <td>1.0</td>\n",
       "      <td>124.0</td>\n",
       "      <td>-0.146131</td>\n",
       "      <td>-0.167139</td>\n",
       "      <td>2.012122</td>\n",
       "    </tr>\n",
       "    <tr>\n",
       "      <th>2</th>\n",
       "      <td>2</td>\n",
       "      <td>71.150000</td>\n",
       "      <td>67.033330</td>\n",
       "      <td>66.266670</td>\n",
       "      <td>65.466670</td>\n",
       "      <td>2.850</td>\n",
       "      <td>2.565000</td>\n",
       "      <td>2.280</td>\n",
       "      <td>2.280</td>\n",
       "      <td>-16.613783</td>\n",
       "      <td>...</td>\n",
       "      <td>0.0</td>\n",
       "      <td>0.0</td>\n",
       "      <td>0.0</td>\n",
       "      <td>0.0</td>\n",
       "      <td>7.0</td>\n",
       "      <td>0.0</td>\n",
       "      <td>127.0</td>\n",
       "      <td>0.367024</td>\n",
       "      <td>2.431823</td>\n",
       "      <td>2.321646</td>\n",
       "    </tr>\n",
       "    <tr>\n",
       "      <th>3</th>\n",
       "      <td>3</td>\n",
       "      <td>34.933334</td>\n",
       "      <td>31.200000</td>\n",
       "      <td>31.200000</td>\n",
       "      <td>31.833334</td>\n",
       "      <td>9.690</td>\n",
       "      <td>8.835000</td>\n",
       "      <td>8.835</td>\n",
       "      <td>9.120</td>\n",
       "      <td>-13.000000</td>\n",
       "      <td>...</td>\n",
       "      <td>0.0</td>\n",
       "      <td>0.0</td>\n",
       "      <td>0.0</td>\n",
       "      <td>0.0</td>\n",
       "      <td>6.0</td>\n",
       "      <td>2.0</td>\n",
       "      <td>60.0</td>\n",
       "      <td>0.267774</td>\n",
       "      <td>-1.343305</td>\n",
       "      <td>1.854506</td>\n",
       "    </tr>\n",
       "    <tr>\n",
       "      <th>4</th>\n",
       "      <td>4</td>\n",
       "      <td>68.150000</td>\n",
       "      <td>68.266670</td>\n",
       "      <td>68.300000</td>\n",
       "      <td>68.400000</td>\n",
       "      <td>2.565</td>\n",
       "      <td>2.565000</td>\n",
       "      <td>2.565</td>\n",
       "      <td>2.565</td>\n",
       "      <td>0.000000</td>\n",
       "      <td>...</td>\n",
       "      <td>0.0</td>\n",
       "      <td>0.0</td>\n",
       "      <td>0.0</td>\n",
       "      <td>0.0</td>\n",
       "      <td>4.0</td>\n",
       "      <td>0.0</td>\n",
       "      <td>128.0</td>\n",
       "      <td>-0.019179</td>\n",
       "      <td>-3.134433</td>\n",
       "      <td>2.333772</td>\n",
       "    </tr>\n",
       "  </tbody>\n",
       "</table>\n",
       "<p>5 rows × 35 columns</p>\n",
       "</div>"
      ],
      "text/plain": [
       "   Unnamed: 0      Phi_0      Phi_2      Phi_3      Phi_4  Theta_0    Theta_2  \\\n",
       "0           0  58.066666  55.466667  55.466667  56.000000   11.970  11.684999   \n",
       "1           1  64.583336  66.800000  67.066666  67.200000    6.555   6.840000   \n",
       "2           2  71.150000  67.033330  66.266670  65.466670    2.850   2.565000   \n",
       "3           3  34.933334  31.200000  31.200000  31.833334    9.690   8.835000   \n",
       "4           4  68.150000  68.266670  68.300000  68.400000    2.565   2.565000   \n",
       "\n",
       "   Theta_3  Theta_4  BendingAngle_0  ...  Mask_0  Mask_2  Mask_3  Mask_4  \\\n",
       "0   11.400   11.400      -13.000000  ...     0.0     0.0     0.0     0.0   \n",
       "1    6.555    6.840        7.000000  ...     0.0     0.0     0.0     0.0   \n",
       "2    2.280    2.280      -16.613783  ...     0.0     0.0     0.0     0.0   \n",
       "3    8.835    9.120      -13.000000  ...     0.0     0.0     0.0     0.0   \n",
       "4    2.565    2.565        0.000000  ...     0.0     0.0     0.0     0.0   \n",
       "\n",
       "   PatternStraightness  Zone  MedianTheta      q/pt  PhiAngle  EtaAngle  \n",
       "0                  5.0   3.0        105.0  0.181209 -3.075936  1.722345  \n",
       "1                  3.0   1.0        124.0 -0.146131 -0.167139  2.012122  \n",
       "2                  7.0   0.0        127.0  0.367024  2.431823  2.321646  \n",
       "3                  6.0   2.0         60.0  0.267774 -1.343305  1.854506  \n",
       "4                  4.0   0.0        128.0 -0.019179 -3.134433  2.333772  \n",
       "\n",
       "[5 rows x 35 columns]"
      ]
     },
     "execution_count": 6,
     "metadata": {},
     "output_type": "execute_result"
    }
   ],
   "source": [
    "df.head()"
   ]
  },
  {
   "cell_type": "code",
   "execution_count": 7,
   "id": "e01e6b46",
   "metadata": {
    "execution": {
     "iopub.execute_input": "2025-05-06T19:36:36.677718Z",
     "iopub.status.busy": "2025-05-06T19:36:36.677362Z",
     "iopub.status.idle": "2025-05-06T19:36:38.098734Z",
     "shell.execute_reply": "2025-05-06T19:36:38.098058Z"
    },
    "papermill": {
     "duration": 1.444934,
     "end_time": "2025-05-06T19:36:38.099947",
     "exception": false,
     "start_time": "2025-05-06T19:36:36.655013",
     "status": "completed"
    },
    "tags": []
   },
   "outputs": [
    {
     "data": {
      "text/html": [
       "<div>\n",
       "<style scoped>\n",
       "    .dataframe tbody tr th:only-of-type {\n",
       "        vertical-align: middle;\n",
       "    }\n",
       "\n",
       "    .dataframe tbody tr th {\n",
       "        vertical-align: top;\n",
       "    }\n",
       "\n",
       "    .dataframe thead th {\n",
       "        text-align: right;\n",
       "    }\n",
       "</style>\n",
       "<table border=\"1\" class=\"dataframe\">\n",
       "  <thead>\n",
       "    <tr style=\"text-align: right;\">\n",
       "      <th></th>\n",
       "      <th>Unnamed: 0</th>\n",
       "      <th>Phi_0</th>\n",
       "      <th>Phi_2</th>\n",
       "      <th>Phi_3</th>\n",
       "      <th>Phi_4</th>\n",
       "      <th>Theta_0</th>\n",
       "      <th>Theta_2</th>\n",
       "      <th>Theta_3</th>\n",
       "      <th>Theta_4</th>\n",
       "      <th>BendingAngle_0</th>\n",
       "      <th>...</th>\n",
       "      <th>Mask_0</th>\n",
       "      <th>Mask_2</th>\n",
       "      <th>Mask_3</th>\n",
       "      <th>Mask_4</th>\n",
       "      <th>PatternStraightness</th>\n",
       "      <th>Zone</th>\n",
       "      <th>MedianTheta</th>\n",
       "      <th>q/pt</th>\n",
       "      <th>PhiAngle</th>\n",
       "      <th>EtaAngle</th>\n",
       "    </tr>\n",
       "  </thead>\n",
       "  <tbody>\n",
       "    <tr>\n",
       "      <th>count</th>\n",
       "      <td>1.179356e+06</td>\n",
       "      <td>1.179356e+06</td>\n",
       "      <td>1.179356e+06</td>\n",
       "      <td>1.179356e+06</td>\n",
       "      <td>1.179356e+06</td>\n",
       "      <td>1.179356e+06</td>\n",
       "      <td>1.179356e+06</td>\n",
       "      <td>1.179356e+06</td>\n",
       "      <td>1.179356e+06</td>\n",
       "      <td>1.179356e+06</td>\n",
       "      <td>...</td>\n",
       "      <td>1179356.0</td>\n",
       "      <td>1179356.0</td>\n",
       "      <td>1179356.0</td>\n",
       "      <td>1179356.0</td>\n",
       "      <td>1.179356e+06</td>\n",
       "      <td>1.179356e+06</td>\n",
       "      <td>1.179356e+06</td>\n",
       "      <td>1.179356e+06</td>\n",
       "      <td>1.179356e+06</td>\n",
       "      <td>1.179356e+06</td>\n",
       "    </tr>\n",
       "    <tr>\n",
       "      <th>mean</th>\n",
       "      <td>5.896775e+05</td>\n",
       "      <td>4.851559e+01</td>\n",
       "      <td>4.851127e+01</td>\n",
       "      <td>4.851076e+01</td>\n",
       "      <td>4.851331e+01</td>\n",
       "      <td>6.195453e+00</td>\n",
       "      <td>5.918753e+00</td>\n",
       "      <td>5.848332e+00</td>\n",
       "      <td>5.881490e+00</td>\n",
       "      <td>5.603115e-02</td>\n",
       "      <td>...</td>\n",
       "      <td>0.0</td>\n",
       "      <td>0.0</td>\n",
       "      <td>0.0</td>\n",
       "      <td>0.0</td>\n",
       "      <td>3.976490e+00</td>\n",
       "      <td>1.080514e+00</td>\n",
       "      <td>9.115961e+01</td>\n",
       "      <td>5.540485e-04</td>\n",
       "      <td>8.881380e-04</td>\n",
       "      <td>8.762006e-04</td>\n",
       "    </tr>\n",
       "    <tr>\n",
       "      <th>std</th>\n",
       "      <td>3.404509e+05</td>\n",
       "      <td>1.774647e+01</td>\n",
       "      <td>1.779697e+01</td>\n",
       "      <td>1.781670e+01</td>\n",
       "      <td>1.779750e+01</td>\n",
       "      <td>3.011983e+00</td>\n",
       "      <td>2.921076e+00</td>\n",
       "      <td>2.911875e+00</td>\n",
       "      <td>2.906416e+00</td>\n",
       "      <td>1.493805e+01</td>\n",
       "      <td>...</td>\n",
       "      <td>0.0</td>\n",
       "      <td>0.0</td>\n",
       "      <td>0.0</td>\n",
       "      <td>0.0</td>\n",
       "      <td>1.871622e+00</td>\n",
       "      <td>1.089190e+00</td>\n",
       "      <td>3.328909e+01</td>\n",
       "      <td>2.524173e-01</td>\n",
       "      <td>1.820920e+00</td>\n",
       "      <td>2.075298e+00</td>\n",
       "    </tr>\n",
       "    <tr>\n",
       "      <th>min</th>\n",
       "      <td>0.000000e+00</td>\n",
       "      <td>1.103333e+01</td>\n",
       "      <td>2.400000e+00</td>\n",
       "      <td>2.666667e+00</td>\n",
       "      <td>2.666667e+00</td>\n",
       "      <td>1.425000e+00</td>\n",
       "      <td>1.425000e+00</td>\n",
       "      <td>1.425000e+00</td>\n",
       "      <td>1.710000e+00</td>\n",
       "      <td>-1.329103e+02</td>\n",
       "      <td>...</td>\n",
       "      <td>0.0</td>\n",
       "      <td>0.0</td>\n",
       "      <td>0.0</td>\n",
       "      <td>0.0</td>\n",
       "      <td>0.000000e+00</td>\n",
       "      <td>0.000000e+00</td>\n",
       "      <td>8.000000e+00</td>\n",
       "      <td>-4.999928e-01</td>\n",
       "      <td>-3.141584e+00</td>\n",
       "      <td>-2.499009e+00</td>\n",
       "    </tr>\n",
       "    <tr>\n",
       "      <th>25%</th>\n",
       "      <td>2.948388e+05</td>\n",
       "      <td>3.371667e+01</td>\n",
       "      <td>3.360000e+01</td>\n",
       "      <td>3.360000e+01</td>\n",
       "      <td>3.360000e+01</td>\n",
       "      <td>3.705000e+00</td>\n",
       "      <td>3.420000e+00</td>\n",
       "      <td>3.420000e+00</td>\n",
       "      <td>3.420000e+00</td>\n",
       "      <td>-1.100000e+01</td>\n",
       "      <td>...</td>\n",
       "      <td>0.0</td>\n",
       "      <td>0.0</td>\n",
       "      <td>0.0</td>\n",
       "      <td>0.0</td>\n",
       "      <td>3.000000e+00</td>\n",
       "      <td>0.000000e+00</td>\n",
       "      <td>6.300000e+01</td>\n",
       "      <td>-2.055347e-01</td>\n",
       "      <td>-1.584667e+00</td>\n",
       "      <td>-2.074832e+00</td>\n",
       "    </tr>\n",
       "    <tr>\n",
       "      <th>50%</th>\n",
       "      <td>5.896775e+05</td>\n",
       "      <td>4.830000e+01</td>\n",
       "      <td>4.826667e+01</td>\n",
       "      <td>4.826667e+01</td>\n",
       "      <td>4.826667e+01</td>\n",
       "      <td>5.700000e+00</td>\n",
       "      <td>5.415000e+00</td>\n",
       "      <td>5.415000e+00</td>\n",
       "      <td>5.415000e+00</td>\n",
       "      <td>0.000000e+00</td>\n",
       "      <td>...</td>\n",
       "      <td>0.0</td>\n",
       "      <td>0.0</td>\n",
       "      <td>0.0</td>\n",
       "      <td>0.0</td>\n",
       "      <td>4.000000e+00</td>\n",
       "      <td>1.000000e+00</td>\n",
       "      <td>9.100000e+01</td>\n",
       "      <td>2.155910e-04</td>\n",
       "      <td>8.142424e-03</td>\n",
       "      <td>1.523139e+00</td>\n",
       "    </tr>\n",
       "    <tr>\n",
       "      <th>75%</th>\n",
       "      <td>8.845162e+05</td>\n",
       "      <td>6.326667e+01</td>\n",
       "      <td>6.303333e+01</td>\n",
       "      <td>6.293333e+01</td>\n",
       "      <td>6.296667e+01</td>\n",
       "      <td>8.265000e+00</td>\n",
       "      <td>7.980000e+00</td>\n",
       "      <td>7.695000e+00</td>\n",
       "      <td>7.980000e+00</td>\n",
       "      <td>1.100000e+01</td>\n",
       "      <td>...</td>\n",
       "      <td>0.0</td>\n",
       "      <td>0.0</td>\n",
       "      <td>0.0</td>\n",
       "      <td>0.0</td>\n",
       "      <td>5.000000e+00</td>\n",
       "      <td>2.000000e+00</td>\n",
       "      <td>1.180000e+02</td>\n",
       "      <td>2.069167e-01</td>\n",
       "      <td>1.581958e+00</td>\n",
       "      <td>2.074729e+00</td>\n",
       "    </tr>\n",
       "    <tr>\n",
       "      <th>max</th>\n",
       "      <td>1.179355e+06</td>\n",
       "      <td>8.311667e+01</td>\n",
       "      <td>8.256667e+01</td>\n",
       "      <td>8.253333e+01</td>\n",
       "      <td>8.253333e+01</td>\n",
       "      <td>1.510500e+01</td>\n",
       "      <td>1.396500e+01</td>\n",
       "      <td>1.539000e+01</td>\n",
       "      <td>1.510500e+01</td>\n",
       "      <td>1.421401e+02</td>\n",
       "      <td>...</td>\n",
       "      <td>0.0</td>\n",
       "      <td>0.0</td>\n",
       "      <td>0.0</td>\n",
       "      <td>0.0</td>\n",
       "      <td>8.000000e+00</td>\n",
       "      <td>4.000000e+00</td>\n",
       "      <td>1.540000e+02</td>\n",
       "      <td>4.999991e-01</td>\n",
       "      <td>3.141592e+00</td>\n",
       "      <td>2.493834e+00</td>\n",
       "    </tr>\n",
       "  </tbody>\n",
       "</table>\n",
       "<p>8 rows × 35 columns</p>\n",
       "</div>"
      ],
      "text/plain": [
       "         Unnamed: 0         Phi_0         Phi_2         Phi_3         Phi_4  \\\n",
       "count  1.179356e+06  1.179356e+06  1.179356e+06  1.179356e+06  1.179356e+06   \n",
       "mean   5.896775e+05  4.851559e+01  4.851127e+01  4.851076e+01  4.851331e+01   \n",
       "std    3.404509e+05  1.774647e+01  1.779697e+01  1.781670e+01  1.779750e+01   \n",
       "min    0.000000e+00  1.103333e+01  2.400000e+00  2.666667e+00  2.666667e+00   \n",
       "25%    2.948388e+05  3.371667e+01  3.360000e+01  3.360000e+01  3.360000e+01   \n",
       "50%    5.896775e+05  4.830000e+01  4.826667e+01  4.826667e+01  4.826667e+01   \n",
       "75%    8.845162e+05  6.326667e+01  6.303333e+01  6.293333e+01  6.296667e+01   \n",
       "max    1.179355e+06  8.311667e+01  8.256667e+01  8.253333e+01  8.253333e+01   \n",
       "\n",
       "            Theta_0       Theta_2       Theta_3       Theta_4  BendingAngle_0  \\\n",
       "count  1.179356e+06  1.179356e+06  1.179356e+06  1.179356e+06    1.179356e+06   \n",
       "mean   6.195453e+00  5.918753e+00  5.848332e+00  5.881490e+00    5.603115e-02   \n",
       "std    3.011983e+00  2.921076e+00  2.911875e+00  2.906416e+00    1.493805e+01   \n",
       "min    1.425000e+00  1.425000e+00  1.425000e+00  1.710000e+00   -1.329103e+02   \n",
       "25%    3.705000e+00  3.420000e+00  3.420000e+00  3.420000e+00   -1.100000e+01   \n",
       "50%    5.700000e+00  5.415000e+00  5.415000e+00  5.415000e+00    0.000000e+00   \n",
       "75%    8.265000e+00  7.980000e+00  7.695000e+00  7.980000e+00    1.100000e+01   \n",
       "max    1.510500e+01  1.396500e+01  1.539000e+01  1.510500e+01    1.421401e+02   \n",
       "\n",
       "       ...     Mask_0     Mask_2     Mask_3     Mask_4  PatternStraightness  \\\n",
       "count  ...  1179356.0  1179356.0  1179356.0  1179356.0         1.179356e+06   \n",
       "mean   ...        0.0        0.0        0.0        0.0         3.976490e+00   \n",
       "std    ...        0.0        0.0        0.0        0.0         1.871622e+00   \n",
       "min    ...        0.0        0.0        0.0        0.0         0.000000e+00   \n",
       "25%    ...        0.0        0.0        0.0        0.0         3.000000e+00   \n",
       "50%    ...        0.0        0.0        0.0        0.0         4.000000e+00   \n",
       "75%    ...        0.0        0.0        0.0        0.0         5.000000e+00   \n",
       "max    ...        0.0        0.0        0.0        0.0         8.000000e+00   \n",
       "\n",
       "               Zone   MedianTheta          q/pt      PhiAngle      EtaAngle  \n",
       "count  1.179356e+06  1.179356e+06  1.179356e+06  1.179356e+06  1.179356e+06  \n",
       "mean   1.080514e+00  9.115961e+01  5.540485e-04  8.881380e-04  8.762006e-04  \n",
       "std    1.089190e+00  3.328909e+01  2.524173e-01  1.820920e+00  2.075298e+00  \n",
       "min    0.000000e+00  8.000000e+00 -4.999928e-01 -3.141584e+00 -2.499009e+00  \n",
       "25%    0.000000e+00  6.300000e+01 -2.055347e-01 -1.584667e+00 -2.074832e+00  \n",
       "50%    1.000000e+00  9.100000e+01  2.155910e-04  8.142424e-03  1.523139e+00  \n",
       "75%    2.000000e+00  1.180000e+02  2.069167e-01  1.581958e+00  2.074729e+00  \n",
       "max    4.000000e+00  1.540000e+02  4.999991e-01  3.141592e+00  2.493834e+00  \n",
       "\n",
       "[8 rows x 35 columns]"
      ]
     },
     "execution_count": 7,
     "metadata": {},
     "output_type": "execute_result"
    }
   ],
   "source": [
    "df.describe()"
   ]
  },
  {
   "cell_type": "code",
   "execution_count": 8,
   "id": "21b6acb9",
   "metadata": {
    "execution": {
     "iopub.execute_input": "2025-05-06T19:36:38.143372Z",
     "iopub.status.busy": "2025-05-06T19:36:38.142773Z",
     "iopub.status.idle": "2025-05-06T19:36:38.146244Z",
     "shell.execute_reply": "2025-05-06T19:36:38.145552Z"
    },
    "papermill": {
     "duration": 0.025768,
     "end_time": "2025-05-06T19:36:38.147293",
     "exception": false,
     "start_time": "2025-05-06T19:36:38.121525",
     "status": "completed"
    },
    "tags": []
   },
   "outputs": [],
   "source": [
    "#HOW MOMENTUM NEGATIVE??"
   ]
  },
  {
   "cell_type": "markdown",
   "id": "7a10d4f7",
   "metadata": {
    "papermill": {
     "duration": 0.020054,
     "end_time": "2025-05-06T19:36:38.187736",
     "exception": false,
     "start_time": "2025-05-06T19:36:38.167682",
     "status": "completed"
    },
    "tags": []
   },
   "source": [
    "**The data is not scaled, so we would have to scale the data first before we proceed to train a model on the data**"
   ]
  },
  {
   "cell_type": "markdown",
   "id": "6d10618c",
   "metadata": {
    "papermill": {
     "duration": 0.020079,
     "end_time": "2025-05-06T19:36:38.227991",
     "exception": false,
     "start_time": "2025-05-06T19:36:38.207912",
     "status": "completed"
    },
    "tags": []
   },
   "source": [
    "**To begin with lets  scale the data by using Standard Scalar**"
   ]
  },
  {
   "cell_type": "code",
   "execution_count": 9,
   "id": "586ec196",
   "metadata": {
    "execution": {
     "iopub.execute_input": "2025-05-06T19:36:38.270056Z",
     "iopub.status.busy": "2025-05-06T19:36:38.269637Z",
     "iopub.status.idle": "2025-05-06T19:36:38.273059Z",
     "shell.execute_reply": "2025-05-06T19:36:38.272382Z"
    },
    "papermill": {
     "duration": 0.025804,
     "end_time": "2025-05-06T19:36:38.274261",
     "exception": false,
     "start_time": "2025-05-06T19:36:38.248457",
     "status": "completed"
    },
    "tags": []
   },
   "outputs": [],
   "source": [
    "scaler = StandardScaler()"
   ]
  },
  {
   "cell_type": "code",
   "execution_count": 10,
   "id": "5161268b",
   "metadata": {
    "execution": {
     "iopub.execute_input": "2025-05-06T19:36:38.317881Z",
     "iopub.status.busy": "2025-05-06T19:36:38.317364Z",
     "iopub.status.idle": "2025-05-06T19:36:38.321943Z",
     "shell.execute_reply": "2025-05-06T19:36:38.321316Z"
    },
    "papermill": {
     "duration": 0.028175,
     "end_time": "2025-05-06T19:36:38.322964",
     "exception": false,
     "start_time": "2025-05-06T19:36:38.294789",
     "status": "completed"
    },
    "tags": []
   },
   "outputs": [
    {
     "data": {
      "text/plain": [
       "(1179356, 35)"
      ]
     },
     "execution_count": 10,
     "metadata": {},
     "output_type": "execute_result"
    }
   ],
   "source": [
    "df.shape"
   ]
  },
  {
   "cell_type": "code",
   "execution_count": 11,
   "id": "71a78e47",
   "metadata": {
    "execution": {
     "iopub.execute_input": "2025-05-06T19:36:38.365235Z",
     "iopub.status.busy": "2025-05-06T19:36:38.364867Z",
     "iopub.status.idle": "2025-05-06T19:36:38.380913Z",
     "shell.execute_reply": "2025-05-06T19:36:38.380244Z"
    },
    "papermill": {
     "duration": 0.038558,
     "end_time": "2025-05-06T19:36:38.382288",
     "exception": false,
     "start_time": "2025-05-06T19:36:38.343730",
     "status": "completed"
    },
    "tags": []
   },
   "outputs": [],
   "source": [
    "df.loc[:,\"pT\"] = abs(1/df.loc[:,\"q/pt\"])"
   ]
  },
  {
   "cell_type": "code",
   "execution_count": 12,
   "id": "e2fd693d",
   "metadata": {
    "execution": {
     "iopub.execute_input": "2025-05-06T19:36:38.426971Z",
     "iopub.status.busy": "2025-05-06T19:36:38.426435Z",
     "iopub.status.idle": "2025-05-06T19:36:38.433334Z",
     "shell.execute_reply": "2025-05-06T19:36:38.432794Z"
    },
    "papermill": {
     "duration": 0.029098,
     "end_time": "2025-05-06T19:36:38.434407",
     "exception": false,
     "start_time": "2025-05-06T19:36:38.405309",
     "status": "completed"
    },
    "tags": []
   },
   "outputs": [
    {
     "data": {
      "text/plain": [
       "(15.105, 1.425)"
      ]
     },
     "execution_count": 12,
     "metadata": {},
     "output_type": "execute_result"
    }
   ],
   "source": [
    "df['Theta_0'].max(), df['Theta_0'].min()"
   ]
  },
  {
   "cell_type": "markdown",
   "id": "1e6209db",
   "metadata": {
    "papermill": {
     "duration": 0.020672,
     "end_time": "2025-05-06T19:36:38.475701",
     "exception": false,
     "start_time": "2025-05-06T19:36:38.455029",
     "status": "completed"
    },
    "tags": []
   },
   "source": [
    "We noticed and came up with these observations:\n",
    "\n",
    "1) Instead of taking eachStation as a node or each feature as a node, its better to take only the bendingAngle for each station to be the node feature.\n",
    "\n",
    "2) Talking about the Edge feature we introduced the 3 dimensional vector feature. Which includes sin(phi), cos(phi), and eta (-log(tan(theta/2)))\n",
    "\n",
    "3) Using these node and edge features we came up with a message passign layers with different number of hidden layers to fit the data and we see the results in the results section."
   ]
  },
  {
   "cell_type": "code",
   "execution_count": 13,
   "id": "76bc6002",
   "metadata": {
    "execution": {
     "iopub.execute_input": "2025-05-06T19:36:38.518186Z",
     "iopub.status.busy": "2025-05-06T19:36:38.517962Z",
     "iopub.status.idle": "2025-05-06T19:36:38.628134Z",
     "shell.execute_reply": "2025-05-06T19:36:38.627381Z"
    },
    "papermill": {
     "duration": 0.133033,
     "end_time": "2025-05-06T19:36:38.629547",
     "exception": false,
     "start_time": "2025-05-06T19:36:38.496514",
     "status": "completed"
    },
    "tags": []
   },
   "outputs": [],
   "source": [
    "import pandas as pd\n",
    "import numpy as np\n",
    "\n",
    "# Sample DataFrame (replace with your actual DataFrame loading code)\n",
    "# df = pd.read_csv('your_file.csv')\n",
    "\n",
    "# Convert DataFrame columns to NumPy arrays for computations\n",
    "phi_0 = df['Phi_0'].values\n",
    "phi_2 = df['Phi_2'].values\n",
    "phi_3 = df['Phi_3'].values\n",
    "phi_4 = df['Phi_4'].values\n",
    "\n",
    "theta_0 = df['Theta_0'].values\n",
    "theta_2 = df['Theta_2'].values\n",
    "theta_3 = df['Theta_3'].values\n",
    "theta_4 = df['Theta_4'].values\n",
    "\n",
    "# Compute sine and cosine using NumPy\n",
    "df['cos_Phi_0'] = np.cos(np.radians(phi_0))\n",
    "df['cos_Phi_2'] = np.cos(np.radians(phi_2))\n",
    "df['cos_Phi_3'] = np.cos(np.radians(phi_3))\n",
    "df['cos_Phi_4'] = np.cos(np.radians(phi_4))\n",
    "\n",
    "df['sin_Phi_0'] = np.sin(np.radians(phi_0))\n",
    "df['sin_Phi_2'] = np.sin(np.radians(phi_2))\n",
    "df['sin_Phi_3'] = np.sin(np.radians(phi_3))\n",
    "df['sin_Phi_4'] = np.sin(np.radians(phi_4))\n",
    "\n",
    "# Compute eta using NumPy\n",
    "df['Eta_0'] = -np.log(np.tan(np.radians(theta_0 / 2)))\n",
    "df['Eta_2'] = -np.log(np.tan(np.radians(theta_2 / 2)))\n",
    "df['Eta_3'] = -np.log(np.tan(np.radians(theta_3 / 2)))\n",
    "df['Eta_4'] = -np.log(np.tan(np.radians(theta_4 / 2)))\n",
    "\n"
   ]
  },
  {
   "cell_type": "code",
   "execution_count": 14,
   "id": "e8d324f4",
   "metadata": {
    "execution": {
     "iopub.execute_input": "2025-05-06T19:36:38.672781Z",
     "iopub.status.busy": "2025-05-06T19:36:38.672581Z",
     "iopub.status.idle": "2025-05-06T19:36:38.677223Z",
     "shell.execute_reply": "2025-05-06T19:36:38.676524Z"
    },
    "papermill": {
     "duration": 0.027234,
     "end_time": "2025-05-06T19:36:38.678405",
     "exception": false,
     "start_time": "2025-05-06T19:36:38.651171",
     "status": "completed"
    },
    "tags": []
   },
   "outputs": [
    {
     "data": {
      "text/plain": [
       "Index(['Unnamed: 0', 'Phi_0', 'Phi_2', 'Phi_3', 'Phi_4', 'Theta_0', 'Theta_2',\n",
       "       'Theta_3', 'Theta_4', 'BendingAngle_0', 'BendingAngle_2',\n",
       "       'BendingAngle_3', 'BendingAngle_4', 'TimeInfo_0', 'TimeInfo_2',\n",
       "       'TimeInfo_3', 'TimeInfo_4', 'RingNumber_0', 'RingNumber_2',\n",
       "       'RingNumber_3', 'RingNumber_4', 'Front_0', 'Front_2', 'Front_3',\n",
       "       'Front_4', 'Mask_0', 'Mask_2', 'Mask_3', 'Mask_4',\n",
       "       'PatternStraightness', 'Zone', 'MedianTheta', 'q/pt', 'PhiAngle',\n",
       "       'EtaAngle', 'pT', 'cos_Phi_0', 'cos_Phi_2', 'cos_Phi_3', 'cos_Phi_4',\n",
       "       'sin_Phi_0', 'sin_Phi_2', 'sin_Phi_3', 'sin_Phi_4', 'Eta_0', 'Eta_2',\n",
       "       'Eta_3', 'Eta_4'],\n",
       "      dtype='object')"
      ]
     },
     "execution_count": 14,
     "metadata": {},
     "output_type": "execute_result"
    }
   ],
   "source": [
    "df.columns"
   ]
  },
  {
   "cell_type": "code",
   "execution_count": 15,
   "id": "7c026925",
   "metadata": {
    "execution": {
     "iopub.execute_input": "2025-05-06T19:36:38.721119Z",
     "iopub.status.busy": "2025-05-06T19:36:38.720826Z",
     "iopub.status.idle": "2025-05-06T19:36:38.726202Z",
     "shell.execute_reply": "2025-05-06T19:36:38.725675Z"
    },
    "papermill": {
     "duration": 0.028243,
     "end_time": "2025-05-06T19:36:38.727316",
     "exception": false,
     "start_time": "2025-05-06T19:36:38.699073",
     "status": "completed"
    },
    "tags": []
   },
   "outputs": [
    {
     "data": {
      "text/plain": [
       "2.00000380000722"
      ]
     },
     "execution_count": 15,
     "metadata": {},
     "output_type": "execute_result"
    }
   ],
   "source": [
    "df.loc[:,\"pT\"].min()"
   ]
  },
  {
   "cell_type": "code",
   "execution_count": 16,
   "id": "ad761322",
   "metadata": {
    "execution": {
     "iopub.execute_input": "2025-05-06T19:36:38.770159Z",
     "iopub.status.busy": "2025-05-06T19:36:38.769909Z",
     "iopub.status.idle": "2025-05-06T19:36:38.815984Z",
     "shell.execute_reply": "2025-05-06T19:36:38.815250Z"
    },
    "papermill": {
     "duration": 0.06953,
     "end_time": "2025-05-06T19:36:38.817466",
     "exception": false,
     "start_time": "2025-05-06T19:36:38.747936",
     "status": "completed"
    },
    "tags": []
   },
   "outputs": [],
   "source": [
    "label =df.loc[:,\"pT\"]\n",
    "\n",
    "# Calculate Q1 (25th percentile) and Q3 (75th percentile)\n",
    "Q1 = label.quantile(0.25)\n",
    "Q3 = label.quantile(0.75)\n",
    "\n",
    "# Calculate the IQR (Interquartile Range)\n",
    "IQR = Q3 - Q1"
   ]
  },
  {
   "cell_type": "code",
   "execution_count": 17,
   "id": "920c394b",
   "metadata": {
    "execution": {
     "iopub.execute_input": "2025-05-06T19:36:38.861258Z",
     "iopub.status.busy": "2025-05-06T19:36:38.860996Z",
     "iopub.status.idle": "2025-05-06T19:36:39.532721Z",
     "shell.execute_reply": "2025-05-06T19:36:39.532129Z"
    },
    "papermill": {
     "duration": 0.694752,
     "end_time": "2025-05-06T19:36:39.534064",
     "exception": false,
     "start_time": "2025-05-06T19:36:38.839312",
     "status": "completed"
    },
    "tags": []
   },
   "outputs": [],
   "source": [
    "# Define the acceptable range (1.5 times the IQR below Q1 and above Q3)\n",
    "lower_bound = Q1 - 1.5 * IQR\n",
    "upper_bound = Q3 + 1.5 * IQR\n",
    "\n",
    "# Filter out the outliers\n",
    "filtered_df = df[(label >= lower_bound) & (label <= upper_bound)]\n",
    "filtered_df = filtered_df.reset_index(drop=True)\n",
    "# Extract the indices of the filtered dataset\n",
    "filtered_indices = filtered_df.index.to_numpy()\n",
    "\n",
    "# Split the filtered indices into training and test sets\n",
    "train_idx, test_idx = train_test_split(filtered_indices, test_size=0.2, random_state=1)"
   ]
  },
  {
   "cell_type": "code",
   "execution_count": 18,
   "id": "d5b14ff6",
   "metadata": {
    "execution": {
     "iopub.execute_input": "2025-05-06T19:36:39.577830Z",
     "iopub.status.busy": "2025-05-06T19:36:39.577619Z",
     "iopub.status.idle": "2025-05-06T19:36:40.468008Z",
     "shell.execute_reply": "2025-05-06T19:36:40.467448Z"
    },
    "papermill": {
     "duration": 0.91369,
     "end_time": "2025-05-06T19:36:40.469392",
     "exception": false,
     "start_time": "2025-05-06T19:36:39.555702",
     "status": "completed"
    },
    "tags": []
   },
   "outputs": [],
   "source": [
    "filtered_df.loc[:,\"Phi_0\":] = scaler.fit_transform(filtered_df.loc[:,\"Phi_0\":])"
   ]
  },
  {
   "cell_type": "code",
   "execution_count": 19,
   "id": "898036d8",
   "metadata": {
    "execution": {
     "iopub.execute_input": "2025-05-06T19:36:40.513076Z",
     "iopub.status.busy": "2025-05-06T19:36:40.512877Z",
     "iopub.status.idle": "2025-05-06T19:36:40.520826Z",
     "shell.execute_reply": "2025-05-06T19:36:40.520277Z"
    },
    "papermill": {
     "duration": 0.030509,
     "end_time": "2025-05-06T19:36:40.521802",
     "exception": false,
     "start_time": "2025-05-06T19:36:40.491293",
     "status": "completed"
    },
    "tags": []
   },
   "outputs": [
    {
     "data": {
      "text/html": [
       "<style>#sk-container-id-1 {color: black;background-color: white;}#sk-container-id-1 pre{padding: 0;}#sk-container-id-1 div.sk-toggleable {background-color: white;}#sk-container-id-1 label.sk-toggleable__label {cursor: pointer;display: block;width: 100%;margin-bottom: 0;padding: 0.3em;box-sizing: border-box;text-align: center;}#sk-container-id-1 label.sk-toggleable__label-arrow:before {content: \"▸\";float: left;margin-right: 0.25em;color: #696969;}#sk-container-id-1 label.sk-toggleable__label-arrow:hover:before {color: black;}#sk-container-id-1 div.sk-estimator:hover label.sk-toggleable__label-arrow:before {color: black;}#sk-container-id-1 div.sk-toggleable__content {max-height: 0;max-width: 0;overflow: hidden;text-align: left;background-color: #f0f8ff;}#sk-container-id-1 div.sk-toggleable__content pre {margin: 0.2em;color: black;border-radius: 0.25em;background-color: #f0f8ff;}#sk-container-id-1 input.sk-toggleable__control:checked~div.sk-toggleable__content {max-height: 200px;max-width: 100%;overflow: auto;}#sk-container-id-1 input.sk-toggleable__control:checked~label.sk-toggleable__label-arrow:before {content: \"▾\";}#sk-container-id-1 div.sk-estimator input.sk-toggleable__control:checked~label.sk-toggleable__label {background-color: #d4ebff;}#sk-container-id-1 div.sk-label input.sk-toggleable__control:checked~label.sk-toggleable__label {background-color: #d4ebff;}#sk-container-id-1 input.sk-hidden--visually {border: 0;clip: rect(1px 1px 1px 1px);clip: rect(1px, 1px, 1px, 1px);height: 1px;margin: -1px;overflow: hidden;padding: 0;position: absolute;width: 1px;}#sk-container-id-1 div.sk-estimator {font-family: monospace;background-color: #f0f8ff;border: 1px dotted black;border-radius: 0.25em;box-sizing: border-box;margin-bottom: 0.5em;}#sk-container-id-1 div.sk-estimator:hover {background-color: #d4ebff;}#sk-container-id-1 div.sk-parallel-item::after {content: \"\";width: 100%;border-bottom: 1px solid gray;flex-grow: 1;}#sk-container-id-1 div.sk-label:hover label.sk-toggleable__label {background-color: #d4ebff;}#sk-container-id-1 div.sk-serial::before {content: \"\";position: absolute;border-left: 1px solid gray;box-sizing: border-box;top: 0;bottom: 0;left: 50%;z-index: 0;}#sk-container-id-1 div.sk-serial {display: flex;flex-direction: column;align-items: center;background-color: white;padding-right: 0.2em;padding-left: 0.2em;position: relative;}#sk-container-id-1 div.sk-item {position: relative;z-index: 1;}#sk-container-id-1 div.sk-parallel {display: flex;align-items: stretch;justify-content: center;background-color: white;position: relative;}#sk-container-id-1 div.sk-item::before, #sk-container-id-1 div.sk-parallel-item::before {content: \"\";position: absolute;border-left: 1px solid gray;box-sizing: border-box;top: 0;bottom: 0;left: 50%;z-index: -1;}#sk-container-id-1 div.sk-parallel-item {display: flex;flex-direction: column;z-index: 1;position: relative;background-color: white;}#sk-container-id-1 div.sk-parallel-item:first-child::after {align-self: flex-end;width: 50%;}#sk-container-id-1 div.sk-parallel-item:last-child::after {align-self: flex-start;width: 50%;}#sk-container-id-1 div.sk-parallel-item:only-child::after {width: 0;}#sk-container-id-1 div.sk-dashed-wrapped {border: 1px dashed gray;margin: 0 0.4em 0.5em 0.4em;box-sizing: border-box;padding-bottom: 0.4em;background-color: white;}#sk-container-id-1 div.sk-label label {font-family: monospace;font-weight: bold;display: inline-block;line-height: 1.2em;}#sk-container-id-1 div.sk-label-container {text-align: center;}#sk-container-id-1 div.sk-container {/* jupyter's `normalize.less` sets `[hidden] { display: none; }` but bootstrap.min.css set `[hidden] { display: none !important; }` so we also need the `!important` here to be able to override the default hidden behavior on the sphinx rendered scikit-learn.org. See: https://github.com/scikit-learn/scikit-learn/issues/21755 */display: inline-block !important;position: relative;}#sk-container-id-1 div.sk-text-repr-fallback {display: none;}</style><div id=\"sk-container-id-1\" class=\"sk-top-container\"><div class=\"sk-text-repr-fallback\"><pre>StandardScaler()</pre><b>In a Jupyter environment, please rerun this cell to show the HTML representation or trust the notebook. <br />On GitHub, the HTML representation is unable to render, please try loading this page with nbviewer.org.</b></div><div class=\"sk-container\" hidden><div class=\"sk-item\"><div class=\"sk-estimator sk-toggleable\"><input class=\"sk-toggleable__control sk-hidden--visually\" id=\"sk-estimator-id-1\" type=\"checkbox\" checked><label for=\"sk-estimator-id-1\" class=\"sk-toggleable__label sk-toggleable__label-arrow\">StandardScaler</label><div class=\"sk-toggleable__content\"><pre>StandardScaler()</pre></div></div></div></div></div>"
      ],
      "text/plain": [
       "StandardScaler()"
      ]
     },
     "execution_count": 19,
     "metadata": {},
     "output_type": "execute_result"
    }
   ],
   "source": [
    "scaler"
   ]
  },
  {
   "cell_type": "code",
   "execution_count": 20,
   "id": "a449e8a4",
   "metadata": {
    "execution": {
     "iopub.execute_input": "2025-05-06T19:36:40.564492Z",
     "iopub.status.busy": "2025-05-06T19:36:40.564304Z",
     "iopub.status.idle": "2025-05-06T19:36:40.569327Z",
     "shell.execute_reply": "2025-05-06T19:36:40.568814Z"
    },
    "papermill": {
     "duration": 0.027448,
     "end_time": "2025-05-06T19:36:40.570313",
     "exception": false,
     "start_time": "2025-05-06T19:36:40.542865",
     "status": "completed"
    },
    "tags": []
   },
   "outputs": [
    {
     "data": {
      "text/plain": [
       "142.14014"
      ]
     },
     "execution_count": 20,
     "metadata": {},
     "output_type": "execute_result"
    }
   ],
   "source": [
    "df[\"BendingAngle_0\"].max()"
   ]
  },
  {
   "cell_type": "code",
   "execution_count": 21,
   "id": "bae6bbd7",
   "metadata": {
    "execution": {
     "iopub.execute_input": "2025-05-06T19:36:40.613269Z",
     "iopub.status.busy": "2025-05-06T19:36:40.613070Z",
     "iopub.status.idle": "2025-05-06T19:36:40.617315Z",
     "shell.execute_reply": "2025-05-06T19:36:40.616724Z"
    },
    "papermill": {
     "duration": 0.026941,
     "end_time": "2025-05-06T19:36:40.618389",
     "exception": false,
     "start_time": "2025-05-06T19:36:40.591448",
     "status": "completed"
    },
    "tags": []
   },
   "outputs": [
    {
     "data": {
      "text/plain": [
       "Index(['Unnamed: 0', 'Phi_0', 'Phi_2', 'Phi_3', 'Phi_4', 'Theta_0', 'Theta_2',\n",
       "       'Theta_3', 'Theta_4', 'BendingAngle_0', 'BendingAngle_2',\n",
       "       'BendingAngle_3', 'BendingAngle_4', 'TimeInfo_0', 'TimeInfo_2',\n",
       "       'TimeInfo_3', 'TimeInfo_4', 'RingNumber_0', 'RingNumber_2',\n",
       "       'RingNumber_3', 'RingNumber_4', 'Front_0', 'Front_2', 'Front_3',\n",
       "       'Front_4', 'Mask_0', 'Mask_2', 'Mask_3', 'Mask_4',\n",
       "       'PatternStraightness', 'Zone', 'MedianTheta', 'q/pt', 'PhiAngle',\n",
       "       'EtaAngle', 'pT', 'cos_Phi_0', 'cos_Phi_2', 'cos_Phi_3', 'cos_Phi_4',\n",
       "       'sin_Phi_0', 'sin_Phi_2', 'sin_Phi_3', 'sin_Phi_4', 'Eta_0', 'Eta_2',\n",
       "       'Eta_3', 'Eta_4'],\n",
       "      dtype='object')"
      ]
     },
     "execution_count": 21,
     "metadata": {},
     "output_type": "execute_result"
    }
   ],
   "source": [
    "df.columns"
   ]
  },
  {
   "cell_type": "code",
   "execution_count": 22,
   "id": "9ffe7c75",
   "metadata": {
    "execution": {
     "iopub.execute_input": "2025-05-06T19:36:40.661608Z",
     "iopub.status.busy": "2025-05-06T19:36:40.661432Z",
     "iopub.status.idle": "2025-05-06T19:36:42.955990Z",
     "shell.execute_reply": "2025-05-06T19:36:42.955135Z"
    },
    "papermill": {
     "duration": 2.31765,
     "end_time": "2025-05-06T19:36:42.957227",
     "exception": false,
     "start_time": "2025-05-06T19:36:40.639577",
     "status": "completed"
    },
    "tags": []
   },
   "outputs": [
    {
     "data": {
      "text/html": [
       "<div>\n",
       "<style scoped>\n",
       "    .dataframe tbody tr th:only-of-type {\n",
       "        vertical-align: middle;\n",
       "    }\n",
       "\n",
       "    .dataframe tbody tr th {\n",
       "        vertical-align: top;\n",
       "    }\n",
       "\n",
       "    .dataframe thead th {\n",
       "        text-align: right;\n",
       "    }\n",
       "</style>\n",
       "<table border=\"1\" class=\"dataframe\">\n",
       "  <thead>\n",
       "    <tr style=\"text-align: right;\">\n",
       "      <th></th>\n",
       "      <th>Unnamed: 0</th>\n",
       "      <th>Phi_0</th>\n",
       "      <th>Phi_2</th>\n",
       "      <th>Phi_3</th>\n",
       "      <th>Phi_4</th>\n",
       "      <th>Theta_0</th>\n",
       "      <th>Theta_2</th>\n",
       "      <th>Theta_3</th>\n",
       "      <th>Theta_4</th>\n",
       "      <th>BendingAngle_0</th>\n",
       "      <th>...</th>\n",
       "      <th>cos_Phi_3</th>\n",
       "      <th>cos_Phi_4</th>\n",
       "      <th>sin_Phi_0</th>\n",
       "      <th>sin_Phi_2</th>\n",
       "      <th>sin_Phi_3</th>\n",
       "      <th>sin_Phi_4</th>\n",
       "      <th>Eta_0</th>\n",
       "      <th>Eta_2</th>\n",
       "      <th>Eta_3</th>\n",
       "      <th>Eta_4</th>\n",
       "    </tr>\n",
       "  </thead>\n",
       "  <tbody>\n",
       "    <tr>\n",
       "      <th>count</th>\n",
       "      <td>1.179356e+06</td>\n",
       "      <td>1.179356e+06</td>\n",
       "      <td>1.179356e+06</td>\n",
       "      <td>1.179356e+06</td>\n",
       "      <td>1.179356e+06</td>\n",
       "      <td>1.179356e+06</td>\n",
       "      <td>1.179356e+06</td>\n",
       "      <td>1.179356e+06</td>\n",
       "      <td>1.179356e+06</td>\n",
       "      <td>1.179356e+06</td>\n",
       "      <td>...</td>\n",
       "      <td>1.179356e+06</td>\n",
       "      <td>1.179356e+06</td>\n",
       "      <td>1.179356e+06</td>\n",
       "      <td>1.179356e+06</td>\n",
       "      <td>1.179356e+06</td>\n",
       "      <td>1.179356e+06</td>\n",
       "      <td>1.179356e+06</td>\n",
       "      <td>1.179356e+06</td>\n",
       "      <td>1.179356e+06</td>\n",
       "      <td>1.179356e+06</td>\n",
       "    </tr>\n",
       "    <tr>\n",
       "      <th>mean</th>\n",
       "      <td>5.896775e+05</td>\n",
       "      <td>4.851559e+01</td>\n",
       "      <td>4.851127e+01</td>\n",
       "      <td>4.851076e+01</td>\n",
       "      <td>4.851331e+01</td>\n",
       "      <td>6.195453e+00</td>\n",
       "      <td>5.918753e+00</td>\n",
       "      <td>5.848332e+00</td>\n",
       "      <td>5.881490e+00</td>\n",
       "      <td>5.603115e-02</td>\n",
       "      <td>...</td>\n",
       "      <td>6.309832e-01</td>\n",
       "      <td>6.310189e-01</td>\n",
       "      <td>7.136935e-01</td>\n",
       "      <td>7.134801e-01</td>\n",
       "      <td>7.134018e-01</td>\n",
       "      <td>7.135024e-01</td>\n",
       "      <td>3.040842e+00</td>\n",
       "      <td>3.088888e+00</td>\n",
       "      <td>3.101976e+00</td>\n",
       "      <td>3.094625e+00</td>\n",
       "    </tr>\n",
       "    <tr>\n",
       "      <th>std</th>\n",
       "      <td>3.404509e+05</td>\n",
       "      <td>1.774647e+01</td>\n",
       "      <td>1.779697e+01</td>\n",
       "      <td>1.781670e+01</td>\n",
       "      <td>1.779750e+01</td>\n",
       "      <td>3.011983e+00</td>\n",
       "      <td>2.921076e+00</td>\n",
       "      <td>2.911875e+00</td>\n",
       "      <td>2.906416e+00</td>\n",
       "      <td>1.493805e+01</td>\n",
       "      <td>...</td>\n",
       "      <td>2.280855e-01</td>\n",
       "      <td>2.278805e-01</td>\n",
       "      <td>2.011638e-01</td>\n",
       "      <td>2.019739e-01</td>\n",
       "      <td>2.022254e-01</td>\n",
       "      <td>2.019902e-01</td>\n",
       "      <td>5.143237e-01</td>\n",
       "      <td>5.165048e-01</td>\n",
       "      <td>5.179288e-01</td>\n",
       "      <td>5.145729e-01</td>\n",
       "    </tr>\n",
       "    <tr>\n",
       "      <th>min</th>\n",
       "      <td>0.000000e+00</td>\n",
       "      <td>1.103333e+01</td>\n",
       "      <td>2.400000e+00</td>\n",
       "      <td>2.666667e+00</td>\n",
       "      <td>2.666667e+00</td>\n",
       "      <td>1.425000e+00</td>\n",
       "      <td>1.425000e+00</td>\n",
       "      <td>1.425000e+00</td>\n",
       "      <td>1.710000e+00</td>\n",
       "      <td>-1.329103e+02</td>\n",
       "      <td>...</td>\n",
       "      <td>1.299494e-01</td>\n",
       "      <td>1.299494e-01</td>\n",
       "      <td>1.913801e-01</td>\n",
       "      <td>4.187565e-02</td>\n",
       "      <td>4.652531e-02</td>\n",
       "      <td>4.652531e-02</td>\n",
       "      <td>2.020533e+00</td>\n",
       "      <td>2.099852e+00</td>\n",
       "      <td>2.001618e+00</td>\n",
       "      <td>2.020533e+00</td>\n",
       "    </tr>\n",
       "    <tr>\n",
       "      <th>25%</th>\n",
       "      <td>2.948388e+05</td>\n",
       "      <td>3.371667e+01</td>\n",
       "      <td>3.360000e+01</td>\n",
       "      <td>3.360000e+01</td>\n",
       "      <td>3.360000e+01</td>\n",
       "      <td>3.705000e+00</td>\n",
       "      <td>3.420000e+00</td>\n",
       "      <td>3.420000e+00</td>\n",
       "      <td>3.420000e+00</td>\n",
       "      <td>-1.100000e+01</td>\n",
       "      <td>...</td>\n",
       "      <td>4.550269e-01</td>\n",
       "      <td>4.545088e-01</td>\n",
       "      <td>5.550864e-01</td>\n",
       "      <td>5.533915e-01</td>\n",
       "      <td>5.533915e-01</td>\n",
       "      <td>5.533915e-01</td>\n",
       "      <td>2.627608e+00</td>\n",
       "      <td>2.662817e+00</td>\n",
       "      <td>2.699299e+00</td>\n",
       "      <td>2.662817e+00</td>\n",
       "    </tr>\n",
       "    <tr>\n",
       "      <th>50%</th>\n",
       "      <td>5.896775e+05</td>\n",
       "      <td>4.830000e+01</td>\n",
       "      <td>4.826667e+01</td>\n",
       "      <td>4.826667e+01</td>\n",
       "      <td>4.826667e+01</td>\n",
       "      <td>5.700000e+00</td>\n",
       "      <td>5.415000e+00</td>\n",
       "      <td>5.415000e+00</td>\n",
       "      <td>5.415000e+00</td>\n",
       "      <td>0.000000e+00</td>\n",
       "      <td>...</td>\n",
       "      <td>6.656646e-01</td>\n",
       "      <td>6.656646e-01</td>\n",
       "      <td>7.466382e-01</td>\n",
       "      <td>7.462510e-01</td>\n",
       "      <td>7.462510e-01</td>\n",
       "      <td>7.462510e-01</td>\n",
       "      <td>3.000083e+00</td>\n",
       "      <td>3.051457e+00</td>\n",
       "      <td>3.051457e+00</td>\n",
       "      <td>3.051457e+00</td>\n",
       "    </tr>\n",
       "    <tr>\n",
       "      <th>75%</th>\n",
       "      <td>8.845162e+05</td>\n",
       "      <td>6.326667e+01</td>\n",
       "      <td>6.303333e+01</td>\n",
       "      <td>6.293333e+01</td>\n",
       "      <td>6.296667e+01</td>\n",
       "      <td>8.265000e+00</td>\n",
       "      <td>7.980000e+00</td>\n",
       "      <td>7.695000e+00</td>\n",
       "      <td>7.980000e+00</td>\n",
       "      <td>1.100000e+01</td>\n",
       "      <td>...</td>\n",
       "      <td>8.329212e-01</td>\n",
       "      <td>8.329212e-01</td>\n",
       "      <td>8.931098e-01</td>\n",
       "      <td>8.912705e-01</td>\n",
       "      <td>8.904777e-01</td>\n",
       "      <td>8.907423e-01</td>\n",
       "      <td>3.431342e+00</td>\n",
       "      <td>3.511437e+00</td>\n",
       "      <td>3.511437e+00</td>\n",
       "      <td>3.511437e+00</td>\n",
       "    </tr>\n",
       "    <tr>\n",
       "      <th>max</th>\n",
       "      <td>1.179355e+06</td>\n",
       "      <td>8.311667e+01</td>\n",
       "      <td>8.256667e+01</td>\n",
       "      <td>8.253333e+01</td>\n",
       "      <td>8.253333e+01</td>\n",
       "      <td>1.510500e+01</td>\n",
       "      <td>1.396500e+01</td>\n",
       "      <td>1.539000e+01</td>\n",
       "      <td>1.510500e+01</td>\n",
       "      <td>1.421401e+02</td>\n",
       "      <td>...</td>\n",
       "      <td>9.989171e-01</td>\n",
       "      <td>9.989171e-01</td>\n",
       "      <td>9.927923e-01</td>\n",
       "      <td>9.915961e-01</td>\n",
       "      <td>9.915206e-01</td>\n",
       "      <td>9.915206e-01</td>\n",
       "      <td>4.387151e+00</td>\n",
       "      <td>4.387151e+00</td>\n",
       "      <td>4.387151e+00</td>\n",
       "      <td>4.204807e+00</td>\n",
       "    </tr>\n",
       "  </tbody>\n",
       "</table>\n",
       "<p>8 rows × 48 columns</p>\n",
       "</div>"
      ],
      "text/plain": [
       "         Unnamed: 0         Phi_0         Phi_2         Phi_3         Phi_4  \\\n",
       "count  1.179356e+06  1.179356e+06  1.179356e+06  1.179356e+06  1.179356e+06   \n",
       "mean   5.896775e+05  4.851559e+01  4.851127e+01  4.851076e+01  4.851331e+01   \n",
       "std    3.404509e+05  1.774647e+01  1.779697e+01  1.781670e+01  1.779750e+01   \n",
       "min    0.000000e+00  1.103333e+01  2.400000e+00  2.666667e+00  2.666667e+00   \n",
       "25%    2.948388e+05  3.371667e+01  3.360000e+01  3.360000e+01  3.360000e+01   \n",
       "50%    5.896775e+05  4.830000e+01  4.826667e+01  4.826667e+01  4.826667e+01   \n",
       "75%    8.845162e+05  6.326667e+01  6.303333e+01  6.293333e+01  6.296667e+01   \n",
       "max    1.179355e+06  8.311667e+01  8.256667e+01  8.253333e+01  8.253333e+01   \n",
       "\n",
       "            Theta_0       Theta_2       Theta_3       Theta_4  BendingAngle_0  \\\n",
       "count  1.179356e+06  1.179356e+06  1.179356e+06  1.179356e+06    1.179356e+06   \n",
       "mean   6.195453e+00  5.918753e+00  5.848332e+00  5.881490e+00    5.603115e-02   \n",
       "std    3.011983e+00  2.921076e+00  2.911875e+00  2.906416e+00    1.493805e+01   \n",
       "min    1.425000e+00  1.425000e+00  1.425000e+00  1.710000e+00   -1.329103e+02   \n",
       "25%    3.705000e+00  3.420000e+00  3.420000e+00  3.420000e+00   -1.100000e+01   \n",
       "50%    5.700000e+00  5.415000e+00  5.415000e+00  5.415000e+00    0.000000e+00   \n",
       "75%    8.265000e+00  7.980000e+00  7.695000e+00  7.980000e+00    1.100000e+01   \n",
       "max    1.510500e+01  1.396500e+01  1.539000e+01  1.510500e+01    1.421401e+02   \n",
       "\n",
       "       ...     cos_Phi_3     cos_Phi_4     sin_Phi_0     sin_Phi_2  \\\n",
       "count  ...  1.179356e+06  1.179356e+06  1.179356e+06  1.179356e+06   \n",
       "mean   ...  6.309832e-01  6.310189e-01  7.136935e-01  7.134801e-01   \n",
       "std    ...  2.280855e-01  2.278805e-01  2.011638e-01  2.019739e-01   \n",
       "min    ...  1.299494e-01  1.299494e-01  1.913801e-01  4.187565e-02   \n",
       "25%    ...  4.550269e-01  4.545088e-01  5.550864e-01  5.533915e-01   \n",
       "50%    ...  6.656646e-01  6.656646e-01  7.466382e-01  7.462510e-01   \n",
       "75%    ...  8.329212e-01  8.329212e-01  8.931098e-01  8.912705e-01   \n",
       "max    ...  9.989171e-01  9.989171e-01  9.927923e-01  9.915961e-01   \n",
       "\n",
       "          sin_Phi_3     sin_Phi_4         Eta_0         Eta_2         Eta_3  \\\n",
       "count  1.179356e+06  1.179356e+06  1.179356e+06  1.179356e+06  1.179356e+06   \n",
       "mean   7.134018e-01  7.135024e-01  3.040842e+00  3.088888e+00  3.101976e+00   \n",
       "std    2.022254e-01  2.019902e-01  5.143237e-01  5.165048e-01  5.179288e-01   \n",
       "min    4.652531e-02  4.652531e-02  2.020533e+00  2.099852e+00  2.001618e+00   \n",
       "25%    5.533915e-01  5.533915e-01  2.627608e+00  2.662817e+00  2.699299e+00   \n",
       "50%    7.462510e-01  7.462510e-01  3.000083e+00  3.051457e+00  3.051457e+00   \n",
       "75%    8.904777e-01  8.907423e-01  3.431342e+00  3.511437e+00  3.511437e+00   \n",
       "max    9.915206e-01  9.915206e-01  4.387151e+00  4.387151e+00  4.387151e+00   \n",
       "\n",
       "              Eta_4  \n",
       "count  1.179356e+06  \n",
       "mean   3.094625e+00  \n",
       "std    5.145729e-01  \n",
       "min    2.020533e+00  \n",
       "25%    2.662817e+00  \n",
       "50%    3.051457e+00  \n",
       "75%    3.511437e+00  \n",
       "max    4.204807e+00  \n",
       "\n",
       "[8 rows x 48 columns]"
      ]
     },
     "execution_count": 22,
     "metadata": {},
     "output_type": "execute_result"
    }
   ],
   "source": [
    "df.describe()"
   ]
  },
  {
   "cell_type": "markdown",
   "id": "4e154e37",
   "metadata": {
    "papermill": {
     "duration": 0.021174,
     "end_time": "2025-05-06T19:36:43.000609",
     "exception": false,
     "start_time": "2025-05-06T19:36:42.979435",
     "status": "completed"
    },
    "tags": []
   },
   "source": [
    "**We can see that the std dev and the mean has been transformed to 1 and 0 respectively**"
   ]
  },
  {
   "cell_type": "code",
   "execution_count": 23,
   "id": "1a84f6a0",
   "metadata": {
    "execution": {
     "iopub.execute_input": "2025-05-06T19:36:43.043752Z",
     "iopub.status.busy": "2025-05-06T19:36:43.043517Z",
     "iopub.status.idle": "2025-05-06T19:36:43.047988Z",
     "shell.execute_reply": "2025-05-06T19:36:43.047455Z"
    },
    "papermill": {
     "duration": 0.027251,
     "end_time": "2025-05-06T19:36:43.048956",
     "exception": false,
     "start_time": "2025-05-06T19:36:43.021705",
     "status": "completed"
    },
    "tags": []
   },
   "outputs": [
    {
     "data": {
      "text/plain": [
       "['Phi_0',\n",
       " 'Phi_2',\n",
       " 'Phi_3',\n",
       " 'Phi_4',\n",
       " 'Theta_0',\n",
       " 'Theta_2',\n",
       " 'Theta_3',\n",
       " 'Theta_4',\n",
       " 'BendingAngle_0',\n",
       " 'BendingAngle_2',\n",
       " 'BendingAngle_3',\n",
       " 'BendingAngle_4',\n",
       " 'TimeInfo_0',\n",
       " 'TimeInfo_2',\n",
       " 'TimeInfo_3',\n",
       " 'TimeInfo_4',\n",
       " 'RingNumber_0',\n",
       " 'RingNumber_2',\n",
       " 'RingNumber_3',\n",
       " 'RingNumber_4',\n",
       " 'Front_0',\n",
       " 'Front_2',\n",
       " 'Front_3',\n",
       " 'Front_4',\n",
       " 'Mask_0',\n",
       " 'Mask_2',\n",
       " 'Mask_3',\n",
       " 'Mask_4',\n",
       " 'PatternStraightness',\n",
       " 'Zone',\n",
       " 'MedianTheta',\n",
       " 'q/pt',\n",
       " 'PhiAngle',\n",
       " 'EtaAngle',\n",
       " 'pT',\n",
       " 'cos_Phi_0',\n",
       " 'cos_Phi_2',\n",
       " 'cos_Phi_3',\n",
       " 'cos_Phi_4',\n",
       " 'sin_Phi_0',\n",
       " 'sin_Phi_2',\n",
       " 'sin_Phi_3',\n",
       " 'sin_Phi_4',\n",
       " 'Eta_0',\n",
       " 'Eta_2',\n",
       " 'Eta_3',\n",
       " 'Eta_4']"
      ]
     },
     "execution_count": 23,
     "metadata": {},
     "output_type": "execute_result"
    }
   ],
   "source": [
    "features = list(df.columns)[1:50]\n",
    "features"
   ]
  },
  {
   "cell_type": "code",
   "execution_count": 24,
   "id": "3780eec6",
   "metadata": {
    "execution": {
     "iopub.execute_input": "2025-05-06T19:36:43.092280Z",
     "iopub.status.busy": "2025-05-06T19:36:43.092044Z",
     "iopub.status.idle": "2025-05-06T19:36:43.096662Z",
     "shell.execute_reply": "2025-05-06T19:36:43.096152Z"
    },
    "papermill": {
     "duration": 0.027458,
     "end_time": "2025-05-06T19:36:43.097682",
     "exception": false,
     "start_time": "2025-05-06T19:36:43.070224",
     "status": "completed"
    },
    "tags": []
   },
   "outputs": [
    {
     "data": {
      "text/plain": [
       "['BendingAngle_0',\n",
       " 'BendingAngle_2',\n",
       " 'BendingAngle_3',\n",
       " 'BendingAngle_4',\n",
       " 'cos_Phi_0',\n",
       " 'cos_Phi_2',\n",
       " 'cos_Phi_3',\n",
       " 'cos_Phi_4',\n",
       " 'sin_Phi_0',\n",
       " 'sin_Phi_2',\n",
       " 'sin_Phi_3',\n",
       " 'sin_Phi_4',\n",
       " 'Eta_0',\n",
       " 'Eta_2',\n",
       " 'Eta_3',\n",
       " 'Eta_4']"
      ]
     },
     "execution_count": 24,
     "metadata": {},
     "output_type": "execute_result"
    }
   ],
   "source": [
    "selected_features = [f for f in features if any(keyword in f for keyword in ['cos', 'sin', 'Eta_', 'BendingAngle'])]\n",
    "\n",
    "selected_features"
   ]
  },
  {
   "cell_type": "code",
   "execution_count": 25,
   "id": "db6d6cc0",
   "metadata": {
    "execution": {
     "iopub.execute_input": "2025-05-06T19:36:43.141384Z",
     "iopub.status.busy": "2025-05-06T19:36:43.141003Z",
     "iopub.status.idle": "2025-05-06T19:36:43.144026Z",
     "shell.execute_reply": "2025-05-06T19:36:43.143352Z"
    },
    "papermill": {
     "duration": 0.026104,
     "end_time": "2025-05-06T19:36:43.145157",
     "exception": false,
     "start_time": "2025-05-06T19:36:43.119053",
     "status": "completed"
    },
    "tags": []
   },
   "outputs": [],
   "source": [
    "# Lets split the data into train and the test splits"
   ]
  },
  {
   "cell_type": "code",
   "execution_count": 26,
   "id": "8a79779b",
   "metadata": {
    "execution": {
     "iopub.execute_input": "2025-05-06T19:36:43.188365Z",
     "iopub.status.busy": "2025-05-06T19:36:43.188162Z",
     "iopub.status.idle": "2025-05-06T19:36:43.192361Z",
     "shell.execute_reply": "2025-05-06T19:36:43.191682Z"
    },
    "papermill": {
     "duration": 0.027017,
     "end_time": "2025-05-06T19:36:43.193525",
     "exception": false,
     "start_time": "2025-05-06T19:36:43.166508",
     "status": "completed"
    },
    "tags": []
   },
   "outputs": [
    {
     "data": {
      "text/plain": [
       "0.5114059620969259"
      ]
     },
     "execution_count": 26,
     "metadata": {},
     "output_type": "execute_result"
    }
   ],
   "source": [
    "scaler.scale_[46]"
   ]
  },
  {
   "cell_type": "code",
   "execution_count": 27,
   "id": "418a98f5",
   "metadata": {
    "execution": {
     "iopub.execute_input": "2025-05-06T19:36:43.236688Z",
     "iopub.status.busy": "2025-05-06T19:36:43.236483Z",
     "iopub.status.idle": "2025-05-06T19:36:43.240722Z",
     "shell.execute_reply": "2025-05-06T19:36:43.240026Z"
    },
    "papermill": {
     "duration": 0.026941,
     "end_time": "2025-05-06T19:36:43.241727",
     "exception": false,
     "start_time": "2025-05-06T19:36:43.214786",
     "status": "completed"
    },
    "tags": []
   },
   "outputs": [
    {
     "data": {
      "text/plain": [
       "3.9377537017281714"
      ]
     },
     "execution_count": 27,
     "metadata": {},
     "output_type": "execute_result"
    }
   ],
   "source": [
    "scaler.scale_[34]"
   ]
  },
  {
   "cell_type": "code",
   "execution_count": 28,
   "id": "24eddede",
   "metadata": {
    "execution": {
     "iopub.execute_input": "2025-05-06T19:36:43.286038Z",
     "iopub.status.busy": "2025-05-06T19:36:43.285340Z",
     "iopub.status.idle": "2025-05-06T19:36:43.334891Z",
     "shell.execute_reply": "2025-05-06T19:36:43.333978Z"
    },
    "papermill": {
     "duration": 0.072994,
     "end_time": "2025-05-06T19:36:43.336207",
     "exception": false,
     "start_time": "2025-05-06T19:36:43.263213",
     "status": "completed"
    },
    "tags": []
   },
   "outputs": [
    {
     "name": "stdout",
     "output_type": "stream",
     "text": [
      "Data shape: (1029592, 16)\n",
      "(1029592,)\n",
      "Len train: 823673, Len test: 205919\n",
      "Num. features: 16\n"
     ]
    }
   ],
   "source": [
    "# Extract features and labels\n",
    "x_data = filtered_df[selected_features].to_numpy()\n",
    "label = filtered_df['pT'].to_numpy()\n",
    "\n",
    "# Ensure the shapes of x_data and label\n",
    "assert x_data.shape[0] == label.shape[0], \"Mismatch between x_data and label sizes\"\n",
    "\n",
    "# Print the new data shape and label shape\n",
    "print('Data shape: ' + str(x_data.shape))\n",
    "print(label.shape)\n",
    "print('Len train: ' + str(len(train_idx)) + ', Len test: ' + str(len(test_idx)))\n",
    "print('Num. features: ' + str(x_data.shape[-1]))"
   ]
  },
  {
   "cell_type": "markdown",
   "id": "5a810c59",
   "metadata": {
    "papermill": {
     "duration": 0.022705,
     "end_time": "2025-05-06T19:36:43.382733",
     "exception": false,
     "start_time": "2025-05-06T19:36:43.360028",
     "status": "completed"
    },
    "tags": []
   },
   "source": [
    "# Dataset Class and Data Loaders"
   ]
  },
  {
   "cell_type": "code",
   "execution_count": 29,
   "id": "672fd240",
   "metadata": {
    "execution": {
     "iopub.execute_input": "2025-05-06T19:36:43.429946Z",
     "iopub.status.busy": "2025-05-06T19:36:43.429386Z",
     "iopub.status.idle": "2025-05-06T19:36:43.432813Z",
     "shell.execute_reply": "2025-05-06T19:36:43.432113Z"
    },
    "papermill": {
     "duration": 0.028682,
     "end_time": "2025-05-06T19:36:43.433976",
     "exception": false,
     "start_time": "2025-05-06T19:36:43.405294",
     "status": "completed"
    },
    "tags": []
   },
   "outputs": [],
   "source": [
    "# x_data.shape"
   ]
  },
  {
   "cell_type": "code",
   "execution_count": 30,
   "id": "2509a270",
   "metadata": {
    "execution": {
     "iopub.execute_input": "2025-05-06T19:36:43.478862Z",
     "iopub.status.busy": "2025-05-06T19:36:43.478310Z",
     "iopub.status.idle": "2025-05-06T19:36:43.481633Z",
     "shell.execute_reply": "2025-05-06T19:36:43.480931Z"
    },
    "papermill": {
     "duration": 0.02715,
     "end_time": "2025-05-06T19:36:43.482752",
     "exception": false,
     "start_time": "2025-05-06T19:36:43.455602",
     "status": "completed"
    },
    "tags": []
   },
   "outputs": [],
   "source": [
    "import itertools"
   ]
  },
  {
   "cell_type": "code",
   "execution_count": 31,
   "id": "ddcae005",
   "metadata": {
    "execution": {
     "iopub.execute_input": "2025-05-06T19:36:43.527319Z",
     "iopub.status.busy": "2025-05-06T19:36:43.527115Z",
     "iopub.status.idle": "2025-05-06T19:36:43.530296Z",
     "shell.execute_reply": "2025-05-06T19:36:43.529801Z"
    },
    "papermill": {
     "duration": 0.026437,
     "end_time": "2025-05-06T19:36:43.531306",
     "exception": false,
     "start_time": "2025-05-06T19:36:43.504869",
     "status": "completed"
    },
    "tags": []
   },
   "outputs": [],
   "source": [
    "import torch\n",
    "import itertools\n",
    "import numpy as np\n",
    "from torch_geometric.data import Data"
   ]
  },
  {
   "cell_type": "code",
   "execution_count": 32,
   "id": "f76e55c9",
   "metadata": {
    "execution": {
     "iopub.execute_input": "2025-05-06T19:36:43.575362Z",
     "iopub.status.busy": "2025-05-06T19:36:43.575144Z",
     "iopub.status.idle": "2025-05-06T19:36:43.578361Z",
     "shell.execute_reply": "2025-05-06T19:36:43.577854Z"
    },
    "papermill": {
     "duration": 0.026377,
     "end_time": "2025-05-06T19:36:43.579411",
     "exception": false,
     "start_time": "2025-05-06T19:36:43.553034",
     "status": "completed"
    },
    "tags": []
   },
   "outputs": [],
   "source": [
    "# Function to calculate eta from theta\n",
    "def eta_from_theta(theta):\n",
    "    return -np.log(np.tan(theta/2))"
   ]
  },
  {
   "cell_type": "code",
   "execution_count": 33,
   "id": "b2ea402f",
   "metadata": {
    "execution": {
     "iopub.execute_input": "2025-05-06T19:36:43.623297Z",
     "iopub.status.busy": "2025-05-06T19:36:43.623054Z",
     "iopub.status.idle": "2025-05-06T19:36:43.626495Z",
     "shell.execute_reply": "2025-05-06T19:36:43.625824Z"
    },
    "papermill": {
     "duration": 0.02662,
     "end_time": "2025-05-06T19:36:43.627594",
     "exception": false,
     "start_time": "2025-05-06T19:36:43.600974",
     "status": "completed"
    },
    "tags": []
   },
   "outputs": [],
   "source": [
    "def connect_edges(sin_phi1, sin_phi2,  cos_phi1, cos_phi2, eta1, eta2):\n",
    "    \n",
    "    \n",
    "    return [sin_phi2 - sin_phi1, \n",
    "                         cos_phi2 - cos_phi1, \n",
    "                         eta2 - eta1]"
   ]
  },
  {
   "cell_type": "code",
   "execution_count": 34,
   "id": "90517548",
   "metadata": {
    "execution": {
     "iopub.execute_input": "2025-05-06T19:36:43.671511Z",
     "iopub.status.busy": "2025-05-06T19:36:43.671312Z",
     "iopub.status.idle": "2025-05-06T19:36:43.675027Z",
     "shell.execute_reply": "2025-05-06T19:36:43.674382Z"
    },
    "papermill": {
     "duration": 0.02719,
     "end_time": "2025-05-06T19:36:43.676129",
     "exception": false,
     "start_time": "2025-05-06T19:36:43.648939",
     "status": "completed"
    },
    "tags": []
   },
   "outputs": [],
   "source": [
    "edge_index = []\n",
    "\n",
    "# # Loop through each possible pair of nodes (i, j)\n",
    "# for i in range(7):  # Nodes 0 to 6\n",
    "#     for j in range(7):  # Nodes 0 to 6\n",
    "#         if i != j:  # Avoid self-loops unless you want them\n",
    "#             edge_index.append((i, j)) = []\n",
    "\n",
    "# Loop through each possible pair of nodes (i, j)\n",
    "for i in range(4):  # Nodes 0 to 6\n",
    "    for j in range(4):  # Nodes 0 to 6\n",
    "        if i != j:  # Avoid self-loops unless you want them\n",
    "            edge_index.append((i, j))"
   ]
  },
  {
   "cell_type": "code",
   "execution_count": 35,
   "id": "5696f594",
   "metadata": {
    "execution": {
     "iopub.execute_input": "2025-05-06T19:36:43.720883Z",
     "iopub.status.busy": "2025-05-06T19:36:43.720629Z",
     "iopub.status.idle": "2025-05-06T19:36:43.724981Z",
     "shell.execute_reply": "2025-05-06T19:36:43.724328Z"
    },
    "papermill": {
     "duration": 0.028543,
     "end_time": "2025-05-06T19:36:43.726163",
     "exception": false,
     "start_time": "2025-05-06T19:36:43.697620",
     "status": "completed"
    },
    "tags": []
   },
   "outputs": [
    {
     "data": {
      "text/plain": [
       "[(0, 1),\n",
       " (0, 2),\n",
       " (0, 3),\n",
       " (1, 0),\n",
       " (1, 2),\n",
       " (1, 3),\n",
       " (2, 0),\n",
       " (2, 1),\n",
       " (2, 3),\n",
       " (3, 0),\n",
       " (3, 1),\n",
       " (3, 2)]"
      ]
     },
     "execution_count": 35,
     "metadata": {},
     "output_type": "execute_result"
    }
   ],
   "source": [
    "edge_index"
   ]
  },
  {
   "cell_type": "code",
   "execution_count": 36,
   "id": "aea59ecd",
   "metadata": {
    "execution": {
     "iopub.execute_input": "2025-05-06T19:36:43.770123Z",
     "iopub.status.busy": "2025-05-06T19:36:43.769921Z",
     "iopub.status.idle": "2025-05-06T19:36:43.775974Z",
     "shell.execute_reply": "2025-05-06T19:36:43.775459Z"
    },
    "papermill": {
     "duration": 0.029316,
     "end_time": "2025-05-06T19:36:43.777072",
     "exception": false,
     "start_time": "2025-05-06T19:36:43.747756",
     "status": "completed"
    },
    "tags": []
   },
   "outputs": [
    {
     "data": {
      "text/plain": [
       "(-1.5903115460911603, 2.9912255322219155)"
      ]
     },
     "execution_count": 36,
     "metadata": {},
     "output_type": "execute_result"
    }
   ],
   "source": [
    "# for i, j in edge_index:\n",
    "#     print(i,j)\n",
    "\n",
    "filtered_df['Theta_0'].min(), filtered_df['Theta_0'].max()"
   ]
  },
  {
   "cell_type": "code",
   "execution_count": 37,
   "id": "e769ac14",
   "metadata": {
    "execution": {
     "iopub.execute_input": "2025-05-06T19:36:43.821288Z",
     "iopub.status.busy": "2025-05-06T19:36:43.821074Z",
     "iopub.status.idle": "2025-05-06T19:36:43.829617Z",
     "shell.execute_reply": "2025-05-06T19:36:43.829139Z"
    },
    "papermill": {
     "duration": 0.031609,
     "end_time": "2025-05-06T19:36:43.830602",
     "exception": false,
     "start_time": "2025-05-06T19:36:43.798993",
     "status": "completed"
    },
    "tags": []
   },
   "outputs": [],
   "source": [
    "import numpy as np\n",
    "import torch\n",
    "from torch.utils.data import Dataset\n",
    "from torch_geometric.data import Data\n",
    "import itertools\n",
    "\n",
    "class Graph_dataset(Dataset):\n",
    "    def __init__(self, dataset, label, edge_index, indices, transform=None):\n",
    "        self.transform = transform\n",
    "        self.data = dataset\n",
    "        self.edge_index = torch.tensor(edge_index, dtype=torch.long).t().contiguous()  # Ensure correct shape\n",
    "        self.indices = indices\n",
    "        self.label = label\n",
    "    \n",
    "    def __getitem__(self, idx):\n",
    "        return self.convert_to_graph(self.indices[idx])\n",
    "    \n",
    "    def __len__(self):\n",
    "        return len(self.indices)\n",
    "    \n",
    "    def convert_to_graph(self, i):\n",
    "        # Extract row data for the current index\n",
    "        row = self.data.iloc[i]\n",
    "        \n",
    "        # Extract features\n",
    "        sin_phi_values = torch.tensor(row[['sin_Phi_0', 'sin_Phi_2', 'sin_Phi_3', 'sin_Phi_4']].values, dtype=torch.float)\n",
    "        cos_phi_values = torch.tensor(row[['cos_Phi_0', 'cos_Phi_2', 'cos_Phi_3', 'cos_Phi_4']].values, dtype=torch.float)\n",
    "        eta_values = torch.tensor(row[['Eta_0', 'Eta_2', 'Eta_3', 'Eta_4']].values, dtype=torch.float)\n",
    "        bend_angles = torch.tensor(row[['BendingAngle_0', 'BendingAngle_2', 'BendingAngle_3', 'BendingAngle_4']].values, dtype=torch.float)\n",
    "\n",
    "        # Create node features (4 nodes, 1 feature per node)\n",
    "        node_features = bend_angles.unsqueeze(1)  # Add dimension for feature\n",
    "  \n",
    "        edge_features = []\n",
    "        num_nodes = len(bend_angles)\n",
    "        \n",
    "        for k, j in itertools.permutations(range(num_nodes), 2):\n",
    "            sin_phi1, cos_phi1, eta1 = sin_phi_values[k].item(), cos_phi_values[k].item() ,  eta_values[k].item()\n",
    "            sin_phi2, cos_phi2, eta2 = sin_phi_values[j].item(), cos_phi_values[j].item() ,  eta_values[j].item()\n",
    "            \n",
    "            edge_feat = connect_edges(sin_phi1, sin_phi2,  cos_phi1, cos_phi2, eta1, eta2)\n",
    "            edge_features.append(edge_feat)\n",
    "        \n",
    "        edge_features = torch.tensor(edge_features, dtype=torch.float)  # Ensure correct dtype and shape\n",
    "\n",
    "        # Ensure edge_index and edge_attr have correct dimensions\n",
    "        assert edge_features.size(1) == 3, \"Edge features should have 3 dimensions\"\n",
    "        assert edge_features.size(0) == self.edge_index.size(1), \"Number of edges should match edge features\"\n",
    "        \n",
    "        # Create the graph data object\n",
    "        data = Data(\n",
    "            x=node_features, \n",
    "            edge_index=self.edge_index, \n",
    "            edge_attr=edge_features,\n",
    "            y=torch.tensor(self.label[i], dtype=torch.float)\n",
    "        )\n",
    "        \n",
    "        return data\n"
   ]
  },
  {
   "cell_type": "code",
   "execution_count": 38,
   "id": "720c5c65",
   "metadata": {
    "execution": {
     "iopub.execute_input": "2025-05-06T19:36:43.875291Z",
     "iopub.status.busy": "2025-05-06T19:36:43.875057Z",
     "iopub.status.idle": "2025-05-06T19:36:43.879272Z",
     "shell.execute_reply": "2025-05-06T19:36:43.878766Z"
    },
    "papermill": {
     "duration": 0.027939,
     "end_time": "2025-05-06T19:36:43.880346",
     "exception": false,
     "start_time": "2025-05-06T19:36:43.852407",
     "status": "completed"
    },
    "tags": []
   },
   "outputs": [
    {
     "data": {
      "text/plain": [
       "array([693515, 275177, 215047, ..., 470924, 491755, 128037])"
      ]
     },
     "execution_count": 38,
     "metadata": {},
     "output_type": "execute_result"
    }
   ],
   "source": [
    "train_idx"
   ]
  },
  {
   "cell_type": "code",
   "execution_count": 39,
   "id": "85860654",
   "metadata": {
    "execution": {
     "iopub.execute_input": "2025-05-06T19:36:43.925711Z",
     "iopub.status.busy": "2025-05-06T19:36:43.925432Z",
     "iopub.status.idle": "2025-05-06T19:36:43.962919Z",
     "shell.execute_reply": "2025-05-06T19:36:43.962404Z"
    },
    "papermill": {
     "duration": 0.061627,
     "end_time": "2025-05-06T19:36:43.964007",
     "exception": false,
     "start_time": "2025-05-06T19:36:43.902380",
     "status": "completed"
    },
    "tags": []
   },
   "outputs": [
    {
     "data": {
      "text/plain": [
       "Data(x=[4, 1], edge_index=[2, 12], edge_attr=[12, 3], y=-0.6552883386611938)"
      ]
     },
     "execution_count": 39,
     "metadata": {},
     "output_type": "execute_result"
    }
   ],
   "source": [
    "train_dataset = Graph_dataset(filtered_df, label, edge_index, train_idx)\n",
    "next(iter(train_dataset))"
   ]
  },
  {
   "cell_type": "code",
   "execution_count": 40,
   "id": "9bf07798",
   "metadata": {
    "execution": {
     "iopub.execute_input": "2025-05-06T19:36:44.007874Z",
     "iopub.status.busy": "2025-05-06T19:36:44.007669Z",
     "iopub.status.idle": "2025-05-06T19:36:44.728228Z",
     "shell.execute_reply": "2025-05-06T19:36:44.727418Z"
    },
    "papermill": {
     "duration": 0.744048,
     "end_time": "2025-05-06T19:36:44.729677",
     "exception": false,
     "start_time": "2025-05-06T19:36:43.985629",
     "status": "completed"
    },
    "tags": []
   },
   "outputs": [],
   "source": [
    "import networkx as nx\n",
    "import matplotlib.pyplot as plt\n",
    "import random"
   ]
  },
  {
   "cell_type": "code",
   "execution_count": 41,
   "id": "acfb041b",
   "metadata": {
    "execution": {
     "iopub.execute_input": "2025-05-06T19:36:44.776544Z",
     "iopub.status.busy": "2025-05-06T19:36:44.775601Z",
     "iopub.status.idle": "2025-05-06T19:36:44.957779Z",
     "shell.execute_reply": "2025-05-06T19:36:44.957025Z"
    },
    "papermill": {
     "duration": 0.206391,
     "end_time": "2025-05-06T19:36:44.959045",
     "exception": false,
     "start_time": "2025-05-06T19:36:44.752654",
     "status": "completed"
    },
    "tags": []
   },
   "outputs": [
    {
     "data": {
      "image/png": "[encoded data removed]",
      "text/plain": [
       "<Figure size 640x480 with 1 Axes>"
      ]
     },
     "metadata": {},
     "output_type": "display_data"
    }
   ],
   "source": [
    "def plot_graph(data):\n",
    "    G = nx.Graph()\n",
    "    num_nodes = data.x.shape[0]\n",
    "    G.add_nodes_from(range(num_nodes))\n",
    "    edge_index = data.edge_index.numpy()\n",
    "    edges = list(zip(edge_index[0], edge_index[1]))\n",
    "    G.add_edges_from(edges)\n",
    "    \n",
    "    pos = nx.spring_layout(G)\n",
    "    nx.draw(G, pos, with_labels=True, node_color='skyblue', node_size=700, edge_color='gray')\n",
    "    plt.show()\n",
    "\n",
    "\n",
    "for idx in [0]:\n",
    "    graph_data = train_dataset[idx]\n",
    "    plot_graph(graph_data)"
   ]
  },
  {
   "cell_type": "markdown",
   "id": "246bc8f6",
   "metadata": {
    "papermill": {
     "duration": 0.022091,
     "end_time": "2025-05-06T19:36:45.004495",
     "exception": false,
     "start_time": "2025-05-06T19:36:44.982404",
     "status": "completed"
    },
    "tags": []
   },
   "source": [
    "**Yes we wanted the fully connected graph**"
   ]
  },
  {
   "cell_type": "code",
   "execution_count": 42,
   "id": "f48865d0",
   "metadata": {
    "execution": {
     "iopub.execute_input": "2025-05-06T19:36:45.050137Z",
     "iopub.status.busy": "2025-05-06T19:36:45.049871Z",
     "iopub.status.idle": "2025-05-06T19:36:45.054762Z",
     "shell.execute_reply": "2025-05-06T19:36:45.054030Z"
    },
    "papermill": {
     "duration": 0.02919,
     "end_time": "2025-05-06T19:36:45.055925",
     "exception": false,
     "start_time": "2025-05-06T19:36:45.026735",
     "status": "completed"
    },
    "tags": []
   },
   "outputs": [],
   "source": [
    "train_loader = DataLoader(Graph_dataset(filtered_df, label, edge_index , train_idx), batch_size=1024)\n",
    "test_loader = DataLoader(Graph_dataset(filtered_df, label, edge_index , test_idx), batch_size=1024)"
   ]
  },
  {
   "cell_type": "code",
   "execution_count": 43,
   "id": "cb9655a9",
   "metadata": {
    "execution": {
     "iopub.execute_input": "2025-05-06T19:36:45.101314Z",
     "iopub.status.busy": "2025-05-06T19:36:45.101036Z",
     "iopub.status.idle": "2025-05-06T19:36:46.683070Z",
     "shell.execute_reply": "2025-05-06T19:36:46.682394Z"
    },
    "papermill": {
     "duration": 1.60603,
     "end_time": "2025-05-06T19:36:46.684288",
     "exception": false,
     "start_time": "2025-05-06T19:36:45.078258",
     "status": "completed"
    },
    "tags": []
   },
   "outputs": [
    {
     "data": {
      "text/plain": [
       "DataBatch(x=[4096, 1], edge_index=[2, 12288], edge_attr=[12288, 3], y=[1024], batch=[4096], ptr=[1025])"
      ]
     },
     "execution_count": 43,
     "metadata": {},
     "output_type": "execute_result"
    }
   ],
   "source": [
    "next(iter(train_loader))"
   ]
  },
  {
   "cell_type": "markdown",
   "id": "37236a5e",
   "metadata": {
    "papermill": {
     "duration": 0.022802,
     "end_time": "2025-05-06T19:36:46.731035",
     "exception": false,
     "start_time": "2025-05-06T19:36:46.708233",
     "status": "completed"
    },
    "tags": []
   },
   "source": [
    "**We are all set with the dataset and the dataloader**"
   ]
  },
  {
   "cell_type": "markdown",
   "id": "df6dcbe0",
   "metadata": {
    "papermill": {
     "duration": 0.022148,
     "end_time": "2025-05-06T19:36:46.775869",
     "exception": false,
     "start_time": "2025-05-06T19:36:46.753721",
     "status": "completed"
    },
    "tags": []
   },
   "source": [
    "# Lets set the Model"
   ]
  },
  {
   "cell_type": "code",
   "execution_count": 44,
   "id": "b00c53b4",
   "metadata": {
    "execution": {
     "iopub.execute_input": "2025-05-06T19:36:46.821607Z",
     "iopub.status.busy": "2025-05-06T19:36:46.821366Z",
     "iopub.status.idle": "2025-05-06T19:36:46.825360Z",
     "shell.execute_reply": "2025-05-06T19:36:46.824645Z"
    },
    "papermill": {
     "duration": 0.028488,
     "end_time": "2025-05-06T19:36:46.826478",
     "exception": false,
     "start_time": "2025-05-06T19:36:46.797990",
     "status": "completed"
    },
    "tags": []
   },
   "outputs": [],
   "source": [
    "from torch_geometric.nn import GCNConv, GATConv, SAGEConv\n",
    "from torch_geometric.utils import to_dense_batch\n",
    "import torch\n",
    "import torch.nn as nn\n",
    "import torch.nn.functional as F"
   ]
  },
  {
   "cell_type": "code",
   "execution_count": 45,
   "id": "98dd8c3a",
   "metadata": {
    "execution": {
     "iopub.execute_input": "2025-05-06T19:36:46.874719Z",
     "iopub.status.busy": "2025-05-06T19:36:46.874463Z",
     "iopub.status.idle": "2025-05-06T19:36:46.878315Z",
     "shell.execute_reply": "2025-05-06T19:36:46.877606Z"
    },
    "papermill": {
     "duration": 0.029108,
     "end_time": "2025-05-06T19:36:46.879492",
     "exception": false,
     "start_time": "2025-05-06T19:36:46.850384",
     "status": "completed"
    },
    "tags": []
   },
   "outputs": [],
   "source": [
    "import torch\n",
    "import torch.nn.functional as F\n",
    "from torch_geometric.nn import MessagePassing, GlobalAttention"
   ]
  },
  {
   "cell_type": "code",
   "execution_count": 46,
   "id": "74e154cb",
   "metadata": {
    "execution": {
     "iopub.execute_input": "2025-05-06T19:36:46.928649Z",
     "iopub.status.busy": "2025-05-06T19:36:46.927950Z",
     "iopub.status.idle": "2025-05-06T19:36:46.936320Z",
     "shell.execute_reply": "2025-05-06T19:36:46.935648Z"
    },
    "papermill": {
     "duration": 0.033836,
     "end_time": "2025-05-06T19:36:46.937495",
     "exception": false,
     "start_time": "2025-05-06T19:36:46.903659",
     "status": "completed"
    },
    "tags": []
   },
   "outputs": [],
   "source": [
    "class MPL(MessagePassing):\n",
    "    def __init__(self, in_channels, out_channels, edge_attr_dim=3, edge_hidden_dim = 16):\n",
    "        super(MPL, self).__init__(aggr='add')\n",
    "        self.mlp1 = torch.nn.Linear(in_channels*2 + edge_hidden_dim, out_channels)\n",
    "        self.mlp2 = torch.nn.Linear(in_channels, out_channels)\n",
    "        self.mlp3 = torch.nn.Linear(2*out_channels, 1)\n",
    "        self.mlp4 = torch.nn.Linear(2*out_channels, 1)\n",
    "        self.mlp5 = torch.nn.Linear(in_channels,16)\n",
    "        self.mlp6 = torch.nn.Linear(out_channels,16)\n",
    "        self.mlp7 = torch.nn.Linear(16,1)\n",
    "        \n",
    "        self.edge_mlp = torch.nn.Sequential(\n",
    "            torch.nn.Linear(edge_attr_dim, edge_hidden_dim),\n",
    "            torch.nn.ReLU(),\n",
    "            torch.nn.Linear(edge_hidden_dim, edge_hidden_dim)\n",
    "        )\n",
    "\n",
    "    def forward(self, x, edge_index, edge_attr):\n",
    "        edge_attr_transformed = self.edge_mlp(edge_attr)\n",
    "        msg = self.propagate(edge_index, x=x, edge_attr=edge_attr_transformed)\n",
    "        \n",
    "        x = F.relu(self.mlp2(x))\n",
    "        w1 = F.sigmoid(self.mlp3(torch.cat([x,msg], dim=1)))\n",
    "        w2 = F.sigmoid(self.mlp4(torch.cat([x,msg], dim=1)))\n",
    "        out = w1*msg + w2*x\n",
    "        \n",
    "        return out\n",
    "\n",
    "    def message(self, x_i, x_j, edge_index, edge_attr):\n",
    "        edge_input = torch.cat([x_i, x_j-x_i, edge_attr], dim=1)\n",
    "        \n",
    "        msg = F.relu(self.mlp1(edge_input))\n",
    "\n",
    "        w1 = F.tanh(self.mlp5(x_i))\n",
    "        w2 = F.tanh(self.mlp6(msg))\n",
    "        w = self.mlp7(w1*w2)\n",
    "        w = softmax(w, edge_index[0])\n",
    "        \n",
    "        return msg * w"
   ]
  },
  {
   "cell_type": "code",
   "execution_count": 47,
   "id": "5b3313b2",
   "metadata": {
    "execution": {
     "iopub.execute_input": "2025-05-06T19:36:46.987468Z",
     "iopub.status.busy": "2025-05-06T19:36:46.986876Z",
     "iopub.status.idle": "2025-05-06T19:36:46.994251Z",
     "shell.execute_reply": "2025-05-06T19:36:46.993596Z"
    },
    "papermill": {
     "duration": 0.033629,
     "end_time": "2025-05-06T19:36:46.995367",
     "exception": false,
     "start_time": "2025-05-06T19:36:46.961738",
     "status": "completed"
    },
    "tags": []
   },
   "outputs": [],
   "source": [
    "class MODEL_GNN(torch.nn.Module):\n",
    "    def __init__(self):\n",
    "        super(MODEL_GNN, self).__init__()\n",
    "        self.conv1 = MPL(1, 8)  \n",
    "        self.conv2 = MPL(8, 10)\n",
    "        self.conv3 = MPL(10, 10)\n",
    "        self.conv4 = MPL(10, 16)\n",
    "        \n",
    "        \n",
    "        # Adjusted Linear layers to match the dimensions after concatenation\n",
    "        self.lin1 = torch.nn.Linear(26 , 32)\n",
    "        self.lin2 = torch.nn.Linear(32, 16)\n",
    "        self.lin3 = torch.nn.Linear(16, 16)\n",
    "        self.lin4 = torch.nn.Linear(16, 1)\n",
    "\n",
    "        self.global_att_pool1 = GlobalAttention(torch.nn.Sequential(torch.nn.Linear(10, 1)))\n",
    "        self.global_att_pool2 = GlobalAttention(torch.nn.Sequential(torch.nn.Linear(16, 1)))\n",
    "\n",
    "    def forward(self, data):\n",
    "        x, edge_index, batch = data.x, data.edge_index, data.batch\n",
    "        \n",
    "        x = F.relu(self.conv1(x, edge_index, data.edge_attr))\n",
    "        x = F.relu(self.conv2(x, edge_index, data.edge_attr))\n",
    "        x1 = self.global_att_pool1(x, batch)\n",
    "        \n",
    "        x = F.relu(self.conv3(x, edge_index, data.edge_attr))\n",
    "        x = F.relu(self.conv4(x, edge_index, data.edge_attr))\n",
    "        x2 = self.global_att_pool2(x, batch)\n",
    "        \n",
    "        x_out = torch.cat([x1, x2], dim=1)  # Concatenate pooled outputs\n",
    "        x = F.relu(self.lin1(x_out))\n",
    "        x = F.relu(self.lin2(x))\n",
    "        x = F.relu(self.lin3(x))\n",
    "        x = self.lin4(x).squeeze(1)\n",
    "\n",
    "        return x"
   ]
  },
  {
   "cell_type": "code",
   "execution_count": 48,
   "id": "78c50ffd",
   "metadata": {
    "execution": {
     "iopub.execute_input": "2025-05-06T19:36:47.044547Z",
     "iopub.status.busy": "2025-05-06T19:36:47.044298Z",
     "iopub.status.idle": "2025-05-06T19:36:47.210199Z",
     "shell.execute_reply": "2025-05-06T19:36:47.209605Z"
    },
    "papermill": {
     "duration": 0.19184,
     "end_time": "2025-05-06T19:36:47.211488",
     "exception": false,
     "start_time": "2025-05-06T19:36:47.019648",
     "status": "completed"
    },
    "tags": []
   },
   "outputs": [],
   "source": [
    "# Example usage:\n",
    "# Initialize your model\n",
    "device = torch.device('cuda' if torch.cuda.is_available() else 'cpu')\n",
    "model = MODEL_GNN().to(device)"
   ]
  },
  {
   "cell_type": "code",
   "execution_count": 49,
   "id": "1122f737",
   "metadata": {
    "execution": {
     "iopub.execute_input": "2025-05-06T19:36:47.258637Z",
     "iopub.status.busy": "2025-05-06T19:36:47.258412Z",
     "iopub.status.idle": "2025-05-06T19:36:47.262850Z",
     "shell.execute_reply": "2025-05-06T19:36:47.262287Z"
    },
    "papermill": {
     "duration": 0.028988,
     "end_time": "2025-05-06T19:36:47.263960",
     "exception": false,
     "start_time": "2025-05-06T19:36:47.234972",
     "status": "completed"
    },
    "tags": []
   },
   "outputs": [
    {
     "data": {
      "text/plain": [
       "MODEL_GNN(\n",
       "  (conv1): MPL()\n",
       "  (conv2): MPL()\n",
       "  (conv3): MPL()\n",
       "  (conv4): MPL()\n",
       "  (lin1): Linear(in_features=26, out_features=32, bias=True)\n",
       "  (lin2): Linear(in_features=32, out_features=16, bias=True)\n",
       "  (lin3): Linear(in_features=16, out_features=16, bias=True)\n",
       "  (lin4): Linear(in_features=16, out_features=1, bias=True)\n",
       "  (global_att_pool1): GlobalAttention(gate_nn=Sequential(\n",
       "    (0): Linear(in_features=10, out_features=1, bias=True)\n",
       "  ), nn=None)\n",
       "  (global_att_pool2): GlobalAttention(gate_nn=Sequential(\n",
       "    (0): Linear(in_features=16, out_features=1, bias=True)\n",
       "  ), nn=None)\n",
       ")"
      ]
     },
     "execution_count": 49,
     "metadata": {},
     "output_type": "execute_result"
    }
   ],
   "source": [
    "model"
   ]
  },
  {
   "cell_type": "code",
   "execution_count": 50,
   "id": "e29ef054",
   "metadata": {
    "execution": {
     "iopub.execute_input": "2025-05-06T19:36:47.309836Z",
     "iopub.status.busy": "2025-05-06T19:36:47.309651Z",
     "iopub.status.idle": "2025-05-06T19:36:47.314638Z",
     "shell.execute_reply": "2025-05-06T19:36:47.314054Z"
    },
    "papermill": {
     "duration": 0.029152,
     "end_time": "2025-05-06T19:36:47.315641",
     "exception": false,
     "start_time": "2025-05-06T19:36:47.286489",
     "status": "completed"
    },
    "tags": []
   },
   "outputs": [
    {
     "name": "stdout",
     "output_type": "stream",
     "text": [
      "Total number of parameters: 6437\n",
      "Number of learnable parameters: 6437\n"
     ]
    }
   ],
   "source": [
    "total_params = sum(p.numel() for p in model.parameters())\n",
    "learnable_params = sum(p.numel() for p in model.parameters() if p.requires_grad)\n",
    "\n",
    "print(f\"Total number of parameters: {total_params}\")\n",
    "print(f\"Number of learnable parameters: {learnable_params}\")"
   ]
  },
  {
   "cell_type": "code",
   "execution_count": 51,
   "id": "987fb1b1",
   "metadata": {
    "execution": {
     "iopub.execute_input": "2025-05-06T19:36:47.363992Z",
     "iopub.status.busy": "2025-05-06T19:36:47.363793Z",
     "iopub.status.idle": "2025-05-06T19:36:47.368029Z",
     "shell.execute_reply": "2025-05-06T19:36:47.367386Z"
    },
    "papermill": {
     "duration": 0.028981,
     "end_time": "2025-05-06T19:36:47.369176",
     "exception": false,
     "start_time": "2025-05-06T19:36:47.340195",
     "status": "completed"
    },
    "tags": []
   },
   "outputs": [
    {
     "data": {
      "text/plain": [
       "MODEL_GNN(\n",
       "  (conv1): MPL()\n",
       "  (conv2): MPL()\n",
       "  (conv3): MPL()\n",
       "  (conv4): MPL()\n",
       "  (lin1): Linear(in_features=26, out_features=32, bias=True)\n",
       "  (lin2): Linear(in_features=32, out_features=16, bias=True)\n",
       "  (lin3): Linear(in_features=16, out_features=16, bias=True)\n",
       "  (lin4): Linear(in_features=16, out_features=1, bias=True)\n",
       "  (global_att_pool1): GlobalAttention(gate_nn=Sequential(\n",
       "    (0): Linear(in_features=10, out_features=1, bias=True)\n",
       "  ), nn=None)\n",
       "  (global_att_pool2): GlobalAttention(gate_nn=Sequential(\n",
       "    (0): Linear(in_features=16, out_features=1, bias=True)\n",
       "  ), nn=None)\n",
       ")"
      ]
     },
     "execution_count": 51,
     "metadata": {},
     "output_type": "execute_result"
    }
   ],
   "source": [
    "model"
   ]
  },
  {
   "cell_type": "code",
   "execution_count": 52,
   "id": "d01edec6",
   "metadata": {
    "execution": {
     "iopub.execute_input": "2025-05-06T19:36:47.415071Z",
     "iopub.status.busy": "2025-05-06T19:36:47.414864Z",
     "iopub.status.idle": "2025-05-06T19:36:47.422197Z",
     "shell.execute_reply": "2025-05-06T19:36:47.421681Z"
    },
    "papermill": {
     "duration": 0.031645,
     "end_time": "2025-05-06T19:36:47.423346",
     "exception": false,
     "start_time": "2025-05-06T19:36:47.391701",
     "status": "completed"
    },
    "tags": []
   },
   "outputs": [
    {
     "data": {
      "text/plain": [
       "Data(x=[4, 1], edge_index=[2, 12], edge_attr=[12, 3], y=2.224287271499634)"
      ]
     },
     "execution_count": 52,
     "metadata": {},
     "output_type": "execute_result"
    }
   ],
   "source": [
    "train_dataset[20]"
   ]
  },
  {
   "cell_type": "code",
   "execution_count": 53,
   "id": "9d47081f",
   "metadata": {
    "execution": {
     "iopub.execute_input": "2025-05-06T19:36:47.469969Z",
     "iopub.status.busy": "2025-05-06T19:36:47.469779Z",
     "iopub.status.idle": "2025-05-06T19:36:47.475603Z",
     "shell.execute_reply": "2025-05-06T19:36:47.475096Z"
    },
    "papermill": {
     "duration": 0.030473,
     "end_time": "2025-05-06T19:36:47.476643",
     "exception": false,
     "start_time": "2025-05-06T19:36:47.446170",
     "status": "completed"
    },
    "tags": []
   },
   "outputs": [],
   "source": [
    "data = train_dataset[20]  # Get the data instance\n",
    "x = data.x  # Node features: shape [4, 1]\n",
    "edge_index = data.edge_index  # Edge indices: shape [2, 12]\n",
    "edge_attr = data.edge_attr  # Edge attributes: shape [12, 3]\n",
    "batch = torch.zeros(x.size(0), dtype=torch.long) "
   ]
  },
  {
   "cell_type": "code",
   "execution_count": 54,
   "id": "cd003b8e",
   "metadata": {
    "execution": {
     "iopub.execute_input": "2025-05-06T19:36:47.523912Z",
     "iopub.status.busy": "2025-05-06T19:36:47.523703Z",
     "iopub.status.idle": "2025-05-06T19:36:47.526755Z",
     "shell.execute_reply": "2025-05-06T19:36:47.526046Z"
    },
    "papermill": {
     "duration": 0.028032,
     "end_time": "2025-05-06T19:36:47.527904",
     "exception": false,
     "start_time": "2025-05-06T19:36:47.499872",
     "status": "completed"
    },
    "tags": []
   },
   "outputs": [],
   "source": [
    "# Forward pass with input data x and edge_index"
   ]
  },
  {
   "cell_type": "code",
   "execution_count": 55,
   "id": "5dd25f22",
   "metadata": {
    "execution": {
     "iopub.execute_input": "2025-05-06T19:36:47.574995Z",
     "iopub.status.busy": "2025-05-06T19:36:47.574791Z",
     "iopub.status.idle": "2025-05-06T19:36:47.578173Z",
     "shell.execute_reply": "2025-05-06T19:36:47.577578Z"
    },
    "papermill": {
     "duration": 0.028083,
     "end_time": "2025-05-06T19:36:47.579282",
     "exception": false,
     "start_time": "2025-05-06T19:36:47.551199",
     "status": "completed"
    },
    "tags": []
   },
   "outputs": [],
   "source": [
    "# Define the MSE loss function\n",
    "import torch.nn as nn\n",
    "criterion = nn.MSELoss()"
   ]
  },
  {
   "cell_type": "code",
   "execution_count": 56,
   "id": "b01979d0",
   "metadata": {
    "execution": {
     "iopub.execute_input": "2025-05-06T19:36:47.625724Z",
     "iopub.status.busy": "2025-05-06T19:36:47.625517Z",
     "iopub.status.idle": "2025-05-06T19:36:47.633167Z",
     "shell.execute_reply": "2025-05-06T19:36:47.632648Z"
    },
    "papermill": {
     "duration": 0.032097,
     "end_time": "2025-05-06T19:36:47.634214",
     "exception": false,
     "start_time": "2025-05-06T19:36:47.602117",
     "status": "completed"
    },
    "tags": []
   },
   "outputs": [],
   "source": [
    "def train(train_loader, test_loader, prog_bar = True):\n",
    "    \n",
    "    train_losses, test_losses = list(), list()\n",
    "    min_test_loss = float('inf')\n",
    "    criterion = nn.MSELoss()\n",
    "    for epoch in range(epochs):\n",
    "        train_loss = 0\n",
    "        test_loss = 0\n",
    "        if prog_bar:\n",
    "            pbar = tqdm(train_loader,position=0)\n",
    "        else:\n",
    "            pbar = train_loader\n",
    "            \n",
    "        # train\n",
    "        for data in pbar:\n",
    "            data = data.to(device)\n",
    "            optimizer.zero_grad()\n",
    "            out = model(data)\n",
    "            labels = data.y\n",
    "            loss = criterion(out, data.y)\n",
    "            loss.backward()\n",
    "            optimizer.step()\n",
    "            if prog_bar:\n",
    "                pbar.set_description('MSEError: '+str(loss.cpu().detach().numpy()))\n",
    "                train_loss += loss.cpu().detach().numpy()/len(train_loader)\n",
    "                \n",
    "        # test\n",
    "        for data in test_loader:\n",
    "            data = data.to(device)\n",
    "            optimizer.zero_grad()\n",
    "            out = model(data)\n",
    "            labels = data.y\n",
    "            loss = criterion(out, data.y)\n",
    "            test_loss += loss.cpu().detach().numpy()/len(test_loader)\n",
    "        if test_loss<min_test_loss:\n",
    "            print('Min loss changed from '+str(min_test_loss)+' to '+str(test_loss))\n",
    "            min_test_loss = test_loss\n",
    "            torch.save(model.state_dict(), model_name)\n",
    "        train_losses.append(train_loss)\n",
    "        test_losses.append(test_loss)\n",
    "        if epoch > 10 and min(test_losses[-7:])>min_test_loss+1e-9:\n",
    "            break\n",
    "        lr_scheduler.step(test_loss)\n",
    "        print('Epoch: ', str(epoch+1)+'/'+str(epochs),'| Training Loss: ', train_loss, '| Testing Loss: ', test_loss)\n",
    "        \n",
    "        if prog_bar and (epoch%5==0):\n",
    "            plt.plot(train_losses, label=\"Train Loss\")\n",
    "            plt.plot(test_losses, label=\"Validation Loss\")\n",
    "            plt.xlabel(\"# Epoch\")\n",
    "            plt.ylabel(\"Loss\")\n",
    "            plt.legend(loc='upper right')\n",
    "            plt.show()\n",
    "    return train_losses, test_losses"
   ]
  },
  {
   "cell_type": "code",
   "execution_count": 57,
   "id": "b28c0ee2",
   "metadata": {
    "execution": {
     "iopub.execute_input": "2025-05-06T19:36:47.681116Z",
     "iopub.status.busy": "2025-05-06T19:36:47.680891Z",
     "iopub.status.idle": "2025-05-06T19:36:47.686376Z",
     "shell.execute_reply": "2025-05-06T19:36:47.685742Z"
    },
    "papermill": {
     "duration": 0.030598,
     "end_time": "2025-05-06T19:36:47.687484",
     "exception": false,
     "start_time": "2025-05-06T19:36:47.656886",
     "status": "completed"
    },
    "tags": []
   },
   "outputs": [],
   "source": [
    "def pTLossTorch(y_pred,y_true):\n",
    "#     if not inv:\n",
    "#         y_pred = torch.pow(y_pred,-1)\n",
    "#         y_true = torch.pow(y_true,-1)\n",
    "    y_t = (y_true<80).type(torch.FloatTensor)*y_true.type(torch.FloatTensor) + (y_true>=80).type(torch.FloatTensor)*(y_true<250).type(torch.FloatTensor)*y_true.type(torch.FloatTensor)**2.4 + (y_true>=160).type(torch.FloatTensor)*10 \n",
    "    return torch.mean(y_t.type(torch.FloatTensor)*torch.pow((y_pred-y_true)/y_true,2).type(torch.FloatTensor))/250\n",
    "\n",
    "def CustompTLoss(output, target, lower_pt_limit):\n",
    "    \n",
    "    if not isinstance(lower_pt_limit, torch.Tensor):\n",
    "        lower_pt_limit = torch.tensor(lower_pt_limit)\n",
    "    \n",
    "    lower_pt_limit = lower_pt_limit.to(output.dtype)\n",
    "    output =torch.clip(output, min=lower_pt_limit.to(device))\n",
    "    loss = torch.mean((target - output)**2 + torch.gt(output, lower_pt_limit.long() * \\\n",
    "        (1 / (1 + torch.exp(-(output - lower_pt_limit) * 3)) - 1) + \\\n",
    "            torch.le(output, lower_pt_limit).long()*(-1/2)))\n",
    "    return loss\n",
    "\n"
   ]
  },
  {
   "cell_type": "code",
   "execution_count": 58,
   "id": "811f6367",
   "metadata": {
    "execution": {
     "iopub.execute_input": "2025-05-06T19:36:47.734899Z",
     "iopub.status.busy": "2025-05-06T19:36:47.734663Z",
     "iopub.status.idle": "2025-05-06T19:36:47.737671Z",
     "shell.execute_reply": "2025-05-06T19:36:47.737147Z"
    },
    "papermill": {
     "duration": 0.028068,
     "end_time": "2025-05-06T19:36:47.738853",
     "exception": false,
     "start_time": "2025-05-06T19:36:47.710785",
     "status": "completed"
    },
    "tags": []
   },
   "outputs": [],
   "source": [
    "name =  f\"CONVERTED_graph\""
   ]
  },
  {
   "cell_type": "code",
   "execution_count": 59,
   "id": "0c1181d1",
   "metadata": {
    "execution": {
     "iopub.execute_input": "2025-05-06T19:36:47.785486Z",
     "iopub.status.busy": "2025-05-06T19:36:47.785285Z",
     "iopub.status.idle": "2025-05-06T19:36:47.789203Z",
     "shell.execute_reply": "2025-05-06T19:36:47.788714Z"
    },
    "papermill": {
     "duration": 0.02824,
     "end_time": "2025-05-06T19:36:47.790201",
     "exception": false,
     "start_time": "2025-05-06T19:36:47.761961",
     "status": "completed"
    },
    "tags": []
   },
   "outputs": [],
   "source": [
    "min_PT = label.min()"
   ]
  },
  {
   "cell_type": "code",
   "execution_count": 60,
   "id": "51d49b56",
   "metadata": {
    "execution": {
     "iopub.execute_input": "2025-05-06T19:36:47.836495Z",
     "iopub.status.busy": "2025-05-06T19:36:47.836294Z",
     "iopub.status.idle": "2025-05-06T19:36:47.840229Z",
     "shell.execute_reply": "2025-05-06T19:36:47.839715Z"
    },
    "papermill": {
     "duration": 0.028382,
     "end_time": "2025-05-06T19:36:47.841252",
     "exception": false,
     "start_time": "2025-05-06T19:36:47.812870",
     "status": "completed"
    },
    "tags": []
   },
   "outputs": [],
   "source": [
    "max_pT = label.max()"
   ]
  },
  {
   "cell_type": "code",
   "execution_count": 61,
   "id": "0affde7e",
   "metadata": {
    "execution": {
     "iopub.execute_input": "2025-05-06T19:36:47.888707Z",
     "iopub.status.busy": "2025-05-06T19:36:47.888520Z",
     "iopub.status.idle": "2025-05-07T00:06:10.127924Z",
     "shell.execute_reply": "2025-05-07T00:06:10.127129Z"
    },
    "papermill": {
     "duration": 16162.298976,
     "end_time": "2025-05-07T00:06:10.163395",
     "exception": false,
     "start_time": "2025-05-06T19:36:47.864419",
     "status": "completed"
    },
    "tags": []
   },
   "outputs": [
    {
     "data": {
      "application/vnd.jupyter.widget-view+json": {
       "model_id": "a18a0d1c68d0442096272a1adcfd60f4",
       "version_major": 2,
       "version_minor": 0
      },
      "text/plain": [
       "  0%|          | 0/805 [00:00<?, ?it/s]"
      ]
     },
     "metadata": {},
     "output_type": "display_data"
    },
    {
     "name": "stdout",
     "output_type": "stream",
     "text": [
      "Min loss changed from inf to 0.2657105731639532\n",
      "Epoch:  1/10 | Training Loss:  0.38905331433189544 | Testing Loss:  0.2657105731639532\n"
     ]
    },
    {
     "data": {
      "image/png": "[encoded data removed]",
      "text/plain": [
       "<Figure size 640x480 with 1 Axes>"
      ]
     },
     "metadata": {},
     "output_type": "display_data"
    },
    {
     "data": {
      "application/vnd.jupyter.widget-view+json": {
       "model_id": "770e070ee4de4007af3b3f4f8b34bd95",
       "version_major": 2,
       "version_minor": 0
      },
      "text/plain": [
       "  0%|          | 0/805 [00:00<?, ?it/s]"
      ]
     },
     "metadata": {},
     "output_type": "display_data"
    },
    {
     "name": "stdout",
     "output_type": "stream",
     "text": [
      "Min loss changed from 0.2657105731639532 to 0.25892683162842645\n",
      "Epoch:  2/10 | Training Loss:  0.26107206973970287 | Testing Loss:  0.25892683162842645\n"
     ]
    },
    {
     "data": {
      "application/vnd.jupyter.widget-view+json": {
       "model_id": "791338faa8f24ba8abf20e84b240ddfb",
       "version_major": 2,
       "version_minor": 0
      },
      "text/plain": [
       "  0%|          | 0/805 [00:00<?, ?it/s]"
      ]
     },
     "metadata": {},
     "output_type": "display_data"
    },
    {
     "name": "stdout",
     "output_type": "stream",
     "text": [
      "Min loss changed from 0.25892683162842645 to 0.2555692115485077\n",
      "Epoch:  3/10 | Training Loss:  0.25563889906643356 | Testing Loss:  0.2555692115485077\n"
     ]
    },
    {
     "data": {
      "application/vnd.jupyter.widget-view+json": {
       "model_id": "7087d648f60449c693011aae79bb3208",
       "version_major": 2,
       "version_minor": 0
      },
      "text/plain": [
       "  0%|          | 0/805 [00:00<?, ?it/s]"
      ]
     },
     "metadata": {},
     "output_type": "display_data"
    },
    {
     "name": "stdout",
     "output_type": "stream",
     "text": [
      "Min loss changed from 0.2555692115485077 to 0.25218120025526175\n",
      "Epoch:  4/10 | Training Loss:  0.2522728234899713 | Testing Loss:  0.25218120025526175\n"
     ]
    },
    {
     "data": {
      "application/vnd.jupyter.widget-view+json": {
       "model_id": "6d43b0513c9d47908b939cf21ff0037f",
       "version_major": 2,
       "version_minor": 0
      },
      "text/plain": [
       "  0%|          | 0/805 [00:00<?, ?it/s]"
      ]
     },
     "metadata": {},
     "output_type": "display_data"
    },
    {
     "name": "stdout",
     "output_type": "stream",
     "text": [
      "Min loss changed from 0.25218120025526175 to 0.24943537936352267\n",
      "Epoch:  5/10 | Training Loss:  0.2494376376919122 | Testing Loss:  0.24943537936352267\n"
     ]
    },
    {
     "data": {
      "application/vnd.jupyter.widget-view+json": {
       "model_id": "8c4fe77cbfc44713854af98d01d039e8",
       "version_major": 2,
       "version_minor": 0
      },
      "text/plain": [
       "  0%|          | 0/805 [00:00<?, ?it/s]"
      ]
     },
     "metadata": {},
     "output_type": "display_data"
    },
    {
     "name": "stdout",
     "output_type": "stream",
     "text": [
      "Min loss changed from 0.24943537936352267 to 0.2471347002699825\n",
      "Epoch:  6/10 | Training Loss:  0.24727886237713126 | Testing Loss:  0.2471347002699825\n"
     ]
    },
    {
     "data": {
      "image/png": "[encoded data removed]",
      "text/plain": [
       "<Figure size 640x480 with 1 Axes>"
      ]
     },
     "metadata": {},
     "output_type": "display_data"
    },
    {
     "data": {
      "application/vnd.jupyter.widget-view+json": {
       "model_id": "befbbaa0a8474e788da867a3f3df3f58",
       "version_major": 2,
       "version_minor": 0
      },
      "text/plain": [
       "  0%|          | 0/805 [00:00<?, ?it/s]"
      ]
     },
     "metadata": {},
     "output_type": "display_data"
    },
    {
     "name": "stdout",
     "output_type": "stream",
     "text": [
      "Min loss changed from 0.2471347002699825 to 0.24582318128040523\n",
      "Epoch:  7/10 | Training Loss:  0.24575265064742996 | Testing Loss:  0.24582318128040523\n"
     ]
    },
    {
     "data": {
      "application/vnd.jupyter.widget-view+json": {
       "model_id": "f40ba5aa774d4425b34be374ceea817b",
       "version_major": 2,
       "version_minor": 0
      },
      "text/plain": [
       "  0%|          | 0/805 [00:00<?, ?it/s]"
      ]
     },
     "metadata": {},
     "output_type": "display_data"
    },
    {
     "name": "stdout",
     "output_type": "stream",
     "text": [
      "Min loss changed from 0.24582318128040523 to 0.2448386776417788\n",
      "Epoch:  8/10 | Training Loss:  0.24456720679813304 | Testing Loss:  0.2448386776417788\n"
     ]
    },
    {
     "data": {
      "application/vnd.jupyter.widget-view+json": {
       "model_id": "83f2865ee28b4f04945b2d4347ac91cd",
       "version_major": 2,
       "version_minor": 0
      },
      "text/plain": [
       "  0%|          | 0/805 [00:00<?, ?it/s]"
      ]
     },
     "metadata": {},
     "output_type": "display_data"
    },
    {
     "name": "stdout",
     "output_type": "stream",
     "text": [
      "Min loss changed from 0.2448386776417788 to 0.2439083772720676\n",
      "Epoch:  9/10 | Training Loss:  0.24353128864157997 | Testing Loss:  0.2439083772720676\n"
     ]
    },
    {
     "data": {
      "application/vnd.jupyter.widget-view+json": {
       "model_id": "d1e6779bc4604354aa0836a5746a425b",
       "version_major": 2,
       "version_minor": 0
      },
      "text/plain": [
       "  0%|          | 0/805 [00:00<?, ?it/s]"
      ]
     },
     "metadata": {},
     "output_type": "display_data"
    },
    {
     "name": "stdout",
     "output_type": "stream",
     "text": [
      "Min loss changed from 0.2439083772720676 to 0.2432497383491828\n",
      "Epoch:  10/10 | Training Loss:  0.24257572596858004 | Testing Loss:  0.2432497383491828\n"
     ]
    }
   ],
   "source": [
    "epochs = 10\n",
    "model = MODEL_GNN().to(device)\n",
    "# model.load_state_dict(torch.load(\"/kaggle/input/eachstation-node-v4-4ddf6b/model_trained/CONVERTED_graph_lossno_inv_A2.pth\"))\n",
    "optimizer = torch.optim.Adam(model.parameters(), lr=0.001, weight_decay=5e-4)\n",
    "# optimizer = torch.optim.Adam(model.parameters(), lr=0.002, weight_decay=5e-4)\n",
    "lr_scheduler = torch.optim.lr_scheduler.ReduceLROnPlateau(optimizer, verbose=True, patience=1, factor=0.5)\n",
    "\n",
    "model_name = f'/kaggle/working/model_trained/{name}_loss' + 'no_inv_A2' + '.pth'\n",
    "os.makedirs(\"/kaggle/working/model_trained\" , exist_ok =True)\n",
    "train_losses, test_losses = train(train_loader, test_loader, prog_bar=True)"
   ]
  },
  {
   "cell_type": "markdown",
   "id": "3256e3da",
   "metadata": {
    "papermill": {
     "duration": 0.037208,
     "end_time": "2025-05-07T00:06:10.226804",
     "exception": false,
     "start_time": "2025-05-07T00:06:10.189596",
     "status": "completed"
    },
    "tags": []
   },
   "source": [
    "# TESTING"
   ]
  },
  {
   "cell_type": "markdown",
   "id": "3da26ee1",
   "metadata": {
    "papermill": {
     "duration": 0.025563,
     "end_time": "2025-05-07T00:06:10.280990",
     "exception": false,
     "start_time": "2025-05-07T00:06:10.255427",
     "status": "completed"
    },
    "tags": []
   },
   "source": [
    "## Metrics"
   ]
  },
  {
   "cell_type": "code",
   "execution_count": 62,
   "id": "57698070",
   "metadata": {
    "execution": {
     "iopub.execute_input": "2025-05-07T00:06:10.333509Z",
     "iopub.status.busy": "2025-05-07T00:06:10.333251Z",
     "iopub.status.idle": "2025-05-07T00:06:10.338347Z",
     "shell.execute_reply": "2025-05-07T00:06:10.337720Z"
    },
    "papermill": {
     "duration": 0.032984,
     "end_time": "2025-05-07T00:06:10.339524",
     "exception": false,
     "start_time": "2025-05-07T00:06:10.306540",
     "status": "completed"
    },
    "tags": []
   },
   "outputs": [],
   "source": [
    "def f1_comp(y_true,y_pred):\n",
    "    f1 = []\n",
    "    for i in range(100): \n",
    "        grnd = y_true >= i\n",
    "        pred = y_pred >= i\n",
    "        f1.append(sklearn.metrics.f1_score(grnd,pred))\n",
    "    return f1\n",
    "\n",
    "def acc_comp(y_true,y_pred):\n",
    "    acc = []\n",
    "    for i in range(100):\n",
    "        grnd = y_true >= i\n",
    "        pred = y_pred >= i\n",
    "        cmp = np.sum(np.equal(grnd,np.squeeze(pred))) \n",
    "        acc.append(cmp/len(grnd)*100)\n",
    "    return acc"
   ]
  },
  {
   "cell_type": "code",
   "execution_count": 63,
   "id": "1bb53e6d",
   "metadata": {
    "execution": {
     "iopub.execute_input": "2025-05-07T00:06:10.392137Z",
     "iopub.status.busy": "2025-05-07T00:06:10.391895Z",
     "iopub.status.idle": "2025-05-07T00:06:10.418347Z",
     "shell.execute_reply": "2025-05-07T00:06:10.417601Z"
    },
    "papermill": {
     "duration": 0.054754,
     "end_time": "2025-05-07T00:06:10.419479",
     "exception": false,
     "start_time": "2025-05-07T00:06:10.364725",
     "status": "completed"
    },
    "tags": []
   },
   "outputs": [
    {
     "data": {
      "text/plain": [
       "<All keys matched successfully>"
      ]
     },
     "execution_count": 63,
     "metadata": {},
     "output_type": "execute_result"
    }
   ],
   "source": [
    "# model_name = f'/kaggle/working/model_trained/{name}_loss' + 'no_inv_' + '.pth'\n",
    "# model_name = \"/kaggle/input/eachstation-node-v2/model_trained/CONVERTED_graph_lossno_inv_A2.pth\"\n",
    "device = torch.device('cuda' if torch.cuda.is_available() else 'cpu')\n",
    "loaded_model = MODEL_GNN().to(device)\n",
    "loaded_model.load_state_dict(torch.load(model_name))"
   ]
  },
  {
   "cell_type": "code",
   "execution_count": 64,
   "id": "9f09ff3e",
   "metadata": {
    "execution": {
     "iopub.execute_input": "2025-05-07T00:06:10.476956Z",
     "iopub.status.busy": "2025-05-07T00:06:10.476426Z",
     "iopub.status.idle": "2025-05-07T00:06:10.480679Z",
     "shell.execute_reply": "2025-05-07T00:06:10.479977Z"
    },
    "papermill": {
     "duration": 0.033889,
     "end_time": "2025-05-07T00:06:10.481879",
     "exception": false,
     "start_time": "2025-05-07T00:06:10.447990",
     "status": "completed"
    },
    "tags": []
   },
   "outputs": [],
   "source": [
    "import numpy as np\n",
    "import sklearn.metrics\n",
    "import torch\n",
    "from torch.utils.data import DataLoader\n",
    "from tqdm import tqdm"
   ]
  },
  {
   "cell_type": "code",
   "execution_count": 65,
   "id": "85de3939",
   "metadata": {
    "execution": {
     "iopub.execute_input": "2025-05-07T00:06:10.534867Z",
     "iopub.status.busy": "2025-05-07T00:06:10.534340Z",
     "iopub.status.idle": "2025-05-07T00:11:31.865323Z",
     "shell.execute_reply": "2025-05-07T00:11:31.864557Z"
    },
    "papermill": {
     "duration": 321.358796,
     "end_time": "2025-05-07T00:11:31.866587",
     "exception": false,
     "start_time": "2025-05-07T00:06:10.507791",
     "status": "completed"
    },
    "tags": []
   },
   "outputs": [
    {
     "name": "stderr",
     "output_type": "stream",
     "text": [
      "  0%|          | 1/202 [00:01<05:54,  1.76s/it]"
     ]
    },
    {
     "name": "stdout",
     "output_type": "stream",
     "text": [
      "DataBatch(x=[4096, 1], edge_index=[2, 12288], edge_attr=[12288, 3], y=[1024], batch=[4096], ptr=[1025])\n"
     ]
    },
    {
     "name": "stderr",
     "output_type": "stream",
     "text": [
      "  1%|          | 2/202 [00:03<05:26,  1.63s/it]"
     ]
    },
    {
     "name": "stdout",
     "output_type": "stream",
     "text": [
      "DataBatch(x=[4096, 1], edge_index=[2, 12288], edge_attr=[12288, 3], y=[1024], batch=[4096], ptr=[1025])\n"
     ]
    },
    {
     "name": "stderr",
     "output_type": "stream",
     "text": [
      "  1%|▏         | 3/202 [00:04<05:20,  1.61s/it]"
     ]
    },
    {
     "name": "stdout",
     "output_type": "stream",
     "text": [
      "DataBatch(x=[4096, 1], edge_index=[2, 12288], edge_attr=[12288, 3], y=[1024], batch=[4096], ptr=[1025])\n"
     ]
    },
    {
     "name": "stderr",
     "output_type": "stream",
     "text": [
      "  2%|▏         | 4/202 [00:06<05:14,  1.59s/it]"
     ]
    },
    {
     "name": "stdout",
     "output_type": "stream",
     "text": [
      "DataBatch(x=[4096, 1], edge_index=[2, 12288], edge_attr=[12288, 3], y=[1024], batch=[4096], ptr=[1025])\n"
     ]
    },
    {
     "name": "stderr",
     "output_type": "stream",
     "text": [
      "  2%|▏         | 5/202 [00:08<05:12,  1.58s/it]"
     ]
    },
    {
     "name": "stdout",
     "output_type": "stream",
     "text": [
      "DataBatch(x=[4096, 1], edge_index=[2, 12288], edge_attr=[12288, 3], y=[1024], batch=[4096], ptr=[1025])\n"
     ]
    },
    {
     "name": "stderr",
     "output_type": "stream",
     "text": [
      "  3%|▎         | 6/202 [00:09<05:08,  1.57s/it]"
     ]
    },
    {
     "name": "stdout",
     "output_type": "stream",
     "text": [
      "DataBatch(x=[4096, 1], edge_index=[2, 12288], edge_attr=[12288, 3], y=[1024], batch=[4096], ptr=[1025])\n"
     ]
    },
    {
     "name": "stderr",
     "output_type": "stream",
     "text": [
      "  3%|▎         | 7/202 [00:11<05:06,  1.57s/it]"
     ]
    },
    {
     "name": "stdout",
     "output_type": "stream",
     "text": [
      "DataBatch(x=[4096, 1], edge_index=[2, 12288], edge_attr=[12288, 3], y=[1024], batch=[4096], ptr=[1025])\n"
     ]
    },
    {
     "name": "stderr",
     "output_type": "stream",
     "text": [
      "  4%|▍         | 8/202 [00:12<05:05,  1.57s/it]"
     ]
    },
    {
     "name": "stdout",
     "output_type": "stream",
     "text": [
      "DataBatch(x=[4096, 1], edge_index=[2, 12288], edge_attr=[12288, 3], y=[1024], batch=[4096], ptr=[1025])\n"
     ]
    },
    {
     "name": "stderr",
     "output_type": "stream",
     "text": [
      "  4%|▍         | 9/202 [00:14<05:04,  1.58s/it]"
     ]
    },
    {
     "name": "stdout",
     "output_type": "stream",
     "text": [
      "DataBatch(x=[4096, 1], edge_index=[2, 12288], edge_attr=[12288, 3], y=[1024], batch=[4096], ptr=[1025])\n"
     ]
    },
    {
     "name": "stderr",
     "output_type": "stream",
     "text": [
      "  5%|▍         | 10/202 [00:15<05:01,  1.57s/it]"
     ]
    },
    {
     "name": "stdout",
     "output_type": "stream",
     "text": [
      "DataBatch(x=[4096, 1], edge_index=[2, 12288], edge_attr=[12288, 3], y=[1024], batch=[4096], ptr=[1025])\n"
     ]
    },
    {
     "name": "stderr",
     "output_type": "stream",
     "text": [
      "  5%|▌         | 11/202 [00:17<04:57,  1.56s/it]"
     ]
    },
    {
     "name": "stdout",
     "output_type": "stream",
     "text": [
      "DataBatch(x=[4096, 1], edge_index=[2, 12288], edge_attr=[12288, 3], y=[1024], batch=[4096], ptr=[1025])\n"
     ]
    },
    {
     "name": "stderr",
     "output_type": "stream",
     "text": [
      "  6%|▌         | 12/202 [00:18<04:55,  1.56s/it]"
     ]
    },
    {
     "name": "stdout",
     "output_type": "stream",
     "text": [
      "DataBatch(x=[4096, 1], edge_index=[2, 12288], edge_attr=[12288, 3], y=[1024], batch=[4096], ptr=[1025])\n"
     ]
    },
    {
     "name": "stderr",
     "output_type": "stream",
     "text": [
      "  6%|▋         | 13/202 [00:20<04:53,  1.55s/it]"
     ]
    },
    {
     "name": "stdout",
     "output_type": "stream",
     "text": [
      "DataBatch(x=[4096, 1], edge_index=[2, 12288], edge_attr=[12288, 3], y=[1024], batch=[4096], ptr=[1025])\n"
     ]
    },
    {
     "name": "stderr",
     "output_type": "stream",
     "text": [
      "  7%|▋         | 14/202 [00:22<04:52,  1.56s/it]"
     ]
    },
    {
     "name": "stdout",
     "output_type": "stream",
     "text": [
      "DataBatch(x=[4096, 1], edge_index=[2, 12288], edge_attr=[12288, 3], y=[1024], batch=[4096], ptr=[1025])\n"
     ]
    },
    {
     "name": "stderr",
     "output_type": "stream",
     "text": [
      "  7%|▋         | 15/202 [00:23<05:01,  1.61s/it]"
     ]
    },
    {
     "name": "stdout",
     "output_type": "stream",
     "text": [
      "DataBatch(x=[4096, 1], edge_index=[2, 12288], edge_attr=[12288, 3], y=[1024], batch=[4096], ptr=[1025])\n"
     ]
    },
    {
     "name": "stderr",
     "output_type": "stream",
     "text": [
      "  8%|▊         | 16/202 [00:25<04:58,  1.61s/it]"
     ]
    },
    {
     "name": "stdout",
     "output_type": "stream",
     "text": [
      "DataBatch(x=[4096, 1], edge_index=[2, 12288], edge_attr=[12288, 3], y=[1024], batch=[4096], ptr=[1025])\n"
     ]
    },
    {
     "name": "stderr",
     "output_type": "stream",
     "text": [
      "  8%|▊         | 17/202 [00:26<04:54,  1.59s/it]"
     ]
    },
    {
     "name": "stdout",
     "output_type": "stream",
     "text": [
      "DataBatch(x=[4096, 1], edge_index=[2, 12288], edge_attr=[12288, 3], y=[1024], batch=[4096], ptr=[1025])\n"
     ]
    },
    {
     "name": "stderr",
     "output_type": "stream",
     "text": [
      "  9%|▉         | 18/202 [00:28<04:51,  1.58s/it]"
     ]
    },
    {
     "name": "stdout",
     "output_type": "stream",
     "text": [
      "DataBatch(x=[4096, 1], edge_index=[2, 12288], edge_attr=[12288, 3], y=[1024], batch=[4096], ptr=[1025])\n"
     ]
    },
    {
     "name": "stderr",
     "output_type": "stream",
     "text": [
      "  9%|▉         | 19/202 [00:30<04:48,  1.57s/it]"
     ]
    },
    {
     "name": "stdout",
     "output_type": "stream",
     "text": [
      "DataBatch(x=[4096, 1], edge_index=[2, 12288], edge_attr=[12288, 3], y=[1024], batch=[4096], ptr=[1025])\n"
     ]
    },
    {
     "name": "stderr",
     "output_type": "stream",
     "text": [
      " 10%|▉         | 20/202 [00:31<04:48,  1.59s/it]"
     ]
    },
    {
     "name": "stdout",
     "output_type": "stream",
     "text": [
      "DataBatch(x=[4096, 1], edge_index=[2, 12288], edge_attr=[12288, 3], y=[1024], batch=[4096], ptr=[1025])\n"
     ]
    },
    {
     "name": "stderr",
     "output_type": "stream",
     "text": [
      " 10%|█         | 21/202 [00:33<04:46,  1.58s/it]"
     ]
    },
    {
     "name": "stdout",
     "output_type": "stream",
     "text": [
      "DataBatch(x=[4096, 1], edge_index=[2, 12288], edge_attr=[12288, 3], y=[1024], batch=[4096], ptr=[1025])\n"
     ]
    },
    {
     "name": "stderr",
     "output_type": "stream",
     "text": [
      " 11%|█         | 22/202 [00:34<04:45,  1.59s/it]"
     ]
    },
    {
     "name": "stdout",
     "output_type": "stream",
     "text": [
      "DataBatch(x=[4096, 1], edge_index=[2, 12288], edge_attr=[12288, 3], y=[1024], batch=[4096], ptr=[1025])\n"
     ]
    },
    {
     "name": "stderr",
     "output_type": "stream",
     "text": [
      " 11%|█▏        | 23/202 [00:36<04:44,  1.59s/it]"
     ]
    },
    {
     "name": "stdout",
     "output_type": "stream",
     "text": [
      "DataBatch(x=[4096, 1], edge_index=[2, 12288], edge_attr=[12288, 3], y=[1024], batch=[4096], ptr=[1025])\n"
     ]
    },
    {
     "name": "stderr",
     "output_type": "stream",
     "text": [
      " 12%|█▏        | 24/202 [00:38<04:41,  1.58s/it]"
     ]
    },
    {
     "name": "stdout",
     "output_type": "stream",
     "text": [
      "DataBatch(x=[4096, 1], edge_index=[2, 12288], edge_attr=[12288, 3], y=[1024], batch=[4096], ptr=[1025])\n"
     ]
    },
    {
     "name": "stderr",
     "output_type": "stream",
     "text": [
      " 12%|█▏        | 25/202 [00:39<04:38,  1.57s/it]"
     ]
    },
    {
     "name": "stdout",
     "output_type": "stream",
     "text": [
      "DataBatch(x=[4096, 1], edge_index=[2, 12288], edge_attr=[12288, 3], y=[1024], batch=[4096], ptr=[1025])\n"
     ]
    },
    {
     "name": "stderr",
     "output_type": "stream",
     "text": [
      " 13%|█▎        | 26/202 [00:41<04:36,  1.57s/it]"
     ]
    },
    {
     "name": "stdout",
     "output_type": "stream",
     "text": [
      "DataBatch(x=[4096, 1], edge_index=[2, 12288], edge_attr=[12288, 3], y=[1024], batch=[4096], ptr=[1025])\n"
     ]
    },
    {
     "name": "stderr",
     "output_type": "stream",
     "text": [
      " 13%|█▎        | 27/202 [00:42<04:33,  1.56s/it]"
     ]
    },
    {
     "name": "stdout",
     "output_type": "stream",
     "text": [
      "DataBatch(x=[4096, 1], edge_index=[2, 12288], edge_attr=[12288, 3], y=[1024], batch=[4096], ptr=[1025])\n"
     ]
    },
    {
     "name": "stderr",
     "output_type": "stream",
     "text": [
      " 14%|█▍        | 28/202 [00:44<04:33,  1.57s/it]"
     ]
    },
    {
     "name": "stdout",
     "output_type": "stream",
     "text": [
      "DataBatch(x=[4096, 1], edge_index=[2, 12288], edge_attr=[12288, 3], y=[1024], batch=[4096], ptr=[1025])\n"
     ]
    },
    {
     "name": "stderr",
     "output_type": "stream",
     "text": [
      " 14%|█▍        | 29/202 [00:46<04:41,  1.63s/it]"
     ]
    },
    {
     "name": "stdout",
     "output_type": "stream",
     "text": [
      "DataBatch(x=[4096, 1], edge_index=[2, 12288], edge_attr=[12288, 3], y=[1024], batch=[4096], ptr=[1025])\n"
     ]
    },
    {
     "name": "stderr",
     "output_type": "stream",
     "text": [
      " 15%|█▍        | 30/202 [00:47<04:36,  1.61s/it]"
     ]
    },
    {
     "name": "stdout",
     "output_type": "stream",
     "text": [
      "DataBatch(x=[4096, 1], edge_index=[2, 12288], edge_attr=[12288, 3], y=[1024], batch=[4096], ptr=[1025])\n"
     ]
    },
    {
     "name": "stderr",
     "output_type": "stream",
     "text": [
      " 15%|█▌        | 31/202 [00:49<04:31,  1.59s/it]"
     ]
    },
    {
     "name": "stdout",
     "output_type": "stream",
     "text": [
      "DataBatch(x=[4096, 1], edge_index=[2, 12288], edge_attr=[12288, 3], y=[1024], batch=[4096], ptr=[1025])\n"
     ]
    },
    {
     "name": "stderr",
     "output_type": "stream",
     "text": [
      " 16%|█▌        | 32/202 [00:50<04:29,  1.59s/it]"
     ]
    },
    {
     "name": "stdout",
     "output_type": "stream",
     "text": [
      "DataBatch(x=[4096, 1], edge_index=[2, 12288], edge_attr=[12288, 3], y=[1024], batch=[4096], ptr=[1025])\n"
     ]
    },
    {
     "name": "stderr",
     "output_type": "stream",
     "text": [
      " 16%|█▋        | 33/202 [00:52<04:27,  1.58s/it]"
     ]
    },
    {
     "name": "stdout",
     "output_type": "stream",
     "text": [
      "DataBatch(x=[4096, 1], edge_index=[2, 12288], edge_attr=[12288, 3], y=[1024], batch=[4096], ptr=[1025])\n"
     ]
    },
    {
     "name": "stderr",
     "output_type": "stream",
     "text": [
      " 17%|█▋        | 34/202 [00:53<04:25,  1.58s/it]"
     ]
    },
    {
     "name": "stdout",
     "output_type": "stream",
     "text": [
      "DataBatch(x=[4096, 1], edge_index=[2, 12288], edge_attr=[12288, 3], y=[1024], batch=[4096], ptr=[1025])\n"
     ]
    },
    {
     "name": "stderr",
     "output_type": "stream",
     "text": [
      " 17%|█▋        | 35/202 [00:55<04:23,  1.58s/it]"
     ]
    },
    {
     "name": "stdout",
     "output_type": "stream",
     "text": [
      "DataBatch(x=[4096, 1], edge_index=[2, 12288], edge_attr=[12288, 3], y=[1024], batch=[4096], ptr=[1025])\n"
     ]
    },
    {
     "name": "stderr",
     "output_type": "stream",
     "text": [
      " 18%|█▊        | 36/202 [00:56<04:21,  1.58s/it]"
     ]
    },
    {
     "name": "stdout",
     "output_type": "stream",
     "text": [
      "DataBatch(x=[4096, 1], edge_index=[2, 12288], edge_attr=[12288, 3], y=[1024], batch=[4096], ptr=[1025])\n"
     ]
    },
    {
     "name": "stderr",
     "output_type": "stream",
     "text": [
      " 18%|█▊        | 37/202 [00:58<04:18,  1.57s/it]"
     ]
    },
    {
     "name": "stdout",
     "output_type": "stream",
     "text": [
      "DataBatch(x=[4096, 1], edge_index=[2, 12288], edge_attr=[12288, 3], y=[1024], batch=[4096], ptr=[1025])\n"
     ]
    },
    {
     "name": "stderr",
     "output_type": "stream",
     "text": [
      " 19%|█▉        | 38/202 [01:00<04:17,  1.57s/it]"
     ]
    },
    {
     "name": "stdout",
     "output_type": "stream",
     "text": [
      "DataBatch(x=[4096, 1], edge_index=[2, 12288], edge_attr=[12288, 3], y=[1024], batch=[4096], ptr=[1025])\n"
     ]
    },
    {
     "name": "stderr",
     "output_type": "stream",
     "text": [
      " 19%|█▉        | 39/202 [01:01<04:14,  1.56s/it]"
     ]
    },
    {
     "name": "stdout",
     "output_type": "stream",
     "text": [
      "DataBatch(x=[4096, 1], edge_index=[2, 12288], edge_attr=[12288, 3], y=[1024], batch=[4096], ptr=[1025])\n"
     ]
    },
    {
     "name": "stderr",
     "output_type": "stream",
     "text": [
      " 20%|█▉        | 40/202 [01:03<04:13,  1.57s/it]"
     ]
    },
    {
     "name": "stdout",
     "output_type": "stream",
     "text": [
      "DataBatch(x=[4096, 1], edge_index=[2, 12288], edge_attr=[12288, 3], y=[1024], batch=[4096], ptr=[1025])\n"
     ]
    },
    {
     "name": "stderr",
     "output_type": "stream",
     "text": [
      " 20%|██        | 41/202 [01:04<04:11,  1.56s/it]"
     ]
    },
    {
     "name": "stdout",
     "output_type": "stream",
     "text": [
      "DataBatch(x=[4096, 1], edge_index=[2, 12288], edge_attr=[12288, 3], y=[1024], batch=[4096], ptr=[1025])\n"
     ]
    },
    {
     "name": "stderr",
     "output_type": "stream",
     "text": [
      " 21%|██        | 42/202 [01:06<04:09,  1.56s/it]"
     ]
    },
    {
     "name": "stdout",
     "output_type": "stream",
     "text": [
      "DataBatch(x=[4096, 1], edge_index=[2, 12288], edge_attr=[12288, 3], y=[1024], batch=[4096], ptr=[1025])\n"
     ]
    },
    {
     "name": "stderr",
     "output_type": "stream",
     "text": [
      " 21%|██▏       | 43/202 [01:08<04:18,  1.62s/it]"
     ]
    },
    {
     "name": "stdout",
     "output_type": "stream",
     "text": [
      "DataBatch(x=[4096, 1], edge_index=[2, 12288], edge_attr=[12288, 3], y=[1024], batch=[4096], ptr=[1025])\n"
     ]
    },
    {
     "name": "stderr",
     "output_type": "stream",
     "text": [
      " 22%|██▏       | 44/202 [01:09<04:13,  1.61s/it]"
     ]
    },
    {
     "name": "stdout",
     "output_type": "stream",
     "text": [
      "DataBatch(x=[4096, 1], edge_index=[2, 12288], edge_attr=[12288, 3], y=[1024], batch=[4096], ptr=[1025])\n"
     ]
    },
    {
     "name": "stderr",
     "output_type": "stream",
     "text": [
      " 22%|██▏       | 45/202 [01:11<04:10,  1.60s/it]"
     ]
    },
    {
     "name": "stdout",
     "output_type": "stream",
     "text": [
      "DataBatch(x=[4096, 1], edge_index=[2, 12288], edge_attr=[12288, 3], y=[1024], batch=[4096], ptr=[1025])\n"
     ]
    },
    {
     "name": "stderr",
     "output_type": "stream",
     "text": [
      " 23%|██▎       | 46/202 [01:12<04:06,  1.58s/it]"
     ]
    },
    {
     "name": "stdout",
     "output_type": "stream",
     "text": [
      "DataBatch(x=[4096, 1], edge_index=[2, 12288], edge_attr=[12288, 3], y=[1024], batch=[4096], ptr=[1025])\n"
     ]
    },
    {
     "name": "stderr",
     "output_type": "stream",
     "text": [
      " 23%|██▎       | 47/202 [01:14<04:05,  1.58s/it]"
     ]
    },
    {
     "name": "stdout",
     "output_type": "stream",
     "text": [
      "DataBatch(x=[4096, 1], edge_index=[2, 12288], edge_attr=[12288, 3], y=[1024], batch=[4096], ptr=[1025])\n"
     ]
    },
    {
     "name": "stderr",
     "output_type": "stream",
     "text": [
      " 24%|██▍       | 48/202 [01:15<04:03,  1.58s/it]"
     ]
    },
    {
     "name": "stdout",
     "output_type": "stream",
     "text": [
      "DataBatch(x=[4096, 1], edge_index=[2, 12288], edge_attr=[12288, 3], y=[1024], batch=[4096], ptr=[1025])\n"
     ]
    },
    {
     "name": "stderr",
     "output_type": "stream",
     "text": [
      " 24%|██▍       | 49/202 [01:17<04:00,  1.57s/it]"
     ]
    },
    {
     "name": "stdout",
     "output_type": "stream",
     "text": [
      "DataBatch(x=[4096, 1], edge_index=[2, 12288], edge_attr=[12288, 3], y=[1024], batch=[4096], ptr=[1025])\n"
     ]
    },
    {
     "name": "stderr",
     "output_type": "stream",
     "text": [
      " 25%|██▍       | 50/202 [01:19<03:58,  1.57s/it]"
     ]
    },
    {
     "name": "stdout",
     "output_type": "stream",
     "text": [
      "DataBatch(x=[4096, 1], edge_index=[2, 12288], edge_attr=[12288, 3], y=[1024], batch=[4096], ptr=[1025])\n"
     ]
    },
    {
     "name": "stderr",
     "output_type": "stream",
     "text": [
      " 25%|██▌       | 51/202 [01:20<03:56,  1.57s/it]"
     ]
    },
    {
     "name": "stdout",
     "output_type": "stream",
     "text": [
      "DataBatch(x=[4096, 1], edge_index=[2, 12288], edge_attr=[12288, 3], y=[1024], batch=[4096], ptr=[1025])\n"
     ]
    },
    {
     "name": "stderr",
     "output_type": "stream",
     "text": [
      " 26%|██▌       | 52/202 [01:22<03:54,  1.56s/it]"
     ]
    },
    {
     "name": "stdout",
     "output_type": "stream",
     "text": [
      "DataBatch(x=[4096, 1], edge_index=[2, 12288], edge_attr=[12288, 3], y=[1024], batch=[4096], ptr=[1025])\n"
     ]
    },
    {
     "name": "stderr",
     "output_type": "stream",
     "text": [
      " 26%|██▌       | 53/202 [01:23<03:53,  1.56s/it]"
     ]
    },
    {
     "name": "stdout",
     "output_type": "stream",
     "text": [
      "DataBatch(x=[4096, 1], edge_index=[2, 12288], edge_attr=[12288, 3], y=[1024], batch=[4096], ptr=[1025])\n"
     ]
    },
    {
     "name": "stderr",
     "output_type": "stream",
     "text": [
      " 27%|██▋       | 54/202 [01:25<03:52,  1.57s/it]"
     ]
    },
    {
     "name": "stdout",
     "output_type": "stream",
     "text": [
      "DataBatch(x=[4096, 1], edge_index=[2, 12288], edge_attr=[12288, 3], y=[1024], batch=[4096], ptr=[1025])\n"
     ]
    },
    {
     "name": "stderr",
     "output_type": "stream",
     "text": [
      " 27%|██▋       | 55/202 [01:26<03:50,  1.56s/it]"
     ]
    },
    {
     "name": "stdout",
     "output_type": "stream",
     "text": [
      "DataBatch(x=[4096, 1], edge_index=[2, 12288], edge_attr=[12288, 3], y=[1024], batch=[4096], ptr=[1025])\n"
     ]
    },
    {
     "name": "stderr",
     "output_type": "stream",
     "text": [
      " 28%|██▊       | 56/202 [01:28<03:47,  1.56s/it]"
     ]
    },
    {
     "name": "stdout",
     "output_type": "stream",
     "text": [
      "DataBatch(x=[4096, 1], edge_index=[2, 12288], edge_attr=[12288, 3], y=[1024], batch=[4096], ptr=[1025])\n"
     ]
    },
    {
     "name": "stderr",
     "output_type": "stream",
     "text": [
      " 28%|██▊       | 57/202 [01:30<03:46,  1.56s/it]"
     ]
    },
    {
     "name": "stdout",
     "output_type": "stream",
     "text": [
      "DataBatch(x=[4096, 1], edge_index=[2, 12288], edge_attr=[12288, 3], y=[1024], batch=[4096], ptr=[1025])\n"
     ]
    },
    {
     "name": "stderr",
     "output_type": "stream",
     "text": [
      " 29%|██▊       | 58/202 [01:31<03:51,  1.61s/it]"
     ]
    },
    {
     "name": "stdout",
     "output_type": "stream",
     "text": [
      "DataBatch(x=[4096, 1], edge_index=[2, 12288], edge_attr=[12288, 3], y=[1024], batch=[4096], ptr=[1025])\n"
     ]
    },
    {
     "name": "stderr",
     "output_type": "stream",
     "text": [
      " 29%|██▉       | 59/202 [01:33<03:46,  1.59s/it]"
     ]
    },
    {
     "name": "stdout",
     "output_type": "stream",
     "text": [
      "DataBatch(x=[4096, 1], edge_index=[2, 12288], edge_attr=[12288, 3], y=[1024], batch=[4096], ptr=[1025])\n"
     ]
    },
    {
     "name": "stderr",
     "output_type": "stream",
     "text": [
      " 30%|██▉       | 60/202 [01:34<03:47,  1.60s/it]"
     ]
    },
    {
     "name": "stdout",
     "output_type": "stream",
     "text": [
      "DataBatch(x=[4096, 1], edge_index=[2, 12288], edge_attr=[12288, 3], y=[1024], batch=[4096], ptr=[1025])\n"
     ]
    },
    {
     "name": "stderr",
     "output_type": "stream",
     "text": [
      " 30%|███       | 61/202 [01:36<03:43,  1.59s/it]"
     ]
    },
    {
     "name": "stdout",
     "output_type": "stream",
     "text": [
      "DataBatch(x=[4096, 1], edge_index=[2, 12288], edge_attr=[12288, 3], y=[1024], batch=[4096], ptr=[1025])\n"
     ]
    },
    {
     "name": "stderr",
     "output_type": "stream",
     "text": [
      " 31%|███       | 62/202 [01:37<03:40,  1.57s/it]"
     ]
    },
    {
     "name": "stdout",
     "output_type": "stream",
     "text": [
      "DataBatch(x=[4096, 1], edge_index=[2, 12288], edge_attr=[12288, 3], y=[1024], batch=[4096], ptr=[1025])\n"
     ]
    },
    {
     "name": "stderr",
     "output_type": "stream",
     "text": [
      " 31%|███       | 63/202 [01:39<03:37,  1.56s/it]"
     ]
    },
    {
     "name": "stdout",
     "output_type": "stream",
     "text": [
      "DataBatch(x=[4096, 1], edge_index=[2, 12288], edge_attr=[12288, 3], y=[1024], batch=[4096], ptr=[1025])\n"
     ]
    },
    {
     "name": "stderr",
     "output_type": "stream",
     "text": [
      " 32%|███▏      | 64/202 [01:41<03:36,  1.57s/it]"
     ]
    },
    {
     "name": "stdout",
     "output_type": "stream",
     "text": [
      "DataBatch(x=[4096, 1], edge_index=[2, 12288], edge_attr=[12288, 3], y=[1024], batch=[4096], ptr=[1025])\n"
     ]
    },
    {
     "name": "stderr",
     "output_type": "stream",
     "text": [
      " 32%|███▏      | 65/202 [01:42<03:34,  1.56s/it]"
     ]
    },
    {
     "name": "stdout",
     "output_type": "stream",
     "text": [
      "DataBatch(x=[4096, 1], edge_index=[2, 12288], edge_attr=[12288, 3], y=[1024], batch=[4096], ptr=[1025])\n"
     ]
    },
    {
     "name": "stderr",
     "output_type": "stream",
     "text": [
      " 33%|███▎      | 66/202 [01:44<03:33,  1.57s/it]"
     ]
    },
    {
     "name": "stdout",
     "output_type": "stream",
     "text": [
      "DataBatch(x=[4096, 1], edge_index=[2, 12288], edge_attr=[12288, 3], y=[1024], batch=[4096], ptr=[1025])\n"
     ]
    },
    {
     "name": "stderr",
     "output_type": "stream",
     "text": [
      " 33%|███▎      | 67/202 [01:45<03:31,  1.57s/it]"
     ]
    },
    {
     "name": "stdout",
     "output_type": "stream",
     "text": [
      "DataBatch(x=[4096, 1], edge_index=[2, 12288], edge_attr=[12288, 3], y=[1024], batch=[4096], ptr=[1025])\n"
     ]
    },
    {
     "name": "stderr",
     "output_type": "stream",
     "text": [
      " 34%|███▎      | 68/202 [01:47<03:29,  1.56s/it]"
     ]
    },
    {
     "name": "stdout",
     "output_type": "stream",
     "text": [
      "DataBatch(x=[4096, 1], edge_index=[2, 12288], edge_attr=[12288, 3], y=[1024], batch=[4096], ptr=[1025])\n"
     ]
    },
    {
     "name": "stderr",
     "output_type": "stream",
     "text": [
      " 34%|███▍      | 69/202 [01:48<03:27,  1.56s/it]"
     ]
    },
    {
     "name": "stdout",
     "output_type": "stream",
     "text": [
      "DataBatch(x=[4096, 1], edge_index=[2, 12288], edge_attr=[12288, 3], y=[1024], batch=[4096], ptr=[1025])\n"
     ]
    },
    {
     "name": "stderr",
     "output_type": "stream",
     "text": [
      " 35%|███▍      | 70/202 [01:50<03:26,  1.56s/it]"
     ]
    },
    {
     "name": "stdout",
     "output_type": "stream",
     "text": [
      "DataBatch(x=[4096, 1], edge_index=[2, 12288], edge_attr=[12288, 3], y=[1024], batch=[4096], ptr=[1025])\n"
     ]
    },
    {
     "name": "stderr",
     "output_type": "stream",
     "text": [
      " 35%|███▌      | 71/202 [01:52<03:24,  1.56s/it]"
     ]
    },
    {
     "name": "stdout",
     "output_type": "stream",
     "text": [
      "DataBatch(x=[4096, 1], edge_index=[2, 12288], edge_attr=[12288, 3], y=[1024], batch=[4096], ptr=[1025])\n"
     ]
    },
    {
     "name": "stderr",
     "output_type": "stream",
     "text": [
      " 36%|███▌      | 72/202 [01:53<03:29,  1.61s/it]"
     ]
    },
    {
     "name": "stdout",
     "output_type": "stream",
     "text": [
      "DataBatch(x=[4096, 1], edge_index=[2, 12288], edge_attr=[12288, 3], y=[1024], batch=[4096], ptr=[1025])\n"
     ]
    },
    {
     "name": "stderr",
     "output_type": "stream",
     "text": [
      " 36%|███▌      | 73/202 [01:55<03:26,  1.60s/it]"
     ]
    },
    {
     "name": "stdout",
     "output_type": "stream",
     "text": [
      "DataBatch(x=[4096, 1], edge_index=[2, 12288], edge_attr=[12288, 3], y=[1024], batch=[4096], ptr=[1025])\n"
     ]
    },
    {
     "name": "stderr",
     "output_type": "stream",
     "text": [
      " 37%|███▋      | 74/202 [01:56<03:23,  1.59s/it]"
     ]
    },
    {
     "name": "stdout",
     "output_type": "stream",
     "text": [
      "DataBatch(x=[4096, 1], edge_index=[2, 12288], edge_attr=[12288, 3], y=[1024], batch=[4096], ptr=[1025])\n"
     ]
    },
    {
     "name": "stderr",
     "output_type": "stream",
     "text": [
      " 37%|███▋      | 75/202 [01:58<03:22,  1.59s/it]"
     ]
    },
    {
     "name": "stdout",
     "output_type": "stream",
     "text": [
      "DataBatch(x=[4096, 1], edge_index=[2, 12288], edge_attr=[12288, 3], y=[1024], batch=[4096], ptr=[1025])\n"
     ]
    },
    {
     "name": "stderr",
     "output_type": "stream",
     "text": [
      " 38%|███▊      | 76/202 [02:00<03:18,  1.58s/it]"
     ]
    },
    {
     "name": "stdout",
     "output_type": "stream",
     "text": [
      "DataBatch(x=[4096, 1], edge_index=[2, 12288], edge_attr=[12288, 3], y=[1024], batch=[4096], ptr=[1025])\n"
     ]
    },
    {
     "name": "stderr",
     "output_type": "stream",
     "text": [
      " 38%|███▊      | 77/202 [02:01<03:15,  1.56s/it]"
     ]
    },
    {
     "name": "stdout",
     "output_type": "stream",
     "text": [
      "DataBatch(x=[4096, 1], edge_index=[2, 12288], edge_attr=[12288, 3], y=[1024], batch=[4096], ptr=[1025])\n"
     ]
    },
    {
     "name": "stderr",
     "output_type": "stream",
     "text": [
      " 39%|███▊      | 78/202 [02:03<03:12,  1.55s/it]"
     ]
    },
    {
     "name": "stdout",
     "output_type": "stream",
     "text": [
      "DataBatch(x=[4096, 1], edge_index=[2, 12288], edge_attr=[12288, 3], y=[1024], batch=[4096], ptr=[1025])\n"
     ]
    },
    {
     "name": "stderr",
     "output_type": "stream",
     "text": [
      " 39%|███▉      | 79/202 [02:04<03:12,  1.56s/it]"
     ]
    },
    {
     "name": "stdout",
     "output_type": "stream",
     "text": [
      "DataBatch(x=[4096, 1], edge_index=[2, 12288], edge_attr=[12288, 3], y=[1024], batch=[4096], ptr=[1025])\n"
     ]
    },
    {
     "name": "stderr",
     "output_type": "stream",
     "text": [
      " 40%|███▉      | 80/202 [02:06<03:13,  1.59s/it]"
     ]
    },
    {
     "name": "stdout",
     "output_type": "stream",
     "text": [
      "DataBatch(x=[4096, 1], edge_index=[2, 12288], edge_attr=[12288, 3], y=[1024], batch=[4096], ptr=[1025])\n"
     ]
    },
    {
     "name": "stderr",
     "output_type": "stream",
     "text": [
      " 40%|████      | 81/202 [02:07<03:09,  1.57s/it]"
     ]
    },
    {
     "name": "stdout",
     "output_type": "stream",
     "text": [
      "DataBatch(x=[4096, 1], edge_index=[2, 12288], edge_attr=[12288, 3], y=[1024], batch=[4096], ptr=[1025])\n"
     ]
    },
    {
     "name": "stderr",
     "output_type": "stream",
     "text": [
      " 41%|████      | 82/202 [02:09<03:07,  1.56s/it]"
     ]
    },
    {
     "name": "stdout",
     "output_type": "stream",
     "text": [
      "DataBatch(x=[4096, 1], edge_index=[2, 12288], edge_attr=[12288, 3], y=[1024], batch=[4096], ptr=[1025])\n"
     ]
    },
    {
     "name": "stderr",
     "output_type": "stream",
     "text": [
      " 41%|████      | 83/202 [02:10<03:06,  1.57s/it]"
     ]
    },
    {
     "name": "stdout",
     "output_type": "stream",
     "text": [
      "DataBatch(x=[4096, 1], edge_index=[2, 12288], edge_attr=[12288, 3], y=[1024], batch=[4096], ptr=[1025])\n"
     ]
    },
    {
     "name": "stderr",
     "output_type": "stream",
     "text": [
      " 42%|████▏     | 84/202 [02:12<03:04,  1.56s/it]"
     ]
    },
    {
     "name": "stdout",
     "output_type": "stream",
     "text": [
      "DataBatch(x=[4096, 1], edge_index=[2, 12288], edge_attr=[12288, 3], y=[1024], batch=[4096], ptr=[1025])\n"
     ]
    },
    {
     "name": "stderr",
     "output_type": "stream",
     "text": [
      " 42%|████▏     | 85/202 [02:14<03:02,  1.56s/it]"
     ]
    },
    {
     "name": "stdout",
     "output_type": "stream",
     "text": [
      "DataBatch(x=[4096, 1], edge_index=[2, 12288], edge_attr=[12288, 3], y=[1024], batch=[4096], ptr=[1025])\n"
     ]
    },
    {
     "name": "stderr",
     "output_type": "stream",
     "text": [
      " 43%|████▎     | 86/202 [02:15<03:00,  1.56s/it]"
     ]
    },
    {
     "name": "stdout",
     "output_type": "stream",
     "text": [
      "DataBatch(x=[4096, 1], edge_index=[2, 12288], edge_attr=[12288, 3], y=[1024], batch=[4096], ptr=[1025])\n"
     ]
    },
    {
     "name": "stderr",
     "output_type": "stream",
     "text": [
      " 43%|████▎     | 87/202 [02:17<03:04,  1.61s/it]"
     ]
    },
    {
     "name": "stdout",
     "output_type": "stream",
     "text": [
      "DataBatch(x=[4096, 1], edge_index=[2, 12288], edge_attr=[12288, 3], y=[1024], batch=[4096], ptr=[1025])\n"
     ]
    },
    {
     "name": "stderr",
     "output_type": "stream",
     "text": [
      " 44%|████▎     | 88/202 [02:18<03:00,  1.59s/it]"
     ]
    },
    {
     "name": "stdout",
     "output_type": "stream",
     "text": [
      "DataBatch(x=[4096, 1], edge_index=[2, 12288], edge_attr=[12288, 3], y=[1024], batch=[4096], ptr=[1025])\n"
     ]
    },
    {
     "name": "stderr",
     "output_type": "stream",
     "text": [
      " 44%|████▍     | 89/202 [02:20<02:57,  1.58s/it]"
     ]
    },
    {
     "name": "stdout",
     "output_type": "stream",
     "text": [
      "DataBatch(x=[4096, 1], edge_index=[2, 12288], edge_attr=[12288, 3], y=[1024], batch=[4096], ptr=[1025])\n"
     ]
    },
    {
     "name": "stderr",
     "output_type": "stream",
     "text": [
      " 45%|████▍     | 90/202 [02:22<02:56,  1.57s/it]"
     ]
    },
    {
     "name": "stdout",
     "output_type": "stream",
     "text": [
      "DataBatch(x=[4096, 1], edge_index=[2, 12288], edge_attr=[12288, 3], y=[1024], batch=[4096], ptr=[1025])\n"
     ]
    },
    {
     "name": "stderr",
     "output_type": "stream",
     "text": [
      " 45%|████▌     | 91/202 [02:23<02:54,  1.57s/it]"
     ]
    },
    {
     "name": "stdout",
     "output_type": "stream",
     "text": [
      "DataBatch(x=[4096, 1], edge_index=[2, 12288], edge_attr=[12288, 3], y=[1024], batch=[4096], ptr=[1025])\n"
     ]
    },
    {
     "name": "stderr",
     "output_type": "stream",
     "text": [
      " 46%|████▌     | 92/202 [02:25<02:52,  1.57s/it]"
     ]
    },
    {
     "name": "stdout",
     "output_type": "stream",
     "text": [
      "DataBatch(x=[4096, 1], edge_index=[2, 12288], edge_attr=[12288, 3], y=[1024], batch=[4096], ptr=[1025])\n"
     ]
    },
    {
     "name": "stderr",
     "output_type": "stream",
     "text": [
      " 46%|████▌     | 93/202 [02:26<02:51,  1.57s/it]"
     ]
    },
    {
     "name": "stdout",
     "output_type": "stream",
     "text": [
      "DataBatch(x=[4096, 1], edge_index=[2, 12288], edge_attr=[12288, 3], y=[1024], batch=[4096], ptr=[1025])\n"
     ]
    },
    {
     "name": "stderr",
     "output_type": "stream",
     "text": [
      " 47%|████▋     | 94/202 [02:28<02:49,  1.57s/it]"
     ]
    },
    {
     "name": "stdout",
     "output_type": "stream",
     "text": [
      "DataBatch(x=[4096, 1], edge_index=[2, 12288], edge_attr=[12288, 3], y=[1024], batch=[4096], ptr=[1025])\n"
     ]
    },
    {
     "name": "stderr",
     "output_type": "stream",
     "text": [
      " 47%|████▋     | 95/202 [02:29<02:46,  1.56s/it]"
     ]
    },
    {
     "name": "stdout",
     "output_type": "stream",
     "text": [
      "DataBatch(x=[4096, 1], edge_index=[2, 12288], edge_attr=[12288, 3], y=[1024], batch=[4096], ptr=[1025])\n"
     ]
    },
    {
     "name": "stderr",
     "output_type": "stream",
     "text": [
      " 48%|████▊     | 96/202 [02:31<02:45,  1.56s/it]"
     ]
    },
    {
     "name": "stdout",
     "output_type": "stream",
     "text": [
      "DataBatch(x=[4096, 1], edge_index=[2, 12288], edge_attr=[12288, 3], y=[1024], batch=[4096], ptr=[1025])\n"
     ]
    },
    {
     "name": "stderr",
     "output_type": "stream",
     "text": [
      " 48%|████▊     | 97/202 [02:32<02:43,  1.56s/it]"
     ]
    },
    {
     "name": "stdout",
     "output_type": "stream",
     "text": [
      "DataBatch(x=[4096, 1], edge_index=[2, 12288], edge_attr=[12288, 3], y=[1024], batch=[4096], ptr=[1025])\n"
     ]
    },
    {
     "name": "stderr",
     "output_type": "stream",
     "text": [
      " 49%|████▊     | 98/202 [02:34<02:41,  1.56s/it]"
     ]
    },
    {
     "name": "stdout",
     "output_type": "stream",
     "text": [
      "DataBatch(x=[4096, 1], edge_index=[2, 12288], edge_attr=[12288, 3], y=[1024], batch=[4096], ptr=[1025])\n"
     ]
    },
    {
     "name": "stderr",
     "output_type": "stream",
     "text": [
      " 49%|████▉     | 99/202 [02:36<02:39,  1.55s/it]"
     ]
    },
    {
     "name": "stdout",
     "output_type": "stream",
     "text": [
      "DataBatch(x=[4096, 1], edge_index=[2, 12288], edge_attr=[12288, 3], y=[1024], batch=[4096], ptr=[1025])\n"
     ]
    },
    {
     "name": "stderr",
     "output_type": "stream",
     "text": [
      " 50%|████▉     | 100/202 [02:37<02:46,  1.63s/it]"
     ]
    },
    {
     "name": "stdout",
     "output_type": "stream",
     "text": [
      "DataBatch(x=[4096, 1], edge_index=[2, 12288], edge_attr=[12288, 3], y=[1024], batch=[4096], ptr=[1025])\n"
     ]
    },
    {
     "name": "stderr",
     "output_type": "stream",
     "text": [
      " 50%|█████     | 101/202 [02:39<02:42,  1.61s/it]"
     ]
    },
    {
     "name": "stdout",
     "output_type": "stream",
     "text": [
      "DataBatch(x=[4096, 1], edge_index=[2, 12288], edge_attr=[12288, 3], y=[1024], batch=[4096], ptr=[1025])\n"
     ]
    },
    {
     "name": "stderr",
     "output_type": "stream",
     "text": [
      " 50%|█████     | 102/202 [02:40<02:40,  1.60s/it]"
     ]
    },
    {
     "name": "stdout",
     "output_type": "stream",
     "text": [
      "DataBatch(x=[4096, 1], edge_index=[2, 12288], edge_attr=[12288, 3], y=[1024], batch=[4096], ptr=[1025])\n"
     ]
    },
    {
     "name": "stderr",
     "output_type": "stream",
     "text": [
      " 51%|█████     | 103/202 [02:42<02:37,  1.59s/it]"
     ]
    },
    {
     "name": "stdout",
     "output_type": "stream",
     "text": [
      "DataBatch(x=[4096, 1], edge_index=[2, 12288], edge_attr=[12288, 3], y=[1024], batch=[4096], ptr=[1025])\n"
     ]
    },
    {
     "name": "stderr",
     "output_type": "stream",
     "text": [
      " 51%|█████▏    | 104/202 [02:44<02:36,  1.59s/it]"
     ]
    },
    {
     "name": "stdout",
     "output_type": "stream",
     "text": [
      "DataBatch(x=[4096, 1], edge_index=[2, 12288], edge_attr=[12288, 3], y=[1024], batch=[4096], ptr=[1025])\n"
     ]
    },
    {
     "name": "stderr",
     "output_type": "stream",
     "text": [
      " 52%|█████▏    | 105/202 [02:45<02:33,  1.58s/it]"
     ]
    },
    {
     "name": "stdout",
     "output_type": "stream",
     "text": [
      "DataBatch(x=[4096, 1], edge_index=[2, 12288], edge_attr=[12288, 3], y=[1024], batch=[4096], ptr=[1025])\n"
     ]
    },
    {
     "name": "stderr",
     "output_type": "stream",
     "text": [
      " 52%|█████▏    | 106/202 [02:47<02:30,  1.57s/it]"
     ]
    },
    {
     "name": "stdout",
     "output_type": "stream",
     "text": [
      "DataBatch(x=[4096, 1], edge_index=[2, 12288], edge_attr=[12288, 3], y=[1024], batch=[4096], ptr=[1025])\n"
     ]
    },
    {
     "name": "stderr",
     "output_type": "stream",
     "text": [
      " 53%|█████▎    | 107/202 [02:48<02:27,  1.56s/it]"
     ]
    },
    {
     "name": "stdout",
     "output_type": "stream",
     "text": [
      "DataBatch(x=[4096, 1], edge_index=[2, 12288], edge_attr=[12288, 3], y=[1024], batch=[4096], ptr=[1025])\n"
     ]
    },
    {
     "name": "stderr",
     "output_type": "stream",
     "text": [
      " 53%|█████▎    | 108/202 [02:50<02:25,  1.55s/it]"
     ]
    },
    {
     "name": "stdout",
     "output_type": "stream",
     "text": [
      "DataBatch(x=[4096, 1], edge_index=[2, 12288], edge_attr=[12288, 3], y=[1024], batch=[4096], ptr=[1025])\n"
     ]
    },
    {
     "name": "stderr",
     "output_type": "stream",
     "text": [
      " 54%|█████▍    | 109/202 [02:51<02:24,  1.55s/it]"
     ]
    },
    {
     "name": "stdout",
     "output_type": "stream",
     "text": [
      "DataBatch(x=[4096, 1], edge_index=[2, 12288], edge_attr=[12288, 3], y=[1024], batch=[4096], ptr=[1025])\n"
     ]
    },
    {
     "name": "stderr",
     "output_type": "stream",
     "text": [
      " 54%|█████▍    | 110/202 [02:53<02:22,  1.55s/it]"
     ]
    },
    {
     "name": "stdout",
     "output_type": "stream",
     "text": [
      "DataBatch(x=[4096, 1], edge_index=[2, 12288], edge_attr=[12288, 3], y=[1024], batch=[4096], ptr=[1025])\n"
     ]
    },
    {
     "name": "stderr",
     "output_type": "stream",
     "text": [
      " 55%|█████▍    | 111/202 [02:54<02:21,  1.56s/it]"
     ]
    },
    {
     "name": "stdout",
     "output_type": "stream",
     "text": [
      "DataBatch(x=[4096, 1], edge_index=[2, 12288], edge_attr=[12288, 3], y=[1024], batch=[4096], ptr=[1025])\n"
     ]
    },
    {
     "name": "stderr",
     "output_type": "stream",
     "text": [
      " 55%|█████▌    | 112/202 [02:56<02:19,  1.55s/it]"
     ]
    },
    {
     "name": "stdout",
     "output_type": "stream",
     "text": [
      "DataBatch(x=[4096, 1], edge_index=[2, 12288], edge_attr=[12288, 3], y=[1024], batch=[4096], ptr=[1025])\n"
     ]
    },
    {
     "name": "stderr",
     "output_type": "stream",
     "text": [
      " 56%|█████▌    | 113/202 [02:58<02:18,  1.55s/it]"
     ]
    },
    {
     "name": "stdout",
     "output_type": "stream",
     "text": [
      "DataBatch(x=[4096, 1], edge_index=[2, 12288], edge_attr=[12288, 3], y=[1024], batch=[4096], ptr=[1025])\n"
     ]
    },
    {
     "name": "stderr",
     "output_type": "stream",
     "text": [
      " 56%|█████▋    | 114/202 [02:59<02:21,  1.60s/it]"
     ]
    },
    {
     "name": "stdout",
     "output_type": "stream",
     "text": [
      "DataBatch(x=[4096, 1], edge_index=[2, 12288], edge_attr=[12288, 3], y=[1024], batch=[4096], ptr=[1025])\n"
     ]
    },
    {
     "name": "stderr",
     "output_type": "stream",
     "text": [
      " 57%|█████▋    | 115/202 [03:01<02:17,  1.59s/it]"
     ]
    },
    {
     "name": "stdout",
     "output_type": "stream",
     "text": [
      "DataBatch(x=[4096, 1], edge_index=[2, 12288], edge_attr=[12288, 3], y=[1024], batch=[4096], ptr=[1025])\n"
     ]
    },
    {
     "name": "stderr",
     "output_type": "stream",
     "text": [
      " 57%|█████▋    | 116/202 [03:02<02:15,  1.58s/it]"
     ]
    },
    {
     "name": "stdout",
     "output_type": "stream",
     "text": [
      "DataBatch(x=[4096, 1], edge_index=[2, 12288], edge_attr=[12288, 3], y=[1024], batch=[4096], ptr=[1025])\n"
     ]
    },
    {
     "name": "stderr",
     "output_type": "stream",
     "text": [
      " 58%|█████▊    | 117/202 [03:04<02:13,  1.57s/it]"
     ]
    },
    {
     "name": "stdout",
     "output_type": "stream",
     "text": [
      "DataBatch(x=[4096, 1], edge_index=[2, 12288], edge_attr=[12288, 3], y=[1024], batch=[4096], ptr=[1025])\n"
     ]
    },
    {
     "name": "stderr",
     "output_type": "stream",
     "text": [
      " 58%|█████▊    | 118/202 [03:05<02:11,  1.56s/it]"
     ]
    },
    {
     "name": "stdout",
     "output_type": "stream",
     "text": [
      "DataBatch(x=[4096, 1], edge_index=[2, 12288], edge_attr=[12288, 3], y=[1024], batch=[4096], ptr=[1025])\n"
     ]
    },
    {
     "name": "stderr",
     "output_type": "stream",
     "text": [
      " 59%|█████▉    | 119/202 [03:07<02:09,  1.56s/it]"
     ]
    },
    {
     "name": "stdout",
     "output_type": "stream",
     "text": [
      "DataBatch(x=[4096, 1], edge_index=[2, 12288], edge_attr=[12288, 3], y=[1024], batch=[4096], ptr=[1025])\n"
     ]
    },
    {
     "name": "stderr",
     "output_type": "stream",
     "text": [
      " 59%|█████▉    | 120/202 [03:09<02:09,  1.57s/it]"
     ]
    },
    {
     "name": "stdout",
     "output_type": "stream",
     "text": [
      "DataBatch(x=[4096, 1], edge_index=[2, 12288], edge_attr=[12288, 3], y=[1024], batch=[4096], ptr=[1025])\n"
     ]
    },
    {
     "name": "stderr",
     "output_type": "stream",
     "text": [
      " 60%|█████▉    | 121/202 [03:10<02:07,  1.57s/it]"
     ]
    },
    {
     "name": "stdout",
     "output_type": "stream",
     "text": [
      "DataBatch(x=[4096, 1], edge_index=[2, 12288], edge_attr=[12288, 3], y=[1024], batch=[4096], ptr=[1025])\n"
     ]
    },
    {
     "name": "stderr",
     "output_type": "stream",
     "text": [
      " 60%|██████    | 122/202 [03:12<02:04,  1.56s/it]"
     ]
    },
    {
     "name": "stdout",
     "output_type": "stream",
     "text": [
      "DataBatch(x=[4096, 1], edge_index=[2, 12288], edge_attr=[12288, 3], y=[1024], batch=[4096], ptr=[1025])\n"
     ]
    },
    {
     "name": "stderr",
     "output_type": "stream",
     "text": [
      " 61%|██████    | 123/202 [03:13<02:02,  1.55s/it]"
     ]
    },
    {
     "name": "stdout",
     "output_type": "stream",
     "text": [
      "DataBatch(x=[4096, 1], edge_index=[2, 12288], edge_attr=[12288, 3], y=[1024], batch=[4096], ptr=[1025])\n"
     ]
    },
    {
     "name": "stderr",
     "output_type": "stream",
     "text": [
      " 61%|██████▏   | 124/202 [03:15<02:01,  1.56s/it]"
     ]
    },
    {
     "name": "stdout",
     "output_type": "stream",
     "text": [
      "DataBatch(x=[4096, 1], edge_index=[2, 12288], edge_attr=[12288, 3], y=[1024], batch=[4096], ptr=[1025])\n"
     ]
    },
    {
     "name": "stderr",
     "output_type": "stream",
     "text": [
      " 62%|██████▏   | 125/202 [03:16<02:00,  1.56s/it]"
     ]
    },
    {
     "name": "stdout",
     "output_type": "stream",
     "text": [
      "DataBatch(x=[4096, 1], edge_index=[2, 12288], edge_attr=[12288, 3], y=[1024], batch=[4096], ptr=[1025])\n"
     ]
    },
    {
     "name": "stderr",
     "output_type": "stream",
     "text": [
      " 62%|██████▏   | 126/202 [03:18<01:57,  1.55s/it]"
     ]
    },
    {
     "name": "stdout",
     "output_type": "stream",
     "text": [
      "DataBatch(x=[4096, 1], edge_index=[2, 12288], edge_attr=[12288, 3], y=[1024], batch=[4096], ptr=[1025])\n"
     ]
    },
    {
     "name": "stderr",
     "output_type": "stream",
     "text": [
      " 63%|██████▎   | 127/202 [03:20<01:56,  1.55s/it]"
     ]
    },
    {
     "name": "stdout",
     "output_type": "stream",
     "text": [
      "DataBatch(x=[4096, 1], edge_index=[2, 12288], edge_attr=[12288, 3], y=[1024], batch=[4096], ptr=[1025])\n"
     ]
    },
    {
     "name": "stderr",
     "output_type": "stream",
     "text": [
      " 63%|██████▎   | 128/202 [03:21<01:59,  1.62s/it]"
     ]
    },
    {
     "name": "stdout",
     "output_type": "stream",
     "text": [
      "DataBatch(x=[4096, 1], edge_index=[2, 12288], edge_attr=[12288, 3], y=[1024], batch=[4096], ptr=[1025])\n"
     ]
    },
    {
     "name": "stderr",
     "output_type": "stream",
     "text": [
      " 64%|██████▍   | 129/202 [03:23<01:56,  1.60s/it]"
     ]
    },
    {
     "name": "stdout",
     "output_type": "stream",
     "text": [
      "DataBatch(x=[4096, 1], edge_index=[2, 12288], edge_attr=[12288, 3], y=[1024], batch=[4096], ptr=[1025])\n"
     ]
    },
    {
     "name": "stderr",
     "output_type": "stream",
     "text": [
      " 64%|██████▍   | 130/202 [03:24<01:54,  1.60s/it]"
     ]
    },
    {
     "name": "stdout",
     "output_type": "stream",
     "text": [
      "DataBatch(x=[4096, 1], edge_index=[2, 12288], edge_attr=[12288, 3], y=[1024], batch=[4096], ptr=[1025])\n"
     ]
    },
    {
     "name": "stderr",
     "output_type": "stream",
     "text": [
      " 65%|██████▍   | 131/202 [03:26<01:52,  1.59s/it]"
     ]
    },
    {
     "name": "stdout",
     "output_type": "stream",
     "text": [
      "DataBatch(x=[4096, 1], edge_index=[2, 12288], edge_attr=[12288, 3], y=[1024], batch=[4096], ptr=[1025])\n"
     ]
    },
    {
     "name": "stderr",
     "output_type": "stream",
     "text": [
      " 65%|██████▌   | 132/202 [03:28<01:50,  1.58s/it]"
     ]
    },
    {
     "name": "stdout",
     "output_type": "stream",
     "text": [
      "DataBatch(x=[4096, 1], edge_index=[2, 12288], edge_attr=[12288, 3], y=[1024], batch=[4096], ptr=[1025])\n"
     ]
    },
    {
     "name": "stderr",
     "output_type": "stream",
     "text": [
      " 66%|██████▌   | 133/202 [03:29<01:48,  1.57s/it]"
     ]
    },
    {
     "name": "stdout",
     "output_type": "stream",
     "text": [
      "DataBatch(x=[4096, 1], edge_index=[2, 12288], edge_attr=[12288, 3], y=[1024], batch=[4096], ptr=[1025])\n"
     ]
    },
    {
     "name": "stderr",
     "output_type": "stream",
     "text": [
      " 66%|██████▋   | 134/202 [03:31<01:46,  1.57s/it]"
     ]
    },
    {
     "name": "stdout",
     "output_type": "stream",
     "text": [
      "DataBatch(x=[4096, 1], edge_index=[2, 12288], edge_attr=[12288, 3], y=[1024], batch=[4096], ptr=[1025])\n"
     ]
    },
    {
     "name": "stderr",
     "output_type": "stream",
     "text": [
      " 67%|██████▋   | 135/202 [03:32<01:44,  1.56s/it]"
     ]
    },
    {
     "name": "stdout",
     "output_type": "stream",
     "text": [
      "DataBatch(x=[4096, 1], edge_index=[2, 12288], edge_attr=[12288, 3], y=[1024], batch=[4096], ptr=[1025])\n"
     ]
    },
    {
     "name": "stderr",
     "output_type": "stream",
     "text": [
      " 67%|██████▋   | 136/202 [03:34<01:43,  1.57s/it]"
     ]
    },
    {
     "name": "stdout",
     "output_type": "stream",
     "text": [
      "DataBatch(x=[4096, 1], edge_index=[2, 12288], edge_attr=[12288, 3], y=[1024], batch=[4096], ptr=[1025])\n"
     ]
    },
    {
     "name": "stderr",
     "output_type": "stream",
     "text": [
      " 68%|██████▊   | 137/202 [03:35<01:42,  1.58s/it]"
     ]
    },
    {
     "name": "stdout",
     "output_type": "stream",
     "text": [
      "DataBatch(x=[4096, 1], edge_index=[2, 12288], edge_attr=[12288, 3], y=[1024], batch=[4096], ptr=[1025])\n"
     ]
    },
    {
     "name": "stderr",
     "output_type": "stream",
     "text": [
      " 68%|██████▊   | 138/202 [03:37<01:40,  1.57s/it]"
     ]
    },
    {
     "name": "stdout",
     "output_type": "stream",
     "text": [
      "DataBatch(x=[4096, 1], edge_index=[2, 12288], edge_attr=[12288, 3], y=[1024], batch=[4096], ptr=[1025])\n"
     ]
    },
    {
     "name": "stderr",
     "output_type": "stream",
     "text": [
      " 69%|██████▉   | 139/202 [03:39<01:38,  1.57s/it]"
     ]
    },
    {
     "name": "stdout",
     "output_type": "stream",
     "text": [
      "DataBatch(x=[4096, 1], edge_index=[2, 12288], edge_attr=[12288, 3], y=[1024], batch=[4096], ptr=[1025])\n"
     ]
    },
    {
     "name": "stderr",
     "output_type": "stream",
     "text": [
      " 69%|██████▉   | 140/202 [03:40<01:38,  1.59s/it]"
     ]
    },
    {
     "name": "stdout",
     "output_type": "stream",
     "text": [
      "DataBatch(x=[4096, 1], edge_index=[2, 12288], edge_attr=[12288, 3], y=[1024], batch=[4096], ptr=[1025])\n"
     ]
    },
    {
     "name": "stderr",
     "output_type": "stream",
     "text": [
      " 70%|██████▉   | 141/202 [03:42<01:36,  1.59s/it]"
     ]
    },
    {
     "name": "stdout",
     "output_type": "stream",
     "text": [
      "DataBatch(x=[4096, 1], edge_index=[2, 12288], edge_attr=[12288, 3], y=[1024], batch=[4096], ptr=[1025])\n"
     ]
    },
    {
     "name": "stderr",
     "output_type": "stream",
     "text": [
      " 70%|███████   | 142/202 [03:43<01:34,  1.58s/it]"
     ]
    },
    {
     "name": "stdout",
     "output_type": "stream",
     "text": [
      "DataBatch(x=[4096, 1], edge_index=[2, 12288], edge_attr=[12288, 3], y=[1024], batch=[4096], ptr=[1025])\n"
     ]
    },
    {
     "name": "stderr",
     "output_type": "stream",
     "text": [
      " 71%|███████   | 143/202 [03:45<01:36,  1.63s/it]"
     ]
    },
    {
     "name": "stdout",
     "output_type": "stream",
     "text": [
      "DataBatch(x=[4096, 1], edge_index=[2, 12288], edge_attr=[12288, 3], y=[1024], batch=[4096], ptr=[1025])\n"
     ]
    },
    {
     "name": "stderr",
     "output_type": "stream",
     "text": [
      " 71%|███████▏  | 144/202 [03:47<01:32,  1.60s/it]"
     ]
    },
    {
     "name": "stdout",
     "output_type": "stream",
     "text": [
      "DataBatch(x=[4096, 1], edge_index=[2, 12288], edge_attr=[12288, 3], y=[1024], batch=[4096], ptr=[1025])\n"
     ]
    },
    {
     "name": "stderr",
     "output_type": "stream",
     "text": [
      " 72%|███████▏  | 145/202 [03:48<01:30,  1.58s/it]"
     ]
    },
    {
     "name": "stdout",
     "output_type": "stream",
     "text": [
      "DataBatch(x=[4096, 1], edge_index=[2, 12288], edge_attr=[12288, 3], y=[1024], batch=[4096], ptr=[1025])\n"
     ]
    },
    {
     "name": "stderr",
     "output_type": "stream",
     "text": [
      " 72%|███████▏  | 146/202 [03:50<01:27,  1.57s/it]"
     ]
    },
    {
     "name": "stdout",
     "output_type": "stream",
     "text": [
      "DataBatch(x=[4096, 1], edge_index=[2, 12288], edge_attr=[12288, 3], y=[1024], batch=[4096], ptr=[1025])\n"
     ]
    },
    {
     "name": "stderr",
     "output_type": "stream",
     "text": [
      " 73%|███████▎  | 147/202 [03:51<01:26,  1.57s/it]"
     ]
    },
    {
     "name": "stdout",
     "output_type": "stream",
     "text": [
      "DataBatch(x=[4096, 1], edge_index=[2, 12288], edge_attr=[12288, 3], y=[1024], batch=[4096], ptr=[1025])\n"
     ]
    },
    {
     "name": "stderr",
     "output_type": "stream",
     "text": [
      " 73%|███████▎  | 148/202 [03:53<01:24,  1.56s/it]"
     ]
    },
    {
     "name": "stdout",
     "output_type": "stream",
     "text": [
      "DataBatch(x=[4096, 1], edge_index=[2, 12288], edge_attr=[12288, 3], y=[1024], batch=[4096], ptr=[1025])\n"
     ]
    },
    {
     "name": "stderr",
     "output_type": "stream",
     "text": [
      " 74%|███████▍  | 149/202 [03:54<01:22,  1.56s/it]"
     ]
    },
    {
     "name": "stdout",
     "output_type": "stream",
     "text": [
      "DataBatch(x=[4096, 1], edge_index=[2, 12288], edge_attr=[12288, 3], y=[1024], batch=[4096], ptr=[1025])\n"
     ]
    },
    {
     "name": "stderr",
     "output_type": "stream",
     "text": [
      " 74%|███████▍  | 150/202 [03:56<01:21,  1.56s/it]"
     ]
    },
    {
     "name": "stdout",
     "output_type": "stream",
     "text": [
      "DataBatch(x=[4096, 1], edge_index=[2, 12288], edge_attr=[12288, 3], y=[1024], batch=[4096], ptr=[1025])\n"
     ]
    },
    {
     "name": "stderr",
     "output_type": "stream",
     "text": [
      " 75%|███████▍  | 151/202 [03:57<01:19,  1.56s/it]"
     ]
    },
    {
     "name": "stdout",
     "output_type": "stream",
     "text": [
      "DataBatch(x=[4096, 1], edge_index=[2, 12288], edge_attr=[12288, 3], y=[1024], batch=[4096], ptr=[1025])\n"
     ]
    },
    {
     "name": "stderr",
     "output_type": "stream",
     "text": [
      " 75%|███████▌  | 152/202 [03:59<01:17,  1.55s/it]"
     ]
    },
    {
     "name": "stdout",
     "output_type": "stream",
     "text": [
      "DataBatch(x=[4096, 1], edge_index=[2, 12288], edge_attr=[12288, 3], y=[1024], batch=[4096], ptr=[1025])\n"
     ]
    },
    {
     "name": "stderr",
     "output_type": "stream",
     "text": [
      " 76%|███████▌  | 153/202 [04:01<01:16,  1.56s/it]"
     ]
    },
    {
     "name": "stdout",
     "output_type": "stream",
     "text": [
      "DataBatch(x=[4096, 1], edge_index=[2, 12288], edge_attr=[12288, 3], y=[1024], batch=[4096], ptr=[1025])\n"
     ]
    },
    {
     "name": "stderr",
     "output_type": "stream",
     "text": [
      " 76%|███████▌  | 154/202 [04:02<01:14,  1.55s/it]"
     ]
    },
    {
     "name": "stdout",
     "output_type": "stream",
     "text": [
      "DataBatch(x=[4096, 1], edge_index=[2, 12288], edge_attr=[12288, 3], y=[1024], batch=[4096], ptr=[1025])\n"
     ]
    },
    {
     "name": "stderr",
     "output_type": "stream",
     "text": [
      " 77%|███████▋  | 155/202 [04:04<01:13,  1.55s/it]"
     ]
    },
    {
     "name": "stdout",
     "output_type": "stream",
     "text": [
      "DataBatch(x=[4096, 1], edge_index=[2, 12288], edge_attr=[12288, 3], y=[1024], batch=[4096], ptr=[1025])\n"
     ]
    },
    {
     "name": "stderr",
     "output_type": "stream",
     "text": [
      " 77%|███████▋  | 156/202 [04:05<01:11,  1.55s/it]"
     ]
    },
    {
     "name": "stdout",
     "output_type": "stream",
     "text": [
      "DataBatch(x=[4096, 1], edge_index=[2, 12288], edge_attr=[12288, 3], y=[1024], batch=[4096], ptr=[1025])\n"
     ]
    },
    {
     "name": "stderr",
     "output_type": "stream",
     "text": [
      " 78%|███████▊  | 157/202 [04:07<01:12,  1.60s/it]"
     ]
    },
    {
     "name": "stdout",
     "output_type": "stream",
     "text": [
      "DataBatch(x=[4096, 1], edge_index=[2, 12288], edge_attr=[12288, 3], y=[1024], batch=[4096], ptr=[1025])\n"
     ]
    },
    {
     "name": "stderr",
     "output_type": "stream",
     "text": [
      " 78%|███████▊  | 158/202 [04:08<01:09,  1.58s/it]"
     ]
    },
    {
     "name": "stdout",
     "output_type": "stream",
     "text": [
      "DataBatch(x=[4096, 1], edge_index=[2, 12288], edge_attr=[12288, 3], y=[1024], batch=[4096], ptr=[1025])\n"
     ]
    },
    {
     "name": "stderr",
     "output_type": "stream",
     "text": [
      " 79%|███████▊  | 159/202 [04:10<01:07,  1.58s/it]"
     ]
    },
    {
     "name": "stdout",
     "output_type": "stream",
     "text": [
      "DataBatch(x=[4096, 1], edge_index=[2, 12288], edge_attr=[12288, 3], y=[1024], batch=[4096], ptr=[1025])\n"
     ]
    },
    {
     "name": "stderr",
     "output_type": "stream",
     "text": [
      " 79%|███████▉  | 160/202 [04:12<01:06,  1.58s/it]"
     ]
    },
    {
     "name": "stdout",
     "output_type": "stream",
     "text": [
      "DataBatch(x=[4096, 1], edge_index=[2, 12288], edge_attr=[12288, 3], y=[1024], batch=[4096], ptr=[1025])\n"
     ]
    },
    {
     "name": "stderr",
     "output_type": "stream",
     "text": [
      " 80%|███████▉  | 161/202 [04:13<01:05,  1.59s/it]"
     ]
    },
    {
     "name": "stdout",
     "output_type": "stream",
     "text": [
      "DataBatch(x=[4096, 1], edge_index=[2, 12288], edge_attr=[12288, 3], y=[1024], batch=[4096], ptr=[1025])\n"
     ]
    },
    {
     "name": "stderr",
     "output_type": "stream",
     "text": [
      " 80%|████████  | 162/202 [04:15<01:03,  1.58s/it]"
     ]
    },
    {
     "name": "stdout",
     "output_type": "stream",
     "text": [
      "DataBatch(x=[4096, 1], edge_index=[2, 12288], edge_attr=[12288, 3], y=[1024], batch=[4096], ptr=[1025])\n"
     ]
    },
    {
     "name": "stderr",
     "output_type": "stream",
     "text": [
      " 81%|████████  | 163/202 [04:16<01:01,  1.58s/it]"
     ]
    },
    {
     "name": "stdout",
     "output_type": "stream",
     "text": [
      "DataBatch(x=[4096, 1], edge_index=[2, 12288], edge_attr=[12288, 3], y=[1024], batch=[4096], ptr=[1025])\n"
     ]
    },
    {
     "name": "stderr",
     "output_type": "stream",
     "text": [
      " 81%|████████  | 164/202 [04:18<00:59,  1.56s/it]"
     ]
    },
    {
     "name": "stdout",
     "output_type": "stream",
     "text": [
      "DataBatch(x=[4096, 1], edge_index=[2, 12288], edge_attr=[12288, 3], y=[1024], batch=[4096], ptr=[1025])\n"
     ]
    },
    {
     "name": "stderr",
     "output_type": "stream",
     "text": [
      " 82%|████████▏ | 165/202 [04:19<00:57,  1.55s/it]"
     ]
    },
    {
     "name": "stdout",
     "output_type": "stream",
     "text": [
      "DataBatch(x=[4096, 1], edge_index=[2, 12288], edge_attr=[12288, 3], y=[1024], batch=[4096], ptr=[1025])\n"
     ]
    },
    {
     "name": "stderr",
     "output_type": "stream",
     "text": [
      " 82%|████████▏ | 166/202 [04:21<00:56,  1.56s/it]"
     ]
    },
    {
     "name": "stdout",
     "output_type": "stream",
     "text": [
      "DataBatch(x=[4096, 1], edge_index=[2, 12288], edge_attr=[12288, 3], y=[1024], batch=[4096], ptr=[1025])\n"
     ]
    },
    {
     "name": "stderr",
     "output_type": "stream",
     "text": [
      " 83%|████████▎ | 167/202 [04:23<00:54,  1.56s/it]"
     ]
    },
    {
     "name": "stdout",
     "output_type": "stream",
     "text": [
      "DataBatch(x=[4096, 1], edge_index=[2, 12288], edge_attr=[12288, 3], y=[1024], batch=[4096], ptr=[1025])\n"
     ]
    },
    {
     "name": "stderr",
     "output_type": "stream",
     "text": [
      " 83%|████████▎ | 168/202 [04:24<00:53,  1.56s/it]"
     ]
    },
    {
     "name": "stdout",
     "output_type": "stream",
     "text": [
      "DataBatch(x=[4096, 1], edge_index=[2, 12288], edge_attr=[12288, 3], y=[1024], batch=[4096], ptr=[1025])\n"
     ]
    },
    {
     "name": "stderr",
     "output_type": "stream",
     "text": [
      " 84%|████████▎ | 169/202 [04:26<00:51,  1.56s/it]"
     ]
    },
    {
     "name": "stdout",
     "output_type": "stream",
     "text": [
      "DataBatch(x=[4096, 1], edge_index=[2, 12288], edge_attr=[12288, 3], y=[1024], batch=[4096], ptr=[1025])\n"
     ]
    },
    {
     "name": "stderr",
     "output_type": "stream",
     "text": [
      " 84%|████████▍ | 170/202 [04:27<00:49,  1.56s/it]"
     ]
    },
    {
     "name": "stdout",
     "output_type": "stream",
     "text": [
      "DataBatch(x=[4096, 1], edge_index=[2, 12288], edge_attr=[12288, 3], y=[1024], batch=[4096], ptr=[1025])\n"
     ]
    },
    {
     "name": "stderr",
     "output_type": "stream",
     "text": [
      " 85%|████████▍ | 171/202 [04:29<00:48,  1.55s/it]"
     ]
    },
    {
     "name": "stdout",
     "output_type": "stream",
     "text": [
      "DataBatch(x=[4096, 1], edge_index=[2, 12288], edge_attr=[12288, 3], y=[1024], batch=[4096], ptr=[1025])\n"
     ]
    },
    {
     "name": "stderr",
     "output_type": "stream",
     "text": [
      " 85%|████████▌ | 172/202 [04:30<00:48,  1.60s/it]"
     ]
    },
    {
     "name": "stdout",
     "output_type": "stream",
     "text": [
      "DataBatch(x=[4096, 1], edge_index=[2, 12288], edge_attr=[12288, 3], y=[1024], batch=[4096], ptr=[1025])\n"
     ]
    },
    {
     "name": "stderr",
     "output_type": "stream",
     "text": [
      " 86%|████████▌ | 173/202 [04:32<00:45,  1.58s/it]"
     ]
    },
    {
     "name": "stdout",
     "output_type": "stream",
     "text": [
      "DataBatch(x=[4096, 1], edge_index=[2, 12288], edge_attr=[12288, 3], y=[1024], batch=[4096], ptr=[1025])\n"
     ]
    },
    {
     "name": "stderr",
     "output_type": "stream",
     "text": [
      " 86%|████████▌ | 174/202 [04:34<00:44,  1.58s/it]"
     ]
    },
    {
     "name": "stdout",
     "output_type": "stream",
     "text": [
      "DataBatch(x=[4096, 1], edge_index=[2, 12288], edge_attr=[12288, 3], y=[1024], batch=[4096], ptr=[1025])\n"
     ]
    },
    {
     "name": "stderr",
     "output_type": "stream",
     "text": [
      " 87%|████████▋ | 175/202 [04:35<00:42,  1.57s/it]"
     ]
    },
    {
     "name": "stdout",
     "output_type": "stream",
     "text": [
      "DataBatch(x=[4096, 1], edge_index=[2, 12288], edge_attr=[12288, 3], y=[1024], batch=[4096], ptr=[1025])\n"
     ]
    },
    {
     "name": "stderr",
     "output_type": "stream",
     "text": [
      " 87%|████████▋ | 176/202 [04:37<00:40,  1.56s/it]"
     ]
    },
    {
     "name": "stdout",
     "output_type": "stream",
     "text": [
      "DataBatch(x=[4096, 1], edge_index=[2, 12288], edge_attr=[12288, 3], y=[1024], batch=[4096], ptr=[1025])\n"
     ]
    },
    {
     "name": "stderr",
     "output_type": "stream",
     "text": [
      " 88%|████████▊ | 177/202 [04:38<00:39,  1.56s/it]"
     ]
    },
    {
     "name": "stdout",
     "output_type": "stream",
     "text": [
      "DataBatch(x=[4096, 1], edge_index=[2, 12288], edge_attr=[12288, 3], y=[1024], batch=[4096], ptr=[1025])\n"
     ]
    },
    {
     "name": "stderr",
     "output_type": "stream",
     "text": [
      " 88%|████████▊ | 178/202 [04:40<00:37,  1.56s/it]"
     ]
    },
    {
     "name": "stdout",
     "output_type": "stream",
     "text": [
      "DataBatch(x=[4096, 1], edge_index=[2, 12288], edge_attr=[12288, 3], y=[1024], batch=[4096], ptr=[1025])\n"
     ]
    },
    {
     "name": "stderr",
     "output_type": "stream",
     "text": [
      " 89%|████████▊ | 179/202 [04:41<00:35,  1.56s/it]"
     ]
    },
    {
     "name": "stdout",
     "output_type": "stream",
     "text": [
      "DataBatch(x=[4096, 1], edge_index=[2, 12288], edge_attr=[12288, 3], y=[1024], batch=[4096], ptr=[1025])\n"
     ]
    },
    {
     "name": "stderr",
     "output_type": "stream",
     "text": [
      " 89%|████████▉ | 180/202 [04:43<00:34,  1.57s/it]"
     ]
    },
    {
     "name": "stdout",
     "output_type": "stream",
     "text": [
      "DataBatch(x=[4096, 1], edge_index=[2, 12288], edge_attr=[12288, 3], y=[1024], batch=[4096], ptr=[1025])\n"
     ]
    },
    {
     "name": "stderr",
     "output_type": "stream",
     "text": [
      " 90%|████████▉ | 181/202 [04:45<00:33,  1.58s/it]"
     ]
    },
    {
     "name": "stdout",
     "output_type": "stream",
     "text": [
      "DataBatch(x=[4096, 1], edge_index=[2, 12288], edge_attr=[12288, 3], y=[1024], batch=[4096], ptr=[1025])\n"
     ]
    },
    {
     "name": "stderr",
     "output_type": "stream",
     "text": [
      " 90%|█████████ | 182/202 [04:46<00:31,  1.57s/it]"
     ]
    },
    {
     "name": "stdout",
     "output_type": "stream",
     "text": [
      "DataBatch(x=[4096, 1], edge_index=[2, 12288], edge_attr=[12288, 3], y=[1024], batch=[4096], ptr=[1025])\n"
     ]
    },
    {
     "name": "stderr",
     "output_type": "stream",
     "text": [
      " 91%|█████████ | 183/202 [04:48<00:29,  1.56s/it]"
     ]
    },
    {
     "name": "stdout",
     "output_type": "stream",
     "text": [
      "DataBatch(x=[4096, 1], edge_index=[2, 12288], edge_attr=[12288, 3], y=[1024], batch=[4096], ptr=[1025])\n"
     ]
    },
    {
     "name": "stderr",
     "output_type": "stream",
     "text": [
      " 91%|█████████ | 184/202 [04:49<00:27,  1.55s/it]"
     ]
    },
    {
     "name": "stdout",
     "output_type": "stream",
     "text": [
      "DataBatch(x=[4096, 1], edge_index=[2, 12288], edge_attr=[12288, 3], y=[1024], batch=[4096], ptr=[1025])\n"
     ]
    },
    {
     "name": "stderr",
     "output_type": "stream",
     "text": [
      " 92%|█████████▏| 185/202 [04:51<00:27,  1.61s/it]"
     ]
    },
    {
     "name": "stdout",
     "output_type": "stream",
     "text": [
      "DataBatch(x=[4096, 1], edge_index=[2, 12288], edge_attr=[12288, 3], y=[1024], batch=[4096], ptr=[1025])\n"
     ]
    },
    {
     "name": "stderr",
     "output_type": "stream",
     "text": [
      " 92%|█████████▏| 186/202 [04:52<00:25,  1.60s/it]"
     ]
    },
    {
     "name": "stdout",
     "output_type": "stream",
     "text": [
      "DataBatch(x=[4096, 1], edge_index=[2, 12288], edge_attr=[12288, 3], y=[1024], batch=[4096], ptr=[1025])\n"
     ]
    },
    {
     "name": "stderr",
     "output_type": "stream",
     "text": [
      " 93%|█████████▎| 187/202 [04:54<00:24,  1.60s/it]"
     ]
    },
    {
     "name": "stdout",
     "output_type": "stream",
     "text": [
      "DataBatch(x=[4096, 1], edge_index=[2, 12288], edge_attr=[12288, 3], y=[1024], batch=[4096], ptr=[1025])\n"
     ]
    },
    {
     "name": "stderr",
     "output_type": "stream",
     "text": [
      " 93%|█████████▎| 188/202 [04:56<00:22,  1.58s/it]"
     ]
    },
    {
     "name": "stdout",
     "output_type": "stream",
     "text": [
      "DataBatch(x=[4096, 1], edge_index=[2, 12288], edge_attr=[12288, 3], y=[1024], batch=[4096], ptr=[1025])\n"
     ]
    },
    {
     "name": "stderr",
     "output_type": "stream",
     "text": [
      " 94%|█████████▎| 189/202 [04:57<00:20,  1.57s/it]"
     ]
    },
    {
     "name": "stdout",
     "output_type": "stream",
     "text": [
      "DataBatch(x=[4096, 1], edge_index=[2, 12288], edge_attr=[12288, 3], y=[1024], batch=[4096], ptr=[1025])\n"
     ]
    },
    {
     "name": "stderr",
     "output_type": "stream",
     "text": [
      " 94%|█████████▍| 190/202 [04:59<00:18,  1.56s/it]"
     ]
    },
    {
     "name": "stdout",
     "output_type": "stream",
     "text": [
      "DataBatch(x=[4096, 1], edge_index=[2, 12288], edge_attr=[12288, 3], y=[1024], batch=[4096], ptr=[1025])\n"
     ]
    },
    {
     "name": "stderr",
     "output_type": "stream",
     "text": [
      " 95%|█████████▍| 191/202 [05:00<00:17,  1.55s/it]"
     ]
    },
    {
     "name": "stdout",
     "output_type": "stream",
     "text": [
      "DataBatch(x=[4096, 1], edge_index=[2, 12288], edge_attr=[12288, 3], y=[1024], batch=[4096], ptr=[1025])\n"
     ]
    },
    {
     "name": "stderr",
     "output_type": "stream",
     "text": [
      " 95%|█████████▌| 192/202 [05:02<00:15,  1.55s/it]"
     ]
    },
    {
     "name": "stdout",
     "output_type": "stream",
     "text": [
      "DataBatch(x=[4096, 1], edge_index=[2, 12288], edge_attr=[12288, 3], y=[1024], batch=[4096], ptr=[1025])\n"
     ]
    },
    {
     "name": "stderr",
     "output_type": "stream",
     "text": [
      " 96%|█████████▌| 193/202 [05:03<00:13,  1.55s/it]"
     ]
    },
    {
     "name": "stdout",
     "output_type": "stream",
     "text": [
      "DataBatch(x=[4096, 1], edge_index=[2, 12288], edge_attr=[12288, 3], y=[1024], batch=[4096], ptr=[1025])\n"
     ]
    },
    {
     "name": "stderr",
     "output_type": "stream",
     "text": [
      " 96%|█████████▌| 194/202 [05:05<00:12,  1.55s/it]"
     ]
    },
    {
     "name": "stdout",
     "output_type": "stream",
     "text": [
      "DataBatch(x=[4096, 1], edge_index=[2, 12288], edge_attr=[12288, 3], y=[1024], batch=[4096], ptr=[1025])\n"
     ]
    },
    {
     "name": "stderr",
     "output_type": "stream",
     "text": [
      " 97%|█████████▋| 195/202 [05:06<00:10,  1.55s/it]"
     ]
    },
    {
     "name": "stdout",
     "output_type": "stream",
     "text": [
      "DataBatch(x=[4096, 1], edge_index=[2, 12288], edge_attr=[12288, 3], y=[1024], batch=[4096], ptr=[1025])\n"
     ]
    },
    {
     "name": "stderr",
     "output_type": "stream",
     "text": [
      " 97%|█████████▋| 196/202 [05:08<00:09,  1.56s/it]"
     ]
    },
    {
     "name": "stdout",
     "output_type": "stream",
     "text": [
      "DataBatch(x=[4096, 1], edge_index=[2, 12288], edge_attr=[12288, 3], y=[1024], batch=[4096], ptr=[1025])\n"
     ]
    },
    {
     "name": "stderr",
     "output_type": "stream",
     "text": [
      " 98%|█████████▊| 197/202 [05:09<00:07,  1.54s/it]"
     ]
    },
    {
     "name": "stdout",
     "output_type": "stream",
     "text": [
      "DataBatch(x=[4096, 1], edge_index=[2, 12288], edge_attr=[12288, 3], y=[1024], batch=[4096], ptr=[1025])\n"
     ]
    },
    {
     "name": "stderr",
     "output_type": "stream",
     "text": [
      " 98%|█████████▊| 198/202 [05:11<00:06,  1.55s/it]"
     ]
    },
    {
     "name": "stdout",
     "output_type": "stream",
     "text": [
      "DataBatch(x=[4096, 1], edge_index=[2, 12288], edge_attr=[12288, 3], y=[1024], batch=[4096], ptr=[1025])\n"
     ]
    },
    {
     "name": "stderr",
     "output_type": "stream",
     "text": [
      " 99%|█████████▊| 199/202 [05:13<00:04,  1.61s/it]"
     ]
    },
    {
     "name": "stdout",
     "output_type": "stream",
     "text": [
      "DataBatch(x=[4096, 1], edge_index=[2, 12288], edge_attr=[12288, 3], y=[1024], batch=[4096], ptr=[1025])\n"
     ]
    },
    {
     "name": "stderr",
     "output_type": "stream",
     "text": [
      " 99%|█████████▉| 200/202 [05:14<00:03,  1.62s/it]"
     ]
    },
    {
     "name": "stdout",
     "output_type": "stream",
     "text": [
      "DataBatch(x=[4096, 1], edge_index=[2, 12288], edge_attr=[12288, 3], y=[1024], batch=[4096], ptr=[1025])\n"
     ]
    },
    {
     "name": "stderr",
     "output_type": "stream",
     "text": [
      "100%|██████████| 202/202 [05:16<00:00,  1.57s/it]"
     ]
    },
    {
     "name": "stdout",
     "output_type": "stream",
     "text": [
      "DataBatch(x=[4096, 1], edge_index=[2, 12288], edge_attr=[12288, 3], y=[1024], batch=[4096], ptr=[1025])\n",
      "DataBatch(x=[380, 1], edge_index=[2, 1140], edge_attr=[1140, 3], y=[95], batch=[380], ptr=[96])\n",
      "Total GPU inference time: 316.684563 seconds\n"
     ]
    },
    {
     "name": "stderr",
     "output_type": "stream",
     "text": [
      "\n"
     ]
    },
    {
     "name": "stdout",
     "output_type": "stream",
     "text": [
      "MAE: 1.242137\n",
      "MSE: 3.771433\n"
     ]
    }
   ],
   "source": [
    "import time\n",
    "import numpy as np\n",
    "import torch\n",
    "from tqdm import tqdm\n",
    "import sklearn.metrics\n",
    "\n",
    "\n",
    "\n",
    "y_true_all = []\n",
    "y_pred_all = []\n",
    "test_los = 0\n",
    "loaded_model.eval()\n",
    "\n",
    "# Start GPU timer\n",
    "start_gpu_time = torch.cuda.Event(enable_timing=True)\n",
    "end_gpu_time = torch.cuda.Event(enable_timing=True)\n",
    "\n",
    "start_gpu_time.record()\n",
    "\n",
    "with torch.no_grad():\n",
    "    for data in tqdm(test_loader, position=0):\n",
    "        print(data)\n",
    "        data = data.to(device)\n",
    "        out = loaded_model(data)\n",
    "\n",
    "        # Collect true labels and predictions\n",
    "        labels = data.y.cpu().numpy()\n",
    "        y_true_all.extend(labels)\n",
    "        y_pred_all.extend(out.cpu().detach().numpy())\n",
    "\n",
    "        loss = criterion(out, data.y)\n",
    "        test_los += loss.cpu().detach().numpy() / len(test_loader)\n",
    "\n",
    "# End GPU timer\n",
    "end_gpu_time.record()\n",
    "\n",
    "# Waits for everything to finish running on the GPU\n",
    "torch.cuda.synchronize()\n",
    "\n",
    "# Calculate total GPU inference time\n",
    "total_gpu_inference_time = start_gpu_time.elapsed_time(end_gpu_time) / 1000.0  # Convert to seconds\n",
    "print(f\"Total GPU inference time: {total_gpu_inference_time:.6f} seconds\")\n",
    "\n",
    "# Convert collected labels and predictions to numpy arrays\n",
    "y_true_all = np.array(y_true_all)\n",
    "y_pred_all = np.array(y_pred_all)\n",
    "\n",
    "# Apply scaling to the predictions\n",
    "y_true_all = y_true_all * scaler.scale_[34] + scaler.mean_[34]\n",
    "y_pred_all = y_pred_all * scaler.scale_[34] + scaler.mean_[34]\n",
    "\n",
    "# Calculate F1 scores and accuracy\n",
    "f1_scores = f1_comp(y_true_all, y_pred_all)\n",
    "accuracy_scores = acc_comp(y_true_all, y_pred_all)\n",
    "\n",
    "# Calculate MAE\n",
    "mae = sklearn.metrics.mean_absolute_error(y_true_all, y_pred_all)\n",
    "mse = sklearn.metrics.mean_squared_error(y_true_all, y_pred_all)\n",
    "\n",
    "print(f\"MAE: {mae:.6f}\")\n",
    "print(f\"MSE: {mse:.6f}\")"
   ]
  },
  {
   "cell_type": "code",
   "execution_count": 66,
   "id": "8ca5c622",
   "metadata": {
    "execution": {
     "iopub.execute_input": "2025-05-07T00:11:31.948201Z",
     "iopub.status.busy": "2025-05-07T00:11:31.947936Z",
     "iopub.status.idle": "2025-05-07T00:11:31.952203Z",
     "shell.execute_reply": "2025-05-07T00:11:31.951698Z"
    },
    "papermill": {
     "duration": 0.045146,
     "end_time": "2025-05-07T00:11:31.953283",
     "exception": false,
     "start_time": "2025-05-07T00:11:31.908137",
     "status": "completed"
    },
    "tags": []
   },
   "outputs": [
    {
     "data": {
      "text/plain": [
       "(3.9377537017281714, 5.766601620977637)"
      ]
     },
     "execution_count": 66,
     "metadata": {},
     "output_type": "execute_result"
    }
   ],
   "source": [
    "scaler.scale_[34], scaler.mean_[34]"
   ]
  },
  {
   "cell_type": "code",
   "execution_count": 67,
   "id": "9319e6ff",
   "metadata": {
    "execution": {
     "iopub.execute_input": "2025-05-07T00:11:32.044427Z",
     "iopub.status.busy": "2025-05-07T00:11:32.044164Z",
     "iopub.status.idle": "2025-05-07T00:11:32.048670Z",
     "shell.execute_reply": "2025-05-07T00:11:32.048121Z"
    },
    "papermill": {
     "duration": 0.05088,
     "end_time": "2025-05-07T00:11:32.049817",
     "exception": false,
     "start_time": "2025-05-07T00:11:31.998937",
     "status": "completed"
    },
    "tags": []
   },
   "outputs": [
    {
     "name": "stdout",
     "output_type": "stream",
     "text": [
      "Test_loss: 0.24324973746396522\n",
      "F1 Scores: 0.0\n",
      "Accuracy Scores: 100.0\n",
      "Mean Absolute Error (MAE): 1.2421366\n"
     ]
    }
   ],
   "source": [
    "# Print results\n",
    "print('Test_loss:', test_los)\n",
    "print(\"F1 Scores:\", f1_scores[-1])\n",
    "print(\"Accuracy Scores:\", accuracy_scores[-1])\n",
    "print(\"Mean Absolute Error (MAE):\", mae)"
   ]
  },
  {
   "cell_type": "code",
   "execution_count": 68,
   "id": "c2658e3d",
   "metadata": {
    "execution": {
     "iopub.execute_input": "2025-05-07T00:11:32.141708Z",
     "iopub.status.busy": "2025-05-07T00:11:32.141504Z",
     "iopub.status.idle": "2025-05-07T00:11:32.147051Z",
     "shell.execute_reply": "2025-05-07T00:11:32.146478Z"
    },
    "papermill": {
     "duration": 0.053419,
     "end_time": "2025-05-07T00:11:32.148126",
     "exception": false,
     "start_time": "2025-05-07T00:11:32.094707",
     "status": "completed"
    },
    "tags": []
   },
   "outputs": [
    {
     "name": "stdout",
     "output_type": "stream",
     "text": [
      "Results saved to evaluation_results.csv\n"
     ]
    }
   ],
   "source": [
    "import csv\n",
    "\n",
    "# Data to be saved\n",
    "results = {\n",
    "    'Test_loss': test_los,\n",
    "    'F1_Score': f1_scores[-1],\n",
    "    'Accuracy_Score': accuracy_scores[-1],\n",
    "    'MAE': mae\n",
    "}\n",
    "\n",
    "# Save to CSV\n",
    "with open('evaluation_results.csv', mode='w', newline='') as file:\n",
    "    writer = csv.writer(file)\n",
    "    writer.writerow(['Metric', 'Value'])\n",
    "    for key, value in results.items():\n",
    "        writer.writerow([key, value])\n",
    "\n",
    "print('Results saved to evaluation_results.csv')"
   ]
  },
  {
   "cell_type": "code",
   "execution_count": 69,
   "id": "195028e3",
   "metadata": {
    "execution": {
     "iopub.execute_input": "2025-05-07T00:11:32.231497Z",
     "iopub.status.busy": "2025-05-07T00:11:32.231005Z",
     "iopub.status.idle": "2025-05-07T00:11:32.921334Z",
     "shell.execute_reply": "2025-05-07T00:11:32.920636Z"
    },
    "papermill": {
     "duration": 0.733833,
     "end_time": "2025-05-07T00:11:32.924072",
     "exception": false,
     "start_time": "2025-05-07T00:11:32.190239",
     "status": "completed"
    },
    "tags": []
   },
   "outputs": [
    {
     "data": {
      "image/png": "[encoded data removed]",
      "text/plain": [
       "<Figure size 1000x600 with 1 Axes>"
      ]
     },
     "metadata": {},
     "output_type": "display_data"
    }
   ],
   "source": [
    "import matplotlib.pyplot as plt\n",
    "\n",
    "# Assuming y_true_all and y_pred_all are defined and properly inverted\n",
    "\n",
    "plt.figure(figsize=(10, 6))\n",
    "plt.scatter(y_true_all, y_pred_all, alpha=0.5)\n",
    "plt.xlabel('True Values')\n",
    "plt.ylabel('Predicted Values')\n",
    "plt.title('True vs Predicted Values')\n",
    "plt.plot([min(y_true_all), max(y_true_all)], [min(y_true_all), max(y_true_all)], color='red', linestyle='--') # Line of equality\n",
    "plt.grid(True)\n",
    "plt.show()\n"
   ]
  },
  {
   "cell_type": "code",
   "execution_count": 70,
   "id": "8ab05f50",
   "metadata": {
    "execution": {
     "iopub.execute_input": "2025-05-07T00:11:33.010969Z",
     "iopub.status.busy": "2025-05-07T00:11:33.010770Z",
     "iopub.status.idle": "2025-05-07T00:11:45.373157Z",
     "shell.execute_reply": "2025-05-07T00:11:45.372409Z"
    },
    "papermill": {
     "duration": 12.406723,
     "end_time": "2025-05-07T00:11:45.374757",
     "exception": false,
     "start_time": "2025-05-07T00:11:32.968034",
     "status": "completed"
    },
    "tags": []
   },
   "outputs": [
    {
     "data": {
      "image/png": "[encoded data removed]",
      "text/plain": [
       "<Figure size 1000x600 with 1 Axes>"
      ]
     },
     "metadata": {},
     "output_type": "display_data"
    }
   ],
   "source": [
    "import matplotlib.pyplot as plt\n",
    "\n",
    "# Example data for y_true_all and y_pred_all\n",
    "# y_true_all = [your data here]\n",
    "# y_pred_all = [your data here]\n",
    "\n",
    "plt.figure(figsize=(10, 6))\n",
    "\n",
    "# Plotting the true values\n",
    "plt.scatter(range(len(y_true_all)), y_true_all, color='blue', alpha=0.5, label='True Values')\n",
    "\n",
    "# Plotting the predicted values\n",
    "plt.scatter(range(len(y_pred_all)), y_pred_all, color='orange', alpha=0.5, label='Predicted Values')\n",
    "\n",
    "plt.xlabel('Index')\n",
    "plt.ylabel('Values')\n",
    "plt.title('True Values vs Predicted Values')\n",
    "plt.legend()\n",
    "plt.grid(True)\n",
    "plt.show()\n"
   ]
  },
  {
   "cell_type": "code",
   "execution_count": 71,
   "id": "078b71d5",
   "metadata": {
    "execution": {
     "iopub.execute_input": "2025-05-07T00:11:45.465200Z",
     "iopub.status.busy": "2025-05-07T00:11:45.464961Z",
     "iopub.status.idle": "2025-05-07T00:11:45.477821Z",
     "shell.execute_reply": "2025-05-07T00:11:45.477055Z"
    },
    "papermill": {
     "duration": 0.059028,
     "end_time": "2025-05-07T00:11:45.479462",
     "exception": false,
     "start_time": "2025-05-07T00:11:45.420434",
     "status": "completed"
    },
    "tags": []
   },
   "outputs": [],
   "source": [
    "from scipy.stats import norm\n",
    "import numpy as np\n",
    "from scipy import stats\n",
    "import matplotlib.pyplot as plt\n",
    "from matplotlib.transforms import Bbox\n",
    "import plotly.graph_objects as go\n",
    "from scipy.optimize import curve_fit"
   ]
  },
  {
   "cell_type": "code",
   "execution_count": 72,
   "id": "98e85386",
   "metadata": {
    "execution": {
     "iopub.execute_input": "2025-05-07T00:11:45.567952Z",
     "iopub.status.busy": "2025-05-07T00:11:45.567379Z",
     "iopub.status.idle": "2025-05-07T00:11:45.570708Z",
     "shell.execute_reply": "2025-05-07T00:11:45.570227Z"
    },
    "papermill": {
     "duration": 0.048454,
     "end_time": "2025-05-07T00:11:45.571687",
     "exception": false,
     "start_time": "2025-05-07T00:11:45.523233",
     "status": "completed"
    },
    "tags": []
   },
   "outputs": [],
   "source": [
    "def cuts(datain,datacheck,minval,maxval):\n",
    "    dataout = datain[np.logical_and(datacheck > minval, datacheck < maxval)]\n",
    "    \n",
    "    return(dataout)"
   ]
  },
  {
   "cell_type": "code",
   "execution_count": 73,
   "id": "2ebb7c73",
   "metadata": {
    "execution": {
     "iopub.execute_input": "2025-05-07T00:11:45.660396Z",
     "iopub.status.busy": "2025-05-07T00:11:45.660168Z",
     "iopub.status.idle": "2025-05-07T00:11:45.668748Z",
     "shell.execute_reply": "2025-05-07T00:11:45.668023Z"
    },
    "papermill": {
     "duration": 0.055184,
     "end_time": "2025-05-07T00:11:45.669869",
     "exception": false,
     "start_time": "2025-05-07T00:11:45.614685",
     "status": "completed"
    },
    "tags": []
   },
   "outputs": [],
   "source": [
    "def plotgaussian(modelname, modelorreco, space, true, pred, varname, lower, upper, bins):\n",
    "    resmeans = []\n",
    "    stdevs = []\n",
    "    bincenters = []\n",
    "    samples = []\n",
    "    \n",
    "    #Compute residuals and bin width\n",
    "    width = (upper - lower) / bins\n",
    "    true = cuts(true, pred, lower, upper)\n",
    "    pred = cuts(pred, pred, lower, upper)\n",
    "    pred = cuts(pred, true, lower, upper)\n",
    "    true = cuts(true, true, lower, upper)\n",
    "    \n",
    "    resids = true - pred\n",
    "    \n",
    "    #Create gaussian plot for each bin\n",
    "    for i in range(bins):\n",
    "        #Find bin dimensions\n",
    "        lowertemp = lower + width * i\n",
    "        uppertemp = lower + width * (i + 1)\n",
    "        bincentertemp = (uppertemp + lowertemp) / 2\n",
    "        \n",
    "        #Cut the residuals to within lower and upper range along true values\n",
    "        residscut = cuts(resids, \n",
    "                         true, \n",
    "                         lowertemp, \n",
    "                         uppertemp)\n",
    "        \n",
    "        varnametemp = '%s Residuals Distribution (%.2f to %.2f)' % (varname, \n",
    "                                                                    lowertemp, \n",
    "                                                                    uppertemp)\n",
    "        residscut.sort()\n",
    "        \n",
    "        #Computer statistics for residuals\n",
    "        resmeantemp, resstdtemp = norm.fit(residscut)\n",
    "        samplestemp = len(residscut)\n",
    "        pdf = stats.norm.pdf(residscut, resmeantemp, resstdtemp)\n",
    "        \n",
    "        #Plot histogram of residuals\n",
    "        plt.hist(residscut, \n",
    "                 bins=bins, \n",
    "                 histtype='step', \n",
    "                 color='blue', \n",
    "                 density=1, \n",
    "                 label='Residuals')\n",
    "        \n",
    "        #Plot the normal curve fitted to the residuals\n",
    "        plt.plot(residscut, \n",
    "                 pdf, \n",
    "                 label='Normal Curve', \n",
    "                 color='black')\n",
    "        plt.title(varnametemp)\n",
    "        \n",
    "        #Plot the residuals mean as a vertical line\n",
    "        plt.axvline(resmeantemp, \n",
    "                    label='Mean: %.2f' % resmeantemp, \n",
    "                    color='red')\n",
    "        plt.xlabel('Stdev: %.2f (samples: %.i)' % (resstdtemp, \n",
    "                                                   samplestemp))\n",
    "        \n",
    "        #Plot the full-width half maximum range\n",
    "        plt.axvspan(resmeantemp - resstdtemp / 2,\n",
    "                    resmeantemp + resstdtemp / 2,\n",
    "                    facecolor='g',\n",
    "                    alpha=.3,\n",
    "                    label='Stdev')        \n",
    "        plt.legend()\n",
    "        plt.savefig(f\"{space}_gaussian.png\", bbox_inches='tight')\n",
    "        plt.close()\n",
    "        \n",
    "        #Append values to lists to be used by scatter() function\n",
    "        resmeans.append(resmeantemp)\n",
    "        samples.append(samplestemp)\n",
    "        stdevs.append(resstdtemp)\n",
    "        bincenters.append(bincentertemp)\n",
    "    \n",
    "    resmean = np.mean(resids)\n",
    "    stddev = np.std(resids)    \n",
    "    \n",
    "    return resmeans, stdevs, bincenters, samples, resmean, stddev"
   ]
  },
  {
   "cell_type": "code",
   "execution_count": 74,
   "id": "2af8cafc",
   "metadata": {
    "execution": {
     "iopub.execute_input": "2025-05-07T00:11:45.758542Z",
     "iopub.status.busy": "2025-05-07T00:11:45.758345Z",
     "iopub.status.idle": "2025-05-07T00:12:06.386685Z",
     "shell.execute_reply": "2025-05-07T00:12:06.386134Z"
    },
    "papermill": {
     "duration": 20.674624,
     "end_time": "2025-05-07T00:12:06.388197",
     "exception": false,
     "start_time": "2025-05-07T00:11:45.713573",
     "status": "completed"
    },
    "tags": []
   },
   "outputs": [],
   "source": [
    "resmeans, fwhms, bincenters, samples, resmean, stddev = \\\n",
    "    plotgaussian(model_name, \n",
    "                 'Model', \n",
    "                 \"/kaggle/working/\", \n",
    "                 y_true_all, \n",
    "                 y_pred_all, \n",
    "                 'pT', \n",
    "                 min_PT, \n",
    "                 max_pT, \n",
    "                 100)"
   ]
  },
  {
   "cell_type": "code",
   "execution_count": 75,
   "id": "ccfaf6b6",
   "metadata": {
    "execution": {
     "iopub.execute_input": "2025-05-07T00:12:06.478579Z",
     "iopub.status.busy": "2025-05-07T00:12:06.478363Z",
     "iopub.status.idle": "2025-05-07T00:12:06.483948Z",
     "shell.execute_reply": "2025-05-07T00:12:06.483408Z"
    },
    "papermill": {
     "duration": 0.051079,
     "end_time": "2025-05-07T00:12:06.485013",
     "exception": false,
     "start_time": "2025-05-07T00:12:06.433934",
     "status": "completed"
    },
    "tags": []
   },
   "outputs": [],
   "source": [
    "def heatmap(modelname, modelorreco, space, true, pred, varname, lower, upper, bins):\n",
    "    #Get histogram dimensions and data using numpy\n",
    "    heatmap, xedges, yedges = np.histogram2d(true, \n",
    "                                             pred, \n",
    "                                             bins=bins, \n",
    "                                             range=[[lower, upper], [lower, upper]])\n",
    "    extent = [xedges[0], xedges[-1], yedges[0], yedges[-1]]\n",
    "    \n",
    "    #Plot heatmap\n",
    "    plt.imshow(heatmap.T, \n",
    "               extent=extent, \n",
    "               origin='lower')\n",
    "    plt.plot([lower, upper], \n",
    "             [lower, upper], \n",
    "             color='blue')\n",
    "    fig = plt.gcf()\n",
    "    plt.set_cmap('gist_heat_r')\n",
    "    plt.xlabel('%s True' % varname)\n",
    "    plt.ylabel('%s Pred' % varname)\n",
    "    plt.title('Frequency Heatmap')\n",
    "    plt.xlim(lower, upper)\n",
    "    plt.ylim(lower, upper)\n",
    "    plt.colorbar()\n",
    "    fig.savefig(f\"{space}_heatmap.png\")\n",
    "    plt.close()"
   ]
  },
  {
   "cell_type": "code",
   "execution_count": 76,
   "id": "23df56fe",
   "metadata": {
    "execution": {
     "iopub.execute_input": "2025-05-07T00:12:06.574353Z",
     "iopub.status.busy": "2025-05-07T00:12:06.574130Z",
     "iopub.status.idle": "2025-05-07T00:12:06.700597Z",
     "shell.execute_reply": "2025-05-07T00:12:06.700068Z"
    },
    "papermill": {
     "duration": 0.173343,
     "end_time": "2025-05-07T00:12:06.701730",
     "exception": false,
     "start_time": "2025-05-07T00:12:06.528387",
     "status": "completed"
    },
    "tags": []
   },
   "outputs": [],
   "source": [
    "heatmap(model_name, \n",
    "            'Model', \n",
    "            \"/kaggle/working/\", \n",
    "            y_true_all, \n",
    "            y_pred_all, \n",
    "            'pT', \n",
    "            min_PT, \n",
    "            12, \n",
    "            50)"
   ]
  },
  {
   "cell_type": "code",
   "execution_count": 77,
   "id": "d3df0533",
   "metadata": {
    "execution": {
     "iopub.execute_input": "2025-05-07T00:12:06.790774Z",
     "iopub.status.busy": "2025-05-07T00:12:06.790552Z",
     "iopub.status.idle": "2025-05-07T00:12:06.799259Z",
     "shell.execute_reply": "2025-05-07T00:12:06.798733Z"
    },
    "papermill": {
     "duration": 0.05362,
     "end_time": "2025-05-07T00:12:06.800298",
     "exception": false,
     "start_time": "2025-05-07T00:12:06.746678",
     "status": "completed"
    },
    "tags": []
   },
   "outputs": [],
   "source": [
    "def scatter(modelname, space, metrics, bincenters, samples, varname, prednames, metricname):\n",
    "    bincenters = np.array(bincenters)\n",
    "    #Check that the bin centers match between the two datasets\n",
    "    if (np.std(bincenters[:,0]) > .0001) or (np.std(bincenters[:,-1]) > .0001):\n",
    "        print('Scatter plot failed due to different bincenters')\n",
    "        print(bincenters)\n",
    "        return\n",
    "    else:\n",
    "        #Create subplots for scatter and ratio\n",
    "        fig,axs = plt.subplots(2, gridspec_kw={'height_ratios':[3,1]})\n",
    "        axs[0].set_ylabel(metricname)\n",
    "        axs[0].set_title('Residuals %s vs %s' % (metricname,\n",
    "                                                varname))\n",
    "        \n",
    "        for i in range(len(prednames)):\n",
    "            #Find the width and range of bins\n",
    "            width = (bincenters[i][-1] - bincenters[i][-2]) / 2\n",
    "            lower = min(bincenters[i]) - width\n",
    "            upper = max(bincenters[i]) + width        \n",
    "\n",
    "#             if i == 0:\n",
    "#                   dif1 = np.abs(metrics[i])\n",
    "#             elif i == 1:\n",
    "#                   dif2 = np.abs(metrics[i])\n",
    "                    \n",
    "            if i == 0:\n",
    "                  metric1 = np.array(metrics[i])\n",
    "            elif i == 1:\n",
    "                  metric2 = np.array(metrics[i])\n",
    "\n",
    "            print(np.shape(metrics))\n",
    "            #Create the scatterplot\n",
    "            axs[0].scatter(bincenters[i], \n",
    "                           metrics[i], \n",
    "                           label=prednames[i])\n",
    "            axs[0].axhline(y=0)\n",
    "\n",
    "\n",
    "            #Use standard error of the mean for y error and bin width for x error\n",
    "            axs[0].errorbar(bincenters[i],\n",
    "                            metrics[i],\n",
    "                            xerr=(bincenters[i][-1] - bincenters[i][-2]) / 2,\n",
    "                            yerr=metrics[i] / np.sqrt(samples[i]),\n",
    "                            linestyle='')\n",
    "        axs[0].legend()\n",
    "        axs[0].set_xlim([lower,upper])\n",
    "        \n",
    "#         dif = dif1 - dif2\n",
    "#         #Create ratio subplot\n",
    "#         axs[1].scatter(bincenters[0], dif)\n",
    "#         axs[1].axhline(y=0)\n",
    "#         axs[1].set_xlim([lower, upper])\n",
    "#         axs[1].set_ylabel('|%s| - |%s|' % (prednames[0], prednames[1]))\n",
    "#         axs[1].set_xlabel('%s' % varname)\n",
    "        \n",
    "        #Plot ratio subplot for first 2 data sets\n",
    "        axs[1].scatter(bincenters[i], metric1 / metric2)\n",
    "        axs[1].axhline(y=1)\n",
    "        axs[1].set_xlim([lower,upper])\n",
    "        axs[1].set_ylim([0.5,2.0])\n",
    "        axs[1].set_yscale('log', basey=2)\n",
    "        axs[1].set_ylabel('%s / %s' % (prednames[0],\n",
    "                                       prednames[1]))\n",
    "        axs[1].set_xlabel('%s' % varname)\n",
    "        \n",
    "        #Save plot\n",
    "        fig.savefig('./Plots/%s/Comparison/%s/%s_%s_scatter' % (modelname, \n",
    "                                                                space,\n",
    "                                                                varname,\n",
    "                                                                metricname), bbox_inches='tight')\n",
    "        plt.close()"
   ]
  },
  {
   "cell_type": "code",
   "execution_count": 78,
   "id": "37ecb588",
   "metadata": {
    "execution": {
     "iopub.execute_input": "2025-05-07T00:12:06.887619Z",
     "iopub.status.busy": "2025-05-07T00:12:06.887412Z",
     "iopub.status.idle": "2025-05-07T00:12:07.134305Z",
     "shell.execute_reply": "2025-05-07T00:12:07.133450Z"
    },
    "papermill": {
     "duration": 0.291834,
     "end_time": "2025-05-07T00:12:07.135401",
     "exception": true,
     "start_time": "2025-05-07T00:12:06.843567",
     "status": "failed"
    },
    "scrolled": true,
    "tags": []
   },
   "outputs": [
    {
     "ename": "AttributeError",
     "evalue": "'FunctionEventAvg' object has no attribute 'cuda_time_total'",
     "output_type": "error",
     "traceback": [
      "\u001b[0;31m---------------------------------------------------------------------------\u001b[0m",
      "\u001b[0;31mAttributeError\u001b[0m                            Traceback (most recent call last)",
      "\u001b[0;32m/tmp/ipykernel_19/1671083950.py\u001b[0m in \u001b[0;36m<cell line: 0>\u001b[0;34m()\u001b[0m\n\u001b[1;32m     21\u001b[0m \u001b[0minputs\u001b[0m \u001b[0;34m=\u001b[0m \u001b[0mtrain_dataset\u001b[0m\u001b[0;34m[\u001b[0m\u001b[0;36m20\u001b[0m\u001b[0;34m]\u001b[0m\u001b[0;34m.\u001b[0m\u001b[0mto\u001b[0m\u001b[0;34m(\u001b[0m\u001b[0mdevice\u001b[0m\u001b[0;34m)\u001b[0m\u001b[0;34m\u001b[0m\u001b[0;34m\u001b[0m\u001b[0m\n\u001b[1;32m     22\u001b[0m \u001b[0;31m# model = ...\u001b[0m\u001b[0;34m\u001b[0m\u001b[0;34m\u001b[0m\u001b[0m\n\u001b[0;32m---> 23\u001b[0;31m \u001b[0mprofile_model\u001b[0m\u001b[0;34m(\u001b[0m\u001b[0mloaded_model\u001b[0m\u001b[0;34m,\u001b[0m \u001b[0minputs\u001b[0m\u001b[0;34m,\u001b[0m \u001b[0;36m1000\u001b[0m\u001b[0;34m)\u001b[0m\u001b[0;34m\u001b[0m\u001b[0;34m\u001b[0m\u001b[0m\n\u001b[0m",
      "\u001b[0;32m/tmp/ipykernel_19/1671083950.py\u001b[0m in \u001b[0;36mprofile_model\u001b[0;34m(model, inputs, num_runs)\u001b[0m\n\u001b[1;32m     11\u001b[0m         \u001b[0;31m# Extract total CUDA time spent on 'model_inference'\u001b[0m\u001b[0;34m\u001b[0m\u001b[0;34m\u001b[0m\u001b[0m\n\u001b[1;32m     12\u001b[0m         \u001b[0;32mfor\u001b[0m \u001b[0mevent\u001b[0m \u001b[0;32min\u001b[0m \u001b[0mprof\u001b[0m\u001b[0;34m.\u001b[0m\u001b[0mkey_averages\u001b[0m\u001b[0;34m(\u001b[0m\u001b[0;34m)\u001b[0m\u001b[0;34m:\u001b[0m\u001b[0;34m\u001b[0m\u001b[0;34m\u001b[0m\u001b[0m\n\u001b[0;32m---> 13\u001b[0;31m             \u001b[0mtotal_time\u001b[0m \u001b[0;34m+=\u001b[0m \u001b[0mevent\u001b[0m\u001b[0;34m.\u001b[0m\u001b[0mcuda_time_total\u001b[0m\u001b[0;34m\u001b[0m\u001b[0;34m\u001b[0m\u001b[0m\n\u001b[0m\u001b[1;32m     14\u001b[0m \u001b[0;34m\u001b[0m\u001b[0m\n\u001b[1;32m     15\u001b[0m     \u001b[0maverage_time\u001b[0m \u001b[0;34m=\u001b[0m \u001b[0mtotal_time\u001b[0m \u001b[0;34m/\u001b[0m \u001b[0mnum_runs\u001b[0m\u001b[0;34m\u001b[0m\u001b[0;34m\u001b[0m\u001b[0m\n",
      "\u001b[0;31mAttributeError\u001b[0m: 'FunctionEventAvg' object has no attribute 'cuda_time_total'"
     ]
    }
   ],
   "source": [
    "from torch.profiler import profile, record_function, ProfilerActivity\n",
    "device = torch.device(\"cuda\" if torch.cuda.is_available() else \"cpu\")\n",
    "     \n",
    "\n",
    "def profile_model(model, inputs, num_runs=100):\n",
    "    total_time = 0\n",
    "    for _ in range(num_runs):\n",
    "        with profile(activities=[ProfilerActivity.CUDA], record_shapes=True) as prof:\n",
    "            model(inputs)\n",
    "\n",
    "        # Extract total CUDA time spent on 'model_inference'\n",
    "        for event in prof.key_averages():\n",
    "            total_time += event.cuda_time_total\n",
    "\n",
    "    average_time = total_time / num_runs\n",
    "    print(f\"Average inference time: {average_time} microseconds\")\n",
    "     \n",
    "# test_loader_2 = DataLoader(Graph_dataset(filtered_df, label, edge_index , test_idx), batch_size=1)\n",
    "# inputs = next(iter(test_loader_2))\n",
    "# inputs = inputs.to(device)\n",
    "inputs = train_dataset[20].to(device)\n",
    "# model = ...\n",
    "profile_model(loaded_model, inputs, 1000)"
   ]
  },
  {
   "cell_type": "code",
   "execution_count": null,
   "id": "969f36b5",
   "metadata": {
    "papermill": {
     "duration": null,
     "end_time": null,
     "exception": null,
     "start_time": null,
     "status": "pending"
    },
    "tags": []
   },
   "outputs": [],
   "source": [
    "# next(iter(Graph_dataset))"
   ]
  },
  {
   "cell_type": "code",
   "execution_count": null,
   "id": "0c068aa2",
   "metadata": {
    "execution": {
     "iopub.execute_input": "2024-09-03T22:39:39.143443Z",
     "iopub.status.busy": "2024-09-03T22:39:39.142805Z",
     "iopub.status.idle": "2024-09-03T22:39:39.146951Z",
     "shell.execute_reply": "2024-09-03T22:39:39.146164Z"
    },
    "papermill": {
     "duration": null,
     "end_time": null,
     "exception": null,
     "start_time": null,
     "status": "pending"
    },
    "tags": []
   },
   "outputs": [],
   "source": [
    "# test_loader_2 = DataLoader(Graph_dataset(filtered_df, label, edge_index , test_idx), batch_size=1)"
   ]
  },
  {
   "cell_type": "code",
   "execution_count": null,
   "id": "8cae2e3c",
   "metadata": {
    "papermill": {
     "duration": null,
     "end_time": null,
     "exception": null,
     "start_time": null,
     "status": "pending"
    },
    "tags": []
   },
   "outputs": [],
   "source": []
  }
 ],
 "metadata": {
  "kaggle": {
   "accelerator": "gpu",
   "dataSources": [
    {
     "datasetId": 1424568,
     "sourceId": 2358933,
     "sourceType": "datasetVersion"
    },
    {
     "sourceId": 183753103,
     "sourceType": "kernelVersion"
    },
    {
     "sourceId": 187178090,
     "sourceType": "kernelVersion"
    },
    {
     "sourceId": 187708631,
     "sourceType": "kernelVersion"
    },
    {
     "sourceId": 194832577,
     "sourceType": "kernelVersion"
    },
    {
     "sourceId": 195107410,
     "sourceType": "kernelVersion"
    }
   ],
   "isGpuEnabled": true,
   "isInternetEnabled": true,
   "language": "python",
   "sourceType": "notebook"
  },
  "kernelspec": {
   "display_name": "Python 3",
   "language": "python",
   "name": "python3"
  },
  "language_info": {
   "codemirror_mode": {
    "name": "ipython",
    "version": 3
   },
   "file_extension": ".py",
   "mimetype": "text/x-python",
   "name": "python",
   "nbconvert_exporter": "python",
   "pygments_lexer": "ipython3",
   "version": "3.11.11"
  },
  "papermill": {
   "default_parameters": {},
   "duration": 16561.615596,
   "end_time": "2025-05-07T00:12:10.249134",
   "environment_variables": {},
   "exception": true,
   "input_path": "__notebook__.ipynb",
   "output_path": "__notebook__.ipynb",
   "parameters": {},
   "start_time": "2025-05-06T19:36:08.633538",
   "version": "2.5.0"
  },
  "widgets": {
   "application/vnd.jupyter.widget-state+json": {
    "state": {
     "045ee98530a14598822f932ee7283b3f": {
      "model_module": "@jupyter-widgets/base",
      "model_module_version": "2.0.0",
      "model_name": "LayoutModel",
      "state": {
       "_model_module": "@jupyter-widgets/base",
       "_model_module_version": "2.0.0",
       "_model_name": "LayoutModel",
       "_view_count": null,
       "_view_module": "@jupyter-widgets/base",
       "_view_module_version": "2.0.0",
       "_view_name": "LayoutView",
       "align_content": null,
       "align_items": null,
       "align_self": null,
       "border_bottom": null,
       "border_left": null,
       "border_right": null,
       "border_top": null,
       "bottom": null,
       "display": null,
       "flex": null,
       "flex_flow": null,
       "grid_area": null,
       "grid_auto_columns": null,
       "grid_auto_flow": null,
       "grid_auto_rows": null,
       "grid_column": null,
       "grid_gap": null,
       "grid_row": null,
       "grid_template_areas": null,
       "grid_template_columns": null,
       "grid_template_rows": null,
       "height": null,
       "justify_content": null,
       "justify_items": null,
       "left": null,
       "margin": null,
       "max_height": null,
       "max_width": null,
       "min_height": null,
       "min_width": null,
       "object_fit": null,
       "object_position": null,
       "order": null,
       "overflow": null,
       "padding": null,
       "right": null,
       "top": null,
       "visibility": null,
       "width": null
      }
     },
     "04f353e423394456933f5d74da19c04f": {
      "model_module": "@jupyter-widgets/base",
      "model_module_version": "2.0.0",
      "model_name": "LayoutModel",
      "state": {
       "_model_module": "@jupyter-widgets/base",
       "_model_module_version": "2.0.0",
       "_model_name": "LayoutModel",
       "_view_count": null,
       "_view_module": "@jupyter-widgets/base",
       "_view_module_version": "2.0.0",
       "_view_name": "LayoutView",
       "align_content": null,
       "align_items": null,
       "align_self": null,
       "border_bottom": null,
       "border_left": null,
       "border_right": null,
       "border_top": null,
       "bottom": null,
       "display": null,
       "flex": null,
       "flex_flow": null,
       "grid_area": null,
       "grid_auto_columns": null,
       "grid_auto_flow": null,
       "grid_auto_rows": null,
       "grid_column": null,
       "grid_gap": null,
       "grid_row": null,
       "grid_template_areas": null,
       "grid_template_columns": null,
       "grid_template_rows": null,
       "height": null,
       "justify_content": null,
       "justify_items": null,
       "left": null,
       "margin": null,
       "max_height": null,
       "max_width": null,
       "min_height": null,
       "min_width": null,
       "object_fit": null,
       "object_position": null,
       "order": null,
       "overflow": null,
       "padding": null,
       "right": null,
       "top": null,
       "visibility": null,
       "width": null
      }
     },
     "0bf842932ff14656a089a253e308fa8b": {
      "model_module": "@jupyter-widgets/controls",
      "model_module_version": "2.0.0",
      "model_name": "HTMLStyleModel",
      "state": {
       "_model_module": "@jupyter-widgets/controls",
       "_model_module_version": "2.0.0",
       "_model_name": "HTMLStyleModel",
       "_view_count": null,
       "_view_module": "@jupyter-widgets/base",
       "_view_module_version": "2.0.0",
       "_view_name": "StyleView",
       "background": null,
       "description_width": "",
       "font_size": null,
       "text_color": null
      }
     },
     "0ed964f247f54b2ba08ed7c9563a76b0": {
      "model_module": "@jupyter-widgets/base",
      "model_module_version": "2.0.0",
      "model_name": "LayoutModel",
      "state": {
       "_model_module": "@jupyter-widgets/base",
       "_model_module_version": "2.0.0",
       "_model_name": "LayoutModel",
       "_view_count": null,
       "_view_module": "@jupyter-widgets/base",
       "_view_module_version": "2.0.0",
       "_view_name": "LayoutView",
       "align_content": null,
       "align_items": null,
       "align_self": null,
       "border_bottom": null,
       "border_left": null,
       "border_right": null,
       "border_top": null,
       "bottom": null,
       "display": null,
       "flex": null,
       "flex_flow": null,
       "grid_area": null,
       "grid_auto_columns": null,
       "grid_auto_flow": null,
       "grid_auto_rows": null,
       "grid_column": null,
       "grid_gap": null,
       "grid_row": null,
       "grid_template_areas": null,
       "grid_template_columns": null,
       "grid_template_rows": null,
       "height": null,
       "justify_content": null,
       "justify_items": null,
       "left": null,
       "margin": null,
       "max_height": null,
       "max_width": null,
       "min_height": null,
       "min_width": null,
       "object_fit": null,
       "object_position": null,
       "order": null,
       "overflow": null,
       "padding": null,
       "right": null,
       "top": null,
       "visibility": null,
       "width": null
      }
     },
     "104bc0c7f91e449fb225e34748ce3334": {
      "model_module": "@jupyter-widgets/controls",
      "model_module_version": "2.0.0",
      "model_name": "HTMLStyleModel",
      "state": {
       "_model_module": "@jupyter-widgets/controls",
       "_model_module_version": "2.0.0",
       "_model_name": "HTMLStyleModel",
       "_view_count": null,
       "_view_module": "@jupyter-widgets/base",
       "_view_module_version": "2.0.0",
       "_view_name": "StyleView",
       "background": null,
       "description_width": "",
       "font_size": null,
       "text_color": null
      }
     },
     "10773fbac0d442e589a356e56194d814": {
      "model_module": "@jupyter-widgets/controls",
      "model_module_version": "2.0.0",
      "model_name": "HTMLStyleModel",
      "state": {
       "_model_module": "@jupyter-widgets/controls",
       "_model_module_version": "2.0.0",
       "_model_name": "HTMLStyleModel",
       "_view_count": null,
       "_view_module": "@jupyter-widgets/base",
       "_view_module_version": "2.0.0",
       "_view_name": "StyleView",
       "background": null,
       "description_width": "",
       "font_size": null,
       "text_color": null
      }
     },
     "10c3bdab46b8460a8ed772caed9b812f": {
      "model_module": "@jupyter-widgets/controls",
      "model_module_version": "2.0.0",
      "model_name": "ProgressStyleModel",
      "state": {
       "_model_module": "@jupyter-widgets/controls",
       "_model_module_version": "2.0.0",
       "_model_name": "ProgressStyleModel",
       "_view_count": null,
       "_view_module": "@jupyter-widgets/base",
       "_view_module_version": "2.0.0",
       "_view_name": "StyleView",
       "bar_color": null,
       "description_width": ""
      }
     },
     "1364912694eb498dab69ce16f7dc96a0": {
      "model_module": "@jupyter-widgets/base",
      "model_module_version": "2.0.0",
      "model_name": "LayoutModel",
      "state": {
       "_model_module": "@jupyter-widgets/base",
       "_model_module_version": "2.0.0",
       "_model_name": "LayoutModel",
       "_view_count": null,
       "_view_module": "@jupyter-widgets/base",
       "_view_module_version": "2.0.0",
       "_view_name": "LayoutView",
       "align_content": null,
       "align_items": null,
       "align_self": null,
       "border_bottom": null,
       "border_left": null,
       "border_right": null,
       "border_top": null,
       "bottom": null,
       "display": null,
       "flex": null,
       "flex_flow": null,
       "grid_area": null,
       "grid_auto_columns": null,
       "grid_auto_flow": null,
       "grid_auto_rows": null,
       "grid_column": null,
       "grid_gap": null,
       "grid_row": null,
       "grid_template_areas": null,
       "grid_template_columns": null,
       "grid_template_rows": null,
       "height": null,
       "justify_content": null,
       "justify_items": null,
       "left": null,
       "margin": null,
       "max_height": null,
       "max_width": null,
       "min_height": null,
       "min_width": null,
       "object_fit": null,
       "object_position": null,
       "order": null,
       "overflow": null,
       "padding": null,
       "right": null,
       "top": null,
       "visibility": null,
       "width": null
      }
     },
     "13749c0f25314bfb9156906d83193fa8": {
      "model_module": "@jupyter-widgets/controls",
      "model_module_version": "2.0.0",
      "model_name": "HTMLStyleModel",
      "state": {
       "_model_module": "@jupyter-widgets/controls",
       "_model_module_version": "2.0.0",
       "_model_name": "HTMLStyleModel",
       "_view_count": null,
       "_view_module": "@jupyter-widgets/base",
       "_view_module_version": "2.0.0",
       "_view_name": "StyleView",
       "background": null,
       "description_width": "",
       "font_size": null,
       "text_color": null
      }
     },
     "139e8d3f9e76418b8831d28352b78c69": {
      "model_module": "@jupyter-widgets/controls",
      "model_module_version": "2.0.0",
      "model_name": "HTMLStyleModel",
      "state": {
       "_model_module": "@jupyter-widgets/controls",
       "_model_module_version": "2.0.0",
       "_model_name": "HTMLStyleModel",
       "_view_count": null,
       "_view_module": "@jupyter-widgets/base",
       "_view_module_version": "2.0.0",
       "_view_name": "StyleView",
       "background": null,
       "description_width": "",
       "font_size": null,
       "text_color": null
      }
     },
     "16e7598ddabf4933a15240fdd97274a5": {
      "model_module": "@jupyter-widgets/controls",
      "model_module_version": "2.0.0",
      "model_name": "HTMLModel",
      "state": {
       "_dom_classes": [],
       "_model_module": "@jupyter-widgets/controls",
       "_model_module_version": "2.0.0",
       "_model_name": "HTMLModel",
       "_view_count": null,
       "_view_module": "@jupyter-widgets/controls",
       "_view_module_version": "2.0.0",
       "_view_name": "HTMLView",
       "description": "",
       "description_allow_html": false,
       "layout": "IPY_MODEL_6d5c0662346842bb8bf1b5feb1815f8f",
       "placeholder": "​",
       "style": "IPY_MODEL_ae6200d3ef2148ee9e8fa8830b7ea6a9",
       "tabbable": null,
       "tooltip": null,
       "value": "MSEError: 0.2648509: 100%"
      }
     },
     "1a079a350a2042eeb5c1459fd54f3531": {
      "model_module": "@jupyter-widgets/controls",
      "model_module_version": "2.0.0",
      "model_name": "HTMLModel",
      "state": {
       "_dom_classes": [],
       "_model_module": "@jupyter-widgets/controls",
       "_model_module_version": "2.0.0",
       "_model_name": "HTMLModel",
       "_view_count": null,
       "_view_module": "@jupyter-widgets/controls",
       "_view_module_version": "2.0.0",
       "_view_name": "HTMLView",
       "description": "",
       "description_allow_html": false,
       "layout": "IPY_MODEL_94173045ee9a4a82990b1ee9ee18eead",
       "placeholder": "​",
       "style": "IPY_MODEL_f289d5b15bc14a3cbc1f84d29bcbae43",
       "tabbable": null,
       "tooltip": null,
       "value": " 805/805 [21:05&lt;00:00,  1.27s/it]"
      }
     },
     "224bae1e5d8d4857b317dcd96f682388": {
      "model_module": "@jupyter-widgets/controls",
      "model_module_version": "2.0.0",
      "model_name": "HTMLModel",
      "state": {
       "_dom_classes": [],
       "_model_module": "@jupyter-widgets/controls",
       "_model_module_version": "2.0.0",
       "_model_name": "HTMLModel",
       "_view_count": null,
       "_view_module": "@jupyter-widgets/controls",
       "_view_module_version": "2.0.0",
       "_view_name": "HTMLView",
       "description": "",
       "description_allow_html": false,
       "layout": "IPY_MODEL_38cdcbe233b24c75a3a67f9450e0f605",
       "placeholder": "​",
       "style": "IPY_MODEL_7bd08652095f48758ae980694e709a61",
       "tabbable": null,
       "tooltip": null,
       "value": " 805/805 [21:14&lt;00:00,  1.31s/it]"
      }
     },
     "2259e0f0d59b4aecab72f227b718ddf6": {
      "model_module": "@jupyter-widgets/controls",
      "model_module_version": "2.0.0",
      "model_name": "FloatProgressModel",
      "state": {
       "_dom_classes": [],
       "_model_module": "@jupyter-widgets/controls",
       "_model_module_version": "2.0.0",
       "_model_name": "FloatProgressModel",
       "_view_count": null,
       "_view_module": "@jupyter-widgets/controls",
       "_view_module_version": "2.0.0",
       "_view_name": "ProgressView",
       "bar_style": "success",
       "description": "",
       "description_allow_html": false,
       "layout": "IPY_MODEL_4746a5dd340b4b3d801b403e41655830",
       "max": 805.0,
       "min": 0.0,
       "orientation": "horizontal",
       "style": "IPY_MODEL_b926acc9e2bb42dba67c413d05c81d54",
       "tabbable": null,
       "tooltip": null,
       "value": 805.0
      }
     },
     "22a285bf0d8a4fad9f4b6e7562eef879": {
      "model_module": "@jupyter-widgets/base",
      "model_module_version": "2.0.0",
      "model_name": "LayoutModel",
      "state": {
       "_model_module": "@jupyter-widgets/base",
       "_model_module_version": "2.0.0",
       "_model_name": "LayoutModel",
       "_view_count": null,
       "_view_module": "@jupyter-widgets/base",
       "_view_module_version": "2.0.0",
       "_view_name": "LayoutView",
       "align_content": null,
       "align_items": null,
       "align_self": null,
       "border_bottom": null,
       "border_left": null,
       "border_right": null,
       "border_top": null,
       "bottom": null,
       "display": null,
       "flex": null,
       "flex_flow": null,
       "grid_area": null,
       "grid_auto_columns": null,
       "grid_auto_flow": null,
       "grid_auto_rows": null,
       "grid_column": null,
       "grid_gap": null,
       "grid_row": null,
       "grid_template_areas": null,
       "grid_template_columns": null,
       "grid_template_rows": null,
       "height": null,
       "justify_content": null,
       "justify_items": null,
       "left": null,
       "margin": null,
       "max_height": null,
       "max_width": null,
       "min_height": null,
       "min_width": null,
       "object_fit": null,
       "object_position": null,
       "order": null,
       "overflow": null,
       "padding": null,
       "right": null,
       "top": null,
       "visibility": null,
       "width": null
      }
     },
     "242de11cb0174d0faf4aba3f3d78fcb1": {
      "model_module": "@jupyter-widgets/base",
      "model_module_version": "2.0.0",
      "model_name": "LayoutModel",
      "state": {
       "_model_module": "@jupyter-widgets/base",
       "_model_module_version": "2.0.0",
       "_model_name": "LayoutModel",
       "_view_count": null,
       "_view_module": "@jupyter-widgets/base",
       "_view_module_version": "2.0.0",
       "_view_name": "LayoutView",
       "align_content": null,
       "align_items": null,
       "align_self": null,
       "border_bottom": null,
       "border_left": null,
       "border_right": null,
       "border_top": null,
       "bottom": null,
       "display": null,
       "flex": null,
       "flex_flow": null,
       "grid_area": null,
       "grid_auto_columns": null,
       "grid_auto_flow": null,
       "grid_auto_rows": null,
       "grid_column": null,
       "grid_gap": null,
       "grid_row": null,
       "grid_template_areas": null,
       "grid_template_columns": null,
       "grid_template_rows": null,
       "height": null,
       "justify_content": null,
       "justify_items": null,
       "left": null,
       "margin": null,
       "max_height": null,
       "max_width": null,
       "min_height": null,
       "min_width": null,
       "object_fit": null,
       "object_position": null,
       "order": null,
       "overflow": null,
       "padding": null,
       "right": null,
       "top": null,
       "visibility": null,
       "width": null
      }
     },
     "26aa8eeadd5843ff8c49d55543da28e4": {
      "model_module": "@jupyter-widgets/controls",
      "model_module_version": "2.0.0",
      "model_name": "ProgressStyleModel",
      "state": {
       "_model_module": "@jupyter-widgets/controls",
       "_model_module_version": "2.0.0",
       "_model_name": "ProgressStyleModel",
       "_view_count": null,
       "_view_module": "@jupyter-widgets/base",
       "_view_module_version": "2.0.0",
       "_view_name": "StyleView",
       "bar_color": null,
       "description_width": ""
      }
     },
     "2dc9fe8afa854d4ba9448dba2df29eed": {
      "model_module": "@jupyter-widgets/base",
      "model_module_version": "2.0.0",
      "model_name": "LayoutModel",
      "state": {
       "_model_module": "@jupyter-widgets/base",
       "_model_module_version": "2.0.0",
       "_model_name": "LayoutModel",
       "_view_count": null,
       "_view_module": "@jupyter-widgets/base",
       "_view_module_version": "2.0.0",
       "_view_name": "LayoutView",
       "align_content": null,
       "align_items": null,
       "align_self": null,
       "border_bottom": null,
       "border_left": null,
       "border_right": null,
       "border_top": null,
       "bottom": null,
       "display": null,
       "flex": null,
       "flex_flow": null,
       "grid_area": null,
       "grid_auto_columns": null,
       "grid_auto_flow": null,
       "grid_auto_rows": null,
       "grid_column": null,
       "grid_gap": null,
       "grid_row": null,
       "grid_template_areas": null,
       "grid_template_columns": null,
       "grid_template_rows": null,
       "height": null,
       "justify_content": null,
       "justify_items": null,
       "left": null,
       "margin": null,
       "max_height": null,
       "max_width": null,
       "min_height": null,
       "min_width": null,
       "object_fit": null,
       "object_position": null,
       "order": null,
       "overflow": null,
       "padding": null,
       "right": null,
       "top": null,
       "visibility": null,
       "width": null
      }
     },
     "30d8b127d0ec45368120ac0045101d24": {
      "model_module": "@jupyter-widgets/base",
      "model_module_version": "2.0.0",
      "model_name": "LayoutModel",
      "state": {
       "_model_module": "@jupyter-widgets/base",
       "_model_module_version": "2.0.0",
       "_model_name": "LayoutModel",
       "_view_count": null,
       "_view_module": "@jupyter-widgets/base",
       "_view_module_version": "2.0.0",
       "_view_name": "LayoutView",
       "align_content": null,
       "align_items": null,
       "align_self": null,
       "border_bottom": null,
       "border_left": null,
       "border_right": null,
       "border_top": null,
       "bottom": null,
       "display": null,
       "flex": null,
       "flex_flow": null,
       "grid_area": null,
       "grid_auto_columns": null,
       "grid_auto_flow": null,
       "grid_auto_rows": null,
       "grid_column": null,
       "grid_gap": null,
       "grid_row": null,
       "grid_template_areas": null,
       "grid_template_columns": null,
       "grid_template_rows": null,
       "height": null,
       "justify_content": null,
       "justify_items": null,
       "left": null,
       "margin": null,
       "max_height": null,
       "max_width": null,
       "min_height": null,
       "min_width": null,
       "object_fit": null,
       "object_position": null,
       "order": null,
       "overflow": null,
       "padding": null,
       "right": null,
       "top": null,
       "visibility": null,
       "width": null
      }
     },
     "322030fc89214a9ea17a892d2f6e7659": {
      "model_module": "@jupyter-widgets/controls",
      "model_module_version": "2.0.0",
      "model_name": "HTMLStyleModel",
      "state": {
       "_model_module": "@jupyter-widgets/controls",
       "_model_module_version": "2.0.0",
       "_model_name": "HTMLStyleModel",
       "_view_count": null,
       "_view_module": "@jupyter-widgets/base",
       "_view_module_version": "2.0.0",
       "_view_name": "StyleView",
       "background": null,
       "description_width": "",
       "font_size": null,
       "text_color": null
      }
     },
     "34b08be926d74a199bbe6b3a8131caa3": {
      "model_module": "@jupyter-widgets/controls",
      "model_module_version": "2.0.0",
      "model_name": "HTMLModel",
      "state": {
       "_dom_classes": [],
       "_model_module": "@jupyter-widgets/controls",
       "_model_module_version": "2.0.0",
       "_model_name": "HTMLModel",
       "_view_count": null,
       "_view_module": "@jupyter-widgets/controls",
       "_view_module_version": "2.0.0",
       "_view_name": "HTMLView",
       "description": "",
       "description_allow_html": false,
       "layout": "IPY_MODEL_f539b5eab1284e4bbf9c8a9f667d75e1",
       "placeholder": "​",
       "style": "IPY_MODEL_13749c0f25314bfb9156906d83193fa8",
       "tabbable": null,
       "tooltip": null,
       "value": " 805/805 [21:01&lt;00:00,  1.28s/it]"
      }
     },
     "35d0f547d5424d6082f9492e344cf923": {
      "model_module": "@jupyter-widgets/controls",
      "model_module_version": "2.0.0",
      "model_name": "FloatProgressModel",
      "state": {
       "_dom_classes": [],
       "_model_module": "@jupyter-widgets/controls",
       "_model_module_version": "2.0.0",
       "_model_name": "FloatProgressModel",
       "_view_count": null,
       "_view_module": "@jupyter-widgets/controls",
       "_view_module_version": "2.0.0",
       "_view_name": "ProgressView",
       "bar_style": "success",
       "description": "",
       "description_allow_html": false,
       "layout": "IPY_MODEL_5433a818802d47d3af0f8863ed45153e",
       "max": 805.0,
       "min": 0.0,
       "orientation": "horizontal",
       "style": "IPY_MODEL_717111e357304c988c714a5459d363f7",
       "tabbable": null,
       "tooltip": null,
       "value": 805.0
      }
     },
     "36143537110e45489805f0ee55528e8b": {
      "model_module": "@jupyter-widgets/controls",
      "model_module_version": "2.0.0",
      "model_name": "HTMLStyleModel",
      "state": {
       "_model_module": "@jupyter-widgets/controls",
       "_model_module_version": "2.0.0",
       "_model_name": "HTMLStyleModel",
       "_view_count": null,
       "_view_module": "@jupyter-widgets/base",
       "_view_module_version": "2.0.0",
       "_view_name": "StyleView",
       "background": null,
       "description_width": "",
       "font_size": null,
       "text_color": null
      }
     },
     "38cdcbe233b24c75a3a67f9450e0f605": {
      "model_module": "@jupyter-widgets/base",
      "model_module_version": "2.0.0",
      "model_name": "LayoutModel",
      "state": {
       "_model_module": "@jupyter-widgets/base",
       "_model_module_version": "2.0.0",
       "_model_name": "LayoutModel",
       "_view_count": null,
       "_view_module": "@jupyter-widgets/base",
       "_view_module_version": "2.0.0",
       "_view_name": "LayoutView",
       "align_content": null,
       "align_items": null,
       "align_self": null,
       "border_bottom": null,
       "border_left": null,
       "border_right": null,
       "border_top": null,
       "bottom": null,
       "display": null,
       "flex": null,
       "flex_flow": null,
       "grid_area": null,
       "grid_auto_columns": null,
       "grid_auto_flow": null,
       "grid_auto_rows": null,
       "grid_column": null,
       "grid_gap": null,
       "grid_row": null,
       "grid_template_areas": null,
       "grid_template_columns": null,
       "grid_template_rows": null,
       "height": null,
       "justify_content": null,
       "justify_items": null,
       "left": null,
       "margin": null,
       "max_height": null,
       "max_width": null,
       "min_height": null,
       "min_width": null,
       "object_fit": null,
       "object_position": null,
       "order": null,
       "overflow": null,
       "padding": null,
       "right": null,
       "top": null,
       "visibility": null,
       "width": null
      }
     },
     "3b859c44827845e9af10cb0f106c94f1": {
      "model_module": "@jupyter-widgets/controls",
      "model_module_version": "2.0.0",
      "model_name": "HTMLModel",
      "state": {
       "_dom_classes": [],
       "_model_module": "@jupyter-widgets/controls",
       "_model_module_version": "2.0.0",
       "_model_name": "HTMLModel",
       "_view_count": null,
       "_view_module": "@jupyter-widgets/controls",
       "_view_module_version": "2.0.0",
       "_view_name": "HTMLView",
       "description": "",
       "description_allow_html": false,
       "layout": "IPY_MODEL_e0019ea9327948949467bbff6e043f7d",
       "placeholder": "​",
       "style": "IPY_MODEL_10773fbac0d442e589a356e56194d814",
       "tabbable": null,
       "tooltip": null,
       "value": "MSEError: 0.25331804: 100%"
      }
     },
     "3c0e1e4c818848cebee8301c5f82c36f": {
      "model_module": "@jupyter-widgets/controls",
      "model_module_version": "2.0.0",
      "model_name": "ProgressStyleModel",
      "state": {
       "_model_module": "@jupyter-widgets/controls",
       "_model_module_version": "2.0.0",
       "_model_name": "ProgressStyleModel",
       "_view_count": null,
       "_view_module": "@jupyter-widgets/base",
       "_view_module_version": "2.0.0",
       "_view_name": "StyleView",
       "bar_color": null,
       "description_width": ""
      }
     },
     "3ec92242e972453a8186f2e5d153c024": {
      "model_module": "@jupyter-widgets/controls",
      "model_module_version": "2.0.0",
      "model_name": "HTMLStyleModel",
      "state": {
       "_model_module": "@jupyter-widgets/controls",
       "_model_module_version": "2.0.0",
       "_model_name": "HTMLStyleModel",
       "_view_count": null,
       "_view_module": "@jupyter-widgets/base",
       "_view_module_version": "2.0.0",
       "_view_name": "StyleView",
       "background": null,
       "description_width": "",
       "font_size": null,
       "text_color": null
      }
     },
     "43fcfa243bc34b15b09fb1be0d552801": {
      "model_module": "@jupyter-widgets/base",
      "model_module_version": "2.0.0",
      "model_name": "LayoutModel",
      "state": {
       "_model_module": "@jupyter-widgets/base",
       "_model_module_version": "2.0.0",
       "_model_name": "LayoutModel",
       "_view_count": null,
       "_view_module": "@jupyter-widgets/base",
       "_view_module_version": "2.0.0",
       "_view_name": "LayoutView",
       "align_content": null,
       "align_items": null,
       "align_self": null,
       "border_bottom": null,
       "border_left": null,
       "border_right": null,
       "border_top": null,
       "bottom": null,
       "display": null,
       "flex": null,
       "flex_flow": null,
       "grid_area": null,
       "grid_auto_columns": null,
       "grid_auto_flow": null,
       "grid_auto_rows": null,
       "grid_column": null,
       "grid_gap": null,
       "grid_row": null,
       "grid_template_areas": null,
       "grid_template_columns": null,
       "grid_template_rows": null,
       "height": null,
       "justify_content": null,
       "justify_items": null,
       "left": null,
       "margin": null,
       "max_height": null,
       "max_width": null,
       "min_height": null,
       "min_width": null,
       "object_fit": null,
       "object_position": null,
       "order": null,
       "overflow": null,
       "padding": null,
       "right": null,
       "top": null,
       "visibility": null,
       "width": null
      }
     },
     "4496418881ca415384f04390b0fc7483": {
      "model_module": "@jupyter-widgets/base",
      "model_module_version": "2.0.0",
      "model_name": "LayoutModel",
      "state": {
       "_model_module": "@jupyter-widgets/base",
       "_model_module_version": "2.0.0",
       "_model_name": "LayoutModel",
       "_view_count": null,
       "_view_module": "@jupyter-widgets/base",
       "_view_module_version": "2.0.0",
       "_view_name": "LayoutView",
       "align_content": null,
       "align_items": null,
       "align_self": null,
       "border_bottom": null,
       "border_left": null,
       "border_right": null,
       "border_top": null,
       "bottom": null,
       "display": null,
       "flex": null,
       "flex_flow": null,
       "grid_area": null,
       "grid_auto_columns": null,
       "grid_auto_flow": null,
       "grid_auto_rows": null,
       "grid_column": null,
       "grid_gap": null,
       "grid_row": null,
       "grid_template_areas": null,
       "grid_template_columns": null,
       "grid_template_rows": null,
       "height": null,
       "justify_content": null,
       "justify_items": null,
       "left": null,
       "margin": null,
       "max_height": null,
       "max_width": null,
       "min_height": null,
       "min_width": null,
       "object_fit": null,
       "object_position": null,
       "order": null,
       "overflow": null,
       "padding": null,
       "right": null,
       "top": null,
       "visibility": null,
       "width": null
      }
     },
     "46f2a97b27ac4b5886f6f3f325069c95": {
      "model_module": "@jupyter-widgets/controls",
      "model_module_version": "2.0.0",
      "model_name": "HTMLModel",
      "state": {
       "_dom_classes": [],
       "_model_module": "@jupyter-widgets/controls",
       "_model_module_version": "2.0.0",
       "_model_name": "HTMLModel",
       "_view_count": null,
       "_view_module": "@jupyter-widgets/controls",
       "_view_module_version": "2.0.0",
       "_view_name": "HTMLView",
       "description": "",
       "description_allow_html": false,
       "layout": "IPY_MODEL_eae375e227e647dfbeaedb8f7b56b529",
       "placeholder": "​",
       "style": "IPY_MODEL_80d8bb7fa0214e3b8b2d2844dc217661",
       "tabbable": null,
       "tooltip": null,
       "value": "MSEError: 0.25652042: 100%"
      }
     },
     "4746a5dd340b4b3d801b403e41655830": {
      "model_module": "@jupyter-widgets/base",
      "model_module_version": "2.0.0",
      "model_name": "LayoutModel",
      "state": {
       "_model_module": "@jupyter-widgets/base",
       "_model_module_version": "2.0.0",
       "_model_name": "LayoutModel",
       "_view_count": null,
       "_view_module": "@jupyter-widgets/base",
       "_view_module_version": "2.0.0",
       "_view_name": "LayoutView",
       "align_content": null,
       "align_items": null,
       "align_self": null,
       "border_bottom": null,
       "border_left": null,
       "border_right": null,
       "border_top": null,
       "bottom": null,
       "display": null,
       "flex": null,
       "flex_flow": null,
       "grid_area": null,
       "grid_auto_columns": null,
       "grid_auto_flow": null,
       "grid_auto_rows": null,
       "grid_column": null,
       "grid_gap": null,
       "grid_row": null,
       "grid_template_areas": null,
       "grid_template_columns": null,
       "grid_template_rows": null,
       "height": null,
       "justify_content": null,
       "justify_items": null,
       "left": null,
       "margin": null,
       "max_height": null,
       "max_width": null,
       "min_height": null,
       "min_width": null,
       "object_fit": null,
       "object_position": null,
       "order": null,
       "overflow": null,
       "padding": null,
       "right": null,
       "top": null,
       "visibility": null,
       "width": null
      }
     },
     "4de163289ada47139c83b963c5c21e75": {
      "model_module": "@jupyter-widgets/controls",
      "model_module_version": "2.0.0",
      "model_name": "ProgressStyleModel",
      "state": {
       "_model_module": "@jupyter-widgets/controls",
       "_model_module_version": "2.0.0",
       "_model_name": "ProgressStyleModel",
       "_view_count": null,
       "_view_module": "@jupyter-widgets/base",
       "_view_module_version": "2.0.0",
       "_view_name": "StyleView",
       "bar_color": null,
       "description_width": ""
      }
     },
     "4e048dd6166840869dc41bde1df8dbab": {
      "model_module": "@jupyter-widgets/base",
      "model_module_version": "2.0.0",
      "model_name": "LayoutModel",
      "state": {
       "_model_module": "@jupyter-widgets/base",
       "_model_module_version": "2.0.0",
       "_model_name": "LayoutModel",
       "_view_count": null,
       "_view_module": "@jupyter-widgets/base",
       "_view_module_version": "2.0.0",
       "_view_name": "LayoutView",
       "align_content": null,
       "align_items": null,
       "align_self": null,
       "border_bottom": null,
       "border_left": null,
       "border_right": null,
       "border_top": null,
       "bottom": null,
       "display": null,
       "flex": null,
       "flex_flow": null,
       "grid_area": null,
       "grid_auto_columns": null,
       "grid_auto_flow": null,
       "grid_auto_rows": null,
       "grid_column": null,
       "grid_gap": null,
       "grid_row": null,
       "grid_template_areas": null,
       "grid_template_columns": null,
       "grid_template_rows": null,
       "height": null,
       "justify_content": null,
       "justify_items": null,
       "left": null,
       "margin": null,
       "max_height": null,
       "max_width": null,
       "min_height": null,
       "min_width": null,
       "object_fit": null,
       "object_position": null,
       "order": null,
       "overflow": null,
       "padding": null,
       "right": null,
       "top": null,
       "visibility": null,
       "width": null
      }
     },
     "5433a818802d47d3af0f8863ed45153e": {
      "model_module": "@jupyter-widgets/base",
      "model_module_version": "2.0.0",
      "model_name": "LayoutModel",
      "state": {
       "_model_module": "@jupyter-widgets/base",
       "_model_module_version": "2.0.0",
       "_model_name": "LayoutModel",
       "_view_count": null,
       "_view_module": "@jupyter-widgets/base",
       "_view_module_version": "2.0.0",
       "_view_name": "LayoutView",
       "align_content": null,
       "align_items": null,
       "align_self": null,
       "border_bottom": null,
       "border_left": null,
       "border_right": null,
       "border_top": null,
       "bottom": null,
       "display": null,
       "flex": null,
       "flex_flow": null,
       "grid_area": null,
       "grid_auto_columns": null,
       "grid_auto_flow": null,
       "grid_auto_rows": null,
       "grid_column": null,
       "grid_gap": null,
       "grid_row": null,
       "grid_template_areas": null,
       "grid_template_columns": null,
       "grid_template_rows": null,
       "height": null,
       "justify_content": null,
       "justify_items": null,
       "left": null,
       "margin": null,
       "max_height": null,
       "max_width": null,
       "min_height": null,
       "min_width": null,
       "object_fit": null,
       "object_position": null,
       "order": null,
       "overflow": null,
       "padding": null,
       "right": null,
       "top": null,
       "visibility": null,
       "width": null
      }
     },
     "59f17cfab85c4f5e80b8a077d74ae6b8": {
      "model_module": "@jupyter-widgets/controls",
      "model_module_version": "2.0.0",
      "model_name": "ProgressStyleModel",
      "state": {
       "_model_module": "@jupyter-widgets/controls",
       "_model_module_version": "2.0.0",
       "_model_name": "ProgressStyleModel",
       "_view_count": null,
       "_view_module": "@jupyter-widgets/base",
       "_view_module_version": "2.0.0",
       "_view_name": "StyleView",
       "bar_color": null,
       "description_width": ""
      }
     },
     "638f3aabe36f42afa1e7c895db3e43c7": {
      "model_module": "@jupyter-widgets/base",
      "model_module_version": "2.0.0",
      "model_name": "LayoutModel",
      "state": {
       "_model_module": "@jupyter-widgets/base",
       "_model_module_version": "2.0.0",
       "_model_name": "LayoutModel",
       "_view_count": null,
       "_view_module": "@jupyter-widgets/base",
       "_view_module_version": "2.0.0",
       "_view_name": "LayoutView",
       "align_content": null,
       "align_items": null,
       "align_self": null,
       "border_bottom": null,
       "border_left": null,
       "border_right": null,
       "border_top": null,
       "bottom": null,
       "display": null,
       "flex": null,
       "flex_flow": null,
       "grid_area": null,
       "grid_auto_columns": null,
       "grid_auto_flow": null,
       "grid_auto_rows": null,
       "grid_column": null,
       "grid_gap": null,
       "grid_row": null,
       "grid_template_areas": null,
       "grid_template_columns": null,
       "grid_template_rows": null,
       "height": null,
       "justify_content": null,
       "justify_items": null,
       "left": null,
       "margin": null,
       "max_height": null,
       "max_width": null,
       "min_height": null,
       "min_width": null,
       "object_fit": null,
       "object_position": null,
       "order": null,
       "overflow": null,
       "padding": null,
       "right": null,
       "top": null,
       "visibility": null,
       "width": null
      }
     },
     "6506a1bf91a54d56ad156125340cdd0a": {
      "model_module": "@jupyter-widgets/base",
      "model_module_version": "2.0.0",
      "model_name": "LayoutModel",
      "state": {
       "_model_module": "@jupyter-widgets/base",
       "_model_module_version": "2.0.0",
       "_model_name": "LayoutModel",
       "_view_count": null,
       "_view_module": "@jupyter-widgets/base",
       "_view_module_version": "2.0.0",
       "_view_name": "LayoutView",
       "align_content": null,
       "align_items": null,
       "align_self": null,
       "border_bottom": null,
       "border_left": null,
       "border_right": null,
       "border_top": null,
       "bottom": null,
       "display": null,
       "flex": null,
       "flex_flow": null,
       "grid_area": null,
       "grid_auto_columns": null,
       "grid_auto_flow": null,
       "grid_auto_rows": null,
       "grid_column": null,
       "grid_gap": null,
       "grid_row": null,
       "grid_template_areas": null,
       "grid_template_columns": null,
       "grid_template_rows": null,
       "height": null,
       "justify_content": null,
       "justify_items": null,
       "left": null,
       "margin": null,
       "max_height": null,
       "max_width": null,
       "min_height": null,
       "min_width": null,
       "object_fit": null,
       "object_position": null,
       "order": null,
       "overflow": null,
       "padding": null,
       "right": null,
       "top": null,
       "visibility": null,
       "width": null
      }
     },
     "657e84d08e254b86b3c66e3963ea4ba6": {
      "model_module": "@jupyter-widgets/controls",
      "model_module_version": "2.0.0",
      "model_name": "FloatProgressModel",
      "state": {
       "_dom_classes": [],
       "_model_module": "@jupyter-widgets/controls",
       "_model_module_version": "2.0.0",
       "_model_name": "FloatProgressModel",
       "_view_count": null,
       "_view_module": "@jupyter-widgets/controls",
       "_view_module_version": "2.0.0",
       "_view_name": "ProgressView",
       "bar_style": "success",
       "description": "",
       "description_allow_html": false,
       "layout": "IPY_MODEL_8438d3fbbcb04c3fbdb659518060f7c7",
       "max": 805.0,
       "min": 0.0,
       "orientation": "horizontal",
       "style": "IPY_MODEL_10c3bdab46b8460a8ed772caed9b812f",
       "tabbable": null,
       "tooltip": null,
       "value": 805.0
      }
     },
     "6590f9ab12204d828fc3248455b717e4": {
      "model_module": "@jupyter-widgets/base",
      "model_module_version": "2.0.0",
      "model_name": "LayoutModel",
      "state": {
       "_model_module": "@jupyter-widgets/base",
       "_model_module_version": "2.0.0",
       "_model_name": "LayoutModel",
       "_view_count": null,
       "_view_module": "@jupyter-widgets/base",
       "_view_module_version": "2.0.0",
       "_view_name": "LayoutView",
       "align_content": null,
       "align_items": null,
       "align_self": null,
       "border_bottom": null,
       "border_left": null,
       "border_right": null,
       "border_top": null,
       "bottom": null,
       "display": null,
       "flex": null,
       "flex_flow": null,
       "grid_area": null,
       "grid_auto_columns": null,
       "grid_auto_flow": null,
       "grid_auto_rows": null,
       "grid_column": null,
       "grid_gap": null,
       "grid_row": null,
       "grid_template_areas": null,
       "grid_template_columns": null,
       "grid_template_rows": null,
       "height": null,
       "justify_content": null,
       "justify_items": null,
       "left": null,
       "margin": null,
       "max_height": null,
       "max_width": null,
       "min_height": null,
       "min_width": null,
       "object_fit": null,
       "object_position": null,
       "order": null,
       "overflow": null,
       "padding": null,
       "right": null,
       "top": null,
       "visibility": null,
       "width": null
      }
     },
     "6758fd9640d5466f876b20db3f1f69b9": {
      "model_module": "@jupyter-widgets/base",
      "model_module_version": "2.0.0",
      "model_name": "LayoutModel",
      "state": {
       "_model_module": "@jupyter-widgets/base",
       "_model_module_version": "2.0.0",
       "_model_name": "LayoutModel",
       "_view_count": null,
       "_view_module": "@jupyter-widgets/base",
       "_view_module_version": "2.0.0",
       "_view_name": "LayoutView",
       "align_content": null,
       "align_items": null,
       "align_self": null,
       "border_bottom": null,
       "border_left": null,
       "border_right": null,
       "border_top": null,
       "bottom": null,
       "display": null,
       "flex": null,
       "flex_flow": null,
       "grid_area": null,
       "grid_auto_columns": null,
       "grid_auto_flow": null,
       "grid_auto_rows": null,
       "grid_column": null,
       "grid_gap": null,
       "grid_row": null,
       "grid_template_areas": null,
       "grid_template_columns": null,
       "grid_template_rows": null,
       "height": null,
       "justify_content": null,
       "justify_items": null,
       "left": null,
       "margin": null,
       "max_height": null,
       "max_width": null,
       "min_height": null,
       "min_width": null,
       "object_fit": null,
       "object_position": null,
       "order": null,
       "overflow": null,
       "padding": null,
       "right": null,
       "top": null,
       "visibility": null,
       "width": null
      }
     },
     "6842a1eb46e84d90aa14ae0798dabeb0": {
      "model_module": "@jupyter-widgets/controls",
      "model_module_version": "2.0.0",
      "model_name": "HTMLModel",
      "state": {
       "_dom_classes": [],
       "_model_module": "@jupyter-widgets/controls",
       "_model_module_version": "2.0.0",
       "_model_name": "HTMLModel",
       "_view_count": null,
       "_view_module": "@jupyter-widgets/controls",
       "_view_module_version": "2.0.0",
       "_view_name": "HTMLView",
       "description": "",
       "description_allow_html": false,
       "layout": "IPY_MODEL_0ed964f247f54b2ba08ed7c9563a76b0",
       "placeholder": "​",
       "style": "IPY_MODEL_0bf842932ff14656a089a253e308fa8b",
       "tabbable": null,
       "tooltip": null,
       "value": " 805/805 [21:22&lt;00:00,  1.26s/it]"
      }
     },
     "6899fee5fe024bf19baa9d7640ff518c": {
      "model_module": "@jupyter-widgets/controls",
      "model_module_version": "2.0.0",
      "model_name": "HTMLStyleModel",
      "state": {
       "_model_module": "@jupyter-widgets/controls",
       "_model_module_version": "2.0.0",
       "_model_name": "HTMLStyleModel",
       "_view_count": null,
       "_view_module": "@jupyter-widgets/base",
       "_view_module_version": "2.0.0",
       "_view_name": "StyleView",
       "background": null,
       "description_width": "",
       "font_size": null,
       "text_color": null
      }
     },
     "6bc958613aa1424d8641492b4d6495d0": {
      "model_module": "@jupyter-widgets/controls",
      "model_module_version": "2.0.0",
      "model_name": "HTMLModel",
      "state": {
       "_dom_classes": [],
       "_model_module": "@jupyter-widgets/controls",
       "_model_module_version": "2.0.0",
       "_model_name": "HTMLModel",
       "_view_count": null,
       "_view_module": "@jupyter-widgets/controls",
       "_view_module_version": "2.0.0",
       "_view_name": "HTMLView",
       "description": "",
       "description_allow_html": false,
       "layout": "IPY_MODEL_96248a72cb544f1c9de12893c107d5ef",
       "placeholder": "​",
       "style": "IPY_MODEL_f29e2dad6ab54b03b4154cb1f72b9964",
       "tabbable": null,
       "tooltip": null,
       "value": "MSEError: 0.2599388: 100%"
      }
     },
     "6d43b0513c9d47908b939cf21ff0037f": {
      "model_module": "@jupyter-widgets/controls",
      "model_module_version": "2.0.0",
      "model_name": "HBoxModel",
      "state": {
       "_dom_classes": [],
       "_model_module": "@jupyter-widgets/controls",
       "_model_module_version": "2.0.0",
       "_model_name": "HBoxModel",
       "_view_count": null,
       "_view_module": "@jupyter-widgets/controls",
       "_view_module_version": "2.0.0",
       "_view_name": "HBoxView",
       "box_style": "",
       "children": [
        "IPY_MODEL_6bc958613aa1424d8641492b4d6495d0",
        "IPY_MODEL_ab06c4db8230477980f9a9cc8b8873a2",
        "IPY_MODEL_1a079a350a2042eeb5c1459fd54f3531"
       ],
       "layout": "IPY_MODEL_ad49748001a042a3ba35794d1fc1cf13",
       "tabbable": null,
       "tooltip": null
      }
     },
     "6d5c0662346842bb8bf1b5feb1815f8f": {
      "model_module": "@jupyter-widgets/base",
      "model_module_version": "2.0.0",
      "model_name": "LayoutModel",
      "state": {
       "_model_module": "@jupyter-widgets/base",
       "_model_module_version": "2.0.0",
       "_model_name": "LayoutModel",
       "_view_count": null,
       "_view_module": "@jupyter-widgets/base",
       "_view_module_version": "2.0.0",
       "_view_name": "LayoutView",
       "align_content": null,
       "align_items": null,
       "align_self": null,
       "border_bottom": null,
       "border_left": null,
       "border_right": null,
       "border_top": null,
       "bottom": null,
       "display": null,
       "flex": null,
       "flex_flow": null,
       "grid_area": null,
       "grid_auto_columns": null,
       "grid_auto_flow": null,
       "grid_auto_rows": null,
       "grid_column": null,
       "grid_gap": null,
       "grid_row": null,
       "grid_template_areas": null,
       "grid_template_columns": null,
       "grid_template_rows": null,
       "height": null,
       "justify_content": null,
       "justify_items": null,
       "left": null,
       "margin": null,
       "max_height": null,
       "max_width": null,
       "min_height": null,
       "min_width": null,
       "object_fit": null,
       "object_position": null,
       "order": null,
       "overflow": null,
       "padding": null,
       "right": null,
       "top": null,
       "visibility": null,
       "width": null
      }
     },
     "6e3a85b4f2cb4e2f90ca88f0e3906a6b": {
      "model_module": "@jupyter-widgets/base",
      "model_module_version": "2.0.0",
      "model_name": "LayoutModel",
      "state": {
       "_model_module": "@jupyter-widgets/base",
       "_model_module_version": "2.0.0",
       "_model_name": "LayoutModel",
       "_view_count": null,
       "_view_module": "@jupyter-widgets/base",
       "_view_module_version": "2.0.0",
       "_view_name": "LayoutView",
       "align_content": null,
       "align_items": null,
       "align_self": null,
       "border_bottom": null,
       "border_left": null,
       "border_right": null,
       "border_top": null,
       "bottom": null,
       "display": null,
       "flex": null,
       "flex_flow": null,
       "grid_area": null,
       "grid_auto_columns": null,
       "grid_auto_flow": null,
       "grid_auto_rows": null,
       "grid_column": null,
       "grid_gap": null,
       "grid_row": null,
       "grid_template_areas": null,
       "grid_template_columns": null,
       "grid_template_rows": null,
       "height": null,
       "justify_content": null,
       "justify_items": null,
       "left": null,
       "margin": null,
       "max_height": null,
       "max_width": null,
       "min_height": null,
       "min_width": null,
       "object_fit": null,
       "object_position": null,
       "order": null,
       "overflow": null,
       "padding": null,
       "right": null,
       "top": null,
       "visibility": null,
       "width": null
      }
     },
     "7087d648f60449c693011aae79bb3208": {
      "model_module": "@jupyter-widgets/controls",
      "model_module_version": "2.0.0",
      "model_name": "HBoxModel",
      "state": {
       "_dom_classes": [],
       "_model_module": "@jupyter-widgets/controls",
       "_model_module_version": "2.0.0",
       "_model_name": "HBoxModel",
       "_view_count": null,
       "_view_module": "@jupyter-widgets/controls",
       "_view_module_version": "2.0.0",
       "_view_name": "HBoxView",
       "box_style": "",
       "children": [
        "IPY_MODEL_7712408d1b364077980a7fcefce0fde2",
        "IPY_MODEL_f4a57a615d5e4f42811eb8d00aba7b40",
        "IPY_MODEL_c04d1ad264a44e1587467ad1c66f9efd"
       ],
       "layout": "IPY_MODEL_43fcfa243bc34b15b09fb1be0d552801",
       "tabbable": null,
       "tooltip": null
      }
     },
     "717111e357304c988c714a5459d363f7": {
      "model_module": "@jupyter-widgets/controls",
      "model_module_version": "2.0.0",
      "model_name": "ProgressStyleModel",
      "state": {
       "_model_module": "@jupyter-widgets/controls",
       "_model_module_version": "2.0.0",
       "_model_name": "ProgressStyleModel",
       "_view_count": null,
       "_view_module": "@jupyter-widgets/base",
       "_view_module_version": "2.0.0",
       "_view_name": "StyleView",
       "bar_color": null,
       "description_width": ""
      }
     },
     "7256095620094dd299bb0d4b5e930a4f": {
      "model_module": "@jupyter-widgets/controls",
      "model_module_version": "2.0.0",
      "model_name": "HTMLModel",
      "state": {
       "_dom_classes": [],
       "_model_module": "@jupyter-widgets/controls",
       "_model_module_version": "2.0.0",
       "_model_name": "HTMLModel",
       "_view_count": null,
       "_view_module": "@jupyter-widgets/controls",
       "_view_module_version": "2.0.0",
       "_view_name": "HTMLView",
       "description": "",
       "description_allow_html": false,
       "layout": "IPY_MODEL_d50af0327997456c805f6fa1dd2d6bc3",
       "placeholder": "​",
       "style": "IPY_MODEL_322030fc89214a9ea17a892d2f6e7659",
       "tabbable": null,
       "tooltip": null,
       "value": " 805/805 [21:15&lt;00:00,  1.27s/it]"
      }
     },
     "75a54628c5b64d9e846d56188de54c9a": {
      "model_module": "@jupyter-widgets/controls",
      "model_module_version": "2.0.0",
      "model_name": "HTMLModel",
      "state": {
       "_dom_classes": [],
       "_model_module": "@jupyter-widgets/controls",
       "_model_module_version": "2.0.0",
       "_model_name": "HTMLModel",
       "_view_count": null,
       "_view_module": "@jupyter-widgets/controls",
       "_view_module_version": "2.0.0",
       "_view_name": "HTMLView",
       "description": "",
       "description_allow_html": false,
       "layout": "IPY_MODEL_cc88065ed77e446882328969ad4032fb",
       "placeholder": "​",
       "style": "IPY_MODEL_6899fee5fe024bf19baa9d7640ff518c",
       "tabbable": null,
       "tooltip": null,
       "value": "MSEError: 0.25826824: 100%"
      }
     },
     "770e070ee4de4007af3b3f4f8b34bd95": {
      "model_module": "@jupyter-widgets/controls",
      "model_module_version": "2.0.0",
      "model_name": "HBoxModel",
      "state": {
       "_dom_classes": [],
       "_model_module": "@jupyter-widgets/controls",
       "_model_module_version": "2.0.0",
       "_model_name": "HBoxModel",
       "_view_count": null,
       "_view_module": "@jupyter-widgets/controls",
       "_view_module_version": "2.0.0",
       "_view_name": "HBoxView",
       "box_style": "",
       "children": [
        "IPY_MODEL_8e82978718744e4da6962edef89660eb",
        "IPY_MODEL_35d0f547d5424d6082f9492e344cf923",
        "IPY_MODEL_9dedd2968e164ad4b40f9d09bfaa5562"
       ],
       "layout": "IPY_MODEL_6506a1bf91a54d56ad156125340cdd0a",
       "tabbable": null,
       "tooltip": null
      }
     },
     "7712408d1b364077980a7fcefce0fde2": {
      "model_module": "@jupyter-widgets/controls",
      "model_module_version": "2.0.0",
      "model_name": "HTMLModel",
      "state": {
       "_dom_classes": [],
       "_model_module": "@jupyter-widgets/controls",
       "_model_module_version": "2.0.0",
       "_model_name": "HTMLModel",
       "_view_count": null,
       "_view_module": "@jupyter-widgets/controls",
       "_view_module_version": "2.0.0",
       "_view_name": "HTMLView",
       "description": "",
       "description_allow_html": false,
       "layout": "IPY_MODEL_6e3a85b4f2cb4e2f90ca88f0e3906a6b",
       "placeholder": "​",
       "style": "IPY_MODEL_3ec92242e972453a8186f2e5d153c024",
       "tabbable": null,
       "tooltip": null,
       "value": "MSEError: 0.26180425: 100%"
      }
     },
     "791338faa8f24ba8abf20e84b240ddfb": {
      "model_module": "@jupyter-widgets/controls",
      "model_module_version": "2.0.0",
      "model_name": "HBoxModel",
      "state": {
       "_dom_classes": [],
       "_model_module": "@jupyter-widgets/controls",
       "_model_module_version": "2.0.0",
       "_model_name": "HBoxModel",
       "_view_count": null,
       "_view_module": "@jupyter-widgets/controls",
       "_view_module_version": "2.0.0",
       "_view_name": "HBoxView",
       "box_style": "",
       "children": [
        "IPY_MODEL_16e7598ddabf4933a15240fdd97274a5",
        "IPY_MODEL_82c456d1beaf40d8b765dfea9136173c",
        "IPY_MODEL_34b08be926d74a199bbe6b3a8131caa3"
       ],
       "layout": "IPY_MODEL_f501fb2cf9a44ae1a852574c3bdc422e",
       "tabbable": null,
       "tooltip": null
      }
     },
     "7bd08652095f48758ae980694e709a61": {
      "model_module": "@jupyter-widgets/controls",
      "model_module_version": "2.0.0",
      "model_name": "HTMLStyleModel",
      "state": {
       "_model_module": "@jupyter-widgets/controls",
       "_model_module_version": "2.0.0",
       "_model_name": "HTMLStyleModel",
       "_view_count": null,
       "_view_module": "@jupyter-widgets/base",
       "_view_module_version": "2.0.0",
       "_view_name": "StyleView",
       "background": null,
       "description_width": "",
       "font_size": null,
       "text_color": null
      }
     },
     "7d9b74015a064d18ba8e67bac215b466": {
      "model_module": "@jupyter-widgets/controls",
      "model_module_version": "2.0.0",
      "model_name": "HTMLModel",
      "state": {
       "_dom_classes": [],
       "_model_module": "@jupyter-widgets/controls",
       "_model_module_version": "2.0.0",
       "_model_name": "HTMLModel",
       "_view_count": null,
       "_view_module": "@jupyter-widgets/controls",
       "_view_module_version": "2.0.0",
       "_view_name": "HTMLView",
       "description": "",
       "description_allow_html": false,
       "layout": "IPY_MODEL_04f353e423394456933f5d74da19c04f",
       "placeholder": "​",
       "style": "IPY_MODEL_ef01fb7b1229494e9f4df75e8e67c53d",
       "tabbable": null,
       "tooltip": null,
       "value": " 805/805 [23:16&lt;00:00,  1.47s/it]"
      }
     },
     "80d8bb7fa0214e3b8b2d2844dc217661": {
      "model_module": "@jupyter-widgets/controls",
      "model_module_version": "2.0.0",
      "model_name": "HTMLStyleModel",
      "state": {
       "_model_module": "@jupyter-widgets/controls",
       "_model_module_version": "2.0.0",
       "_model_name": "HTMLStyleModel",
       "_view_count": null,
       "_view_module": "@jupyter-widgets/base",
       "_view_module_version": "2.0.0",
       "_view_name": "StyleView",
       "background": null,
       "description_width": "",
       "font_size": null,
       "text_color": null
      }
     },
     "82c456d1beaf40d8b765dfea9136173c": {
      "model_module": "@jupyter-widgets/controls",
      "model_module_version": "2.0.0",
      "model_name": "FloatProgressModel",
      "state": {
       "_dom_classes": [],
       "_model_module": "@jupyter-widgets/controls",
       "_model_module_version": "2.0.0",
       "_model_name": "FloatProgressModel",
       "_view_count": null,
       "_view_module": "@jupyter-widgets/controls",
       "_view_module_version": "2.0.0",
       "_view_name": "ProgressView",
       "bar_style": "success",
       "description": "",
       "description_allow_html": false,
       "layout": "IPY_MODEL_adc6e274a7b24e46ac3f15abeb13e06f",
       "max": 805.0,
       "min": 0.0,
       "orientation": "horizontal",
       "style": "IPY_MODEL_26aa8eeadd5843ff8c49d55543da28e4",
       "tabbable": null,
       "tooltip": null,
       "value": 805.0
      }
     },
     "839945fb8a99442fb5565c9115f10c65": {
      "model_module": "@jupyter-widgets/base",
      "model_module_version": "2.0.0",
      "model_name": "LayoutModel",
      "state": {
       "_model_module": "@jupyter-widgets/base",
       "_model_module_version": "2.0.0",
       "_model_name": "LayoutModel",
       "_view_count": null,
       "_view_module": "@jupyter-widgets/base",
       "_view_module_version": "2.0.0",
       "_view_name": "LayoutView",
       "align_content": null,
       "align_items": null,
       "align_self": null,
       "border_bottom": null,
       "border_left": null,
       "border_right": null,
       "border_top": null,
       "bottom": null,
       "display": null,
       "flex": null,
       "flex_flow": null,
       "grid_area": null,
       "grid_auto_columns": null,
       "grid_auto_flow": null,
       "grid_auto_rows": null,
       "grid_column": null,
       "grid_gap": null,
       "grid_row": null,
       "grid_template_areas": null,
       "grid_template_columns": null,
       "grid_template_rows": null,
       "height": null,
       "justify_content": null,
       "justify_items": null,
       "left": null,
       "margin": null,
       "max_height": null,
       "max_width": null,
       "min_height": null,
       "min_width": null,
       "object_fit": null,
       "object_position": null,
       "order": null,
       "overflow": null,
       "padding": null,
       "right": null,
       "top": null,
       "visibility": null,
       "width": null
      }
     },
     "83f2865ee28b4f04945b2d4347ac91cd": {
      "model_module": "@jupyter-widgets/controls",
      "model_module_version": "2.0.0",
      "model_name": "HBoxModel",
      "state": {
       "_dom_classes": [],
       "_model_module": "@jupyter-widgets/controls",
       "_model_module_version": "2.0.0",
       "_model_name": "HBoxModel",
       "_view_count": null,
       "_view_module": "@jupyter-widgets/controls",
       "_view_module_version": "2.0.0",
       "_view_name": "HBoxView",
       "box_style": "",
       "children": [
        "IPY_MODEL_b8ddaea80355424185c5dfcf1fbbbe39",
        "IPY_MODEL_ce9bc4ebf8e64ed9ac489b7ff42c37e0",
        "IPY_MODEL_6842a1eb46e84d90aa14ae0798dabeb0"
       ],
       "layout": "IPY_MODEL_638f3aabe36f42afa1e7c895db3e43c7",
       "tabbable": null,
       "tooltip": null
      }
     },
     "8438d3fbbcb04c3fbdb659518060f7c7": {
      "model_module": "@jupyter-widgets/base",
      "model_module_version": "2.0.0",
      "model_name": "LayoutModel",
      "state": {
       "_model_module": "@jupyter-widgets/base",
       "_model_module_version": "2.0.0",
       "_model_name": "LayoutModel",
       "_view_count": null,
       "_view_module": "@jupyter-widgets/base",
       "_view_module_version": "2.0.0",
       "_view_name": "LayoutView",
       "align_content": null,
       "align_items": null,
       "align_self": null,
       "border_bottom": null,
       "border_left": null,
       "border_right": null,
       "border_top": null,
       "bottom": null,
       "display": null,
       "flex": null,
       "flex_flow": null,
       "grid_area": null,
       "grid_auto_columns": null,
       "grid_auto_flow": null,
       "grid_auto_rows": null,
       "grid_column": null,
       "grid_gap": null,
       "grid_row": null,
       "grid_template_areas": null,
       "grid_template_columns": null,
       "grid_template_rows": null,
       "height": null,
       "justify_content": null,
       "justify_items": null,
       "left": null,
       "margin": null,
       "max_height": null,
       "max_width": null,
       "min_height": null,
       "min_width": null,
       "object_fit": null,
       "object_position": null,
       "order": null,
       "overflow": null,
       "padding": null,
       "right": null,
       "top": null,
       "visibility": null,
       "width": null
      }
     },
     "8c4fe77cbfc44713854af98d01d039e8": {
      "model_module": "@jupyter-widgets/controls",
      "model_module_version": "2.0.0",
      "model_name": "HBoxModel",
      "state": {
       "_dom_classes": [],
       "_model_module": "@jupyter-widgets/controls",
       "_model_module_version": "2.0.0",
       "_model_name": "HBoxModel",
       "_view_count": null,
       "_view_module": "@jupyter-widgets/controls",
       "_view_module_version": "2.0.0",
       "_view_name": "HBoxView",
       "box_style": "",
       "children": [
        "IPY_MODEL_75a54628c5b64d9e846d56188de54c9a",
        "IPY_MODEL_657e84d08e254b86b3c66e3963ea4ba6",
        "IPY_MODEL_f9232989e126438baed1e84b7f95d039"
       ],
       "layout": "IPY_MODEL_9a9cbc91718e4bc580ae1f04d36394ca",
       "tabbable": null,
       "tooltip": null
      }
     },
     "8e82978718744e4da6962edef89660eb": {
      "model_module": "@jupyter-widgets/controls",
      "model_module_version": "2.0.0",
      "model_name": "HTMLModel",
      "state": {
       "_dom_classes": [],
       "_model_module": "@jupyter-widgets/controls",
       "_model_module_version": "2.0.0",
       "_model_name": "HTMLModel",
       "_view_count": null,
       "_view_module": "@jupyter-widgets/controls",
       "_view_module_version": "2.0.0",
       "_view_name": "HTMLView",
       "description": "",
       "description_allow_html": false,
       "layout": "IPY_MODEL_4e048dd6166840869dc41bde1df8dbab",
       "placeholder": "​",
       "style": "IPY_MODEL_e2a24fbc4d844828b862b8c8696b96f5",
       "tabbable": null,
       "tooltip": null,
       "value": "MSEError: 0.27137625: 100%"
      }
     },
     "8fffb44e1fbf409f80fa79363c6ebfe5": {
      "model_module": "@jupyter-widgets/controls",
      "model_module_version": "2.0.0",
      "model_name": "HTMLModel",
      "state": {
       "_dom_classes": [],
       "_model_module": "@jupyter-widgets/controls",
       "_model_module_version": "2.0.0",
       "_model_name": "HTMLModel",
       "_view_count": null,
       "_view_module": "@jupyter-widgets/controls",
       "_view_module_version": "2.0.0",
       "_view_name": "HTMLView",
       "description": "",
       "description_allow_html": false,
       "layout": "IPY_MODEL_c642a40c2e5d46b7bd5a3aaea77db48b",
       "placeholder": "​",
       "style": "IPY_MODEL_139e8d3f9e76418b8831d28352b78c69",
       "tabbable": null,
       "tooltip": null,
       "value": "MSEError: 0.282968: 100%"
      }
     },
     "924c6e36de8a47f6a902ba519c94d04a": {
      "model_module": "@jupyter-widgets/controls",
      "model_module_version": "2.0.0",
      "model_name": "HTMLStyleModel",
      "state": {
       "_model_module": "@jupyter-widgets/controls",
       "_model_module_version": "2.0.0",
       "_model_name": "HTMLStyleModel",
       "_view_count": null,
       "_view_module": "@jupyter-widgets/base",
       "_view_module_version": "2.0.0",
       "_view_name": "StyleView",
       "background": null,
       "description_width": "",
       "font_size": null,
       "text_color": null
      }
     },
     "94173045ee9a4a82990b1ee9ee18eead": {
      "model_module": "@jupyter-widgets/base",
      "model_module_version": "2.0.0",
      "model_name": "LayoutModel",
      "state": {
       "_model_module": "@jupyter-widgets/base",
       "_model_module_version": "2.0.0",
       "_model_name": "LayoutModel",
       "_view_count": null,
       "_view_module": "@jupyter-widgets/base",
       "_view_module_version": "2.0.0",
       "_view_name": "LayoutView",
       "align_content": null,
       "align_items": null,
       "align_self": null,
       "border_bottom": null,
       "border_left": null,
       "border_right": null,
       "border_top": null,
       "bottom": null,
       "display": null,
       "flex": null,
       "flex_flow": null,
       "grid_area": null,
       "grid_auto_columns": null,
       "grid_auto_flow": null,
       "grid_auto_rows": null,
       "grid_column": null,
       "grid_gap": null,
       "grid_row": null,
       "grid_template_areas": null,
       "grid_template_columns": null,
       "grid_template_rows": null,
       "height": null,
       "justify_content": null,
       "justify_items": null,
       "left": null,
       "margin": null,
       "max_height": null,
       "max_width": null,
       "min_height": null,
       "min_width": null,
       "object_fit": null,
       "object_position": null,
       "order": null,
       "overflow": null,
       "padding": null,
       "right": null,
       "top": null,
       "visibility": null,
       "width": null
      }
     },
     "96248a72cb544f1c9de12893c107d5ef": {
      "model_module": "@jupyter-widgets/base",
      "model_module_version": "2.0.0",
      "model_name": "LayoutModel",
      "state": {
       "_model_module": "@jupyter-widgets/base",
       "_model_module_version": "2.0.0",
       "_model_name": "LayoutModel",
       "_view_count": null,
       "_view_module": "@jupyter-widgets/base",
       "_view_module_version": "2.0.0",
       "_view_name": "LayoutView",
       "align_content": null,
       "align_items": null,
       "align_self": null,
       "border_bottom": null,
       "border_left": null,
       "border_right": null,
       "border_top": null,
       "bottom": null,
       "display": null,
       "flex": null,
       "flex_flow": null,
       "grid_area": null,
       "grid_auto_columns": null,
       "grid_auto_flow": null,
       "grid_auto_rows": null,
       "grid_column": null,
       "grid_gap": null,
       "grid_row": null,
       "grid_template_areas": null,
       "grid_template_columns": null,
       "grid_template_rows": null,
       "height": null,
       "justify_content": null,
       "justify_items": null,
       "left": null,
       "margin": null,
       "max_height": null,
       "max_width": null,
       "min_height": null,
       "min_width": null,
       "object_fit": null,
       "object_position": null,
       "order": null,
       "overflow": null,
       "padding": null,
       "right": null,
       "top": null,
       "visibility": null,
       "width": null
      }
     },
     "97db91eeb92b4196a1b76c1d2b6e4cea": {
      "model_module": "@jupyter-widgets/base",
      "model_module_version": "2.0.0",
      "model_name": "LayoutModel",
      "state": {
       "_model_module": "@jupyter-widgets/base",
       "_model_module_version": "2.0.0",
       "_model_name": "LayoutModel",
       "_view_count": null,
       "_view_module": "@jupyter-widgets/base",
       "_view_module_version": "2.0.0",
       "_view_name": "LayoutView",
       "align_content": null,
       "align_items": null,
       "align_self": null,
       "border_bottom": null,
       "border_left": null,
       "border_right": null,
       "border_top": null,
       "bottom": null,
       "display": null,
       "flex": null,
       "flex_flow": null,
       "grid_area": null,
       "grid_auto_columns": null,
       "grid_auto_flow": null,
       "grid_auto_rows": null,
       "grid_column": null,
       "grid_gap": null,
       "grid_row": null,
       "grid_template_areas": null,
       "grid_template_columns": null,
       "grid_template_rows": null,
       "height": null,
       "justify_content": null,
       "justify_items": null,
       "left": null,
       "margin": null,
       "max_height": null,
       "max_width": null,
       "min_height": null,
       "min_width": null,
       "object_fit": null,
       "object_position": null,
       "order": null,
       "overflow": null,
       "padding": null,
       "right": null,
       "top": null,
       "visibility": null,
       "width": null
      }
     },
     "9a9cbc91718e4bc580ae1f04d36394ca": {
      "model_module": "@jupyter-widgets/base",
      "model_module_version": "2.0.0",
      "model_name": "LayoutModel",
      "state": {
       "_model_module": "@jupyter-widgets/base",
       "_model_module_version": "2.0.0",
       "_model_name": "LayoutModel",
       "_view_count": null,
       "_view_module": "@jupyter-widgets/base",
       "_view_module_version": "2.0.0",
       "_view_name": "LayoutView",
       "align_content": null,
       "align_items": null,
       "align_self": null,
       "border_bottom": null,
       "border_left": null,
       "border_right": null,
       "border_top": null,
       "bottom": null,
       "display": null,
       "flex": null,
       "flex_flow": null,
       "grid_area": null,
       "grid_auto_columns": null,
       "grid_auto_flow": null,
       "grid_auto_rows": null,
       "grid_column": null,
       "grid_gap": null,
       "grid_row": null,
       "grid_template_areas": null,
       "grid_template_columns": null,
       "grid_template_rows": null,
       "height": null,
       "justify_content": null,
       "justify_items": null,
       "left": null,
       "margin": null,
       "max_height": null,
       "max_width": null,
       "min_height": null,
       "min_width": null,
       "object_fit": null,
       "object_position": null,
       "order": null,
       "overflow": null,
       "padding": null,
       "right": null,
       "top": null,
       "visibility": null,
       "width": null
      }
     },
     "9dedd2968e164ad4b40f9d09bfaa5562": {
      "model_module": "@jupyter-widgets/controls",
      "model_module_version": "2.0.0",
      "model_name": "HTMLModel",
      "state": {
       "_dom_classes": [],
       "_model_module": "@jupyter-widgets/controls",
       "_model_module_version": "2.0.0",
       "_model_name": "HTMLModel",
       "_view_count": null,
       "_view_module": "@jupyter-widgets/controls",
       "_view_module_version": "2.0.0",
       "_view_name": "HTMLView",
       "description": "",
       "description_allow_html": false,
       "layout": "IPY_MODEL_a0c375bebe08465483e2f4b30edea42e",
       "placeholder": "​",
       "style": "IPY_MODEL_eb1c93d7552a4c3d9c91c635e97db80e",
       "tabbable": null,
       "tooltip": null,
       "value": " 805/805 [21:08&lt;00:00,  1.29s/it]"
      }
     },
     "9fbd2b4103a64e2380a5ee0c4ec6f794": {
      "model_module": "@jupyter-widgets/controls",
      "model_module_version": "2.0.0",
      "model_name": "HTMLModel",
      "state": {
       "_dom_classes": [],
       "_model_module": "@jupyter-widgets/controls",
       "_model_module_version": "2.0.0",
       "_model_name": "HTMLModel",
       "_view_count": null,
       "_view_module": "@jupyter-widgets/controls",
       "_view_module_version": "2.0.0",
       "_view_name": "HTMLView",
       "description": "",
       "description_allow_html": false,
       "layout": "IPY_MODEL_22a285bf0d8a4fad9f4b6e7562eef879",
       "placeholder": "​",
       "style": "IPY_MODEL_104bc0c7f91e449fb225e34748ce3334",
       "tabbable": null,
       "tooltip": null,
       "value": "MSEError: 0.25599992: 100%"
      }
     },
     "a0c375bebe08465483e2f4b30edea42e": {
      "model_module": "@jupyter-widgets/base",
      "model_module_version": "2.0.0",
      "model_name": "LayoutModel",
      "state": {
       "_model_module": "@jupyter-widgets/base",
       "_model_module_version": "2.0.0",
       "_model_name": "LayoutModel",
       "_view_count": null,
       "_view_module": "@jupyter-widgets/base",
       "_view_module_version": "2.0.0",
       "_view_name": "LayoutView",
       "align_content": null,
       "align_items": null,
       "align_self": null,
       "border_bottom": null,
       "border_left": null,
       "border_right": null,
       "border_top": null,
       "bottom": null,
       "display": null,
       "flex": null,
       "flex_flow": null,
       "grid_area": null,
       "grid_auto_columns": null,
       "grid_auto_flow": null,
       "grid_auto_rows": null,
       "grid_column": null,
       "grid_gap": null,
       "grid_row": null,
       "grid_template_areas": null,
       "grid_template_columns": null,
       "grid_template_rows": null,
       "height": null,
       "justify_content": null,
       "justify_items": null,
       "left": null,
       "margin": null,
       "max_height": null,
       "max_width": null,
       "min_height": null,
       "min_width": null,
       "object_fit": null,
       "object_position": null,
       "order": null,
       "overflow": null,
       "padding": null,
       "right": null,
       "top": null,
       "visibility": null,
       "width": null
      }
     },
     "a0c756fe80a54446b3711120fa1f6d81": {
      "model_module": "@jupyter-widgets/controls",
      "model_module_version": "2.0.0",
      "model_name": "FloatProgressModel",
      "state": {
       "_dom_classes": [],
       "_model_module": "@jupyter-widgets/controls",
       "_model_module_version": "2.0.0",
       "_model_name": "FloatProgressModel",
       "_view_count": null,
       "_view_module": "@jupyter-widgets/controls",
       "_view_module_version": "2.0.0",
       "_view_name": "ProgressView",
       "bar_style": "success",
       "description": "",
       "description_allow_html": false,
       "layout": "IPY_MODEL_de5b857ab54c417c8e9169b4bf9ba725",
       "max": 805.0,
       "min": 0.0,
       "orientation": "horizontal",
       "style": "IPY_MODEL_afca326aac7e40bb8c129058364e21e5",
       "tabbable": null,
       "tooltip": null,
       "value": 805.0
      }
     },
     "a0c8e0df2ad74e4bb8e406ac3aa0ea74": {
      "model_module": "@jupyter-widgets/controls",
      "model_module_version": "2.0.0",
      "model_name": "FloatProgressModel",
      "state": {
       "_dom_classes": [],
       "_model_module": "@jupyter-widgets/controls",
       "_model_module_version": "2.0.0",
       "_model_name": "FloatProgressModel",
       "_view_count": null,
       "_view_module": "@jupyter-widgets/controls",
       "_view_module_version": "2.0.0",
       "_view_name": "ProgressView",
       "bar_style": "success",
       "description": "",
       "description_allow_html": false,
       "layout": "IPY_MODEL_f7b5b361cf59421cb1a6762507e169ca",
       "max": 805.0,
       "min": 0.0,
       "orientation": "horizontal",
       "style": "IPY_MODEL_f94ee8b116614bd6a90a6574c97a0736",
       "tabbable": null,
       "tooltip": null,
       "value": 805.0
      }
     },
     "a18a0d1c68d0442096272a1adcfd60f4": {
      "model_module": "@jupyter-widgets/controls",
      "model_module_version": "2.0.0",
      "model_name": "HBoxModel",
      "state": {
       "_dom_classes": [],
       "_model_module": "@jupyter-widgets/controls",
       "_model_module_version": "2.0.0",
       "_model_name": "HBoxModel",
       "_view_count": null,
       "_view_module": "@jupyter-widgets/controls",
       "_view_module_version": "2.0.0",
       "_view_name": "HBoxView",
       "box_style": "",
       "children": [
        "IPY_MODEL_8fffb44e1fbf409f80fa79363c6ebfe5",
        "IPY_MODEL_2259e0f0d59b4aecab72f227b718ddf6",
        "IPY_MODEL_7256095620094dd299bb0d4b5e930a4f"
       ],
       "layout": "IPY_MODEL_045ee98530a14598822f932ee7283b3f",
       "tabbable": null,
       "tooltip": null
      }
     },
     "ab06c4db8230477980f9a9cc8b8873a2": {
      "model_module": "@jupyter-widgets/controls",
      "model_module_version": "2.0.0",
      "model_name": "FloatProgressModel",
      "state": {
       "_dom_classes": [],
       "_model_module": "@jupyter-widgets/controls",
       "_model_module_version": "2.0.0",
       "_model_name": "FloatProgressModel",
       "_view_count": null,
       "_view_module": "@jupyter-widgets/controls",
       "_view_module_version": "2.0.0",
       "_view_name": "ProgressView",
       "bar_style": "success",
       "description": "",
       "description_allow_html": false,
       "layout": "IPY_MODEL_97db91eeb92b4196a1b76c1d2b6e4cea",
       "max": 805.0,
       "min": 0.0,
       "orientation": "horizontal",
       "style": "IPY_MODEL_3c0e1e4c818848cebee8301c5f82c36f",
       "tabbable": null,
       "tooltip": null,
       "value": 805.0
      }
     },
     "ad49748001a042a3ba35794d1fc1cf13": {
      "model_module": "@jupyter-widgets/base",
      "model_module_version": "2.0.0",
      "model_name": "LayoutModel",
      "state": {
       "_model_module": "@jupyter-widgets/base",
       "_model_module_version": "2.0.0",
       "_model_name": "LayoutModel",
       "_view_count": null,
       "_view_module": "@jupyter-widgets/base",
       "_view_module_version": "2.0.0",
       "_view_name": "LayoutView",
       "align_content": null,
       "align_items": null,
       "align_self": null,
       "border_bottom": null,
       "border_left": null,
       "border_right": null,
       "border_top": null,
       "bottom": null,
       "display": null,
       "flex": null,
       "flex_flow": null,
       "grid_area": null,
       "grid_auto_columns": null,
       "grid_auto_flow": null,
       "grid_auto_rows": null,
       "grid_column": null,
       "grid_gap": null,
       "grid_row": null,
       "grid_template_areas": null,
       "grid_template_columns": null,
       "grid_template_rows": null,
       "height": null,
       "justify_content": null,
       "justify_items": null,
       "left": null,
       "margin": null,
       "max_height": null,
       "max_width": null,
       "min_height": null,
       "min_width": null,
       "object_fit": null,
       "object_position": null,
       "order": null,
       "overflow": null,
       "padding": null,
       "right": null,
       "top": null,
       "visibility": null,
       "width": null
      }
     },
     "adc6e274a7b24e46ac3f15abeb13e06f": {
      "model_module": "@jupyter-widgets/base",
      "model_module_version": "2.0.0",
      "model_name": "LayoutModel",
      "state": {
       "_model_module": "@jupyter-widgets/base",
       "_model_module_version": "2.0.0",
       "_model_name": "LayoutModel",
       "_view_count": null,
       "_view_module": "@jupyter-widgets/base",
       "_view_module_version": "2.0.0",
       "_view_name": "LayoutView",
       "align_content": null,
       "align_items": null,
       "align_self": null,
       "border_bottom": null,
       "border_left": null,
       "border_right": null,
       "border_top": null,
       "bottom": null,
       "display": null,
       "flex": null,
       "flex_flow": null,
       "grid_area": null,
       "grid_auto_columns": null,
       "grid_auto_flow": null,
       "grid_auto_rows": null,
       "grid_column": null,
       "grid_gap": null,
       "grid_row": null,
       "grid_template_areas": null,
       "grid_template_columns": null,
       "grid_template_rows": null,
       "height": null,
       "justify_content": null,
       "justify_items": null,
       "left": null,
       "margin": null,
       "max_height": null,
       "max_width": null,
       "min_height": null,
       "min_width": null,
       "object_fit": null,
       "object_position": null,
       "order": null,
       "overflow": null,
       "padding": null,
       "right": null,
       "top": null,
       "visibility": null,
       "width": null
      }
     },
     "ae6200d3ef2148ee9e8fa8830b7ea6a9": {
      "model_module": "@jupyter-widgets/controls",
      "model_module_version": "2.0.0",
      "model_name": "HTMLStyleModel",
      "state": {
       "_model_module": "@jupyter-widgets/controls",
       "_model_module_version": "2.0.0",
       "_model_name": "HTMLStyleModel",
       "_view_count": null,
       "_view_module": "@jupyter-widgets/base",
       "_view_module_version": "2.0.0",
       "_view_name": "StyleView",
       "background": null,
       "description_width": "",
       "font_size": null,
       "text_color": null
      }
     },
     "afca326aac7e40bb8c129058364e21e5": {
      "model_module": "@jupyter-widgets/controls",
      "model_module_version": "2.0.0",
      "model_name": "ProgressStyleModel",
      "state": {
       "_model_module": "@jupyter-widgets/controls",
       "_model_module_version": "2.0.0",
       "_model_name": "ProgressStyleModel",
       "_view_count": null,
       "_view_module": "@jupyter-widgets/base",
       "_view_module_version": "2.0.0",
       "_view_name": "StyleView",
       "bar_color": null,
       "description_width": ""
      }
     },
     "b094c555ac3a4677b598859ba6fdcb41": {
      "model_module": "@jupyter-widgets/base",
      "model_module_version": "2.0.0",
      "model_name": "LayoutModel",
      "state": {
       "_model_module": "@jupyter-widgets/base",
       "_model_module_version": "2.0.0",
       "_model_name": "LayoutModel",
       "_view_count": null,
       "_view_module": "@jupyter-widgets/base",
       "_view_module_version": "2.0.0",
       "_view_name": "LayoutView",
       "align_content": null,
       "align_items": null,
       "align_self": null,
       "border_bottom": null,
       "border_left": null,
       "border_right": null,
       "border_top": null,
       "bottom": null,
       "display": null,
       "flex": null,
       "flex_flow": null,
       "grid_area": null,
       "grid_auto_columns": null,
       "grid_auto_flow": null,
       "grid_auto_rows": null,
       "grid_column": null,
       "grid_gap": null,
       "grid_row": null,
       "grid_template_areas": null,
       "grid_template_columns": null,
       "grid_template_rows": null,
       "height": null,
       "justify_content": null,
       "justify_items": null,
       "left": null,
       "margin": null,
       "max_height": null,
       "max_width": null,
       "min_height": null,
       "min_width": null,
       "object_fit": null,
       "object_position": null,
       "order": null,
       "overflow": null,
       "padding": null,
       "right": null,
       "top": null,
       "visibility": null,
       "width": null
      }
     },
     "b29246abd7934bac96e8dc0d8277fb27": {
      "model_module": "@jupyter-widgets/controls",
      "model_module_version": "2.0.0",
      "model_name": "HTMLStyleModel",
      "state": {
       "_model_module": "@jupyter-widgets/controls",
       "_model_module_version": "2.0.0",
       "_model_name": "HTMLStyleModel",
       "_view_count": null,
       "_view_module": "@jupyter-widgets/base",
       "_view_module_version": "2.0.0",
       "_view_name": "StyleView",
       "background": null,
       "description_width": "",
       "font_size": null,
       "text_color": null
      }
     },
     "b8ddaea80355424185c5dfcf1fbbbe39": {
      "model_module": "@jupyter-widgets/controls",
      "model_module_version": "2.0.0",
      "model_name": "HTMLModel",
      "state": {
       "_dom_classes": [],
       "_model_module": "@jupyter-widgets/controls",
       "_model_module_version": "2.0.0",
       "_model_name": "HTMLModel",
       "_view_count": null,
       "_view_module": "@jupyter-widgets/controls",
       "_view_module_version": "2.0.0",
       "_view_name": "HTMLView",
       "description": "",
       "description_allow_html": false,
       "layout": "IPY_MODEL_30d8b127d0ec45368120ac0045101d24",
       "placeholder": "​",
       "style": "IPY_MODEL_b29246abd7934bac96e8dc0d8277fb27",
       "tabbable": null,
       "tooltip": null,
       "value": "MSEError: 0.25475213: 100%"
      }
     },
     "b926acc9e2bb42dba67c413d05c81d54": {
      "model_module": "@jupyter-widgets/controls",
      "model_module_version": "2.0.0",
      "model_name": "ProgressStyleModel",
      "state": {
       "_model_module": "@jupyter-widgets/controls",
       "_model_module_version": "2.0.0",
       "_model_name": "ProgressStyleModel",
       "_view_count": null,
       "_view_module": "@jupyter-widgets/base",
       "_view_module_version": "2.0.0",
       "_view_name": "StyleView",
       "bar_color": null,
       "description_width": ""
      }
     },
     "befbbaa0a8474e788da867a3f3df3f58": {
      "model_module": "@jupyter-widgets/controls",
      "model_module_version": "2.0.0",
      "model_name": "HBoxModel",
      "state": {
       "_dom_classes": [],
       "_model_module": "@jupyter-widgets/controls",
       "_model_module_version": "2.0.0",
       "_model_name": "HBoxModel",
       "_view_count": null,
       "_view_module": "@jupyter-widgets/controls",
       "_view_module_version": "2.0.0",
       "_view_name": "HBoxView",
       "box_style": "",
       "children": [
        "IPY_MODEL_46f2a97b27ac4b5886f6f3f325069c95",
        "IPY_MODEL_a0c756fe80a54446b3711120fa1f6d81",
        "IPY_MODEL_7d9b74015a064d18ba8e67bac215b466"
       ],
       "layout": "IPY_MODEL_b094c555ac3a4677b598859ba6fdcb41",
       "tabbable": null,
       "tooltip": null
      }
     },
     "c04d1ad264a44e1587467ad1c66f9efd": {
      "model_module": "@jupyter-widgets/controls",
      "model_module_version": "2.0.0",
      "model_name": "HTMLModel",
      "state": {
       "_dom_classes": [],
       "_model_module": "@jupyter-widgets/controls",
       "_model_module_version": "2.0.0",
       "_model_name": "HTMLModel",
       "_view_count": null,
       "_view_module": "@jupyter-widgets/controls",
       "_view_module_version": "2.0.0",
       "_view_name": "HTMLView",
       "description": "",
       "description_allow_html": false,
       "layout": "IPY_MODEL_6758fd9640d5466f876b20db3f1f69b9",
       "placeholder": "​",
       "style": "IPY_MODEL_924c6e36de8a47f6a902ba519c94d04a",
       "tabbable": null,
       "tooltip": null,
       "value": " 805/805 [21:13&lt;00:00,  1.29s/it]"
      }
     },
     "c4899a8cf9c4454f971b3ef9a8ecdc48": {
      "model_module": "@jupyter-widgets/controls",
      "model_module_version": "2.0.0",
      "model_name": "ProgressStyleModel",
      "state": {
       "_model_module": "@jupyter-widgets/controls",
       "_model_module_version": "2.0.0",
       "_model_name": "ProgressStyleModel",
       "_view_count": null,
       "_view_module": "@jupyter-widgets/base",
       "_view_module_version": "2.0.0",
       "_view_name": "StyleView",
       "bar_color": null,
       "description_width": ""
      }
     },
     "c642a40c2e5d46b7bd5a3aaea77db48b": {
      "model_module": "@jupyter-widgets/base",
      "model_module_version": "2.0.0",
      "model_name": "LayoutModel",
      "state": {
       "_model_module": "@jupyter-widgets/base",
       "_model_module_version": "2.0.0",
       "_model_name": "LayoutModel",
       "_view_count": null,
       "_view_module": "@jupyter-widgets/base",
       "_view_module_version": "2.0.0",
       "_view_name": "LayoutView",
       "align_content": null,
       "align_items": null,
       "align_self": null,
       "border_bottom": null,
       "border_left": null,
       "border_right": null,
       "border_top": null,
       "bottom": null,
       "display": null,
       "flex": null,
       "flex_flow": null,
       "grid_area": null,
       "grid_auto_columns": null,
       "grid_auto_flow": null,
       "grid_auto_rows": null,
       "grid_column": null,
       "grid_gap": null,
       "grid_row": null,
       "grid_template_areas": null,
       "grid_template_columns": null,
       "grid_template_rows": null,
       "height": null,
       "justify_content": null,
       "justify_items": null,
       "left": null,
       "margin": null,
       "max_height": null,
       "max_width": null,
       "min_height": null,
       "min_width": null,
       "object_fit": null,
       "object_position": null,
       "order": null,
       "overflow": null,
       "padding": null,
       "right": null,
       "top": null,
       "visibility": null,
       "width": null
      }
     },
     "cc88065ed77e446882328969ad4032fb": {
      "model_module": "@jupyter-widgets/base",
      "model_module_version": "2.0.0",
      "model_name": "LayoutModel",
      "state": {
       "_model_module": "@jupyter-widgets/base",
       "_model_module_version": "2.0.0",
       "_model_name": "LayoutModel",
       "_view_count": null,
       "_view_module": "@jupyter-widgets/base",
       "_view_module_version": "2.0.0",
       "_view_name": "LayoutView",
       "align_content": null,
       "align_items": null,
       "align_self": null,
       "border_bottom": null,
       "border_left": null,
       "border_right": null,
       "border_top": null,
       "bottom": null,
       "display": null,
       "flex": null,
       "flex_flow": null,
       "grid_area": null,
       "grid_auto_columns": null,
       "grid_auto_flow": null,
       "grid_auto_rows": null,
       "grid_column": null,
       "grid_gap": null,
       "grid_row": null,
       "grid_template_areas": null,
       "grid_template_columns": null,
       "grid_template_rows": null,
       "height": null,
       "justify_content": null,
       "justify_items": null,
       "left": null,
       "margin": null,
       "max_height": null,
       "max_width": null,
       "min_height": null,
       "min_width": null,
       "object_fit": null,
       "object_position": null,
       "order": null,
       "overflow": null,
       "padding": null,
       "right": null,
       "top": null,
       "visibility": null,
       "width": null
      }
     },
     "ce9bc4ebf8e64ed9ac489b7ff42c37e0": {
      "model_module": "@jupyter-widgets/controls",
      "model_module_version": "2.0.0",
      "model_name": "FloatProgressModel",
      "state": {
       "_dom_classes": [],
       "_model_module": "@jupyter-widgets/controls",
       "_model_module_version": "2.0.0",
       "_model_name": "FloatProgressModel",
       "_view_count": null,
       "_view_module": "@jupyter-widgets/controls",
       "_view_module_version": "2.0.0",
       "_view_name": "ProgressView",
       "bar_style": "success",
       "description": "",
       "description_allow_html": false,
       "layout": "IPY_MODEL_242de11cb0174d0faf4aba3f3d78fcb1",
       "max": 805.0,
       "min": 0.0,
       "orientation": "horizontal",
       "style": "IPY_MODEL_59f17cfab85c4f5e80b8a077d74ae6b8",
       "tabbable": null,
       "tooltip": null,
       "value": 805.0
      }
     },
     "d1e6779bc4604354aa0836a5746a425b": {
      "model_module": "@jupyter-widgets/controls",
      "model_module_version": "2.0.0",
      "model_name": "HBoxModel",
      "state": {
       "_dom_classes": [],
       "_model_module": "@jupyter-widgets/controls",
       "_model_module_version": "2.0.0",
       "_model_name": "HBoxModel",
       "_view_count": null,
       "_view_module": "@jupyter-widgets/controls",
       "_view_module_version": "2.0.0",
       "_view_name": "HBoxView",
       "box_style": "",
       "children": [
        "IPY_MODEL_3b859c44827845e9af10cb0f106c94f1",
        "IPY_MODEL_a0c8e0df2ad74e4bb8e406ac3aa0ea74",
        "IPY_MODEL_224bae1e5d8d4857b317dcd96f682388"
       ],
       "layout": "IPY_MODEL_2dc9fe8afa854d4ba9448dba2df29eed",
       "tabbable": null,
       "tooltip": null
      }
     },
     "d50af0327997456c805f6fa1dd2d6bc3": {
      "model_module": "@jupyter-widgets/base",
      "model_module_version": "2.0.0",
      "model_name": "LayoutModel",
      "state": {
       "_model_module": "@jupyter-widgets/base",
       "_model_module_version": "2.0.0",
       "_model_name": "LayoutModel",
       "_view_count": null,
       "_view_module": "@jupyter-widgets/base",
       "_view_module_version": "2.0.0",
       "_view_name": "LayoutView",
       "align_content": null,
       "align_items": null,
       "align_self": null,
       "border_bottom": null,
       "border_left": null,
       "border_right": null,
       "border_top": null,
       "bottom": null,
       "display": null,
       "flex": null,
       "flex_flow": null,
       "grid_area": null,
       "grid_auto_columns": null,
       "grid_auto_flow": null,
       "grid_auto_rows": null,
       "grid_column": null,
       "grid_gap": null,
       "grid_row": null,
       "grid_template_areas": null,
       "grid_template_columns": null,
       "grid_template_rows": null,
       "height": null,
       "justify_content": null,
       "justify_items": null,
       "left": null,
       "margin": null,
       "max_height": null,
       "max_width": null,
       "min_height": null,
       "min_width": null,
       "object_fit": null,
       "object_position": null,
       "order": null,
       "overflow": null,
       "padding": null,
       "right": null,
       "top": null,
       "visibility": null,
       "width": null
      }
     },
     "d60c040eb3b94e28972946f10da54254": {
      "model_module": "@jupyter-widgets/controls",
      "model_module_version": "2.0.0",
      "model_name": "FloatProgressModel",
      "state": {
       "_dom_classes": [],
       "_model_module": "@jupyter-widgets/controls",
       "_model_module_version": "2.0.0",
       "_model_name": "FloatProgressModel",
       "_view_count": null,
       "_view_module": "@jupyter-widgets/controls",
       "_view_module_version": "2.0.0",
       "_view_name": "ProgressView",
       "bar_style": "success",
       "description": "",
       "description_allow_html": false,
       "layout": "IPY_MODEL_6590f9ab12204d828fc3248455b717e4",
       "max": 805.0,
       "min": 0.0,
       "orientation": "horizontal",
       "style": "IPY_MODEL_c4899a8cf9c4454f971b3ef9a8ecdc48",
       "tabbable": null,
       "tooltip": null,
       "value": 805.0
      }
     },
     "de5b857ab54c417c8e9169b4bf9ba725": {
      "model_module": "@jupyter-widgets/base",
      "model_module_version": "2.0.0",
      "model_name": "LayoutModel",
      "state": {
       "_model_module": "@jupyter-widgets/base",
       "_model_module_version": "2.0.0",
       "_model_name": "LayoutModel",
       "_view_count": null,
       "_view_module": "@jupyter-widgets/base",
       "_view_module_version": "2.0.0",
       "_view_name": "LayoutView",
       "align_content": null,
       "align_items": null,
       "align_self": null,
       "border_bottom": null,
       "border_left": null,
       "border_right": null,
       "border_top": null,
       "bottom": null,
       "display": null,
       "flex": null,
       "flex_flow": null,
       "grid_area": null,
       "grid_auto_columns": null,
       "grid_auto_flow": null,
       "grid_auto_rows": null,
       "grid_column": null,
       "grid_gap": null,
       "grid_row": null,
       "grid_template_areas": null,
       "grid_template_columns": null,
       "grid_template_rows": null,
       "height": null,
       "justify_content": null,
       "justify_items": null,
       "left": null,
       "margin": null,
       "max_height": null,
       "max_width": null,
       "min_height": null,
       "min_width": null,
       "object_fit": null,
       "object_position": null,
       "order": null,
       "overflow": null,
       "padding": null,
       "right": null,
       "top": null,
       "visibility": null,
       "width": null
      }
     },
     "df70919f64cd4930931b043ad6229fab": {
      "model_module": "@jupyter-widgets/base",
      "model_module_version": "2.0.0",
      "model_name": "LayoutModel",
      "state": {
       "_model_module": "@jupyter-widgets/base",
       "_model_module_version": "2.0.0",
       "_model_name": "LayoutModel",
       "_view_count": null,
       "_view_module": "@jupyter-widgets/base",
       "_view_module_version": "2.0.0",
       "_view_name": "LayoutView",
       "align_content": null,
       "align_items": null,
       "align_self": null,
       "border_bottom": null,
       "border_left": null,
       "border_right": null,
       "border_top": null,
       "bottom": null,
       "display": null,
       "flex": null,
       "flex_flow": null,
       "grid_area": null,
       "grid_auto_columns": null,
       "grid_auto_flow": null,
       "grid_auto_rows": null,
       "grid_column": null,
       "grid_gap": null,
       "grid_row": null,
       "grid_template_areas": null,
       "grid_template_columns": null,
       "grid_template_rows": null,
       "height": null,
       "justify_content": null,
       "justify_items": null,
       "left": null,
       "margin": null,
       "max_height": null,
       "max_width": null,
       "min_height": null,
       "min_width": null,
       "object_fit": null,
       "object_position": null,
       "order": null,
       "overflow": null,
       "padding": null,
       "right": null,
       "top": null,
       "visibility": null,
       "width": null
      }
     },
     "e0019ea9327948949467bbff6e043f7d": {
      "model_module": "@jupyter-widgets/base",
      "model_module_version": "2.0.0",
      "model_name": "LayoutModel",
      "state": {
       "_model_module": "@jupyter-widgets/base",
       "_model_module_version": "2.0.0",
       "_model_name": "LayoutModel",
       "_view_count": null,
       "_view_module": "@jupyter-widgets/base",
       "_view_module_version": "2.0.0",
       "_view_name": "LayoutView",
       "align_content": null,
       "align_items": null,
       "align_self": null,
       "border_bottom": null,
       "border_left": null,
       "border_right": null,
       "border_top": null,
       "bottom": null,
       "display": null,
       "flex": null,
       "flex_flow": null,
       "grid_area": null,
       "grid_auto_columns": null,
       "grid_auto_flow": null,
       "grid_auto_rows": null,
       "grid_column": null,
       "grid_gap": null,
       "grid_row": null,
       "grid_template_areas": null,
       "grid_template_columns": null,
       "grid_template_rows": null,
       "height": null,
       "justify_content": null,
       "justify_items": null,
       "left": null,
       "margin": null,
       "max_height": null,
       "max_width": null,
       "min_height": null,
       "min_width": null,
       "object_fit": null,
       "object_position": null,
       "order": null,
       "overflow": null,
       "padding": null,
       "right": null,
       "top": null,
       "visibility": null,
       "width": null
      }
     },
     "e2a24fbc4d844828b862b8c8696b96f5": {
      "model_module": "@jupyter-widgets/controls",
      "model_module_version": "2.0.0",
      "model_name": "HTMLStyleModel",
      "state": {
       "_model_module": "@jupyter-widgets/controls",
       "_model_module_version": "2.0.0",
       "_model_name": "HTMLStyleModel",
       "_view_count": null,
       "_view_module": "@jupyter-widgets/base",
       "_view_module_version": "2.0.0",
       "_view_name": "StyleView",
       "background": null,
       "description_width": "",
       "font_size": null,
       "text_color": null
      }
     },
     "eae375e227e647dfbeaedb8f7b56b529": {
      "model_module": "@jupyter-widgets/base",
      "model_module_version": "2.0.0",
      "model_name": "LayoutModel",
      "state": {
       "_model_module": "@jupyter-widgets/base",
       "_model_module_version": "2.0.0",
       "_model_name": "LayoutModel",
       "_view_count": null,
       "_view_module": "@jupyter-widgets/base",
       "_view_module_version": "2.0.0",
       "_view_name": "LayoutView",
       "align_content": null,
       "align_items": null,
       "align_self": null,
       "border_bottom": null,
       "border_left": null,
       "border_right": null,
       "border_top": null,
       "bottom": null,
       "display": null,
       "flex": null,
       "flex_flow": null,
       "grid_area": null,
       "grid_auto_columns": null,
       "grid_auto_flow": null,
       "grid_auto_rows": null,
       "grid_column": null,
       "grid_gap": null,
       "grid_row": null,
       "grid_template_areas": null,
       "grid_template_columns": null,
       "grid_template_rows": null,
       "height": null,
       "justify_content": null,
       "justify_items": null,
       "left": null,
       "margin": null,
       "max_height": null,
       "max_width": null,
       "min_height": null,
       "min_width": null,
       "object_fit": null,
       "object_position": null,
       "order": null,
       "overflow": null,
       "padding": null,
       "right": null,
       "top": null,
       "visibility": null,
       "width": null
      }
     },
     "eb1c93d7552a4c3d9c91c635e97db80e": {
      "model_module": "@jupyter-widgets/controls",
      "model_module_version": "2.0.0",
      "model_name": "HTMLStyleModel",
      "state": {
       "_model_module": "@jupyter-widgets/controls",
       "_model_module_version": "2.0.0",
       "_model_name": "HTMLStyleModel",
       "_view_count": null,
       "_view_module": "@jupyter-widgets/base",
       "_view_module_version": "2.0.0",
       "_view_name": "StyleView",
       "background": null,
       "description_width": "",
       "font_size": null,
       "text_color": null
      }
     },
     "ef01fb7b1229494e9f4df75e8e67c53d": {
      "model_module": "@jupyter-widgets/controls",
      "model_module_version": "2.0.0",
      "model_name": "HTMLStyleModel",
      "state": {
       "_model_module": "@jupyter-widgets/controls",
       "_model_module_version": "2.0.0",
       "_model_name": "HTMLStyleModel",
       "_view_count": null,
       "_view_module": "@jupyter-widgets/base",
       "_view_module_version": "2.0.0",
       "_view_name": "StyleView",
       "background": null,
       "description_width": "",
       "font_size": null,
       "text_color": null
      }
     },
     "f18b1c99d60c4026828f952c75604e54": {
      "model_module": "@jupyter-widgets/controls",
      "model_module_version": "2.0.0",
      "model_name": "HTMLStyleModel",
      "state": {
       "_model_module": "@jupyter-widgets/controls",
       "_model_module_version": "2.0.0",
       "_model_name": "HTMLStyleModel",
       "_view_count": null,
       "_view_module": "@jupyter-widgets/base",
       "_view_module_version": "2.0.0",
       "_view_name": "StyleView",
       "background": null,
       "description_width": "",
       "font_size": null,
       "text_color": null
      }
     },
     "f289d5b15bc14a3cbc1f84d29bcbae43": {
      "model_module": "@jupyter-widgets/controls",
      "model_module_version": "2.0.0",
      "model_name": "HTMLStyleModel",
      "state": {
       "_model_module": "@jupyter-widgets/controls",
       "_model_module_version": "2.0.0",
       "_model_name": "HTMLStyleModel",
       "_view_count": null,
       "_view_module": "@jupyter-widgets/base",
       "_view_module_version": "2.0.0",
       "_view_name": "StyleView",
       "background": null,
       "description_width": "",
       "font_size": null,
       "text_color": null
      }
     },
     "f29e2dad6ab54b03b4154cb1f72b9964": {
      "model_module": "@jupyter-widgets/controls",
      "model_module_version": "2.0.0",
      "model_name": "HTMLStyleModel",
      "state": {
       "_model_module": "@jupyter-widgets/controls",
       "_model_module_version": "2.0.0",
       "_model_name": "HTMLStyleModel",
       "_view_count": null,
       "_view_module": "@jupyter-widgets/base",
       "_view_module_version": "2.0.0",
       "_view_name": "StyleView",
       "background": null,
       "description_width": "",
       "font_size": null,
       "text_color": null
      }
     },
     "f40ba5aa774d4425b34be374ceea817b": {
      "model_module": "@jupyter-widgets/controls",
      "model_module_version": "2.0.0",
      "model_name": "HBoxModel",
      "state": {
       "_dom_classes": [],
       "_model_module": "@jupyter-widgets/controls",
       "_model_module_version": "2.0.0",
       "_model_name": "HBoxModel",
       "_view_count": null,
       "_view_module": "@jupyter-widgets/controls",
       "_view_module_version": "2.0.0",
       "_view_name": "HBoxView",
       "box_style": "",
       "children": [
        "IPY_MODEL_9fbd2b4103a64e2380a5ee0c4ec6f794",
        "IPY_MODEL_d60c040eb3b94e28972946f10da54254",
        "IPY_MODEL_f82c2a89912348a38fc1f20fc822192a"
       ],
       "layout": "IPY_MODEL_839945fb8a99442fb5565c9115f10c65",
       "tabbable": null,
       "tooltip": null
      }
     },
     "f4a57a615d5e4f42811eb8d00aba7b40": {
      "model_module": "@jupyter-widgets/controls",
      "model_module_version": "2.0.0",
      "model_name": "FloatProgressModel",
      "state": {
       "_dom_classes": [],
       "_model_module": "@jupyter-widgets/controls",
       "_model_module_version": "2.0.0",
       "_model_name": "FloatProgressModel",
       "_view_count": null,
       "_view_module": "@jupyter-widgets/controls",
       "_view_module_version": "2.0.0",
       "_view_name": "ProgressView",
       "bar_style": "success",
       "description": "",
       "description_allow_html": false,
       "layout": "IPY_MODEL_1364912694eb498dab69ce16f7dc96a0",
       "max": 805.0,
       "min": 0.0,
       "orientation": "horizontal",
       "style": "IPY_MODEL_4de163289ada47139c83b963c5c21e75",
       "tabbable": null,
       "tooltip": null,
       "value": 805.0
      }
     },
     "f501fb2cf9a44ae1a852574c3bdc422e": {
      "model_module": "@jupyter-widgets/base",
      "model_module_version": "2.0.0",
      "model_name": "LayoutModel",
      "state": {
       "_model_module": "@jupyter-widgets/base",
       "_model_module_version": "2.0.0",
       "_model_name": "LayoutModel",
       "_view_count": null,
       "_view_module": "@jupyter-widgets/base",
       "_view_module_version": "2.0.0",
       "_view_name": "LayoutView",
       "align_content": null,
       "align_items": null,
       "align_self": null,
       "border_bottom": null,
       "border_left": null,
       "border_right": null,
       "border_top": null,
       "bottom": null,
       "display": null,
       "flex": null,
       "flex_flow": null,
       "grid_area": null,
       "grid_auto_columns": null,
       "grid_auto_flow": null,
       "grid_auto_rows": null,
       "grid_column": null,
       "grid_gap": null,
       "grid_row": null,
       "grid_template_areas": null,
       "grid_template_columns": null,
       "grid_template_rows": null,
       "height": null,
       "justify_content": null,
       "justify_items": null,
       "left": null,
       "margin": null,
       "max_height": null,
       "max_width": null,
       "min_height": null,
       "min_width": null,
       "object_fit": null,
       "object_position": null,
       "order": null,
       "overflow": null,
       "padding": null,
       "right": null,
       "top": null,
       "visibility": null,
       "width": null
      }
     },
     "f539b5eab1284e4bbf9c8a9f667d75e1": {
      "model_module": "@jupyter-widgets/base",
      "model_module_version": "2.0.0",
      "model_name": "LayoutModel",
      "state": {
       "_model_module": "@jupyter-widgets/base",
       "_model_module_version": "2.0.0",
       "_model_name": "LayoutModel",
       "_view_count": null,
       "_view_module": "@jupyter-widgets/base",
       "_view_module_version": "2.0.0",
       "_view_name": "LayoutView",
       "align_content": null,
       "align_items": null,
       "align_self": null,
       "border_bottom": null,
       "border_left": null,
       "border_right": null,
       "border_top": null,
       "bottom": null,
       "display": null,
       "flex": null,
       "flex_flow": null,
       "grid_area": null,
       "grid_auto_columns": null,
       "grid_auto_flow": null,
       "grid_auto_rows": null,
       "grid_column": null,
       "grid_gap": null,
       "grid_row": null,
       "grid_template_areas": null,
       "grid_template_columns": null,
       "grid_template_rows": null,
       "height": null,
       "justify_content": null,
       "justify_items": null,
       "left": null,
       "margin": null,
       "max_height": null,
       "max_width": null,
       "min_height": null,
       "min_width": null,
       "object_fit": null,
       "object_position": null,
       "order": null,
       "overflow": null,
       "padding": null,
       "right": null,
       "top": null,
       "visibility": null,
       "width": null
      }
     },
     "f7b5b361cf59421cb1a6762507e169ca": {
      "model_module": "@jupyter-widgets/base",
      "model_module_version": "2.0.0",
      "model_name": "LayoutModel",
      "state": {
       "_model_module": "@jupyter-widgets/base",
       "_model_module_version": "2.0.0",
       "_model_name": "LayoutModel",
       "_view_count": null,
       "_view_module": "@jupyter-widgets/base",
       "_view_module_version": "2.0.0",
       "_view_name": "LayoutView",
       "align_content": null,
       "align_items": null,
       "align_self": null,
       "border_bottom": null,
       "border_left": null,
       "border_right": null,
       "border_top": null,
       "bottom": null,
       "display": null,
       "flex": null,
       "flex_flow": null,
       "grid_area": null,
       "grid_auto_columns": null,
       "grid_auto_flow": null,
       "grid_auto_rows": null,
       "grid_column": null,
       "grid_gap": null,
       "grid_row": null,
       "grid_template_areas": null,
       "grid_template_columns": null,
       "grid_template_rows": null,
       "height": null,
       "justify_content": null,
       "justify_items": null,
       "left": null,
       "margin": null,
       "max_height": null,
       "max_width": null,
       "min_height": null,
       "min_width": null,
       "object_fit": null,
       "object_position": null,
       "order": null,
       "overflow": null,
       "padding": null,
       "right": null,
       "top": null,
       "visibility": null,
       "width": null
      }
     },
     "f82c2a89912348a38fc1f20fc822192a": {
      "model_module": "@jupyter-widgets/controls",
      "model_module_version": "2.0.0",
      "model_name": "HTMLModel",
      "state": {
       "_dom_classes": [],
       "_model_module": "@jupyter-widgets/controls",
       "_model_module_version": "2.0.0",
       "_model_name": "HTMLModel",
       "_view_count": null,
       "_view_module": "@jupyter-widgets/controls",
       "_view_module_version": "2.0.0",
       "_view_name": "HTMLView",
       "description": "",
       "description_allow_html": false,
       "layout": "IPY_MODEL_df70919f64cd4930931b043ad6229fab",
       "placeholder": "​",
       "style": "IPY_MODEL_f18b1c99d60c4026828f952c75604e54",
       "tabbable": null,
       "tooltip": null,
       "value": " 805/805 [23:20&lt;00:00,  1.32s/it]"
      }
     },
     "f9232989e126438baed1e84b7f95d039": {
      "model_module": "@jupyter-widgets/controls",
      "model_module_version": "2.0.0",
      "model_name": "HTMLModel",
      "state": {
       "_dom_classes": [],
       "_model_module": "@jupyter-widgets/controls",
       "_model_module_version": "2.0.0",
       "_model_name": "HTMLModel",
       "_view_count": null,
       "_view_module": "@jupyter-widgets/controls",
       "_view_module_version": "2.0.0",
       "_view_name": "HTMLView",
       "description": "",
       "description_allow_html": false,
       "layout": "IPY_MODEL_4496418881ca415384f04390b0fc7483",
       "placeholder": "​",
       "style": "IPY_MODEL_36143537110e45489805f0ee55528e8b",
       "tabbable": null,
       "tooltip": null,
       "value": " 805/805 [21:00&lt;00:00,  1.26s/it]"
      }
     },
     "f94ee8b116614bd6a90a6574c97a0736": {
      "model_module": "@jupyter-widgets/controls",
      "model_module_version": "2.0.0",
      "model_name": "ProgressStyleModel",
      "state": {
       "_model_module": "@jupyter-widgets/controls",
       "_model_module_version": "2.0.0",
       "_model_name": "ProgressStyleModel",
       "_view_count": null,
       "_view_module": "@jupyter-widgets/base",
       "_view_module_version": "2.0.0",
       "_view_name": "StyleView",
       "bar_color": null,
       "description_width": ""
      }
     }
    },
    "version_major": 2,
    "version_minor": 0
   }
  }
 },
 "nbformat": 4,
 "nbformat_minor": 5
}
