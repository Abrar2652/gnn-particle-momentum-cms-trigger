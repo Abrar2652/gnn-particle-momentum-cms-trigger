{
 "cells": [
  {
   "cell_type": "markdown",
   "id": "b84c5c41",
   "metadata": {
    "_cell_guid": "b1076dfc-b9ad-4769-8c92-a6c4dae69d19",
    "_uuid": "8f2839f25d086af736a60e9eeb907d3b93b6e0e5",
    "execution": {
     "iopub.execute_input": "2024-06-08T07:17:31.61566Z",
     "iopub.status.busy": "2024-06-08T07:17:31.615311Z",
     "iopub.status.idle": "2024-06-08T07:17:31.621747Z",
     "shell.execute_reply": "2024-06-08T07:17:31.620642Z",
     "shell.execute_reply.started": "2024-06-08T07:17:31.615631Z"
    },
    "papermill": {
     "duration": 0.021753,
     "end_time": "2025-05-08T22:02:21.860105",
     "exception": false,
     "start_time": "2025-05-08T22:02:21.838352",
     "status": "completed"
    },
    "tags": []
   },
   "source": [
    "# SETTING UP THE ENV"
   ]
  },
  {
   "cell_type": "markdown",
   "id": "afa1b568",
   "metadata": {
    "papermill": {
     "duration": 0.019154,
     "end_time": "2025-05-08T22:02:21.900039",
     "exception": false,
     "start_time": "2025-05-08T22:02:21.880885",
     "status": "completed"
    },
    "tags": []
   },
   "source": [
    "Lets impot Libraries"
   ]
  },
  {
   "cell_type": "code",
   "execution_count": 1,
   "id": "f29dc97a",
   "metadata": {
    "execution": {
     "iopub.execute_input": "2025-05-08T22:02:21.939697Z",
     "iopub.status.busy": "2025-05-08T22:02:21.939395Z",
     "iopub.status.idle": "2025-05-08T22:02:26.827842Z",
     "shell.execute_reply": "2025-05-08T22:02:26.827058Z"
    },
    "papermill": {
     "duration": 4.910016,
     "end_time": "2025-05-08T22:02:26.829241",
     "exception": false,
     "start_time": "2025-05-08T22:02:21.919225",
     "status": "completed"
    },
    "scrolled": true,
    "tags": []
   },
   "outputs": [
    {
     "name": "stdout",
     "output_type": "stream",
     "text": [
      "Collecting torch-geometric\r\n",
      "  Downloading torch_geometric-2.6.1-py3-none-any.whl.metadata (63 kB)\r\n",
      "\u001b[2K     \u001b[90m━━━━━━━━━━━━━━━━━━━━━━━━━━━━━━━━━━━━━━━━\u001b[0m \u001b[32m63.1/63.1 kB\u001b[0m \u001b[31m2.6 MB/s\u001b[0m eta \u001b[36m0:00:00\u001b[0m\r\n",
      "\u001b[?25hRequirement already satisfied: aiohttp in /usr/local/lib/python3.11/dist-packages (from torch-geometric) (3.11.16)\r\n",
      "Requirement already satisfied: fsspec in /usr/local/lib/python3.11/dist-packages (from torch-geometric) (2025.3.2)\r\n",
      "Requirement already satisfied: jinja2 in /usr/local/lib/python3.11/dist-packages (from torch-geometric) (3.1.6)\r\n",
      "Requirement already satisfied: numpy in /usr/local/lib/python3.11/dist-packages (from torch-geometric) (1.26.4)\r\n",
      "Requirement already satisfied: psutil>=5.8.0 in /usr/local/lib/python3.11/dist-packages (from torch-geometric) (7.0.0)\r\n",
      "Requirement already satisfied: pyparsing in /usr/local/lib/python3.11/dist-packages (from torch-geometric) (3.2.1)\r\n",
      "Requirement already satisfied: requests in /usr/local/lib/python3.11/dist-packages (from torch-geometric) (2.32.3)\r\n",
      "Requirement already satisfied: tqdm in /usr/local/lib/python3.11/dist-packages (from torch-geometric) (4.67.1)\r\n",
      "Requirement already satisfied: aiohappyeyeballs>=2.3.0 in /usr/local/lib/python3.11/dist-packages (from aiohttp->torch-geometric) (2.6.1)\r\n",
      "Requirement already satisfied: aiosignal>=1.1.2 in /usr/local/lib/python3.11/dist-packages (from aiohttp->torch-geometric) (1.3.2)\r\n",
      "Requirement already satisfied: attrs>=17.3.0 in /usr/local/lib/python3.11/dist-packages (from aiohttp->torch-geometric) (25.3.0)\r\n",
      "Requirement already satisfied: frozenlist>=1.1.1 in /usr/local/lib/python3.11/dist-packages (from aiohttp->torch-geometric) (1.5.0)\r\n",
      "Requirement already satisfied: multidict<7.0,>=4.5 in /usr/local/lib/python3.11/dist-packages (from aiohttp->torch-geometric) (6.2.0)\r\n",
      "Requirement already satisfied: propcache>=0.2.0 in /usr/local/lib/python3.11/dist-packages (from aiohttp->torch-geometric) (0.3.1)\r\n",
      "Requirement already satisfied: yarl<2.0,>=1.17.0 in /usr/local/lib/python3.11/dist-packages (from aiohttp->torch-geometric) (1.19.0)\r\n",
      "Requirement already satisfied: MarkupSafe>=2.0 in /usr/local/lib/python3.11/dist-packages (from jinja2->torch-geometric) (3.0.2)\r\n",
      "Requirement already satisfied: mkl_fft in /usr/local/lib/python3.11/dist-packages (from numpy->torch-geometric) (1.3.8)\r\n",
      "Requirement already satisfied: mkl_random in /usr/local/lib/python3.11/dist-packages (from numpy->torch-geometric) (1.2.4)\r\n",
      "Requirement already satisfied: mkl_umath in /usr/local/lib/python3.11/dist-packages (from numpy->torch-geometric) (0.1.1)\r\n",
      "Requirement already satisfied: mkl in /usr/local/lib/python3.11/dist-packages (from numpy->torch-geometric) (2025.1.0)\r\n",
      "Requirement already satisfied: tbb4py in /usr/local/lib/python3.11/dist-packages (from numpy->torch-geometric) (2022.1.0)\r\n",
      "Requirement already satisfied: mkl-service in /usr/local/lib/python3.11/dist-packages (from numpy->torch-geometric) (2.4.1)\r\n",
      "Requirement already satisfied: charset-normalizer<4,>=2 in /usr/local/lib/python3.11/dist-packages (from requests->torch-geometric) (3.4.1)\r\n",
      "Requirement already satisfied: idna<4,>=2.5 in /usr/local/lib/python3.11/dist-packages (from requests->torch-geometric) (3.10)\r\n",
      "Requirement already satisfied: urllib3<3,>=1.21.1 in /usr/local/lib/python3.11/dist-packages (from requests->torch-geometric) (2.3.0)\r\n",
      "Requirement already satisfied: certifi>=2017.4.17 in /usr/local/lib/python3.11/dist-packages (from requests->torch-geometric) (2025.1.31)\r\n",
      "Requirement already satisfied: intel-openmp<2026,>=2024 in /usr/local/lib/python3.11/dist-packages (from mkl->numpy->torch-geometric) (2024.2.0)\r\n",
      "Requirement already satisfied: tbb==2022.* in /usr/local/lib/python3.11/dist-packages (from mkl->numpy->torch-geometric) (2022.1.0)\r\n",
      "Requirement already satisfied: tcmlib==1.* in /usr/local/lib/python3.11/dist-packages (from tbb==2022.*->mkl->numpy->torch-geometric) (1.2.0)\r\n",
      "Requirement already satisfied: intel-cmplr-lib-rt in /usr/local/lib/python3.11/dist-packages (from mkl_umath->numpy->torch-geometric) (2024.2.0)\r\n",
      "Requirement already satisfied: intel-cmplr-lib-ur==2024.2.0 in /usr/local/lib/python3.11/dist-packages (from intel-openmp<2026,>=2024->mkl->numpy->torch-geometric) (2024.2.0)\r\n",
      "Downloading torch_geometric-2.6.1-py3-none-any.whl (1.1 MB)\r\n",
      "\u001b[2K   \u001b[90m━━━━━━━━━━━━━━━━━━━━━━━━━━━━━━━━━━━━━━━━\u001b[0m \u001b[32m1.1/1.1 MB\u001b[0m \u001b[31m28.9 MB/s\u001b[0m eta \u001b[36m0:00:00\u001b[0m\r\n",
      "\u001b[?25hInstalling collected packages: torch-geometric\r\n",
      "Successfully installed torch-geometric-2.6.1\r\n"
     ]
    }
   ],
   "source": [
    "#download necessary libraries\n",
    "\n",
    "!pip install torch-geometric"
   ]
  },
  {
   "cell_type": "code",
   "execution_count": 2,
   "id": "abccc1d2",
   "metadata": {
    "execution": {
     "iopub.execute_input": "2025-05-08T22:02:26.871344Z",
     "iopub.status.busy": "2025-05-08T22:02:26.871067Z",
     "iopub.status.idle": "2025-05-08T22:02:30.959967Z",
     "shell.execute_reply": "2025-05-08T22:02:30.959116Z"
    },
    "papermill": {
     "duration": 4.111342,
     "end_time": "2025-05-08T22:02:30.961344",
     "exception": false,
     "start_time": "2025-05-08T22:02:26.850002",
     "status": "completed"
    },
    "tags": []
   },
   "outputs": [
    {
     "name": "stdout",
     "output_type": "stream",
     "text": [
      "2.5.1+cu124\n",
      "12.4\n"
     ]
    }
   ],
   "source": [
    "import sys\n",
    "sys.path.append('/kaggle/working')\n",
    "# !ls /kaggle/working\n",
    "import torch\n",
    "print(torch.__version__)\n",
    "print(torch.version.cuda)"
   ]
  },
  {
   "cell_type": "code",
   "execution_count": 3,
   "id": "596431e7",
   "metadata": {
    "execution": {
     "iopub.execute_input": "2025-05-08T22:02:31.003247Z",
     "iopub.status.busy": "2025-05-08T22:02:31.002898Z",
     "iopub.status.idle": "2025-05-08T22:02:37.604491Z",
     "shell.execute_reply": "2025-05-08T22:02:37.603898Z"
    },
    "papermill": {
     "duration": 6.623763,
     "end_time": "2025-05-08T22:02:37.606044",
     "exception": false,
     "start_time": "2025-05-08T22:02:30.982281",
     "status": "completed"
    },
    "tags": []
   },
   "outputs": [],
   "source": [
    "from typing import Union, Tuple\n",
    "from torch_geometric.typing import OptPairTensor, Adj, Size # Optional[Tensor], Union[Tensor, SparseTensor], Optional[Tuple[int, int]], all about data type\n",
    "\n",
    "from torch import Tensor\n",
    "from torch.nn import Linear\n",
    "import torch.nn.functional as F\n",
    "from torch_geometric.nn.conv import MessagePassing"
   ]
  },
  {
   "cell_type": "code",
   "execution_count": 4,
   "id": "6809c272",
   "metadata": {
    "execution": {
     "iopub.execute_input": "2025-05-08T22:02:37.696854Z",
     "iopub.status.busy": "2025-05-08T22:02:37.696369Z",
     "iopub.status.idle": "2025-05-08T22:02:40.609041Z",
     "shell.execute_reply": "2025-05-08T22:02:40.608209Z"
    },
    "papermill": {
     "duration": 2.935017,
     "end_time": "2025-05-08T22:02:40.610470",
     "exception": false,
     "start_time": "2025-05-08T22:02:37.675453",
     "status": "completed"
    },
    "tags": []
   },
   "outputs": [],
   "source": [
    "import warnings\n",
    "warnings.filterwarnings(\"ignore\")\n",
    "import os\n",
    "import time\n",
    "import random\n",
    "from tqdm.notebook import tqdm\n",
    "import pandas as pd\n",
    "import numpy as np\n",
    "import matplotlib.pyplot as plt\n",
    "\n",
    "from joblib import Parallel, delayed\n",
    "\n",
    "from sklearn.preprocessing import StandardScaler, MinMaxScaler\n",
    "from sklearn.model_selection import train_test_split\n",
    "\n",
    "import torch\n",
    "import torch.nn.functional as F\n",
    "import torch_geometric.nn as gnn\n",
    "from torch_geometric.nn import MessagePassing\n",
    "from torch_geometric.data import Dataset, Data, DataLoader\n",
    "from torch_geometric.nn import global_mean_pool as gap, global_max_pool as gmp\n",
    "from torch_geometric.utils import softmax\n",
    "from sklearn.metrics import r2_score\n",
    "from sklearn.neighbors import NearestNeighbors"
   ]
  },
  {
   "cell_type": "markdown",
   "id": "05c253b8",
   "metadata": {
    "papermill": {
     "duration": 0.020152,
     "end_time": "2025-05-08T22:02:40.652008",
     "exception": false,
     "start_time": "2025-05-08T22:02:40.631856",
     "status": "completed"
    },
    "tags": []
   },
   "source": [
    "# Pre Processing"
   ]
  },
  {
   "cell_type": "code",
   "execution_count": 5,
   "id": "5000e140",
   "metadata": {
    "execution": {
     "iopub.execute_input": "2025-05-08T22:02:40.693958Z",
     "iopub.status.busy": "2025-05-08T22:02:40.693092Z",
     "iopub.status.idle": "2025-05-08T22:02:45.999804Z",
     "shell.execute_reply": "2025-05-08T22:02:45.998886Z"
    },
    "papermill": {
     "duration": 5.329176,
     "end_time": "2025-05-08T22:02:46.001297",
     "exception": false,
     "start_time": "2025-05-08T22:02:40.672121",
     "status": "completed"
    },
    "tags": []
   },
   "outputs": [
    {
     "name": "stdout",
     "output_type": "stream",
     "text": [
      "Index(['Unnamed: 0', 'Phi_0', 'Phi_2', 'Phi_3', 'Phi_4', 'Theta_0', 'Theta_2',\n",
      "       'Theta_3', 'Theta_4', 'BendingAngle_0', 'BendingAngle_2',\n",
      "       'BendingAngle_3', 'BendingAngle_4', 'TimeInfo_0', 'TimeInfo_2',\n",
      "       'TimeInfo_3', 'TimeInfo_4', 'RingNumber_0', 'RingNumber_2',\n",
      "       'RingNumber_3', 'RingNumber_4', 'Front_0', 'Front_2', 'Front_3',\n",
      "       'Front_4', 'Mask_0', 'Mask_2', 'Mask_3', 'Mask_4',\n",
      "       'PatternStraightness', 'Zone', 'MedianTheta', 'q/pt', 'PhiAngle',\n",
      "       'EtaAngle'],\n",
      "      dtype='object')\n"
     ]
    }
   ],
   "source": [
    "df = pd.read_csv('/kaggle/input/cms-dataset/CMS_trigger.csv')\n",
    "print(df.columns)"
   ]
  },
  {
   "cell_type": "code",
   "execution_count": 6,
   "id": "50d0a635",
   "metadata": {
    "execution": {
     "iopub.execute_input": "2025-05-08T22:02:46.050017Z",
     "iopub.status.busy": "2025-05-08T22:02:46.049379Z",
     "iopub.status.idle": "2025-05-08T22:02:46.082394Z",
     "shell.execute_reply": "2025-05-08T22:02:46.081592Z"
    },
    "papermill": {
     "duration": 0.055753,
     "end_time": "2025-05-08T22:02:46.083570",
     "exception": false,
     "start_time": "2025-05-08T22:02:46.027817",
     "status": "completed"
    },
    "tags": []
   },
   "outputs": [
    {
     "data": {
      "text/html": [
       "<div>\n",
       "<style scoped>\n",
       "    .dataframe tbody tr th:only-of-type {\n",
       "        vertical-align: middle;\n",
       "    }\n",
       "\n",
       "    .dataframe tbody tr th {\n",
       "        vertical-align: top;\n",
       "    }\n",
       "\n",
       "    .dataframe thead th {\n",
       "        text-align: right;\n",
       "    }\n",
       "</style>\n",
       "<table border=\"1\" class=\"dataframe\">\n",
       "  <thead>\n",
       "    <tr style=\"text-align: right;\">\n",
       "      <th></th>\n",
       "      <th>Unnamed: 0</th>\n",
       "      <th>Phi_0</th>\n",
       "      <th>Phi_2</th>\n",
       "      <th>Phi_3</th>\n",
       "      <th>Phi_4</th>\n",
       "      <th>Theta_0</th>\n",
       "      <th>Theta_2</th>\n",
       "      <th>Theta_3</th>\n",
       "      <th>Theta_4</th>\n",
       "      <th>BendingAngle_0</th>\n",
       "      <th>...</th>\n",
       "      <th>Mask_0</th>\n",
       "      <th>Mask_2</th>\n",
       "      <th>Mask_3</th>\n",
       "      <th>Mask_4</th>\n",
       "      <th>PatternStraightness</th>\n",
       "      <th>Zone</th>\n",
       "      <th>MedianTheta</th>\n",
       "      <th>q/pt</th>\n",
       "      <th>PhiAngle</th>\n",
       "      <th>EtaAngle</th>\n",
       "    </tr>\n",
       "  </thead>\n",
       "  <tbody>\n",
       "    <tr>\n",
       "      <th>0</th>\n",
       "      <td>0</td>\n",
       "      <td>58.066666</td>\n",
       "      <td>55.466667</td>\n",
       "      <td>55.466667</td>\n",
       "      <td>56.000000</td>\n",
       "      <td>11.970</td>\n",
       "      <td>11.684999</td>\n",
       "      <td>11.400</td>\n",
       "      <td>11.400</td>\n",
       "      <td>-13.000000</td>\n",
       "      <td>...</td>\n",
       "      <td>0.0</td>\n",
       "      <td>0.0</td>\n",
       "      <td>0.0</td>\n",
       "      <td>0.0</td>\n",
       "      <td>5.0</td>\n",
       "      <td>3.0</td>\n",
       "      <td>105.0</td>\n",
       "      <td>0.181209</td>\n",
       "      <td>-3.075936</td>\n",
       "      <td>1.722345</td>\n",
       "    </tr>\n",
       "    <tr>\n",
       "      <th>1</th>\n",
       "      <td>1</td>\n",
       "      <td>64.583336</td>\n",
       "      <td>66.800000</td>\n",
       "      <td>67.066666</td>\n",
       "      <td>67.200000</td>\n",
       "      <td>6.555</td>\n",
       "      <td>6.840000</td>\n",
       "      <td>6.555</td>\n",
       "      <td>6.840</td>\n",
       "      <td>7.000000</td>\n",
       "      <td>...</td>\n",
       "      <td>0.0</td>\n",
       "      <td>0.0</td>\n",
       "      <td>0.0</td>\n",
       "      <td>0.0</td>\n",
       "      <td>3.0</td>\n",
       "      <td>1.0</td>\n",
       "      <td>124.0</td>\n",
       "      <td>-0.146131</td>\n",
       "      <td>-0.167139</td>\n",
       "      <td>2.012122</td>\n",
       "    </tr>\n",
       "    <tr>\n",
       "      <th>2</th>\n",
       "      <td>2</td>\n",
       "      <td>71.150000</td>\n",
       "      <td>67.033330</td>\n",
       "      <td>66.266670</td>\n",
       "      <td>65.466670</td>\n",
       "      <td>2.850</td>\n",
       "      <td>2.565000</td>\n",
       "      <td>2.280</td>\n",
       "      <td>2.280</td>\n",
       "      <td>-16.613783</td>\n",
       "      <td>...</td>\n",
       "      <td>0.0</td>\n",
       "      <td>0.0</td>\n",
       "      <td>0.0</td>\n",
       "      <td>0.0</td>\n",
       "      <td>7.0</td>\n",
       "      <td>0.0</td>\n",
       "      <td>127.0</td>\n",
       "      <td>0.367024</td>\n",
       "      <td>2.431823</td>\n",
       "      <td>2.321646</td>\n",
       "    </tr>\n",
       "    <tr>\n",
       "      <th>3</th>\n",
       "      <td>3</td>\n",
       "      <td>34.933334</td>\n",
       "      <td>31.200000</td>\n",
       "      <td>31.200000</td>\n",
       "      <td>31.833334</td>\n",
       "      <td>9.690</td>\n",
       "      <td>8.835000</td>\n",
       "      <td>8.835</td>\n",
       "      <td>9.120</td>\n",
       "      <td>-13.000000</td>\n",
       "      <td>...</td>\n",
       "      <td>0.0</td>\n",
       "      <td>0.0</td>\n",
       "      <td>0.0</td>\n",
       "      <td>0.0</td>\n",
       "      <td>6.0</td>\n",
       "      <td>2.0</td>\n",
       "      <td>60.0</td>\n",
       "      <td>0.267774</td>\n",
       "      <td>-1.343305</td>\n",
       "      <td>1.854506</td>\n",
       "    </tr>\n",
       "    <tr>\n",
       "      <th>4</th>\n",
       "      <td>4</td>\n",
       "      <td>68.150000</td>\n",
       "      <td>68.266670</td>\n",
       "      <td>68.300000</td>\n",
       "      <td>68.400000</td>\n",
       "      <td>2.565</td>\n",
       "      <td>2.565000</td>\n",
       "      <td>2.565</td>\n",
       "      <td>2.565</td>\n",
       "      <td>0.000000</td>\n",
       "      <td>...</td>\n",
       "      <td>0.0</td>\n",
       "      <td>0.0</td>\n",
       "      <td>0.0</td>\n",
       "      <td>0.0</td>\n",
       "      <td>4.0</td>\n",
       "      <td>0.0</td>\n",
       "      <td>128.0</td>\n",
       "      <td>-0.019179</td>\n",
       "      <td>-3.134433</td>\n",
       "      <td>2.333772</td>\n",
       "    </tr>\n",
       "  </tbody>\n",
       "</table>\n",
       "<p>5 rows × 35 columns</p>\n",
       "</div>"
      ],
      "text/plain": [
       "   Unnamed: 0      Phi_0      Phi_2      Phi_3      Phi_4  Theta_0    Theta_2  \\\n",
       "0           0  58.066666  55.466667  55.466667  56.000000   11.970  11.684999   \n",
       "1           1  64.583336  66.800000  67.066666  67.200000    6.555   6.840000   \n",
       "2           2  71.150000  67.033330  66.266670  65.466670    2.850   2.565000   \n",
       "3           3  34.933334  31.200000  31.200000  31.833334    9.690   8.835000   \n",
       "4           4  68.150000  68.266670  68.300000  68.400000    2.565   2.565000   \n",
       "\n",
       "   Theta_3  Theta_4  BendingAngle_0  ...  Mask_0  Mask_2  Mask_3  Mask_4  \\\n",
       "0   11.400   11.400      -13.000000  ...     0.0     0.0     0.0     0.0   \n",
       "1    6.555    6.840        7.000000  ...     0.0     0.0     0.0     0.0   \n",
       "2    2.280    2.280      -16.613783  ...     0.0     0.0     0.0     0.0   \n",
       "3    8.835    9.120      -13.000000  ...     0.0     0.0     0.0     0.0   \n",
       "4    2.565    2.565        0.000000  ...     0.0     0.0     0.0     0.0   \n",
       "\n",
       "   PatternStraightness  Zone  MedianTheta      q/pt  PhiAngle  EtaAngle  \n",
       "0                  5.0   3.0        105.0  0.181209 -3.075936  1.722345  \n",
       "1                  3.0   1.0        124.0 -0.146131 -0.167139  2.012122  \n",
       "2                  7.0   0.0        127.0  0.367024  2.431823  2.321646  \n",
       "3                  6.0   2.0         60.0  0.267774 -1.343305  1.854506  \n",
       "4                  4.0   0.0        128.0 -0.019179 -3.134433  2.333772  \n",
       "\n",
       "[5 rows x 35 columns]"
      ]
     },
     "execution_count": 6,
     "metadata": {},
     "output_type": "execute_result"
    }
   ],
   "source": [
    "df.head()"
   ]
  },
  {
   "cell_type": "code",
   "execution_count": 7,
   "id": "0535b259",
   "metadata": {
    "execution": {
     "iopub.execute_input": "2025-05-08T22:02:46.127560Z",
     "iopub.status.busy": "2025-05-08T22:02:46.127024Z",
     "iopub.status.idle": "2025-05-08T22:02:47.573512Z",
     "shell.execute_reply": "2025-05-08T22:02:47.572738Z"
    },
    "papermill": {
     "duration": 1.46966,
     "end_time": "2025-05-08T22:02:47.574666",
     "exception": false,
     "start_time": "2025-05-08T22:02:46.105006",
     "status": "completed"
    },
    "tags": []
   },
   "outputs": [
    {
     "data": {
      "text/html": [
       "<div>\n",
       "<style scoped>\n",
       "    .dataframe tbody tr th:only-of-type {\n",
       "        vertical-align: middle;\n",
       "    }\n",
       "\n",
       "    .dataframe tbody tr th {\n",
       "        vertical-align: top;\n",
       "    }\n",
       "\n",
       "    .dataframe thead th {\n",
       "        text-align: right;\n",
       "    }\n",
       "</style>\n",
       "<table border=\"1\" class=\"dataframe\">\n",
       "  <thead>\n",
       "    <tr style=\"text-align: right;\">\n",
       "      <th></th>\n",
       "      <th>Unnamed: 0</th>\n",
       "      <th>Phi_0</th>\n",
       "      <th>Phi_2</th>\n",
       "      <th>Phi_3</th>\n",
       "      <th>Phi_4</th>\n",
       "      <th>Theta_0</th>\n",
       "      <th>Theta_2</th>\n",
       "      <th>Theta_3</th>\n",
       "      <th>Theta_4</th>\n",
       "      <th>BendingAngle_0</th>\n",
       "      <th>...</th>\n",
       "      <th>Mask_0</th>\n",
       "      <th>Mask_2</th>\n",
       "      <th>Mask_3</th>\n",
       "      <th>Mask_4</th>\n",
       "      <th>PatternStraightness</th>\n",
       "      <th>Zone</th>\n",
       "      <th>MedianTheta</th>\n",
       "      <th>q/pt</th>\n",
       "      <th>PhiAngle</th>\n",
       "      <th>EtaAngle</th>\n",
       "    </tr>\n",
       "  </thead>\n",
       "  <tbody>\n",
       "    <tr>\n",
       "      <th>count</th>\n",
       "      <td>1.179356e+06</td>\n",
       "      <td>1.179356e+06</td>\n",
       "      <td>1.179356e+06</td>\n",
       "      <td>1.179356e+06</td>\n",
       "      <td>1.179356e+06</td>\n",
       "      <td>1.179356e+06</td>\n",
       "      <td>1.179356e+06</td>\n",
       "      <td>1.179356e+06</td>\n",
       "      <td>1.179356e+06</td>\n",
       "      <td>1.179356e+06</td>\n",
       "      <td>...</td>\n",
       "      <td>1179356.0</td>\n",
       "      <td>1179356.0</td>\n",
       "      <td>1179356.0</td>\n",
       "      <td>1179356.0</td>\n",
       "      <td>1.179356e+06</td>\n",
       "      <td>1.179356e+06</td>\n",
       "      <td>1.179356e+06</td>\n",
       "      <td>1.179356e+06</td>\n",
       "      <td>1.179356e+06</td>\n",
       "      <td>1.179356e+06</td>\n",
       "    </tr>\n",
       "    <tr>\n",
       "      <th>mean</th>\n",
       "      <td>5.896775e+05</td>\n",
       "      <td>4.851559e+01</td>\n",
       "      <td>4.851127e+01</td>\n",
       "      <td>4.851076e+01</td>\n",
       "      <td>4.851331e+01</td>\n",
       "      <td>6.195453e+00</td>\n",
       "      <td>5.918753e+00</td>\n",
       "      <td>5.848332e+00</td>\n",
       "      <td>5.881490e+00</td>\n",
       "      <td>5.603115e-02</td>\n",
       "      <td>...</td>\n",
       "      <td>0.0</td>\n",
       "      <td>0.0</td>\n",
       "      <td>0.0</td>\n",
       "      <td>0.0</td>\n",
       "      <td>3.976490e+00</td>\n",
       "      <td>1.080514e+00</td>\n",
       "      <td>9.115961e+01</td>\n",
       "      <td>5.540485e-04</td>\n",
       "      <td>8.881380e-04</td>\n",
       "      <td>8.762006e-04</td>\n",
       "    </tr>\n",
       "    <tr>\n",
       "      <th>std</th>\n",
       "      <td>3.404509e+05</td>\n",
       "      <td>1.774647e+01</td>\n",
       "      <td>1.779697e+01</td>\n",
       "      <td>1.781670e+01</td>\n",
       "      <td>1.779750e+01</td>\n",
       "      <td>3.011983e+00</td>\n",
       "      <td>2.921076e+00</td>\n",
       "      <td>2.911875e+00</td>\n",
       "      <td>2.906416e+00</td>\n",
       "      <td>1.493805e+01</td>\n",
       "      <td>...</td>\n",
       "      <td>0.0</td>\n",
       "      <td>0.0</td>\n",
       "      <td>0.0</td>\n",
       "      <td>0.0</td>\n",
       "      <td>1.871622e+00</td>\n",
       "      <td>1.089190e+00</td>\n",
       "      <td>3.328909e+01</td>\n",
       "      <td>2.524173e-01</td>\n",
       "      <td>1.820920e+00</td>\n",
       "      <td>2.075298e+00</td>\n",
       "    </tr>\n",
       "    <tr>\n",
       "      <th>min</th>\n",
       "      <td>0.000000e+00</td>\n",
       "      <td>1.103333e+01</td>\n",
       "      <td>2.400000e+00</td>\n",
       "      <td>2.666667e+00</td>\n",
       "      <td>2.666667e+00</td>\n",
       "      <td>1.425000e+00</td>\n",
       "      <td>1.425000e+00</td>\n",
       "      <td>1.425000e+00</td>\n",
       "      <td>1.710000e+00</td>\n",
       "      <td>-1.329103e+02</td>\n",
       "      <td>...</td>\n",
       "      <td>0.0</td>\n",
       "      <td>0.0</td>\n",
       "      <td>0.0</td>\n",
       "      <td>0.0</td>\n",
       "      <td>0.000000e+00</td>\n",
       "      <td>0.000000e+00</td>\n",
       "      <td>8.000000e+00</td>\n",
       "      <td>-4.999928e-01</td>\n",
       "      <td>-3.141584e+00</td>\n",
       "      <td>-2.499009e+00</td>\n",
       "    </tr>\n",
       "    <tr>\n",
       "      <th>25%</th>\n",
       "      <td>2.948388e+05</td>\n",
       "      <td>3.371667e+01</td>\n",
       "      <td>3.360000e+01</td>\n",
       "      <td>3.360000e+01</td>\n",
       "      <td>3.360000e+01</td>\n",
       "      <td>3.705000e+00</td>\n",
       "      <td>3.420000e+00</td>\n",
       "      <td>3.420000e+00</td>\n",
       "      <td>3.420000e+00</td>\n",
       "      <td>-1.100000e+01</td>\n",
       "      <td>...</td>\n",
       "      <td>0.0</td>\n",
       "      <td>0.0</td>\n",
       "      <td>0.0</td>\n",
       "      <td>0.0</td>\n",
       "      <td>3.000000e+00</td>\n",
       "      <td>0.000000e+00</td>\n",
       "      <td>6.300000e+01</td>\n",
       "      <td>-2.055347e-01</td>\n",
       "      <td>-1.584667e+00</td>\n",
       "      <td>-2.074832e+00</td>\n",
       "    </tr>\n",
       "    <tr>\n",
       "      <th>50%</th>\n",
       "      <td>5.896775e+05</td>\n",
       "      <td>4.830000e+01</td>\n",
       "      <td>4.826667e+01</td>\n",
       "      <td>4.826667e+01</td>\n",
       "      <td>4.826667e+01</td>\n",
       "      <td>5.700000e+00</td>\n",
       "      <td>5.415000e+00</td>\n",
       "      <td>5.415000e+00</td>\n",
       "      <td>5.415000e+00</td>\n",
       "      <td>0.000000e+00</td>\n",
       "      <td>...</td>\n",
       "      <td>0.0</td>\n",
       "      <td>0.0</td>\n",
       "      <td>0.0</td>\n",
       "      <td>0.0</td>\n",
       "      <td>4.000000e+00</td>\n",
       "      <td>1.000000e+00</td>\n",
       "      <td>9.100000e+01</td>\n",
       "      <td>2.155910e-04</td>\n",
       "      <td>8.142424e-03</td>\n",
       "      <td>1.523139e+00</td>\n",
       "    </tr>\n",
       "    <tr>\n",
       "      <th>75%</th>\n",
       "      <td>8.845162e+05</td>\n",
       "      <td>6.326667e+01</td>\n",
       "      <td>6.303333e+01</td>\n",
       "      <td>6.293333e+01</td>\n",
       "      <td>6.296667e+01</td>\n",
       "      <td>8.265000e+00</td>\n",
       "      <td>7.980000e+00</td>\n",
       "      <td>7.695000e+00</td>\n",
       "      <td>7.980000e+00</td>\n",
       "      <td>1.100000e+01</td>\n",
       "      <td>...</td>\n",
       "      <td>0.0</td>\n",
       "      <td>0.0</td>\n",
       "      <td>0.0</td>\n",
       "      <td>0.0</td>\n",
       "      <td>5.000000e+00</td>\n",
       "      <td>2.000000e+00</td>\n",
       "      <td>1.180000e+02</td>\n",
       "      <td>2.069167e-01</td>\n",
       "      <td>1.581958e+00</td>\n",
       "      <td>2.074729e+00</td>\n",
       "    </tr>\n",
       "    <tr>\n",
       "      <th>max</th>\n",
       "      <td>1.179355e+06</td>\n",
       "      <td>8.311667e+01</td>\n",
       "      <td>8.256667e+01</td>\n",
       "      <td>8.253333e+01</td>\n",
       "      <td>8.253333e+01</td>\n",
       "      <td>1.510500e+01</td>\n",
       "      <td>1.396500e+01</td>\n",
       "      <td>1.539000e+01</td>\n",
       "      <td>1.510500e+01</td>\n",
       "      <td>1.421401e+02</td>\n",
       "      <td>...</td>\n",
       "      <td>0.0</td>\n",
       "      <td>0.0</td>\n",
       "      <td>0.0</td>\n",
       "      <td>0.0</td>\n",
       "      <td>8.000000e+00</td>\n",
       "      <td>4.000000e+00</td>\n",
       "      <td>1.540000e+02</td>\n",
       "      <td>4.999991e-01</td>\n",
       "      <td>3.141592e+00</td>\n",
       "      <td>2.493834e+00</td>\n",
       "    </tr>\n",
       "  </tbody>\n",
       "</table>\n",
       "<p>8 rows × 35 columns</p>\n",
       "</div>"
      ],
      "text/plain": [
       "         Unnamed: 0         Phi_0         Phi_2         Phi_3         Phi_4  \\\n",
       "count  1.179356e+06  1.179356e+06  1.179356e+06  1.179356e+06  1.179356e+06   \n",
       "mean   5.896775e+05  4.851559e+01  4.851127e+01  4.851076e+01  4.851331e+01   \n",
       "std    3.404509e+05  1.774647e+01  1.779697e+01  1.781670e+01  1.779750e+01   \n",
       "min    0.000000e+00  1.103333e+01  2.400000e+00  2.666667e+00  2.666667e+00   \n",
       "25%    2.948388e+05  3.371667e+01  3.360000e+01  3.360000e+01  3.360000e+01   \n",
       "50%    5.896775e+05  4.830000e+01  4.826667e+01  4.826667e+01  4.826667e+01   \n",
       "75%    8.845162e+05  6.326667e+01  6.303333e+01  6.293333e+01  6.296667e+01   \n",
       "max    1.179355e+06  8.311667e+01  8.256667e+01  8.253333e+01  8.253333e+01   \n",
       "\n",
       "            Theta_0       Theta_2       Theta_3       Theta_4  BendingAngle_0  \\\n",
       "count  1.179356e+06  1.179356e+06  1.179356e+06  1.179356e+06    1.179356e+06   \n",
       "mean   6.195453e+00  5.918753e+00  5.848332e+00  5.881490e+00    5.603115e-02   \n",
       "std    3.011983e+00  2.921076e+00  2.911875e+00  2.906416e+00    1.493805e+01   \n",
       "min    1.425000e+00  1.425000e+00  1.425000e+00  1.710000e+00   -1.329103e+02   \n",
       "25%    3.705000e+00  3.420000e+00  3.420000e+00  3.420000e+00   -1.100000e+01   \n",
       "50%    5.700000e+00  5.415000e+00  5.415000e+00  5.415000e+00    0.000000e+00   \n",
       "75%    8.265000e+00  7.980000e+00  7.695000e+00  7.980000e+00    1.100000e+01   \n",
       "max    1.510500e+01  1.396500e+01  1.539000e+01  1.510500e+01    1.421401e+02   \n",
       "\n",
       "       ...     Mask_0     Mask_2     Mask_3     Mask_4  PatternStraightness  \\\n",
       "count  ...  1179356.0  1179356.0  1179356.0  1179356.0         1.179356e+06   \n",
       "mean   ...        0.0        0.0        0.0        0.0         3.976490e+00   \n",
       "std    ...        0.0        0.0        0.0        0.0         1.871622e+00   \n",
       "min    ...        0.0        0.0        0.0        0.0         0.000000e+00   \n",
       "25%    ...        0.0        0.0        0.0        0.0         3.000000e+00   \n",
       "50%    ...        0.0        0.0        0.0        0.0         4.000000e+00   \n",
       "75%    ...        0.0        0.0        0.0        0.0         5.000000e+00   \n",
       "max    ...        0.0        0.0        0.0        0.0         8.000000e+00   \n",
       "\n",
       "               Zone   MedianTheta          q/pt      PhiAngle      EtaAngle  \n",
       "count  1.179356e+06  1.179356e+06  1.179356e+06  1.179356e+06  1.179356e+06  \n",
       "mean   1.080514e+00  9.115961e+01  5.540485e-04  8.881380e-04  8.762006e-04  \n",
       "std    1.089190e+00  3.328909e+01  2.524173e-01  1.820920e+00  2.075298e+00  \n",
       "min    0.000000e+00  8.000000e+00 -4.999928e-01 -3.141584e+00 -2.499009e+00  \n",
       "25%    0.000000e+00  6.300000e+01 -2.055347e-01 -1.584667e+00 -2.074832e+00  \n",
       "50%    1.000000e+00  9.100000e+01  2.155910e-04  8.142424e-03  1.523139e+00  \n",
       "75%    2.000000e+00  1.180000e+02  2.069167e-01  1.581958e+00  2.074729e+00  \n",
       "max    4.000000e+00  1.540000e+02  4.999991e-01  3.141592e+00  2.493834e+00  \n",
       "\n",
       "[8 rows x 35 columns]"
      ]
     },
     "execution_count": 7,
     "metadata": {},
     "output_type": "execute_result"
    }
   ],
   "source": [
    "df.describe()"
   ]
  },
  {
   "cell_type": "code",
   "execution_count": 8,
   "id": "0f32b5d2",
   "metadata": {
    "execution": {
     "iopub.execute_input": "2025-05-08T22:02:47.617955Z",
     "iopub.status.busy": "2025-05-08T22:02:47.617329Z",
     "iopub.status.idle": "2025-05-08T22:02:47.620744Z",
     "shell.execute_reply": "2025-05-08T22:02:47.620146Z"
    },
    "papermill": {
     "duration": 0.025552,
     "end_time": "2025-05-08T22:02:47.621840",
     "exception": false,
     "start_time": "2025-05-08T22:02:47.596288",
     "status": "completed"
    },
    "tags": []
   },
   "outputs": [],
   "source": [
    "#HOW MOMENTUM NEGATIVE??"
   ]
  },
  {
   "cell_type": "markdown",
   "id": "c4e35179",
   "metadata": {
    "papermill": {
     "duration": 0.020411,
     "end_time": "2025-05-08T22:02:47.662650",
     "exception": false,
     "start_time": "2025-05-08T22:02:47.642239",
     "status": "completed"
    },
    "tags": []
   },
   "source": [
    "**The data is not scaled, so we would have to scale the data first before we proceed to train a model on the data**"
   ]
  },
  {
   "cell_type": "markdown",
   "id": "a4b139f3",
   "metadata": {
    "papermill": {
     "duration": 0.020373,
     "end_time": "2025-05-08T22:02:47.703305",
     "exception": false,
     "start_time": "2025-05-08T22:02:47.682932",
     "status": "completed"
    },
    "tags": []
   },
   "source": [
    "**To begin with lets  scale the data by using Standard Scalar**"
   ]
  },
  {
   "cell_type": "code",
   "execution_count": 9,
   "id": "8b2de56f",
   "metadata": {
    "execution": {
     "iopub.execute_input": "2025-05-08T22:02:47.746603Z",
     "iopub.status.busy": "2025-05-08T22:02:47.746001Z",
     "iopub.status.idle": "2025-05-08T22:02:47.749405Z",
     "shell.execute_reply": "2025-05-08T22:02:47.748846Z"
    },
    "papermill": {
     "duration": 0.026268,
     "end_time": "2025-05-08T22:02:47.750490",
     "exception": false,
     "start_time": "2025-05-08T22:02:47.724222",
     "status": "completed"
    },
    "tags": []
   },
   "outputs": [],
   "source": [
    "scaler = StandardScaler()"
   ]
  },
  {
   "cell_type": "code",
   "execution_count": 10,
   "id": "b3aae02d",
   "metadata": {
    "execution": {
     "iopub.execute_input": "2025-05-08T22:02:47.793331Z",
     "iopub.status.busy": "2025-05-08T22:02:47.792800Z",
     "iopub.status.idle": "2025-05-08T22:02:47.797343Z",
     "shell.execute_reply": "2025-05-08T22:02:47.796671Z"
    },
    "papermill": {
     "duration": 0.027127,
     "end_time": "2025-05-08T22:02:47.798412",
     "exception": false,
     "start_time": "2025-05-08T22:02:47.771285",
     "status": "completed"
    },
    "tags": []
   },
   "outputs": [
    {
     "data": {
      "text/plain": [
       "(1179356, 35)"
      ]
     },
     "execution_count": 10,
     "metadata": {},
     "output_type": "execute_result"
    }
   ],
   "source": [
    "df.shape"
   ]
  },
  {
   "cell_type": "code",
   "execution_count": 11,
   "id": "da6a6b9f",
   "metadata": {
    "execution": {
     "iopub.execute_input": "2025-05-08T22:02:47.842784Z",
     "iopub.status.busy": "2025-05-08T22:02:47.842046Z",
     "iopub.status.idle": "2025-05-08T22:02:47.859389Z",
     "shell.execute_reply": "2025-05-08T22:02:47.858766Z"
    },
    "papermill": {
     "duration": 0.040908,
     "end_time": "2025-05-08T22:02:47.860694",
     "exception": false,
     "start_time": "2025-05-08T22:02:47.819786",
     "status": "completed"
    },
    "tags": []
   },
   "outputs": [],
   "source": [
    "df.loc[:,\"pT\"] = abs(1/df.loc[:,\"q/pt\"])"
   ]
  },
  {
   "cell_type": "code",
   "execution_count": 12,
   "id": "43ac34c4",
   "metadata": {
    "execution": {
     "iopub.execute_input": "2025-05-08T22:02:47.904819Z",
     "iopub.status.busy": "2025-05-08T22:02:47.904202Z",
     "iopub.status.idle": "2025-05-08T22:02:47.911862Z",
     "shell.execute_reply": "2025-05-08T22:02:47.911244Z"
    },
    "papermill": {
     "duration": 0.03066,
     "end_time": "2025-05-08T22:02:47.913024",
     "exception": false,
     "start_time": "2025-05-08T22:02:47.882364",
     "status": "completed"
    },
    "tags": []
   },
   "outputs": [
    {
     "data": {
      "text/plain": [
       "(15.105, 1.425)"
      ]
     },
     "execution_count": 12,
     "metadata": {},
     "output_type": "execute_result"
    }
   ],
   "source": [
    "df['Theta_0'].max(), df['Theta_0'].min()"
   ]
  },
  {
   "cell_type": "markdown",
   "id": "97940c4e",
   "metadata": {
    "papermill": {
     "duration": 0.025538,
     "end_time": "2025-05-08T22:02:47.959960",
     "exception": false,
     "start_time": "2025-05-08T22:02:47.934422",
     "status": "completed"
    },
    "tags": []
   },
   "source": [
    "We noticed and came up with these observations:\n",
    "\n",
    "1) Instead of taking eachStation as a node or each feature as a node, its better to take only the bendingAngle for each station to be the node feature.\n",
    "\n",
    "2) Talking about the Edge feature we introduced the 3 dimensional vector feature. Which includes sin(phi), cos(phi), and eta (-log(tan(theta/2)))\n",
    "\n",
    "3) Using these node and edge features we came up with a message passign layers with different number of hidden layers to fit the data and we see the results in the results section."
   ]
  },
  {
   "cell_type": "code",
   "execution_count": 13,
   "id": "559f5d38",
   "metadata": {
    "execution": {
     "iopub.execute_input": "2025-05-08T22:02:48.004267Z",
     "iopub.status.busy": "2025-05-08T22:02:48.003780Z",
     "iopub.status.idle": "2025-05-08T22:02:48.116850Z",
     "shell.execute_reply": "2025-05-08T22:02:48.116090Z"
    },
    "papermill": {
     "duration": 0.137203,
     "end_time": "2025-05-08T22:02:48.118236",
     "exception": false,
     "start_time": "2025-05-08T22:02:47.981033",
     "status": "completed"
    },
    "tags": []
   },
   "outputs": [],
   "source": [
    "import pandas as pd\n",
    "import numpy as np\n",
    "\n",
    "# Sample DataFrame (replace with your actual DataFrame loading code)\n",
    "# df = pd.read_csv('your_file.csv')\n",
    "\n",
    "# Convert DataFrame columns to NumPy arrays for computations\n",
    "phi_0 = df['Phi_0'].values\n",
    "phi_2 = df['Phi_2'].values\n",
    "phi_3 = df['Phi_3'].values\n",
    "phi_4 = df['Phi_4'].values\n",
    "\n",
    "theta_0 = df['Theta_0'].values\n",
    "theta_2 = df['Theta_2'].values\n",
    "theta_3 = df['Theta_3'].values\n",
    "theta_4 = df['Theta_4'].values\n",
    "\n",
    "# Compute sine and cosine using NumPy\n",
    "df['cos_Phi_0'] = np.cos(np.radians(phi_0))\n",
    "df['cos_Phi_2'] = np.cos(np.radians(phi_2))\n",
    "df['cos_Phi_3'] = np.cos(np.radians(phi_3))\n",
    "df['cos_Phi_4'] = np.cos(np.radians(phi_4))\n",
    "\n",
    "df['sin_Phi_0'] = np.sin(np.radians(phi_0))\n",
    "df['sin_Phi_2'] = np.sin(np.radians(phi_2))\n",
    "df['sin_Phi_3'] = np.sin(np.radians(phi_3))\n",
    "df['sin_Phi_4'] = np.sin(np.radians(phi_4))\n",
    "\n",
    "# Compute eta using NumPy\n",
    "df['Eta_0'] = -np.log(np.tan(np.radians(theta_0 / 2)))\n",
    "df['Eta_2'] = -np.log(np.tan(np.radians(theta_2 / 2)))\n",
    "df['Eta_3'] = -np.log(np.tan(np.radians(theta_3 / 2)))\n",
    "df['Eta_4'] = -np.log(np.tan(np.radians(theta_4 / 2)))\n",
    "\n"
   ]
  },
  {
   "cell_type": "code",
   "execution_count": 14,
   "id": "7bf54ad5",
   "metadata": {
    "execution": {
     "iopub.execute_input": "2025-05-08T22:02:48.161906Z",
     "iopub.status.busy": "2025-05-08T22:02:48.161305Z",
     "iopub.status.idle": "2025-05-08T22:02:48.166261Z",
     "shell.execute_reply": "2025-05-08T22:02:48.165581Z"
    },
    "papermill": {
     "duration": 0.027561,
     "end_time": "2025-05-08T22:02:48.167392",
     "exception": false,
     "start_time": "2025-05-08T22:02:48.139831",
     "status": "completed"
    },
    "tags": []
   },
   "outputs": [
    {
     "data": {
      "text/plain": [
       "Index(['Unnamed: 0', 'Phi_0', 'Phi_2', 'Phi_3', 'Phi_4', 'Theta_0', 'Theta_2',\n",
       "       'Theta_3', 'Theta_4', 'BendingAngle_0', 'BendingAngle_2',\n",
       "       'BendingAngle_3', 'BendingAngle_4', 'TimeInfo_0', 'TimeInfo_2',\n",
       "       'TimeInfo_3', 'TimeInfo_4', 'RingNumber_0', 'RingNumber_2',\n",
       "       'RingNumber_3', 'RingNumber_4', 'Front_0', 'Front_2', 'Front_3',\n",
       "       'Front_4', 'Mask_0', 'Mask_2', 'Mask_3', 'Mask_4',\n",
       "       'PatternStraightness', 'Zone', 'MedianTheta', 'q/pt', 'PhiAngle',\n",
       "       'EtaAngle', 'pT', 'cos_Phi_0', 'cos_Phi_2', 'cos_Phi_3', 'cos_Phi_4',\n",
       "       'sin_Phi_0', 'sin_Phi_2', 'sin_Phi_3', 'sin_Phi_4', 'Eta_0', 'Eta_2',\n",
       "       'Eta_3', 'Eta_4'],\n",
       "      dtype='object')"
      ]
     },
     "execution_count": 14,
     "metadata": {},
     "output_type": "execute_result"
    }
   ],
   "source": [
    "df.columns"
   ]
  },
  {
   "cell_type": "code",
   "execution_count": 15,
   "id": "9bc5adc8",
   "metadata": {
    "execution": {
     "iopub.execute_input": "2025-05-08T22:02:48.211262Z",
     "iopub.status.busy": "2025-05-08T22:02:48.210725Z",
     "iopub.status.idle": "2025-05-08T22:02:48.216238Z",
     "shell.execute_reply": "2025-05-08T22:02:48.215687Z"
    },
    "papermill": {
     "duration": 0.028576,
     "end_time": "2025-05-08T22:02:48.217264",
     "exception": false,
     "start_time": "2025-05-08T22:02:48.188688",
     "status": "completed"
    },
    "tags": []
   },
   "outputs": [
    {
     "data": {
      "text/plain": [
       "2.00000380000722"
      ]
     },
     "execution_count": 15,
     "metadata": {},
     "output_type": "execute_result"
    }
   ],
   "source": [
    "df.loc[:,\"pT\"].min()"
   ]
  },
  {
   "cell_type": "code",
   "execution_count": 16,
   "id": "54bbbbca",
   "metadata": {
    "execution": {
     "iopub.execute_input": "2025-05-08T22:02:48.260477Z",
     "iopub.status.busy": "2025-05-08T22:02:48.259942Z",
     "iopub.status.idle": "2025-05-08T22:02:48.306303Z",
     "shell.execute_reply": "2025-05-08T22:02:48.305739Z"
    },
    "papermill": {
     "duration": 0.069116,
     "end_time": "2025-05-08T22:02:48.307612",
     "exception": false,
     "start_time": "2025-05-08T22:02:48.238496",
     "status": "completed"
    },
    "tags": []
   },
   "outputs": [],
   "source": [
    "label =df.loc[:,\"pT\"]\n",
    "\n",
    "# Calculate Q1 (25th percentile) and Q3 (75th percentile)\n",
    "Q1 = label.quantile(0.25)\n",
    "Q3 = label.quantile(0.75)\n",
    "\n",
    "# Calculate the IQR (Interquartile Range)\n",
    "IQR = Q3 - Q1"
   ]
  },
  {
   "cell_type": "code",
   "execution_count": 17,
   "id": "06132c56",
   "metadata": {
    "execution": {
     "iopub.execute_input": "2025-05-08T22:02:48.351795Z",
     "iopub.status.busy": "2025-05-08T22:02:48.351092Z",
     "iopub.status.idle": "2025-05-08T22:02:49.020655Z",
     "shell.execute_reply": "2025-05-08T22:02:49.020047Z"
    },
    "papermill": {
     "duration": 0.692701,
     "end_time": "2025-05-08T22:02:49.021956",
     "exception": false,
     "start_time": "2025-05-08T22:02:48.329255",
     "status": "completed"
    },
    "tags": []
   },
   "outputs": [],
   "source": [
    "# Define the acceptable range (1.5 times the IQR below Q1 and above Q3)\n",
    "lower_bound = Q1 - 1.5 * IQR\n",
    "upper_bound = Q3 + 1.5 * IQR\n",
    "\n",
    "# Filter out the outliers\n",
    "filtered_df = df[(label >= lower_bound) & (label <= upper_bound)]\n",
    "filtered_df = filtered_df.reset_index(drop=True)\n",
    "# Extract the indices of the filtered dataset\n",
    "filtered_indices = filtered_df.index.to_numpy()\n",
    "\n",
    "# Split the filtered indices into training and test sets\n",
    "train_idx, test_idx = train_test_split(filtered_indices, test_size=0.2, random_state=1)"
   ]
  },
  {
   "cell_type": "code",
   "execution_count": 18,
   "id": "fce43278",
   "metadata": {
    "execution": {
     "iopub.execute_input": "2025-05-08T22:02:49.065971Z",
     "iopub.status.busy": "2025-05-08T22:02:49.065696Z",
     "iopub.status.idle": "2025-05-08T22:02:49.957161Z",
     "shell.execute_reply": "2025-05-08T22:02:49.956586Z"
    },
    "papermill": {
     "duration": 0.914715,
     "end_time": "2025-05-08T22:02:49.958518",
     "exception": false,
     "start_time": "2025-05-08T22:02:49.043803",
     "status": "completed"
    },
    "tags": []
   },
   "outputs": [],
   "source": [
    "filtered_df.loc[:,\"Phi_0\":] = scaler.fit_transform(filtered_df.loc[:,\"Phi_0\":])"
   ]
  },
  {
   "cell_type": "code",
   "execution_count": 19,
   "id": "64b5c098",
   "metadata": {
    "execution": {
     "iopub.execute_input": "2025-05-08T22:02:50.001935Z",
     "iopub.status.busy": "2025-05-08T22:02:50.001695Z",
     "iopub.status.idle": "2025-05-08T22:02:50.010578Z",
     "shell.execute_reply": "2025-05-08T22:02:50.010006Z"
    },
    "papermill": {
     "duration": 0.031569,
     "end_time": "2025-05-08T22:02:50.011777",
     "exception": false,
     "start_time": "2025-05-08T22:02:49.980208",
     "status": "completed"
    },
    "tags": []
   },
   "outputs": [
    {
     "data": {
      "text/html": [
       "<style>#sk-container-id-1 {color: black;background-color: white;}#sk-container-id-1 pre{padding: 0;}#sk-container-id-1 div.sk-toggleable {background-color: white;}#sk-container-id-1 label.sk-toggleable__label {cursor: pointer;display: block;width: 100%;margin-bottom: 0;padding: 0.3em;box-sizing: border-box;text-align: center;}#sk-container-id-1 label.sk-toggleable__label-arrow:before {content: \"▸\";float: left;margin-right: 0.25em;color: #696969;}#sk-container-id-1 label.sk-toggleable__label-arrow:hover:before {color: black;}#sk-container-id-1 div.sk-estimator:hover label.sk-toggleable__label-arrow:before {color: black;}#sk-container-id-1 div.sk-toggleable__content {max-height: 0;max-width: 0;overflow: hidden;text-align: left;background-color: #f0f8ff;}#sk-container-id-1 div.sk-toggleable__content pre {margin: 0.2em;color: black;border-radius: 0.25em;background-color: #f0f8ff;}#sk-container-id-1 input.sk-toggleable__control:checked~div.sk-toggleable__content {max-height: 200px;max-width: 100%;overflow: auto;}#sk-container-id-1 input.sk-toggleable__control:checked~label.sk-toggleable__label-arrow:before {content: \"▾\";}#sk-container-id-1 div.sk-estimator input.sk-toggleable__control:checked~label.sk-toggleable__label {background-color: #d4ebff;}#sk-container-id-1 div.sk-label input.sk-toggleable__control:checked~label.sk-toggleable__label {background-color: #d4ebff;}#sk-container-id-1 input.sk-hidden--visually {border: 0;clip: rect(1px 1px 1px 1px);clip: rect(1px, 1px, 1px, 1px);height: 1px;margin: -1px;overflow: hidden;padding: 0;position: absolute;width: 1px;}#sk-container-id-1 div.sk-estimator {font-family: monospace;background-color: #f0f8ff;border: 1px dotted black;border-radius: 0.25em;box-sizing: border-box;margin-bottom: 0.5em;}#sk-container-id-1 div.sk-estimator:hover {background-color: #d4ebff;}#sk-container-id-1 div.sk-parallel-item::after {content: \"\";width: 100%;border-bottom: 1px solid gray;flex-grow: 1;}#sk-container-id-1 div.sk-label:hover label.sk-toggleable__label {background-color: #d4ebff;}#sk-container-id-1 div.sk-serial::before {content: \"\";position: absolute;border-left: 1px solid gray;box-sizing: border-box;top: 0;bottom: 0;left: 50%;z-index: 0;}#sk-container-id-1 div.sk-serial {display: flex;flex-direction: column;align-items: center;background-color: white;padding-right: 0.2em;padding-left: 0.2em;position: relative;}#sk-container-id-1 div.sk-item {position: relative;z-index: 1;}#sk-container-id-1 div.sk-parallel {display: flex;align-items: stretch;justify-content: center;background-color: white;position: relative;}#sk-container-id-1 div.sk-item::before, #sk-container-id-1 div.sk-parallel-item::before {content: \"\";position: absolute;border-left: 1px solid gray;box-sizing: border-box;top: 0;bottom: 0;left: 50%;z-index: -1;}#sk-container-id-1 div.sk-parallel-item {display: flex;flex-direction: column;z-index: 1;position: relative;background-color: white;}#sk-container-id-1 div.sk-parallel-item:first-child::after {align-self: flex-end;width: 50%;}#sk-container-id-1 div.sk-parallel-item:last-child::after {align-self: flex-start;width: 50%;}#sk-container-id-1 div.sk-parallel-item:only-child::after {width: 0;}#sk-container-id-1 div.sk-dashed-wrapped {border: 1px dashed gray;margin: 0 0.4em 0.5em 0.4em;box-sizing: border-box;padding-bottom: 0.4em;background-color: white;}#sk-container-id-1 div.sk-label label {font-family: monospace;font-weight: bold;display: inline-block;line-height: 1.2em;}#sk-container-id-1 div.sk-label-container {text-align: center;}#sk-container-id-1 div.sk-container {/* jupyter's `normalize.less` sets `[hidden] { display: none; }` but bootstrap.min.css set `[hidden] { display: none !important; }` so we also need the `!important` here to be able to override the default hidden behavior on the sphinx rendered scikit-learn.org. See: https://github.com/scikit-learn/scikit-learn/issues/21755 */display: inline-block !important;position: relative;}#sk-container-id-1 div.sk-text-repr-fallback {display: none;}</style><div id=\"sk-container-id-1\" class=\"sk-top-container\"><div class=\"sk-text-repr-fallback\"><pre>StandardScaler()</pre><b>In a Jupyter environment, please rerun this cell to show the HTML representation or trust the notebook. <br />On GitHub, the HTML representation is unable to render, please try loading this page with nbviewer.org.</b></div><div class=\"sk-container\" hidden><div class=\"sk-item\"><div class=\"sk-estimator sk-toggleable\"><input class=\"sk-toggleable__control sk-hidden--visually\" id=\"sk-estimator-id-1\" type=\"checkbox\" checked><label for=\"sk-estimator-id-1\" class=\"sk-toggleable__label sk-toggleable__label-arrow\">StandardScaler</label><div class=\"sk-toggleable__content\"><pre>StandardScaler()</pre></div></div></div></div></div>"
      ],
      "text/plain": [
       "StandardScaler()"
      ]
     },
     "execution_count": 19,
     "metadata": {},
     "output_type": "execute_result"
    }
   ],
   "source": [
    "scaler"
   ]
  },
  {
   "cell_type": "code",
   "execution_count": 20,
   "id": "0c4dcfbd",
   "metadata": {
    "execution": {
     "iopub.execute_input": "2025-05-08T22:02:50.056090Z",
     "iopub.status.busy": "2025-05-08T22:02:50.055364Z",
     "iopub.status.idle": "2025-05-08T22:02:50.061387Z",
     "shell.execute_reply": "2025-05-08T22:02:50.060821Z"
    },
    "papermill": {
     "duration": 0.02879,
     "end_time": "2025-05-08T22:02:50.062358",
     "exception": false,
     "start_time": "2025-05-08T22:02:50.033568",
     "status": "completed"
    },
    "tags": []
   },
   "outputs": [
    {
     "data": {
      "text/plain": [
       "142.14014"
      ]
     },
     "execution_count": 20,
     "metadata": {},
     "output_type": "execute_result"
    }
   ],
   "source": [
    "df[\"BendingAngle_0\"].max()"
   ]
  },
  {
   "cell_type": "code",
   "execution_count": 21,
   "id": "bab9c98c",
   "metadata": {
    "execution": {
     "iopub.execute_input": "2025-05-08T22:02:50.106107Z",
     "iopub.status.busy": "2025-05-08T22:02:50.105849Z",
     "iopub.status.idle": "2025-05-08T22:02:50.110353Z",
     "shell.execute_reply": "2025-05-08T22:02:50.109837Z"
    },
    "papermill": {
     "duration": 0.027764,
     "end_time": "2025-05-08T22:02:50.111442",
     "exception": false,
     "start_time": "2025-05-08T22:02:50.083678",
     "status": "completed"
    },
    "tags": []
   },
   "outputs": [
    {
     "data": {
      "text/plain": [
       "Index(['Unnamed: 0', 'Phi_0', 'Phi_2', 'Phi_3', 'Phi_4', 'Theta_0', 'Theta_2',\n",
       "       'Theta_3', 'Theta_4', 'BendingAngle_0', 'BendingAngle_2',\n",
       "       'BendingAngle_3', 'BendingAngle_4', 'TimeInfo_0', 'TimeInfo_2',\n",
       "       'TimeInfo_3', 'TimeInfo_4', 'RingNumber_0', 'RingNumber_2',\n",
       "       'RingNumber_3', 'RingNumber_4', 'Front_0', 'Front_2', 'Front_3',\n",
       "       'Front_4', 'Mask_0', 'Mask_2', 'Mask_3', 'Mask_4',\n",
       "       'PatternStraightness', 'Zone', 'MedianTheta', 'q/pt', 'PhiAngle',\n",
       "       'EtaAngle', 'pT', 'cos_Phi_0', 'cos_Phi_2', 'cos_Phi_3', 'cos_Phi_4',\n",
       "       'sin_Phi_0', 'sin_Phi_2', 'sin_Phi_3', 'sin_Phi_4', 'Eta_0', 'Eta_2',\n",
       "       'Eta_3', 'Eta_4'],\n",
       "      dtype='object')"
      ]
     },
     "execution_count": 21,
     "metadata": {},
     "output_type": "execute_result"
    }
   ],
   "source": [
    "df.columns"
   ]
  },
  {
   "cell_type": "code",
   "execution_count": 22,
   "id": "ba78b186",
   "metadata": {
    "execution": {
     "iopub.execute_input": "2025-05-08T22:02:50.155167Z",
     "iopub.status.busy": "2025-05-08T22:02:50.154913Z",
     "iopub.status.idle": "2025-05-08T22:02:52.489372Z",
     "shell.execute_reply": "2025-05-08T22:02:52.488593Z"
    },
    "papermill": {
     "duration": 2.3577,
     "end_time": "2025-05-08T22:02:52.490650",
     "exception": false,
     "start_time": "2025-05-08T22:02:50.132950",
     "status": "completed"
    },
    "tags": []
   },
   "outputs": [
    {
     "data": {
      "text/html": [
       "<div>\n",
       "<style scoped>\n",
       "    .dataframe tbody tr th:only-of-type {\n",
       "        vertical-align: middle;\n",
       "    }\n",
       "\n",
       "    .dataframe tbody tr th {\n",
       "        vertical-align: top;\n",
       "    }\n",
       "\n",
       "    .dataframe thead th {\n",
       "        text-align: right;\n",
       "    }\n",
       "</style>\n",
       "<table border=\"1\" class=\"dataframe\">\n",
       "  <thead>\n",
       "    <tr style=\"text-align: right;\">\n",
       "      <th></th>\n",
       "      <th>Unnamed: 0</th>\n",
       "      <th>Phi_0</th>\n",
       "      <th>Phi_2</th>\n",
       "      <th>Phi_3</th>\n",
       "      <th>Phi_4</th>\n",
       "      <th>Theta_0</th>\n",
       "      <th>Theta_2</th>\n",
       "      <th>Theta_3</th>\n",
       "      <th>Theta_4</th>\n",
       "      <th>BendingAngle_0</th>\n",
       "      <th>...</th>\n",
       "      <th>cos_Phi_3</th>\n",
       "      <th>cos_Phi_4</th>\n",
       "      <th>sin_Phi_0</th>\n",
       "      <th>sin_Phi_2</th>\n",
       "      <th>sin_Phi_3</th>\n",
       "      <th>sin_Phi_4</th>\n",
       "      <th>Eta_0</th>\n",
       "      <th>Eta_2</th>\n",
       "      <th>Eta_3</th>\n",
       "      <th>Eta_4</th>\n",
       "    </tr>\n",
       "  </thead>\n",
       "  <tbody>\n",
       "    <tr>\n",
       "      <th>count</th>\n",
       "      <td>1.179356e+06</td>\n",
       "      <td>1.179356e+06</td>\n",
       "      <td>1.179356e+06</td>\n",
       "      <td>1.179356e+06</td>\n",
       "      <td>1.179356e+06</td>\n",
       "      <td>1.179356e+06</td>\n",
       "      <td>1.179356e+06</td>\n",
       "      <td>1.179356e+06</td>\n",
       "      <td>1.179356e+06</td>\n",
       "      <td>1.179356e+06</td>\n",
       "      <td>...</td>\n",
       "      <td>1.179356e+06</td>\n",
       "      <td>1.179356e+06</td>\n",
       "      <td>1.179356e+06</td>\n",
       "      <td>1.179356e+06</td>\n",
       "      <td>1.179356e+06</td>\n",
       "      <td>1.179356e+06</td>\n",
       "      <td>1.179356e+06</td>\n",
       "      <td>1.179356e+06</td>\n",
       "      <td>1.179356e+06</td>\n",
       "      <td>1.179356e+06</td>\n",
       "    </tr>\n",
       "    <tr>\n",
       "      <th>mean</th>\n",
       "      <td>5.896775e+05</td>\n",
       "      <td>4.851559e+01</td>\n",
       "      <td>4.851127e+01</td>\n",
       "      <td>4.851076e+01</td>\n",
       "      <td>4.851331e+01</td>\n",
       "      <td>6.195453e+00</td>\n",
       "      <td>5.918753e+00</td>\n",
       "      <td>5.848332e+00</td>\n",
       "      <td>5.881490e+00</td>\n",
       "      <td>5.603115e-02</td>\n",
       "      <td>...</td>\n",
       "      <td>6.309832e-01</td>\n",
       "      <td>6.310189e-01</td>\n",
       "      <td>7.136935e-01</td>\n",
       "      <td>7.134801e-01</td>\n",
       "      <td>7.134018e-01</td>\n",
       "      <td>7.135024e-01</td>\n",
       "      <td>3.040842e+00</td>\n",
       "      <td>3.088888e+00</td>\n",
       "      <td>3.101976e+00</td>\n",
       "      <td>3.094625e+00</td>\n",
       "    </tr>\n",
       "    <tr>\n",
       "      <th>std</th>\n",
       "      <td>3.404509e+05</td>\n",
       "      <td>1.774647e+01</td>\n",
       "      <td>1.779697e+01</td>\n",
       "      <td>1.781670e+01</td>\n",
       "      <td>1.779750e+01</td>\n",
       "      <td>3.011983e+00</td>\n",
       "      <td>2.921076e+00</td>\n",
       "      <td>2.911875e+00</td>\n",
       "      <td>2.906416e+00</td>\n",
       "      <td>1.493805e+01</td>\n",
       "      <td>...</td>\n",
       "      <td>2.280855e-01</td>\n",
       "      <td>2.278805e-01</td>\n",
       "      <td>2.011638e-01</td>\n",
       "      <td>2.019739e-01</td>\n",
       "      <td>2.022254e-01</td>\n",
       "      <td>2.019902e-01</td>\n",
       "      <td>5.143237e-01</td>\n",
       "      <td>5.165048e-01</td>\n",
       "      <td>5.179288e-01</td>\n",
       "      <td>5.145729e-01</td>\n",
       "    </tr>\n",
       "    <tr>\n",
       "      <th>min</th>\n",
       "      <td>0.000000e+00</td>\n",
       "      <td>1.103333e+01</td>\n",
       "      <td>2.400000e+00</td>\n",
       "      <td>2.666667e+00</td>\n",
       "      <td>2.666667e+00</td>\n",
       "      <td>1.425000e+00</td>\n",
       "      <td>1.425000e+00</td>\n",
       "      <td>1.425000e+00</td>\n",
       "      <td>1.710000e+00</td>\n",
       "      <td>-1.329103e+02</td>\n",
       "      <td>...</td>\n",
       "      <td>1.299494e-01</td>\n",
       "      <td>1.299494e-01</td>\n",
       "      <td>1.913801e-01</td>\n",
       "      <td>4.187565e-02</td>\n",
       "      <td>4.652531e-02</td>\n",
       "      <td>4.652531e-02</td>\n",
       "      <td>2.020533e+00</td>\n",
       "      <td>2.099852e+00</td>\n",
       "      <td>2.001618e+00</td>\n",
       "      <td>2.020533e+00</td>\n",
       "    </tr>\n",
       "    <tr>\n",
       "      <th>25%</th>\n",
       "      <td>2.948388e+05</td>\n",
       "      <td>3.371667e+01</td>\n",
       "      <td>3.360000e+01</td>\n",
       "      <td>3.360000e+01</td>\n",
       "      <td>3.360000e+01</td>\n",
       "      <td>3.705000e+00</td>\n",
       "      <td>3.420000e+00</td>\n",
       "      <td>3.420000e+00</td>\n",
       "      <td>3.420000e+00</td>\n",
       "      <td>-1.100000e+01</td>\n",
       "      <td>...</td>\n",
       "      <td>4.550269e-01</td>\n",
       "      <td>4.545088e-01</td>\n",
       "      <td>5.550864e-01</td>\n",
       "      <td>5.533915e-01</td>\n",
       "      <td>5.533915e-01</td>\n",
       "      <td>5.533915e-01</td>\n",
       "      <td>2.627608e+00</td>\n",
       "      <td>2.662817e+00</td>\n",
       "      <td>2.699299e+00</td>\n",
       "      <td>2.662817e+00</td>\n",
       "    </tr>\n",
       "    <tr>\n",
       "      <th>50%</th>\n",
       "      <td>5.896775e+05</td>\n",
       "      <td>4.830000e+01</td>\n",
       "      <td>4.826667e+01</td>\n",
       "      <td>4.826667e+01</td>\n",
       "      <td>4.826667e+01</td>\n",
       "      <td>5.700000e+00</td>\n",
       "      <td>5.415000e+00</td>\n",
       "      <td>5.415000e+00</td>\n",
       "      <td>5.415000e+00</td>\n",
       "      <td>0.000000e+00</td>\n",
       "      <td>...</td>\n",
       "      <td>6.656646e-01</td>\n",
       "      <td>6.656646e-01</td>\n",
       "      <td>7.466382e-01</td>\n",
       "      <td>7.462510e-01</td>\n",
       "      <td>7.462510e-01</td>\n",
       "      <td>7.462510e-01</td>\n",
       "      <td>3.000083e+00</td>\n",
       "      <td>3.051457e+00</td>\n",
       "      <td>3.051457e+00</td>\n",
       "      <td>3.051457e+00</td>\n",
       "    </tr>\n",
       "    <tr>\n",
       "      <th>75%</th>\n",
       "      <td>8.845162e+05</td>\n",
       "      <td>6.326667e+01</td>\n",
       "      <td>6.303333e+01</td>\n",
       "      <td>6.293333e+01</td>\n",
       "      <td>6.296667e+01</td>\n",
       "      <td>8.265000e+00</td>\n",
       "      <td>7.980000e+00</td>\n",
       "      <td>7.695000e+00</td>\n",
       "      <td>7.980000e+00</td>\n",
       "      <td>1.100000e+01</td>\n",
       "      <td>...</td>\n",
       "      <td>8.329212e-01</td>\n",
       "      <td>8.329212e-01</td>\n",
       "      <td>8.931098e-01</td>\n",
       "      <td>8.912705e-01</td>\n",
       "      <td>8.904777e-01</td>\n",
       "      <td>8.907423e-01</td>\n",
       "      <td>3.431342e+00</td>\n",
       "      <td>3.511437e+00</td>\n",
       "      <td>3.511437e+00</td>\n",
       "      <td>3.511437e+00</td>\n",
       "    </tr>\n",
       "    <tr>\n",
       "      <th>max</th>\n",
       "      <td>1.179355e+06</td>\n",
       "      <td>8.311667e+01</td>\n",
       "      <td>8.256667e+01</td>\n",
       "      <td>8.253333e+01</td>\n",
       "      <td>8.253333e+01</td>\n",
       "      <td>1.510500e+01</td>\n",
       "      <td>1.396500e+01</td>\n",
       "      <td>1.539000e+01</td>\n",
       "      <td>1.510500e+01</td>\n",
       "      <td>1.421401e+02</td>\n",
       "      <td>...</td>\n",
       "      <td>9.989171e-01</td>\n",
       "      <td>9.989171e-01</td>\n",
       "      <td>9.927923e-01</td>\n",
       "      <td>9.915961e-01</td>\n",
       "      <td>9.915206e-01</td>\n",
       "      <td>9.915206e-01</td>\n",
       "      <td>4.387151e+00</td>\n",
       "      <td>4.387151e+00</td>\n",
       "      <td>4.387151e+00</td>\n",
       "      <td>4.204807e+00</td>\n",
       "    </tr>\n",
       "  </tbody>\n",
       "</table>\n",
       "<p>8 rows × 48 columns</p>\n",
       "</div>"
      ],
      "text/plain": [
       "         Unnamed: 0         Phi_0         Phi_2         Phi_3         Phi_4  \\\n",
       "count  1.179356e+06  1.179356e+06  1.179356e+06  1.179356e+06  1.179356e+06   \n",
       "mean   5.896775e+05  4.851559e+01  4.851127e+01  4.851076e+01  4.851331e+01   \n",
       "std    3.404509e+05  1.774647e+01  1.779697e+01  1.781670e+01  1.779750e+01   \n",
       "min    0.000000e+00  1.103333e+01  2.400000e+00  2.666667e+00  2.666667e+00   \n",
       "25%    2.948388e+05  3.371667e+01  3.360000e+01  3.360000e+01  3.360000e+01   \n",
       "50%    5.896775e+05  4.830000e+01  4.826667e+01  4.826667e+01  4.826667e+01   \n",
       "75%    8.845162e+05  6.326667e+01  6.303333e+01  6.293333e+01  6.296667e+01   \n",
       "max    1.179355e+06  8.311667e+01  8.256667e+01  8.253333e+01  8.253333e+01   \n",
       "\n",
       "            Theta_0       Theta_2       Theta_3       Theta_4  BendingAngle_0  \\\n",
       "count  1.179356e+06  1.179356e+06  1.179356e+06  1.179356e+06    1.179356e+06   \n",
       "mean   6.195453e+00  5.918753e+00  5.848332e+00  5.881490e+00    5.603115e-02   \n",
       "std    3.011983e+00  2.921076e+00  2.911875e+00  2.906416e+00    1.493805e+01   \n",
       "min    1.425000e+00  1.425000e+00  1.425000e+00  1.710000e+00   -1.329103e+02   \n",
       "25%    3.705000e+00  3.420000e+00  3.420000e+00  3.420000e+00   -1.100000e+01   \n",
       "50%    5.700000e+00  5.415000e+00  5.415000e+00  5.415000e+00    0.000000e+00   \n",
       "75%    8.265000e+00  7.980000e+00  7.695000e+00  7.980000e+00    1.100000e+01   \n",
       "max    1.510500e+01  1.396500e+01  1.539000e+01  1.510500e+01    1.421401e+02   \n",
       "\n",
       "       ...     cos_Phi_3     cos_Phi_4     sin_Phi_0     sin_Phi_2  \\\n",
       "count  ...  1.179356e+06  1.179356e+06  1.179356e+06  1.179356e+06   \n",
       "mean   ...  6.309832e-01  6.310189e-01  7.136935e-01  7.134801e-01   \n",
       "std    ...  2.280855e-01  2.278805e-01  2.011638e-01  2.019739e-01   \n",
       "min    ...  1.299494e-01  1.299494e-01  1.913801e-01  4.187565e-02   \n",
       "25%    ...  4.550269e-01  4.545088e-01  5.550864e-01  5.533915e-01   \n",
       "50%    ...  6.656646e-01  6.656646e-01  7.466382e-01  7.462510e-01   \n",
       "75%    ...  8.329212e-01  8.329212e-01  8.931098e-01  8.912705e-01   \n",
       "max    ...  9.989171e-01  9.989171e-01  9.927923e-01  9.915961e-01   \n",
       "\n",
       "          sin_Phi_3     sin_Phi_4         Eta_0         Eta_2         Eta_3  \\\n",
       "count  1.179356e+06  1.179356e+06  1.179356e+06  1.179356e+06  1.179356e+06   \n",
       "mean   7.134018e-01  7.135024e-01  3.040842e+00  3.088888e+00  3.101976e+00   \n",
       "std    2.022254e-01  2.019902e-01  5.143237e-01  5.165048e-01  5.179288e-01   \n",
       "min    4.652531e-02  4.652531e-02  2.020533e+00  2.099852e+00  2.001618e+00   \n",
       "25%    5.533915e-01  5.533915e-01  2.627608e+00  2.662817e+00  2.699299e+00   \n",
       "50%    7.462510e-01  7.462510e-01  3.000083e+00  3.051457e+00  3.051457e+00   \n",
       "75%    8.904777e-01  8.907423e-01  3.431342e+00  3.511437e+00  3.511437e+00   \n",
       "max    9.915206e-01  9.915206e-01  4.387151e+00  4.387151e+00  4.387151e+00   \n",
       "\n",
       "              Eta_4  \n",
       "count  1.179356e+06  \n",
       "mean   3.094625e+00  \n",
       "std    5.145729e-01  \n",
       "min    2.020533e+00  \n",
       "25%    2.662817e+00  \n",
       "50%    3.051457e+00  \n",
       "75%    3.511437e+00  \n",
       "max    4.204807e+00  \n",
       "\n",
       "[8 rows x 48 columns]"
      ]
     },
     "execution_count": 22,
     "metadata": {},
     "output_type": "execute_result"
    }
   ],
   "source": [
    "df.describe()"
   ]
  },
  {
   "cell_type": "markdown",
   "id": "f1fc94d4",
   "metadata": {
    "papermill": {
     "duration": 0.022057,
     "end_time": "2025-05-08T22:02:52.535227",
     "exception": false,
     "start_time": "2025-05-08T22:02:52.513170",
     "status": "completed"
    },
    "tags": []
   },
   "source": [
    "**We can see that the std dev and the mean has been transformed to 1 and 0 respectively**"
   ]
  },
  {
   "cell_type": "code",
   "execution_count": 23,
   "id": "06b33237",
   "metadata": {
    "execution": {
     "iopub.execute_input": "2025-05-08T22:02:52.580314Z",
     "iopub.status.busy": "2025-05-08T22:02:52.579749Z",
     "iopub.status.idle": "2025-05-08T22:02:52.584509Z",
     "shell.execute_reply": "2025-05-08T22:02:52.583895Z"
    },
    "papermill": {
     "duration": 0.028325,
     "end_time": "2025-05-08T22:02:52.585596",
     "exception": false,
     "start_time": "2025-05-08T22:02:52.557271",
     "status": "completed"
    },
    "tags": []
   },
   "outputs": [
    {
     "data": {
      "text/plain": [
       "['Phi_0',\n",
       " 'Phi_2',\n",
       " 'Phi_3',\n",
       " 'Phi_4',\n",
       " 'Theta_0',\n",
       " 'Theta_2',\n",
       " 'Theta_3',\n",
       " 'Theta_4',\n",
       " 'BendingAngle_0',\n",
       " 'BendingAngle_2',\n",
       " 'BendingAngle_3',\n",
       " 'BendingAngle_4',\n",
       " 'TimeInfo_0',\n",
       " 'TimeInfo_2',\n",
       " 'TimeInfo_3',\n",
       " 'TimeInfo_4',\n",
       " 'RingNumber_0',\n",
       " 'RingNumber_2',\n",
       " 'RingNumber_3',\n",
       " 'RingNumber_4',\n",
       " 'Front_0',\n",
       " 'Front_2',\n",
       " 'Front_3',\n",
       " 'Front_4',\n",
       " 'Mask_0',\n",
       " 'Mask_2',\n",
       " 'Mask_3',\n",
       " 'Mask_4',\n",
       " 'PatternStraightness',\n",
       " 'Zone',\n",
       " 'MedianTheta',\n",
       " 'q/pt',\n",
       " 'PhiAngle',\n",
       " 'EtaAngle',\n",
       " 'pT',\n",
       " 'cos_Phi_0',\n",
       " 'cos_Phi_2',\n",
       " 'cos_Phi_3',\n",
       " 'cos_Phi_4',\n",
       " 'sin_Phi_0',\n",
       " 'sin_Phi_2',\n",
       " 'sin_Phi_3',\n",
       " 'sin_Phi_4',\n",
       " 'Eta_0',\n",
       " 'Eta_2',\n",
       " 'Eta_3',\n",
       " 'Eta_4']"
      ]
     },
     "execution_count": 23,
     "metadata": {},
     "output_type": "execute_result"
    }
   ],
   "source": [
    "features = list(df.columns)[1:50]\n",
    "features"
   ]
  },
  {
   "cell_type": "code",
   "execution_count": 24,
   "id": "6abd555d",
   "metadata": {
    "execution": {
     "iopub.execute_input": "2025-05-08T22:02:52.629652Z",
     "iopub.status.busy": "2025-05-08T22:02:52.629425Z",
     "iopub.status.idle": "2025-05-08T22:02:52.634048Z",
     "shell.execute_reply": "2025-05-08T22:02:52.633534Z"
    },
    "papermill": {
     "duration": 0.027723,
     "end_time": "2025-05-08T22:02:52.635125",
     "exception": false,
     "start_time": "2025-05-08T22:02:52.607402",
     "status": "completed"
    },
    "tags": []
   },
   "outputs": [
    {
     "data": {
      "text/plain": [
       "['BendingAngle_0',\n",
       " 'BendingAngle_2',\n",
       " 'BendingAngle_3',\n",
       " 'BendingAngle_4',\n",
       " 'cos_Phi_0',\n",
       " 'cos_Phi_2',\n",
       " 'cos_Phi_3',\n",
       " 'cos_Phi_4',\n",
       " 'sin_Phi_0',\n",
       " 'sin_Phi_2',\n",
       " 'sin_Phi_3',\n",
       " 'sin_Phi_4',\n",
       " 'Eta_0',\n",
       " 'Eta_2',\n",
       " 'Eta_3',\n",
       " 'Eta_4']"
      ]
     },
     "execution_count": 24,
     "metadata": {},
     "output_type": "execute_result"
    }
   ],
   "source": [
    "selected_features = [f for f in features if any(keyword in f for keyword in ['cos', 'sin', 'Eta_', 'BendingAngle'])]\n",
    "\n",
    "selected_features"
   ]
  },
  {
   "cell_type": "code",
   "execution_count": 25,
   "id": "33cf8060",
   "metadata": {
    "execution": {
     "iopub.execute_input": "2025-05-08T22:02:52.678806Z",
     "iopub.status.busy": "2025-05-08T22:02:52.678577Z",
     "iopub.status.idle": "2025-05-08T22:02:52.681502Z",
     "shell.execute_reply": "2025-05-08T22:02:52.681018Z"
    },
    "papermill": {
     "duration": 0.025796,
     "end_time": "2025-05-08T22:02:52.682521",
     "exception": false,
     "start_time": "2025-05-08T22:02:52.656725",
     "status": "completed"
    },
    "tags": []
   },
   "outputs": [],
   "source": [
    "# Lets split the data into train and the test splits"
   ]
  },
  {
   "cell_type": "code",
   "execution_count": 26,
   "id": "c0d88079",
   "metadata": {
    "execution": {
     "iopub.execute_input": "2025-05-08T22:02:52.727390Z",
     "iopub.status.busy": "2025-05-08T22:02:52.726729Z",
     "iopub.status.idle": "2025-05-08T22:02:52.731144Z",
     "shell.execute_reply": "2025-05-08T22:02:52.730638Z"
    },
    "papermill": {
     "duration": 0.028083,
     "end_time": "2025-05-08T22:02:52.732309",
     "exception": false,
     "start_time": "2025-05-08T22:02:52.704226",
     "status": "completed"
    },
    "tags": []
   },
   "outputs": [
    {
     "data": {
      "text/plain": [
       "0.5114059620969259"
      ]
     },
     "execution_count": 26,
     "metadata": {},
     "output_type": "execute_result"
    }
   ],
   "source": [
    "scaler.scale_[46]"
   ]
  },
  {
   "cell_type": "code",
   "execution_count": 27,
   "id": "eed3993d",
   "metadata": {
    "execution": {
     "iopub.execute_input": "2025-05-08T22:02:52.777263Z",
     "iopub.status.busy": "2025-05-08T22:02:52.776716Z",
     "iopub.status.idle": "2025-05-08T22:02:52.781111Z",
     "shell.execute_reply": "2025-05-08T22:02:52.780576Z"
    },
    "papermill": {
     "duration": 0.027771,
     "end_time": "2025-05-08T22:02:52.782146",
     "exception": false,
     "start_time": "2025-05-08T22:02:52.754375",
     "status": "completed"
    },
    "tags": []
   },
   "outputs": [
    {
     "data": {
      "text/plain": [
       "3.9377537017281714"
      ]
     },
     "execution_count": 27,
     "metadata": {},
     "output_type": "execute_result"
    }
   ],
   "source": [
    "scaler.scale_[34]"
   ]
  },
  {
   "cell_type": "code",
   "execution_count": 28,
   "id": "a79ab03e",
   "metadata": {
    "execution": {
     "iopub.execute_input": "2025-05-08T22:02:52.826393Z",
     "iopub.status.busy": "2025-05-08T22:02:52.825942Z",
     "iopub.status.idle": "2025-05-08T22:02:52.874019Z",
     "shell.execute_reply": "2025-05-08T22:02:52.872927Z"
    },
    "papermill": {
     "duration": 0.071642,
     "end_time": "2025-05-08T22:02:52.875388",
     "exception": false,
     "start_time": "2025-05-08T22:02:52.803746",
     "status": "completed"
    },
    "tags": []
   },
   "outputs": [
    {
     "name": "stdout",
     "output_type": "stream",
     "text": [
      "Data shape: (1029592, 16)\n",
      "(1029592,)\n",
      "Len train: 823673, Len test: 205919\n",
      "Num. features: 16\n"
     ]
    }
   ],
   "source": [
    "# Extract features and labels\n",
    "x_data = filtered_df[selected_features].to_numpy()\n",
    "label = filtered_df['pT'].to_numpy()\n",
    "\n",
    "# Ensure the shapes of x_data and label\n",
    "assert x_data.shape[0] == label.shape[0], \"Mismatch between x_data and label sizes\"\n",
    "\n",
    "# Print the new data shape and label shape\n",
    "print('Data shape: ' + str(x_data.shape))\n",
    "print(label.shape)\n",
    "print('Len train: ' + str(len(train_idx)) + ', Len test: ' + str(len(test_idx)))\n",
    "print('Num. features: ' + str(x_data.shape[-1]))"
   ]
  },
  {
   "cell_type": "markdown",
   "id": "e72850b9",
   "metadata": {
    "papermill": {
     "duration": 0.021583,
     "end_time": "2025-05-08T22:02:52.919817",
     "exception": false,
     "start_time": "2025-05-08T22:02:52.898234",
     "status": "completed"
    },
    "tags": []
   },
   "source": [
    "# Dataset Class and Data Loaders"
   ]
  },
  {
   "cell_type": "code",
   "execution_count": 29,
   "id": "ec129e02",
   "metadata": {
    "execution": {
     "iopub.execute_input": "2025-05-08T22:02:52.965693Z",
     "iopub.status.busy": "2025-05-08T22:02:52.965027Z",
     "iopub.status.idle": "2025-05-08T22:02:52.968086Z",
     "shell.execute_reply": "2025-05-08T22:02:52.967571Z"
    },
    "papermill": {
     "duration": 0.027462,
     "end_time": "2025-05-08T22:02:52.969122",
     "exception": false,
     "start_time": "2025-05-08T22:02:52.941660",
     "status": "completed"
    },
    "tags": []
   },
   "outputs": [],
   "source": [
    "# x_data.shape"
   ]
  },
  {
   "cell_type": "code",
   "execution_count": 30,
   "id": "e09493ae",
   "metadata": {
    "execution": {
     "iopub.execute_input": "2025-05-08T22:02:53.013693Z",
     "iopub.status.busy": "2025-05-08T22:02:53.013302Z",
     "iopub.status.idle": "2025-05-08T22:02:53.016491Z",
     "shell.execute_reply": "2025-05-08T22:02:53.016003Z"
    },
    "papermill": {
     "duration": 0.026599,
     "end_time": "2025-05-08T22:02:53.017490",
     "exception": false,
     "start_time": "2025-05-08T22:02:52.990891",
     "status": "completed"
    },
    "tags": []
   },
   "outputs": [],
   "source": [
    "import itertools"
   ]
  },
  {
   "cell_type": "code",
   "execution_count": 31,
   "id": "285376df",
   "metadata": {
    "execution": {
     "iopub.execute_input": "2025-05-08T22:02:53.064080Z",
     "iopub.status.busy": "2025-05-08T22:02:53.063818Z",
     "iopub.status.idle": "2025-05-08T22:02:53.068251Z",
     "shell.execute_reply": "2025-05-08T22:02:53.067509Z"
    },
    "papermill": {
     "duration": 0.030493,
     "end_time": "2025-05-08T22:02:53.069839",
     "exception": false,
     "start_time": "2025-05-08T22:02:53.039346",
     "status": "completed"
    },
    "tags": []
   },
   "outputs": [],
   "source": [
    "import torch\n",
    "import itertools\n",
    "import numpy as np\n",
    "from torch_geometric.data import Data"
   ]
  },
  {
   "cell_type": "code",
   "execution_count": 32,
   "id": "ba68e0ac",
   "metadata": {
    "execution": {
     "iopub.execute_input": "2025-05-08T22:02:53.117224Z",
     "iopub.status.busy": "2025-05-08T22:02:53.116782Z",
     "iopub.status.idle": "2025-05-08T22:02:53.120056Z",
     "shell.execute_reply": "2025-05-08T22:02:53.119558Z"
    },
    "papermill": {
     "duration": 0.026667,
     "end_time": "2025-05-08T22:02:53.121083",
     "exception": false,
     "start_time": "2025-05-08T22:02:53.094416",
     "status": "completed"
    },
    "tags": []
   },
   "outputs": [],
   "source": [
    "# Function to calculate eta from theta\n",
    "def eta_from_theta(theta):\n",
    "    return -np.log(np.tan(theta/2))"
   ]
  },
  {
   "cell_type": "code",
   "execution_count": 33,
   "id": "ec838e48",
   "metadata": {
    "execution": {
     "iopub.execute_input": "2025-05-08T22:02:53.165297Z",
     "iopub.status.busy": "2025-05-08T22:02:53.164905Z",
     "iopub.status.idle": "2025-05-08T22:02:53.168406Z",
     "shell.execute_reply": "2025-05-08T22:02:53.167751Z"
    },
    "papermill": {
     "duration": 0.026704,
     "end_time": "2025-05-08T22:02:53.169524",
     "exception": false,
     "start_time": "2025-05-08T22:02:53.142820",
     "status": "completed"
    },
    "tags": []
   },
   "outputs": [],
   "source": [
    "def connect_edges(sin_phi1, sin_phi2,  cos_phi1, cos_phi2, eta1, eta2):\n",
    "    \n",
    "    \n",
    "    return [sin_phi2 - sin_phi1, \n",
    "                         cos_phi2 - cos_phi1, \n",
    "                         eta2 - eta1]"
   ]
  },
  {
   "cell_type": "code",
   "execution_count": 34,
   "id": "9dd36030",
   "metadata": {
    "execution": {
     "iopub.execute_input": "2025-05-08T22:02:53.214896Z",
     "iopub.status.busy": "2025-05-08T22:02:53.214286Z",
     "iopub.status.idle": "2025-05-08T22:02:53.218502Z",
     "shell.execute_reply": "2025-05-08T22:02:53.217827Z"
    },
    "papermill": {
     "duration": 0.02809,
     "end_time": "2025-05-08T22:02:53.219718",
     "exception": false,
     "start_time": "2025-05-08T22:02:53.191628",
     "status": "completed"
    },
    "tags": []
   },
   "outputs": [],
   "source": [
    "edge_index = []\n",
    "\n",
    "# # Loop through each possible pair of nodes (i, j)\n",
    "# for i in range(7):  # Nodes 0 to 6\n",
    "#     for j in range(7):  # Nodes 0 to 6\n",
    "#         if i != j:  # Avoid self-loops unless you want them\n",
    "#             edge_index.append((i, j)) = []\n",
    "\n",
    "# Loop through each possible pair of nodes (i, j)\n",
    "for i in range(4):  # Nodes 0 to 6\n",
    "    for j in range(4):  # Nodes 0 to 6\n",
    "        if i != j:  # Avoid self-loops unless you want them\n",
    "            edge_index.append((i, j))"
   ]
  },
  {
   "cell_type": "code",
   "execution_count": 35,
   "id": "1e42e0a2",
   "metadata": {
    "execution": {
     "iopub.execute_input": "2025-05-08T22:02:53.264739Z",
     "iopub.status.busy": "2025-05-08T22:02:53.264279Z",
     "iopub.status.idle": "2025-05-08T22:02:53.268945Z",
     "shell.execute_reply": "2025-05-08T22:02:53.268308Z"
    },
    "papermill": {
     "duration": 0.02814,
     "end_time": "2025-05-08T22:02:53.270060",
     "exception": false,
     "start_time": "2025-05-08T22:02:53.241920",
     "status": "completed"
    },
    "tags": []
   },
   "outputs": [
    {
     "data": {
      "text/plain": [
       "[(0, 1),\n",
       " (0, 2),\n",
       " (0, 3),\n",
       " (1, 0),\n",
       " (1, 2),\n",
       " (1, 3),\n",
       " (2, 0),\n",
       " (2, 1),\n",
       " (2, 3),\n",
       " (3, 0),\n",
       " (3, 1),\n",
       " (3, 2)]"
      ]
     },
     "execution_count": 35,
     "metadata": {},
     "output_type": "execute_result"
    }
   ],
   "source": [
    "edge_index"
   ]
  },
  {
   "cell_type": "code",
   "execution_count": 36,
   "id": "11017ff4",
   "metadata": {
    "execution": {
     "iopub.execute_input": "2025-05-08T22:02:53.319854Z",
     "iopub.status.busy": "2025-05-08T22:02:53.319516Z",
     "iopub.status.idle": "2025-05-08T22:02:53.326734Z",
     "shell.execute_reply": "2025-05-08T22:02:53.326038Z"
    },
    "papermill": {
     "duration": 0.035747,
     "end_time": "2025-05-08T22:02:53.327946",
     "exception": false,
     "start_time": "2025-05-08T22:02:53.292199",
     "status": "completed"
    },
    "tags": []
   },
   "outputs": [
    {
     "data": {
      "text/plain": [
       "(-1.5903115460911603, 2.9912255322219155)"
      ]
     },
     "execution_count": 36,
     "metadata": {},
     "output_type": "execute_result"
    }
   ],
   "source": [
    "# for i, j in edge_index:\n",
    "#     print(i,j)\n",
    "\n",
    "filtered_df['Theta_0'].min(), filtered_df['Theta_0'].max()"
   ]
  },
  {
   "cell_type": "code",
   "execution_count": 37,
   "id": "2b7fd97c",
   "metadata": {
    "execution": {
     "iopub.execute_input": "2025-05-08T22:02:53.373674Z",
     "iopub.status.busy": "2025-05-08T22:02:53.373410Z",
     "iopub.status.idle": "2025-05-08T22:02:53.381646Z",
     "shell.execute_reply": "2025-05-08T22:02:53.381058Z"
    },
    "papermill": {
     "duration": 0.032555,
     "end_time": "2025-05-08T22:02:53.382767",
     "exception": false,
     "start_time": "2025-05-08T22:02:53.350212",
     "status": "completed"
    },
    "tags": []
   },
   "outputs": [],
   "source": [
    "import numpy as np\n",
    "import torch\n",
    "from torch.utils.data import Dataset\n",
    "from torch_geometric.data import Data\n",
    "import itertools\n",
    "\n",
    "class Graph_dataset(Dataset):\n",
    "    def __init__(self, dataset, label, edge_index, indices, transform=None):\n",
    "        self.transform = transform\n",
    "        self.data = dataset\n",
    "        self.edge_index = torch.tensor(edge_index, dtype=torch.long).t().contiguous()  # Ensure correct shape\n",
    "        self.indices = indices\n",
    "        self.label = label\n",
    "    \n",
    "    def __getitem__(self, idx):\n",
    "        return self.convert_to_graph(self.indices[idx])\n",
    "    \n",
    "    def __len__(self):\n",
    "        return len(self.indices)\n",
    "    \n",
    "    def convert_to_graph(self, i):\n",
    "        # Extract row data for the current index\n",
    "        row = self.data.iloc[i]\n",
    "        \n",
    "        # Extract features\n",
    "        sin_phi_values = torch.tensor(row[['sin_Phi_0', 'sin_Phi_2', 'sin_Phi_3', 'sin_Phi_4']].values, dtype=torch.float)\n",
    "        cos_phi_values = torch.tensor(row[['cos_Phi_0', 'cos_Phi_2', 'cos_Phi_3', 'cos_Phi_4']].values, dtype=torch.float)\n",
    "        eta_values = torch.tensor(row[['Eta_0', 'Eta_2', 'Eta_3', 'Eta_4']].values, dtype=torch.float)\n",
    "        bend_angles = torch.tensor(row[['BendingAngle_0', 'BendingAngle_2', 'BendingAngle_3', 'BendingAngle_4']].values, dtype=torch.float)\n",
    "\n",
    "        # Create node features (4 nodes, 1 feature per node)\n",
    "        node_features = bend_angles.unsqueeze(1)  # Add dimension for feature\n",
    "  \n",
    "        edge_features = []\n",
    "        num_nodes = len(bend_angles)\n",
    "        \n",
    "        for k, j in itertools.permutations(range(num_nodes), 2):\n",
    "            sin_phi1, cos_phi1, eta1 = sin_phi_values[k].item(), cos_phi_values[k].item() ,  eta_values[k].item()\n",
    "            sin_phi2, cos_phi2, eta2 = sin_phi_values[j].item(), cos_phi_values[j].item() ,  eta_values[j].item()\n",
    "            \n",
    "            edge_feat = connect_edges(sin_phi1, sin_phi2,  cos_phi1, cos_phi2, eta1, eta2)\n",
    "            edge_features.append(edge_feat)\n",
    "        \n",
    "        edge_features = torch.tensor(edge_features, dtype=torch.float)  # Ensure correct dtype and shape\n",
    "\n",
    "        # Ensure edge_index and edge_attr have correct dimensions\n",
    "        assert edge_features.size(1) == 3, \"Edge features should have 3 dimensions\"\n",
    "        assert edge_features.size(0) == self.edge_index.size(1), \"Number of edges should match edge features\"\n",
    "        \n",
    "        # Create the graph data object\n",
    "        data = Data(\n",
    "            x=node_features, \n",
    "            edge_index=self.edge_index, \n",
    "            edge_attr=edge_features,\n",
    "            y=torch.tensor(self.label[i], dtype=torch.float)\n",
    "        )\n",
    "        \n",
    "        return data\n"
   ]
  },
  {
   "cell_type": "code",
   "execution_count": 38,
   "id": "680e1ab7",
   "metadata": {
    "execution": {
     "iopub.execute_input": "2025-05-08T22:02:53.430936Z",
     "iopub.status.busy": "2025-05-08T22:02:53.430135Z",
     "iopub.status.idle": "2025-05-08T22:02:53.435077Z",
     "shell.execute_reply": "2025-05-08T22:02:53.434342Z"
    },
    "papermill": {
     "duration": 0.030815,
     "end_time": "2025-05-08T22:02:53.436234",
     "exception": false,
     "start_time": "2025-05-08T22:02:53.405419",
     "status": "completed"
    },
    "tags": []
   },
   "outputs": [
    {
     "data": {
      "text/plain": [
       "array([693515, 275177, 215047, ..., 470924, 491755, 128037])"
      ]
     },
     "execution_count": 38,
     "metadata": {},
     "output_type": "execute_result"
    }
   ],
   "source": [
    "train_idx"
   ]
  },
  {
   "cell_type": "code",
   "execution_count": 39,
   "id": "a4795f28",
   "metadata": {
    "execution": {
     "iopub.execute_input": "2025-05-08T22:02:53.495600Z",
     "iopub.status.busy": "2025-05-08T22:02:53.495036Z",
     "iopub.status.idle": "2025-05-08T22:02:53.538170Z",
     "shell.execute_reply": "2025-05-08T22:02:53.537603Z"
    },
    "papermill": {
     "duration": 0.077946,
     "end_time": "2025-05-08T22:02:53.539252",
     "exception": false,
     "start_time": "2025-05-08T22:02:53.461306",
     "status": "completed"
    },
    "tags": []
   },
   "outputs": [
    {
     "data": {
      "text/plain": [
       "Data(x=[4, 1], edge_index=[2, 12], edge_attr=[12, 3], y=-0.6552883386611938)"
      ]
     },
     "execution_count": 39,
     "metadata": {},
     "output_type": "execute_result"
    }
   ],
   "source": [
    "train_dataset = Graph_dataset(filtered_df, label, edge_index, train_idx)\n",
    "next(iter(train_dataset))"
   ]
  },
  {
   "cell_type": "code",
   "execution_count": 40,
   "id": "c7759785",
   "metadata": {
    "execution": {
     "iopub.execute_input": "2025-05-08T22:02:53.585176Z",
     "iopub.status.busy": "2025-05-08T22:02:53.584476Z",
     "iopub.status.idle": "2025-05-08T22:02:54.282335Z",
     "shell.execute_reply": "2025-05-08T22:02:54.281575Z"
    },
    "papermill": {
     "duration": 0.722,
     "end_time": "2025-05-08T22:02:54.283774",
     "exception": false,
     "start_time": "2025-05-08T22:02:53.561774",
     "status": "completed"
    },
    "tags": []
   },
   "outputs": [],
   "source": [
    "import networkx as nx\n",
    "import matplotlib.pyplot as plt\n",
    "import random"
   ]
  },
  {
   "cell_type": "code",
   "execution_count": 41,
   "id": "b2d69b1e",
   "metadata": {
    "execution": {
     "iopub.execute_input": "2025-05-08T22:02:54.329609Z",
     "iopub.status.busy": "2025-05-08T22:02:54.329127Z",
     "iopub.status.idle": "2025-05-08T22:02:54.499684Z",
     "shell.execute_reply": "2025-05-08T22:02:54.499107Z"
    },
    "papermill": {
     "duration": 0.194447,
     "end_time": "2025-05-08T22:02:54.501064",
     "exception": false,
     "start_time": "2025-05-08T22:02:54.306617",
     "status": "completed"
    },
    "tags": []
   },
   "outputs": [
    {
     "data": {
      "image/png": "[encoded data removed]",
      "text/plain": [
       "<Figure size 640x480 with 1 Axes>"
      ]
     },
     "metadata": {},
     "output_type": "display_data"
    }
   ],
   "source": [
    "def plot_graph(data):\n",
    "    G = nx.Graph()\n",
    "    num_nodes = data.x.shape[0]\n",
    "    G.add_nodes_from(range(num_nodes))\n",
    "    edge_index = data.edge_index.numpy()\n",
    "    edges = list(zip(edge_index[0], edge_index[1]))\n",
    "    G.add_edges_from(edges)\n",
    "    \n",
    "    pos = nx.spring_layout(G)\n",
    "    nx.draw(G, pos, with_labels=True, node_color='skyblue', node_size=700, edge_color='gray')\n",
    "    plt.show()\n",
    "\n",
    "\n",
    "for idx in [0]:\n",
    "    graph_data = train_dataset[idx]\n",
    "    plot_graph(graph_data)"
   ]
  },
  {
   "cell_type": "markdown",
   "id": "281b74a8",
   "metadata": {
    "papermill": {
     "duration": 0.023063,
     "end_time": "2025-05-08T22:02:54.547708",
     "exception": false,
     "start_time": "2025-05-08T22:02:54.524645",
     "status": "completed"
    },
    "tags": []
   },
   "source": [
    "**Yes we wanted the fully connected graph**"
   ]
  },
  {
   "cell_type": "code",
   "execution_count": 42,
   "id": "382f9561",
   "metadata": {
    "execution": {
     "iopub.execute_input": "2025-05-08T22:02:54.594899Z",
     "iopub.status.busy": "2025-05-08T22:02:54.594592Z",
     "iopub.status.idle": "2025-05-08T22:02:54.599320Z",
     "shell.execute_reply": "2025-05-08T22:02:54.598830Z"
    },
    "papermill": {
     "duration": 0.029509,
     "end_time": "2025-05-08T22:02:54.600395",
     "exception": false,
     "start_time": "2025-05-08T22:02:54.570886",
     "status": "completed"
    },
    "tags": []
   },
   "outputs": [],
   "source": [
    "train_loader = DataLoader(Graph_dataset(filtered_df, label, edge_index , train_idx), batch_size=1024)\n",
    "test_loader = DataLoader(Graph_dataset(filtered_df, label, edge_index , test_idx), batch_size=1024)"
   ]
  },
  {
   "cell_type": "code",
   "execution_count": 43,
   "id": "e7989df3",
   "metadata": {
    "execution": {
     "iopub.execute_input": "2025-05-08T22:02:54.646006Z",
     "iopub.status.busy": "2025-05-08T22:02:54.645796Z",
     "iopub.status.idle": "2025-05-08T22:02:56.218791Z",
     "shell.execute_reply": "2025-05-08T22:02:56.218110Z"
    },
    "papermill": {
     "duration": 1.597061,
     "end_time": "2025-05-08T22:02:56.219948",
     "exception": false,
     "start_time": "2025-05-08T22:02:54.622887",
     "status": "completed"
    },
    "tags": []
   },
   "outputs": [
    {
     "data": {
      "text/plain": [
       "DataBatch(x=[4096, 1], edge_index=[2, 12288], edge_attr=[12288, 3], y=[1024], batch=[4096], ptr=[1025])"
      ]
     },
     "execution_count": 43,
     "metadata": {},
     "output_type": "execute_result"
    }
   ],
   "source": [
    "next(iter(train_loader))"
   ]
  },
  {
   "cell_type": "markdown",
   "id": "116cd229",
   "metadata": {
    "papermill": {
     "duration": 0.022392,
     "end_time": "2025-05-08T22:02:56.266342",
     "exception": false,
     "start_time": "2025-05-08T22:02:56.243950",
     "status": "completed"
    },
    "tags": []
   },
   "source": [
    "**We are all set with the dataset and the dataloader**"
   ]
  },
  {
   "cell_type": "markdown",
   "id": "d41b397d",
   "metadata": {
    "papermill": {
     "duration": 0.022407,
     "end_time": "2025-05-08T22:02:56.311281",
     "exception": false,
     "start_time": "2025-05-08T22:02:56.288874",
     "status": "completed"
    },
    "tags": []
   },
   "source": [
    "# Lets set the Model"
   ]
  },
  {
   "cell_type": "code",
   "execution_count": 44,
   "id": "56600ae4",
   "metadata": {
    "execution": {
     "iopub.execute_input": "2025-05-08T22:02:56.357880Z",
     "iopub.status.busy": "2025-05-08T22:02:56.357572Z",
     "iopub.status.idle": "2025-05-08T22:02:56.361262Z",
     "shell.execute_reply": "2025-05-08T22:02:56.360740Z"
    },
    "papermill": {
     "duration": 0.028197,
     "end_time": "2025-05-08T22:02:56.362294",
     "exception": false,
     "start_time": "2025-05-08T22:02:56.334097",
     "status": "completed"
    },
    "tags": []
   },
   "outputs": [],
   "source": [
    "from torch_geometric.nn import GCNConv, GATConv, SAGEConv\n",
    "from torch_geometric.utils import to_dense_batch\n",
    "import torch\n",
    "import torch.nn as nn\n",
    "import torch.nn.functional as F"
   ]
  },
  {
   "cell_type": "code",
   "execution_count": 45,
   "id": "1758147b",
   "metadata": {
    "execution": {
     "iopub.execute_input": "2025-05-08T22:02:56.409490Z",
     "iopub.status.busy": "2025-05-08T22:02:56.409210Z",
     "iopub.status.idle": "2025-05-08T22:02:56.412882Z",
     "shell.execute_reply": "2025-05-08T22:02:56.412223Z"
    },
    "papermill": {
     "duration": 0.028814,
     "end_time": "2025-05-08T22:02:56.413925",
     "exception": false,
     "start_time": "2025-05-08T22:02:56.385111",
     "status": "completed"
    },
    "tags": []
   },
   "outputs": [],
   "source": [
    "import torch\n",
    "import torch.nn.functional as F\n",
    "from torch_geometric.nn import MessagePassing, GlobalAttention"
   ]
  },
  {
   "cell_type": "code",
   "execution_count": 46,
   "id": "070bb630",
   "metadata": {
    "execution": {
     "iopub.execute_input": "2025-05-08T22:02:56.461649Z",
     "iopub.status.busy": "2025-05-08T22:02:56.461397Z",
     "iopub.status.idle": "2025-05-08T22:02:56.469654Z",
     "shell.execute_reply": "2025-05-08T22:02:56.469107Z"
    },
    "papermill": {
     "duration": 0.032232,
     "end_time": "2025-05-08T22:02:56.470708",
     "exception": false,
     "start_time": "2025-05-08T22:02:56.438476",
     "status": "completed"
    },
    "tags": []
   },
   "outputs": [],
   "source": [
    "import torch\n",
    "import torch.nn as nn\n",
    "import torch.nn.functional as F\n",
    "from torch_geometric.nn import EdgeConv, GlobalAttention\n",
    "\n",
    "class MODEL_GNN(torch.nn.Module):\n",
    "    def __init__(self):\n",
    "        super(MODEL_GNN, self).__init__()\n",
    "\n",
    "        # Replace MPL with EdgeConv\n",
    "        self.conv1 = EdgeConv(nn.Sequential(\n",
    "            nn.Linear(2 * 1, 8),\n",
    "            nn.ReLU(),\n",
    "            nn.Linear(8, 8)\n",
    "        ))\n",
    "\n",
    "        self.conv2 = EdgeConv(nn.Sequential(\n",
    "            nn.Linear(2 * 8, 12),\n",
    "            nn.ReLU(),\n",
    "            nn.Linear(12, 12)\n",
    "        ))\n",
    "\n",
    "        self.conv3 = EdgeConv(nn.Sequential(\n",
    "            nn.Linear(2 * 12, 12),\n",
    "            nn.ReLU(),\n",
    "            nn.Linear(12, 12)\n",
    "        ))\n",
    "\n",
    "        self.conv4 = EdgeConv(nn.Sequential(\n",
    "            nn.Linear(2 * 12, 16),\n",
    "            nn.ReLU(),\n",
    "            nn.Linear(16, 16)\n",
    "        ))\n",
    "\n",
    "        # Global attention pooling\n",
    "        self.global_att_pool1 = GlobalAttention(nn.Sequential(nn.Linear(12, 1)))\n",
    "        self.global_att_pool2 = GlobalAttention(nn.Sequential(nn.Linear(16, 1)))\n",
    "\n",
    "        # MLP head\n",
    "        self.lin1 = nn.Linear(28, 22)\n",
    "        self.lin2 = nn.Linear(22, 16)\n",
    "        self.lin3 = nn.Linear(16, 16)\n",
    "        self.lin4 = nn.Linear(16, 1)\n",
    "\n",
    "    def forward(self, data):\n",
    "        x, edge_index, batch = data.x, data.edge_index, data.batch\n",
    "\n",
    "        x = F.relu(self.conv1(x, edge_index))\n",
    "        x = F.relu(self.conv2(x, edge_index))\n",
    "        x1 = self.global_att_pool1(x, batch)\n",
    "\n",
    "        x = F.relu(self.conv3(x, edge_index))\n",
    "        x = F.relu(self.conv4(x, edge_index))\n",
    "        x2 = self.global_att_pool2(x, batch)\n",
    "\n",
    "        x_out = torch.cat([x1, x2], dim=1)\n",
    "        x = F.relu(self.lin1(x_out))\n",
    "        x = F.relu(self.lin2(x))\n",
    "        x = F.relu(self.lin3(x))\n",
    "        x = self.lin4(x).squeeze(1)\n",
    "\n",
    "        return x\n"
   ]
  },
  {
   "cell_type": "code",
   "execution_count": 47,
   "id": "95f0fd21",
   "metadata": {
    "execution": {
     "iopub.execute_input": "2025-05-08T22:02:56.516931Z",
     "iopub.status.busy": "2025-05-08T22:02:56.516358Z",
     "iopub.status.idle": "2025-05-08T22:02:56.707181Z",
     "shell.execute_reply": "2025-05-08T22:02:56.706593Z"
    },
    "papermill": {
     "duration": 0.215362,
     "end_time": "2025-05-08T22:02:56.708490",
     "exception": false,
     "start_time": "2025-05-08T22:02:56.493128",
     "status": "completed"
    },
    "tags": []
   },
   "outputs": [],
   "source": [
    "# Example usage:\n",
    "# Initialize your model\n",
    "device = torch.device('cuda' if torch.cuda.is_available() else 'cpu')\n",
    "model = MODEL_GNN().to(device)"
   ]
  },
  {
   "cell_type": "code",
   "execution_count": 48,
   "id": "4cbb62ba",
   "metadata": {
    "execution": {
     "iopub.execute_input": "2025-05-08T22:02:56.756953Z",
     "iopub.status.busy": "2025-05-08T22:02:56.756678Z",
     "iopub.status.idle": "2025-05-08T22:02:56.761269Z",
     "shell.execute_reply": "2025-05-08T22:02:56.760726Z"
    },
    "papermill": {
     "duration": 0.029824,
     "end_time": "2025-05-08T22:02:56.762247",
     "exception": false,
     "start_time": "2025-05-08T22:02:56.732423",
     "status": "completed"
    },
    "tags": []
   },
   "outputs": [
    {
     "data": {
      "text/plain": [
       "MODEL_GNN(\n",
       "  (conv1): EdgeConv(nn=Sequential(\n",
       "    (0): Linear(in_features=2, out_features=8, bias=True)\n",
       "    (1): ReLU()\n",
       "    (2): Linear(in_features=8, out_features=8, bias=True)\n",
       "  ))\n",
       "  (conv2): EdgeConv(nn=Sequential(\n",
       "    (0): Linear(in_features=16, out_features=12, bias=True)\n",
       "    (1): ReLU()\n",
       "    (2): Linear(in_features=12, out_features=12, bias=True)\n",
       "  ))\n",
       "  (conv3): EdgeConv(nn=Sequential(\n",
       "    (0): Linear(in_features=24, out_features=12, bias=True)\n",
       "    (1): ReLU()\n",
       "    (2): Linear(in_features=12, out_features=12, bias=True)\n",
       "  ))\n",
       "  (conv4): EdgeConv(nn=Sequential(\n",
       "    (0): Linear(in_features=24, out_features=16, bias=True)\n",
       "    (1): ReLU()\n",
       "    (2): Linear(in_features=16, out_features=16, bias=True)\n",
       "  ))\n",
       "  (global_att_pool1): GlobalAttention(gate_nn=Sequential(\n",
       "    (0): Linear(in_features=12, out_features=1, bias=True)\n",
       "  ), nn=None)\n",
       "  (global_att_pool2): GlobalAttention(gate_nn=Sequential(\n",
       "    (0): Linear(in_features=16, out_features=1, bias=True)\n",
       "  ), nn=None)\n",
       "  (lin1): Linear(in_features=28, out_features=22, bias=True)\n",
       "  (lin2): Linear(in_features=22, out_features=16, bias=True)\n",
       "  (lin3): Linear(in_features=16, out_features=16, bias=True)\n",
       "  (lin4): Linear(in_features=16, out_features=1, bias=True)\n",
       ")"
      ]
     },
     "execution_count": 48,
     "metadata": {},
     "output_type": "execute_result"
    }
   ],
   "source": [
    "model"
   ]
  },
  {
   "cell_type": "code",
   "execution_count": 49,
   "id": "cfaac519",
   "metadata": {
    "execution": {
     "iopub.execute_input": "2025-05-08T22:02:56.810772Z",
     "iopub.status.busy": "2025-05-08T22:02:56.810076Z",
     "iopub.status.idle": "2025-05-08T22:02:56.815795Z",
     "shell.execute_reply": "2025-05-08T22:02:56.815033Z"
    },
    "papermill": {
     "duration": 0.030771,
     "end_time": "2025-05-08T22:02:56.816935",
     "exception": false,
     "start_time": "2025-05-08T22:02:56.786164",
     "status": "completed"
    },
    "tags": []
   },
   "outputs": [
    {
     "name": "stdout",
     "output_type": "stream",
     "text": [
      "Total number of parameters: 2909\n",
      "Number of learnable parameters: 2909\n"
     ]
    }
   ],
   "source": [
    "total_params = sum(p.numel() for p in model.parameters())\n",
    "learnable_params = sum(p.numel() for p in model.parameters() if p.requires_grad)\n",
    "\n",
    "print(f\"Total number of parameters: {total_params}\")\n",
    "print(f\"Number of learnable parameters: {learnable_params}\")"
   ]
  },
  {
   "cell_type": "code",
   "execution_count": 50,
   "id": "21fab780",
   "metadata": {
    "execution": {
     "iopub.execute_input": "2025-05-08T22:02:56.864112Z",
     "iopub.status.busy": "2025-05-08T22:02:56.863873Z",
     "iopub.status.idle": "2025-05-08T22:02:56.868471Z",
     "shell.execute_reply": "2025-05-08T22:02:56.867815Z"
    },
    "papermill": {
     "duration": 0.029446,
     "end_time": "2025-05-08T22:02:56.869469",
     "exception": false,
     "start_time": "2025-05-08T22:02:56.840023",
     "status": "completed"
    },
    "tags": []
   },
   "outputs": [
    {
     "data": {
      "text/plain": [
       "MODEL_GNN(\n",
       "  (conv1): EdgeConv(nn=Sequential(\n",
       "    (0): Linear(in_features=2, out_features=8, bias=True)\n",
       "    (1): ReLU()\n",
       "    (2): Linear(in_features=8, out_features=8, bias=True)\n",
       "  ))\n",
       "  (conv2): EdgeConv(nn=Sequential(\n",
       "    (0): Linear(in_features=16, out_features=12, bias=True)\n",
       "    (1): ReLU()\n",
       "    (2): Linear(in_features=12, out_features=12, bias=True)\n",
       "  ))\n",
       "  (conv3): EdgeConv(nn=Sequential(\n",
       "    (0): Linear(in_features=24, out_features=12, bias=True)\n",
       "    (1): ReLU()\n",
       "    (2): Linear(in_features=12, out_features=12, bias=True)\n",
       "  ))\n",
       "  (conv4): EdgeConv(nn=Sequential(\n",
       "    (0): Linear(in_features=24, out_features=16, bias=True)\n",
       "    (1): ReLU()\n",
       "    (2): Linear(in_features=16, out_features=16, bias=True)\n",
       "  ))\n",
       "  (global_att_pool1): GlobalAttention(gate_nn=Sequential(\n",
       "    (0): Linear(in_features=12, out_features=1, bias=True)\n",
       "  ), nn=None)\n",
       "  (global_att_pool2): GlobalAttention(gate_nn=Sequential(\n",
       "    (0): Linear(in_features=16, out_features=1, bias=True)\n",
       "  ), nn=None)\n",
       "  (lin1): Linear(in_features=28, out_features=22, bias=True)\n",
       "  (lin2): Linear(in_features=22, out_features=16, bias=True)\n",
       "  (lin3): Linear(in_features=16, out_features=16, bias=True)\n",
       "  (lin4): Linear(in_features=16, out_features=1, bias=True)\n",
       ")"
      ]
     },
     "execution_count": 50,
     "metadata": {},
     "output_type": "execute_result"
    }
   ],
   "source": [
    "model"
   ]
  },
  {
   "cell_type": "code",
   "execution_count": 51,
   "id": "fcb31f05",
   "metadata": {
    "execution": {
     "iopub.execute_input": "2025-05-08T22:02:56.916975Z",
     "iopub.status.busy": "2025-05-08T22:02:56.916740Z",
     "iopub.status.idle": "2025-05-08T22:02:56.924886Z",
     "shell.execute_reply": "2025-05-08T22:02:56.924353Z"
    },
    "papermill": {
     "duration": 0.033238,
     "end_time": "2025-05-08T22:02:56.926010",
     "exception": false,
     "start_time": "2025-05-08T22:02:56.892772",
     "status": "completed"
    },
    "tags": []
   },
   "outputs": [
    {
     "data": {
      "text/plain": [
       "Data(x=[4, 1], edge_index=[2, 12], edge_attr=[12, 3], y=2.224287271499634)"
      ]
     },
     "execution_count": 51,
     "metadata": {},
     "output_type": "execute_result"
    }
   ],
   "source": [
    "train_dataset[20]"
   ]
  },
  {
   "cell_type": "code",
   "execution_count": 52,
   "id": "dfe96867",
   "metadata": {
    "execution": {
     "iopub.execute_input": "2025-05-08T22:02:56.974335Z",
     "iopub.status.busy": "2025-05-08T22:02:56.974062Z",
     "iopub.status.idle": "2025-05-08T22:02:56.980769Z",
     "shell.execute_reply": "2025-05-08T22:02:56.980227Z"
    },
    "papermill": {
     "duration": 0.031959,
     "end_time": "2025-05-08T22:02:56.981839",
     "exception": false,
     "start_time": "2025-05-08T22:02:56.949880",
     "status": "completed"
    },
    "tags": []
   },
   "outputs": [],
   "source": [
    "data = train_dataset[20]  # Get the data instance\n",
    "x = data.x  # Node features: shape [4, 1]\n",
    "edge_index = data.edge_index  # Edge indices: shape [2, 12]\n",
    "edge_attr = data.edge_attr  # Edge attributes: shape [12, 3]\n",
    "batch = torch.zeros(x.size(0), dtype=torch.long) "
   ]
  },
  {
   "cell_type": "code",
   "execution_count": 53,
   "id": "8bbf057f",
   "metadata": {
    "execution": {
     "iopub.execute_input": "2025-05-08T22:02:57.030315Z",
     "iopub.status.busy": "2025-05-08T22:02:57.029829Z",
     "iopub.status.idle": "2025-05-08T22:02:57.033008Z",
     "shell.execute_reply": "2025-05-08T22:02:57.032416Z"
    },
    "papermill": {
     "duration": 0.028964,
     "end_time": "2025-05-08T22:02:57.034099",
     "exception": false,
     "start_time": "2025-05-08T22:02:57.005135",
     "status": "completed"
    },
    "tags": []
   },
   "outputs": [],
   "source": [
    "# Forward pass with input data x and edge_index"
   ]
  },
  {
   "cell_type": "code",
   "execution_count": 54,
   "id": "770f0a78",
   "metadata": {
    "execution": {
     "iopub.execute_input": "2025-05-08T22:02:57.081982Z",
     "iopub.status.busy": "2025-05-08T22:02:57.081395Z",
     "iopub.status.idle": "2025-05-08T22:02:57.084872Z",
     "shell.execute_reply": "2025-05-08T22:02:57.084317Z"
    },
    "papermill": {
     "duration": 0.028484,
     "end_time": "2025-05-08T22:02:57.086011",
     "exception": false,
     "start_time": "2025-05-08T22:02:57.057527",
     "status": "completed"
    },
    "tags": []
   },
   "outputs": [],
   "source": [
    "# Define the MSE loss function\n",
    "import torch.nn as nn\n",
    "criterion = nn.MSELoss()"
   ]
  },
  {
   "cell_type": "code",
   "execution_count": 55,
   "id": "c763a355",
   "metadata": {
    "execution": {
     "iopub.execute_input": "2025-05-08T22:02:57.134092Z",
     "iopub.status.busy": "2025-05-08T22:02:57.133459Z",
     "iopub.status.idle": "2025-05-08T22:02:57.141630Z",
     "shell.execute_reply": "2025-05-08T22:02:57.141101Z"
    },
    "papermill": {
     "duration": 0.033425,
     "end_time": "2025-05-08T22:02:57.142802",
     "exception": false,
     "start_time": "2025-05-08T22:02:57.109377",
     "status": "completed"
    },
    "tags": []
   },
   "outputs": [],
   "source": [
    "def train(train_loader, test_loader, prog_bar = True):\n",
    "    \n",
    "    train_losses, test_losses = list(), list()\n",
    "    min_test_loss = float('inf')\n",
    "#     criterion = nn.MSELoss()\n",
    "    for epoch in range(epochs):\n",
    "        train_loss = 0\n",
    "        test_loss = 0\n",
    "        if prog_bar:\n",
    "            pbar = tqdm(train_loader,position=0)\n",
    "        else:\n",
    "            pbar = train_loader\n",
    "            \n",
    "        # train\n",
    "        for data in pbar:\n",
    "            data = data.to(device)\n",
    "            optimizer.zero_grad()\n",
    "            out = model(data)\n",
    "            labels = data.y\n",
    "            loss = CustompTLoss(out, data.y,min_PT)\n",
    "            loss.backward()\n",
    "            optimizer.step()\n",
    "            if prog_bar:\n",
    "                pbar.set_description('pTLoss: '+str(loss.cpu().detach().numpy()))\n",
    "                train_loss += loss.cpu().detach().numpy()/len(train_loader)\n",
    "                \n",
    "        # test\n",
    "        for data in test_loader:\n",
    "            data = data.to(device)\n",
    "            optimizer.zero_grad()\n",
    "            out = model(data)\n",
    "            labels = data.y\n",
    "            loss = CustompTLoss(out, data.y,min_PT)\n",
    "            test_loss += loss.cpu().detach().numpy()/len(test_loader)\n",
    "        if test_loss<min_test_loss:\n",
    "            print('Min loss changed from '+str(min_test_loss)+' to '+str(test_loss))\n",
    "            min_test_loss = test_loss\n",
    "            torch.save(model.state_dict(), model_name)\n",
    "        train_losses.append(train_loss)\n",
    "        test_losses.append(test_loss)\n",
    "        if epoch > 10 and min(test_losses[-7:])>min_test_loss+1e-9:\n",
    "            break\n",
    "        lr_scheduler.step(test_loss)\n",
    "        print('Epoch: ', str(epoch+1)+'/'+str(epochs),'| Training Loss: ', train_loss, '| Testing Loss: ', test_loss)\n",
    "        \n",
    "        if prog_bar and (epoch%5==0):\n",
    "            plt.plot(train_losses, label=\"Train Loss\")\n",
    "            plt.plot(test_losses, label=\"Validation Loss\")\n",
    "            plt.xlabel(\"# Epoch\")\n",
    "            plt.ylabel(\"Loss\")\n",
    "            plt.legend(loc='upper right')\n",
    "            plt.show()\n",
    "    return train_losses, test_losses"
   ]
  },
  {
   "cell_type": "code",
   "execution_count": 56,
   "id": "010a4631",
   "metadata": {
    "execution": {
     "iopub.execute_input": "2025-05-08T22:02:57.191639Z",
     "iopub.status.busy": "2025-05-08T22:02:57.191336Z",
     "iopub.status.idle": "2025-05-08T22:02:57.197652Z",
     "shell.execute_reply": "2025-05-08T22:02:57.196920Z"
    },
    "papermill": {
     "duration": 0.032219,
     "end_time": "2025-05-08T22:02:57.198895",
     "exception": false,
     "start_time": "2025-05-08T22:02:57.166676",
     "status": "completed"
    },
    "tags": []
   },
   "outputs": [],
   "source": [
    "def pTLossTorch(y_pred,y_true):\n",
    "#     if not inv:\n",
    "#         y_pred = torch.pow(y_pred,-1)\n",
    "#         y_true = torch.pow(y_true,-1)\n",
    "    y_t = (y_true<80).type(torch.FloatTensor)*y_true.type(torch.FloatTensor) + (y_true>=80).type(torch.FloatTensor)*(y_true<250).type(torch.FloatTensor)*y_true.type(torch.FloatTensor)**2.4 + (y_true>=160).type(torch.FloatTensor)*10 \n",
    "    return torch.mean(y_t.type(torch.FloatTensor)*torch.pow((y_pred-y_true)/y_true,2).type(torch.FloatTensor))/250\n",
    "\n",
    "def CustompTLoss(output, target, lower_pt_limit):\n",
    "    \n",
    "    if not isinstance(lower_pt_limit, torch.Tensor):\n",
    "        lower_pt_limit = torch.tensor(lower_pt_limit)\n",
    "    \n",
    "    lower_pt_limit = lower_pt_limit.to(output.dtype)\n",
    "    output =torch.clip(output, min=lower_pt_limit.to(device))\n",
    "    loss = torch.mean((target - output)**2 + torch.gt(output, lower_pt_limit.long() * \\\n",
    "        (1 / (1 + torch.exp(-(output - lower_pt_limit) * 3)) - 1) + \\\n",
    "            torch.le(output, lower_pt_limit).long()*(-1/2)))\n",
    "    return loss\n",
    "\n"
   ]
  },
  {
   "cell_type": "code",
   "execution_count": 57,
   "id": "0338630d",
   "metadata": {
    "execution": {
     "iopub.execute_input": "2025-05-08T22:02:57.246737Z",
     "iopub.status.busy": "2025-05-08T22:02:57.246207Z",
     "iopub.status.idle": "2025-05-08T22:02:57.249846Z",
     "shell.execute_reply": "2025-05-08T22:02:57.249120Z"
    },
    "papermill": {
     "duration": 0.028754,
     "end_time": "2025-05-08T22:02:57.251011",
     "exception": false,
     "start_time": "2025-05-08T22:02:57.222257",
     "status": "completed"
    },
    "tags": []
   },
   "outputs": [],
   "source": [
    "name =  f\"CONVERTED_graph\""
   ]
  },
  {
   "cell_type": "code",
   "execution_count": 58,
   "id": "46e329a2",
   "metadata": {
    "execution": {
     "iopub.execute_input": "2025-05-08T22:02:57.298338Z",
     "iopub.status.busy": "2025-05-08T22:02:57.297701Z",
     "iopub.status.idle": "2025-05-08T22:02:57.302203Z",
     "shell.execute_reply": "2025-05-08T22:02:57.301484Z"
    },
    "papermill": {
     "duration": 0.029202,
     "end_time": "2025-05-08T22:02:57.303236",
     "exception": false,
     "start_time": "2025-05-08T22:02:57.274034",
     "status": "completed"
    },
    "tags": []
   },
   "outputs": [],
   "source": [
    "min_PT = label.min()"
   ]
  },
  {
   "cell_type": "code",
   "execution_count": 59,
   "id": "3f2c243f",
   "metadata": {
    "execution": {
     "iopub.execute_input": "2025-05-08T22:02:57.350777Z",
     "iopub.status.busy": "2025-05-08T22:02:57.350187Z",
     "iopub.status.idle": "2025-05-08T22:02:57.354174Z",
     "shell.execute_reply": "2025-05-08T22:02:57.353662Z"
    },
    "papermill": {
     "duration": 0.028514,
     "end_time": "2025-05-08T22:02:57.355199",
     "exception": false,
     "start_time": "2025-05-08T22:02:57.326685",
     "status": "completed"
    },
    "tags": []
   },
   "outputs": [],
   "source": [
    "max_pT = label.max()"
   ]
  },
  {
   "cell_type": "code",
   "execution_count": 60,
   "id": "f21874c3",
   "metadata": {
    "execution": {
     "iopub.execute_input": "2025-05-08T22:02:57.403272Z",
     "iopub.status.busy": "2025-05-08T22:02:57.402623Z",
     "iopub.status.idle": "2025-05-09T02:22:04.625422Z",
     "shell.execute_reply": "2025-05-09T02:22:04.624680Z"
    },
    "papermill": {
     "duration": 15547.273816,
     "end_time": "2025-05-09T02:22:04.652126",
     "exception": false,
     "start_time": "2025-05-08T22:02:57.378310",
     "status": "completed"
    },
    "tags": []
   },
   "outputs": [
    {
     "data": {
      "application/vnd.jupyter.widget-view+json": {
       "model_id": "fcad243b36684af5a3fe39984e04d257",
       "version_major": 2,
       "version_minor": 0
      },
      "text/plain": [
       "  0%|          | 0/805 [00:00<?, ?it/s]"
      ]
     },
     "metadata": {},
     "output_type": "display_data"
    },
    {
     "name": "stdout",
     "output_type": "stream",
     "text": [
      "Min loss changed from inf to 0.905650906928695\n",
      "Epoch:  1/10 | Training Loss:  1.0166413537463797 | Testing Loss:  0.905650906928695\n"
     ]
    },
    {
     "data": {
      "image/png": "[encoded data removed]",
      "text/plain": [
       "<Figure size 640x480 with 1 Axes>"
      ]
     },
     "metadata": {},
     "output_type": "display_data"
    },
    {
     "data": {
      "application/vnd.jupyter.widget-view+json": {
       "model_id": "b2bd621b6f5541deab65c121aa11c5f6",
       "version_major": 2,
       "version_minor": 0
      },
      "text/plain": [
       "  0%|          | 0/805 [00:00<?, ?it/s]"
      ]
     },
     "metadata": {},
     "output_type": "display_data"
    },
    {
     "name": "stdout",
     "output_type": "stream",
     "text": [
      "Epoch:  2/10 | Training Loss:  0.9188114760825337 | Testing Loss:  0.9293821613387311\n"
     ]
    },
    {
     "data": {
      "application/vnd.jupyter.widget-view+json": {
       "model_id": "6a3fcd7fa36645f48f33dfc7eea11c0e",
       "version_major": 2,
       "version_minor": 0
      },
      "text/plain": [
       "  0%|          | 0/805 [00:00<?, ?it/s]"
      ]
     },
     "metadata": {},
     "output_type": "display_data"
    },
    {
     "name": "stdout",
     "output_type": "stream",
     "text": [
      "Epoch:  3/10 | Training Loss:  0.9165057958283047 | Testing Loss:  0.9246309721233822\n"
     ]
    },
    {
     "data": {
      "application/vnd.jupyter.widget-view+json": {
       "model_id": "85fc7c8a104b486294a5d9e101c530b8",
       "version_major": 2,
       "version_minor": 0
      },
      "text/plain": [
       "  0%|          | 0/805 [00:00<?, ?it/s]"
      ]
     },
     "metadata": {},
     "output_type": "display_data"
    },
    {
     "name": "stdout",
     "output_type": "stream",
     "text": [
      "Min loss changed from 0.905650906928695 to 0.8994410964522035\n",
      "Epoch:  4/10 | Training Loss:  0.9140117385372609 | Testing Loss:  0.8994410964522035\n"
     ]
    },
    {
     "data": {
      "application/vnd.jupyter.widget-view+json": {
       "model_id": "77af7bd65e53420d8d12b558c664e915",
       "version_major": 2,
       "version_minor": 0
      },
      "text/plain": [
       "  0%|          | 0/805 [00:00<?, ?it/s]"
      ]
     },
     "metadata": {},
     "output_type": "display_data"
    },
    {
     "name": "stdout",
     "output_type": "stream",
     "text": [
      "Min loss changed from 0.8994410964522035 to 0.8985894419769249\n",
      "Epoch:  5/10 | Training Loss:  0.9132441146773587 | Testing Loss:  0.8985894419769249\n"
     ]
    },
    {
     "data": {
      "application/vnd.jupyter.widget-view+json": {
       "model_id": "5f1b85fafa224b369b3934755e614979",
       "version_major": 2,
       "version_minor": 0
      },
      "text/plain": [
       "  0%|          | 0/805 [00:00<?, ?it/s]"
      ]
     },
     "metadata": {},
     "output_type": "display_data"
    },
    {
     "name": "stdout",
     "output_type": "stream",
     "text": [
      "Min loss changed from 0.8985894419769249 to 0.8959832513096309\n",
      "Epoch:  6/10 | Training Loss:  0.9120590258829352 | Testing Loss:  0.8959832513096309\n"
     ]
    },
    {
     "data": {
      "image/png": "[encoded data removed]",
      "text/plain": [
       "<Figure size 640x480 with 1 Axes>"
      ]
     },
     "metadata": {},
     "output_type": "display_data"
    },
    {
     "data": {
      "application/vnd.jupyter.widget-view+json": {
       "model_id": "fe2654181f6649c2ae2fdcaf4e8078eb",
       "version_major": 2,
       "version_minor": 0
      },
      "text/plain": [
       "  0%|          | 0/805 [00:00<?, ?it/s]"
      ]
     },
     "metadata": {},
     "output_type": "display_data"
    },
    {
     "name": "stdout",
     "output_type": "stream",
     "text": [
      "Min loss changed from 0.8959832513096309 to 0.8943100683759933\n",
      "Epoch:  7/10 | Training Loss:  0.9112184781465469 | Testing Loss:  0.8943100683759933\n"
     ]
    },
    {
     "data": {
      "application/vnd.jupyter.widget-view+json": {
       "model_id": "5aee9c215cc64ca39f709c0e62a72878",
       "version_major": 2,
       "version_minor": 0
      },
      "text/plain": [
       "  0%|          | 0/805 [00:00<?, ?it/s]"
      ]
     },
     "metadata": {},
     "output_type": "display_data"
    },
    {
     "name": "stdout",
     "output_type": "stream",
     "text": [
      "Min loss changed from 0.8943100683759933 to 0.8939863074534012\n",
      "Epoch:  8/10 | Training Loss:  0.9106351438516418 | Testing Loss:  0.8939863074534012\n"
     ]
    },
    {
     "data": {
      "application/vnd.jupyter.widget-view+json": {
       "model_id": "b3dc01d295a846ba8d8440e11f3c781c",
       "version_major": 2,
       "version_minor": 0
      },
      "text/plain": [
       "  0%|          | 0/805 [00:00<?, ?it/s]"
      ]
     },
     "metadata": {},
     "output_type": "display_data"
    },
    {
     "name": "stdout",
     "output_type": "stream",
     "text": [
      "Min loss changed from 0.8939863074534012 to 0.892610831720994\n",
      "Epoch:  9/10 | Training Loss:  0.910351104691902 | Testing Loss:  0.892610831720994\n"
     ]
    },
    {
     "data": {
      "application/vnd.jupyter.widget-view+json": {
       "model_id": "815d5b1af8454b40aa25d09ec5a42bb2",
       "version_major": 2,
       "version_minor": 0
      },
      "text/plain": [
       "  0%|          | 0/805 [00:00<?, ?it/s]"
      ]
     },
     "metadata": {},
     "output_type": "display_data"
    },
    {
     "name": "stdout",
     "output_type": "stream",
     "text": [
      "Min loss changed from 0.892610831720994 to 0.8918267163899863\n",
      "Epoch:  10/10 | Training Loss:  0.9099331623278788 | Testing Loss:  0.8918267163899863\n"
     ]
    }
   ],
   "source": [
    "epochs = 50\n",
    "model = MODEL_GNN().to(device)\n",
    "# model.load_state_dict(torch.load(\"/kaggle/input/eachstation-node-v4-4ddf6b/model_trained/CONVERTED_graph_lossno_inv_A2.pth\"))\n",
    "optimizer = torch.optim.Adam(model.parameters(), lr=0.001, weight_decay=5e-4)\n",
    "# optimizer = torch.optim.Adam(model.parameters(), lr=0.002, weight_decay=5e-4)\n",
    "lr_scheduler = torch.optim.lr_scheduler.ReduceLROnPlateau(optimizer, verbose=True, patience=1, factor=0.5)\n",
    "\n",
    "model_name = f'/kaggle/working/model_trained/{name}_loss' + 'no_inv_A2' + '.pth'\n",
    "os.makedirs(\"/kaggle/working/model_trained\" , exist_ok =True)\n",
    "train_losses, test_losses = train(train_loader, test_loader, prog_bar=True)"
   ]
  },
  {
   "cell_type": "markdown",
   "id": "072effdf",
   "metadata": {
    "papermill": {
     "duration": 0.024506,
     "end_time": "2025-05-09T02:22:04.701428",
     "exception": false,
     "start_time": "2025-05-09T02:22:04.676922",
     "status": "completed"
    },
    "tags": []
   },
   "source": [
    "# TESTING"
   ]
  },
  {
   "cell_type": "markdown",
   "id": "443d7872",
   "metadata": {
    "papermill": {
     "duration": 0.024217,
     "end_time": "2025-05-09T02:22:04.750086",
     "exception": false,
     "start_time": "2025-05-09T02:22:04.725869",
     "status": "completed"
    },
    "tags": []
   },
   "source": [
    "## Metrics"
   ]
  },
  {
   "cell_type": "code",
   "execution_count": 61,
   "id": "ed52dd75",
   "metadata": {
    "execution": {
     "iopub.execute_input": "2025-05-09T02:22:04.800673Z",
     "iopub.status.busy": "2025-05-09T02:22:04.800372Z",
     "iopub.status.idle": "2025-05-09T02:22:04.805219Z",
     "shell.execute_reply": "2025-05-09T02:22:04.804692Z"
    },
    "papermill": {
     "duration": 0.031009,
     "end_time": "2025-05-09T02:22:04.806222",
     "exception": false,
     "start_time": "2025-05-09T02:22:04.775213",
     "status": "completed"
    },
    "tags": []
   },
   "outputs": [],
   "source": [
    "def f1_comp(y_true,y_pred):\n",
    "    f1 = []\n",
    "    for i in range(100): \n",
    "        grnd = y_true >= i\n",
    "        pred = y_pred >= i\n",
    "        f1.append(sklearn.metrics.f1_score(grnd,pred))\n",
    "    return f1\n",
    "\n",
    "def acc_comp(y_true,y_pred):\n",
    "    acc = []\n",
    "    for i in range(100):\n",
    "        grnd = y_true >= i\n",
    "        pred = y_pred >= i\n",
    "        cmp = np.sum(np.equal(grnd,np.squeeze(pred))) \n",
    "        acc.append(cmp/len(grnd)*100)\n",
    "    return acc"
   ]
  },
  {
   "cell_type": "code",
   "execution_count": 62,
   "id": "fc92ad56",
   "metadata": {
    "execution": {
     "iopub.execute_input": "2025-05-09T02:22:04.856436Z",
     "iopub.status.busy": "2025-05-09T02:22:04.855973Z",
     "iopub.status.idle": "2025-05-09T02:22:04.871070Z",
     "shell.execute_reply": "2025-05-09T02:22:04.870410Z"
    },
    "papermill": {
     "duration": 0.041209,
     "end_time": "2025-05-09T02:22:04.872187",
     "exception": false,
     "start_time": "2025-05-09T02:22:04.830978",
     "status": "completed"
    },
    "tags": []
   },
   "outputs": [
    {
     "data": {
      "text/plain": [
       "<All keys matched successfully>"
      ]
     },
     "execution_count": 62,
     "metadata": {},
     "output_type": "execute_result"
    }
   ],
   "source": [
    "# model_name = f'/kaggle/working/model_trained/{name}_loss' + 'no_inv_' + '.pth'\n",
    "# model_name = \"/kaggle/input/eachstation-node-v2/model_trained/CONVERTED_graph_lossno_inv_A2.pth\"\n",
    "device = torch.device('cuda' if torch.cuda.is_available() else 'cpu')\n",
    "loaded_model = MODEL_GNN().to(device)\n",
    "loaded_model.load_state_dict(torch.load(model_name))"
   ]
  },
  {
   "cell_type": "code",
   "execution_count": 63,
   "id": "2a688ef7",
   "metadata": {
    "execution": {
     "iopub.execute_input": "2025-05-09T02:22:04.924471Z",
     "iopub.status.busy": "2025-05-09T02:22:04.924259Z",
     "iopub.status.idle": "2025-05-09T02:22:04.927402Z",
     "shell.execute_reply": "2025-05-09T02:22:04.926931Z"
    },
    "papermill": {
     "duration": 0.031598,
     "end_time": "2025-05-09T02:22:04.928361",
     "exception": false,
     "start_time": "2025-05-09T02:22:04.896763",
     "status": "completed"
    },
    "tags": []
   },
   "outputs": [],
   "source": [
    "import numpy as np\n",
    "import sklearn.metrics\n",
    "import torch\n",
    "from torch.utils.data import DataLoader\n",
    "from tqdm import tqdm"
   ]
  },
  {
   "cell_type": "code",
   "execution_count": 64,
   "id": "164332e3",
   "metadata": {
    "execution": {
     "iopub.execute_input": "2025-05-09T02:22:04.978164Z",
     "iopub.status.busy": "2025-05-09T02:22:04.977964Z",
     "iopub.status.idle": "2025-05-09T02:27:19.015822Z",
     "shell.execute_reply": "2025-05-09T02:27:19.014972Z"
    },
    "papermill": {
     "duration": 314.064329,
     "end_time": "2025-05-09T02:27:19.017155",
     "exception": false,
     "start_time": "2025-05-09T02:22:04.952826",
     "status": "completed"
    },
    "tags": []
   },
   "outputs": [
    {
     "name": "stderr",
     "output_type": "stream",
     "text": [
      "  0%|          | 1/202 [00:01<05:07,  1.53s/it]"
     ]
    },
    {
     "name": "stdout",
     "output_type": "stream",
     "text": [
      "DataBatch(x=[4096, 1], edge_index=[2, 12288], edge_attr=[12288, 3], y=[1024], batch=[4096], ptr=[1025])\n"
     ]
    },
    {
     "name": "stderr",
     "output_type": "stream",
     "text": [
      "  1%|          | 2/202 [00:03<05:30,  1.65s/it]"
     ]
    },
    {
     "name": "stdout",
     "output_type": "stream",
     "text": [
      "DataBatch(x=[4096, 1], edge_index=[2, 12288], edge_attr=[12288, 3], y=[1024], batch=[4096], ptr=[1025])\n"
     ]
    },
    {
     "name": "stderr",
     "output_type": "stream",
     "text": [
      "  1%|▏         | 3/202 [00:04<05:15,  1.58s/it]"
     ]
    },
    {
     "name": "stdout",
     "output_type": "stream",
     "text": [
      "DataBatch(x=[4096, 1], edge_index=[2, 12288], edge_attr=[12288, 3], y=[1024], batch=[4096], ptr=[1025])\n"
     ]
    },
    {
     "name": "stderr",
     "output_type": "stream",
     "text": [
      "  2%|▏         | 4/202 [00:06<05:10,  1.57s/it]"
     ]
    },
    {
     "name": "stdout",
     "output_type": "stream",
     "text": [
      "DataBatch(x=[4096, 1], edge_index=[2, 12288], edge_attr=[12288, 3], y=[1024], batch=[4096], ptr=[1025])\n"
     ]
    },
    {
     "name": "stderr",
     "output_type": "stream",
     "text": [
      "  2%|▏         | 5/202 [00:07<05:05,  1.55s/it]"
     ]
    },
    {
     "name": "stdout",
     "output_type": "stream",
     "text": [
      "DataBatch(x=[4096, 1], edge_index=[2, 12288], edge_attr=[12288, 3], y=[1024], batch=[4096], ptr=[1025])\n"
     ]
    },
    {
     "name": "stderr",
     "output_type": "stream",
     "text": [
      "  3%|▎         | 6/202 [00:09<05:03,  1.55s/it]"
     ]
    },
    {
     "name": "stdout",
     "output_type": "stream",
     "text": [
      "DataBatch(x=[4096, 1], edge_index=[2, 12288], edge_attr=[12288, 3], y=[1024], batch=[4096], ptr=[1025])\n"
     ]
    },
    {
     "name": "stderr",
     "output_type": "stream",
     "text": [
      "  3%|▎         | 7/202 [00:10<04:59,  1.54s/it]"
     ]
    },
    {
     "name": "stdout",
     "output_type": "stream",
     "text": [
      "DataBatch(x=[4096, 1], edge_index=[2, 12288], edge_attr=[12288, 3], y=[1024], batch=[4096], ptr=[1025])\n"
     ]
    },
    {
     "name": "stderr",
     "output_type": "stream",
     "text": [
      "  4%|▍         | 8/202 [00:12<04:57,  1.53s/it]"
     ]
    },
    {
     "name": "stdout",
     "output_type": "stream",
     "text": [
      "DataBatch(x=[4096, 1], edge_index=[2, 12288], edge_attr=[12288, 3], y=[1024], batch=[4096], ptr=[1025])\n"
     ]
    },
    {
     "name": "stderr",
     "output_type": "stream",
     "text": [
      "  4%|▍         | 9/202 [00:13<04:54,  1.53s/it]"
     ]
    },
    {
     "name": "stdout",
     "output_type": "stream",
     "text": [
      "DataBatch(x=[4096, 1], edge_index=[2, 12288], edge_attr=[12288, 3], y=[1024], batch=[4096], ptr=[1025])\n"
     ]
    },
    {
     "name": "stderr",
     "output_type": "stream",
     "text": [
      "  5%|▍         | 10/202 [00:15<04:53,  1.53s/it]"
     ]
    },
    {
     "name": "stdout",
     "output_type": "stream",
     "text": [
      "DataBatch(x=[4096, 1], edge_index=[2, 12288], edge_attr=[12288, 3], y=[1024], batch=[4096], ptr=[1025])\n"
     ]
    },
    {
     "name": "stderr",
     "output_type": "stream",
     "text": [
      "  5%|▌         | 11/202 [00:16<04:51,  1.52s/it]"
     ]
    },
    {
     "name": "stdout",
     "output_type": "stream",
     "text": [
      "DataBatch(x=[4096, 1], edge_index=[2, 12288], edge_attr=[12288, 3], y=[1024], batch=[4096], ptr=[1025])\n"
     ]
    },
    {
     "name": "stderr",
     "output_type": "stream",
     "text": [
      "  6%|▌         | 12/202 [00:18<04:50,  1.53s/it]"
     ]
    },
    {
     "name": "stdout",
     "output_type": "stream",
     "text": [
      "DataBatch(x=[4096, 1], edge_index=[2, 12288], edge_attr=[12288, 3], y=[1024], batch=[4096], ptr=[1025])\n"
     ]
    },
    {
     "name": "stderr",
     "output_type": "stream",
     "text": [
      "  6%|▋         | 13/202 [00:20<04:49,  1.53s/it]"
     ]
    },
    {
     "name": "stdout",
     "output_type": "stream",
     "text": [
      "DataBatch(x=[4096, 1], edge_index=[2, 12288], edge_attr=[12288, 3], y=[1024], batch=[4096], ptr=[1025])\n"
     ]
    },
    {
     "name": "stderr",
     "output_type": "stream",
     "text": [
      "  7%|▋         | 14/202 [00:21<04:46,  1.52s/it]"
     ]
    },
    {
     "name": "stdout",
     "output_type": "stream",
     "text": [
      "DataBatch(x=[4096, 1], edge_index=[2, 12288], edge_attr=[12288, 3], y=[1024], batch=[4096], ptr=[1025])\n"
     ]
    },
    {
     "name": "stderr",
     "output_type": "stream",
     "text": [
      "  7%|▋         | 15/202 [00:23<04:45,  1.53s/it]"
     ]
    },
    {
     "name": "stdout",
     "output_type": "stream",
     "text": [
      "DataBatch(x=[4096, 1], edge_index=[2, 12288], edge_attr=[12288, 3], y=[1024], batch=[4096], ptr=[1025])\n"
     ]
    },
    {
     "name": "stderr",
     "output_type": "stream",
     "text": [
      "  8%|▊         | 16/202 [00:24<04:54,  1.58s/it]"
     ]
    },
    {
     "name": "stdout",
     "output_type": "stream",
     "text": [
      "DataBatch(x=[4096, 1], edge_index=[2, 12288], edge_attr=[12288, 3], y=[1024], batch=[4096], ptr=[1025])\n"
     ]
    },
    {
     "name": "stderr",
     "output_type": "stream",
     "text": [
      "  8%|▊         | 17/202 [00:26<04:51,  1.58s/it]"
     ]
    },
    {
     "name": "stdout",
     "output_type": "stream",
     "text": [
      "DataBatch(x=[4096, 1], edge_index=[2, 12288], edge_attr=[12288, 3], y=[1024], batch=[4096], ptr=[1025])\n"
     ]
    },
    {
     "name": "stderr",
     "output_type": "stream",
     "text": [
      "  9%|▉         | 18/202 [00:27<04:47,  1.56s/it]"
     ]
    },
    {
     "name": "stdout",
     "output_type": "stream",
     "text": [
      "DataBatch(x=[4096, 1], edge_index=[2, 12288], edge_attr=[12288, 3], y=[1024], batch=[4096], ptr=[1025])\n"
     ]
    },
    {
     "name": "stderr",
     "output_type": "stream",
     "text": [
      "  9%|▉         | 19/202 [00:29<04:43,  1.55s/it]"
     ]
    },
    {
     "name": "stdout",
     "output_type": "stream",
     "text": [
      "DataBatch(x=[4096, 1], edge_index=[2, 12288], edge_attr=[12288, 3], y=[1024], batch=[4096], ptr=[1025])\n"
     ]
    },
    {
     "name": "stderr",
     "output_type": "stream",
     "text": [
      " 10%|▉         | 20/202 [00:30<04:40,  1.54s/it]"
     ]
    },
    {
     "name": "stdout",
     "output_type": "stream",
     "text": [
      "DataBatch(x=[4096, 1], edge_index=[2, 12288], edge_attr=[12288, 3], y=[1024], batch=[4096], ptr=[1025])\n"
     ]
    },
    {
     "name": "stderr",
     "output_type": "stream",
     "text": [
      " 10%|█         | 21/202 [00:32<04:37,  1.53s/it]"
     ]
    },
    {
     "name": "stdout",
     "output_type": "stream",
     "text": [
      "DataBatch(x=[4096, 1], edge_index=[2, 12288], edge_attr=[12288, 3], y=[1024], batch=[4096], ptr=[1025])\n"
     ]
    },
    {
     "name": "stderr",
     "output_type": "stream",
     "text": [
      " 11%|█         | 22/202 [00:33<04:35,  1.53s/it]"
     ]
    },
    {
     "name": "stdout",
     "output_type": "stream",
     "text": [
      "DataBatch(x=[4096, 1], edge_index=[2, 12288], edge_attr=[12288, 3], y=[1024], batch=[4096], ptr=[1025])\n"
     ]
    },
    {
     "name": "stderr",
     "output_type": "stream",
     "text": [
      " 11%|█▏        | 23/202 [00:35<04:33,  1.53s/it]"
     ]
    },
    {
     "name": "stdout",
     "output_type": "stream",
     "text": [
      "DataBatch(x=[4096, 1], edge_index=[2, 12288], edge_attr=[12288, 3], y=[1024], batch=[4096], ptr=[1025])\n"
     ]
    },
    {
     "name": "stderr",
     "output_type": "stream",
     "text": [
      " 12%|█▏        | 24/202 [00:37<04:31,  1.52s/it]"
     ]
    },
    {
     "name": "stdout",
     "output_type": "stream",
     "text": [
      "DataBatch(x=[4096, 1], edge_index=[2, 12288], edge_attr=[12288, 3], y=[1024], batch=[4096], ptr=[1025])\n"
     ]
    },
    {
     "name": "stderr",
     "output_type": "stream",
     "text": [
      " 12%|█▏        | 25/202 [00:38<04:30,  1.53s/it]"
     ]
    },
    {
     "name": "stdout",
     "output_type": "stream",
     "text": [
      "DataBatch(x=[4096, 1], edge_index=[2, 12288], edge_attr=[12288, 3], y=[1024], batch=[4096], ptr=[1025])\n"
     ]
    },
    {
     "name": "stderr",
     "output_type": "stream",
     "text": [
      " 13%|█▎        | 26/202 [00:40<04:28,  1.53s/it]"
     ]
    },
    {
     "name": "stdout",
     "output_type": "stream",
     "text": [
      "DataBatch(x=[4096, 1], edge_index=[2, 12288], edge_attr=[12288, 3], y=[1024], batch=[4096], ptr=[1025])\n"
     ]
    },
    {
     "name": "stderr",
     "output_type": "stream",
     "text": [
      " 13%|█▎        | 27/202 [00:41<04:26,  1.52s/it]"
     ]
    },
    {
     "name": "stdout",
     "output_type": "stream",
     "text": [
      "DataBatch(x=[4096, 1], edge_index=[2, 12288], edge_attr=[12288, 3], y=[1024], batch=[4096], ptr=[1025])\n"
     ]
    },
    {
     "name": "stderr",
     "output_type": "stream",
     "text": [
      " 14%|█▍        | 28/202 [00:43<04:24,  1.52s/it]"
     ]
    },
    {
     "name": "stdout",
     "output_type": "stream",
     "text": [
      "DataBatch(x=[4096, 1], edge_index=[2, 12288], edge_attr=[12288, 3], y=[1024], batch=[4096], ptr=[1025])\n"
     ]
    },
    {
     "name": "stderr",
     "output_type": "stream",
     "text": [
      " 14%|█▍        | 29/202 [00:44<04:22,  1.52s/it]"
     ]
    },
    {
     "name": "stdout",
     "output_type": "stream",
     "text": [
      "DataBatch(x=[4096, 1], edge_index=[2, 12288], edge_attr=[12288, 3], y=[1024], batch=[4096], ptr=[1025])\n"
     ]
    },
    {
     "name": "stderr",
     "output_type": "stream",
     "text": [
      " 15%|█▍        | 30/202 [00:46<04:31,  1.58s/it]"
     ]
    },
    {
     "name": "stdout",
     "output_type": "stream",
     "text": [
      "DataBatch(x=[4096, 1], edge_index=[2, 12288], edge_attr=[12288, 3], y=[1024], batch=[4096], ptr=[1025])\n"
     ]
    },
    {
     "name": "stderr",
     "output_type": "stream",
     "text": [
      " 15%|█▌        | 31/202 [00:47<04:26,  1.56s/it]"
     ]
    },
    {
     "name": "stdout",
     "output_type": "stream",
     "text": [
      "DataBatch(x=[4096, 1], edge_index=[2, 12288], edge_attr=[12288, 3], y=[1024], batch=[4096], ptr=[1025])\n"
     ]
    },
    {
     "name": "stderr",
     "output_type": "stream",
     "text": [
      " 16%|█▌        | 32/202 [00:49<04:23,  1.55s/it]"
     ]
    },
    {
     "name": "stdout",
     "output_type": "stream",
     "text": [
      "DataBatch(x=[4096, 1], edge_index=[2, 12288], edge_attr=[12288, 3], y=[1024], batch=[4096], ptr=[1025])\n"
     ]
    },
    {
     "name": "stderr",
     "output_type": "stream",
     "text": [
      " 16%|█▋        | 33/202 [00:50<04:21,  1.55s/it]"
     ]
    },
    {
     "name": "stdout",
     "output_type": "stream",
     "text": [
      "DataBatch(x=[4096, 1], edge_index=[2, 12288], edge_attr=[12288, 3], y=[1024], batch=[4096], ptr=[1025])\n"
     ]
    },
    {
     "name": "stderr",
     "output_type": "stream",
     "text": [
      " 17%|█▋        | 34/202 [00:52<04:17,  1.54s/it]"
     ]
    },
    {
     "name": "stdout",
     "output_type": "stream",
     "text": [
      "DataBatch(x=[4096, 1], edge_index=[2, 12288], edge_attr=[12288, 3], y=[1024], batch=[4096], ptr=[1025])\n"
     ]
    },
    {
     "name": "stderr",
     "output_type": "stream",
     "text": [
      " 17%|█▋        | 35/202 [00:53<04:15,  1.53s/it]"
     ]
    },
    {
     "name": "stdout",
     "output_type": "stream",
     "text": [
      "DataBatch(x=[4096, 1], edge_index=[2, 12288], edge_attr=[12288, 3], y=[1024], batch=[4096], ptr=[1025])\n"
     ]
    },
    {
     "name": "stderr",
     "output_type": "stream",
     "text": [
      " 18%|█▊        | 36/202 [00:55<04:11,  1.52s/it]"
     ]
    },
    {
     "name": "stdout",
     "output_type": "stream",
     "text": [
      "DataBatch(x=[4096, 1], edge_index=[2, 12288], edge_attr=[12288, 3], y=[1024], batch=[4096], ptr=[1025])\n"
     ]
    },
    {
     "name": "stderr",
     "output_type": "stream",
     "text": [
      " 18%|█▊        | 37/202 [00:56<04:09,  1.51s/it]"
     ]
    },
    {
     "name": "stdout",
     "output_type": "stream",
     "text": [
      "DataBatch(x=[4096, 1], edge_index=[2, 12288], edge_attr=[12288, 3], y=[1024], batch=[4096], ptr=[1025])\n"
     ]
    },
    {
     "name": "stderr",
     "output_type": "stream",
     "text": [
      " 19%|█▉        | 38/202 [00:58<04:14,  1.55s/it]"
     ]
    },
    {
     "name": "stdout",
     "output_type": "stream",
     "text": [
      "DataBatch(x=[4096, 1], edge_index=[2, 12288], edge_attr=[12288, 3], y=[1024], batch=[4096], ptr=[1025])\n"
     ]
    },
    {
     "name": "stderr",
     "output_type": "stream",
     "text": [
      " 19%|█▉        | 39/202 [01:00<04:12,  1.55s/it]"
     ]
    },
    {
     "name": "stdout",
     "output_type": "stream",
     "text": [
      "DataBatch(x=[4096, 1], edge_index=[2, 12288], edge_attr=[12288, 3], y=[1024], batch=[4096], ptr=[1025])\n"
     ]
    },
    {
     "name": "stderr",
     "output_type": "stream",
     "text": [
      " 20%|█▉        | 40/202 [01:01<04:09,  1.54s/it]"
     ]
    },
    {
     "name": "stdout",
     "output_type": "stream",
     "text": [
      "DataBatch(x=[4096, 1], edge_index=[2, 12288], edge_attr=[12288, 3], y=[1024], batch=[4096], ptr=[1025])\n"
     ]
    },
    {
     "name": "stderr",
     "output_type": "stream",
     "text": [
      " 20%|██        | 41/202 [01:03<04:06,  1.53s/it]"
     ]
    },
    {
     "name": "stdout",
     "output_type": "stream",
     "text": [
      "DataBatch(x=[4096, 1], edge_index=[2, 12288], edge_attr=[12288, 3], y=[1024], batch=[4096], ptr=[1025])\n"
     ]
    },
    {
     "name": "stderr",
     "output_type": "stream",
     "text": [
      " 21%|██        | 42/202 [01:04<04:04,  1.53s/it]"
     ]
    },
    {
     "name": "stdout",
     "output_type": "stream",
     "text": [
      "DataBatch(x=[4096, 1], edge_index=[2, 12288], edge_attr=[12288, 3], y=[1024], batch=[4096], ptr=[1025])\n"
     ]
    },
    {
     "name": "stderr",
     "output_type": "stream",
     "text": [
      " 21%|██▏       | 43/202 [01:06<04:02,  1.53s/it]"
     ]
    },
    {
     "name": "stdout",
     "output_type": "stream",
     "text": [
      "DataBatch(x=[4096, 1], edge_index=[2, 12288], edge_attr=[12288, 3], y=[1024], batch=[4096], ptr=[1025])\n"
     ]
    },
    {
     "name": "stderr",
     "output_type": "stream",
     "text": [
      " 22%|██▏       | 44/202 [01:07<04:10,  1.58s/it]"
     ]
    },
    {
     "name": "stdout",
     "output_type": "stream",
     "text": [
      "DataBatch(x=[4096, 1], edge_index=[2, 12288], edge_attr=[12288, 3], y=[1024], batch=[4096], ptr=[1025])\n"
     ]
    },
    {
     "name": "stderr",
     "output_type": "stream",
     "text": [
      " 22%|██▏       | 45/202 [01:09<04:06,  1.57s/it]"
     ]
    },
    {
     "name": "stdout",
     "output_type": "stream",
     "text": [
      "DataBatch(x=[4096, 1], edge_index=[2, 12288], edge_attr=[12288, 3], y=[1024], batch=[4096], ptr=[1025])\n"
     ]
    },
    {
     "name": "stderr",
     "output_type": "stream",
     "text": [
      " 23%|██▎       | 46/202 [01:10<04:01,  1.55s/it]"
     ]
    },
    {
     "name": "stdout",
     "output_type": "stream",
     "text": [
      "DataBatch(x=[4096, 1], edge_index=[2, 12288], edge_attr=[12288, 3], y=[1024], batch=[4096], ptr=[1025])\n"
     ]
    },
    {
     "name": "stderr",
     "output_type": "stream",
     "text": [
      " 23%|██▎       | 47/202 [01:12<03:59,  1.54s/it]"
     ]
    },
    {
     "name": "stdout",
     "output_type": "stream",
     "text": [
      "DataBatch(x=[4096, 1], edge_index=[2, 12288], edge_attr=[12288, 3], y=[1024], batch=[4096], ptr=[1025])\n"
     ]
    },
    {
     "name": "stderr",
     "output_type": "stream",
     "text": [
      " 24%|██▍       | 48/202 [01:13<03:56,  1.54s/it]"
     ]
    },
    {
     "name": "stdout",
     "output_type": "stream",
     "text": [
      "DataBatch(x=[4096, 1], edge_index=[2, 12288], edge_attr=[12288, 3], y=[1024], batch=[4096], ptr=[1025])\n"
     ]
    },
    {
     "name": "stderr",
     "output_type": "stream",
     "text": [
      " 24%|██▍       | 49/202 [01:15<03:53,  1.53s/it]"
     ]
    },
    {
     "name": "stdout",
     "output_type": "stream",
     "text": [
      "DataBatch(x=[4096, 1], edge_index=[2, 12288], edge_attr=[12288, 3], y=[1024], batch=[4096], ptr=[1025])\n"
     ]
    },
    {
     "name": "stderr",
     "output_type": "stream",
     "text": [
      " 25%|██▍       | 50/202 [01:17<03:51,  1.53s/it]"
     ]
    },
    {
     "name": "stdout",
     "output_type": "stream",
     "text": [
      "DataBatch(x=[4096, 1], edge_index=[2, 12288], edge_attr=[12288, 3], y=[1024], batch=[4096], ptr=[1025])\n"
     ]
    },
    {
     "name": "stderr",
     "output_type": "stream",
     "text": [
      " 25%|██▌       | 51/202 [01:18<03:51,  1.53s/it]"
     ]
    },
    {
     "name": "stdout",
     "output_type": "stream",
     "text": [
      "DataBatch(x=[4096, 1], edge_index=[2, 12288], edge_attr=[12288, 3], y=[1024], batch=[4096], ptr=[1025])\n"
     ]
    },
    {
     "name": "stderr",
     "output_type": "stream",
     "text": [
      " 26%|██▌       | 52/202 [01:20<03:49,  1.53s/it]"
     ]
    },
    {
     "name": "stdout",
     "output_type": "stream",
     "text": [
      "DataBatch(x=[4096, 1], edge_index=[2, 12288], edge_attr=[12288, 3], y=[1024], batch=[4096], ptr=[1025])\n"
     ]
    },
    {
     "name": "stderr",
     "output_type": "stream",
     "text": [
      " 26%|██▌       | 53/202 [01:21<03:47,  1.52s/it]"
     ]
    },
    {
     "name": "stdout",
     "output_type": "stream",
     "text": [
      "DataBatch(x=[4096, 1], edge_index=[2, 12288], edge_attr=[12288, 3], y=[1024], batch=[4096], ptr=[1025])\n"
     ]
    },
    {
     "name": "stderr",
     "output_type": "stream",
     "text": [
      " 27%|██▋       | 54/202 [01:23<03:45,  1.52s/it]"
     ]
    },
    {
     "name": "stdout",
     "output_type": "stream",
     "text": [
      "DataBatch(x=[4096, 1], edge_index=[2, 12288], edge_attr=[12288, 3], y=[1024], batch=[4096], ptr=[1025])\n"
     ]
    },
    {
     "name": "stderr",
     "output_type": "stream",
     "text": [
      " 27%|██▋       | 55/202 [01:24<03:43,  1.52s/it]"
     ]
    },
    {
     "name": "stdout",
     "output_type": "stream",
     "text": [
      "DataBatch(x=[4096, 1], edge_index=[2, 12288], edge_attr=[12288, 3], y=[1024], batch=[4096], ptr=[1025])\n"
     ]
    },
    {
     "name": "stderr",
     "output_type": "stream",
     "text": [
      " 28%|██▊       | 56/202 [01:26<03:42,  1.52s/it]"
     ]
    },
    {
     "name": "stdout",
     "output_type": "stream",
     "text": [
      "DataBatch(x=[4096, 1], edge_index=[2, 12288], edge_attr=[12288, 3], y=[1024], batch=[4096], ptr=[1025])\n"
     ]
    },
    {
     "name": "stderr",
     "output_type": "stream",
     "text": [
      " 28%|██▊       | 57/202 [01:27<03:40,  1.52s/it]"
     ]
    },
    {
     "name": "stdout",
     "output_type": "stream",
     "text": [
      "DataBatch(x=[4096, 1], edge_index=[2, 12288], edge_attr=[12288, 3], y=[1024], batch=[4096], ptr=[1025])\n"
     ]
    },
    {
     "name": "stderr",
     "output_type": "stream",
     "text": [
      " 29%|██▊       | 58/202 [01:29<03:49,  1.60s/it]"
     ]
    },
    {
     "name": "stdout",
     "output_type": "stream",
     "text": [
      "DataBatch(x=[4096, 1], edge_index=[2, 12288], edge_attr=[12288, 3], y=[1024], batch=[4096], ptr=[1025])\n"
     ]
    },
    {
     "name": "stderr",
     "output_type": "stream",
     "text": [
      " 29%|██▉       | 59/202 [01:30<03:45,  1.58s/it]"
     ]
    },
    {
     "name": "stdout",
     "output_type": "stream",
     "text": [
      "DataBatch(x=[4096, 1], edge_index=[2, 12288], edge_attr=[12288, 3], y=[1024], batch=[4096], ptr=[1025])\n"
     ]
    },
    {
     "name": "stderr",
     "output_type": "stream",
     "text": [
      " 30%|██▉       | 60/202 [01:32<03:41,  1.56s/it]"
     ]
    },
    {
     "name": "stdout",
     "output_type": "stream",
     "text": [
      "DataBatch(x=[4096, 1], edge_index=[2, 12288], edge_attr=[12288, 3], y=[1024], batch=[4096], ptr=[1025])\n"
     ]
    },
    {
     "name": "stderr",
     "output_type": "stream",
     "text": [
      " 30%|███       | 61/202 [01:33<03:37,  1.54s/it]"
     ]
    },
    {
     "name": "stdout",
     "output_type": "stream",
     "text": [
      "DataBatch(x=[4096, 1], edge_index=[2, 12288], edge_attr=[12288, 3], y=[1024], batch=[4096], ptr=[1025])\n"
     ]
    },
    {
     "name": "stderr",
     "output_type": "stream",
     "text": [
      " 31%|███       | 62/202 [01:35<03:34,  1.54s/it]"
     ]
    },
    {
     "name": "stdout",
     "output_type": "stream",
     "text": [
      "DataBatch(x=[4096, 1], edge_index=[2, 12288], edge_attr=[12288, 3], y=[1024], batch=[4096], ptr=[1025])\n"
     ]
    },
    {
     "name": "stderr",
     "output_type": "stream",
     "text": [
      " 31%|███       | 63/202 [01:37<03:32,  1.53s/it]"
     ]
    },
    {
     "name": "stdout",
     "output_type": "stream",
     "text": [
      "DataBatch(x=[4096, 1], edge_index=[2, 12288], edge_attr=[12288, 3], y=[1024], batch=[4096], ptr=[1025])\n"
     ]
    },
    {
     "name": "stderr",
     "output_type": "stream",
     "text": [
      " 32%|███▏      | 64/202 [01:38<03:31,  1.53s/it]"
     ]
    },
    {
     "name": "stdout",
     "output_type": "stream",
     "text": [
      "DataBatch(x=[4096, 1], edge_index=[2, 12288], edge_attr=[12288, 3], y=[1024], batch=[4096], ptr=[1025])\n"
     ]
    },
    {
     "name": "stderr",
     "output_type": "stream",
     "text": [
      " 32%|███▏      | 65/202 [01:40<03:28,  1.52s/it]"
     ]
    },
    {
     "name": "stdout",
     "output_type": "stream",
     "text": [
      "DataBatch(x=[4096, 1], edge_index=[2, 12288], edge_attr=[12288, 3], y=[1024], batch=[4096], ptr=[1025])\n"
     ]
    },
    {
     "name": "stderr",
     "output_type": "stream",
     "text": [
      " 33%|███▎      | 66/202 [01:41<03:26,  1.52s/it]"
     ]
    },
    {
     "name": "stdout",
     "output_type": "stream",
     "text": [
      "DataBatch(x=[4096, 1], edge_index=[2, 12288], edge_attr=[12288, 3], y=[1024], batch=[4096], ptr=[1025])\n"
     ]
    },
    {
     "name": "stderr",
     "output_type": "stream",
     "text": [
      " 33%|███▎      | 67/202 [01:43<03:24,  1.51s/it]"
     ]
    },
    {
     "name": "stdout",
     "output_type": "stream",
     "text": [
      "DataBatch(x=[4096, 1], edge_index=[2, 12288], edge_attr=[12288, 3], y=[1024], batch=[4096], ptr=[1025])\n"
     ]
    },
    {
     "name": "stderr",
     "output_type": "stream",
     "text": [
      " 34%|███▎      | 68/202 [01:44<03:22,  1.51s/it]"
     ]
    },
    {
     "name": "stdout",
     "output_type": "stream",
     "text": [
      "DataBatch(x=[4096, 1], edge_index=[2, 12288], edge_attr=[12288, 3], y=[1024], batch=[4096], ptr=[1025])\n"
     ]
    },
    {
     "name": "stderr",
     "output_type": "stream",
     "text": [
      " 34%|███▍      | 69/202 [01:46<03:21,  1.51s/it]"
     ]
    },
    {
     "name": "stdout",
     "output_type": "stream",
     "text": [
      "DataBatch(x=[4096, 1], edge_index=[2, 12288], edge_attr=[12288, 3], y=[1024], batch=[4096], ptr=[1025])\n"
     ]
    },
    {
     "name": "stderr",
     "output_type": "stream",
     "text": [
      " 35%|███▍      | 70/202 [01:47<03:19,  1.51s/it]"
     ]
    },
    {
     "name": "stdout",
     "output_type": "stream",
     "text": [
      "DataBatch(x=[4096, 1], edge_index=[2, 12288], edge_attr=[12288, 3], y=[1024], batch=[4096], ptr=[1025])\n"
     ]
    },
    {
     "name": "stderr",
     "output_type": "stream",
     "text": [
      " 35%|███▌      | 71/202 [01:49<03:18,  1.52s/it]"
     ]
    },
    {
     "name": "stdout",
     "output_type": "stream",
     "text": [
      "DataBatch(x=[4096, 1], edge_index=[2, 12288], edge_attr=[12288, 3], y=[1024], batch=[4096], ptr=[1025])\n"
     ]
    },
    {
     "name": "stderr",
     "output_type": "stream",
     "text": [
      " 36%|███▌      | 72/202 [01:50<03:17,  1.52s/it]"
     ]
    },
    {
     "name": "stdout",
     "output_type": "stream",
     "text": [
      "DataBatch(x=[4096, 1], edge_index=[2, 12288], edge_attr=[12288, 3], y=[1024], batch=[4096], ptr=[1025])\n"
     ]
    },
    {
     "name": "stderr",
     "output_type": "stream",
     "text": [
      " 36%|███▌      | 73/202 [01:52<03:23,  1.58s/it]"
     ]
    },
    {
     "name": "stdout",
     "output_type": "stream",
     "text": [
      "DataBatch(x=[4096, 1], edge_index=[2, 12288], edge_attr=[12288, 3], y=[1024], batch=[4096], ptr=[1025])\n"
     ]
    },
    {
     "name": "stderr",
     "output_type": "stream",
     "text": [
      " 37%|███▋      | 74/202 [01:53<03:19,  1.56s/it]"
     ]
    },
    {
     "name": "stdout",
     "output_type": "stream",
     "text": [
      "DataBatch(x=[4096, 1], edge_index=[2, 12288], edge_attr=[12288, 3], y=[1024], batch=[4096], ptr=[1025])\n"
     ]
    },
    {
     "name": "stderr",
     "output_type": "stream",
     "text": [
      " 37%|███▋      | 75/202 [01:55<03:16,  1.55s/it]"
     ]
    },
    {
     "name": "stdout",
     "output_type": "stream",
     "text": [
      "DataBatch(x=[4096, 1], edge_index=[2, 12288], edge_attr=[12288, 3], y=[1024], batch=[4096], ptr=[1025])\n"
     ]
    },
    {
     "name": "stderr",
     "output_type": "stream",
     "text": [
      " 38%|███▊      | 76/202 [01:56<03:13,  1.54s/it]"
     ]
    },
    {
     "name": "stdout",
     "output_type": "stream",
     "text": [
      "DataBatch(x=[4096, 1], edge_index=[2, 12288], edge_attr=[12288, 3], y=[1024], batch=[4096], ptr=[1025])\n"
     ]
    },
    {
     "name": "stderr",
     "output_type": "stream",
     "text": [
      " 38%|███▊      | 77/202 [01:58<03:11,  1.53s/it]"
     ]
    },
    {
     "name": "stdout",
     "output_type": "stream",
     "text": [
      "DataBatch(x=[4096, 1], edge_index=[2, 12288], edge_attr=[12288, 3], y=[1024], batch=[4096], ptr=[1025])\n"
     ]
    },
    {
     "name": "stderr",
     "output_type": "stream",
     "text": [
      " 39%|███▊      | 78/202 [01:59<03:09,  1.53s/it]"
     ]
    },
    {
     "name": "stdout",
     "output_type": "stream",
     "text": [
      "DataBatch(x=[4096, 1], edge_index=[2, 12288], edge_attr=[12288, 3], y=[1024], batch=[4096], ptr=[1025])\n"
     ]
    },
    {
     "name": "stderr",
     "output_type": "stream",
     "text": [
      " 39%|███▉      | 79/202 [02:01<03:09,  1.54s/it]"
     ]
    },
    {
     "name": "stdout",
     "output_type": "stream",
     "text": [
      "DataBatch(x=[4096, 1], edge_index=[2, 12288], edge_attr=[12288, 3], y=[1024], batch=[4096], ptr=[1025])\n"
     ]
    },
    {
     "name": "stderr",
     "output_type": "stream",
     "text": [
      " 40%|███▉      | 80/202 [02:03<03:07,  1.53s/it]"
     ]
    },
    {
     "name": "stdout",
     "output_type": "stream",
     "text": [
      "DataBatch(x=[4096, 1], edge_index=[2, 12288], edge_attr=[12288, 3], y=[1024], batch=[4096], ptr=[1025])\n"
     ]
    },
    {
     "name": "stderr",
     "output_type": "stream",
     "text": [
      " 40%|████      | 81/202 [02:04<03:04,  1.52s/it]"
     ]
    },
    {
     "name": "stdout",
     "output_type": "stream",
     "text": [
      "DataBatch(x=[4096, 1], edge_index=[2, 12288], edge_attr=[12288, 3], y=[1024], batch=[4096], ptr=[1025])\n"
     ]
    },
    {
     "name": "stderr",
     "output_type": "stream",
     "text": [
      " 41%|████      | 82/202 [02:06<03:02,  1.52s/it]"
     ]
    },
    {
     "name": "stdout",
     "output_type": "stream",
     "text": [
      "DataBatch(x=[4096, 1], edge_index=[2, 12288], edge_attr=[12288, 3], y=[1024], batch=[4096], ptr=[1025])\n"
     ]
    },
    {
     "name": "stderr",
     "output_type": "stream",
     "text": [
      " 41%|████      | 83/202 [02:07<03:00,  1.51s/it]"
     ]
    },
    {
     "name": "stdout",
     "output_type": "stream",
     "text": [
      "DataBatch(x=[4096, 1], edge_index=[2, 12288], edge_attr=[12288, 3], y=[1024], batch=[4096], ptr=[1025])\n"
     ]
    },
    {
     "name": "stderr",
     "output_type": "stream",
     "text": [
      " 42%|████▏     | 84/202 [02:09<02:59,  1.52s/it]"
     ]
    },
    {
     "name": "stdout",
     "output_type": "stream",
     "text": [
      "DataBatch(x=[4096, 1], edge_index=[2, 12288], edge_attr=[12288, 3], y=[1024], batch=[4096], ptr=[1025])\n"
     ]
    },
    {
     "name": "stderr",
     "output_type": "stream",
     "text": [
      " 42%|████▏     | 85/202 [02:10<02:57,  1.52s/it]"
     ]
    },
    {
     "name": "stdout",
     "output_type": "stream",
     "text": [
      "DataBatch(x=[4096, 1], edge_index=[2, 12288], edge_attr=[12288, 3], y=[1024], batch=[4096], ptr=[1025])\n"
     ]
    },
    {
     "name": "stderr",
     "output_type": "stream",
     "text": [
      " 43%|████▎     | 86/202 [02:12<03:03,  1.58s/it]"
     ]
    },
    {
     "name": "stdout",
     "output_type": "stream",
     "text": [
      "DataBatch(x=[4096, 1], edge_index=[2, 12288], edge_attr=[12288, 3], y=[1024], batch=[4096], ptr=[1025])\n"
     ]
    },
    {
     "name": "stderr",
     "output_type": "stream",
     "text": [
      " 43%|████▎     | 87/202 [02:13<02:59,  1.56s/it]"
     ]
    },
    {
     "name": "stdout",
     "output_type": "stream",
     "text": [
      "DataBatch(x=[4096, 1], edge_index=[2, 12288], edge_attr=[12288, 3], y=[1024], batch=[4096], ptr=[1025])\n"
     ]
    },
    {
     "name": "stderr",
     "output_type": "stream",
     "text": [
      " 44%|████▎     | 88/202 [02:15<02:55,  1.54s/it]"
     ]
    },
    {
     "name": "stdout",
     "output_type": "stream",
     "text": [
      "DataBatch(x=[4096, 1], edge_index=[2, 12288], edge_attr=[12288, 3], y=[1024], batch=[4096], ptr=[1025])\n"
     ]
    },
    {
     "name": "stderr",
     "output_type": "stream",
     "text": [
      " 44%|████▍     | 89/202 [02:16<02:53,  1.54s/it]"
     ]
    },
    {
     "name": "stdout",
     "output_type": "stream",
     "text": [
      "DataBatch(x=[4096, 1], edge_index=[2, 12288], edge_attr=[12288, 3], y=[1024], batch=[4096], ptr=[1025])\n"
     ]
    },
    {
     "name": "stderr",
     "output_type": "stream",
     "text": [
      " 45%|████▍     | 90/202 [02:18<02:51,  1.53s/it]"
     ]
    },
    {
     "name": "stdout",
     "output_type": "stream",
     "text": [
      "DataBatch(x=[4096, 1], edge_index=[2, 12288], edge_attr=[12288, 3], y=[1024], batch=[4096], ptr=[1025])\n"
     ]
    },
    {
     "name": "stderr",
     "output_type": "stream",
     "text": [
      " 45%|████▌     | 91/202 [02:19<02:50,  1.54s/it]"
     ]
    },
    {
     "name": "stdout",
     "output_type": "stream",
     "text": [
      "DataBatch(x=[4096, 1], edge_index=[2, 12288], edge_attr=[12288, 3], y=[1024], batch=[4096], ptr=[1025])\n"
     ]
    },
    {
     "name": "stderr",
     "output_type": "stream",
     "text": [
      " 46%|████▌     | 92/202 [02:21<02:48,  1.53s/it]"
     ]
    },
    {
     "name": "stdout",
     "output_type": "stream",
     "text": [
      "DataBatch(x=[4096, 1], edge_index=[2, 12288], edge_attr=[12288, 3], y=[1024], batch=[4096], ptr=[1025])\n"
     ]
    },
    {
     "name": "stderr",
     "output_type": "stream",
     "text": [
      " 46%|████▌     | 93/202 [02:22<02:45,  1.52s/it]"
     ]
    },
    {
     "name": "stdout",
     "output_type": "stream",
     "text": [
      "DataBatch(x=[4096, 1], edge_index=[2, 12288], edge_attr=[12288, 3], y=[1024], batch=[4096], ptr=[1025])\n"
     ]
    },
    {
     "name": "stderr",
     "output_type": "stream",
     "text": [
      " 47%|████▋     | 94/202 [02:24<02:44,  1.52s/it]"
     ]
    },
    {
     "name": "stdout",
     "output_type": "stream",
     "text": [
      "DataBatch(x=[4096, 1], edge_index=[2, 12288], edge_attr=[12288, 3], y=[1024], batch=[4096], ptr=[1025])\n"
     ]
    },
    {
     "name": "stderr",
     "output_type": "stream",
     "text": [
      " 47%|████▋     | 95/202 [02:25<02:41,  1.51s/it]"
     ]
    },
    {
     "name": "stdout",
     "output_type": "stream",
     "text": [
      "DataBatch(x=[4096, 1], edge_index=[2, 12288], edge_attr=[12288, 3], y=[1024], batch=[4096], ptr=[1025])\n"
     ]
    },
    {
     "name": "stderr",
     "output_type": "stream",
     "text": [
      " 48%|████▊     | 96/202 [02:27<02:40,  1.52s/it]"
     ]
    },
    {
     "name": "stdout",
     "output_type": "stream",
     "text": [
      "DataBatch(x=[4096, 1], edge_index=[2, 12288], edge_attr=[12288, 3], y=[1024], batch=[4096], ptr=[1025])\n"
     ]
    },
    {
     "name": "stderr",
     "output_type": "stream",
     "text": [
      " 48%|████▊     | 97/202 [02:29<02:40,  1.53s/it]"
     ]
    },
    {
     "name": "stdout",
     "output_type": "stream",
     "text": [
      "DataBatch(x=[4096, 1], edge_index=[2, 12288], edge_attr=[12288, 3], y=[1024], batch=[4096], ptr=[1025])\n"
     ]
    },
    {
     "name": "stderr",
     "output_type": "stream",
     "text": [
      " 49%|████▊     | 98/202 [02:30<02:38,  1.52s/it]"
     ]
    },
    {
     "name": "stdout",
     "output_type": "stream",
     "text": [
      "DataBatch(x=[4096, 1], edge_index=[2, 12288], edge_attr=[12288, 3], y=[1024], batch=[4096], ptr=[1025])\n"
     ]
    },
    {
     "name": "stderr",
     "output_type": "stream",
     "text": [
      " 49%|████▉     | 99/202 [02:32<02:36,  1.52s/it]"
     ]
    },
    {
     "name": "stdout",
     "output_type": "stream",
     "text": [
      "DataBatch(x=[4096, 1], edge_index=[2, 12288], edge_attr=[12288, 3], y=[1024], batch=[4096], ptr=[1025])\n"
     ]
    },
    {
     "name": "stderr",
     "output_type": "stream",
     "text": [
      " 50%|████▉     | 100/202 [02:33<02:42,  1.59s/it]"
     ]
    },
    {
     "name": "stdout",
     "output_type": "stream",
     "text": [
      "DataBatch(x=[4096, 1], edge_index=[2, 12288], edge_attr=[12288, 3], y=[1024], batch=[4096], ptr=[1025])\n"
     ]
    },
    {
     "name": "stderr",
     "output_type": "stream",
     "text": [
      " 50%|█████     | 101/202 [02:35<02:38,  1.57s/it]"
     ]
    },
    {
     "name": "stdout",
     "output_type": "stream",
     "text": [
      "DataBatch(x=[4096, 1], edge_index=[2, 12288], edge_attr=[12288, 3], y=[1024], batch=[4096], ptr=[1025])\n"
     ]
    },
    {
     "name": "stderr",
     "output_type": "stream",
     "text": [
      " 50%|█████     | 102/202 [02:36<02:35,  1.55s/it]"
     ]
    },
    {
     "name": "stdout",
     "output_type": "stream",
     "text": [
      "DataBatch(x=[4096, 1], edge_index=[2, 12288], edge_attr=[12288, 3], y=[1024], batch=[4096], ptr=[1025])\n"
     ]
    },
    {
     "name": "stderr",
     "output_type": "stream",
     "text": [
      " 51%|█████     | 103/202 [02:38<02:32,  1.54s/it]"
     ]
    },
    {
     "name": "stdout",
     "output_type": "stream",
     "text": [
      "DataBatch(x=[4096, 1], edge_index=[2, 12288], edge_attr=[12288, 3], y=[1024], batch=[4096], ptr=[1025])\n"
     ]
    },
    {
     "name": "stderr",
     "output_type": "stream",
     "text": [
      " 51%|█████▏    | 104/202 [02:39<02:31,  1.55s/it]"
     ]
    },
    {
     "name": "stdout",
     "output_type": "stream",
     "text": [
      "DataBatch(x=[4096, 1], edge_index=[2, 12288], edge_attr=[12288, 3], y=[1024], batch=[4096], ptr=[1025])\n"
     ]
    },
    {
     "name": "stderr",
     "output_type": "stream",
     "text": [
      " 52%|█████▏    | 105/202 [02:41<02:29,  1.54s/it]"
     ]
    },
    {
     "name": "stdout",
     "output_type": "stream",
     "text": [
      "DataBatch(x=[4096, 1], edge_index=[2, 12288], edge_attr=[12288, 3], y=[1024], batch=[4096], ptr=[1025])\n"
     ]
    },
    {
     "name": "stderr",
     "output_type": "stream",
     "text": [
      " 52%|█████▏    | 106/202 [02:42<02:26,  1.53s/it]"
     ]
    },
    {
     "name": "stdout",
     "output_type": "stream",
     "text": [
      "DataBatch(x=[4096, 1], edge_index=[2, 12288], edge_attr=[12288, 3], y=[1024], batch=[4096], ptr=[1025])\n"
     ]
    },
    {
     "name": "stderr",
     "output_type": "stream",
     "text": [
      " 53%|█████▎    | 107/202 [02:44<02:24,  1.52s/it]"
     ]
    },
    {
     "name": "stdout",
     "output_type": "stream",
     "text": [
      "DataBatch(x=[4096, 1], edge_index=[2, 12288], edge_attr=[12288, 3], y=[1024], batch=[4096], ptr=[1025])\n"
     ]
    },
    {
     "name": "stderr",
     "output_type": "stream",
     "text": [
      " 53%|█████▎    | 108/202 [02:45<02:22,  1.52s/it]"
     ]
    },
    {
     "name": "stdout",
     "output_type": "stream",
     "text": [
      "DataBatch(x=[4096, 1], edge_index=[2, 12288], edge_attr=[12288, 3], y=[1024], batch=[4096], ptr=[1025])\n"
     ]
    },
    {
     "name": "stderr",
     "output_type": "stream",
     "text": [
      " 54%|█████▍    | 109/202 [02:47<02:21,  1.52s/it]"
     ]
    },
    {
     "name": "stdout",
     "output_type": "stream",
     "text": [
      "DataBatch(x=[4096, 1], edge_index=[2, 12288], edge_attr=[12288, 3], y=[1024], batch=[4096], ptr=[1025])\n"
     ]
    },
    {
     "name": "stderr",
     "output_type": "stream",
     "text": [
      " 54%|█████▍    | 110/202 [02:49<02:20,  1.53s/it]"
     ]
    },
    {
     "name": "stdout",
     "output_type": "stream",
     "text": [
      "DataBatch(x=[4096, 1], edge_index=[2, 12288], edge_attr=[12288, 3], y=[1024], batch=[4096], ptr=[1025])\n"
     ]
    },
    {
     "name": "stderr",
     "output_type": "stream",
     "text": [
      " 55%|█████▍    | 111/202 [02:50<02:18,  1.52s/it]"
     ]
    },
    {
     "name": "stdout",
     "output_type": "stream",
     "text": [
      "DataBatch(x=[4096, 1], edge_index=[2, 12288], edge_attr=[12288, 3], y=[1024], batch=[4096], ptr=[1025])\n"
     ]
    },
    {
     "name": "stderr",
     "output_type": "stream",
     "text": [
      " 55%|█████▌    | 112/202 [02:52<02:17,  1.53s/it]"
     ]
    },
    {
     "name": "stdout",
     "output_type": "stream",
     "text": [
      "DataBatch(x=[4096, 1], edge_index=[2, 12288], edge_attr=[12288, 3], y=[1024], batch=[4096], ptr=[1025])\n"
     ]
    },
    {
     "name": "stderr",
     "output_type": "stream",
     "text": [
      " 56%|█████▌    | 113/202 [02:53<02:15,  1.52s/it]"
     ]
    },
    {
     "name": "stdout",
     "output_type": "stream",
     "text": [
      "DataBatch(x=[4096, 1], edge_index=[2, 12288], edge_attr=[12288, 3], y=[1024], batch=[4096], ptr=[1025])\n"
     ]
    },
    {
     "name": "stderr",
     "output_type": "stream",
     "text": [
      " 56%|█████▋    | 114/202 [02:55<02:19,  1.58s/it]"
     ]
    },
    {
     "name": "stdout",
     "output_type": "stream",
     "text": [
      "DataBatch(x=[4096, 1], edge_index=[2, 12288], edge_attr=[12288, 3], y=[1024], batch=[4096], ptr=[1025])\n"
     ]
    },
    {
     "name": "stderr",
     "output_type": "stream",
     "text": [
      " 57%|█████▋    | 115/202 [02:56<02:15,  1.56s/it]"
     ]
    },
    {
     "name": "stdout",
     "output_type": "stream",
     "text": [
      "DataBatch(x=[4096, 1], edge_index=[2, 12288], edge_attr=[12288, 3], y=[1024], batch=[4096], ptr=[1025])\n"
     ]
    },
    {
     "name": "stderr",
     "output_type": "stream",
     "text": [
      " 57%|█████▋    | 116/202 [02:58<02:12,  1.54s/it]"
     ]
    },
    {
     "name": "stdout",
     "output_type": "stream",
     "text": [
      "DataBatch(x=[4096, 1], edge_index=[2, 12288], edge_attr=[12288, 3], y=[1024], batch=[4096], ptr=[1025])\n"
     ]
    },
    {
     "name": "stderr",
     "output_type": "stream",
     "text": [
      " 58%|█████▊    | 117/202 [02:59<02:10,  1.54s/it]"
     ]
    },
    {
     "name": "stdout",
     "output_type": "stream",
     "text": [
      "DataBatch(x=[4096, 1], edge_index=[2, 12288], edge_attr=[12288, 3], y=[1024], batch=[4096], ptr=[1025])\n"
     ]
    },
    {
     "name": "stderr",
     "output_type": "stream",
     "text": [
      " 58%|█████▊    | 118/202 [03:01<02:08,  1.53s/it]"
     ]
    },
    {
     "name": "stdout",
     "output_type": "stream",
     "text": [
      "DataBatch(x=[4096, 1], edge_index=[2, 12288], edge_attr=[12288, 3], y=[1024], batch=[4096], ptr=[1025])\n"
     ]
    },
    {
     "name": "stderr",
     "output_type": "stream",
     "text": [
      " 59%|█████▉    | 119/202 [03:02<02:06,  1.53s/it]"
     ]
    },
    {
     "name": "stdout",
     "output_type": "stream",
     "text": [
      "DataBatch(x=[4096, 1], edge_index=[2, 12288], edge_attr=[12288, 3], y=[1024], batch=[4096], ptr=[1025])\n"
     ]
    },
    {
     "name": "stderr",
     "output_type": "stream",
     "text": [
      " 59%|█████▉    | 120/202 [03:04<02:07,  1.55s/it]"
     ]
    },
    {
     "name": "stdout",
     "output_type": "stream",
     "text": [
      "DataBatch(x=[4096, 1], edge_index=[2, 12288], edge_attr=[12288, 3], y=[1024], batch=[4096], ptr=[1025])\n"
     ]
    },
    {
     "name": "stderr",
     "output_type": "stream",
     "text": [
      " 60%|█████▉    | 121/202 [03:06<02:05,  1.54s/it]"
     ]
    },
    {
     "name": "stdout",
     "output_type": "stream",
     "text": [
      "DataBatch(x=[4096, 1], edge_index=[2, 12288], edge_attr=[12288, 3], y=[1024], batch=[4096], ptr=[1025])\n"
     ]
    },
    {
     "name": "stderr",
     "output_type": "stream",
     "text": [
      " 60%|██████    | 122/202 [03:07<02:03,  1.54s/it]"
     ]
    },
    {
     "name": "stdout",
     "output_type": "stream",
     "text": [
      "DataBatch(x=[4096, 1], edge_index=[2, 12288], edge_attr=[12288, 3], y=[1024], batch=[4096], ptr=[1025])\n"
     ]
    },
    {
     "name": "stderr",
     "output_type": "stream",
     "text": [
      " 61%|██████    | 123/202 [03:09<02:01,  1.54s/it]"
     ]
    },
    {
     "name": "stdout",
     "output_type": "stream",
     "text": [
      "DataBatch(x=[4096, 1], edge_index=[2, 12288], edge_attr=[12288, 3], y=[1024], batch=[4096], ptr=[1025])\n"
     ]
    },
    {
     "name": "stderr",
     "output_type": "stream",
     "text": [
      " 61%|██████▏   | 124/202 [03:10<02:00,  1.54s/it]"
     ]
    },
    {
     "name": "stdout",
     "output_type": "stream",
     "text": [
      "DataBatch(x=[4096, 1], edge_index=[2, 12288], edge_attr=[12288, 3], y=[1024], batch=[4096], ptr=[1025])\n"
     ]
    },
    {
     "name": "stderr",
     "output_type": "stream",
     "text": [
      " 62%|██████▏   | 125/202 [03:12<01:58,  1.53s/it]"
     ]
    },
    {
     "name": "stdout",
     "output_type": "stream",
     "text": [
      "DataBatch(x=[4096, 1], edge_index=[2, 12288], edge_attr=[12288, 3], y=[1024], batch=[4096], ptr=[1025])\n"
     ]
    },
    {
     "name": "stderr",
     "output_type": "stream",
     "text": [
      " 62%|██████▏   | 126/202 [03:13<01:56,  1.53s/it]"
     ]
    },
    {
     "name": "stdout",
     "output_type": "stream",
     "text": [
      "DataBatch(x=[4096, 1], edge_index=[2, 12288], edge_attr=[12288, 3], y=[1024], batch=[4096], ptr=[1025])\n"
     ]
    },
    {
     "name": "stderr",
     "output_type": "stream",
     "text": [
      " 63%|██████▎   | 127/202 [03:15<01:54,  1.52s/it]"
     ]
    },
    {
     "name": "stdout",
     "output_type": "stream",
     "text": [
      "DataBatch(x=[4096, 1], edge_index=[2, 12288], edge_attr=[12288, 3], y=[1024], batch=[4096], ptr=[1025])\n"
     ]
    },
    {
     "name": "stderr",
     "output_type": "stream",
     "text": [
      " 63%|██████▎   | 128/202 [03:16<01:57,  1.59s/it]"
     ]
    },
    {
     "name": "stdout",
     "output_type": "stream",
     "text": [
      "DataBatch(x=[4096, 1], edge_index=[2, 12288], edge_attr=[12288, 3], y=[1024], batch=[4096], ptr=[1025])\n"
     ]
    },
    {
     "name": "stderr",
     "output_type": "stream",
     "text": [
      " 64%|██████▍   | 129/202 [03:18<01:54,  1.57s/it]"
     ]
    },
    {
     "name": "stdout",
     "output_type": "stream",
     "text": [
      "DataBatch(x=[4096, 1], edge_index=[2, 12288], edge_attr=[12288, 3], y=[1024], batch=[4096], ptr=[1025])\n"
     ]
    },
    {
     "name": "stderr",
     "output_type": "stream",
     "text": [
      " 64%|██████▍   | 130/202 [03:19<01:52,  1.56s/it]"
     ]
    },
    {
     "name": "stdout",
     "output_type": "stream",
     "text": [
      "DataBatch(x=[4096, 1], edge_index=[2, 12288], edge_attr=[12288, 3], y=[1024], batch=[4096], ptr=[1025])\n"
     ]
    },
    {
     "name": "stderr",
     "output_type": "stream",
     "text": [
      " 65%|██████▍   | 131/202 [03:21<01:49,  1.55s/it]"
     ]
    },
    {
     "name": "stdout",
     "output_type": "stream",
     "text": [
      "DataBatch(x=[4096, 1], edge_index=[2, 12288], edge_attr=[12288, 3], y=[1024], batch=[4096], ptr=[1025])\n"
     ]
    },
    {
     "name": "stderr",
     "output_type": "stream",
     "text": [
      " 65%|██████▌   | 132/202 [03:23<01:47,  1.53s/it]"
     ]
    },
    {
     "name": "stdout",
     "output_type": "stream",
     "text": [
      "DataBatch(x=[4096, 1], edge_index=[2, 12288], edge_attr=[12288, 3], y=[1024], batch=[4096], ptr=[1025])\n"
     ]
    },
    {
     "name": "stderr",
     "output_type": "stream",
     "text": [
      " 66%|██████▌   | 133/202 [03:24<01:45,  1.53s/it]"
     ]
    },
    {
     "name": "stdout",
     "output_type": "stream",
     "text": [
      "DataBatch(x=[4096, 1], edge_index=[2, 12288], edge_attr=[12288, 3], y=[1024], batch=[4096], ptr=[1025])\n"
     ]
    },
    {
     "name": "stderr",
     "output_type": "stream",
     "text": [
      " 66%|██████▋   | 134/202 [03:26<01:43,  1.52s/it]"
     ]
    },
    {
     "name": "stdout",
     "output_type": "stream",
     "text": [
      "DataBatch(x=[4096, 1], edge_index=[2, 12288], edge_attr=[12288, 3], y=[1024], batch=[4096], ptr=[1025])\n"
     ]
    },
    {
     "name": "stderr",
     "output_type": "stream",
     "text": [
      " 67%|██████▋   | 135/202 [03:27<01:41,  1.52s/it]"
     ]
    },
    {
     "name": "stdout",
     "output_type": "stream",
     "text": [
      "DataBatch(x=[4096, 1], edge_index=[2, 12288], edge_attr=[12288, 3], y=[1024], batch=[4096], ptr=[1025])\n"
     ]
    },
    {
     "name": "stderr",
     "output_type": "stream",
     "text": [
      " 67%|██████▋   | 136/202 [03:29<01:41,  1.53s/it]"
     ]
    },
    {
     "name": "stdout",
     "output_type": "stream",
     "text": [
      "DataBatch(x=[4096, 1], edge_index=[2, 12288], edge_attr=[12288, 3], y=[1024], batch=[4096], ptr=[1025])\n"
     ]
    },
    {
     "name": "stderr",
     "output_type": "stream",
     "text": [
      " 68%|██████▊   | 137/202 [03:30<01:39,  1.53s/it]"
     ]
    },
    {
     "name": "stdout",
     "output_type": "stream",
     "text": [
      "DataBatch(x=[4096, 1], edge_index=[2, 12288], edge_attr=[12288, 3], y=[1024], batch=[4096], ptr=[1025])\n"
     ]
    },
    {
     "name": "stderr",
     "output_type": "stream",
     "text": [
      " 68%|██████▊   | 138/202 [03:32<01:37,  1.52s/it]"
     ]
    },
    {
     "name": "stdout",
     "output_type": "stream",
     "text": [
      "DataBatch(x=[4096, 1], edge_index=[2, 12288], edge_attr=[12288, 3], y=[1024], batch=[4096], ptr=[1025])\n"
     ]
    },
    {
     "name": "stderr",
     "output_type": "stream",
     "text": [
      " 69%|██████▉   | 139/202 [03:33<01:35,  1.52s/it]"
     ]
    },
    {
     "name": "stdout",
     "output_type": "stream",
     "text": [
      "DataBatch(x=[4096, 1], edge_index=[2, 12288], edge_attr=[12288, 3], y=[1024], batch=[4096], ptr=[1025])\n"
     ]
    },
    {
     "name": "stderr",
     "output_type": "stream",
     "text": [
      " 69%|██████▉   | 140/202 [03:35<01:34,  1.53s/it]"
     ]
    },
    {
     "name": "stdout",
     "output_type": "stream",
     "text": [
      "DataBatch(x=[4096, 1], edge_index=[2, 12288], edge_attr=[12288, 3], y=[1024], batch=[4096], ptr=[1025])\n"
     ]
    },
    {
     "name": "stderr",
     "output_type": "stream",
     "text": [
      " 70%|██████▉   | 141/202 [03:36<01:33,  1.54s/it]"
     ]
    },
    {
     "name": "stdout",
     "output_type": "stream",
     "text": [
      "DataBatch(x=[4096, 1], edge_index=[2, 12288], edge_attr=[12288, 3], y=[1024], batch=[4096], ptr=[1025])\n"
     ]
    },
    {
     "name": "stderr",
     "output_type": "stream",
     "text": [
      " 70%|███████   | 142/202 [03:38<01:32,  1.54s/it]"
     ]
    },
    {
     "name": "stdout",
     "output_type": "stream",
     "text": [
      "DataBatch(x=[4096, 1], edge_index=[2, 12288], edge_attr=[12288, 3], y=[1024], batch=[4096], ptr=[1025])\n"
     ]
    },
    {
     "name": "stderr",
     "output_type": "stream",
     "text": [
      " 71%|███████   | 143/202 [03:40<01:34,  1.60s/it]"
     ]
    },
    {
     "name": "stdout",
     "output_type": "stream",
     "text": [
      "DataBatch(x=[4096, 1], edge_index=[2, 12288], edge_attr=[12288, 3], y=[1024], batch=[4096], ptr=[1025])\n"
     ]
    },
    {
     "name": "stderr",
     "output_type": "stream",
     "text": [
      " 71%|███████▏  | 144/202 [03:41<01:31,  1.58s/it]"
     ]
    },
    {
     "name": "stdout",
     "output_type": "stream",
     "text": [
      "DataBatch(x=[4096, 1], edge_index=[2, 12288], edge_attr=[12288, 3], y=[1024], batch=[4096], ptr=[1025])\n"
     ]
    },
    {
     "name": "stderr",
     "output_type": "stream",
     "text": [
      " 72%|███████▏  | 145/202 [03:43<01:28,  1.56s/it]"
     ]
    },
    {
     "name": "stdout",
     "output_type": "stream",
     "text": [
      "DataBatch(x=[4096, 1], edge_index=[2, 12288], edge_attr=[12288, 3], y=[1024], batch=[4096], ptr=[1025])\n"
     ]
    },
    {
     "name": "stderr",
     "output_type": "stream",
     "text": [
      " 72%|███████▏  | 146/202 [03:44<01:26,  1.55s/it]"
     ]
    },
    {
     "name": "stdout",
     "output_type": "stream",
     "text": [
      "DataBatch(x=[4096, 1], edge_index=[2, 12288], edge_attr=[12288, 3], y=[1024], batch=[4096], ptr=[1025])\n"
     ]
    },
    {
     "name": "stderr",
     "output_type": "stream",
     "text": [
      " 73%|███████▎  | 147/202 [03:46<01:24,  1.54s/it]"
     ]
    },
    {
     "name": "stdout",
     "output_type": "stream",
     "text": [
      "DataBatch(x=[4096, 1], edge_index=[2, 12288], edge_attr=[12288, 3], y=[1024], batch=[4096], ptr=[1025])\n"
     ]
    },
    {
     "name": "stderr",
     "output_type": "stream",
     "text": [
      " 73%|███████▎  | 148/202 [03:47<01:22,  1.54s/it]"
     ]
    },
    {
     "name": "stdout",
     "output_type": "stream",
     "text": [
      "DataBatch(x=[4096, 1], edge_index=[2, 12288], edge_attr=[12288, 3], y=[1024], batch=[4096], ptr=[1025])\n"
     ]
    },
    {
     "name": "stderr",
     "output_type": "stream",
     "text": [
      " 74%|███████▍  | 149/202 [03:49<01:21,  1.54s/it]"
     ]
    },
    {
     "name": "stdout",
     "output_type": "stream",
     "text": [
      "DataBatch(x=[4096, 1], edge_index=[2, 12288], edge_attr=[12288, 3], y=[1024], batch=[4096], ptr=[1025])\n"
     ]
    },
    {
     "name": "stderr",
     "output_type": "stream",
     "text": [
      " 74%|███████▍  | 150/202 [03:50<01:20,  1.55s/it]"
     ]
    },
    {
     "name": "stdout",
     "output_type": "stream",
     "text": [
      "DataBatch(x=[4096, 1], edge_index=[2, 12288], edge_attr=[12288, 3], y=[1024], batch=[4096], ptr=[1025])\n"
     ]
    },
    {
     "name": "stderr",
     "output_type": "stream",
     "text": [
      " 75%|███████▍  | 151/202 [03:52<01:18,  1.54s/it]"
     ]
    },
    {
     "name": "stdout",
     "output_type": "stream",
     "text": [
      "DataBatch(x=[4096, 1], edge_index=[2, 12288], edge_attr=[12288, 3], y=[1024], batch=[4096], ptr=[1025])\n"
     ]
    },
    {
     "name": "stderr",
     "output_type": "stream",
     "text": [
      " 75%|███████▌  | 152/202 [03:53<01:16,  1.53s/it]"
     ]
    },
    {
     "name": "stdout",
     "output_type": "stream",
     "text": [
      "DataBatch(x=[4096, 1], edge_index=[2, 12288], edge_attr=[12288, 3], y=[1024], batch=[4096], ptr=[1025])\n"
     ]
    },
    {
     "name": "stderr",
     "output_type": "stream",
     "text": [
      " 76%|███████▌  | 153/202 [03:55<01:14,  1.53s/it]"
     ]
    },
    {
     "name": "stdout",
     "output_type": "stream",
     "text": [
      "DataBatch(x=[4096, 1], edge_index=[2, 12288], edge_attr=[12288, 3], y=[1024], batch=[4096], ptr=[1025])\n"
     ]
    },
    {
     "name": "stderr",
     "output_type": "stream",
     "text": [
      " 76%|███████▌  | 154/202 [03:56<01:13,  1.53s/it]"
     ]
    },
    {
     "name": "stdout",
     "output_type": "stream",
     "text": [
      "DataBatch(x=[4096, 1], edge_index=[2, 12288], edge_attr=[12288, 3], y=[1024], batch=[4096], ptr=[1025])\n"
     ]
    },
    {
     "name": "stderr",
     "output_type": "stream",
     "text": [
      " 77%|███████▋  | 155/202 [03:58<01:11,  1.53s/it]"
     ]
    },
    {
     "name": "stdout",
     "output_type": "stream",
     "text": [
      "DataBatch(x=[4096, 1], edge_index=[2, 12288], edge_attr=[12288, 3], y=[1024], batch=[4096], ptr=[1025])\n"
     ]
    },
    {
     "name": "stderr",
     "output_type": "stream",
     "text": [
      " 77%|███████▋  | 156/202 [04:00<01:13,  1.60s/it]"
     ]
    },
    {
     "name": "stdout",
     "output_type": "stream",
     "text": [
      "DataBatch(x=[4096, 1], edge_index=[2, 12288], edge_attr=[12288, 3], y=[1024], batch=[4096], ptr=[1025])\n"
     ]
    },
    {
     "name": "stderr",
     "output_type": "stream",
     "text": [
      " 78%|███████▊  | 157/202 [04:01<01:10,  1.58s/it]"
     ]
    },
    {
     "name": "stdout",
     "output_type": "stream",
     "text": [
      "DataBatch(x=[4096, 1], edge_index=[2, 12288], edge_attr=[12288, 3], y=[1024], batch=[4096], ptr=[1025])\n"
     ]
    },
    {
     "name": "stderr",
     "output_type": "stream",
     "text": [
      " 78%|███████▊  | 158/202 [04:03<01:08,  1.55s/it]"
     ]
    },
    {
     "name": "stdout",
     "output_type": "stream",
     "text": [
      "DataBatch(x=[4096, 1], edge_index=[2, 12288], edge_attr=[12288, 3], y=[1024], batch=[4096], ptr=[1025])\n"
     ]
    },
    {
     "name": "stderr",
     "output_type": "stream",
     "text": [
      " 79%|███████▊  | 159/202 [04:04<01:06,  1.54s/it]"
     ]
    },
    {
     "name": "stdout",
     "output_type": "stream",
     "text": [
      "DataBatch(x=[4096, 1], edge_index=[2, 12288], edge_attr=[12288, 3], y=[1024], batch=[4096], ptr=[1025])\n"
     ]
    },
    {
     "name": "stderr",
     "output_type": "stream",
     "text": [
      " 79%|███████▉  | 160/202 [04:06<01:04,  1.53s/it]"
     ]
    },
    {
     "name": "stdout",
     "output_type": "stream",
     "text": [
      "DataBatch(x=[4096, 1], edge_index=[2, 12288], edge_attr=[12288, 3], y=[1024], batch=[4096], ptr=[1025])\n"
     ]
    },
    {
     "name": "stderr",
     "output_type": "stream",
     "text": [
      " 80%|███████▉  | 161/202 [04:07<01:03,  1.55s/it]"
     ]
    },
    {
     "name": "stdout",
     "output_type": "stream",
     "text": [
      "DataBatch(x=[4096, 1], edge_index=[2, 12288], edge_attr=[12288, 3], y=[1024], batch=[4096], ptr=[1025])\n"
     ]
    },
    {
     "name": "stderr",
     "output_type": "stream",
     "text": [
      " 80%|████████  | 162/202 [04:09<01:01,  1.55s/it]"
     ]
    },
    {
     "name": "stdout",
     "output_type": "stream",
     "text": [
      "DataBatch(x=[4096, 1], edge_index=[2, 12288], edge_attr=[12288, 3], y=[1024], batch=[4096], ptr=[1025])\n"
     ]
    },
    {
     "name": "stderr",
     "output_type": "stream",
     "text": [
      " 81%|████████  | 163/202 [04:10<00:59,  1.54s/it]"
     ]
    },
    {
     "name": "stdout",
     "output_type": "stream",
     "text": [
      "DataBatch(x=[4096, 1], edge_index=[2, 12288], edge_attr=[12288, 3], y=[1024], batch=[4096], ptr=[1025])\n"
     ]
    },
    {
     "name": "stderr",
     "output_type": "stream",
     "text": [
      " 81%|████████  | 164/202 [04:12<00:57,  1.52s/it]"
     ]
    },
    {
     "name": "stdout",
     "output_type": "stream",
     "text": [
      "DataBatch(x=[4096, 1], edge_index=[2, 12288], edge_attr=[12288, 3], y=[1024], batch=[4096], ptr=[1025])\n"
     ]
    },
    {
     "name": "stderr",
     "output_type": "stream",
     "text": [
      " 82%|████████▏ | 165/202 [04:13<00:56,  1.52s/it]"
     ]
    },
    {
     "name": "stdout",
     "output_type": "stream",
     "text": [
      "DataBatch(x=[4096, 1], edge_index=[2, 12288], edge_attr=[12288, 3], y=[1024], batch=[4096], ptr=[1025])\n"
     ]
    },
    {
     "name": "stderr",
     "output_type": "stream",
     "text": [
      " 82%|████████▏ | 166/202 [04:15<00:54,  1.52s/it]"
     ]
    },
    {
     "name": "stdout",
     "output_type": "stream",
     "text": [
      "DataBatch(x=[4096, 1], edge_index=[2, 12288], edge_attr=[12288, 3], y=[1024], batch=[4096], ptr=[1025])\n"
     ]
    },
    {
     "name": "stderr",
     "output_type": "stream",
     "text": [
      " 83%|████████▎ | 167/202 [04:16<00:53,  1.51s/it]"
     ]
    },
    {
     "name": "stdout",
     "output_type": "stream",
     "text": [
      "DataBatch(x=[4096, 1], edge_index=[2, 12288], edge_attr=[12288, 3], y=[1024], batch=[4096], ptr=[1025])\n"
     ]
    },
    {
     "name": "stderr",
     "output_type": "stream",
     "text": [
      " 83%|████████▎ | 168/202 [04:18<00:51,  1.52s/it]"
     ]
    },
    {
     "name": "stdout",
     "output_type": "stream",
     "text": [
      "DataBatch(x=[4096, 1], edge_index=[2, 12288], edge_attr=[12288, 3], y=[1024], batch=[4096], ptr=[1025])\n"
     ]
    },
    {
     "name": "stderr",
     "output_type": "stream",
     "text": [
      " 84%|████████▎ | 169/202 [04:19<00:50,  1.52s/it]"
     ]
    },
    {
     "name": "stdout",
     "output_type": "stream",
     "text": [
      "DataBatch(x=[4096, 1], edge_index=[2, 12288], edge_attr=[12288, 3], y=[1024], batch=[4096], ptr=[1025])\n"
     ]
    },
    {
     "name": "stderr",
     "output_type": "stream",
     "text": [
      " 84%|████████▍ | 170/202 [04:21<00:50,  1.59s/it]"
     ]
    },
    {
     "name": "stdout",
     "output_type": "stream",
     "text": [
      "DataBatch(x=[4096, 1], edge_index=[2, 12288], edge_attr=[12288, 3], y=[1024], batch=[4096], ptr=[1025])\n"
     ]
    },
    {
     "name": "stderr",
     "output_type": "stream",
     "text": [
      " 85%|████████▍ | 171/202 [04:23<00:48,  1.56s/it]"
     ]
    },
    {
     "name": "stdout",
     "output_type": "stream",
     "text": [
      "DataBatch(x=[4096, 1], edge_index=[2, 12288], edge_attr=[12288, 3], y=[1024], batch=[4096], ptr=[1025])\n"
     ]
    },
    {
     "name": "stderr",
     "output_type": "stream",
     "text": [
      " 85%|████████▌ | 172/202 [04:24<00:46,  1.55s/it]"
     ]
    },
    {
     "name": "stdout",
     "output_type": "stream",
     "text": [
      "DataBatch(x=[4096, 1], edge_index=[2, 12288], edge_attr=[12288, 3], y=[1024], batch=[4096], ptr=[1025])\n"
     ]
    },
    {
     "name": "stderr",
     "output_type": "stream",
     "text": [
      " 86%|████████▌ | 173/202 [04:26<00:44,  1.53s/it]"
     ]
    },
    {
     "name": "stdout",
     "output_type": "stream",
     "text": [
      "DataBatch(x=[4096, 1], edge_index=[2, 12288], edge_attr=[12288, 3], y=[1024], batch=[4096], ptr=[1025])\n"
     ]
    },
    {
     "name": "stderr",
     "output_type": "stream",
     "text": [
      " 86%|████████▌ | 174/202 [04:27<00:42,  1.53s/it]"
     ]
    },
    {
     "name": "stdout",
     "output_type": "stream",
     "text": [
      "DataBatch(x=[4096, 1], edge_index=[2, 12288], edge_attr=[12288, 3], y=[1024], batch=[4096], ptr=[1025])\n"
     ]
    },
    {
     "name": "stderr",
     "output_type": "stream",
     "text": [
      " 87%|████████▋ | 175/202 [04:29<00:41,  1.54s/it]"
     ]
    },
    {
     "name": "stdout",
     "output_type": "stream",
     "text": [
      "DataBatch(x=[4096, 1], edge_index=[2, 12288], edge_attr=[12288, 3], y=[1024], batch=[4096], ptr=[1025])\n"
     ]
    },
    {
     "name": "stderr",
     "output_type": "stream",
     "text": [
      " 87%|████████▋ | 176/202 [04:30<00:39,  1.53s/it]"
     ]
    },
    {
     "name": "stdout",
     "output_type": "stream",
     "text": [
      "DataBatch(x=[4096, 1], edge_index=[2, 12288], edge_attr=[12288, 3], y=[1024], batch=[4096], ptr=[1025])\n"
     ]
    },
    {
     "name": "stderr",
     "output_type": "stream",
     "text": [
      " 88%|████████▊ | 177/202 [04:32<00:38,  1.53s/it]"
     ]
    },
    {
     "name": "stdout",
     "output_type": "stream",
     "text": [
      "DataBatch(x=[4096, 1], edge_index=[2, 12288], edge_attr=[12288, 3], y=[1024], batch=[4096], ptr=[1025])\n"
     ]
    },
    {
     "name": "stderr",
     "output_type": "stream",
     "text": [
      " 88%|████████▊ | 178/202 [04:33<00:36,  1.52s/it]"
     ]
    },
    {
     "name": "stdout",
     "output_type": "stream",
     "text": [
      "DataBatch(x=[4096, 1], edge_index=[2, 12288], edge_attr=[12288, 3], y=[1024], batch=[4096], ptr=[1025])\n"
     ]
    },
    {
     "name": "stderr",
     "output_type": "stream",
     "text": [
      " 89%|████████▊ | 179/202 [04:35<00:34,  1.52s/it]"
     ]
    },
    {
     "name": "stdout",
     "output_type": "stream",
     "text": [
      "DataBatch(x=[4096, 1], edge_index=[2, 12288], edge_attr=[12288, 3], y=[1024], batch=[4096], ptr=[1025])\n"
     ]
    },
    {
     "name": "stderr",
     "output_type": "stream",
     "text": [
      " 89%|████████▉ | 180/202 [04:36<00:33,  1.52s/it]"
     ]
    },
    {
     "name": "stdout",
     "output_type": "stream",
     "text": [
      "DataBatch(x=[4096, 1], edge_index=[2, 12288], edge_attr=[12288, 3], y=[1024], batch=[4096], ptr=[1025])\n"
     ]
    },
    {
     "name": "stderr",
     "output_type": "stream",
     "text": [
      " 90%|████████▉ | 181/202 [04:38<00:32,  1.53s/it]"
     ]
    },
    {
     "name": "stdout",
     "output_type": "stream",
     "text": [
      "DataBatch(x=[4096, 1], edge_index=[2, 12288], edge_attr=[12288, 3], y=[1024], batch=[4096], ptr=[1025])\n"
     ]
    },
    {
     "name": "stderr",
     "output_type": "stream",
     "text": [
      " 90%|█████████ | 182/202 [04:39<00:30,  1.54s/it]"
     ]
    },
    {
     "name": "stdout",
     "output_type": "stream",
     "text": [
      "DataBatch(x=[4096, 1], edge_index=[2, 12288], edge_attr=[12288, 3], y=[1024], batch=[4096], ptr=[1025])\n"
     ]
    },
    {
     "name": "stderr",
     "output_type": "stream",
     "text": [
      " 91%|█████████ | 183/202 [04:41<00:29,  1.54s/it]"
     ]
    },
    {
     "name": "stdout",
     "output_type": "stream",
     "text": [
      "DataBatch(x=[4096, 1], edge_index=[2, 12288], edge_attr=[12288, 3], y=[1024], batch=[4096], ptr=[1025])\n"
     ]
    },
    {
     "name": "stderr",
     "output_type": "stream",
     "text": [
      " 91%|█████████ | 184/202 [04:43<00:28,  1.59s/it]"
     ]
    },
    {
     "name": "stdout",
     "output_type": "stream",
     "text": [
      "DataBatch(x=[4096, 1], edge_index=[2, 12288], edge_attr=[12288, 3], y=[1024], batch=[4096], ptr=[1025])\n"
     ]
    },
    {
     "name": "stderr",
     "output_type": "stream",
     "text": [
      " 92%|█████████▏| 185/202 [04:44<00:26,  1.56s/it]"
     ]
    },
    {
     "name": "stdout",
     "output_type": "stream",
     "text": [
      "DataBatch(x=[4096, 1], edge_index=[2, 12288], edge_attr=[12288, 3], y=[1024], batch=[4096], ptr=[1025])\n"
     ]
    },
    {
     "name": "stderr",
     "output_type": "stream",
     "text": [
      " 92%|█████████▏| 186/202 [04:46<00:24,  1.55s/it]"
     ]
    },
    {
     "name": "stdout",
     "output_type": "stream",
     "text": [
      "DataBatch(x=[4096, 1], edge_index=[2, 12288], edge_attr=[12288, 3], y=[1024], batch=[4096], ptr=[1025])\n"
     ]
    },
    {
     "name": "stderr",
     "output_type": "stream",
     "text": [
      " 93%|█████████▎| 187/202 [04:47<00:23,  1.54s/it]"
     ]
    },
    {
     "name": "stdout",
     "output_type": "stream",
     "text": [
      "DataBatch(x=[4096, 1], edge_index=[2, 12288], edge_attr=[12288, 3], y=[1024], batch=[4096], ptr=[1025])\n"
     ]
    },
    {
     "name": "stderr",
     "output_type": "stream",
     "text": [
      " 93%|█████████▎| 188/202 [04:49<00:21,  1.55s/it]"
     ]
    },
    {
     "name": "stdout",
     "output_type": "stream",
     "text": [
      "DataBatch(x=[4096, 1], edge_index=[2, 12288], edge_attr=[12288, 3], y=[1024], batch=[4096], ptr=[1025])\n"
     ]
    },
    {
     "name": "stderr",
     "output_type": "stream",
     "text": [
      " 94%|█████████▎| 189/202 [04:50<00:20,  1.55s/it]"
     ]
    },
    {
     "name": "stdout",
     "output_type": "stream",
     "text": [
      "DataBatch(x=[4096, 1], edge_index=[2, 12288], edge_attr=[12288, 3], y=[1024], batch=[4096], ptr=[1025])\n"
     ]
    },
    {
     "name": "stderr",
     "output_type": "stream",
     "text": [
      " 94%|█████████▍| 190/202 [04:52<00:18,  1.54s/it]"
     ]
    },
    {
     "name": "stdout",
     "output_type": "stream",
     "text": [
      "DataBatch(x=[4096, 1], edge_index=[2, 12288], edge_attr=[12288, 3], y=[1024], batch=[4096], ptr=[1025])\n"
     ]
    },
    {
     "name": "stderr",
     "output_type": "stream",
     "text": [
      " 95%|█████████▍| 191/202 [04:53<00:16,  1.53s/it]"
     ]
    },
    {
     "name": "stdout",
     "output_type": "stream",
     "text": [
      "DataBatch(x=[4096, 1], edge_index=[2, 12288], edge_attr=[12288, 3], y=[1024], batch=[4096], ptr=[1025])\n"
     ]
    },
    {
     "name": "stderr",
     "output_type": "stream",
     "text": [
      " 95%|█████████▌| 192/202 [04:55<00:15,  1.52s/it]"
     ]
    },
    {
     "name": "stdout",
     "output_type": "stream",
     "text": [
      "DataBatch(x=[4096, 1], edge_index=[2, 12288], edge_attr=[12288, 3], y=[1024], batch=[4096], ptr=[1025])\n"
     ]
    },
    {
     "name": "stderr",
     "output_type": "stream",
     "text": [
      " 96%|█████████▌| 193/202 [04:56<00:13,  1.52s/it]"
     ]
    },
    {
     "name": "stdout",
     "output_type": "stream",
     "text": [
      "DataBatch(x=[4096, 1], edge_index=[2, 12288], edge_attr=[12288, 3], y=[1024], batch=[4096], ptr=[1025])\n"
     ]
    },
    {
     "name": "stderr",
     "output_type": "stream",
     "text": [
      " 96%|█████████▌| 194/202 [04:58<00:12,  1.52s/it]"
     ]
    },
    {
     "name": "stdout",
     "output_type": "stream",
     "text": [
      "DataBatch(x=[4096, 1], edge_index=[2, 12288], edge_attr=[12288, 3], y=[1024], batch=[4096], ptr=[1025])\n"
     ]
    },
    {
     "name": "stderr",
     "output_type": "stream",
     "text": [
      " 97%|█████████▋| 195/202 [04:59<00:10,  1.52s/it]"
     ]
    },
    {
     "name": "stdout",
     "output_type": "stream",
     "text": [
      "DataBatch(x=[4096, 1], edge_index=[2, 12288], edge_attr=[12288, 3], y=[1024], batch=[4096], ptr=[1025])\n"
     ]
    },
    {
     "name": "stderr",
     "output_type": "stream",
     "text": [
      " 97%|█████████▋| 196/202 [05:01<00:09,  1.52s/it]"
     ]
    },
    {
     "name": "stdout",
     "output_type": "stream",
     "text": [
      "DataBatch(x=[4096, 1], edge_index=[2, 12288], edge_attr=[12288, 3], y=[1024], batch=[4096], ptr=[1025])\n"
     ]
    },
    {
     "name": "stderr",
     "output_type": "stream",
     "text": [
      " 98%|█████████▊| 197/202 [05:02<00:07,  1.52s/it]"
     ]
    },
    {
     "name": "stdout",
     "output_type": "stream",
     "text": [
      "DataBatch(x=[4096, 1], edge_index=[2, 12288], edge_attr=[12288, 3], y=[1024], batch=[4096], ptr=[1025])\n"
     ]
    },
    {
     "name": "stderr",
     "output_type": "stream",
     "text": [
      " 98%|█████████▊| 198/202 [05:04<00:06,  1.58s/it]"
     ]
    },
    {
     "name": "stdout",
     "output_type": "stream",
     "text": [
      "DataBatch(x=[4096, 1], edge_index=[2, 12288], edge_attr=[12288, 3], y=[1024], batch=[4096], ptr=[1025])\n"
     ]
    },
    {
     "name": "stderr",
     "output_type": "stream",
     "text": [
      " 99%|█████████▊| 199/202 [05:06<00:04,  1.56s/it]"
     ]
    },
    {
     "name": "stdout",
     "output_type": "stream",
     "text": [
      "DataBatch(x=[4096, 1], edge_index=[2, 12288], edge_attr=[12288, 3], y=[1024], batch=[4096], ptr=[1025])\n"
     ]
    },
    {
     "name": "stderr",
     "output_type": "stream",
     "text": [
      " 99%|█████████▉| 200/202 [05:07<00:03,  1.54s/it]"
     ]
    },
    {
     "name": "stdout",
     "output_type": "stream",
     "text": [
      "DataBatch(x=[4096, 1], edge_index=[2, 12288], edge_attr=[12288, 3], y=[1024], batch=[4096], ptr=[1025])\n"
     ]
    },
    {
     "name": "stderr",
     "output_type": "stream",
     "text": [
      "100%|██████████| 202/202 [05:09<00:00,  1.53s/it]"
     ]
    },
    {
     "name": "stdout",
     "output_type": "stream",
     "text": [
      "DataBatch(x=[4096, 1], edge_index=[2, 12288], edge_attr=[12288, 3], y=[1024], batch=[4096], ptr=[1025])\n",
      "DataBatch(x=[380, 1], edge_index=[2, 1140], edge_attr=[1140, 3], y=[95], batch=[380], ptr=[96])\n",
      "Total GPU inference time: 309.424156 seconds\n"
     ]
    },
    {
     "name": "stderr",
     "output_type": "stream",
     "text": [
      "\n"
     ]
    },
    {
     "name": "stdout",
     "output_type": "stream",
     "text": [
      "MAE: 1.779760\n",
      "MSE: 7.731458\n"
     ]
    }
   ],
   "source": [
    "import time\n",
    "import numpy as np\n",
    "import torch\n",
    "from tqdm import tqdm\n",
    "import sklearn.metrics\n",
    "\n",
    "\n",
    "\n",
    "y_true_all = []\n",
    "y_pred_all = []\n",
    "test_los = 0\n",
    "loaded_model.eval()\n",
    "\n",
    "# Start GPU timer\n",
    "start_gpu_time = torch.cuda.Event(enable_timing=True)\n",
    "end_gpu_time = torch.cuda.Event(enable_timing=True)\n",
    "\n",
    "start_gpu_time.record()\n",
    "\n",
    "with torch.no_grad():\n",
    "    for data in tqdm(test_loader, position=0):\n",
    "        print(data)\n",
    "        data = data.to(device)\n",
    "        out = loaded_model(data)\n",
    "\n",
    "        # Collect true labels and predictions\n",
    "        labels = data.y.cpu().numpy()\n",
    "        y_true_all.extend(labels)\n",
    "        y_pred_all.extend(out.cpu().detach().numpy())\n",
    "\n",
    "        loss = criterion(out, data.y)\n",
    "        test_los += loss.cpu().detach().numpy() / len(test_loader)\n",
    "\n",
    "# End GPU timer\n",
    "end_gpu_time.record()\n",
    "\n",
    "# Waits for everything to finish running on the GPU\n",
    "torch.cuda.synchronize()\n",
    "\n",
    "# Calculate total GPU inference time\n",
    "total_gpu_inference_time = start_gpu_time.elapsed_time(end_gpu_time) / 1000.0  # Convert to seconds\n",
    "print(f\"Total GPU inference time: {total_gpu_inference_time:.6f} seconds\")\n",
    "\n",
    "# Convert collected labels and predictions to numpy arrays\n",
    "y_true_all = np.array(y_true_all)\n",
    "y_pred_all = np.array(y_pred_all)\n",
    "\n",
    "# Apply scaling to the predictions\n",
    "y_true_all = y_true_all * scaler.scale_[34] + scaler.mean_[34]\n",
    "y_pred_all = y_pred_all * scaler.scale_[34] + scaler.mean_[34]\n",
    "\n",
    "# Calculate F1 scores and accuracy\n",
    "f1_scores = f1_comp(y_true_all, y_pred_all)\n",
    "accuracy_scores = acc_comp(y_true_all, y_pred_all)\n",
    "\n",
    "# Calculate MAE\n",
    "mae = sklearn.metrics.mean_absolute_error(y_true_all, y_pred_all)\n",
    "mse = sklearn.metrics.mean_squared_error(y_true_all, y_pred_all)\n",
    "\n",
    "print(f\"MAE: {mae:.6f}\")\n",
    "print(f\"MSE: {mse:.6f}\")"
   ]
  },
  {
   "cell_type": "code",
   "execution_count": 65,
   "id": "d62696af",
   "metadata": {
    "execution": {
     "iopub.execute_input": "2025-05-09T02:27:19.099675Z",
     "iopub.status.busy": "2025-05-09T02:27:19.099099Z",
     "iopub.status.idle": "2025-05-09T02:27:19.103681Z",
     "shell.execute_reply": "2025-05-09T02:27:19.103113Z"
    },
    "papermill": {
     "duration": 0.045895,
     "end_time": "2025-05-09T02:27:19.104789",
     "exception": false,
     "start_time": "2025-05-09T02:27:19.058894",
     "status": "completed"
    },
    "tags": []
   },
   "outputs": [
    {
     "data": {
      "text/plain": [
       "(3.9377537017281714, 5.766601620977637)"
      ]
     },
     "execution_count": 65,
     "metadata": {},
     "output_type": "execute_result"
    }
   ],
   "source": [
    "scaler.scale_[34], scaler.mean_[34]"
   ]
  },
  {
   "cell_type": "code",
   "execution_count": 66,
   "id": "4536e8aa",
   "metadata": {
    "execution": {
     "iopub.execute_input": "2025-05-09T02:27:19.186145Z",
     "iopub.status.busy": "2025-05-09T02:27:19.185587Z",
     "iopub.status.idle": "2025-05-09T02:27:19.190072Z",
     "shell.execute_reply": "2025-05-09T02:27:19.189296Z"
    },
    "papermill": {
     "duration": 0.046093,
     "end_time": "2025-05-09T02:27:19.191113",
     "exception": false,
     "start_time": "2025-05-09T02:27:19.145020",
     "status": "completed"
    },
    "tags": []
   },
   "outputs": [
    {
     "name": "stdout",
     "output_type": "stream",
     "text": [
      "Test_loss: 0.4982306092682453\n",
      "F1 Scores: 0.0\n",
      "Accuracy Scores: 100.0\n",
      "Mean Absolute Error (MAE): 1.7797595\n"
     ]
    }
   ],
   "source": [
    "# Print results\n",
    "print('Test_loss:', test_los)\n",
    "print(\"F1 Scores:\", f1_scores[-1])\n",
    "print(\"Accuracy Scores:\", accuracy_scores[-1])\n",
    "print(\"Mean Absolute Error (MAE):\", mae)"
   ]
  },
  {
   "cell_type": "code",
   "execution_count": 67,
   "id": "0a3233a4",
   "metadata": {
    "execution": {
     "iopub.execute_input": "2025-05-09T02:27:19.271523Z",
     "iopub.status.busy": "2025-05-09T02:27:19.270890Z",
     "iopub.status.idle": "2025-05-09T02:27:19.276159Z",
     "shell.execute_reply": "2025-05-09T02:27:19.275648Z"
    },
    "papermill": {
     "duration": 0.046425,
     "end_time": "2025-05-09T02:27:19.277086",
     "exception": false,
     "start_time": "2025-05-09T02:27:19.230661",
     "status": "completed"
    },
    "tags": []
   },
   "outputs": [
    {
     "name": "stdout",
     "output_type": "stream",
     "text": [
      "Results saved to evaluation_results.csv\n"
     ]
    }
   ],
   "source": [
    "import csv\n",
    "\n",
    "# Data to be saved\n",
    "results = {\n",
    "    'Test_loss': test_los,\n",
    "    'F1_Score': f1_scores[-1],\n",
    "    'Accuracy_Score': accuracy_scores[-1],\n",
    "    'MAE': mae\n",
    "}\n",
    "\n",
    "# Save to CSV\n",
    "with open('evaluation_results.csv', mode='w', newline='') as file:\n",
    "    writer = csv.writer(file)\n",
    "    writer.writerow(['Metric', 'Value'])\n",
    "    for key, value in results.items():\n",
    "        writer.writerow([key, value])\n",
    "\n",
    "print('Results saved to evaluation_results.csv')"
   ]
  },
  {
   "cell_type": "code",
   "execution_count": 68,
   "id": "7b4fa44a",
   "metadata": {
    "execution": {
     "iopub.execute_input": "2025-05-09T02:27:19.357386Z",
     "iopub.status.busy": "2025-05-09T02:27:19.357184Z",
     "iopub.status.idle": "2025-05-09T02:27:20.031014Z",
     "shell.execute_reply": "2025-05-09T02:27:20.030290Z"
    },
    "papermill": {
     "duration": 0.715786,
     "end_time": "2025-05-09T02:27:20.032677",
     "exception": false,
     "start_time": "2025-05-09T02:27:19.316891",
     "status": "completed"
    },
    "tags": []
   },
   "outputs": [
    {
     "data": {
      "image/png": "[encoded data removed]",
      "text/plain": [
       "<Figure size 1000x600 with 1 Axes>"
      ]
     },
     "metadata": {},
     "output_type": "display_data"
    }
   ],
   "source": [
    "import matplotlib.pyplot as plt\n",
    "\n",
    "# Assuming y_true_all and y_pred_all are defined and properly inverted\n",
    "\n",
    "plt.figure(figsize=(10, 6))\n",
    "plt.scatter(y_true_all, y_pred_all, alpha=0.5)\n",
    "plt.xlabel('True Values')\n",
    "plt.ylabel('Predicted Values')\n",
    "plt.title('True vs Predicted Values')\n",
    "plt.plot([min(y_true_all), max(y_true_all)], [min(y_true_all), max(y_true_all)], color='red', linestyle='--') # Line of equality\n",
    "plt.grid(True)\n",
    "plt.show()\n"
   ]
  },
  {
   "cell_type": "code",
   "execution_count": 69,
   "id": "c3ff6170",
   "metadata": {
    "execution": {
     "iopub.execute_input": "2025-05-09T02:27:20.119362Z",
     "iopub.status.busy": "2025-05-09T02:27:20.118654Z",
     "iopub.status.idle": "2025-05-09T02:27:32.293657Z",
     "shell.execute_reply": "2025-05-09T02:27:32.293019Z"
    },
    "papermill": {
     "duration": 12.219951,
     "end_time": "2025-05-09T02:27:32.296080",
     "exception": false,
     "start_time": "2025-05-09T02:27:20.076129",
     "status": "completed"
    },
    "tags": []
   },
   "outputs": [
    {
     "data": {
      "image/png": "[encoded data removed]",
      "text/plain": [
       "<Figure size 1000x600 with 1 Axes>"
      ]
     },
     "metadata": {},
     "output_type": "display_data"
    }
   ],
   "source": [
    "import matplotlib.pyplot as plt\n",
    "\n",
    "# Example data for y_true_all and y_pred_all\n",
    "# y_true_all = [your data here]\n",
    "# y_pred_all = [your data here]\n",
    "\n",
    "plt.figure(figsize=(10, 6))\n",
    "\n",
    "# Plotting the true values\n",
    "plt.scatter(range(len(y_true_all)), y_true_all, color='blue', alpha=0.5, label='True Values')\n",
    "\n",
    "# Plotting the predicted values\n",
    "plt.scatter(range(len(y_pred_all)), y_pred_all, color='orange', alpha=0.5, label='Predicted Values')\n",
    "\n",
    "plt.xlabel('Index')\n",
    "plt.ylabel('Values')\n",
    "plt.title('True Values vs Predicted Values')\n",
    "plt.legend()\n",
    "plt.grid(True)\n",
    "plt.show()\n"
   ]
  },
  {
   "cell_type": "code",
   "execution_count": 70,
   "id": "8b3e160b",
   "metadata": {
    "execution": {
     "iopub.execute_input": "2025-05-09T02:27:32.387695Z",
     "iopub.status.busy": "2025-05-09T02:27:32.387021Z",
     "iopub.status.idle": "2025-05-09T02:27:32.400143Z",
     "shell.execute_reply": "2025-05-09T02:27:32.399646Z"
    },
    "papermill": {
     "duration": 0.059392,
     "end_time": "2025-05-09T02:27:32.401170",
     "exception": false,
     "start_time": "2025-05-09T02:27:32.341778",
     "status": "completed"
    },
    "tags": []
   },
   "outputs": [],
   "source": [
    "from scipy.stats import norm\n",
    "import numpy as np\n",
    "from scipy import stats\n",
    "import matplotlib.pyplot as plt\n",
    "from matplotlib.transforms import Bbox\n",
    "import plotly.graph_objects as go\n",
    "from scipy.optimize import curve_fit"
   ]
  },
  {
   "cell_type": "code",
   "execution_count": 71,
   "id": "b8bad902",
   "metadata": {
    "execution": {
     "iopub.execute_input": "2025-05-09T02:27:32.489528Z",
     "iopub.status.busy": "2025-05-09T02:27:32.488956Z",
     "iopub.status.idle": "2025-05-09T02:27:32.492466Z",
     "shell.execute_reply": "2025-05-09T02:27:32.491928Z"
    },
    "papermill": {
     "duration": 0.048556,
     "end_time": "2025-05-09T02:27:32.493527",
     "exception": false,
     "start_time": "2025-05-09T02:27:32.444971",
     "status": "completed"
    },
    "tags": []
   },
   "outputs": [],
   "source": [
    "def cuts(datain,datacheck,minval,maxval):\n",
    "    dataout = datain[np.logical_and(datacheck > minval, datacheck < maxval)]\n",
    "    \n",
    "    return(dataout)"
   ]
  },
  {
   "cell_type": "code",
   "execution_count": 72,
   "id": "4e7bc540",
   "metadata": {
    "execution": {
     "iopub.execute_input": "2025-05-09T02:27:32.583017Z",
     "iopub.status.busy": "2025-05-09T02:27:32.582352Z",
     "iopub.status.idle": "2025-05-09T02:27:32.590879Z",
     "shell.execute_reply": "2025-05-09T02:27:32.590342Z"
    },
    "papermill": {
     "duration": 0.053878,
     "end_time": "2025-05-09T02:27:32.592030",
     "exception": false,
     "start_time": "2025-05-09T02:27:32.538152",
     "status": "completed"
    },
    "tags": []
   },
   "outputs": [],
   "source": [
    "def plotgaussian(modelname, modelorreco, space, true, pred, varname, lower, upper, bins):\n",
    "    resmeans = []\n",
    "    stdevs = []\n",
    "    bincenters = []\n",
    "    samples = []\n",
    "    \n",
    "    #Compute residuals and bin width\n",
    "    width = (upper - lower) / bins\n",
    "    true = cuts(true, pred, lower, upper)\n",
    "    pred = cuts(pred, pred, lower, upper)\n",
    "    pred = cuts(pred, true, lower, upper)\n",
    "    true = cuts(true, true, lower, upper)\n",
    "    \n",
    "    resids = true - pred\n",
    "    \n",
    "    #Create gaussian plot for each bin\n",
    "    for i in range(bins):\n",
    "        #Find bin dimensions\n",
    "        lowertemp = lower + width * i\n",
    "        uppertemp = lower + width * (i + 1)\n",
    "        bincentertemp = (uppertemp + lowertemp) / 2\n",
    "        \n",
    "        #Cut the residuals to within lower and upper range along true values\n",
    "        residscut = cuts(resids, \n",
    "                         true, \n",
    "                         lowertemp, \n",
    "                         uppertemp)\n",
    "        \n",
    "        varnametemp = '%s Residuals Distribution (%.2f to %.2f)' % (varname, \n",
    "                                                                    lowertemp, \n",
    "                                                                    uppertemp)\n",
    "        residscut.sort()\n",
    "        \n",
    "        #Computer statistics for residuals\n",
    "        resmeantemp, resstdtemp = norm.fit(residscut)\n",
    "        samplestemp = len(residscut)\n",
    "        pdf = stats.norm.pdf(residscut, resmeantemp, resstdtemp)\n",
    "        \n",
    "        #Plot histogram of residuals\n",
    "        plt.hist(residscut, \n",
    "                 bins=bins, \n",
    "                 histtype='step', \n",
    "                 color='blue', \n",
    "                 density=1, \n",
    "                 label='Residuals')\n",
    "        \n",
    "        #Plot the normal curve fitted to the residuals\n",
    "        plt.plot(residscut, \n",
    "                 pdf, \n",
    "                 label='Normal Curve', \n",
    "                 color='black')\n",
    "        plt.title(varnametemp)\n",
    "        \n",
    "        #Plot the residuals mean as a vertical line\n",
    "        plt.axvline(resmeantemp, \n",
    "                    label='Mean: %.2f' % resmeantemp, \n",
    "                    color='red')\n",
    "        plt.xlabel('Stdev: %.2f (samples: %.i)' % (resstdtemp, \n",
    "                                                   samplestemp))\n",
    "        \n",
    "        #Plot the full-width half maximum range\n",
    "        plt.axvspan(resmeantemp - resstdtemp / 2,\n",
    "                    resmeantemp + resstdtemp / 2,\n",
    "                    facecolor='g',\n",
    "                    alpha=.3,\n",
    "                    label='Stdev')        \n",
    "        plt.legend()\n",
    "        plt.savefig(f\"{space}_gaussian.png\", bbox_inches='tight')\n",
    "        plt.close()\n",
    "        \n",
    "        #Append values to lists to be used by scatter() function\n",
    "        resmeans.append(resmeantemp)\n",
    "        samples.append(samplestemp)\n",
    "        stdevs.append(resstdtemp)\n",
    "        bincenters.append(bincentertemp)\n",
    "    \n",
    "    resmean = np.mean(resids)\n",
    "    stddev = np.std(resids)    \n",
    "    \n",
    "    return resmeans, stdevs, bincenters, samples, resmean, stddev"
   ]
  },
  {
   "cell_type": "code",
   "execution_count": 73,
   "id": "8e78d168",
   "metadata": {
    "execution": {
     "iopub.execute_input": "2025-05-09T02:27:32.679982Z",
     "iopub.status.busy": "2025-05-09T02:27:32.679421Z",
     "iopub.status.idle": "2025-05-09T02:27:52.363887Z",
     "shell.execute_reply": "2025-05-09T02:27:52.363286Z"
    },
    "papermill": {
     "duration": 19.729771,
     "end_time": "2025-05-09T02:27:52.365255",
     "exception": false,
     "start_time": "2025-05-09T02:27:32.635484",
     "status": "completed"
    },
    "tags": []
   },
   "outputs": [],
   "source": [
    "resmeans, fwhms, bincenters, samples, resmean, stddev = \\\n",
    "    plotgaussian(model_name, \n",
    "                 'Model', \n",
    "                 \"/kaggle/working/\", \n",
    "                 y_true_all, \n",
    "                 y_pred_all, \n",
    "                 'pT', \n",
    "                 min_PT, \n",
    "                 max_pT, \n",
    "                 100)"
   ]
  },
  {
   "cell_type": "code",
   "execution_count": 74,
   "id": "333f59dd",
   "metadata": {
    "execution": {
     "iopub.execute_input": "2025-05-09T02:27:52.457138Z",
     "iopub.status.busy": "2025-05-09T02:27:52.456615Z",
     "iopub.status.idle": "2025-05-09T02:27:52.461899Z",
     "shell.execute_reply": "2025-05-09T02:27:52.461355Z"
    },
    "papermill": {
     "duration": 0.052744,
     "end_time": "2025-05-09T02:27:52.462965",
     "exception": false,
     "start_time": "2025-05-09T02:27:52.410221",
     "status": "completed"
    },
    "tags": []
   },
   "outputs": [],
   "source": [
    "def heatmap(modelname, modelorreco, space, true, pred, varname, lower, upper, bins):\n",
    "    #Get histogram dimensions and data using numpy\n",
    "    heatmap, xedges, yedges = np.histogram2d(true, \n",
    "                                             pred, \n",
    "                                             bins=bins, \n",
    "                                             range=[[lower, upper], [lower, upper]])\n",
    "    extent = [xedges[0], xedges[-1], yedges[0], yedges[-1]]\n",
    "    \n",
    "    #Plot heatmap\n",
    "    plt.imshow(heatmap.T, \n",
    "               extent=extent, \n",
    "               origin='lower')\n",
    "    plt.plot([lower, upper], \n",
    "             [lower, upper], \n",
    "             color='blue')\n",
    "    fig = plt.gcf()\n",
    "    plt.set_cmap('gist_heat_r')\n",
    "    plt.xlabel('%s True' % varname)\n",
    "    plt.ylabel('%s Pred' % varname)\n",
    "    plt.title('Frequency Heatmap')\n",
    "    plt.xlim(lower, upper)\n",
    "    plt.ylim(lower, upper)\n",
    "    plt.colorbar()\n",
    "    fig.savefig(f\"{space}_heatmap.png\")\n",
    "    plt.close()"
   ]
  },
  {
   "cell_type": "code",
   "execution_count": 75,
   "id": "77eda8f4",
   "metadata": {
    "execution": {
     "iopub.execute_input": "2025-05-09T02:27:52.551162Z",
     "iopub.status.busy": "2025-05-09T02:27:52.550916Z",
     "iopub.status.idle": "2025-05-09T02:27:52.674603Z",
     "shell.execute_reply": "2025-05-09T02:27:52.673849Z"
    },
    "papermill": {
     "duration": 0.169306,
     "end_time": "2025-05-09T02:27:52.675927",
     "exception": false,
     "start_time": "2025-05-09T02:27:52.506621",
     "status": "completed"
    },
    "tags": []
   },
   "outputs": [],
   "source": [
    "heatmap(model_name, \n",
    "            'Model', \n",
    "            \"/kaggle/working/\", \n",
    "            y_true_all, \n",
    "            y_pred_all, \n",
    "            'pT', \n",
    "            min_PT, \n",
    "            12, \n",
    "            50)"
   ]
  },
  {
   "cell_type": "code",
   "execution_count": 76,
   "id": "61d8f043",
   "metadata": {
    "execution": {
     "iopub.execute_input": "2025-05-09T02:27:52.766272Z",
     "iopub.status.busy": "2025-05-09T02:27:52.765607Z",
     "iopub.status.idle": "2025-05-09T02:27:52.774447Z",
     "shell.execute_reply": "2025-05-09T02:27:52.773906Z"
    },
    "papermill": {
     "duration": 0.054283,
     "end_time": "2025-05-09T02:27:52.775439",
     "exception": false,
     "start_time": "2025-05-09T02:27:52.721156",
     "status": "completed"
    },
    "tags": []
   },
   "outputs": [],
   "source": [
    "def scatter(modelname, space, metrics, bincenters, samples, varname, prednames, metricname):\n",
    "    bincenters = np.array(bincenters)\n",
    "    #Check that the bin centers match between the two datasets\n",
    "    if (np.std(bincenters[:,0]) > .0001) or (np.std(bincenters[:,-1]) > .0001):\n",
    "        print('Scatter plot failed due to different bincenters')\n",
    "        print(bincenters)\n",
    "        return\n",
    "    else:\n",
    "        #Create subplots for scatter and ratio\n",
    "        fig,axs = plt.subplots(2, gridspec_kw={'height_ratios':[3,1]})\n",
    "        axs[0].set_ylabel(metricname)\n",
    "        axs[0].set_title('Residuals %s vs %s' % (metricname,\n",
    "                                                varname))\n",
    "        \n",
    "        for i in range(len(prednames)):\n",
    "            #Find the width and range of bins\n",
    "            width = (bincenters[i][-1] - bincenters[i][-2]) / 2\n",
    "            lower = min(bincenters[i]) - width\n",
    "            upper = max(bincenters[i]) + width        \n",
    "\n",
    "#             if i == 0:\n",
    "#                   dif1 = np.abs(metrics[i])\n",
    "#             elif i == 1:\n",
    "#                   dif2 = np.abs(metrics[i])\n",
    "                    \n",
    "            if i == 0:\n",
    "                  metric1 = np.array(metrics[i])\n",
    "            elif i == 1:\n",
    "                  metric2 = np.array(metrics[i])\n",
    "\n",
    "            print(np.shape(metrics))\n",
    "            #Create the scatterplot\n",
    "            axs[0].scatter(bincenters[i], \n",
    "                           metrics[i], \n",
    "                           label=prednames[i])\n",
    "            axs[0].axhline(y=0)\n",
    "\n",
    "\n",
    "            #Use standard error of the mean for y error and bin width for x error\n",
    "            axs[0].errorbar(bincenters[i],\n",
    "                            metrics[i],\n",
    "                            xerr=(bincenters[i][-1] - bincenters[i][-2]) / 2,\n",
    "                            yerr=metrics[i] / np.sqrt(samples[i]),\n",
    "                            linestyle='')\n",
    "        axs[0].legend()\n",
    "        axs[0].set_xlim([lower,upper])\n",
    "        \n",
    "#         dif = dif1 - dif2\n",
    "#         #Create ratio subplot\n",
    "#         axs[1].scatter(bincenters[0], dif)\n",
    "#         axs[1].axhline(y=0)\n",
    "#         axs[1].set_xlim([lower, upper])\n",
    "#         axs[1].set_ylabel('|%s| - |%s|' % (prednames[0], prednames[1]))\n",
    "#         axs[1].set_xlabel('%s' % varname)\n",
    "        \n",
    "        #Plot ratio subplot for first 2 data sets\n",
    "        axs[1].scatter(bincenters[i], metric1 / metric2)\n",
    "        axs[1].axhline(y=1)\n",
    "        axs[1].set_xlim([lower,upper])\n",
    "        axs[1].set_ylim([0.5,2.0])\n",
    "        axs[1].set_yscale('log', basey=2)\n",
    "        axs[1].set_ylabel('%s / %s' % (prednames[0],\n",
    "                                       prednames[1]))\n",
    "        axs[1].set_xlabel('%s' % varname)\n",
    "        \n",
    "        #Save plot\n",
    "        fig.savefig('./Plots/%s/Comparison/%s/%s_%s_scatter' % (modelname, \n",
    "                                                                space,\n",
    "                                                                varname,\n",
    "                                                                metricname), bbox_inches='tight')\n",
    "        plt.close()"
   ]
  },
  {
   "cell_type": "code",
   "execution_count": 77,
   "id": "9be300cf",
   "metadata": {
    "execution": {
     "iopub.execute_input": "2025-05-09T02:27:52.868596Z",
     "iopub.status.busy": "2025-05-09T02:27:52.868054Z",
     "iopub.status.idle": "2025-05-09T02:27:53.097852Z",
     "shell.execute_reply": "2025-05-09T02:27:53.096850Z"
    },
    "papermill": {
     "duration": 0.277187,
     "end_time": "2025-05-09T02:27:53.098934",
     "exception": true,
     "start_time": "2025-05-09T02:27:52.821747",
     "status": "failed"
    },
    "scrolled": true,
    "tags": []
   },
   "outputs": [
    {
     "ename": "AttributeError",
     "evalue": "'FunctionEventAvg' object has no attribute 'cuda_time_total'",
     "output_type": "error",
     "traceback": [
      "\u001b[0;31m---------------------------------------------------------------------------\u001b[0m",
      "\u001b[0;31mAttributeError\u001b[0m                            Traceback (most recent call last)",
      "\u001b[0;32m/tmp/ipykernel_19/1671083950.py\u001b[0m in \u001b[0;36m<cell line: 0>\u001b[0;34m()\u001b[0m\n\u001b[1;32m     21\u001b[0m \u001b[0minputs\u001b[0m \u001b[0;34m=\u001b[0m \u001b[0mtrain_dataset\u001b[0m\u001b[0;34m[\u001b[0m\u001b[0;36m20\u001b[0m\u001b[0;34m]\u001b[0m\u001b[0;34m.\u001b[0m\u001b[0mto\u001b[0m\u001b[0;34m(\u001b[0m\u001b[0mdevice\u001b[0m\u001b[0;34m)\u001b[0m\u001b[0;34m\u001b[0m\u001b[0;34m\u001b[0m\u001b[0m\n\u001b[1;32m     22\u001b[0m \u001b[0;31m# model = ...\u001b[0m\u001b[0;34m\u001b[0m\u001b[0;34m\u001b[0m\u001b[0m\n\u001b[0;32m---> 23\u001b[0;31m \u001b[0mprofile_model\u001b[0m\u001b[0;34m(\u001b[0m\u001b[0mloaded_model\u001b[0m\u001b[0;34m,\u001b[0m \u001b[0minputs\u001b[0m\u001b[0;34m,\u001b[0m \u001b[0;36m1000\u001b[0m\u001b[0;34m)\u001b[0m\u001b[0;34m\u001b[0m\u001b[0;34m\u001b[0m\u001b[0m\n\u001b[0m",
      "\u001b[0;32m/tmp/ipykernel_19/1671083950.py\u001b[0m in \u001b[0;36mprofile_model\u001b[0;34m(model, inputs, num_runs)\u001b[0m\n\u001b[1;32m     11\u001b[0m         \u001b[0;31m# Extract total CUDA time spent on 'model_inference'\u001b[0m\u001b[0;34m\u001b[0m\u001b[0;34m\u001b[0m\u001b[0m\n\u001b[1;32m     12\u001b[0m         \u001b[0;32mfor\u001b[0m \u001b[0mevent\u001b[0m \u001b[0;32min\u001b[0m \u001b[0mprof\u001b[0m\u001b[0;34m.\u001b[0m\u001b[0mkey_averages\u001b[0m\u001b[0;34m(\u001b[0m\u001b[0;34m)\u001b[0m\u001b[0;34m:\u001b[0m\u001b[0;34m\u001b[0m\u001b[0;34m\u001b[0m\u001b[0m\n\u001b[0;32m---> 13\u001b[0;31m             \u001b[0mtotal_time\u001b[0m \u001b[0;34m+=\u001b[0m \u001b[0mevent\u001b[0m\u001b[0;34m.\u001b[0m\u001b[0mcuda_time_total\u001b[0m\u001b[0;34m\u001b[0m\u001b[0;34m\u001b[0m\u001b[0m\n\u001b[0m\u001b[1;32m     14\u001b[0m \u001b[0;34m\u001b[0m\u001b[0m\n\u001b[1;32m     15\u001b[0m     \u001b[0maverage_time\u001b[0m \u001b[0;34m=\u001b[0m \u001b[0mtotal_time\u001b[0m \u001b[0;34m/\u001b[0m \u001b[0mnum_runs\u001b[0m\u001b[0;34m\u001b[0m\u001b[0;34m\u001b[0m\u001b[0m\n",
      "\u001b[0;31mAttributeError\u001b[0m: 'FunctionEventAvg' object has no attribute 'cuda_time_total'"
     ]
    }
   ],
   "source": [
    "from torch.profiler import profile, record_function, ProfilerActivity\n",
    "device = torch.device(\"cuda\" if torch.cuda.is_available() else \"cpu\")\n",
    "     \n",
    "\n",
    "def profile_model(model, inputs, num_runs=100):\n",
    "    total_time = 0\n",
    "    for _ in range(num_runs):\n",
    "        with profile(activities=[ProfilerActivity.CUDA], record_shapes=True) as prof:\n",
    "            model(inputs)\n",
    "\n",
    "        # Extract total CUDA time spent on 'model_inference'\n",
    "        for event in prof.key_averages():\n",
    "            total_time += event.cuda_time_total\n",
    "\n",
    "    average_time = total_time / num_runs\n",
    "    print(f\"Average inference time: {average_time} microseconds\")\n",
    "     \n",
    "# test_loader_2 = DataLoader(Graph_dataset(filtered_df, label, edge_index , test_idx), batch_size=1)\n",
    "# inputs = next(iter(test_loader_2))\n",
    "# inputs = inputs.to(device)\n",
    "inputs = train_dataset[20].to(device)\n",
    "# model = ...\n",
    "profile_model(loaded_model, inputs, 1000)"
   ]
  },
  {
   "cell_type": "code",
   "execution_count": null,
   "id": "9190c8af",
   "metadata": {
    "execution": {
     "execution_failed": "2025-05-06T22:04:27.718Z"
    },
    "papermill": {
     "duration": null,
     "end_time": null,
     "exception": null,
     "start_time": null,
     "status": "pending"
    },
    "tags": []
   },
   "outputs": [],
   "source": [
    "# next(iter(Graph_dataset))"
   ]
  },
  {
   "cell_type": "code",
   "execution_count": null,
   "id": "e0066e23",
   "metadata": {
    "execution": {
     "iopub.execute_input": "2024-09-03T22:39:39.143443Z",
     "iopub.status.busy": "2024-09-03T22:39:39.142805Z",
     "iopub.status.idle": "2024-09-03T22:39:39.146951Z",
     "shell.execute_reply": "2024-09-03T22:39:39.146164Z"
    },
    "papermill": {
     "duration": null,
     "end_time": null,
     "exception": null,
     "start_time": null,
     "status": "pending"
    },
    "tags": []
   },
   "outputs": [],
   "source": [
    "# test_loader_2 = DataLoader(Graph_dataset(filtered_df, label, edge_index , test_idx), batch_size=1)"
   ]
  },
  {
   "cell_type": "code",
   "execution_count": null,
   "id": "6292e05a",
   "metadata": {
    "papermill": {
     "duration": null,
     "end_time": null,
     "exception": null,
     "start_time": null,
     "status": "pending"
    },
    "tags": []
   },
   "outputs": [],
   "source": []
  }
 ],
 "metadata": {
  "kaggle": {
   "accelerator": "gpu",
   "dataSources": [
    {
     "datasetId": 1424568,
     "sourceId": 2358933,
     "sourceType": "datasetVersion"
    },
    {
     "sourceId": 183753103,
     "sourceType": "kernelVersion"
    },
    {
     "sourceId": 187178090,
     "sourceType": "kernelVersion"
    },
    {
     "sourceId": 187708631,
     "sourceType": "kernelVersion"
    },
    {
     "sourceId": 194832577,
     "sourceType": "kernelVersion"
    },
    {
     "sourceId": 195107410,
     "sourceType": "kernelVersion"
    }
   ],
   "dockerImageVersionId": 31011,
   "isGpuEnabled": true,
   "isInternetEnabled": true,
   "language": "python",
   "sourceType": "notebook"
  },
  "kernelspec": {
   "display_name": "Python 3",
   "language": "python",
   "name": "python3"
  },
  "language_info": {
   "codemirror_mode": {
    "name": "ipython",
    "version": 3
   },
   "file_extension": ".py",
   "mimetype": "text/x-python",
   "name": "python",
   "nbconvert_exporter": "python",
   "pygments_lexer": "ipython3",
   "version": "3.11.11"
  },
  "papermill": {
   "default_parameters": {},
   "duration": 15938.732882,
   "end_time": "2025-05-09T02:27:56.458971",
   "environment_variables": {},
   "exception": true,
   "input_path": "__notebook__.ipynb",
   "output_path": "__notebook__.ipynb",
   "parameters": {},
   "start_time": "2025-05-08T22:02:17.726089",
   "version": "2.5.0"
  },
  "widgets": {
   "application/vnd.jupyter.widget-state+json": {
    "state": {
     "01d243b7f95c4a3dbac547e3191cb4b3": {
      "model_module": "@jupyter-widgets/base",
      "model_module_version": "2.0.0",
      "model_name": "LayoutModel",
      "state": {
       "_model_module": "@jupyter-widgets/base",
       "_model_module_version": "2.0.0",
       "_model_name": "LayoutModel",
       "_view_count": null,
       "_view_module": "@jupyter-widgets/base",
       "_view_module_version": "2.0.0",
       "_view_name": "LayoutView",
       "align_content": null,
       "align_items": null,
       "align_self": null,
       "border_bottom": null,
       "border_left": null,
       "border_right": null,
       "border_top": null,
       "bottom": null,
       "display": null,
       "flex": null,
       "flex_flow": null,
       "grid_area": null,
       "grid_auto_columns": null,
       "grid_auto_flow": null,
       "grid_auto_rows": null,
       "grid_column": null,
       "grid_gap": null,
       "grid_row": null,
       "grid_template_areas": null,
       "grid_template_columns": null,
       "grid_template_rows": null,
       "height": null,
       "justify_content": null,
       "justify_items": null,
       "left": null,
       "margin": null,
       "max_height": null,
       "max_width": null,
       "min_height": null,
       "min_width": null,
       "object_fit": null,
       "object_position": null,
       "order": null,
       "overflow": null,
       "padding": null,
       "right": null,
       "top": null,
       "visibility": null,
       "width": null
      }
     },
     "022fec2ba935487f91f4c6887d70e4da": {
      "model_module": "@jupyter-widgets/base",
      "model_module_version": "2.0.0",
      "model_name": "LayoutModel",
      "state": {
       "_model_module": "@jupyter-widgets/base",
       "_model_module_version": "2.0.0",
       "_model_name": "LayoutModel",
       "_view_count": null,
       "_view_module": "@jupyter-widgets/base",
       "_view_module_version": "2.0.0",
       "_view_name": "LayoutView",
       "align_content": null,
       "align_items": null,
       "align_self": null,
       "border_bottom": null,
       "border_left": null,
       "border_right": null,
       "border_top": null,
       "bottom": null,
       "display": null,
       "flex": null,
       "flex_flow": null,
       "grid_area": null,
       "grid_auto_columns": null,
       "grid_auto_flow": null,
       "grid_auto_rows": null,
       "grid_column": null,
       "grid_gap": null,
       "grid_row": null,
       "grid_template_areas": null,
       "grid_template_columns": null,
       "grid_template_rows": null,
       "height": null,
       "justify_content": null,
       "justify_items": null,
       "left": null,
       "margin": null,
       "max_height": null,
       "max_width": null,
       "min_height": null,
       "min_width": null,
       "object_fit": null,
       "object_position": null,
       "order": null,
       "overflow": null,
       "padding": null,
       "right": null,
       "top": null,
       "visibility": null,
       "width": null
      }
     },
     "04840ab74f7745c7aed23e01d4da061b": {
      "model_module": "@jupyter-widgets/base",
      "model_module_version": "2.0.0",
      "model_name": "LayoutModel",
      "state": {
       "_model_module": "@jupyter-widgets/base",
       "_model_module_version": "2.0.0",
       "_model_name": "LayoutModel",
       "_view_count": null,
       "_view_module": "@jupyter-widgets/base",
       "_view_module_version": "2.0.0",
       "_view_name": "LayoutView",
       "align_content": null,
       "align_items": null,
       "align_self": null,
       "border_bottom": null,
       "border_left": null,
       "border_right": null,
       "border_top": null,
       "bottom": null,
       "display": null,
       "flex": null,
       "flex_flow": null,
       "grid_area": null,
       "grid_auto_columns": null,
       "grid_auto_flow": null,
       "grid_auto_rows": null,
       "grid_column": null,
       "grid_gap": null,
       "grid_row": null,
       "grid_template_areas": null,
       "grid_template_columns": null,
       "grid_template_rows": null,
       "height": null,
       "justify_content": null,
       "justify_items": null,
       "left": null,
       "margin": null,
       "max_height": null,
       "max_width": null,
       "min_height": null,
       "min_width": null,
       "object_fit": null,
       "object_position": null,
       "order": null,
       "overflow": null,
       "padding": null,
       "right": null,
       "top": null,
       "visibility": null,
       "width": null
      }
     },
     "094709e4462240aa81b80ac7ca7d45ae": {
      "model_module": "@jupyter-widgets/controls",
      "model_module_version": "2.0.0",
      "model_name": "FloatProgressModel",
      "state": {
       "_dom_classes": [],
       "_model_module": "@jupyter-widgets/controls",
       "_model_module_version": "2.0.0",
       "_model_name": "FloatProgressModel",
       "_view_count": null,
       "_view_module": "@jupyter-widgets/controls",
       "_view_module_version": "2.0.0",
       "_view_name": "ProgressView",
       "bar_style": "success",
       "description": "",
       "description_allow_html": false,
       "layout": "IPY_MODEL_8b91d0c2f79b455b91d072beca1f6cd0",
       "max": 805.0,
       "min": 0.0,
       "orientation": "horizontal",
       "style": "IPY_MODEL_5d7b430239f8413eae2cd160e17bb009",
       "tabbable": null,
       "tooltip": null,
       "value": 805.0
      }
     },
     "0a9891c2b7ff40c1b4caa763ce845003": {
      "model_module": "@jupyter-widgets/controls",
      "model_module_version": "2.0.0",
      "model_name": "HTMLModel",
      "state": {
       "_dom_classes": [],
       "_model_module": "@jupyter-widgets/controls",
       "_model_module_version": "2.0.0",
       "_model_name": "HTMLModel",
       "_view_count": null,
       "_view_module": "@jupyter-widgets/controls",
       "_view_module_version": "2.0.0",
       "_view_name": "HTMLView",
       "description": "",
       "description_allow_html": false,
       "layout": "IPY_MODEL_d92586a359e842d29698e8fa465ce3a6",
       "placeholder": "​",
       "style": "IPY_MODEL_654e45821e424c81bd90d5d6a602bd34",
       "tabbable": null,
       "tooltip": null,
       "value": " 805/805 [20:43&lt;00:00,  1.25s/it]"
      }
     },
     "0b11a8ab85e047178ab48aeb9da88830": {
      "model_module": "@jupyter-widgets/controls",
      "model_module_version": "2.0.0",
      "model_name": "HTMLModel",
      "state": {
       "_dom_classes": [],
       "_model_module": "@jupyter-widgets/controls",
       "_model_module_version": "2.0.0",
       "_model_name": "HTMLModel",
       "_view_count": null,
       "_view_module": "@jupyter-widgets/controls",
       "_view_module_version": "2.0.0",
       "_view_name": "HTMLView",
       "description": "",
       "description_allow_html": false,
       "layout": "IPY_MODEL_2095d3526468451fbe9186597c1cb0f9",
       "placeholder": "​",
       "style": "IPY_MODEL_e7ecfbbee9564cb9ad8490e9598dacd6",
       "tabbable": null,
       "tooltip": null,
       "value": "pTLoss: 0.9565214: 100%"
      }
     },
     "0beda47a69b1404aaa53861914943d86": {
      "model_module": "@jupyter-widgets/base",
      "model_module_version": "2.0.0",
      "model_name": "LayoutModel",
      "state": {
       "_model_module": "@jupyter-widgets/base",
       "_model_module_version": "2.0.0",
       "_model_name": "LayoutModel",
       "_view_count": null,
       "_view_module": "@jupyter-widgets/base",
       "_view_module_version": "2.0.0",
       "_view_name": "LayoutView",
       "align_content": null,
       "align_items": null,
       "align_self": null,
       "border_bottom": null,
       "border_left": null,
       "border_right": null,
       "border_top": null,
       "bottom": null,
       "display": null,
       "flex": null,
       "flex_flow": null,
       "grid_area": null,
       "grid_auto_columns": null,
       "grid_auto_flow": null,
       "grid_auto_rows": null,
       "grid_column": null,
       "grid_gap": null,
       "grid_row": null,
       "grid_template_areas": null,
       "grid_template_columns": null,
       "grid_template_rows": null,
       "height": null,
       "justify_content": null,
       "justify_items": null,
       "left": null,
       "margin": null,
       "max_height": null,
       "max_width": null,
       "min_height": null,
       "min_width": null,
       "object_fit": null,
       "object_position": null,
       "order": null,
       "overflow": null,
       "padding": null,
       "right": null,
       "top": null,
       "visibility": null,
       "width": null
      }
     },
     "0d4c4ff860064aa6b0bcbd210272f7b5": {
      "model_module": "@jupyter-widgets/controls",
      "model_module_version": "2.0.0",
      "model_name": "FloatProgressModel",
      "state": {
       "_dom_classes": [],
       "_model_module": "@jupyter-widgets/controls",
       "_model_module_version": "2.0.0",
       "_model_name": "FloatProgressModel",
       "_view_count": null,
       "_view_module": "@jupyter-widgets/controls",
       "_view_module_version": "2.0.0",
       "_view_name": "ProgressView",
       "bar_style": "success",
       "description": "",
       "description_allow_html": false,
       "layout": "IPY_MODEL_bb6167eefde24656ba2db3a6beddff62",
       "max": 805.0,
       "min": 0.0,
       "orientation": "horizontal",
       "style": "IPY_MODEL_5a7453aeed064ba4a8eb85f33533cbcd",
       "tabbable": null,
       "tooltip": null,
       "value": 805.0
      }
     },
     "16adb51bb7b5407b98a4b2eb0e48c696": {
      "model_module": "@jupyter-widgets/controls",
      "model_module_version": "2.0.0",
      "model_name": "HTMLStyleModel",
      "state": {
       "_model_module": "@jupyter-widgets/controls",
       "_model_module_version": "2.0.0",
       "_model_name": "HTMLStyleModel",
       "_view_count": null,
       "_view_module": "@jupyter-widgets/base",
       "_view_module_version": "2.0.0",
       "_view_name": "StyleView",
       "background": null,
       "description_width": "",
       "font_size": null,
       "text_color": null
      }
     },
     "16cb3a39af6b4e4d9513850be50e62c3": {
      "model_module": "@jupyter-widgets/base",
      "model_module_version": "2.0.0",
      "model_name": "LayoutModel",
      "state": {
       "_model_module": "@jupyter-widgets/base",
       "_model_module_version": "2.0.0",
       "_model_name": "LayoutModel",
       "_view_count": null,
       "_view_module": "@jupyter-widgets/base",
       "_view_module_version": "2.0.0",
       "_view_name": "LayoutView",
       "align_content": null,
       "align_items": null,
       "align_self": null,
       "border_bottom": null,
       "border_left": null,
       "border_right": null,
       "border_top": null,
       "bottom": null,
       "display": null,
       "flex": null,
       "flex_flow": null,
       "grid_area": null,
       "grid_auto_columns": null,
       "grid_auto_flow": null,
       "grid_auto_rows": null,
       "grid_column": null,
       "grid_gap": null,
       "grid_row": null,
       "grid_template_areas": null,
       "grid_template_columns": null,
       "grid_template_rows": null,
       "height": null,
       "justify_content": null,
       "justify_items": null,
       "left": null,
       "margin": null,
       "max_height": null,
       "max_width": null,
       "min_height": null,
       "min_width": null,
       "object_fit": null,
       "object_position": null,
       "order": null,
       "overflow": null,
       "padding": null,
       "right": null,
       "top": null,
       "visibility": null,
       "width": null
      }
     },
     "17051e3a2c7b4c1496019792581b2190": {
      "model_module": "@jupyter-widgets/controls",
      "model_module_version": "2.0.0",
      "model_name": "HTMLModel",
      "state": {
       "_dom_classes": [],
       "_model_module": "@jupyter-widgets/controls",
       "_model_module_version": "2.0.0",
       "_model_name": "HTMLModel",
       "_view_count": null,
       "_view_module": "@jupyter-widgets/controls",
       "_view_module_version": "2.0.0",
       "_view_name": "HTMLView",
       "description": "",
       "description_allow_html": false,
       "layout": "IPY_MODEL_0beda47a69b1404aaa53861914943d86",
       "placeholder": "​",
       "style": "IPY_MODEL_4ec024dd874f424f90cddf758cb044d3",
       "tabbable": null,
       "tooltip": null,
       "value": "pTLoss: 0.91357017: 100%"
      }
     },
     "2095d3526468451fbe9186597c1cb0f9": {
      "model_module": "@jupyter-widgets/base",
      "model_module_version": "2.0.0",
      "model_name": "LayoutModel",
      "state": {
       "_model_module": "@jupyter-widgets/base",
       "_model_module_version": "2.0.0",
       "_model_name": "LayoutModel",
       "_view_count": null,
       "_view_module": "@jupyter-widgets/base",
       "_view_module_version": "2.0.0",
       "_view_name": "LayoutView",
       "align_content": null,
       "align_items": null,
       "align_self": null,
       "border_bottom": null,
       "border_left": null,
       "border_right": null,
       "border_top": null,
       "bottom": null,
       "display": null,
       "flex": null,
       "flex_flow": null,
       "grid_area": null,
       "grid_auto_columns": null,
       "grid_auto_flow": null,
       "grid_auto_rows": null,
       "grid_column": null,
       "grid_gap": null,
       "grid_row": null,
       "grid_template_areas": null,
       "grid_template_columns": null,
       "grid_template_rows": null,
       "height": null,
       "justify_content": null,
       "justify_items": null,
       "left": null,
       "margin": null,
       "max_height": null,
       "max_width": null,
       "min_height": null,
       "min_width": null,
       "object_fit": null,
       "object_position": null,
       "order": null,
       "overflow": null,
       "padding": null,
       "right": null,
       "top": null,
       "visibility": null,
       "width": null
      }
     },
     "23da80cb930e43ce9dc3c4bc32dfd691": {
      "model_module": "@jupyter-widgets/base",
      "model_module_version": "2.0.0",
      "model_name": "LayoutModel",
      "state": {
       "_model_module": "@jupyter-widgets/base",
       "_model_module_version": "2.0.0",
       "_model_name": "LayoutModel",
       "_view_count": null,
       "_view_module": "@jupyter-widgets/base",
       "_view_module_version": "2.0.0",
       "_view_name": "LayoutView",
       "align_content": null,
       "align_items": null,
       "align_self": null,
       "border_bottom": null,
       "border_left": null,
       "border_right": null,
       "border_top": null,
       "bottom": null,
       "display": null,
       "flex": null,
       "flex_flow": null,
       "grid_area": null,
       "grid_auto_columns": null,
       "grid_auto_flow": null,
       "grid_auto_rows": null,
       "grid_column": null,
       "grid_gap": null,
       "grid_row": null,
       "grid_template_areas": null,
       "grid_template_columns": null,
       "grid_template_rows": null,
       "height": null,
       "justify_content": null,
       "justify_items": null,
       "left": null,
       "margin": null,
       "max_height": null,
       "max_width": null,
       "min_height": null,
       "min_width": null,
       "object_fit": null,
       "object_position": null,
       "order": null,
       "overflow": null,
       "padding": null,
       "right": null,
       "top": null,
       "visibility": null,
       "width": null
      }
     },
     "2628c327759c48659a0a79a29ef97d42": {
      "model_module": "@jupyter-widgets/base",
      "model_module_version": "2.0.0",
      "model_name": "LayoutModel",
      "state": {
       "_model_module": "@jupyter-widgets/base",
       "_model_module_version": "2.0.0",
       "_model_name": "LayoutModel",
       "_view_count": null,
       "_view_module": "@jupyter-widgets/base",
       "_view_module_version": "2.0.0",
       "_view_name": "LayoutView",
       "align_content": null,
       "align_items": null,
       "align_self": null,
       "border_bottom": null,
       "border_left": null,
       "border_right": null,
       "border_top": null,
       "bottom": null,
       "display": null,
       "flex": null,
       "flex_flow": null,
       "grid_area": null,
       "grid_auto_columns": null,
       "grid_auto_flow": null,
       "grid_auto_rows": null,
       "grid_column": null,
       "grid_gap": null,
       "grid_row": null,
       "grid_template_areas": null,
       "grid_template_columns": null,
       "grid_template_rows": null,
       "height": null,
       "justify_content": null,
       "justify_items": null,
       "left": null,
       "margin": null,
       "max_height": null,
       "max_width": null,
       "min_height": null,
       "min_width": null,
       "object_fit": null,
       "object_position": null,
       "order": null,
       "overflow": null,
       "padding": null,
       "right": null,
       "top": null,
       "visibility": null,
       "width": null
      }
     },
     "2bebfceca8d34befabb8177b956a174b": {
      "model_module": "@jupyter-widgets/base",
      "model_module_version": "2.0.0",
      "model_name": "LayoutModel",
      "state": {
       "_model_module": "@jupyter-widgets/base",
       "_model_module_version": "2.0.0",
       "_model_name": "LayoutModel",
       "_view_count": null,
       "_view_module": "@jupyter-widgets/base",
       "_view_module_version": "2.0.0",
       "_view_name": "LayoutView",
       "align_content": null,
       "align_items": null,
       "align_self": null,
       "border_bottom": null,
       "border_left": null,
       "border_right": null,
       "border_top": null,
       "bottom": null,
       "display": null,
       "flex": null,
       "flex_flow": null,
       "grid_area": null,
       "grid_auto_columns": null,
       "grid_auto_flow": null,
       "grid_auto_rows": null,
       "grid_column": null,
       "grid_gap": null,
       "grid_row": null,
       "grid_template_areas": null,
       "grid_template_columns": null,
       "grid_template_rows": null,
       "height": null,
       "justify_content": null,
       "justify_items": null,
       "left": null,
       "margin": null,
       "max_height": null,
       "max_width": null,
       "min_height": null,
       "min_width": null,
       "object_fit": null,
       "object_position": null,
       "order": null,
       "overflow": null,
       "padding": null,
       "right": null,
       "top": null,
       "visibility": null,
       "width": null
      }
     },
     "2e1ea0170d444569b73eefd52ea2224b": {
      "model_module": "@jupyter-widgets/base",
      "model_module_version": "2.0.0",
      "model_name": "LayoutModel",
      "state": {
       "_model_module": "@jupyter-widgets/base",
       "_model_module_version": "2.0.0",
       "_model_name": "LayoutModel",
       "_view_count": null,
       "_view_module": "@jupyter-widgets/base",
       "_view_module_version": "2.0.0",
       "_view_name": "LayoutView",
       "align_content": null,
       "align_items": null,
       "align_self": null,
       "border_bottom": null,
       "border_left": null,
       "border_right": null,
       "border_top": null,
       "bottom": null,
       "display": null,
       "flex": null,
       "flex_flow": null,
       "grid_area": null,
       "grid_auto_columns": null,
       "grid_auto_flow": null,
       "grid_auto_rows": null,
       "grid_column": null,
       "grid_gap": null,
       "grid_row": null,
       "grid_template_areas": null,
       "grid_template_columns": null,
       "grid_template_rows": null,
       "height": null,
       "justify_content": null,
       "justify_items": null,
       "left": null,
       "margin": null,
       "max_height": null,
       "max_width": null,
       "min_height": null,
       "min_width": null,
       "object_fit": null,
       "object_position": null,
       "order": null,
       "overflow": null,
       "padding": null,
       "right": null,
       "top": null,
       "visibility": null,
       "width": null
      }
     },
     "2fcdb88e2ec24ed38efdc31d4db467d8": {
      "model_module": "@jupyter-widgets/controls",
      "model_module_version": "2.0.0",
      "model_name": "HTMLStyleModel",
      "state": {
       "_model_module": "@jupyter-widgets/controls",
       "_model_module_version": "2.0.0",
       "_model_name": "HTMLStyleModel",
       "_view_count": null,
       "_view_module": "@jupyter-widgets/base",
       "_view_module_version": "2.0.0",
       "_view_name": "StyleView",
       "background": null,
       "description_width": "",
       "font_size": null,
       "text_color": null
      }
     },
     "31f3493493924d39b96ef1157e45e9fd": {
      "model_module": "@jupyter-widgets/base",
      "model_module_version": "2.0.0",
      "model_name": "LayoutModel",
      "state": {
       "_model_module": "@jupyter-widgets/base",
       "_model_module_version": "2.0.0",
       "_model_name": "LayoutModel",
       "_view_count": null,
       "_view_module": "@jupyter-widgets/base",
       "_view_module_version": "2.0.0",
       "_view_name": "LayoutView",
       "align_content": null,
       "align_items": null,
       "align_self": null,
       "border_bottom": null,
       "border_left": null,
       "border_right": null,
       "border_top": null,
       "bottom": null,
       "display": null,
       "flex": null,
       "flex_flow": null,
       "grid_area": null,
       "grid_auto_columns": null,
       "grid_auto_flow": null,
       "grid_auto_rows": null,
       "grid_column": null,
       "grid_gap": null,
       "grid_row": null,
       "grid_template_areas": null,
       "grid_template_columns": null,
       "grid_template_rows": null,
       "height": null,
       "justify_content": null,
       "justify_items": null,
       "left": null,
       "margin": null,
       "max_height": null,
       "max_width": null,
       "min_height": null,
       "min_width": null,
       "object_fit": null,
       "object_position": null,
       "order": null,
       "overflow": null,
       "padding": null,
       "right": null,
       "top": null,
       "visibility": null,
       "width": null
      }
     },
     "32518b837de348e983e8d5d4cc50d34c": {
      "model_module": "@jupyter-widgets/controls",
      "model_module_version": "2.0.0",
      "model_name": "HTMLModel",
      "state": {
       "_dom_classes": [],
       "_model_module": "@jupyter-widgets/controls",
       "_model_module_version": "2.0.0",
       "_model_name": "HTMLModel",
       "_view_count": null,
       "_view_module": "@jupyter-widgets/controls",
       "_view_module_version": "2.0.0",
       "_view_name": "HTMLView",
       "description": "",
       "description_allow_html": false,
       "layout": "IPY_MODEL_c1ec4ace8f254d57b873134dc323d972",
       "placeholder": "​",
       "style": "IPY_MODEL_52fb3b406c504c64bfa2f54bc0161661",
       "tabbable": null,
       "tooltip": null,
       "value": "pTLoss: 0.92040515: 100%"
      }
     },
     "3255295489f444dfb49351f354962816": {
      "model_module": "@jupyter-widgets/base",
      "model_module_version": "2.0.0",
      "model_name": "LayoutModel",
      "state": {
       "_model_module": "@jupyter-widgets/base",
       "_model_module_version": "2.0.0",
       "_model_name": "LayoutModel",
       "_view_count": null,
       "_view_module": "@jupyter-widgets/base",
       "_view_module_version": "2.0.0",
       "_view_name": "LayoutView",
       "align_content": null,
       "align_items": null,
       "align_self": null,
       "border_bottom": null,
       "border_left": null,
       "border_right": null,
       "border_top": null,
       "bottom": null,
       "display": null,
       "flex": null,
       "flex_flow": null,
       "grid_area": null,
       "grid_auto_columns": null,
       "grid_auto_flow": null,
       "grid_auto_rows": null,
       "grid_column": null,
       "grid_gap": null,
       "grid_row": null,
       "grid_template_areas": null,
       "grid_template_columns": null,
       "grid_template_rows": null,
       "height": null,
       "justify_content": null,
       "justify_items": null,
       "left": null,
       "margin": null,
       "max_height": null,
       "max_width": null,
       "min_height": null,
       "min_width": null,
       "object_fit": null,
       "object_position": null,
       "order": null,
       "overflow": null,
       "padding": null,
       "right": null,
       "top": null,
       "visibility": null,
       "width": null
      }
     },
     "33156b13af79475f847c073f895bbbc4": {
      "model_module": "@jupyter-widgets/base",
      "model_module_version": "2.0.0",
      "model_name": "LayoutModel",
      "state": {
       "_model_module": "@jupyter-widgets/base",
       "_model_module_version": "2.0.0",
       "_model_name": "LayoutModel",
       "_view_count": null,
       "_view_module": "@jupyter-widgets/base",
       "_view_module_version": "2.0.0",
       "_view_name": "LayoutView",
       "align_content": null,
       "align_items": null,
       "align_self": null,
       "border_bottom": null,
       "border_left": null,
       "border_right": null,
       "border_top": null,
       "bottom": null,
       "display": null,
       "flex": null,
       "flex_flow": null,
       "grid_area": null,
       "grid_auto_columns": null,
       "grid_auto_flow": null,
       "grid_auto_rows": null,
       "grid_column": null,
       "grid_gap": null,
       "grid_row": null,
       "grid_template_areas": null,
       "grid_template_columns": null,
       "grid_template_rows": null,
       "height": null,
       "justify_content": null,
       "justify_items": null,
       "left": null,
       "margin": null,
       "max_height": null,
       "max_width": null,
       "min_height": null,
       "min_width": null,
       "object_fit": null,
       "object_position": null,
       "order": null,
       "overflow": null,
       "padding": null,
       "right": null,
       "top": null,
       "visibility": null,
       "width": null
      }
     },
     "3377aded66e74a92a68a3ba6f0704cdd": {
      "model_module": "@jupyter-widgets/controls",
      "model_module_version": "2.0.0",
      "model_name": "HTMLModel",
      "state": {
       "_dom_classes": [],
       "_model_module": "@jupyter-widgets/controls",
       "_model_module_version": "2.0.0",
       "_model_name": "HTMLModel",
       "_view_count": null,
       "_view_module": "@jupyter-widgets/controls",
       "_view_module_version": "2.0.0",
       "_view_name": "HTMLView",
       "description": "",
       "description_allow_html": false,
       "layout": "IPY_MODEL_bdc20e6e951b4f868c8b2feefdce30c3",
       "placeholder": "​",
       "style": "IPY_MODEL_ec8ef9080a834b33828c2ac1ce1cf793",
       "tabbable": null,
       "tooltip": null,
       "value": " 805/805 [20:43&lt;00:00,  1.26s/it]"
      }
     },
     "38666fb2fa0547f1a28a40469d1af361": {
      "model_module": "@jupyter-widgets/controls",
      "model_module_version": "2.0.0",
      "model_name": "HTMLModel",
      "state": {
       "_dom_classes": [],
       "_model_module": "@jupyter-widgets/controls",
       "_model_module_version": "2.0.0",
       "_model_name": "HTMLModel",
       "_view_count": null,
       "_view_module": "@jupyter-widgets/controls",
       "_view_module_version": "2.0.0",
       "_view_name": "HTMLView",
       "description": "",
       "description_allow_html": false,
       "layout": "IPY_MODEL_7e1ae5b699bc4005961427f9c43563aa",
       "placeholder": "​",
       "style": "IPY_MODEL_4472f5b8adf7407fa01ec86daa38f663",
       "tabbable": null,
       "tooltip": null,
       "value": "pTLoss: 0.92255825: 100%"
      }
     },
     "394499acd9fd4290914815b36194fb8f": {
      "model_module": "@jupyter-widgets/base",
      "model_module_version": "2.0.0",
      "model_name": "LayoutModel",
      "state": {
       "_model_module": "@jupyter-widgets/base",
       "_model_module_version": "2.0.0",
       "_model_name": "LayoutModel",
       "_view_count": null,
       "_view_module": "@jupyter-widgets/base",
       "_view_module_version": "2.0.0",
       "_view_name": "LayoutView",
       "align_content": null,
       "align_items": null,
       "align_self": null,
       "border_bottom": null,
       "border_left": null,
       "border_right": null,
       "border_top": null,
       "bottom": null,
       "display": null,
       "flex": null,
       "flex_flow": null,
       "grid_area": null,
       "grid_auto_columns": null,
       "grid_auto_flow": null,
       "grid_auto_rows": null,
       "grid_column": null,
       "grid_gap": null,
       "grid_row": null,
       "grid_template_areas": null,
       "grid_template_columns": null,
       "grid_template_rows": null,
       "height": null,
       "justify_content": null,
       "justify_items": null,
       "left": null,
       "margin": null,
       "max_height": null,
       "max_width": null,
       "min_height": null,
       "min_width": null,
       "object_fit": null,
       "object_position": null,
       "order": null,
       "overflow": null,
       "padding": null,
       "right": null,
       "top": null,
       "visibility": null,
       "width": null
      }
     },
     "3c58d583f99a4c28ae6289d31e858abe": {
      "model_module": "@jupyter-widgets/base",
      "model_module_version": "2.0.0",
      "model_name": "LayoutModel",
      "state": {
       "_model_module": "@jupyter-widgets/base",
       "_model_module_version": "2.0.0",
       "_model_name": "LayoutModel",
       "_view_count": null,
       "_view_module": "@jupyter-widgets/base",
       "_view_module_version": "2.0.0",
       "_view_name": "LayoutView",
       "align_content": null,
       "align_items": null,
       "align_self": null,
       "border_bottom": null,
       "border_left": null,
       "border_right": null,
       "border_top": null,
       "bottom": null,
       "display": null,
       "flex": null,
       "flex_flow": null,
       "grid_area": null,
       "grid_auto_columns": null,
       "grid_auto_flow": null,
       "grid_auto_rows": null,
       "grid_column": null,
       "grid_gap": null,
       "grid_row": null,
       "grid_template_areas": null,
       "grid_template_columns": null,
       "grid_template_rows": null,
       "height": null,
       "justify_content": null,
       "justify_items": null,
       "left": null,
       "margin": null,
       "max_height": null,
       "max_width": null,
       "min_height": null,
       "min_width": null,
       "object_fit": null,
       "object_position": null,
       "order": null,
       "overflow": null,
       "padding": null,
       "right": null,
       "top": null,
       "visibility": null,
       "width": null
      }
     },
     "3e9f30053cad4db2b467a99dd0c9b38c": {
      "model_module": "@jupyter-widgets/controls",
      "model_module_version": "2.0.0",
      "model_name": "HTMLStyleModel",
      "state": {
       "_model_module": "@jupyter-widgets/controls",
       "_model_module_version": "2.0.0",
       "_model_name": "HTMLStyleModel",
       "_view_count": null,
       "_view_module": "@jupyter-widgets/base",
       "_view_module_version": "2.0.0",
       "_view_name": "StyleView",
       "background": null,
       "description_width": "",
       "font_size": null,
       "text_color": null
      }
     },
     "4472f5b8adf7407fa01ec86daa38f663": {
      "model_module": "@jupyter-widgets/controls",
      "model_module_version": "2.0.0",
      "model_name": "HTMLStyleModel",
      "state": {
       "_model_module": "@jupyter-widgets/controls",
       "_model_module_version": "2.0.0",
       "_model_name": "HTMLStyleModel",
       "_view_count": null,
       "_view_module": "@jupyter-widgets/base",
       "_view_module_version": "2.0.0",
       "_view_name": "StyleView",
       "background": null,
       "description_width": "",
       "font_size": null,
       "text_color": null
      }
     },
     "4c22b3e5bc494432911a79771b71f08f": {
      "model_module": "@jupyter-widgets/controls",
      "model_module_version": "2.0.0",
      "model_name": "HTMLStyleModel",
      "state": {
       "_model_module": "@jupyter-widgets/controls",
       "_model_module_version": "2.0.0",
       "_model_name": "HTMLStyleModel",
       "_view_count": null,
       "_view_module": "@jupyter-widgets/base",
       "_view_module_version": "2.0.0",
       "_view_name": "StyleView",
       "background": null,
       "description_width": "",
       "font_size": null,
       "text_color": null
      }
     },
     "4ec024dd874f424f90cddf758cb044d3": {
      "model_module": "@jupyter-widgets/controls",
      "model_module_version": "2.0.0",
      "model_name": "HTMLStyleModel",
      "state": {
       "_model_module": "@jupyter-widgets/controls",
       "_model_module_version": "2.0.0",
       "_model_name": "HTMLStyleModel",
       "_view_count": null,
       "_view_module": "@jupyter-widgets/base",
       "_view_module_version": "2.0.0",
       "_view_name": "StyleView",
       "background": null,
       "description_width": "",
       "font_size": null,
       "text_color": null
      }
     },
     "52fb3b406c504c64bfa2f54bc0161661": {
      "model_module": "@jupyter-widgets/controls",
      "model_module_version": "2.0.0",
      "model_name": "HTMLStyleModel",
      "state": {
       "_model_module": "@jupyter-widgets/controls",
       "_model_module_version": "2.0.0",
       "_model_name": "HTMLStyleModel",
       "_view_count": null,
       "_view_module": "@jupyter-widgets/base",
       "_view_module_version": "2.0.0",
       "_view_name": "StyleView",
       "background": null,
       "description_width": "",
       "font_size": null,
       "text_color": null
      }
     },
     "58e5b16097544b5eab6f53907cba5e63": {
      "model_module": "@jupyter-widgets/base",
      "model_module_version": "2.0.0",
      "model_name": "LayoutModel",
      "state": {
       "_model_module": "@jupyter-widgets/base",
       "_model_module_version": "2.0.0",
       "_model_name": "LayoutModel",
       "_view_count": null,
       "_view_module": "@jupyter-widgets/base",
       "_view_module_version": "2.0.0",
       "_view_name": "LayoutView",
       "align_content": null,
       "align_items": null,
       "align_self": null,
       "border_bottom": null,
       "border_left": null,
       "border_right": null,
       "border_top": null,
       "bottom": null,
       "display": null,
       "flex": null,
       "flex_flow": null,
       "grid_area": null,
       "grid_auto_columns": null,
       "grid_auto_flow": null,
       "grid_auto_rows": null,
       "grid_column": null,
       "grid_gap": null,
       "grid_row": null,
       "grid_template_areas": null,
       "grid_template_columns": null,
       "grid_template_rows": null,
       "height": null,
       "justify_content": null,
       "justify_items": null,
       "left": null,
       "margin": null,
       "max_height": null,
       "max_width": null,
       "min_height": null,
       "min_width": null,
       "object_fit": null,
       "object_position": null,
       "order": null,
       "overflow": null,
       "padding": null,
       "right": null,
       "top": null,
       "visibility": null,
       "width": null
      }
     },
     "5a7453aeed064ba4a8eb85f33533cbcd": {
      "model_module": "@jupyter-widgets/controls",
      "model_module_version": "2.0.0",
      "model_name": "ProgressStyleModel",
      "state": {
       "_model_module": "@jupyter-widgets/controls",
       "_model_module_version": "2.0.0",
       "_model_name": "ProgressStyleModel",
       "_view_count": null,
       "_view_module": "@jupyter-widgets/base",
       "_view_module_version": "2.0.0",
       "_view_name": "StyleView",
       "bar_color": null,
       "description_width": ""
      }
     },
     "5aee9c215cc64ca39f709c0e62a72878": {
      "model_module": "@jupyter-widgets/controls",
      "model_module_version": "2.0.0",
      "model_name": "HBoxModel",
      "state": {
       "_dom_classes": [],
       "_model_module": "@jupyter-widgets/controls",
       "_model_module_version": "2.0.0",
       "_model_name": "HBoxModel",
       "_view_count": null,
       "_view_module": "@jupyter-widgets/controls",
       "_view_module_version": "2.0.0",
       "_view_name": "HBoxView",
       "box_style": "",
       "children": [
        "IPY_MODEL_d6247bf5171c4436995f61d8b4421738",
        "IPY_MODEL_e58e43b500da42179f0860fe7aa49220",
        "IPY_MODEL_82df1786d5a1451bb391bf538f633397"
       ],
       "layout": "IPY_MODEL_04840ab74f7745c7aed23e01d4da061b",
       "tabbable": null,
       "tooltip": null
      }
     },
     "5d7b430239f8413eae2cd160e17bb009": {
      "model_module": "@jupyter-widgets/controls",
      "model_module_version": "2.0.0",
      "model_name": "ProgressStyleModel",
      "state": {
       "_model_module": "@jupyter-widgets/controls",
       "_model_module_version": "2.0.0",
       "_model_name": "ProgressStyleModel",
       "_view_count": null,
       "_view_module": "@jupyter-widgets/base",
       "_view_module_version": "2.0.0",
       "_view_name": "StyleView",
       "bar_color": null,
       "description_width": ""
      }
     },
     "5f1b85fafa224b369b3934755e614979": {
      "model_module": "@jupyter-widgets/controls",
      "model_module_version": "2.0.0",
      "model_name": "HBoxModel",
      "state": {
       "_dom_classes": [],
       "_model_module": "@jupyter-widgets/controls",
       "_model_module_version": "2.0.0",
       "_model_name": "HBoxModel",
       "_view_count": null,
       "_view_module": "@jupyter-widgets/controls",
       "_view_module_version": "2.0.0",
       "_view_name": "HBoxView",
       "box_style": "",
       "children": [
        "IPY_MODEL_32518b837de348e983e8d5d4cc50d34c",
        "IPY_MODEL_70203eb4cda74514a6a25836b7d7cc6d",
        "IPY_MODEL_efa6d50d8c704ac48d964d25454a624f"
       ],
       "layout": "IPY_MODEL_01d243b7f95c4a3dbac547e3191cb4b3",
       "tabbable": null,
       "tooltip": null
      }
     },
     "61eadd64ca60478fb290d224c5f97d50": {
      "model_module": "@jupyter-widgets/controls",
      "model_module_version": "2.0.0",
      "model_name": "HTMLStyleModel",
      "state": {
       "_model_module": "@jupyter-widgets/controls",
       "_model_module_version": "2.0.0",
       "_model_name": "HTMLStyleModel",
       "_view_count": null,
       "_view_module": "@jupyter-widgets/base",
       "_view_module_version": "2.0.0",
       "_view_name": "StyleView",
       "background": null,
       "description_width": "",
       "font_size": null,
       "text_color": null
      }
     },
     "654e45821e424c81bd90d5d6a602bd34": {
      "model_module": "@jupyter-widgets/controls",
      "model_module_version": "2.0.0",
      "model_name": "HTMLStyleModel",
      "state": {
       "_model_module": "@jupyter-widgets/controls",
       "_model_module_version": "2.0.0",
       "_model_name": "HTMLStyleModel",
       "_view_count": null,
       "_view_module": "@jupyter-widgets/base",
       "_view_module_version": "2.0.0",
       "_view_name": "StyleView",
       "background": null,
       "description_width": "",
       "font_size": null,
       "text_color": null
      }
     },
     "6a3fcd7fa36645f48f33dfc7eea11c0e": {
      "model_module": "@jupyter-widgets/controls",
      "model_module_version": "2.0.0",
      "model_name": "HBoxModel",
      "state": {
       "_dom_classes": [],
       "_model_module": "@jupyter-widgets/controls",
       "_model_module_version": "2.0.0",
       "_model_name": "HBoxModel",
       "_view_count": null,
       "_view_module": "@jupyter-widgets/controls",
       "_view_module_version": "2.0.0",
       "_view_name": "HBoxView",
       "box_style": "",
       "children": [
        "IPY_MODEL_873adafa0fbc4eb4b268581ac17863fb",
        "IPY_MODEL_a259b774ced14fcd8d0cc5a8900948f0",
        "IPY_MODEL_b2442a4408b84bd9bdd468700540ba02"
       ],
       "layout": "IPY_MODEL_022fec2ba935487f91f4c6887d70e4da",
       "tabbable": null,
       "tooltip": null
      }
     },
     "6ab67dd889e34eaf90c7dfa136f8c800": {
      "model_module": "@jupyter-widgets/controls",
      "model_module_version": "2.0.0",
      "model_name": "HTMLStyleModel",
      "state": {
       "_model_module": "@jupyter-widgets/controls",
       "_model_module_version": "2.0.0",
       "_model_name": "HTMLStyleModel",
       "_view_count": null,
       "_view_module": "@jupyter-widgets/base",
       "_view_module_version": "2.0.0",
       "_view_name": "StyleView",
       "background": null,
       "description_width": "",
       "font_size": null,
       "text_color": null
      }
     },
     "6b02b1f29f6142199cc9a9697efae436": {
      "model_module": "@jupyter-widgets/controls",
      "model_module_version": "2.0.0",
      "model_name": "HTMLModel",
      "state": {
       "_dom_classes": [],
       "_model_module": "@jupyter-widgets/controls",
       "_model_module_version": "2.0.0",
       "_model_name": "HTMLModel",
       "_view_count": null,
       "_view_module": "@jupyter-widgets/controls",
       "_view_module_version": "2.0.0",
       "_view_name": "HTMLView",
       "description": "",
       "description_allow_html": false,
       "layout": "IPY_MODEL_9a2967335f1645d0b298a9d3c4a52706",
       "placeholder": "​",
       "style": "IPY_MODEL_6f40ab4e6e4249169c1ea8318f83fa83",
       "tabbable": null,
       "tooltip": null,
       "value": " 805/805 [20:43&lt;00:00,  1.30s/it]"
      }
     },
     "6c466d30f5d6463da3e9807015d94c12": {
      "model_module": "@jupyter-widgets/controls",
      "model_module_version": "2.0.0",
      "model_name": "HTMLStyleModel",
      "state": {
       "_model_module": "@jupyter-widgets/controls",
       "_model_module_version": "2.0.0",
       "_model_name": "HTMLStyleModel",
       "_view_count": null,
       "_view_module": "@jupyter-widgets/base",
       "_view_module_version": "2.0.0",
       "_view_name": "StyleView",
       "background": null,
       "description_width": "",
       "font_size": null,
       "text_color": null
      }
     },
     "6e8a9558dd1a4a629f118b90dfd1bbf6": {
      "model_module": "@jupyter-widgets/controls",
      "model_module_version": "2.0.0",
      "model_name": "ProgressStyleModel",
      "state": {
       "_model_module": "@jupyter-widgets/controls",
       "_model_module_version": "2.0.0",
       "_model_name": "ProgressStyleModel",
       "_view_count": null,
       "_view_module": "@jupyter-widgets/base",
       "_view_module_version": "2.0.0",
       "_view_name": "StyleView",
       "bar_color": null,
       "description_width": ""
      }
     },
     "6f40ab4e6e4249169c1ea8318f83fa83": {
      "model_module": "@jupyter-widgets/controls",
      "model_module_version": "2.0.0",
      "model_name": "HTMLStyleModel",
      "state": {
       "_model_module": "@jupyter-widgets/controls",
       "_model_module_version": "2.0.0",
       "_model_name": "HTMLStyleModel",
       "_view_count": null,
       "_view_module": "@jupyter-widgets/base",
       "_view_module_version": "2.0.0",
       "_view_name": "StyleView",
       "background": null,
       "description_width": "",
       "font_size": null,
       "text_color": null
      }
     },
     "70203eb4cda74514a6a25836b7d7cc6d": {
      "model_module": "@jupyter-widgets/controls",
      "model_module_version": "2.0.0",
      "model_name": "FloatProgressModel",
      "state": {
       "_dom_classes": [],
       "_model_module": "@jupyter-widgets/controls",
       "_model_module_version": "2.0.0",
       "_model_name": "FloatProgressModel",
       "_view_count": null,
       "_view_module": "@jupyter-widgets/controls",
       "_view_module_version": "2.0.0",
       "_view_name": "ProgressView",
       "bar_style": "success",
       "description": "",
       "description_allow_html": false,
       "layout": "IPY_MODEL_c6823b24d7cc439cb9803f8a212f4ec3",
       "max": 805.0,
       "min": 0.0,
       "orientation": "horizontal",
       "style": "IPY_MODEL_d30b84ee9d5a4b98961030ca0ac59678",
       "tabbable": null,
       "tooltip": null,
       "value": 805.0
      }
     },
     "746d5383cbea401ea7b6b6563c41b299": {
      "model_module": "@jupyter-widgets/base",
      "model_module_version": "2.0.0",
      "model_name": "LayoutModel",
      "state": {
       "_model_module": "@jupyter-widgets/base",
       "_model_module_version": "2.0.0",
       "_model_name": "LayoutModel",
       "_view_count": null,
       "_view_module": "@jupyter-widgets/base",
       "_view_module_version": "2.0.0",
       "_view_name": "LayoutView",
       "align_content": null,
       "align_items": null,
       "align_self": null,
       "border_bottom": null,
       "border_left": null,
       "border_right": null,
       "border_top": null,
       "bottom": null,
       "display": null,
       "flex": null,
       "flex_flow": null,
       "grid_area": null,
       "grid_auto_columns": null,
       "grid_auto_flow": null,
       "grid_auto_rows": null,
       "grid_column": null,
       "grid_gap": null,
       "grid_row": null,
       "grid_template_areas": null,
       "grid_template_columns": null,
       "grid_template_rows": null,
       "height": null,
       "justify_content": null,
       "justify_items": null,
       "left": null,
       "margin": null,
       "max_height": null,
       "max_width": null,
       "min_height": null,
       "min_width": null,
       "object_fit": null,
       "object_position": null,
       "order": null,
       "overflow": null,
       "padding": null,
       "right": null,
       "top": null,
       "visibility": null,
       "width": null
      }
     },
     "749789b7532d482e968ac14220990eaf": {
      "model_module": "@jupyter-widgets/controls",
      "model_module_version": "2.0.0",
      "model_name": "HTMLStyleModel",
      "state": {
       "_model_module": "@jupyter-widgets/controls",
       "_model_module_version": "2.0.0",
       "_model_name": "HTMLStyleModel",
       "_view_count": null,
       "_view_module": "@jupyter-widgets/base",
       "_view_module_version": "2.0.0",
       "_view_name": "StyleView",
       "background": null,
       "description_width": "",
       "font_size": null,
       "text_color": null
      }
     },
     "74a6cbe196a94e49ac1791c8546be77c": {
      "model_module": "@jupyter-widgets/base",
      "model_module_version": "2.0.0",
      "model_name": "LayoutModel",
      "state": {
       "_model_module": "@jupyter-widgets/base",
       "_model_module_version": "2.0.0",
       "_model_name": "LayoutModel",
       "_view_count": null,
       "_view_module": "@jupyter-widgets/base",
       "_view_module_version": "2.0.0",
       "_view_name": "LayoutView",
       "align_content": null,
       "align_items": null,
       "align_self": null,
       "border_bottom": null,
       "border_left": null,
       "border_right": null,
       "border_top": null,
       "bottom": null,
       "display": null,
       "flex": null,
       "flex_flow": null,
       "grid_area": null,
       "grid_auto_columns": null,
       "grid_auto_flow": null,
       "grid_auto_rows": null,
       "grid_column": null,
       "grid_gap": null,
       "grid_row": null,
       "grid_template_areas": null,
       "grid_template_columns": null,
       "grid_template_rows": null,
       "height": null,
       "justify_content": null,
       "justify_items": null,
       "left": null,
       "margin": null,
       "max_height": null,
       "max_width": null,
       "min_height": null,
       "min_width": null,
       "object_fit": null,
       "object_position": null,
       "order": null,
       "overflow": null,
       "padding": null,
       "right": null,
       "top": null,
       "visibility": null,
       "width": null
      }
     },
     "77af7bd65e53420d8d12b558c664e915": {
      "model_module": "@jupyter-widgets/controls",
      "model_module_version": "2.0.0",
      "model_name": "HBoxModel",
      "state": {
       "_dom_classes": [],
       "_model_module": "@jupyter-widgets/controls",
       "_model_module_version": "2.0.0",
       "_model_name": "HBoxModel",
       "_view_count": null,
       "_view_module": "@jupyter-widgets/controls",
       "_view_module_version": "2.0.0",
       "_view_name": "HBoxView",
       "box_style": "",
       "children": [
        "IPY_MODEL_97282d944a2a4cfa832656b69aa711d5",
        "IPY_MODEL_dfb920a309b74061ae356869f053b785",
        "IPY_MODEL_6b02b1f29f6142199cc9a9697efae436"
       ],
       "layout": "IPY_MODEL_d0e7f34cced2459681201fa7a529c612",
       "tabbable": null,
       "tooltip": null
      }
     },
     "7aab216603004113a79cbaf33c0d3b27": {
      "model_module": "@jupyter-widgets/controls",
      "model_module_version": "2.0.0",
      "model_name": "HTMLModel",
      "state": {
       "_dom_classes": [],
       "_model_module": "@jupyter-widgets/controls",
       "_model_module_version": "2.0.0",
       "_model_name": "HTMLModel",
       "_view_count": null,
       "_view_module": "@jupyter-widgets/controls",
       "_view_module_version": "2.0.0",
       "_view_name": "HTMLView",
       "description": "",
       "description_allow_html": false,
       "layout": "IPY_MODEL_dd074f9631db4583a52517056911a001",
       "placeholder": "​",
       "style": "IPY_MODEL_4c22b3e5bc494432911a79771b71f08f",
       "tabbable": null,
       "tooltip": null,
       "value": " 805/805 [20:56&lt;00:00,  1.26s/it]"
      }
     },
     "7e1ae5b699bc4005961427f9c43563aa": {
      "model_module": "@jupyter-widgets/base",
      "model_module_version": "2.0.0",
      "model_name": "LayoutModel",
      "state": {
       "_model_module": "@jupyter-widgets/base",
       "_model_module_version": "2.0.0",
       "_model_name": "LayoutModel",
       "_view_count": null,
       "_view_module": "@jupyter-widgets/base",
       "_view_module_version": "2.0.0",
       "_view_name": "LayoutView",
       "align_content": null,
       "align_items": null,
       "align_self": null,
       "border_bottom": null,
       "border_left": null,
       "border_right": null,
       "border_top": null,
       "bottom": null,
       "display": null,
       "flex": null,
       "flex_flow": null,
       "grid_area": null,
       "grid_auto_columns": null,
       "grid_auto_flow": null,
       "grid_auto_rows": null,
       "grid_column": null,
       "grid_gap": null,
       "grid_row": null,
       "grid_template_areas": null,
       "grid_template_columns": null,
       "grid_template_rows": null,
       "height": null,
       "justify_content": null,
       "justify_items": null,
       "left": null,
       "margin": null,
       "max_height": null,
       "max_width": null,
       "min_height": null,
       "min_width": null,
       "object_fit": null,
       "object_position": null,
       "order": null,
       "overflow": null,
       "padding": null,
       "right": null,
       "top": null,
       "visibility": null,
       "width": null
      }
     },
     "7f2d222b11b94f0b83ce2f51ce11e394": {
      "model_module": "@jupyter-widgets/controls",
      "model_module_version": "2.0.0",
      "model_name": "HTMLModel",
      "state": {
       "_dom_classes": [],
       "_model_module": "@jupyter-widgets/controls",
       "_model_module_version": "2.0.0",
       "_model_name": "HTMLModel",
       "_view_count": null,
       "_view_module": "@jupyter-widgets/controls",
       "_view_module_version": "2.0.0",
       "_view_name": "HTMLView",
       "description": "",
       "description_allow_html": false,
       "layout": "IPY_MODEL_9d327574dced4d44a98ca0bea148f2b5",
       "placeholder": "​",
       "style": "IPY_MODEL_6c466d30f5d6463da3e9807015d94c12",
       "tabbable": null,
       "tooltip": null,
       "value": "pTLoss: 0.915173: 100%"
      }
     },
     "815d5b1af8454b40aa25d09ec5a42bb2": {
      "model_module": "@jupyter-widgets/controls",
      "model_module_version": "2.0.0",
      "model_name": "HBoxModel",
      "state": {
       "_dom_classes": [],
       "_model_module": "@jupyter-widgets/controls",
       "_model_module_version": "2.0.0",
       "_model_name": "HBoxModel",
       "_view_count": null,
       "_view_module": "@jupyter-widgets/controls",
       "_view_module_version": "2.0.0",
       "_view_name": "HBoxView",
       "box_style": "",
       "children": [
        "IPY_MODEL_17051e3a2c7b4c1496019792581b2190",
        "IPY_MODEL_0d4c4ff860064aa6b0bcbd210272f7b5",
        "IPY_MODEL_0a9891c2b7ff40c1b4caa763ce845003"
       ],
       "layout": "IPY_MODEL_16cb3a39af6b4e4d9513850be50e62c3",
       "tabbable": null,
       "tooltip": null
      }
     },
     "82df1786d5a1451bb391bf538f633397": {
      "model_module": "@jupyter-widgets/controls",
      "model_module_version": "2.0.0",
      "model_name": "HTMLModel",
      "state": {
       "_dom_classes": [],
       "_model_module": "@jupyter-widgets/controls",
       "_model_module_version": "2.0.0",
       "_model_name": "HTMLModel",
       "_view_count": null,
       "_view_module": "@jupyter-widgets/controls",
       "_view_module_version": "2.0.0",
       "_view_name": "HTMLView",
       "description": "",
       "description_allow_html": false,
       "layout": "IPY_MODEL_31f3493493924d39b96ef1157e45e9fd",
       "placeholder": "​",
       "style": "IPY_MODEL_16adb51bb7b5407b98a4b2eb0e48c696",
       "tabbable": null,
       "tooltip": null,
       "value": " 805/805 [20:45&lt;00:00,  1.25s/it]"
      }
     },
     "836cc425491d4d86b129a499c58dbf10": {
      "model_module": "@jupyter-widgets/base",
      "model_module_version": "2.0.0",
      "model_name": "LayoutModel",
      "state": {
       "_model_module": "@jupyter-widgets/base",
       "_model_module_version": "2.0.0",
       "_model_name": "LayoutModel",
       "_view_count": null,
       "_view_module": "@jupyter-widgets/base",
       "_view_module_version": "2.0.0",
       "_view_name": "LayoutView",
       "align_content": null,
       "align_items": null,
       "align_self": null,
       "border_bottom": null,
       "border_left": null,
       "border_right": null,
       "border_top": null,
       "bottom": null,
       "display": null,
       "flex": null,
       "flex_flow": null,
       "grid_area": null,
       "grid_auto_columns": null,
       "grid_auto_flow": null,
       "grid_auto_rows": null,
       "grid_column": null,
       "grid_gap": null,
       "grid_row": null,
       "grid_template_areas": null,
       "grid_template_columns": null,
       "grid_template_rows": null,
       "height": null,
       "justify_content": null,
       "justify_items": null,
       "left": null,
       "margin": null,
       "max_height": null,
       "max_width": null,
       "min_height": null,
       "min_width": null,
       "object_fit": null,
       "object_position": null,
       "order": null,
       "overflow": null,
       "padding": null,
       "right": null,
       "top": null,
       "visibility": null,
       "width": null
      }
     },
     "83cadf6bba54420f83c962fbe1521e70": {
      "model_module": "@jupyter-widgets/controls",
      "model_module_version": "2.0.0",
      "model_name": "FloatProgressModel",
      "state": {
       "_dom_classes": [],
       "_model_module": "@jupyter-widgets/controls",
       "_model_module_version": "2.0.0",
       "_model_name": "FloatProgressModel",
       "_view_count": null,
       "_view_module": "@jupyter-widgets/controls",
       "_view_module_version": "2.0.0",
       "_view_name": "ProgressView",
       "bar_style": "success",
       "description": "",
       "description_allow_html": false,
       "layout": "IPY_MODEL_836cc425491d4d86b129a499c58dbf10",
       "max": 805.0,
       "min": 0.0,
       "orientation": "horizontal",
       "style": "IPY_MODEL_c1a3466df8474c7e8bf6c34f2d7372cd",
       "tabbable": null,
       "tooltip": null,
       "value": 805.0
      }
     },
     "85fc7c8a104b486294a5d9e101c530b8": {
      "model_module": "@jupyter-widgets/controls",
      "model_module_version": "2.0.0",
      "model_name": "HBoxModel",
      "state": {
       "_dom_classes": [],
       "_model_module": "@jupyter-widgets/controls",
       "_model_module_version": "2.0.0",
       "_model_name": "HBoxModel",
       "_view_count": null,
       "_view_module": "@jupyter-widgets/controls",
       "_view_module_version": "2.0.0",
       "_view_name": "HBoxView",
       "box_style": "",
       "children": [
        "IPY_MODEL_a05bc2c0762a478ba43c00b82a38f40d",
        "IPY_MODEL_094709e4462240aa81b80ac7ca7d45ae",
        "IPY_MODEL_3377aded66e74a92a68a3ba6f0704cdd"
       ],
       "layout": "IPY_MODEL_394499acd9fd4290914815b36194fb8f",
       "tabbable": null,
       "tooltip": null
      }
     },
     "873adafa0fbc4eb4b268581ac17863fb": {
      "model_module": "@jupyter-widgets/controls",
      "model_module_version": "2.0.0",
      "model_name": "HTMLModel",
      "state": {
       "_dom_classes": [],
       "_model_module": "@jupyter-widgets/controls",
       "_model_module_version": "2.0.0",
       "_model_name": "HTMLModel",
       "_view_count": null,
       "_view_module": "@jupyter-widgets/controls",
       "_view_module_version": "2.0.0",
       "_view_name": "HTMLView",
       "description": "",
       "description_allow_html": false,
       "layout": "IPY_MODEL_e36ab3d4c07442cd8af1cf83cd27b32b",
       "placeholder": "​",
       "style": "IPY_MODEL_3e9f30053cad4db2b467a99dd0c9b38c",
       "tabbable": null,
       "tooltip": null,
       "value": "pTLoss: 0.920287: 100%"
      }
     },
     "8a8beb86fda04b3d88048511a2bd6fe2": {
      "model_module": "@jupyter-widgets/base",
      "model_module_version": "2.0.0",
      "model_name": "LayoutModel",
      "state": {
       "_model_module": "@jupyter-widgets/base",
       "_model_module_version": "2.0.0",
       "_model_name": "LayoutModel",
       "_view_count": null,
       "_view_module": "@jupyter-widgets/base",
       "_view_module_version": "2.0.0",
       "_view_name": "LayoutView",
       "align_content": null,
       "align_items": null,
       "align_self": null,
       "border_bottom": null,
       "border_left": null,
       "border_right": null,
       "border_top": null,
       "bottom": null,
       "display": null,
       "flex": null,
       "flex_flow": null,
       "grid_area": null,
       "grid_auto_columns": null,
       "grid_auto_flow": null,
       "grid_auto_rows": null,
       "grid_column": null,
       "grid_gap": null,
       "grid_row": null,
       "grid_template_areas": null,
       "grid_template_columns": null,
       "grid_template_rows": null,
       "height": null,
       "justify_content": null,
       "justify_items": null,
       "left": null,
       "margin": null,
       "max_height": null,
       "max_width": null,
       "min_height": null,
       "min_width": null,
       "object_fit": null,
       "object_position": null,
       "order": null,
       "overflow": null,
       "padding": null,
       "right": null,
       "top": null,
       "visibility": null,
       "width": null
      }
     },
     "8b3681663d4c40b59df4de4d24fbbb26": {
      "model_module": "@jupyter-widgets/controls",
      "model_module_version": "2.0.0",
      "model_name": "FloatProgressModel",
      "state": {
       "_dom_classes": [],
       "_model_module": "@jupyter-widgets/controls",
       "_model_module_version": "2.0.0",
       "_model_name": "FloatProgressModel",
       "_view_count": null,
       "_view_module": "@jupyter-widgets/controls",
       "_view_module_version": "2.0.0",
       "_view_name": "ProgressView",
       "bar_style": "success",
       "description": "",
       "description_allow_html": false,
       "layout": "IPY_MODEL_b675ea184f4c48388558891bb30efd3b",
       "max": 805.0,
       "min": 0.0,
       "orientation": "horizontal",
       "style": "IPY_MODEL_bbd36ac34af04b0da5f30ebd9f1e5a7f",
       "tabbable": null,
       "tooltip": null,
       "value": 805.0
      }
     },
     "8b91d0c2f79b455b91d072beca1f6cd0": {
      "model_module": "@jupyter-widgets/base",
      "model_module_version": "2.0.0",
      "model_name": "LayoutModel",
      "state": {
       "_model_module": "@jupyter-widgets/base",
       "_model_module_version": "2.0.0",
       "_model_name": "LayoutModel",
       "_view_count": null,
       "_view_module": "@jupyter-widgets/base",
       "_view_module_version": "2.0.0",
       "_view_name": "LayoutView",
       "align_content": null,
       "align_items": null,
       "align_self": null,
       "border_bottom": null,
       "border_left": null,
       "border_right": null,
       "border_top": null,
       "bottom": null,
       "display": null,
       "flex": null,
       "flex_flow": null,
       "grid_area": null,
       "grid_auto_columns": null,
       "grid_auto_flow": null,
       "grid_auto_rows": null,
       "grid_column": null,
       "grid_gap": null,
       "grid_row": null,
       "grid_template_areas": null,
       "grid_template_columns": null,
       "grid_template_rows": null,
       "height": null,
       "justify_content": null,
       "justify_items": null,
       "left": null,
       "margin": null,
       "max_height": null,
       "max_width": null,
       "min_height": null,
       "min_width": null,
       "object_fit": null,
       "object_position": null,
       "order": null,
       "overflow": null,
       "padding": null,
       "right": null,
       "top": null,
       "visibility": null,
       "width": null
      }
     },
     "97282d944a2a4cfa832656b69aa711d5": {
      "model_module": "@jupyter-widgets/controls",
      "model_module_version": "2.0.0",
      "model_name": "HTMLModel",
      "state": {
       "_dom_classes": [],
       "_model_module": "@jupyter-widgets/controls",
       "_model_module_version": "2.0.0",
       "_model_name": "HTMLModel",
       "_view_count": null,
       "_view_module": "@jupyter-widgets/controls",
       "_view_module_version": "2.0.0",
       "_view_name": "HTMLView",
       "description": "",
       "description_allow_html": false,
       "layout": "IPY_MODEL_33156b13af79475f847c073f895bbbc4",
       "placeholder": "​",
       "style": "IPY_MODEL_a8abfeef463d43218a4094dc3cd591b0",
       "tabbable": null,
       "tooltip": null,
       "value": "pTLoss: 0.92284715: 100%"
      }
     },
     "9a2967335f1645d0b298a9d3c4a52706": {
      "model_module": "@jupyter-widgets/base",
      "model_module_version": "2.0.0",
      "model_name": "LayoutModel",
      "state": {
       "_model_module": "@jupyter-widgets/base",
       "_model_module_version": "2.0.0",
       "_model_name": "LayoutModel",
       "_view_count": null,
       "_view_module": "@jupyter-widgets/base",
       "_view_module_version": "2.0.0",
       "_view_name": "LayoutView",
       "align_content": null,
       "align_items": null,
       "align_self": null,
       "border_bottom": null,
       "border_left": null,
       "border_right": null,
       "border_top": null,
       "bottom": null,
       "display": null,
       "flex": null,
       "flex_flow": null,
       "grid_area": null,
       "grid_auto_columns": null,
       "grid_auto_flow": null,
       "grid_auto_rows": null,
       "grid_column": null,
       "grid_gap": null,
       "grid_row": null,
       "grid_template_areas": null,
       "grid_template_columns": null,
       "grid_template_rows": null,
       "height": null,
       "justify_content": null,
       "justify_items": null,
       "left": null,
       "margin": null,
       "max_height": null,
       "max_width": null,
       "min_height": null,
       "min_width": null,
       "object_fit": null,
       "object_position": null,
       "order": null,
       "overflow": null,
       "padding": null,
       "right": null,
       "top": null,
       "visibility": null,
       "width": null
      }
     },
     "9a5d67a1f1a445bf8dc468f410586149": {
      "model_module": "@jupyter-widgets/base",
      "model_module_version": "2.0.0",
      "model_name": "LayoutModel",
      "state": {
       "_model_module": "@jupyter-widgets/base",
       "_model_module_version": "2.0.0",
       "_model_name": "LayoutModel",
       "_view_count": null,
       "_view_module": "@jupyter-widgets/base",
       "_view_module_version": "2.0.0",
       "_view_name": "LayoutView",
       "align_content": null,
       "align_items": null,
       "align_self": null,
       "border_bottom": null,
       "border_left": null,
       "border_right": null,
       "border_top": null,
       "bottom": null,
       "display": null,
       "flex": null,
       "flex_flow": null,
       "grid_area": null,
       "grid_auto_columns": null,
       "grid_auto_flow": null,
       "grid_auto_rows": null,
       "grid_column": null,
       "grid_gap": null,
       "grid_row": null,
       "grid_template_areas": null,
       "grid_template_columns": null,
       "grid_template_rows": null,
       "height": null,
       "justify_content": null,
       "justify_items": null,
       "left": null,
       "margin": null,
       "max_height": null,
       "max_width": null,
       "min_height": null,
       "min_width": null,
       "object_fit": null,
       "object_position": null,
       "order": null,
       "overflow": null,
       "padding": null,
       "right": null,
       "top": null,
       "visibility": null,
       "width": null
      }
     },
     "9d327574dced4d44a98ca0bea148f2b5": {
      "model_module": "@jupyter-widgets/base",
      "model_module_version": "2.0.0",
      "model_name": "LayoutModel",
      "state": {
       "_model_module": "@jupyter-widgets/base",
       "_model_module_version": "2.0.0",
       "_model_name": "LayoutModel",
       "_view_count": null,
       "_view_module": "@jupyter-widgets/base",
       "_view_module_version": "2.0.0",
       "_view_name": "LayoutView",
       "align_content": null,
       "align_items": null,
       "align_self": null,
       "border_bottom": null,
       "border_left": null,
       "border_right": null,
       "border_top": null,
       "bottom": null,
       "display": null,
       "flex": null,
       "flex_flow": null,
       "grid_area": null,
       "grid_auto_columns": null,
       "grid_auto_flow": null,
       "grid_auto_rows": null,
       "grid_column": null,
       "grid_gap": null,
       "grid_row": null,
       "grid_template_areas": null,
       "grid_template_columns": null,
       "grid_template_rows": null,
       "height": null,
       "justify_content": null,
       "justify_items": null,
       "left": null,
       "margin": null,
       "max_height": null,
       "max_width": null,
       "min_height": null,
       "min_width": null,
       "object_fit": null,
       "object_position": null,
       "order": null,
       "overflow": null,
       "padding": null,
       "right": null,
       "top": null,
       "visibility": null,
       "width": null
      }
     },
     "9ed32795834741e3a1a290a6b754653a": {
      "model_module": "@jupyter-widgets/controls",
      "model_module_version": "2.0.0",
      "model_name": "HTMLModel",
      "state": {
       "_dom_classes": [],
       "_model_module": "@jupyter-widgets/controls",
       "_model_module_version": "2.0.0",
       "_model_name": "HTMLModel",
       "_view_count": null,
       "_view_module": "@jupyter-widgets/controls",
       "_view_module_version": "2.0.0",
       "_view_name": "HTMLView",
       "description": "",
       "description_allow_html": false,
       "layout": "IPY_MODEL_adbde1958d0b460f84e0c73f1e2f6d67",
       "placeholder": "​",
       "style": "IPY_MODEL_9f405e33bfe34fe4b27fdd7d19d4b876",
       "tabbable": null,
       "tooltip": null,
       "value": " 805/805 [20:44&lt;00:00,  1.25s/it]"
      }
     },
     "9f405e33bfe34fe4b27fdd7d19d4b876": {
      "model_module": "@jupyter-widgets/controls",
      "model_module_version": "2.0.0",
      "model_name": "HTMLStyleModel",
      "state": {
       "_model_module": "@jupyter-widgets/controls",
       "_model_module_version": "2.0.0",
       "_model_name": "HTMLStyleModel",
       "_view_count": null,
       "_view_module": "@jupyter-widgets/base",
       "_view_module_version": "2.0.0",
       "_view_name": "StyleView",
       "background": null,
       "description_width": "",
       "font_size": null,
       "text_color": null
      }
     },
     "a05bc2c0762a478ba43c00b82a38f40d": {
      "model_module": "@jupyter-widgets/controls",
      "model_module_version": "2.0.0",
      "model_name": "HTMLModel",
      "state": {
       "_dom_classes": [],
       "_model_module": "@jupyter-widgets/controls",
       "_model_module_version": "2.0.0",
       "_model_name": "HTMLModel",
       "_view_count": null,
       "_view_module": "@jupyter-widgets/controls",
       "_view_module_version": "2.0.0",
       "_view_name": "HTMLView",
       "description": "",
       "description_allow_html": false,
       "layout": "IPY_MODEL_2628c327759c48659a0a79a29ef97d42",
       "placeholder": "​",
       "style": "IPY_MODEL_61eadd64ca60478fb290d224c5f97d50",
       "tabbable": null,
       "tooltip": null,
       "value": "pTLoss: 0.92223895: 100%"
      }
     },
     "a259b774ced14fcd8d0cc5a8900948f0": {
      "model_module": "@jupyter-widgets/controls",
      "model_module_version": "2.0.0",
      "model_name": "FloatProgressModel",
      "state": {
       "_dom_classes": [],
       "_model_module": "@jupyter-widgets/controls",
       "_model_module_version": "2.0.0",
       "_model_name": "FloatProgressModel",
       "_view_count": null,
       "_view_module": "@jupyter-widgets/controls",
       "_view_module_version": "2.0.0",
       "_view_name": "ProgressView",
       "bar_style": "success",
       "description": "",
       "description_allow_html": false,
       "layout": "IPY_MODEL_2e1ea0170d444569b73eefd52ea2224b",
       "max": 805.0,
       "min": 0.0,
       "orientation": "horizontal",
       "style": "IPY_MODEL_b0b8ea7a2867410ebfd075760e53337f",
       "tabbable": null,
       "tooltip": null,
       "value": 805.0
      }
     },
     "a55cef26bacb49ffa86890a41b9b985a": {
      "model_module": "@jupyter-widgets/controls",
      "model_module_version": "2.0.0",
      "model_name": "HTMLStyleModel",
      "state": {
       "_model_module": "@jupyter-widgets/controls",
       "_model_module_version": "2.0.0",
       "_model_name": "HTMLStyleModel",
       "_view_count": null,
       "_view_module": "@jupyter-widgets/base",
       "_view_module_version": "2.0.0",
       "_view_name": "StyleView",
       "background": null,
       "description_width": "",
       "font_size": null,
       "text_color": null
      }
     },
     "a8abfeef463d43218a4094dc3cd591b0": {
      "model_module": "@jupyter-widgets/controls",
      "model_module_version": "2.0.0",
      "model_name": "HTMLStyleModel",
      "state": {
       "_model_module": "@jupyter-widgets/controls",
       "_model_module_version": "2.0.0",
       "_model_name": "HTMLStyleModel",
       "_view_count": null,
       "_view_module": "@jupyter-widgets/base",
       "_view_module_version": "2.0.0",
       "_view_name": "StyleView",
       "background": null,
       "description_width": "",
       "font_size": null,
       "text_color": null
      }
     },
     "ab9da3f102e546e4ad047f5137ade034": {
      "model_module": "@jupyter-widgets/controls",
      "model_module_version": "2.0.0",
      "model_name": "HTMLModel",
      "state": {
       "_dom_classes": [],
       "_model_module": "@jupyter-widgets/controls",
       "_model_module_version": "2.0.0",
       "_model_name": "HTMLModel",
       "_view_count": null,
       "_view_module": "@jupyter-widgets/controls",
       "_view_module_version": "2.0.0",
       "_view_name": "HTMLView",
       "description": "",
       "description_allow_html": false,
       "layout": "IPY_MODEL_baad94efd3aa45b889b489c15559dc85",
       "placeholder": "​",
       "style": "IPY_MODEL_2fcdb88e2ec24ed38efdc31d4db467d8",
       "tabbable": null,
       "tooltip": null,
       "value": " 805/805 [20:43&lt;00:00,  1.25s/it]"
      }
     },
     "adbde1958d0b460f84e0c73f1e2f6d67": {
      "model_module": "@jupyter-widgets/base",
      "model_module_version": "2.0.0",
      "model_name": "LayoutModel",
      "state": {
       "_model_module": "@jupyter-widgets/base",
       "_model_module_version": "2.0.0",
       "_model_name": "LayoutModel",
       "_view_count": null,
       "_view_module": "@jupyter-widgets/base",
       "_view_module_version": "2.0.0",
       "_view_name": "LayoutView",
       "align_content": null,
       "align_items": null,
       "align_self": null,
       "border_bottom": null,
       "border_left": null,
       "border_right": null,
       "border_top": null,
       "bottom": null,
       "display": null,
       "flex": null,
       "flex_flow": null,
       "grid_area": null,
       "grid_auto_columns": null,
       "grid_auto_flow": null,
       "grid_auto_rows": null,
       "grid_column": null,
       "grid_gap": null,
       "grid_row": null,
       "grid_template_areas": null,
       "grid_template_columns": null,
       "grid_template_rows": null,
       "height": null,
       "justify_content": null,
       "justify_items": null,
       "left": null,
       "margin": null,
       "max_height": null,
       "max_width": null,
       "min_height": null,
       "min_width": null,
       "object_fit": null,
       "object_position": null,
       "order": null,
       "overflow": null,
       "padding": null,
       "right": null,
       "top": null,
       "visibility": null,
       "width": null
      }
     },
     "ae0c2474a785482fa7bb6b90e9b71f26": {
      "model_module": "@jupyter-widgets/controls",
      "model_module_version": "2.0.0",
      "model_name": "HTMLStyleModel",
      "state": {
       "_model_module": "@jupyter-widgets/controls",
       "_model_module_version": "2.0.0",
       "_model_name": "HTMLStyleModel",
       "_view_count": null,
       "_view_module": "@jupyter-widgets/base",
       "_view_module_version": "2.0.0",
       "_view_name": "StyleView",
       "background": null,
       "description_width": "",
       "font_size": null,
       "text_color": null
      }
     },
     "b0b8ea7a2867410ebfd075760e53337f": {
      "model_module": "@jupyter-widgets/controls",
      "model_module_version": "2.0.0",
      "model_name": "ProgressStyleModel",
      "state": {
       "_model_module": "@jupyter-widgets/controls",
       "_model_module_version": "2.0.0",
       "_model_name": "ProgressStyleModel",
       "_view_count": null,
       "_view_module": "@jupyter-widgets/base",
       "_view_module_version": "2.0.0",
       "_view_name": "StyleView",
       "bar_color": null,
       "description_width": ""
      }
     },
     "b2442a4408b84bd9bdd468700540ba02": {
      "model_module": "@jupyter-widgets/controls",
      "model_module_version": "2.0.0",
      "model_name": "HTMLModel",
      "state": {
       "_dom_classes": [],
       "_model_module": "@jupyter-widgets/controls",
       "_model_module_version": "2.0.0",
       "_model_name": "HTMLModel",
       "_view_count": null,
       "_view_module": "@jupyter-widgets/controls",
       "_view_module_version": "2.0.0",
       "_view_name": "HTMLView",
       "description": "",
       "description_allow_html": false,
       "layout": "IPY_MODEL_9a5d67a1f1a445bf8dc468f410586149",
       "placeholder": "​",
       "style": "IPY_MODEL_ae0c2474a785482fa7bb6b90e9b71f26",
       "tabbable": null,
       "tooltip": null,
       "value": " 805/805 [20:40&lt;00:00,  1.26s/it]"
      }
     },
     "b2bd621b6f5541deab65c121aa11c5f6": {
      "model_module": "@jupyter-widgets/controls",
      "model_module_version": "2.0.0",
      "model_name": "HBoxModel",
      "state": {
       "_dom_classes": [],
       "_model_module": "@jupyter-widgets/controls",
       "_model_module_version": "2.0.0",
       "_model_name": "HBoxModel",
       "_view_count": null,
       "_view_module": "@jupyter-widgets/controls",
       "_view_module_version": "2.0.0",
       "_view_name": "HBoxView",
       "box_style": "",
       "children": [
        "IPY_MODEL_0b11a8ab85e047178ab48aeb9da88830",
        "IPY_MODEL_83cadf6bba54420f83c962fbe1521e70",
        "IPY_MODEL_e5e64f1a7fca4d3c95f9189617c5e6fb"
       ],
       "layout": "IPY_MODEL_cd2b15a747804db992961928b5950589",
       "tabbable": null,
       "tooltip": null
      }
     },
     "b3dc01d295a846ba8d8440e11f3c781c": {
      "model_module": "@jupyter-widgets/controls",
      "model_module_version": "2.0.0",
      "model_name": "HBoxModel",
      "state": {
       "_dom_classes": [],
       "_model_module": "@jupyter-widgets/controls",
       "_model_module_version": "2.0.0",
       "_model_name": "HBoxModel",
       "_view_count": null,
       "_view_module": "@jupyter-widgets/controls",
       "_view_module_version": "2.0.0",
       "_view_name": "HBoxView",
       "box_style": "",
       "children": [
        "IPY_MODEL_d4f6201606a3461ebaa2d82a95d138c8",
        "IPY_MODEL_e836684dd6714227b64d3d3c7b067ecb",
        "IPY_MODEL_ab9da3f102e546e4ad047f5137ade034"
       ],
       "layout": "IPY_MODEL_74a6cbe196a94e49ac1791c8546be77c",
       "tabbable": null,
       "tooltip": null
      }
     },
     "b675ea184f4c48388558891bb30efd3b": {
      "model_module": "@jupyter-widgets/base",
      "model_module_version": "2.0.0",
      "model_name": "LayoutModel",
      "state": {
       "_model_module": "@jupyter-widgets/base",
       "_model_module_version": "2.0.0",
       "_model_name": "LayoutModel",
       "_view_count": null,
       "_view_module": "@jupyter-widgets/base",
       "_view_module_version": "2.0.0",
       "_view_name": "LayoutView",
       "align_content": null,
       "align_items": null,
       "align_self": null,
       "border_bottom": null,
       "border_left": null,
       "border_right": null,
       "border_top": null,
       "bottom": null,
       "display": null,
       "flex": null,
       "flex_flow": null,
       "grid_area": null,
       "grid_auto_columns": null,
       "grid_auto_flow": null,
       "grid_auto_rows": null,
       "grid_column": null,
       "grid_gap": null,
       "grid_row": null,
       "grid_template_areas": null,
       "grid_template_columns": null,
       "grid_template_rows": null,
       "height": null,
       "justify_content": null,
       "justify_items": null,
       "left": null,
       "margin": null,
       "max_height": null,
       "max_width": null,
       "min_height": null,
       "min_width": null,
       "object_fit": null,
       "object_position": null,
       "order": null,
       "overflow": null,
       "padding": null,
       "right": null,
       "top": null,
       "visibility": null,
       "width": null
      }
     },
     "b8cd542305a849e29f2e2ff452abd824": {
      "model_module": "@jupyter-widgets/controls",
      "model_module_version": "2.0.0",
      "model_name": "ProgressStyleModel",
      "state": {
       "_model_module": "@jupyter-widgets/controls",
       "_model_module_version": "2.0.0",
       "_model_name": "ProgressStyleModel",
       "_view_count": null,
       "_view_module": "@jupyter-widgets/base",
       "_view_module_version": "2.0.0",
       "_view_name": "StyleView",
       "bar_color": null,
       "description_width": ""
      }
     },
     "ba1f30c6d41c4d568ec8128406c7c0e3": {
      "model_module": "@jupyter-widgets/controls",
      "model_module_version": "2.0.0",
      "model_name": "ProgressStyleModel",
      "state": {
       "_model_module": "@jupyter-widgets/controls",
       "_model_module_version": "2.0.0",
       "_model_name": "ProgressStyleModel",
       "_view_count": null,
       "_view_module": "@jupyter-widgets/base",
       "_view_module_version": "2.0.0",
       "_view_name": "StyleView",
       "bar_color": null,
       "description_width": ""
      }
     },
     "baad94efd3aa45b889b489c15559dc85": {
      "model_module": "@jupyter-widgets/base",
      "model_module_version": "2.0.0",
      "model_name": "LayoutModel",
      "state": {
       "_model_module": "@jupyter-widgets/base",
       "_model_module_version": "2.0.0",
       "_model_name": "LayoutModel",
       "_view_count": null,
       "_view_module": "@jupyter-widgets/base",
       "_view_module_version": "2.0.0",
       "_view_name": "LayoutView",
       "align_content": null,
       "align_items": null,
       "align_self": null,
       "border_bottom": null,
       "border_left": null,
       "border_right": null,
       "border_top": null,
       "bottom": null,
       "display": null,
       "flex": null,
       "flex_flow": null,
       "grid_area": null,
       "grid_auto_columns": null,
       "grid_auto_flow": null,
       "grid_auto_rows": null,
       "grid_column": null,
       "grid_gap": null,
       "grid_row": null,
       "grid_template_areas": null,
       "grid_template_columns": null,
       "grid_template_rows": null,
       "height": null,
       "justify_content": null,
       "justify_items": null,
       "left": null,
       "margin": null,
       "max_height": null,
       "max_width": null,
       "min_height": null,
       "min_width": null,
       "object_fit": null,
       "object_position": null,
       "order": null,
       "overflow": null,
       "padding": null,
       "right": null,
       "top": null,
       "visibility": null,
       "width": null
      }
     },
     "bb6167eefde24656ba2db3a6beddff62": {
      "model_module": "@jupyter-widgets/base",
      "model_module_version": "2.0.0",
      "model_name": "LayoutModel",
      "state": {
       "_model_module": "@jupyter-widgets/base",
       "_model_module_version": "2.0.0",
       "_model_name": "LayoutModel",
       "_view_count": null,
       "_view_module": "@jupyter-widgets/base",
       "_view_module_version": "2.0.0",
       "_view_name": "LayoutView",
       "align_content": null,
       "align_items": null,
       "align_self": null,
       "border_bottom": null,
       "border_left": null,
       "border_right": null,
       "border_top": null,
       "bottom": null,
       "display": null,
       "flex": null,
       "flex_flow": null,
       "grid_area": null,
       "grid_auto_columns": null,
       "grid_auto_flow": null,
       "grid_auto_rows": null,
       "grid_column": null,
       "grid_gap": null,
       "grid_row": null,
       "grid_template_areas": null,
       "grid_template_columns": null,
       "grid_template_rows": null,
       "height": null,
       "justify_content": null,
       "justify_items": null,
       "left": null,
       "margin": null,
       "max_height": null,
       "max_width": null,
       "min_height": null,
       "min_width": null,
       "object_fit": null,
       "object_position": null,
       "order": null,
       "overflow": null,
       "padding": null,
       "right": null,
       "top": null,
       "visibility": null,
       "width": null
      }
     },
     "bbd36ac34af04b0da5f30ebd9f1e5a7f": {
      "model_module": "@jupyter-widgets/controls",
      "model_module_version": "2.0.0",
      "model_name": "ProgressStyleModel",
      "state": {
       "_model_module": "@jupyter-widgets/controls",
       "_model_module_version": "2.0.0",
       "_model_name": "ProgressStyleModel",
       "_view_count": null,
       "_view_module": "@jupyter-widgets/base",
       "_view_module_version": "2.0.0",
       "_view_name": "StyleView",
       "bar_color": null,
       "description_width": ""
      }
     },
     "bdc20e6e951b4f868c8b2feefdce30c3": {
      "model_module": "@jupyter-widgets/base",
      "model_module_version": "2.0.0",
      "model_name": "LayoutModel",
      "state": {
       "_model_module": "@jupyter-widgets/base",
       "_model_module_version": "2.0.0",
       "_model_name": "LayoutModel",
       "_view_count": null,
       "_view_module": "@jupyter-widgets/base",
       "_view_module_version": "2.0.0",
       "_view_name": "LayoutView",
       "align_content": null,
       "align_items": null,
       "align_self": null,
       "border_bottom": null,
       "border_left": null,
       "border_right": null,
       "border_top": null,
       "bottom": null,
       "display": null,
       "flex": null,
       "flex_flow": null,
       "grid_area": null,
       "grid_auto_columns": null,
       "grid_auto_flow": null,
       "grid_auto_rows": null,
       "grid_column": null,
       "grid_gap": null,
       "grid_row": null,
       "grid_template_areas": null,
       "grid_template_columns": null,
       "grid_template_rows": null,
       "height": null,
       "justify_content": null,
       "justify_items": null,
       "left": null,
       "margin": null,
       "max_height": null,
       "max_width": null,
       "min_height": null,
       "min_width": null,
       "object_fit": null,
       "object_position": null,
       "order": null,
       "overflow": null,
       "padding": null,
       "right": null,
       "top": null,
       "visibility": null,
       "width": null
      }
     },
     "c1a3466df8474c7e8bf6c34f2d7372cd": {
      "model_module": "@jupyter-widgets/controls",
      "model_module_version": "2.0.0",
      "model_name": "ProgressStyleModel",
      "state": {
       "_model_module": "@jupyter-widgets/controls",
       "_model_module_version": "2.0.0",
       "_model_name": "ProgressStyleModel",
       "_view_count": null,
       "_view_module": "@jupyter-widgets/base",
       "_view_module_version": "2.0.0",
       "_view_name": "StyleView",
       "bar_color": null,
       "description_width": ""
      }
     },
     "c1ec4ace8f254d57b873134dc323d972": {
      "model_module": "@jupyter-widgets/base",
      "model_module_version": "2.0.0",
      "model_name": "LayoutModel",
      "state": {
       "_model_module": "@jupyter-widgets/base",
       "_model_module_version": "2.0.0",
       "_model_name": "LayoutModel",
       "_view_count": null,
       "_view_module": "@jupyter-widgets/base",
       "_view_module_version": "2.0.0",
       "_view_name": "LayoutView",
       "align_content": null,
       "align_items": null,
       "align_self": null,
       "border_bottom": null,
       "border_left": null,
       "border_right": null,
       "border_top": null,
       "bottom": null,
       "display": null,
       "flex": null,
       "flex_flow": null,
       "grid_area": null,
       "grid_auto_columns": null,
       "grid_auto_flow": null,
       "grid_auto_rows": null,
       "grid_column": null,
       "grid_gap": null,
       "grid_row": null,
       "grid_template_areas": null,
       "grid_template_columns": null,
       "grid_template_rows": null,
       "height": null,
       "justify_content": null,
       "justify_items": null,
       "left": null,
       "margin": null,
       "max_height": null,
       "max_width": null,
       "min_height": null,
       "min_width": null,
       "object_fit": null,
       "object_position": null,
       "order": null,
       "overflow": null,
       "padding": null,
       "right": null,
       "top": null,
       "visibility": null,
       "width": null
      }
     },
     "c4c4011db68d483385f7fceb86796bda": {
      "model_module": "@jupyter-widgets/controls",
      "model_module_version": "2.0.0",
      "model_name": "FloatProgressModel",
      "state": {
       "_dom_classes": [],
       "_model_module": "@jupyter-widgets/controls",
       "_model_module_version": "2.0.0",
       "_model_name": "FloatProgressModel",
       "_view_count": null,
       "_view_module": "@jupyter-widgets/controls",
       "_view_module_version": "2.0.0",
       "_view_name": "ProgressView",
       "bar_style": "success",
       "description": "",
       "description_allow_html": false,
       "layout": "IPY_MODEL_c84a83a8f0684063bb9cf054a1b23c6d",
       "max": 805.0,
       "min": 0.0,
       "orientation": "horizontal",
       "style": "IPY_MODEL_b8cd542305a849e29f2e2ff452abd824",
       "tabbable": null,
       "tooltip": null,
       "value": 805.0
      }
     },
     "c6823b24d7cc439cb9803f8a212f4ec3": {
      "model_module": "@jupyter-widgets/base",
      "model_module_version": "2.0.0",
      "model_name": "LayoutModel",
      "state": {
       "_model_module": "@jupyter-widgets/base",
       "_model_module_version": "2.0.0",
       "_model_name": "LayoutModel",
       "_view_count": null,
       "_view_module": "@jupyter-widgets/base",
       "_view_module_version": "2.0.0",
       "_view_name": "LayoutView",
       "align_content": null,
       "align_items": null,
       "align_self": null,
       "border_bottom": null,
       "border_left": null,
       "border_right": null,
       "border_top": null,
       "bottom": null,
       "display": null,
       "flex": null,
       "flex_flow": null,
       "grid_area": null,
       "grid_auto_columns": null,
       "grid_auto_flow": null,
       "grid_auto_rows": null,
       "grid_column": null,
       "grid_gap": null,
       "grid_row": null,
       "grid_template_areas": null,
       "grid_template_columns": null,
       "grid_template_rows": null,
       "height": null,
       "justify_content": null,
       "justify_items": null,
       "left": null,
       "margin": null,
       "max_height": null,
       "max_width": null,
       "min_height": null,
       "min_width": null,
       "object_fit": null,
       "object_position": null,
       "order": null,
       "overflow": null,
       "padding": null,
       "right": null,
       "top": null,
       "visibility": null,
       "width": null
      }
     },
     "c84a83a8f0684063bb9cf054a1b23c6d": {
      "model_module": "@jupyter-widgets/base",
      "model_module_version": "2.0.0",
      "model_name": "LayoutModel",
      "state": {
       "_model_module": "@jupyter-widgets/base",
       "_model_module_version": "2.0.0",
       "_model_name": "LayoutModel",
       "_view_count": null,
       "_view_module": "@jupyter-widgets/base",
       "_view_module_version": "2.0.0",
       "_view_name": "LayoutView",
       "align_content": null,
       "align_items": null,
       "align_self": null,
       "border_bottom": null,
       "border_left": null,
       "border_right": null,
       "border_top": null,
       "bottom": null,
       "display": null,
       "flex": null,
       "flex_flow": null,
       "grid_area": null,
       "grid_auto_columns": null,
       "grid_auto_flow": null,
       "grid_auto_rows": null,
       "grid_column": null,
       "grid_gap": null,
       "grid_row": null,
       "grid_template_areas": null,
       "grid_template_columns": null,
       "grid_template_rows": null,
       "height": null,
       "justify_content": null,
       "justify_items": null,
       "left": null,
       "margin": null,
       "max_height": null,
       "max_width": null,
       "min_height": null,
       "min_width": null,
       "object_fit": null,
       "object_position": null,
       "order": null,
       "overflow": null,
       "padding": null,
       "right": null,
       "top": null,
       "visibility": null,
       "width": null
      }
     },
     "cd2b15a747804db992961928b5950589": {
      "model_module": "@jupyter-widgets/base",
      "model_module_version": "2.0.0",
      "model_name": "LayoutModel",
      "state": {
       "_model_module": "@jupyter-widgets/base",
       "_model_module_version": "2.0.0",
       "_model_name": "LayoutModel",
       "_view_count": null,
       "_view_module": "@jupyter-widgets/base",
       "_view_module_version": "2.0.0",
       "_view_name": "LayoutView",
       "align_content": null,
       "align_items": null,
       "align_self": null,
       "border_bottom": null,
       "border_left": null,
       "border_right": null,
       "border_top": null,
       "bottom": null,
       "display": null,
       "flex": null,
       "flex_flow": null,
       "grid_area": null,
       "grid_auto_columns": null,
       "grid_auto_flow": null,
       "grid_auto_rows": null,
       "grid_column": null,
       "grid_gap": null,
       "grid_row": null,
       "grid_template_areas": null,
       "grid_template_columns": null,
       "grid_template_rows": null,
       "height": null,
       "justify_content": null,
       "justify_items": null,
       "left": null,
       "margin": null,
       "max_height": null,
       "max_width": null,
       "min_height": null,
       "min_width": null,
       "object_fit": null,
       "object_position": null,
       "order": null,
       "overflow": null,
       "padding": null,
       "right": null,
       "top": null,
       "visibility": null,
       "width": null
      }
     },
     "d0e7f34cced2459681201fa7a529c612": {
      "model_module": "@jupyter-widgets/base",
      "model_module_version": "2.0.0",
      "model_name": "LayoutModel",
      "state": {
       "_model_module": "@jupyter-widgets/base",
       "_model_module_version": "2.0.0",
       "_model_name": "LayoutModel",
       "_view_count": null,
       "_view_module": "@jupyter-widgets/base",
       "_view_module_version": "2.0.0",
       "_view_name": "LayoutView",
       "align_content": null,
       "align_items": null,
       "align_self": null,
       "border_bottom": null,
       "border_left": null,
       "border_right": null,
       "border_top": null,
       "bottom": null,
       "display": null,
       "flex": null,
       "flex_flow": null,
       "grid_area": null,
       "grid_auto_columns": null,
       "grid_auto_flow": null,
       "grid_auto_rows": null,
       "grid_column": null,
       "grid_gap": null,
       "grid_row": null,
       "grid_template_areas": null,
       "grid_template_columns": null,
       "grid_template_rows": null,
       "height": null,
       "justify_content": null,
       "justify_items": null,
       "left": null,
       "margin": null,
       "max_height": null,
       "max_width": null,
       "min_height": null,
       "min_width": null,
       "object_fit": null,
       "object_position": null,
       "order": null,
       "overflow": null,
       "padding": null,
       "right": null,
       "top": null,
       "visibility": null,
       "width": null
      }
     },
     "d30b84ee9d5a4b98961030ca0ac59678": {
      "model_module": "@jupyter-widgets/controls",
      "model_module_version": "2.0.0",
      "model_name": "ProgressStyleModel",
      "state": {
       "_model_module": "@jupyter-widgets/controls",
       "_model_module_version": "2.0.0",
       "_model_name": "ProgressStyleModel",
       "_view_count": null,
       "_view_module": "@jupyter-widgets/base",
       "_view_module_version": "2.0.0",
       "_view_name": "StyleView",
       "bar_color": null,
       "description_width": ""
      }
     },
     "d37555d750634e77b204a663df57a4c3": {
      "model_module": "@jupyter-widgets/controls",
      "model_module_version": "2.0.0",
      "model_name": "HTMLStyleModel",
      "state": {
       "_model_module": "@jupyter-widgets/controls",
       "_model_module_version": "2.0.0",
       "_model_name": "HTMLStyleModel",
       "_view_count": null,
       "_view_module": "@jupyter-widgets/base",
       "_view_module_version": "2.0.0",
       "_view_name": "StyleView",
       "background": null,
       "description_width": "",
       "font_size": null,
       "text_color": null
      }
     },
     "d4f6201606a3461ebaa2d82a95d138c8": {
      "model_module": "@jupyter-widgets/controls",
      "model_module_version": "2.0.0",
      "model_name": "HTMLModel",
      "state": {
       "_dom_classes": [],
       "_model_module": "@jupyter-widgets/controls",
       "_model_module_version": "2.0.0",
       "_model_name": "HTMLModel",
       "_view_count": null,
       "_view_module": "@jupyter-widgets/controls",
       "_view_module_version": "2.0.0",
       "_view_name": "HTMLView",
       "description": "",
       "description_allow_html": false,
       "layout": "IPY_MODEL_3255295489f444dfb49351f354962816",
       "placeholder": "​",
       "style": "IPY_MODEL_d37555d750634e77b204a663df57a4c3",
       "tabbable": null,
       "tooltip": null,
       "value": "pTLoss: 0.91324586: 100%"
      }
     },
     "d6247bf5171c4436995f61d8b4421738": {
      "model_module": "@jupyter-widgets/controls",
      "model_module_version": "2.0.0",
      "model_name": "HTMLModel",
      "state": {
       "_dom_classes": [],
       "_model_module": "@jupyter-widgets/controls",
       "_model_module_version": "2.0.0",
       "_model_name": "HTMLModel",
       "_view_count": null,
       "_view_module": "@jupyter-widgets/controls",
       "_view_module_version": "2.0.0",
       "_view_name": "HTMLView",
       "description": "",
       "description_allow_html": false,
       "layout": "IPY_MODEL_ddf0dd03f90340e18ecdae85a664a0cf",
       "placeholder": "​",
       "style": "IPY_MODEL_a55cef26bacb49ffa86890a41b9b985a",
       "tabbable": null,
       "tooltip": null,
       "value": "pTLoss: 0.9181808: 100%"
      }
     },
     "d92586a359e842d29698e8fa465ce3a6": {
      "model_module": "@jupyter-widgets/base",
      "model_module_version": "2.0.0",
      "model_name": "LayoutModel",
      "state": {
       "_model_module": "@jupyter-widgets/base",
       "_model_module_version": "2.0.0",
       "_model_name": "LayoutModel",
       "_view_count": null,
       "_view_module": "@jupyter-widgets/base",
       "_view_module_version": "2.0.0",
       "_view_name": "LayoutView",
       "align_content": null,
       "align_items": null,
       "align_self": null,
       "border_bottom": null,
       "border_left": null,
       "border_right": null,
       "border_top": null,
       "bottom": null,
       "display": null,
       "flex": null,
       "flex_flow": null,
       "grid_area": null,
       "grid_auto_columns": null,
       "grid_auto_flow": null,
       "grid_auto_rows": null,
       "grid_column": null,
       "grid_gap": null,
       "grid_row": null,
       "grid_template_areas": null,
       "grid_template_columns": null,
       "grid_template_rows": null,
       "height": null,
       "justify_content": null,
       "justify_items": null,
       "left": null,
       "margin": null,
       "max_height": null,
       "max_width": null,
       "min_height": null,
       "min_width": null,
       "object_fit": null,
       "object_position": null,
       "order": null,
       "overflow": null,
       "padding": null,
       "right": null,
       "top": null,
       "visibility": null,
       "width": null
      }
     },
     "dd074f9631db4583a52517056911a001": {
      "model_module": "@jupyter-widgets/base",
      "model_module_version": "2.0.0",
      "model_name": "LayoutModel",
      "state": {
       "_model_module": "@jupyter-widgets/base",
       "_model_module_version": "2.0.0",
       "_model_name": "LayoutModel",
       "_view_count": null,
       "_view_module": "@jupyter-widgets/base",
       "_view_module_version": "2.0.0",
       "_view_name": "LayoutView",
       "align_content": null,
       "align_items": null,
       "align_self": null,
       "border_bottom": null,
       "border_left": null,
       "border_right": null,
       "border_top": null,
       "bottom": null,
       "display": null,
       "flex": null,
       "flex_flow": null,
       "grid_area": null,
       "grid_auto_columns": null,
       "grid_auto_flow": null,
       "grid_auto_rows": null,
       "grid_column": null,
       "grid_gap": null,
       "grid_row": null,
       "grid_template_areas": null,
       "grid_template_columns": null,
       "grid_template_rows": null,
       "height": null,
       "justify_content": null,
       "justify_items": null,
       "left": null,
       "margin": null,
       "max_height": null,
       "max_width": null,
       "min_height": null,
       "min_width": null,
       "object_fit": null,
       "object_position": null,
       "order": null,
       "overflow": null,
       "padding": null,
       "right": null,
       "top": null,
       "visibility": null,
       "width": null
      }
     },
     "ddf0dd03f90340e18ecdae85a664a0cf": {
      "model_module": "@jupyter-widgets/base",
      "model_module_version": "2.0.0",
      "model_name": "LayoutModel",
      "state": {
       "_model_module": "@jupyter-widgets/base",
       "_model_module_version": "2.0.0",
       "_model_name": "LayoutModel",
       "_view_count": null,
       "_view_module": "@jupyter-widgets/base",
       "_view_module_version": "2.0.0",
       "_view_name": "LayoutView",
       "align_content": null,
       "align_items": null,
       "align_self": null,
       "border_bottom": null,
       "border_left": null,
       "border_right": null,
       "border_top": null,
       "bottom": null,
       "display": null,
       "flex": null,
       "flex_flow": null,
       "grid_area": null,
       "grid_auto_columns": null,
       "grid_auto_flow": null,
       "grid_auto_rows": null,
       "grid_column": null,
       "grid_gap": null,
       "grid_row": null,
       "grid_template_areas": null,
       "grid_template_columns": null,
       "grid_template_rows": null,
       "height": null,
       "justify_content": null,
       "justify_items": null,
       "left": null,
       "margin": null,
       "max_height": null,
       "max_width": null,
       "min_height": null,
       "min_width": null,
       "object_fit": null,
       "object_position": null,
       "order": null,
       "overflow": null,
       "padding": null,
       "right": null,
       "top": null,
       "visibility": null,
       "width": null
      }
     },
     "dfb920a309b74061ae356869f053b785": {
      "model_module": "@jupyter-widgets/controls",
      "model_module_version": "2.0.0",
      "model_name": "FloatProgressModel",
      "state": {
       "_dom_classes": [],
       "_model_module": "@jupyter-widgets/controls",
       "_model_module_version": "2.0.0",
       "_model_name": "FloatProgressModel",
       "_view_count": null,
       "_view_module": "@jupyter-widgets/controls",
       "_view_module_version": "2.0.0",
       "_view_name": "ProgressView",
       "bar_style": "success",
       "description": "",
       "description_allow_html": false,
       "layout": "IPY_MODEL_58e5b16097544b5eab6f53907cba5e63",
       "max": 805.0,
       "min": 0.0,
       "orientation": "horizontal",
       "style": "IPY_MODEL_6e8a9558dd1a4a629f118b90dfd1bbf6",
       "tabbable": null,
       "tooltip": null,
       "value": 805.0
      }
     },
     "e36ab3d4c07442cd8af1cf83cd27b32b": {
      "model_module": "@jupyter-widgets/base",
      "model_module_version": "2.0.0",
      "model_name": "LayoutModel",
      "state": {
       "_model_module": "@jupyter-widgets/base",
       "_model_module_version": "2.0.0",
       "_model_name": "LayoutModel",
       "_view_count": null,
       "_view_module": "@jupyter-widgets/base",
       "_view_module_version": "2.0.0",
       "_view_name": "LayoutView",
       "align_content": null,
       "align_items": null,
       "align_self": null,
       "border_bottom": null,
       "border_left": null,
       "border_right": null,
       "border_top": null,
       "bottom": null,
       "display": null,
       "flex": null,
       "flex_flow": null,
       "grid_area": null,
       "grid_auto_columns": null,
       "grid_auto_flow": null,
       "grid_auto_rows": null,
       "grid_column": null,
       "grid_gap": null,
       "grid_row": null,
       "grid_template_areas": null,
       "grid_template_columns": null,
       "grid_template_rows": null,
       "height": null,
       "justify_content": null,
       "justify_items": null,
       "left": null,
       "margin": null,
       "max_height": null,
       "max_width": null,
       "min_height": null,
       "min_width": null,
       "object_fit": null,
       "object_position": null,
       "order": null,
       "overflow": null,
       "padding": null,
       "right": null,
       "top": null,
       "visibility": null,
       "width": null
      }
     },
     "e418888e77164cf5858dba1e147b1369": {
      "model_module": "@jupyter-widgets/controls",
      "model_module_version": "2.0.0",
      "model_name": "ProgressStyleModel",
      "state": {
       "_model_module": "@jupyter-widgets/controls",
       "_model_module_version": "2.0.0",
       "_model_name": "ProgressStyleModel",
       "_view_count": null,
       "_view_module": "@jupyter-widgets/base",
       "_view_module_version": "2.0.0",
       "_view_name": "StyleView",
       "bar_color": null,
       "description_width": ""
      }
     },
     "e58e43b500da42179f0860fe7aa49220": {
      "model_module": "@jupyter-widgets/controls",
      "model_module_version": "2.0.0",
      "model_name": "FloatProgressModel",
      "state": {
       "_dom_classes": [],
       "_model_module": "@jupyter-widgets/controls",
       "_model_module_version": "2.0.0",
       "_model_name": "FloatProgressModel",
       "_view_count": null,
       "_view_module": "@jupyter-widgets/controls",
       "_view_module_version": "2.0.0",
       "_view_name": "ProgressView",
       "bar_style": "success",
       "description": "",
       "description_allow_html": false,
       "layout": "IPY_MODEL_8a8beb86fda04b3d88048511a2bd6fe2",
       "max": 805.0,
       "min": 0.0,
       "orientation": "horizontal",
       "style": "IPY_MODEL_e418888e77164cf5858dba1e147b1369",
       "tabbable": null,
       "tooltip": null,
       "value": 805.0
      }
     },
     "e5e64f1a7fca4d3c95f9189617c5e6fb": {
      "model_module": "@jupyter-widgets/controls",
      "model_module_version": "2.0.0",
      "model_name": "HTMLModel",
      "state": {
       "_dom_classes": [],
       "_model_module": "@jupyter-widgets/controls",
       "_model_module_version": "2.0.0",
       "_model_name": "HTMLModel",
       "_view_count": null,
       "_view_module": "@jupyter-widgets/controls",
       "_view_module_version": "2.0.0",
       "_view_name": "HTMLView",
       "description": "",
       "description_allow_html": false,
       "layout": "IPY_MODEL_23da80cb930e43ce9dc3c4bc32dfd691",
       "placeholder": "​",
       "style": "IPY_MODEL_749789b7532d482e968ac14220990eaf",
       "tabbable": null,
       "tooltip": null,
       "value": " 805/805 [20:49&lt;00:00,  1.26s/it]"
      }
     },
     "e7ecfbbee9564cb9ad8490e9598dacd6": {
      "model_module": "@jupyter-widgets/controls",
      "model_module_version": "2.0.0",
      "model_name": "HTMLStyleModel",
      "state": {
       "_model_module": "@jupyter-widgets/controls",
       "_model_module_version": "2.0.0",
       "_model_name": "HTMLStyleModel",
       "_view_count": null,
       "_view_module": "@jupyter-widgets/base",
       "_view_module_version": "2.0.0",
       "_view_name": "StyleView",
       "background": null,
       "description_width": "",
       "font_size": null,
       "text_color": null
      }
     },
     "e836684dd6714227b64d3d3c7b067ecb": {
      "model_module": "@jupyter-widgets/controls",
      "model_module_version": "2.0.0",
      "model_name": "FloatProgressModel",
      "state": {
       "_dom_classes": [],
       "_model_module": "@jupyter-widgets/controls",
       "_model_module_version": "2.0.0",
       "_model_name": "FloatProgressModel",
       "_view_count": null,
       "_view_module": "@jupyter-widgets/controls",
       "_view_module_version": "2.0.0",
       "_view_name": "ProgressView",
       "bar_style": "success",
       "description": "",
       "description_allow_html": false,
       "layout": "IPY_MODEL_2bebfceca8d34befabb8177b956a174b",
       "max": 805.0,
       "min": 0.0,
       "orientation": "horizontal",
       "style": "IPY_MODEL_ba1f30c6d41c4d568ec8128406c7c0e3",
       "tabbable": null,
       "tooltip": null,
       "value": 805.0
      }
     },
     "e8ea6bb410374d4ca992ca245735af92": {
      "model_module": "@jupyter-widgets/base",
      "model_module_version": "2.0.0",
      "model_name": "LayoutModel",
      "state": {
       "_model_module": "@jupyter-widgets/base",
       "_model_module_version": "2.0.0",
       "_model_name": "LayoutModel",
       "_view_count": null,
       "_view_module": "@jupyter-widgets/base",
       "_view_module_version": "2.0.0",
       "_view_name": "LayoutView",
       "align_content": null,
       "align_items": null,
       "align_self": null,
       "border_bottom": null,
       "border_left": null,
       "border_right": null,
       "border_top": null,
       "bottom": null,
       "display": null,
       "flex": null,
       "flex_flow": null,
       "grid_area": null,
       "grid_auto_columns": null,
       "grid_auto_flow": null,
       "grid_auto_rows": null,
       "grid_column": null,
       "grid_gap": null,
       "grid_row": null,
       "grid_template_areas": null,
       "grid_template_columns": null,
       "grid_template_rows": null,
       "height": null,
       "justify_content": null,
       "justify_items": null,
       "left": null,
       "margin": null,
       "max_height": null,
       "max_width": null,
       "min_height": null,
       "min_width": null,
       "object_fit": null,
       "object_position": null,
       "order": null,
       "overflow": null,
       "padding": null,
       "right": null,
       "top": null,
       "visibility": null,
       "width": null
      }
     },
     "ec8ef9080a834b33828c2ac1ce1cf793": {
      "model_module": "@jupyter-widgets/controls",
      "model_module_version": "2.0.0",
      "model_name": "HTMLStyleModel",
      "state": {
       "_model_module": "@jupyter-widgets/controls",
       "_model_module_version": "2.0.0",
       "_model_name": "HTMLStyleModel",
       "_view_count": null,
       "_view_module": "@jupyter-widgets/base",
       "_view_module_version": "2.0.0",
       "_view_name": "StyleView",
       "background": null,
       "description_width": "",
       "font_size": null,
       "text_color": null
      }
     },
     "efa6d50d8c704ac48d964d25454a624f": {
      "model_module": "@jupyter-widgets/controls",
      "model_module_version": "2.0.0",
      "model_name": "HTMLModel",
      "state": {
       "_dom_classes": [],
       "_model_module": "@jupyter-widgets/controls",
       "_model_module_version": "2.0.0",
       "_model_name": "HTMLModel",
       "_view_count": null,
       "_view_module": "@jupyter-widgets/controls",
       "_view_module_version": "2.0.0",
       "_view_name": "HTMLView",
       "description": "",
       "description_allow_html": false,
       "layout": "IPY_MODEL_746d5383cbea401ea7b6b6563c41b299",
       "placeholder": "​",
       "style": "IPY_MODEL_6ab67dd889e34eaf90c7dfa136f8c800",
       "tabbable": null,
       "tooltip": null,
       "value": " 805/805 [20:42&lt;00:00,  1.25s/it]"
      }
     },
     "fcad243b36684af5a3fe39984e04d257": {
      "model_module": "@jupyter-widgets/controls",
      "model_module_version": "2.0.0",
      "model_name": "HBoxModel",
      "state": {
       "_dom_classes": [],
       "_model_module": "@jupyter-widgets/controls",
       "_model_module_version": "2.0.0",
       "_model_name": "HBoxModel",
       "_view_count": null,
       "_view_module": "@jupyter-widgets/controls",
       "_view_module_version": "2.0.0",
       "_view_name": "HBoxView",
       "box_style": "",
       "children": [
        "IPY_MODEL_38666fb2fa0547f1a28a40469d1af361",
        "IPY_MODEL_c4c4011db68d483385f7fceb86796bda",
        "IPY_MODEL_7aab216603004113a79cbaf33c0d3b27"
       ],
       "layout": "IPY_MODEL_e8ea6bb410374d4ca992ca245735af92",
       "tabbable": null,
       "tooltip": null
      }
     },
     "fe2654181f6649c2ae2fdcaf4e8078eb": {
      "model_module": "@jupyter-widgets/controls",
      "model_module_version": "2.0.0",
      "model_name": "HBoxModel",
      "state": {
       "_dom_classes": [],
       "_model_module": "@jupyter-widgets/controls",
       "_model_module_version": "2.0.0",
       "_model_name": "HBoxModel",
       "_view_count": null,
       "_view_module": "@jupyter-widgets/controls",
       "_view_module_version": "2.0.0",
       "_view_name": "HBoxView",
       "box_style": "",
       "children": [
        "IPY_MODEL_7f2d222b11b94f0b83ce2f51ce11e394",
        "IPY_MODEL_8b3681663d4c40b59df4de4d24fbbb26",
        "IPY_MODEL_9ed32795834741e3a1a290a6b754653a"
       ],
       "layout": "IPY_MODEL_3c58d583f99a4c28ae6289d31e858abe",
       "tabbable": null,
       "tooltip": null
      }
     }
    },
    "version_major": 2,
    "version_minor": 0
   }
  }
 },
 "nbformat": 4,
 "nbformat_minor": 5
}
